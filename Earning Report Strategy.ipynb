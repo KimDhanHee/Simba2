{
 "cells": [
  {
   "cell_type": "code",
   "execution_count": 61,
   "id": "42c7279b",
   "metadata": {},
   "outputs": [],
   "source": [
    "from urllib.request import urlopen\n",
    "import certifi\n",
    "import json\n",
    "from datetime import datetime\n",
    "import calendar\n",
    "from functools import reduce\n",
    "from operator import mul\n",
    "\n",
    "import pandas as pd\n",
    "import yfinance as yf"
   ]
  },
  {
   "cell_type": "code",
   "execution_count": 2,
   "id": "9a4f5ccf",
   "metadata": {},
   "outputs": [],
   "source": [
    "import warnings\n",
    "\n",
    "warnings.filterwarnings(action='ignore')"
   ]
  },
  {
   "cell_type": "code",
   "execution_count": 3,
   "id": "1e9a06a6",
   "metadata": {},
   "outputs": [],
   "source": [
    "API_KEY = \"e558vSI8LyRrCGv5TqWJtFTAcMDoVD7c\"\n",
    "\n",
    "FETCH_STOCKS_URL = (\n",
    "    f\"https://financialmodelingprep.com/api/v3/stock-screener?apikey={API_KEY}&\"\n",
    "    f\"exchange=nyse,nasdaq&isEtf=false&isFund=false&limit=10000\"\n",
    ")\n",
    "RATIO_URL = f\"https://financialmodelingprep.com/api/v3/ratios/%s?period=quarter&apikey={API_KEY}\"\n",
    "EARNING_URL = f\"https://financialmodelingprep.com/api/v3/earnings-surprises/%s?apikey={API_KEY}\"\n",
    "HISTORICAL_PRICE_URL = f\"https://financialmodelingprep.com/api/v3/historical-price-full/%s?apikey={API_KEY}&from=%s&to=%s\""
   ]
  },
  {
   "cell_type": "code",
   "execution_count": 4,
   "id": "7c945608",
   "metadata": {},
   "outputs": [],
   "source": [
    "def get_jsonparsed_data(url):\n",
    "    response = urlopen(url, cafile=certifi.where())\n",
    "    data = response.read().decode(\"utf-8\")\n",
    "    return json.loads(data)"
   ]
  },
  {
   "cell_type": "code",
   "execution_count": 5,
   "id": "2ba5efa1",
   "metadata": {},
   "outputs": [],
   "source": [
    "def corps_total_rank_by_standard_columns(df, column_map) -> pd.DataFrame:\n",
    "    report_df = df.copy()\n",
    "    rank_df = pd.DataFrame(index=report_df.index)\n",
    "    total_value = pd.Series([0] * len(report_df), index=report_df.index)\n",
    "\n",
    "    for col, ascending in column_map.items():\n",
    "        total_value += report_df[col].rank(ascending=ascending)\n",
    "\n",
    "    rank_df['total_rank'] = total_value.rank()\n",
    "    rank_df = rank_df.sort_values(by='total_rank')\n",
    "    report_df['rank'] = rank_df['total_rank']\n",
    "\n",
    "    return report_df.loc[rank_df.index]"
   ]
  },
  {
   "cell_type": "code",
   "execution_count": 83,
   "id": "dc5acdde",
   "metadata": {},
   "outputs": [
    {
     "data": {
      "text/plain": [
       "7856"
      ]
     },
     "execution_count": 83,
     "metadata": {},
     "output_type": "execute_result"
    }
   ],
   "source": [
    "stocks = get_jsonparsed_data(FETCH_STOCKS_URL)\n",
    "len(stocks)"
   ]
  },
  {
   "cell_type": "code",
   "execution_count": 84,
   "id": "af403b1d",
   "metadata": {},
   "outputs": [],
   "source": [
    "tickers = list(map(lambda stock: stock[\"symbol\"], stocks))\n",
    "tickers = sorted(tickers)"
   ]
  },
  {
   "cell_type": "code",
   "execution_count": 106,
   "id": "160e0965",
   "metadata": {
    "scrolled": true
   },
   "outputs": [
    {
     "name": "stdout",
     "output_type": "stream",
     "text": [
      "======= A 2000-02-17 ~ 2024-11-25 1 / 7856 ========\n",
      "======= AA 2017-01-24 ~ 2024-10-16 2 / 7856 ========\n",
      "AAC not exist\n",
      "======= AACG 2008-05-15 ~ 2023-05-11 4 / 7856 ========\n",
      "AACI not exist\n",
      "AACT not exist\n",
      "======= AADI 2018-05-15 ~ 2024-11-06 7 / 7856 ========\n",
      "AAGR not exist\n"
     ]
    },
    {
     "name": "stderr",
     "output_type": "stream",
     "text": [
      "AAIC: No timezone found, symbol may be delisted\n"
     ]
    },
    {
     "name": "stdout",
     "output_type": "stream",
     "text": [
      "======= AAIC 1998-04-23 ~ 2023-08-14 9 / 7856 ========\n",
      "AAIN not exist\n",
      "======= AAL 1993-01-20 ~ 2024-10-24 11 / 7856 ========\n",
      "AAME not exist\n"
     ]
    },
    {
     "name": "stderr",
     "output_type": "stream",
     "text": [
      "AAN: No timezone found, symbol may be delisted\n"
     ]
    },
    {
     "name": "stdout",
     "output_type": "stream",
     "text": [
      "======= AAN 1993-01-27 ~ 2024-10-28 13 / 7856 ========\n",
      "======= AAOI 2014-02-27 ~ 2024-11-07 14 / 7856 ========\n",
      "======= AAON 1994-07-12 ~ 2024-11-07 15 / 7856 ========\n",
      "======= AAP 2002-02-20 ~ 2024-11-14 16 / 7856 ========\n",
      "======= AAPL 1995-07-20 ~ 2024-10-31 17 / 7856 ========\n",
      "AAQC not exist\n",
      "======= AAT 2011-08-09 ~ 2024-10-29 19 / 7856 ========\n"
     ]
    },
    {
     "name": "stderr",
     "output_type": "stream",
     "text": [
      "AAWW: No timezone found, symbol may be delisted\n"
     ]
    },
    {
     "name": "stdout",
     "output_type": "stream",
     "text": [
      "======= AAWW 1995-10-23 ~ 2023-02-23 20 / 7856 ========\n",
      "======= AB 1993-02-10 ~ 2024-10-24 21 / 7856 ========\n",
      "======= ABAT 2023-09-28 ~ 2024-11-14 22 / 7856 ========\n"
     ]
    },
    {
     "name": "stderr",
     "output_type": "stream",
     "text": [
      "ABB: No timezone found, symbol may be delisted\n"
     ]
    },
    {
     "name": "stdout",
     "output_type": "stream",
     "text": [
      "======= ABB 2004-07-29 ~ 2023-07-20 23 / 7856 ========\n",
      "======= ABBV 2013-01-23 ~ 2024-10-30 24 / 7856 ========\n"
     ]
    },
    {
     "name": "stderr",
     "output_type": "stream",
     "text": [
      "ABC: No timezone found, symbol may be delisted\n"
     ]
    },
    {
     "name": "stdout",
     "output_type": "stream",
     "text": [
      "======= ABC 1995-07-26 ~ 2023-11-02 25 / 7856 ========\n",
      "======= ABCB 1998-04-16 ~ 2024-10-24 26 / 7856 ========\n",
      "======= ABCL 2021-03-29 ~ 2024-11-04 27 / 7856 ========\n"
     ]
    },
    {
     "name": "stderr",
     "output_type": "stream",
     "text": [
      "ABCM: No timezone found, symbol may be delisted\n"
     ]
    },
    {
     "name": "stdout",
     "output_type": "stream",
     "text": [
      "======= ABCM 2023-03-20 ~ 2023-03-20 28 / 7856 ========\n",
      "======= ABEO 2002-03-28 ~ 2024-11-14 29 / 7856 ========\n",
      "======= ABEV 2014-02-26 ~ 2024-10-31 30 / 7856 ========\n",
      "======= ABG 2002-04-25 ~ 2024-10-29 31 / 7856 ========\n",
      "ABGI not exist\n"
     ]
    },
    {
     "name": "stderr",
     "output_type": "stream",
     "text": [
      "ABIO: No timezone found, symbol may be delisted\n"
     ]
    },
    {
     "name": "stdout",
     "output_type": "stream",
     "text": [
      "======= ABIO 1997-10-21 ~ 2014-11-12 33 / 7856 ========\n",
      "======= ABL 2024-08-12 ~ 2024-11-07 34 / 7856 ========\n",
      "ABLLL not exist\n",
      "ABLV not exist\n",
      "======= ABM 1993-09-14 ~ 2024-09-06 37 / 7856 ========\n"
     ]
    },
    {
     "name": "stderr",
     "output_type": "stream",
     "text": [
      "ABMD: No timezone found, symbol may be delisted\n"
     ]
    },
    {
     "name": "stdout",
     "output_type": "stream",
     "text": [
      "======= ABMD 1994-10-26 ~ 2022-11-01 38 / 7856 ========\n",
      "======= ABNB 2021-02-25 ~ 2024-11-07 39 / 7856 ========\n",
      "======= ABOS 2021-08-16 ~ 2024-08-13 40 / 7856 ========\n",
      "ABP not exist\n",
      "ABPWW not exist\n",
      "======= ABR 2004-07-30 ~ 2024-11-01 43 / 7856 ========\n",
      "======= ABSI 2021-09-07 ~ 2024-11-12 44 / 7856 ========\n"
     ]
    },
    {
     "name": "stderr",
     "output_type": "stream",
     "text": [
      "ABST: No timezone found, symbol may be delisted\n"
     ]
    },
    {
     "name": "stdout",
     "output_type": "stream",
     "text": [
      "======= ABST 2006-11-01 ~ 2023-08-22 45 / 7856 ========\n",
      "======= ABT 1993-01-16 ~ 2024-10-16 46 / 7856 ========\n",
      "ABTS not exist\n"
     ]
    },
    {
     "name": "stderr",
     "output_type": "stream",
     "text": [
      "ABTX: No timezone found, symbol may be delisted\n"
     ]
    },
    {
     "name": "stdout",
     "output_type": "stream",
     "text": [
      "======= ABTX 2016-01-26 ~ 2022-07-29 48 / 7856 ========\n",
      "======= ABUS 2007-08-08 ~ 2024-11-06 49 / 7856 ========\n",
      "======= ABVC 2021-03-16 ~ 2023-05-15 50 / 7856 ========\n",
      "ABVE not exist\n",
      "======= ABVX 2024-04-02 ~ 2024-09-09 52 / 7856 ========\n",
      "AC not exist\n",
      "======= ACA 2019-02-27 ~ 2024-10-30 54 / 7856 ========\n",
      "ACAB not exist\n",
      "ACAC not exist\n",
      "======= ACAD 2004-08-11 ~ 2024-11-06 57 / 7856 ========\n",
      "ACAH not exist\n",
      "ACAQ not exist\n",
      "ACAX not exist\n",
      "======= ACB 2017-05-15 ~ 2024-11-06 61 / 7856 ========\n",
      "ACBA not exist\n"
     ]
    },
    {
     "name": "stderr",
     "output_type": "stream",
     "text": [
      "ACBI: No timezone found, symbol may be delisted\n"
     ]
    },
    {
     "name": "stdout",
     "output_type": "stream",
     "text": [
      "======= ACBI 2015-11-13 ~ 2022-01-24 63 / 7856 ========\n"
     ]
    },
    {
     "name": "stderr",
     "output_type": "stream",
     "text": [
      "ACC: No timezone found, symbol may be delisted\n"
     ]
    },
    {
     "name": "stdout",
     "output_type": "stream",
     "text": [
      "======= ACC 2005-10-31 ~ 2022-04-25 64 / 7856 ========\n",
      "======= ACCD 2020-08-13 ~ 2024-10-08 65 / 7856 ========\n",
      "======= ACCO 2006-05-03 ~ 2024-10-31 66 / 7856 ========\n",
      "======= ACDC 2022-06-16 ~ 2024-11-06 67 / 7856 ========\n",
      "ACDI not exist\n",
      "======= ACEL 2020-05-11 ~ 2024-10-30 69 / 7856 ========\n"
     ]
    },
    {
     "name": "stderr",
     "output_type": "stream",
     "text": [
      "ACER: No timezone found, symbol may be delisted\n"
     ]
    },
    {
     "name": "stdout",
     "output_type": "stream",
     "text": [
      "======= ACER 2007-03-19 ~ 2023-11-20 70 / 7856 ========\n",
      "======= ACET 2018-03-29 ~ 2024-11-06 71 / 7856 ========\n",
      "ACEV not exist\n",
      "======= ACGL 1996-02-16 ~ 2024-10-30 73 / 7856 ========\n"
     ]
    },
    {
     "name": "stderr",
     "output_type": "stream",
     "text": [
      "ACGN: No timezone found, symbol may be delisted\n"
     ]
    },
    {
     "name": "stdout",
     "output_type": "stream",
     "text": [
      "======= ACGN 1996-11-13 ~ 2023-06-29 74 / 7856 ========\n",
      "ACH not exist\n",
      "======= ACHC 1999-05-12 ~ 2024-10-30 76 / 7856 ========\n",
      "======= ACHL 2021-05-11 ~ 2024-08-14 77 / 7856 ========\n",
      "======= ACHR 2021-11-11 ~ 2024-11-07 78 / 7856 ========\n",
      "======= ACHV 1996-02-15 ~ 2024-11-07 79 / 7856 ========\n",
      "======= ACI 2020-07-27 ~ 2024-10-15 80 / 7856 ========\n",
      "======= ACIC 2024-02-29 ~ 2024-11-06 81 / 7856 ========\n",
      "ACICU not exist\n",
      "ACII not exist\n",
      "======= ACIU 2016-11-11 ~ 2024-11-05 84 / 7856 ========\n",
      "======= ACIW 1995-04-20 ~ 2024-11-07 85 / 7856 ========\n",
      "ACKIT not exist\n",
      "======= ACLS 2000-10-16 ~ 2024-11-06 87 / 7856 ========\n",
      "======= ACLX 2022-03-24 ~ 2024-11-07 88 / 7856 ========\n",
      "======= ACM 2007-08-08 ~ 2024-11-18 89 / 7856 ========\n",
      "======= ACMR 2017-12-07 ~ 2024-11-07 90 / 7856 ========\n",
      "======= ACN 2001-10-11 ~ 2024-09-26 91 / 7856 ========\n",
      "======= ACNB 2023-07-27 ~ 2024-10-24 92 / 7856 ========\n",
      "======= ACNT 1993-02-16 ~ 2024-08-06 93 / 7856 ========\n",
      "ACOG not exist\n",
      "======= ACON 2022-08-15 ~ 2024-08-14 95 / 7856 ========\n"
     ]
    },
    {
     "name": "stderr",
     "output_type": "stream",
     "text": [
      "ACOR: No timezone found, symbol may be delisted\n"
     ]
    },
    {
     "name": "stdout",
     "output_type": "stream",
     "text": [
      "======= ACOR 2006-05-05 ~ 2023-03-09 96 / 7856 ========\n",
      "ACQR not exist\n",
      "======= ACR 2006-05-08 ~ 2024-10-30 98 / 7856 ========\n",
      "======= ACRE 2012-08-14 ~ 2024-11-07 99 / 7856 ========\n",
      "ACRO not exist\n",
      "======= ACRS 2015-11-18 ~ 2024-11-06 101 / 7856 ========\n",
      "======= ACRV 2022-11-14 ~ 2024-08-13 102 / 7856 ========\n"
     ]
    },
    {
     "name": "stderr",
     "output_type": "stream",
     "text": [
      "ACRX: No timezone found, symbol may be delisted\n"
     ]
    },
    {
     "name": "stdout",
     "output_type": "stream",
     "text": [
      "======= ACRX 2011-08-11 ~ 2023-11-08 103 / 7856 ========\n",
      "======= ACST 2014-07-15 ~ 2024-08-09 104 / 7856 ========\n",
      "======= ACT 2021-11-02 ~ 2024-11-06 105 / 7856 ========\n"
     ]
    },
    {
     "name": "stderr",
     "output_type": "stream",
     "text": [
      "ACTD: No timezone found, symbol may be delisted\n"
     ]
    },
    {
     "name": "stdout",
     "output_type": "stream",
     "text": [
      "======= ACTD 2022-05-16 ~ 2022-05-16 106 / 7856 ========\n",
      "======= ACTG 1998-05-14 ~ 2024-08-08 107 / 7856 ========\n",
      "======= ACVA 2021-05-13 ~ 2024-11-07 108 / 7856 ========\n",
      "======= ACXP 2022-03-17 ~ 2024-08-09 109 / 7856 ========\n",
      "======= ADAG 2021-03-31 ~ 2024-03-29 110 / 7856 ========\n",
      "ADAL not exist\n",
      "======= ADAP 2015-10-13 ~ 2024-11-13 112 / 7856 ========\n",
      "======= ADBE 1993-03-16 ~ 2024-09-12 113 / 7856 ========\n",
      "======= ADC 2003-10-29 ~ 2024-10-22 114 / 7856 ========\n",
      "======= ADCT 2020-08-18 ~ 2024-11-07 115 / 7856 ========\n",
      "======= ADD 2010-05-17 ~ 2011-09-23 116 / 7856 ========\n",
      "======= ADEA 2004-01-27 ~ 2024-11-07 117 / 7856 ========\n",
      "ADER not exist\n"
     ]
    },
    {
     "name": "stderr",
     "output_type": "stream",
     "text": [
      "ADES: No timezone found, symbol may be delisted\n"
     ]
    },
    {
     "name": "stdout",
     "output_type": "stream",
     "text": [
      "======= ADES 2005-08-11 ~ 2024-03-13 119 / 7856 ========\n",
      "ADEX not exist\n",
      "ADEX-WT not exist\n",
      "ADF not exist\n"
     ]
    },
    {
     "name": "stderr",
     "output_type": "stream",
     "text": [
      "ADGI: No timezone found, symbol may be delisted\n"
     ]
    },
    {
     "name": "stdout",
     "output_type": "stream",
     "text": [
      "======= ADGI 2021-09-20 ~ 2022-08-15 123 / 7856 ========\n",
      "ADGM not exist\n",
      "======= ADI 1993-02-17 ~ 2024-11-26 125 / 7856 ========\n",
      "======= ADIL 2018-11-14 ~ 2024-11-13 126 / 7856 ========\n",
      "======= ADM 1993-01-16 ~ 2024-11-18 127 / 7856 ========\n",
      "======= ADMA 2014-05-12 ~ 2024-11-07 128 / 7856 ========\n"
     ]
    },
    {
     "name": "stderr",
     "output_type": "stream",
     "text": [
      "ADMP: No timezone found, symbol may be delisted\n"
     ]
    },
    {
     "name": "stdout",
     "output_type": "stream",
     "text": [
      "======= ADMP 1997-12-03 ~ 2022-08-10 129 / 7856 ========\n"
     ]
    },
    {
     "name": "stderr",
     "output_type": "stream",
     "text": [
      "ADMS: No timezone found, symbol may be delisted\n"
     ]
    },
    {
     "name": "stdout",
     "output_type": "stream",
     "text": [
      "======= ADMS 2014-08-07 ~ 2021-11-10 130 / 7856 ========\n",
      "======= ADN 2021-08-12 ~ 2023-11-14 131 / 7856 ========\n",
      "======= ADNT 2017-02-03 ~ 2024-11-08 132 / 7856 ========\n",
      "ADOC not exist\n"
     ]
    },
    {
     "name": "stderr",
     "output_type": "stream",
     "text": [
      "ADOM: No timezone found, symbol may be delisted\n"
     ]
    },
    {
     "name": "stdout",
     "output_type": "stream",
     "text": [
      "======= ADOM 2018-08-02 ~ 2021-11-12 134 / 7856 ========\n",
      "======= ADP 1993-01-16 ~ 2024-10-30 135 / 7856 ========\n",
      "======= ADPT 2019-08-13 ~ 2024-11-07 136 / 7856 ========\n"
     ]
    },
    {
     "name": "stderr",
     "output_type": "stream",
     "text": [
      "ADS: No timezone found, symbol may be delisted\n"
     ]
    },
    {
     "name": "stdout",
     "output_type": "stream",
     "text": [
      "======= ADS 2001-10-17 ~ 2022-01-27 137 / 7856 ========\n",
      "======= ADSE 2022-04-28 ~ 2024-05-09 138 / 7856 ========\n",
      "======= ADSK 1993-02-23 ~ 2024-11-26 139 / 7856 ========\n",
      "======= ADT 2018-03-15 ~ 2024-10-24 140 / 7856 ========\n"
     ]
    },
    {
     "name": "stderr",
     "output_type": "stream",
     "text": [
      "ADTH: No timezone found, symbol may be delisted\n"
     ]
    },
    {
     "name": "stdout",
     "output_type": "stream",
     "text": [
      "======= ADTH 2022-03-03 ~ 2024-08-01 141 / 7856 ========\n",
      "======= ADTN 1995-01-18 ~ 2024-11-07 142 / 7856 ========\n",
      "======= ADTX 2020-11-12 ~ 2024-11-18 143 / 7856 ========\n",
      "ADUR not exist\n",
      "======= ADUS 2010-05-13 ~ 2024-11-04 145 / 7856 ========\n",
      "======= ADV 2021-03-16 ~ 2024-11-07 146 / 7856 ========\n",
      "======= ADVM 2014-11-12 ~ 2024-11-04 147 / 7856 ========\n",
      "======= ADXN 2021-05-05 ~ 2024-11-22 148 / 7856 ========\n",
      "AEAC not exist\n",
      "AEAE not exist\n",
      "======= AEE 1993-02-03 ~ 2024-11-06 151 / 7856 ========\n",
      "======= AEG 1994-05-18 ~ 2024-08-22 152 / 7856 ========\n",
      "AEHA not exist\n",
      "======= AEHL 2011-08-10 ~ 2012-08-15 154 / 7856 ========\n",
      "======= AEHR 1998-01-28 ~ 2024-10-10 155 / 7856 ========\n",
      "AEI not exist\n",
      "======= AEIS 1996-02-14 ~ 2024-10-30 157 / 7856 ========\n"
     ]
    },
    {
     "name": "stderr",
     "output_type": "stream",
     "text": [
      "AEL: No timezone found, symbol may be delisted\n"
     ]
    },
    {
     "name": "stdout",
     "output_type": "stream",
     "text": [
      "======= AEL 2004-04-26 ~ 2024-05-13 158 / 7856 ========\n",
      "======= AEM 1993-02-24 ~ 2024-10-30 159 / 7856 ========\n",
      "======= AEMD 2009-02-17 ~ 2024-11-13 160 / 7856 ========\n",
      "======= AENT 2024-09-19 ~ 2024-11-12 161 / 7856 ========\n"
     ]
    },
    {
     "name": "stderr",
     "output_type": "stream",
     "text": [
      "AENZ: No timezone found, symbol may be delisted\n"
     ]
    },
    {
     "name": "stdout",
     "output_type": "stream",
     "text": [
      "======= AENZ 2013-10-29 ~ 2016-01-29 162 / 7856 ========\n",
      "======= AEO 1994-06-14 ~ 2024-12-04 163 / 7856 ========\n",
      "======= AEON 2024-05-14 ~ 2024-08-12 164 / 7856 ========\n",
      "======= AEP 1993-01-16 ~ 2024-11-06 165 / 7856 ========\n",
      "======= AER 2007-02-28 ~ 2024-10-30 166 / 7856 ========\n"
     ]
    },
    {
     "name": "stderr",
     "output_type": "stream",
     "text": [
      "AERC: No timezone found, symbol may be delisted\n"
     ]
    },
    {
     "name": "stdout",
     "output_type": "stream",
     "text": [
      "======= AERC 2022-03-31 ~ 2022-11-14 167 / 7856 ========\n"
     ]
    },
    {
     "name": "stderr",
     "output_type": "stream",
     "text": [
      "AERI: No timezone found, symbol may be delisted\n"
     ]
    },
    {
     "name": "stdout",
     "output_type": "stream",
     "text": [
      "======= AERI 2014-03-18 ~ 2022-11-03 168 / 7856 ========\n",
      "AERT not exist\n",
      "======= AES 1993-02-10 ~ 2024-10-31 170 / 7856 ========\n",
      "AESC not exist\n"
     ]
    },
    {
     "name": "stderr",
     "output_type": "stream",
     "text": [
      "AESE: No timezone found, symbol may be delisted\n"
     ]
    },
    {
     "name": "stdout",
     "output_type": "stream",
     "text": [
      "======= AESE 2020-03-16 ~ 2021-11-22 172 / 7856 ========\n",
      "======= AESI 2023-05-08 ~ 2024-10-28 173 / 7856 ========\n",
      "======= AEVA 2021-06-02 ~ 2024-11-06 174 / 7856 ========\n"
     ]
    },
    {
     "name": "stderr",
     "output_type": "stream",
     "text": [
      "AEY: No data found, symbol may be delisted\n"
     ]
    },
    {
     "name": "stdout",
     "output_type": "stream",
     "text": [
      "======= AEY 2006-12-11 ~ 2008-02-11 175 / 7856 ========\n",
      "======= AEYE 2018-11-14 ~ 2024-11-07 176 / 7856 ========\n"
     ]
    },
    {
     "name": "stderr",
     "output_type": "stream",
     "text": [
      "AEZS: No timezone found, symbol may be delisted\n"
     ]
    },
    {
     "name": "stdout",
     "output_type": "stream",
     "text": [
      "======= AEZS 2002-04-17 ~ 2024-05-14 177 / 7856 ========\n",
      "AFAC not exist\n",
      "AFAQ not exist\n",
      "AFAR not exist\n",
      "AFBI not exist\n",
      "======= AFCG 2021-05-11 ~ 2024-11-13 182 / 7856 ========\n",
      "AFCGV not exist\n",
      "======= AFG 1993-02-16 ~ 2024-11-05 184 / 7856 ========\n",
      "AFGB not exist\n",
      "AFGC not exist\n",
      "======= AFGD 1993-02-16 ~ 2020-08-04 187 / 7856 ========\n",
      "AFGE not exist\n"
     ]
    },
    {
     "name": "stderr",
     "output_type": "stream",
     "text": [
      "AFI: No timezone found, symbol may be delisted\n"
     ]
    },
    {
     "name": "stdout",
     "output_type": "stream",
     "text": [
      "======= AFI 2016-05-09 ~ 2020-05-07 189 / 7856 ========\n",
      "======= AFIB 2020-11-12 ~ 2024-03-14 190 / 7856 ========\n",
      "unsupported operand type(s) for -: 'NoneType' and 'float'\n"
     ]
    },
    {
     "name": "stderr",
     "output_type": "stream",
     "text": [
      "AFIN: No timezone found, symbol may be delisted\n"
     ]
    },
    {
     "name": "stdout",
     "output_type": "stream",
     "text": [
      "======= AFIN 2018-11-06 ~ 2022-02-23 191 / 7856 ========\n",
      "AFJK not exist\n",
      "======= AFL 1993-02-03 ~ 2024-10-30 193 / 7856 ========\n",
      "======= AFMD 2014-11-18 ~ 2024-11-14 194 / 7856 ========\n",
      "AFRI not exist\n",
      "======= AFRM 2021-02-11 ~ 2024-11-07 196 / 7856 ========\n",
      "AFTR not exist\n",
      "======= AFYA 2019-08-30 ~ 2024-11-13 198 / 7856 ========\n",
      "======= AG 2007-08-29 ~ 2024-11-07 199 / 7856 ========\n",
      "AGAC not exist\n",
      "======= AGAE 2020-03-16 ~ 2021-11-22 201 / 7856 ========\n",
      "AGBA not exist\n",
      "AGC not exist\n",
      "AGCB not exist\n",
      "======= AGCO 1993-02-18 ~ 2024-11-05 205 / 7856 ========\n",
      "======= AGEN 2000-04-24 ~ 2024-11-12 206 / 7856 ========\n"
     ]
    },
    {
     "name": "stderr",
     "output_type": "stream",
     "text": [
      "AGFS: No timezone found, symbol may be delisted\n"
     ]
    },
    {
     "name": "stdout",
     "output_type": "stream",
     "text": [
      "======= AGFS 2016-03-11 ~ 2023-03-10 207 / 7856 ========\n",
      "======= AGFY 2021-05-18 ~ 2023-05-10 208 / 7856 ========\n",
      "AGGR not exist\n",
      "======= AGI 2003-08-15 ~ 2024-11-06 210 / 7856 ========\n"
     ]
    },
    {
     "name": "stderr",
     "output_type": "stream",
     "text": [
      "AGIL: No timezone found, symbol may be delisted\n"
     ]
    },
    {
     "name": "stdout",
     "output_type": "stream",
     "text": [
      "======= AGIL 2021-11-15 ~ 2023-11-20 211 / 7856 ========\n",
      "======= AGIO 2013-11-07 ~ 2024-10-31 212 / 7856 ========\n",
      "======= AGL 2021-08-04 ~ 2024-11-07 213 / 7856 ========\n"
     ]
    },
    {
     "name": "stderr",
     "output_type": "stream",
     "text": [
      "AGLE: No timezone found, symbol may be delisted\n"
     ]
    },
    {
     "name": "stdout",
     "output_type": "stream",
     "text": [
      "======= AGLE 2016-05-20 ~ 2023-11-09 214 / 7856 ========\n",
      "======= AGM 1997-04-22 ~ 2024-11-04 215 / 7856 ========\n",
      "AGMH not exist\n",
      "======= AGNC 2008-10-29 ~ 2024-10-21 217 / 7856 ========\n",
      "======= AGO 2004-08-03 ~ 2024-11-11 218 / 7856 ========\n",
      "======= AGR 2016-04-25 ~ 2024-10-22 219 / 7856 ========\n",
      "======= AGRI 2022-05-16 ~ 2023-03-13 220 / 7856 ========\n",
      "======= AGRO 2011-11-16 ~ 2024-11-13 221 / 7856 ========\n"
     ]
    },
    {
     "name": "stderr",
     "output_type": "stream",
     "text": [
      "AGRX: No timezone found, symbol may be delisted\n"
     ]
    },
    {
     "name": "stdout",
     "output_type": "stream",
     "text": [
      "======= AGRX 2014-08-14 ~ 2024-05-15 222 / 7856 ========\n",
      "======= AGS 2018-03-14 ~ 2024-11-07 223 / 7856 ========\n"
     ]
    },
    {
     "name": "stderr",
     "output_type": "stream",
     "text": [
      "AGTC: No timezone found, symbol may be delisted\n"
     ]
    },
    {
     "name": "stdout",
     "output_type": "stream",
     "text": [
      "======= AGTC 2014-05-14 ~ 2022-11-21 224 / 7856 ========\n"
     ]
    },
    {
     "name": "stderr",
     "output_type": "stream",
     "text": [
      "AGTI: No timezone found, symbol may be delisted\n"
     ]
    },
    {
     "name": "stdout",
     "output_type": "stream",
     "text": [
      "======= AGTI 2021-05-18 ~ 2024-05-14 225 / 7856 ========\n",
      "======= AGX 2013-04-10 ~ 2024-12-05 226 / 7856 ========\n",
      "======= AGYS 1993-01-13 ~ 2024-10-28 227 / 7856 ========\n",
      "AHAC not exist\n",
      "AHC not exist\n",
      "======= AHCO 2020-02-25 ~ 2024-11-05 230 / 7856 ========\n"
     ]
    },
    {
     "name": "stderr",
     "output_type": "stream",
     "text": [
      "AHG: No price data found, symbol may be delisted (1d 2018-06-15 -> 2018-06-15)\n"
     ]
    },
    {
     "name": "stdout",
     "output_type": "stream",
     "text": [
      "======= AHG 2018-06-15 ~ 2018-06-15 231 / 7856 ========\n",
      "======= AHH 2013-08-13 ~ 2024-11-04 232 / 7856 ========\n",
      "AHI not exist\n",
      "AHPA not exist\n"
     ]
    },
    {
     "name": "stderr",
     "output_type": "stream",
     "text": [
      "AHPI: No timezone found, symbol may be delisted\n"
     ]
    },
    {
     "name": "stdout",
     "output_type": "stream",
     "text": [
      "======= AHPI 1993-01-25 ~ 2004-02-09 235 / 7856 ========\n",
      "======= AHR 2024-03-21 ~ 2024-11-12 236 / 7856 ========\n",
      "AHRN not exist\n",
      "======= AHT 2004-08-04 ~ 2024-11-05 238 / 7856 ========\n",
      "======= AI 1998-04-23 ~ 2024-09-04 239 / 7856 ========\n",
      "AIB not exist\n",
      "AIC not exist\n",
      "AIEV not exist\n",
      "AIFF not exist\n",
      "======= AIFU 2022-05-26 ~ 2023-03-13 244 / 7856 ========\n",
      "======= AIG 1993-04-29 ~ 2024-11-04 245 / 7856 ========\n",
      "AIH not exist\n",
      "AIHS not exist\n"
     ]
    },
    {
     "name": "stderr",
     "output_type": "stream",
     "text": [
      "AIKI: No timezone found, symbol may be delisted\n"
     ]
    },
    {
     "name": "stdout",
     "output_type": "stream",
     "text": [
      "======= AIKI 2010-05-14 ~ 2023-03-27 248 / 7856 ========\n",
      "======= AILE 2024-05-16 ~ 2024-12-03 249 / 7856 ========\n",
      "AIMAW not exist\n"
     ]
    },
    {
     "name": "stderr",
     "output_type": "stream",
     "text": [
      "AIMC: No timezone found, symbol may be delisted\n"
     ]
    },
    {
     "name": "stdout",
     "output_type": "stream",
     "text": [
      "======= AIMC 2007-04-26 ~ 2023-03-01 251 / 7856 ========\n"
     ]
    },
    {
     "name": "stderr",
     "output_type": "stream",
     "text": [
      "AIMD: Data doesn't exist for startDate = 1174881600, endDate = 1179115200\n"
     ]
    },
    {
     "name": "stdout",
     "output_type": "stream",
     "text": [
      "======= AIMD 2007-03-26 ~ 2007-05-14 252 / 7856 ========\n",
      "======= AIN 1993-01-28 ~ 2024-10-30 253 / 7856 ========\n"
     ]
    },
    {
     "name": "stderr",
     "output_type": "stream",
     "text": [
      "AINV: No timezone found, symbol may be delisted\n"
     ]
    },
    {
     "name": "stdout",
     "output_type": "stream",
     "text": [
      "======= AINV 2004-11-08 ~ 2022-08-02 254 / 7856 ========\n",
      "======= AIOT 2024-03-12 ~ 2024-11-12 255 / 7856 ========\n",
      "======= AIP 2021-11-30 ~ 2024-11-05 256 / 7856 ========\n",
      "======= AIR 1993-03-20 ~ 2024-09-23 257 / 7856 ========\n"
     ]
    },
    {
     "name": "stderr",
     "output_type": "stream",
     "text": [
      "AIRC: No timezone found, symbol may be delisted\n"
     ]
    },
    {
     "name": "stdout",
     "output_type": "stream",
     "text": [
      "======= AIRC 2021-02-10 ~ 2024-07-25 258 / 7856 ========\n",
      "AIRE not exist\n",
      "======= AIRG 2016-11-10 ~ 2024-08-06 260 / 7856 ========\n",
      "AIRJ not exist\n",
      "======= AIRS 2021-12-03 ~ 2024-11-08 262 / 7856 ========\n",
      "AIRT not exist\n",
      "======= AISP 2024-08-14 ~ 2024-11-14 264 / 7856 ========\n",
      "======= AIT 1993-01-22 ~ 2024-10-24 265 / 7856 ========\n",
      "AITR not exist\n"
     ]
    },
    {
     "name": "stderr",
     "output_type": "stream",
     "text": [
      "AIU: No timezone found, symbol may be delisted\n"
     ]
    },
    {
     "name": "stdout",
     "output_type": "stream",
     "text": [
      "======= AIU 2018-07-31 ~ 2021-05-13 267 / 7856 ========\n",
      "======= AIV 2001-11-09 ~ 2024-11-07 268 / 7856 ========\n"
     ]
    },
    {
     "name": "stderr",
     "output_type": "stream",
     "text": [
      "AIW: No timezone found, symbol may be delisted\n"
     ]
    },
    {
     "name": "stdout",
     "output_type": "stream",
     "text": [
      "======= AIW 1998-04-23 ~ 2020-07-30 269 / 7856 ========\n"
     ]
    },
    {
     "name": "stderr",
     "output_type": "stream",
     "text": [
      "AIXI: No price data found, symbol may be delisted (1d 2024-04-30 -> 2024-04-30)\n"
     ]
    },
    {
     "name": "stdout",
     "output_type": "stream",
     "text": [
      "======= AIXI 2024-04-30 ~ 2024-04-30 270 / 7856 ========\n",
      "======= AIZ 2004-08-05 ~ 2024-11-05 271 / 7856 ========\n",
      "AIZN not exist\n",
      "AJAX not exist\n",
      "======= AJG 1993-01-19 ~ 2024-10-24 274 / 7856 ========\n"
     ]
    },
    {
     "name": "stderr",
     "output_type": "stream",
     "text": [
      "AJRD: No timezone found, symbol may be delisted\n"
     ]
    },
    {
     "name": "stdout",
     "output_type": "stream",
     "text": [
      "======= AJRD 1993-03-12 ~ 2023-08-07 275 / 7856 ========\n",
      "======= AJX 2015-05-04 ~ 2024-10-21 276 / 7856 ========\n",
      "AJXA not exist\n",
      "======= AKA 2021-11-09 ~ 2024-11-07 278 / 7856 ========\n",
      "======= AKAM 2000-01-27 ~ 2024-11-07 279 / 7856 ========\n",
      "AKAN not exist\n",
      "======= AKBA 2014-05-12 ~ 2024-11-07 281 / 7856 ========\n",
      "AKIC not exist\n"
     ]
    },
    {
     "name": "stderr",
     "output_type": "stream",
     "text": [
      "AKLI: No timezone found, symbol may be delisted\n"
     ]
    },
    {
     "name": "stdout",
     "output_type": "stream",
     "text": [
      "======= AKLI 2022-11-14 ~ 2024-05-14 283 / 7856 ========\n",
      "AKO not exist\n",
      "======= AKO-B 1995-05-01 ~ 2024-10-29 285 / 7856 ========\n",
      "======= AKR 2004-02-17 ~ 2024-10-28 286 / 7856 ========\n",
      "======= AKRO 2019-08-12 ~ 2024-11-08 287 / 7856 ========\n",
      "======= AKTS 2016-02-16 ~ 2024-10-02 288 / 7856 ========\n",
      "======= AKTX 2016-08-11 ~ 2023-10-12 289 / 7856 ========\n"
     ]
    },
    {
     "name": "stderr",
     "output_type": "stream",
     "text": [
      "AKU: No timezone found, symbol may be delisted\n"
     ]
    },
    {
     "name": "stdout",
     "output_type": "stream",
     "text": [
      "======= AKU 2018-05-15 ~ 2021-03-31 290 / 7856 ========\n"
     ]
    },
    {
     "name": "stderr",
     "output_type": "stream",
     "text": [
      "AKUS: No timezone found, symbol may be delisted\n"
     ]
    },
    {
     "name": "stdout",
     "output_type": "stream",
     "text": [
      "======= AKUS 2020-08-13 ~ 2022-11-14 291 / 7856 ========\n",
      "======= AKYA 2021-05-18 ~ 2024-08-05 292 / 7856 ========\n",
      "======= AL 2011-08-11 ~ 2024-11-07 293 / 7856 ========\n",
      "======= ALAB 2024-05-07 ~ 2024-11-04 294 / 7856 ========\n",
      "ALAC not exist\n",
      "======= ALAR 2021-11-30 ~ 2024-11-25 296 / 7856 ========\n",
      "======= ALB 1994-07-19 ~ 2024-11-06 297 / 7856 ========\n"
     ]
    },
    {
     "name": "stderr",
     "output_type": "stream",
     "text": [
      "ALBO: No timezone found, symbol may be delisted\n"
     ]
    },
    {
     "name": "stdout",
     "output_type": "stream",
     "text": [
      "======= ALBO 2007-07-30 ~ 2023-03-07 298 / 7856 ========\n",
      "ALBT not exist\n",
      "======= ALC 2019-05-15 ~ 2024-11-12 300 / 7856 ========\n",
      "ALCC not exist\n",
      "ALCE not exist\n",
      "======= ALCO 2009-05-11 ~ 2024-12-02 303 / 7856 ========\n",
      "ALCY not exist\n",
      "ALDFU not exist\n",
      "======= ALDX 2014-08-04 ~ 2024-11-07 306 / 7856 ========\n",
      "======= ALE 1993-01-26 ~ 2024-10-30 307 / 7856 ========\n",
      "======= ALEC 2019-03-26 ~ 2024-11-06 308 / 7856 ========\n",
      "======= ALEX 2012-08-01 ~ 2024-10-24 309 / 7856 ========\n",
      "ALFUU not exist\n",
      "ALFUW not exist\n",
      "======= ALG 1993-07-22 ~ 2024-10-31 312 / 7856 ========\n",
      "======= ALGM 2021-02-02 ~ 2024-10-31 313 / 7856 ========\n",
      "======= ALGN 2001-04-26 ~ 2024-10-23 314 / 7856 ========\n",
      "======= ALGS 2020-11-25 ~ 2024-11-06 315 / 7856 ========\n",
      "======= ALGT 2007-01-30 ~ 2024-10-30 316 / 7856 ========\n",
      "======= ALHC 2021-05-17 ~ 2024-10-29 317 / 7856 ========\n"
     ]
    },
    {
     "name": "stderr",
     "output_type": "stream",
     "text": [
      "ALIM: No data found, symbol may be delisted\n"
     ]
    },
    {
     "name": "stdout",
     "output_type": "stream",
     "text": [
      "======= ALIM 2010-08-12 ~ 2024-08-06 318 / 7856 ========\n",
      "======= ALIT 2021-11-09 ~ 2024-11-12 319 / 7856 ========\n"
     ]
    },
    {
     "name": "stderr",
     "output_type": "stream",
     "text": [
      "ALJJ: No timezone found, symbol may be delisted\n"
     ]
    },
    {
     "name": "stdout",
     "output_type": "stream",
     "text": [
      "======= ALJJ 1999-09-27 ~ 2000-05-15 320 / 7856 ========\n",
      "======= ALK 1993-01-26 ~ 2024-10-31 321 / 7856 ========\n",
      "======= ALKS 1993-11-15 ~ 2024-10-24 322 / 7856 ========\n",
      "ALKSV not exist\n",
      "======= ALKT 2021-05-11 ~ 2024-10-30 324 / 7856 ========\n",
      "======= ALL 1993-09-03 ~ 2024-10-30 325 / 7856 ========\n",
      "======= ALLE 2014-02-19 ~ 2024-10-24 326 / 7856 ========\n"
     ]
    },
    {
     "name": "stderr",
     "output_type": "stream",
     "text": [
      "ALLG: No timezone found, symbol may be delisted\n"
     ]
    },
    {
     "name": "stdout",
     "output_type": "stream",
     "text": [
      "======= ALLG 2022-05-13 ~ 2024-05-16 327 / 7856 ========\n",
      "======= ALLK 2018-08-29 ~ 2024-11-06 328 / 7856 ========\n",
      "======= ALLO 2019-03-08 ~ 2024-11-07 329 / 7856 ========\n",
      "======= ALLR 2022-08-22 ~ 2024-11-14 330 / 7856 ========\n",
      "======= ALLT 2007-05-09 ~ 2024-08-27 331 / 7856 ========\n",
      "======= ALLY 2014-07-29 ~ 2024-10-18 332 / 7856 ========\n"
     ]
    },
    {
     "name": "stderr",
     "output_type": "stream",
     "text": [
      "ALMS: No price data found, symbol may be delisted (1d 2024-08-13 -> 2024-08-13)\n"
     ]
    },
    {
     "name": "stdout",
     "output_type": "stream",
     "text": [
      "======= ALMS 2024-08-13 ~ 2024-08-13 333 / 7856 ========\n"
     ]
    },
    {
     "name": "stderr",
     "output_type": "stream",
     "text": [
      "ALNA: No timezone found, symbol may be delisted\n"
     ]
    },
    {
     "name": "stdout",
     "output_type": "stream",
     "text": [
      "======= ALNA 2017-12-14 ~ 2022-08-15 334 / 7856 ========\n",
      "======= ALNT 2023-03-07 ~ 2024-11-07 335 / 7856 ========\n",
      "======= ALNY 2004-08-04 ~ 2024-10-31 336 / 7856 ========\n",
      "ALOHA not exist\n",
      "ALOR not exist\n",
      "======= ALOT 2003-11-18 ~ 2022-04-14 339 / 7856 ========\n",
      "ALP-PQ not exist\n",
      "ALPA not exist\n",
      "ALPAU not exist\n"
     ]
    },
    {
     "name": "stderr",
     "output_type": "stream",
     "text": [
      "ALPN: No timezone found, symbol may be delisted\n"
     ]
    },
    {
     "name": "stdout",
     "output_type": "stream",
     "text": [
      "======= ALPN 2015-08-03 ~ 2024-05-09 343 / 7856 ========\n",
      "======= ALPP 2021-11-04 ~ 2024-06-06 344 / 7856 ========\n",
      "ALPS not exist\n",
      "ALPX not exist\n"
     ]
    },
    {
     "name": "stderr",
     "output_type": "stream",
     "text": [
      "ALR: No timezone found, symbol may be delisted\n"
     ]
    },
    {
     "name": "stdout",
     "output_type": "stream",
     "text": [
      "======= ALR 2002-12-03 ~ 2023-03-15 347 / 7856 ========\n",
      "======= ALRM 2015-08-06 ~ 2024-11-07 348 / 7856 ========\n",
      "======= ALRN 2017-08-10 ~ 2024-11-14 349 / 7856 ========\n",
      "======= ALRS 2019-10-24 ~ 2024-10-29 350 / 7856 ========\n",
      "ALSA not exist\n"
     ]
    },
    {
     "name": "stderr",
     "output_type": "stream",
     "text": [
      "ALSK: No timezone found, symbol may be delisted\n"
     ]
    },
    {
     "name": "stdout",
     "output_type": "stream",
     "text": [
      "======= ALSK 2000-05-03 ~ 2018-11-05 352 / 7856 ========\n",
      "======= ALSN 2012-07-30 ~ 2024-10-29 353 / 7856 ========\n",
      "======= ALT 2008-11-13 ~ 2024-08-08 354 / 7856 ========\n"
     ]
    },
    {
     "name": "stderr",
     "output_type": "stream",
     "text": [
      "ALTA: No timezone found, symbol may be delisted\n"
     ]
    },
    {
     "name": "stdout",
     "output_type": "stream",
     "text": [
      "======= ALTA 2015-07-28 ~ 2021-07-28 355 / 7856 ========\n",
      "======= ALTG 2020-05-14 ~ 2024-11-12 356 / 7856 ========\n",
      "======= ALTI 2023-05-22 ~ 2024-11-08 357 / 7856 ========\n",
      "======= ALTM 2019-02-11 ~ 2024-11-07 358 / 7856 ========\n",
      "======= ALTO 2006-05-15 ~ 2024-11-06 359 / 7856 ========\n",
      "======= ALTR 2017-11-30 ~ 2024-10-30 360 / 7856 ========\n",
      "ALTS not exist\n",
      "ALTU not exist\n",
      "======= ALUR 2024-05-14 ~ 2024-08-13 363 / 7856 ========\n",
      "ALUS not exist\n",
      "======= ALV 1997-08-05 ~ 2024-10-18 365 / 7856 ========\n",
      "======= ALVO 2023-08-30 ~ 2024-08-15 366 / 7856 ========\n",
      "======= ALVR 2020-11-10 ~ 2024-08-09 367 / 7856 ========\n",
      "======= ALX 2009-11-02 ~ 2024-11-04 368 / 7856 ========\n"
     ]
    },
    {
     "name": "stderr",
     "output_type": "stream",
     "text": [
      "ALXN: No timezone found, symbol may be delisted\n"
     ]
    },
    {
     "name": "stdout",
     "output_type": "stream",
     "text": [
      "======= ALXN 1996-06-18 ~ 2021-04-30 369 / 7856 ========\n",
      "======= ALXO 2020-08-27 ~ 2024-11-07 370 / 7856 ========\n"
     ]
    },
    {
     "name": "stderr",
     "output_type": "stream",
     "text": [
      "ALYA: No timezone found, symbol may be delisted\n"
     ]
    },
    {
     "name": "stdout",
     "output_type": "stream",
     "text": [
      "======= ALYA 1997-02-06 ~ 2024-02-14 371 / 7856 ========\n",
      "======= ALZN 2021-12-13 ~ 2024-09-11 372 / 7856 ========\n",
      "======= AM 2017-08-02 ~ 2024-10-30 373 / 7856 ========\n",
      "======= AMAL 2018-09-24 ~ 2024-10-24 374 / 7856 ========\n"
     ]
    },
    {
     "name": "stderr",
     "output_type": "stream",
     "text": [
      "AMAM: No timezone found, symbol may be delisted\n"
     ]
    },
    {
     "name": "stdout",
     "output_type": "stream",
     "text": [
      "======= AMAM 2021-10-28 ~ 2023-11-16 375 / 7856 ========\n",
      "AMAO not exist\n",
      "======= AMAT 1993-08-17 ~ 2024-11-14 377 / 7856 ========\n",
      "======= AMBA 2013-03-07 ~ 2024-11-26 378 / 7856 ========\n",
      "======= AMBC 1993-01-28 ~ 2024-11-12 379 / 7856 ========\n",
      "AMBI not exist\n",
      "======= AMBP 2021-10-28 ~ 2024-10-24 381 / 7856 ========\n",
      "======= AMC 2014-04-29 ~ 2024-11-06 382 / 7856 ========\n",
      "AMCI not exist\n",
      "======= AMCR 2019-08-20 ~ 2024-10-31 384 / 7856 ========\n",
      "======= AMCX 2011-11-10 ~ 2024-11-08 385 / 7856 ========\n",
      "======= AMD 1993-01-08 ~ 2024-10-29 386 / 7856 ========\n",
      "======= AME 1997-11-18 ~ 2024-10-31 387 / 7856 ========\n",
      "======= AMED 2002-11-11 ~ 2024-11-06 388 / 7856 ========\n"
     ]
    },
    {
     "name": "stderr",
     "output_type": "stream",
     "text": [
      "AMEH: No timezone found, symbol may be delisted\n"
     ]
    },
    {
     "name": "stdout",
     "output_type": "stream",
     "text": [
      "======= AMEH 2018-08-14 ~ 2024-02-27 389 / 7856 ========\n",
      "======= AMG 1998-02-10 ~ 2024-11-04 390 / 7856 ========\n",
      "======= AMGN 1993-02-05 ~ 2024-10-30 391 / 7856 ========\n",
      "======= AMH 2013-11-07 ~ 2024-10-29 392 / 7856 ========\n",
      "AMHC not exist\n",
      "AMIX not exist\n"
     ]
    },
    {
     "name": "stderr",
     "output_type": "stream",
     "text": [
      "AMK: No timezone found, symbol may be delisted\n"
     ]
    },
    {
     "name": "stdout",
     "output_type": "stream",
     "text": [
      "======= AMK 2019-08-28 ~ 2024-07-18 395 / 7856 ========\n",
      "======= AMKR 1998-08-20 ~ 2024-10-28 396 / 7856 ========\n",
      "======= AMLI 2022-01-30 ~ 2024-05-30 397 / 7856 ========\n",
      "======= AMLX 2022-05-12 ~ 2024-11-07 398 / 7856 ========\n",
      "======= AMN 2002-04-23 ~ 2024-11-07 399 / 7856 ========\n"
     ]
    },
    {
     "name": "stderr",
     "output_type": "stream",
     "text": [
      "AMNB: No timezone found, symbol may be delisted\n"
     ]
    },
    {
     "name": "stdout",
     "output_type": "stream",
     "text": [
      "======= AMNB 1999-07-20 ~ 2024-04-23 400 / 7856 ========\n"
     ]
    },
    {
     "name": "stderr",
     "output_type": "stream",
     "text": [
      "AMOT: No timezone found, symbol may be delisted\n"
     ]
    },
    {
     "name": "stdout",
     "output_type": "stream",
     "text": [
      "======= AMOT 2016-05-04 ~ 2023-11-01 401 / 7856 ========\n",
      "AMOV not exist\n",
      "======= AMP 2005-10-24 ~ 2024-10-23 403 / 7856 ========\n",
      "======= AMPG 2021-08-16 ~ 2024-08-14 404 / 7856 ========\n",
      "======= AMPH 2014-08-12 ~ 2024-11-06 405 / 7856 ========\n",
      "AMPI not exist\n",
      "======= AMPL 2021-11-09 ~ 2024-11-07 407 / 7856 ========\n",
      "======= AMPS 2022-03-24 ~ 2024-08-08 408 / 7856 ========\n",
      "======= AMPX 2022-11-10 ~ 2024-11-07 409 / 7856 ========\n",
      "======= AMPY 2012-08-13 ~ 2024-11-06 410 / 7856 ========\n",
      "======= AMR 2017-03-31 ~ 2024-11-01 411 / 7856 ========\n"
     ]
    },
    {
     "name": "stderr",
     "output_type": "stream",
     "text": [
      "AMRB: No timezone found, symbol may be delisted\n"
     ]
    },
    {
     "name": "stdout",
     "output_type": "stream",
     "text": [
      "======= AMRB 2001-04-23 ~ 2021-07-22 412 / 7856 ========\n",
      "======= AMRC 2010-10-29 ~ 2024-11-07 413 / 7856 ========\n",
      "======= AMRK 2015-11-10 ~ 2024-11-06 414 / 7856 ========\n",
      "======= AMRN 1993-07-16 ~ 2024-10-30 415 / 7856 ========\n"
     ]
    },
    {
     "name": "stderr",
     "output_type": "stream",
     "text": [
      "AMRS: Period '1mo' is invalid, must be one of ['1d', '5d']\n"
     ]
    },
    {
     "name": "stdout",
     "output_type": "stream",
     "text": [
      "======= AMRS 2010-11-04 ~ 2023-08-22 416 / 7856 ========\n",
      "======= AMRX 2000-07-31 ~ 2024-11-08 417 / 7856 ========\n",
      "======= AMSC 1995-08-09 ~ 2024-10-30 418 / 7856 ========\n",
      "======= AMSF 2006-02-28 ~ 2024-10-23 419 / 7856 ========\n",
      "======= AMST 2021-02-12 ~ 2021-05-14 420 / 7856 ========\n"
     ]
    },
    {
     "name": "stderr",
     "output_type": "stream",
     "text": [
      "AMSWA: No timezone found, symbol may be delisted\n"
     ]
    },
    {
     "name": "stdout",
     "output_type": "stream",
     "text": [
      "======= AMSWA 1993-02-22 ~ 2024-08-22 421 / 7856 ========\n",
      "======= AMT 1998-11-16 ~ 2024-10-29 422 / 7856 ========\n",
      "======= AMTB 2019-01-29 ~ 2024-10-23 423 / 7856 ========\n",
      "======= AMTD 1997-10-28 ~ 2020-05-15 424 / 7856 ========\n"
     ]
    },
    {
     "name": "stderr",
     "output_type": "stream",
     "text": [
      "AMTI: No timezone found, symbol may be delisted\n"
     ]
    },
    {
     "name": "stdout",
     "output_type": "stream",
     "text": [
      "======= AMTI 2020-08-11 ~ 2023-11-09 425 / 7856 ========\n",
      "AMTM not exist\n",
      "======= AMTX 2014-11-12 ~ 2024-11-12 427 / 7856 ========\n"
     ]
    },
    {
     "name": "stderr",
     "output_type": "stream",
     "text": [
      "AMV: No timezone found, symbol may be delisted\n"
     ]
    },
    {
     "name": "stdout",
     "output_type": "stream",
     "text": [
      "======= AMV 2023-03-16 ~ 2023-05-12 428 / 7856 ========\n",
      "======= AMWD 1994-06-28 ~ 2024-11-26 429 / 7856 ========\n",
      "======= AMWL 2020-11-12 ~ 2024-10-30 430 / 7856 ========\n",
      "======= AMX 2002-02-15 ~ 2024-10-15 431 / 7856 ========\n"
     ]
    },
    {
     "name": "stderr",
     "output_type": "stream",
     "text": [
      "AMYT: Period '1mo' is invalid, must be one of ['1d', '5d']\n"
     ]
    },
    {
     "name": "stdout",
     "output_type": "stream",
     "text": [
      "======= AMYT 2020-08-06 ~ 2023-03-08 432 / 7856 ========\n",
      "======= AMZN 1997-07-10 ~ 2024-10-31 433 / 7856 ========\n",
      "======= AN 1993-02-16 ~ 2024-10-25 434 / 7856 ========\n",
      "======= ANAB 2017-03-08 ~ 2024-11-05 435 / 7856 ========\n",
      "ANAC not exist\n"
     ]
    },
    {
     "name": "stderr",
     "output_type": "stream",
     "text": [
      "ANAT: No timezone found, symbol may be delisted\n"
     ]
    },
    {
     "name": "stdout",
     "output_type": "stream",
     "text": [
      "======= ANAT 1993-02-20 ~ 2010-10-25 437 / 7856 ========\n",
      "ANDA not exist\n",
      "======= ANDE 1996-08-08 ~ 2024-11-04 439 / 7856 ========\n",
      "======= ANEB 2021-06-21 ~ 2024-09-25 440 / 7856 ========\n",
      "======= ANET 2014-11-06 ~ 2024-11-07 441 / 7856 ========\n",
      "======= ANF 1996-11-18 ~ 2024-11-26 442 / 7856 ========\n",
      "ANGH not exist\n",
      "======= ANGI 2012-02-22 ~ 2024-08-06 444 / 7856 ========\n"
     ]
    },
    {
     "name": "stderr",
     "output_type": "stream",
     "text": [
      "ANGN: No timezone found, symbol may be delisted\n"
     ]
    },
    {
     "name": "stdout",
     "output_type": "stream",
     "text": [
      "======= ANGN 2021-05-17 ~ 2023-08-21 445 / 7856 ========\n",
      "======= ANGO 2004-10-07 ~ 2024-10-03 446 / 7856 ========\n",
      "======= ANIK 1997-08-21 ~ 2024-10-31 447 / 7856 ========\n",
      "======= ANIP 2004-05-17 ~ 2024-11-08 448 / 7856 ========\n",
      "======= ANIX 2019-01-11 ~ 2024-09-06 449 / 7856 ========\n"
     ]
    },
    {
     "name": "stderr",
     "output_type": "stream",
     "text": [
      "ANL: No price data found, symbol may be delisted (1d 2024-04-20 -> 2024-04-20)\n"
     ]
    },
    {
     "name": "stdout",
     "output_type": "stream",
     "text": [
      "======= ANL 2024-04-20 ~ 2024-04-20 450 / 7856 ========\n",
      "======= ANNX 2020-09-08 ~ 2024-11-14 451 / 7856 ========\n",
      "ANPC not exist\n",
      "======= ANRO 2024-03-21 ~ 2024-08-13 453 / 7856 ========\n",
      "ANSC not exist\n",
      "======= ANSS 1996-10-21 ~ 2024-11-06 455 / 7856 ========\n",
      "======= ANTE 2008-05-07 ~ 2013-03-14 456 / 7856 ========\n"
     ]
    },
    {
     "name": "stderr",
     "output_type": "stream",
     "text": [
      "ANTM: No timezone found, symbol may be delisted\n"
     ]
    },
    {
     "name": "stdout",
     "output_type": "stream",
     "text": [
      "======= ANTM 2002-02-06 ~ 2022-07-20 457 / 7856 ========\n",
      "======= ANTX 2022-05-10 ~ 2024-11-13 458 / 7856 ========\n",
      "======= ANVS 2020-07-29 ~ 2024-11-08 459 / 7856 ========\n",
      "======= ANY 2015-03-30 ~ 2024-08-13 460 / 7856 ========\n",
      "ANZU not exist\n",
      "AOGO not exist\n",
      "======= AOMR 2021-08-12 ~ 2024-11-06 463 / 7856 ========\n",
      "======= AON 1993-05-04 ~ 2024-10-25 464 / 7856 ========\n",
      "AONC not exist\n",
      "AONE not exist\n",
      "======= AORT 1993-07-28 ~ 2024-11-07 467 / 7856 ========\n",
      "======= AOS 1993-01-19 ~ 2024-10-22 468 / 7856 ========\n",
      "======= AOSL 2010-08-10 ~ 2024-11-04 469 / 7856 ========\n",
      "======= AOUT 2020-09-03 ~ 2024-09-05 470 / 7856 ========\n",
      "======= AP 2009-04-28 ~ 2024-08-12 471 / 7856 ========\n",
      "======= APA 1993-02-02 ~ 2024-11-07 472 / 7856 ========\n",
      "APAC not exist\n",
      "======= APAM 2013-07-24 ~ 2024-10-29 474 / 7856 ========\n",
      "APCA not exist\n",
      "======= APCX 2023-11-14 ~ 2024-08-14 476 / 7856 ========\n",
      "======= APD 1993-01-22 ~ 2024-11-07 477 / 7856 ========\n",
      "======= APDN 2011-05-16 ~ 2024-08-08 478 / 7856 ========\n",
      "APE not exist\n",
      "======= APEI 2008-03-11 ~ 2024-08-06 480 / 7856 ========\n"
     ]
    },
    {
     "name": "stderr",
     "output_type": "stream",
     "text": [
      "APEN: No timezone found, symbol may be delisted\n"
     ]
    },
    {
     "name": "stdout",
     "output_type": "stream",
     "text": [
      "======= APEN 2007-11-13 ~ 2023-05-01 481 / 7856 ========\n",
      "======= APG 2020-06-02 ~ 2024-10-31 482 / 7856 ========\n",
      "APGB not exist\n",
      "======= APGE 2023-08-28 ~ 2024-11-12 484 / 7856 ========\n"
     ]
    },
    {
     "name": "stderr",
     "output_type": "stream",
     "text": [
      "APGN: No timezone found, symbol may be delisted\n"
     ]
    },
    {
     "name": "stdout",
     "output_type": "stream",
     "text": [
      "======= APGN 2022-11-15 ~ 2023-08-10 485 / 7856 ========\n",
      "======= APH 1996-10-16 ~ 2024-10-23 486 / 7856 ========\n",
      "======= API 2020-08-17 ~ 2024-11-25 487 / 7856 ========\n",
      "======= APLD 2022-05-13 ~ 2024-10-09 488 / 7856 ========\n",
      "======= APLE 2015-11-05 ~ 2024-11-04 489 / 7856 ========\n",
      "======= APLM 2023-09-28 ~ 2024-06-27 490 / 7856 ========\n",
      "======= APLS 2017-12-20 ~ 2024-11-05 491 / 7856 ========\n",
      "======= APLT 2019-06-21 ~ 2024-11-07 492 / 7856 ========\n",
      "======= APM 2021-04-19 ~ 2022-04-29 493 / 7856 ========\n",
      "APMI not exist\n",
      "APN not exist\n",
      "======= APO 2011-08-09 ~ 2024-11-05 496 / 7856 ========\n",
      "======= APOG 1993-09-21 ~ 2024-10-04 497 / 7856 ========\n"
     ]
    },
    {
     "name": "stderr",
     "output_type": "stream",
     "text": [
      "APOP: No timezone found, symbol may be delisted\n"
     ]
    },
    {
     "name": "stdout",
     "output_type": "stream",
     "text": [
      "======= APOP 2017-03-23 ~ 2018-11-13 498 / 7856 ========\n",
      "APOPW not exist\n",
      "======= APP 2021-05-12 ~ 2024-11-06 500 / 7856 ========\n",
      "======= APPF 2015-08-06 ~ 2024-10-24 501 / 7856 ========\n"
     ]
    },
    {
     "name": "stderr",
     "output_type": "stream",
     "text": [
      "APPH: No timezone found, symbol may be delisted\n"
     ]
    },
    {
     "name": "stdout",
     "output_type": "stream",
     "text": [
      "======= APPH 2021-02-25 ~ 2023-08-02 502 / 7856 ========\n",
      "======= APPN 2017-08-03 ~ 2024-11-07 503 / 7856 ========\n",
      "======= APPS 2009-08-20 ~ 2024-11-06 504 / 7856 ========\n"
     ]
    },
    {
     "name": "stderr",
     "output_type": "stream",
     "text": [
      "APR: No timezone found, symbol may be delisted\n"
     ]
    },
    {
     "name": "stdout",
     "output_type": "stream",
     "text": [
      "======= APR 2021-05-13 ~ 2022-02-28 505 / 7856 ========\n",
      "======= APRE 2019-11-14 ~ 2024-11-07 506 / 7856 ========\n"
     ]
    },
    {
     "name": "stderr",
     "output_type": "stream",
     "text": [
      "APRN: No data found, symbol may be delisted\n"
     ]
    },
    {
     "name": "stdout",
     "output_type": "stream",
     "text": [
      "======= APRN 2017-08-10 ~ 2023-11-09 507 / 7856 ========\n",
      "APSG not exist\n",
      "APTM not exist\n",
      "======= APTO 2014-04-10 ~ 2024-08-08 510 / 7856 ========\n"
     ]
    },
    {
     "name": "stderr",
     "output_type": "stream",
     "text": [
      "APTS: No timezone found, symbol may be delisted\n"
     ]
    },
    {
     "name": "stdout",
     "output_type": "stream",
     "text": [
      "======= APTS 2011-08-15 ~ 2022-05-09 511 / 7856 ========\n",
      "======= APTV 2012-04-24 ~ 2024-10-31 512 / 7856 ========\n"
     ]
    },
    {
     "name": "stderr",
     "output_type": "stream",
     "text": [
      "APTX: No timezone found, symbol may be delisted\n"
     ]
    },
    {
     "name": "stdout",
     "output_type": "stream",
     "text": [
      "======= APTX 2018-08-14 ~ 2023-05-18 513 / 7856 ========\n",
      "======= APVO 2016-11-14 ~ 2024-11-07 514 / 7856 ========\n"
     ]
    },
    {
     "name": "stderr",
     "output_type": "stream",
     "text": [
      "APWC: Data doesn't exist for startDate = 874036800, endDate = 879397200\n"
     ]
    },
    {
     "name": "stdout",
     "output_type": "stream",
     "text": [
      "======= APWC 1997-09-12 ~ 1997-11-13 515 / 7856 ========\n",
      "APXI not exist\n",
      "APXT not exist\n",
      "======= APYX 2009-08-10 ~ 2024-11-08 518 / 7856 ========\n",
      "======= AQB 2018-08-07 ~ 2024-11-05 519 / 7856 ========\n",
      "======= AQMS 2015-11-10 ~ 2024-11-14 520 / 7856 ========\n",
      "======= AQN 2003-04-09 ~ 2024-11-07 521 / 7856 ========\n",
      "AQNA not exist\n",
      "AQNB not exist\n",
      "AQNU not exist\n",
      "======= AQST 2018-11-06 ~ 2024-11-04 525 / 7856 ========\n",
      "AQU not exist\n"
     ]
    },
    {
     "name": "stderr",
     "output_type": "stream",
     "text": [
      "AQUA: No timezone found, symbol may be delisted\n"
     ]
    },
    {
     "name": "stdout",
     "output_type": "stream",
     "text": [
      "======= AQUA 2017-12-01 ~ 2023-05-02 527 / 7856 ========\n",
      "======= AR 2013-11-06 ~ 2024-10-30 528 / 7856 ========\n"
     ]
    },
    {
     "name": "stderr",
     "output_type": "stream",
     "text": [
      "ARAV: No timezone found, symbol may be delisted\n"
     ]
    },
    {
     "name": "stdout",
     "output_type": "stream",
     "text": [
      "======= ARAV 2014-05-05 ~ 2023-11-09 529 / 7856 ========\n",
      "======= ARAY 2007-05-01 ~ 2024-11-06 530 / 7856 ========\n",
      "ARBB not exist\n",
      "======= ARBE 2021-12-07 ~ 2024-08-06 532 / 7856 ========\n",
      "ARBG not exist\n",
      "======= ARBK 2022-04-28 ~ 2024-11-20 534 / 7856 ========\n",
      "ARBKL not exist\n",
      "======= ARC 2005-05-03 ~ 2024-11-04 536 / 7856 ========\n",
      "======= ARCB 1993-01-19 ~ 2024-11-01 537 / 7856 ========\n",
      "======= ARCC 2005-02-15 ~ 2024-10-30 538 / 7856 ========\n"
     ]
    },
    {
     "name": "stderr",
     "output_type": "stream",
     "text": [
      "ARCE: No timezone found, symbol may be delisted\n"
     ]
    },
    {
     "name": "stdout",
     "output_type": "stream",
     "text": [
      "======= ARCE 2018-11-27 ~ 2023-12-07 539 / 7856 ========\n",
      "======= ARCH 2016-11-09 ~ 2024-11-05 540 / 7856 ========\n",
      "ARCK not exist\n",
      "======= ARCO 2011-08-01 ~ 2024-11-13 542 / 7856 ========\n",
      "======= ARCT 2013-08-06 ~ 2024-11-07 543 / 7856 ========\n"
     ]
    },
    {
     "name": "stderr",
     "output_type": "stream",
     "text": [
      "ARD: No timezone found, symbol may be delisted\n"
     ]
    },
    {
     "name": "stdout",
     "output_type": "stream",
     "text": [
      "======= ARD 2017-04-27 ~ 2021-08-04 544 / 7856 ========\n",
      "======= ARDS 2018-09-26 ~ 2023-11-06 545 / 7856 ========\n",
      "======= ARDT 2024-08-14 ~ 2024-11-06 546 / 7856 ========\n",
      "======= ARDX 2014-08-07 ~ 2024-10-31 547 / 7856 ========\n",
      "======= ARE 2001-08-09 ~ 2024-10-21 548 / 7856 ========\n",
      "======= AREB 2022-11-15 ~ 2023-04-14 549 / 7856 ========\n",
      "======= AREC 2019-11-18 ~ 2024-08-19 550 / 7856 ========\n",
      "======= ARES 2014-08-13 ~ 2024-11-01 551 / 7856 ========\n",
      "ARGD not exist\n"
     ]
    },
    {
     "name": "stderr",
     "output_type": "stream",
     "text": [
      "ARGO: No timezone found, symbol may be delisted\n"
     ]
    },
    {
     "name": "stdout",
     "output_type": "stream",
     "text": [
      "======= ARGO 1993-02-12 ~ 2023-11-06 553 / 7856 ========\n",
      "======= ARGO-PA 1993-02-12 ~ 2020-08-03 554 / 7856 ========\n",
      "ARGU not exist\n",
      "======= ARGX 2017-08-24 ~ 2024-10-31 556 / 7856 ========\n",
      "======= ARHS 2021-12-09 ~ 2024-11-07 557 / 7856 ========\n",
      "======= ARI 2009-11-16 ~ 2024-10-30 558 / 7856 ========\n",
      "======= ARIS 2022-02-28 ~ 2024-11-04 559 / 7856 ========\n",
      "ARIZ not exist\n",
      "======= ARKO 2021-03-25 ~ 2024-11-07 561 / 7856 ========\n",
      "======= ARKR 1993-04-22 ~ 2010-08-13 562 / 7856 ========\n",
      "======= ARL 2009-05-15 ~ 2010-11-15 563 / 7856 ========\n",
      "======= ARLO 2018-10-25 ~ 2024-11-07 564 / 7856 ========\n",
      "======= ARLP 1999-11-01 ~ 2024-10-28 565 / 7856 ========\n",
      "======= ARM 2023-11-08 ~ 2024-11-06 566 / 7856 ========\n",
      "======= ARMK 2014-02-05 ~ 2024-11-11 567 / 7856 ========\n"
     ]
    },
    {
     "name": "stderr",
     "output_type": "stream",
     "text": [
      "ARNA: No timezone found, symbol may be delisted\n"
     ]
    },
    {
     "name": "stdout",
     "output_type": "stream",
     "text": [
      "======= ARNA 2000-10-25 ~ 2022-02-23 568 / 7856 ========\n"
     ]
    },
    {
     "name": "stderr",
     "output_type": "stream",
     "text": [
      "ARNC: No timezone found, symbol may be delisted\n"
     ]
    },
    {
     "name": "stdout",
     "output_type": "stream",
     "text": [
      "======= ARNC 2020-08-04 ~ 2023-07-31 569 / 7856 ========\n",
      "======= AROC 1997-11-11 ~ 2024-11-11 570 / 7856 ========\n",
      "======= AROW 1994-07-12 ~ 2024-10-31 571 / 7856 ========\n",
      "ARPO not exist\n",
      "======= ARQ 2023-11-09 ~ 2024-11-07 573 / 7856 ========\n",
      "ARQQ not exist\n",
      "======= ARQT 2020-03-18 ~ 2024-11-06 575 / 7856 ========\n",
      "======= ARR 2010-05-13 ~ 2024-10-23 576 / 7856 ========\n",
      "ARRW not exist\n",
      "======= ARRY 2021-03-09 ~ 2024-11-07 578 / 7856 ========\n",
      "ARTAU not exist\n",
      "ARTE not exist\n",
      "======= ARTL 2019-07-15 ~ 2024-11-12 581 / 7856 ========\n",
      "======= ARTNA 1996-09-09 ~ 2024-11-04 582 / 7856 ========\n"
     ]
    },
    {
     "name": "stderr",
     "output_type": "stream",
     "text": [
      "ARTV: No price data found, symbol may be delisted (1d 2024-08-29 -> 2024-08-29)\n"
     ]
    },
    {
     "name": "stdout",
     "output_type": "stream",
     "text": [
      "======= ARTV 2024-08-29 ~ 2024-08-29 583 / 7856 ========\n",
      "======= ARTW 2013-10-14 ~ 2014-06-26 584 / 7856 ========\n"
     ]
    },
    {
     "name": "stderr",
     "output_type": "stream",
     "text": [
      "ARVL: No timezone found, symbol may be delisted\n"
     ]
    },
    {
     "name": "stdout",
     "output_type": "stream",
     "text": [
      "======= ARVL 2021-06-30 ~ 2023-05-15 585 / 7856 ========\n",
      "======= ARVN 2018-11-14 ~ 2024-10-30 586 / 7856 ========\n",
      "======= ARW 1993-04-22 ~ 2024-10-31 587 / 7856 ========\n",
      "======= ARWR 2010-02-11 ~ 2024-11-26 588 / 7856 ========\n",
      "ARYD not exist\n",
      "ARYE not exist\n",
      "======= AS 2024-03-05 ~ 2024-11-19 591 / 7856 ========\n",
      "ASA not exist\n",
      "======= ASAI 2021-07-27 ~ 2024-11-08 593 / 7856 ========\n",
      "======= ASAN 2020-12-09 ~ 2024-09-03 594 / 7856 ========\n"
     ]
    },
    {
     "name": "stderr",
     "output_type": "stream",
     "text": [
      "ASAP: No timezone found, symbol may be delisted\n"
     ]
    },
    {
     "name": "stdout",
     "output_type": "stream",
     "text": [
      "======= ASAP 2019-03-07 ~ 2023-05-11 595 / 7856 ========\n",
      "ASAQ not exist\n",
      "ASAX not exist\n",
      "======= ASB 1993-01-20 ~ 2024-10-24 598 / 7856 ========\n",
      "ASBA not exist\n",
      "======= ASC 2013-11-11 ~ 2024-11-06 600 / 7856 ========\n",
      "ASCA not exist\n",
      "ASCB not exist\n",
      "======= ASGN 1993-04-20 ~ 2024-10-23 603 / 7856 ========\n",
      "======= ASH 1993-01-25 ~ 2024-11-07 604 / 7856 ========\n",
      "======= ASIX 2017-05-11 ~ 2024-11-01 605 / 7856 ========\n",
      "======= ASLE 2020-11-03 ~ 2024-11-07 606 / 7856 ========\n"
     ]
    },
    {
     "name": "stderr",
     "output_type": "stream",
     "text": [
      "ASLN: No timezone found, symbol may be delisted\n"
     ]
    },
    {
     "name": "stdout",
     "output_type": "stream",
     "text": [
      "======= ASLN 2018-08-06 ~ 2024-08-09 607 / 7856 ========\n",
      "======= ASMB 2011-05-16 ~ 2024-11-07 608 / 7856 ========\n",
      "======= ASML 1995-08-30 ~ 2024-10-15 609 / 7856 ========\n",
      "======= ASND 2015-05-18 ~ 2024-11-14 610 / 7856 ========\n",
      "ASNS not exist\n",
      "======= ASO 2020-12-10 ~ 2024-09-10 612 / 7856 ========\n",
      "ASPA not exist\n",
      "ASPC not exist\n",
      "ASPI not exist\n",
      "======= ASPN 2014-11-06 ~ 2024-11-06 616 / 7856 ========\n",
      "======= ASPS 2010-05-12 ~ 2024-10-24 617 / 7856 ========\n",
      "======= ASPU 2013-12-13 ~ 2023-07-18 618 / 7856 ========\n",
      "======= ASR 2001-10-22 ~ 2024-10-22 619 / 7856 ========\n",
      "======= ASRT 1998-08-05 ~ 2024-08-07 620 / 7856 ========\n",
      "======= ASRV 1993-07-20 ~ 2010-10-19 621 / 7856 ========\n",
      "ASST not exist\n",
      "======= ASTC 1996-05-07 ~ 2017-02-09 623 / 7856 ========\n",
      "======= ASTE 1993-07-22 ~ 2024-11-06 624 / 7856 ========\n",
      "======= ASTH 2023-11-07 ~ 2024-11-07 625 / 7856 ========\n"
     ]
    },
    {
     "name": "stderr",
     "output_type": "stream",
     "text": [
      "ASTI: Data doesn't exist for startDate = 1185768000, endDate = 1399435200\n"
     ]
    },
    {
     "name": "stdout",
     "output_type": "stream",
     "text": [
      "======= ASTI 2007-07-30 ~ 2014-05-07 626 / 7856 ========\n",
      "======= ASTL 2022-02-10 ~ 2024-11-06 627 / 7856 ========\n",
      "ASTLW not exist\n"
     ]
    },
    {
     "name": "stderr",
     "output_type": "stream",
     "text": [
      "ASTR: No timezone found, symbol may be delisted\n"
     ]
    },
    {
     "name": "stdout",
     "output_type": "stream",
     "text": [
      "======= ASTR 2021-11-11 ~ 2023-11-16 629 / 7856 ========\n",
      "======= ASTS 2021-08-16 ~ 2024-11-14 630 / 7856 ========\n",
      "======= ASUR 1993-04-21 ~ 2024-10-31 631 / 7856 ========\n",
      "======= ASX 2012-10-26 ~ 2024-10-31 632 / 7856 ========\n",
      "======= ASYS 1998-02-23 ~ 2024-08-07 633 / 7856 ========\n",
      "ASZ not exist\n",
      "ATA not exist\n",
      "======= ATAI 2021-08-16 ~ 2024-08-13 636 / 7856 ========\n",
      "ATAK not exist\n",
      "ATAQ not exist\n",
      "======= ATAT 2023-03-30 ~ 2024-11-19 639 / 7856 ========\n"
     ]
    },
    {
     "name": "stderr",
     "output_type": "stream",
     "text": [
      "ATAX: No timezone found, symbol may be delisted\n"
     ]
    },
    {
     "name": "stdout",
     "output_type": "stream",
     "text": [
      "======= ATAX 2007-05-14 ~ 2023-02-22 640 / 7856 ========\n"
     ]
    },
    {
     "name": "stderr",
     "output_type": "stream",
     "text": [
      "ATC: No timezone found, symbol may be delisted\n"
     ]
    },
    {
     "name": "stdout",
     "output_type": "stream",
     "text": [
      "======= ATC 2021-03-04 ~ 2022-08-09 641 / 7856 ========\n",
      "unsupported operand type(s) for -: 'NoneType' and 'float'\n"
     ]
    },
    {
     "name": "stderr",
     "output_type": "stream",
     "text": [
      "ATCO: No timezone found, symbol may be delisted\n"
     ]
    },
    {
     "name": "stdout",
     "output_type": "stream",
     "text": [
      "======= ATCO 2005-11-09 ~ 2023-05-09 642 / 7856 ========\n"
     ]
    },
    {
     "name": "stderr",
     "output_type": "stream",
     "text": [
      "ATCX: No timezone found, symbol may be delisted\n"
     ]
    },
    {
     "name": "stdout",
     "output_type": "stream",
     "text": [
      "======= ATCX 2020-05-11 ~ 2023-05-09 643 / 7856 ========\n",
      "======= ATEC 2006-07-27 ~ 2024-10-30 644 / 7856 ========\n",
      "ATEK not exist\n",
      "======= ATEN 2014-05-01 ~ 2024-11-07 646 / 7856 ========\n",
      "======= ATER 2019-08-01 ~ 2024-11-11 647 / 7856 ========\n",
      "======= ATEX 2015-06-09 ~ 2024-08-06 648 / 7856 ========\n",
      "======= ATGE 1993-01-27 ~ 2024-10-29 649 / 7856 ========\n",
      "ATGL not exist\n"
     ]
    },
    {
     "name": "stderr",
     "output_type": "stream",
     "text": [
      "ATH: No timezone found, symbol may be delisted\n"
     ]
    },
    {
     "name": "stdout",
     "output_type": "stream",
     "text": [
      "======= ATH 2017-03-15 ~ 2021-11-03 651 / 7856 ========\n",
      "ATH-PA not exist\n",
      "======= ATHA 2020-11-12 ~ 2024-11-07 653 / 7856 ========\n",
      "ATHE not exist\n",
      "======= ATHM 2014-02-24 ~ 2024-11-06 655 / 7856 ========\n",
      "ATHN not exist\n",
      "ATHS not exist\n"
     ]
    },
    {
     "name": "stderr",
     "output_type": "stream",
     "text": [
      "ATHX: No timezone found, symbol may be delisted\n"
     ]
    },
    {
     "name": "stdout",
     "output_type": "stream",
     "text": [
      "======= ATHX 2008-05-08 ~ 2023-11-16 658 / 7856 ========\n",
      "======= ATI 1993-02-01 ~ 2024-10-29 659 / 7856 ========\n",
      "ATIF not exist\n",
      "======= ATIP 2021-05-17 ~ 2024-11-04 661 / 7856 ========\n",
      "======= ATKR 2016-08-02 ~ 2024-11-21 662 / 7856 ========\n",
      "======= ATLC 1999-07-29 ~ 2024-11-07 663 / 7856 ========\n",
      "======= ATLO 2009-08-06 ~ 2010-10-15 664 / 7856 ========\n",
      "======= ATLX 2023-05-15 ~ 2024-11-08 665 / 7856 ========\n",
      "ATMC not exist\n",
      "ATMR not exist\n",
      "======= ATMU 2023-08-09 ~ 2024-11-08 668 / 7856 ========\n",
      "ATMV not exist\n",
      "======= ATNF 2022-03-31 ~ 2022-11-10 670 / 7856 ========\n",
      "======= ATNI 1993-03-30 ~ 2024-10-29 671 / 7856 ========\n"
     ]
    },
    {
     "name": "stderr",
     "output_type": "stream",
     "text": [
      "ATNX: No timezone found, symbol may be delisted\n"
     ]
    },
    {
     "name": "stdout",
     "output_type": "stream",
     "text": [
      "======= ATNX 2017-11-09 ~ 2023-03-20 672 / 7856 ========\n",
      "======= ATO 1993-02-10 ~ 2024-11-06 673 / 7856 ========\n",
      "======= ATOM 2018-08-08 ~ 2024-10-29 674 / 7856 ========\n",
      "======= ATOS 2013-05-15 ~ 2024-08-12 675 / 7856 ========\n",
      "ATPC not exist\n",
      "======= ATR 1994-02-28 ~ 2024-10-24 677 / 7856 ========\n",
      "======= ATRA 2015-02-26 ~ 2024-11-12 678 / 7856 ========\n",
      "======= ATRC 2005-11-03 ~ 2024-10-29 679 / 7856 ========\n"
     ]
    },
    {
     "name": "stderr",
     "output_type": "stream",
     "text": [
      "ATRI: No timezone found, symbol may be delisted\n"
     ]
    },
    {
     "name": "stdout",
     "output_type": "stream",
     "text": [
      "======= ATRI 2009-05-07 ~ 2010-11-04 680 / 7856 ========\n",
      "======= ATRO 2007-05-08 ~ 2024-11-06 681 / 7856 ========\n"
     ]
    },
    {
     "name": "stderr",
     "output_type": "stream",
     "text": [
      "ATRS: No timezone found, symbol may be delisted\n"
     ]
    },
    {
     "name": "stdout",
     "output_type": "stream",
     "text": [
      "======= ATRS 1997-02-24 ~ 2022-05-10 682 / 7856 ========\n",
      "======= ATS 2023-08-09 ~ 2024-11-06 683 / 7856 ========\n",
      "======= ATSG 2004-08-03 ~ 2024-11-08 684 / 7856 ========\n",
      "ATSPT not exist\n"
     ]
    },
    {
     "name": "stderr",
     "output_type": "stream",
     "text": [
      "ATTO: No timezone found, symbol may be delisted\n"
     ]
    },
    {
     "name": "stdout",
     "output_type": "stream",
     "text": [
      "======= ATTO 2014-11-19 ~ 2023-05-24 686 / 7856 ========\n",
      "======= ATUS 2017-07-27 ~ 2024-11-04 687 / 7856 ========\n",
      "ATVC not exist\n"
     ]
    },
    {
     "name": "stderr",
     "output_type": "stream",
     "text": [
      "ATVI: No timezone found, symbol may be delisted\n"
     ]
    },
    {
     "name": "stdout",
     "output_type": "stream",
     "text": [
      "======= ATVI 1995-07-19 ~ 2023-11-06 689 / 7856 ========\n",
      "======= ATXI 2018-05-03 ~ 2024-11-14 690 / 7856 ========\n",
      "======= ATXS 2015-08-13 ~ 2024-08-12 691 / 7856 ========\n"
     ]
    },
    {
     "name": "stderr",
     "output_type": "stream",
     "text": [
      "ATY: No timezone found, symbol may be delisted\n"
     ]
    },
    {
     "name": "stdout",
     "output_type": "stream",
     "text": [
      "======= ATY 2015-05-26 ~ 2023-05-11 692 / 7856 ========\n",
      "======= ATYR 2024-03-14 ~ 2024-11-07 693 / 7856 ========\n",
      "======= AU 2001-10-31 ~ 2024-11-07 694 / 7856 ========\n",
      "======= AUB 1996-07-17 ~ 2024-10-21 695 / 7856 ========\n",
      "======= AUBN 2009-07-31 ~ 2010-10-22 696 / 7856 ========\n"
     ]
    },
    {
     "name": "stderr",
     "output_type": "stream",
     "text": [
      "AUD: No timezone found, symbol may be delisted\n"
     ]
    },
    {
     "name": "stdout",
     "output_type": "stream",
     "text": [
      "======= AUD 1999-05-03 ~ 2023-08-04 697 / 7856 ========\n",
      "======= AUDC 1999-07-19 ~ 2024-11-06 698 / 7856 ========\n"
     ]
    },
    {
     "name": "stderr",
     "output_type": "stream",
     "text": [
      "AUGX: No timezone found, symbol may be delisted\n"
     ]
    },
    {
     "name": "stdout",
     "output_type": "stream",
     "text": [
      "======= AUGX 2021-08-10 ~ 2024-08-12 699 / 7856 ========\n",
      "AUID not exist\n"
     ]
    },
    {
     "name": "stderr",
     "output_type": "stream",
     "text": [
      "AULT: No timezone found, symbol may be delisted\n"
     ]
    },
    {
     "name": "stdout",
     "output_type": "stream",
     "text": [
      "======= AULT 2022-04-15 ~ 2022-08-22 701 / 7856 ========\n",
      "======= AUNA 2024-05-22 ~ 2024-08-21 702 / 7856 ========\n",
      "======= AUPH 2003-03-11 ~ 2024-11-07 703 / 7856 ========\n",
      "======= AUR 2022-02-16 ~ 2024-10-30 704 / 7856 ========\n",
      "======= AURA 2022-03-23 ~ 2024-11-12 705 / 7856 ========\n",
      "AURC not exist\n",
      "AUS not exist\n",
      "======= AUTL 2018-11-23 ~ 2024-11-12 708 / 7856 ========\n"
     ]
    },
    {
     "name": "stderr",
     "output_type": "stream",
     "text": [
      "AUTO: No timezone found, symbol may be delisted\n"
     ]
    },
    {
     "name": "stdout",
     "output_type": "stream",
     "text": [
      "======= AUTO 1999-07-29 ~ 2022-08-11 709 / 7856 ========\n",
      "======= AUUD 2021-11-12 ~ 2024-11-07 710 / 7856 ========\n"
     ]
    },
    {
     "name": "stderr",
     "output_type": "stream",
     "text": [
      "AUVI: No timezone found, symbol may be delisted\n"
     ]
    },
    {
     "name": "stdout",
     "output_type": "stream",
     "text": [
      "======= AUVI 2021-03-30 ~ 2023-08-21 711 / 7856 ========\n"
     ]
    },
    {
     "name": "stderr",
     "output_type": "stream",
     "text": [
      "AUY: No timezone found, symbol may be delisted\n"
     ]
    },
    {
     "name": "stdout",
     "output_type": "stream",
     "text": [
      "======= AUY 2004-11-03 ~ 2023-04-26 712 / 7856 ========\n",
      "======= AVA 1993-01-27 ~ 2024-11-06 713 / 7856 ========\n",
      "AVAC not exist\n",
      "======= AVAH 2021-05-25 ~ 2024-11-07 715 / 7856 ========\n",
      "======= AVAL 2014-12-03 ~ 2024-12-09 716 / 7856 ========\n",
      "AVAN not exist\n",
      "======= AVAV 2007-03-08 ~ 2024-12-04 718 / 7856 ========\n",
      "======= AVB 2001-07-24 ~ 2024-11-04 719 / 7856 ========\n",
      "======= AVBP 2024-05-08 ~ 2024-11-14 720 / 7856 ========\n",
      "AVCO not exist\n"
     ]
    },
    {
     "name": "stderr",
     "output_type": "stream",
     "text": [
      "AVCT: No timezone found, symbol may be delisted\n"
     ]
    },
    {
     "name": "stdout",
     "output_type": "stream",
     "text": [
      "======= AVCT 2021-05-18 ~ 2022-05-16 722 / 7856 ========\n",
      "======= AVD 2003-11-13 ~ 2024-11-11 723 / 7856 ========\n",
      "======= AVDL 1997-03-26 ~ 2024-11-12 724 / 7856 ========\n",
      "======= AVDX 2021-11-16 ~ 2024-11-06 725 / 7856 ========\n"
     ]
    },
    {
     "name": "stderr",
     "output_type": "stream",
     "text": [
      "AVEO: No timezone found, symbol may be delisted\n"
     ]
    },
    {
     "name": "stdout",
     "output_type": "stream",
     "text": [
      "======= AVEO 2010-04-29 ~ 2022-11-07 726 / 7856 ========\n",
      "======= AVGO 2012-11-29 ~ 2024-09-05 727 / 7856 ========\n",
      "======= AVGR 2015-03-12 ~ 2024-11-07 728 / 7856 ========\n",
      "AVHI not exist\n"
     ]
    },
    {
     "name": "stderr",
     "output_type": "stream",
     "text": [
      "AVID: No data found, symbol may be delisted\n"
     ]
    },
    {
     "name": "stdout",
     "output_type": "stream",
     "text": [
      "======= AVID 1993-07-26 ~ 2023-11-14 730 / 7856 ========\n",
      "======= AVIR 2020-12-10 ~ 2024-11-07 731 / 7856 ========\n"
     ]
    },
    {
     "name": "stderr",
     "output_type": "stream",
     "text": [
      "AVLR: No timezone found, symbol may be delisted\n"
     ]
    },
    {
     "name": "stdout",
     "output_type": "stream",
     "text": [
      "======= AVLR 2018-08-09 ~ 2022-08-08 732 / 7856 ========\n",
      "======= AVNS 2015-03-04 ~ 2024-10-30 733 / 7856 ========\n",
      "======= AVNT 1993-01-18 ~ 2024-10-31 734 / 7856 ========\n",
      "======= AVNW 2007-05-01 ~ 2024-10-04 735 / 7856 ========\n",
      "======= AVO 2021-01-19 ~ 2024-09-09 736 / 7856 ========\n",
      "======= AVPT 2021-08-10 ~ 2024-11-07 737 / 7856 ========\n"
     ]
    },
    {
     "name": "stderr",
     "output_type": "stream",
     "text": [
      "AVRO: No timezone found, symbol may be delisted\n"
     ]
    },
    {
     "name": "stdout",
     "output_type": "stream",
     "text": [
      "======= AVRO 2018-08-09 ~ 2024-08-08 738 / 7856 ========\n",
      "======= AVT 1993-01-27 ~ 2024-10-30 739 / 7856 ========\n"
     ]
    },
    {
     "name": "stderr",
     "output_type": "stream",
     "text": [
      "AVTA: Period '1mo' is invalid, must be one of ['1d', '5d']\n"
     ]
    },
    {
     "name": "stdout",
     "output_type": "stream",
     "text": [
      "======= AVTA 1999-04-29 ~ 2023-11-06 740 / 7856 ========\n",
      "======= AVTE 2021-08-16 ~ 2024-08-12 741 / 7856 ========\n",
      "======= AVTR 2019-08-06 ~ 2024-10-25 742 / 7856 ========\n",
      "======= AVTX 2016-03-23 ~ 2024-11-07 743 / 7856 ========\n",
      "======= AVXL 2014-12-29 ~ 2024-08-06 744 / 7856 ========\n",
      "======= AVY 1993-02-02 ~ 2024-10-23 745 / 7856 ========\n"
     ]
    },
    {
     "name": "stderr",
     "output_type": "stream",
     "text": [
      "AVYA: No timezone found, symbol may be delisted\n"
     ]
    },
    {
     "name": "stdout",
     "output_type": "stream",
     "text": [
      "======= AVYA 2018-03-01 ~ 2023-02-22 746 / 7856 ========\n",
      "======= AWH 2001-02-15 ~ 2024-11-19 747 / 7856 ========\n",
      "======= AWI 2007-03-30 ~ 2024-10-29 748 / 7856 ========\n",
      "======= AWK 2008-08-11 ~ 2024-10-30 749 / 7856 ========\n",
      "======= AWR 1993-02-23 ~ 2024-11-06 750 / 7856 ========\n",
      "======= AWRE 1996-10-23 ~ 2023-08-01 751 / 7856 ========\n",
      "======= AX 2005-05-09 ~ 2024-10-30 752 / 7856 ========\n",
      "AXAC not exist\n",
      "======= AXDX 1997-03-17 ~ 2024-11-07 754 / 7856 ========\n",
      "======= AXGN 1994-01-26 ~ 2024-11-07 755 / 7856 ========\n",
      "AXH not exist\n",
      "======= AXL 1999-07-21 ~ 2024-11-08 757 / 7856 ========\n"
     ]
    },
    {
     "name": "stderr",
     "output_type": "stream",
     "text": [
      "AXLA: No timezone found, symbol may be delisted\n"
     ]
    },
    {
     "name": "stdout",
     "output_type": "stream",
     "text": [
      "======= AXLA 2019-05-09 ~ 2023-08-03 758 / 7856 ========\n",
      "======= AXNX 2019-03-05 ~ 2024-11-07 759 / 7856 ========\n",
      "======= AXON 2004-02-02 ~ 2024-11-07 760 / 7856 ========\n",
      "======= AXP 1993-01-25 ~ 2024-10-18 761 / 7856 ========\n",
      "======= AXR 2009-07-14 ~ 2010-09-10 762 / 7856 ========\n",
      "======= AXS 2003-11-05 ~ 2024-10-30 763 / 7856 ========\n",
      "======= AXSM 2016-03-24 ~ 2024-11-12 764 / 7856 ========\n",
      "======= AXTA 2015-05-06 ~ 2024-10-30 765 / 7856 ========\n",
      "======= AXTI 1998-07-23 ~ 2024-10-31 766 / 7856 ========\n",
      "======= AY 2014-08-12 ~ 2024-11-14 767 / 7856 ========\n",
      "======= AYI 2002-06-25 ~ 2024-10-01 768 / 7856 ========\n"
     ]
    },
    {
     "name": "stderr",
     "output_type": "stream",
     "text": [
      "AYLA: No timezone found, symbol may be delisted\n"
     ]
    },
    {
     "name": "stdout",
     "output_type": "stream",
     "text": [
      "======= AYLA 2020-08-13 ~ 2022-11-03 769 / 7856 ========\n",
      "======= AYRO 2006-09-14 ~ 2024-08-15 770 / 7856 ========\n",
      "======= AYTU 2016-09-01 ~ 2024-09-26 771 / 7856 ========\n"
     ]
    },
    {
     "name": "stderr",
     "output_type": "stream",
     "text": [
      "AYX: No timezone found, symbol may be delisted\n"
     ]
    },
    {
     "name": "stdout",
     "output_type": "stream",
     "text": [
      "======= AYX 2017-05-10 ~ 2024-04-25 772 / 7856 ========\n",
      "======= AZ 2022-05-16 ~ 2023-03-27 773 / 7856 ========\n",
      "======= AZEK 2020-08-13 ~ 2024-11-26 774 / 7856 ========\n",
      "======= AZN 1997-03-21 ~ 2024-11-12 775 / 7856 ========\n",
      "======= AZO 1992-04-21 ~ 2024-09-24 776 / 7856 ========\n",
      "======= AZPN 1995-01-23 ~ 2024-11-04 777 / 7856 ========\n"
     ]
    },
    {
     "name": "stderr",
     "output_type": "stream",
     "text": [
      "AZRE: No timezone found, symbol may be delisted\n"
     ]
    },
    {
     "name": "stdout",
     "output_type": "stream",
     "text": [
      "======= AZRE 2016-11-22 ~ 2022-02-25 778 / 7856 ========\n"
     ]
    },
    {
     "name": "stderr",
     "output_type": "stream",
     "text": [
      "AZRX: No timezone found, symbol may be delisted\n"
     ]
    },
    {
     "name": "stdout",
     "output_type": "stream",
     "text": [
      "======= AZRX 2017-06-29 ~ 2021-08-16 779 / 7856 ========\n",
      "======= AZTA 1995-04-27 ~ 2024-11-12 780 / 7856 ========\n",
      "======= AZUL 2017-05-15 ~ 2024-11-14 781 / 7856 ========\n"
     ]
    },
    {
     "name": "stderr",
     "output_type": "stream",
     "text": [
      "AZYO: No timezone found, symbol may be delisted\n"
     ]
    },
    {
     "name": "stdout",
     "output_type": "stream",
     "text": [
      "======= AZYO 2020-11-19 ~ 2023-11-13 782 / 7856 ========\n",
      "======= AZZ 1997-03-27 ~ 2024-10-09 783 / 7856 ========\n",
      "======= B 1994-10-13 ~ 2024-10-25 784 / 7856 ========\n",
      "======= BA 1993-01-26 ~ 2024-10-23 785 / 7856 ========\n",
      "======= BABA 2014-11-04 ~ 2024-11-15 786 / 7856 ========\n",
      "======= BAC 1993-01-18 ~ 2024-10-15 787 / 7856 ========\n",
      "BACA not exist\n",
      "======= BACK 2020-03-26 ~ 2024-05-15 789 / 7856 ========\n",
      "BACQU not exist\n",
      "======= BAER 2024-05-13 ~ 2024-11-11 791 / 7856 ========\n",
      "BAFN not exist\n",
      "======= BAH 2011-02-09 ~ 2024-10-25 793 / 7856 ========\n",
      "======= BAK 2004-02-12 ~ 2024-11-07 794 / 7856 ========\n",
      "======= BALL 1993-01-26 ~ 2024-10-31 795 / 7856 ========\n",
      "======= BALY 2019-05-14 ~ 2024-11-06 796 / 7856 ========\n",
      "======= BAM 1994-11-09 ~ 2024-11-04 797 / 7856 ========\n",
      "BAMH not exist\n",
      "BAMI not exist\n",
      "BAMR not exist\n",
      "======= BANC 2009-05-15 ~ 2024-10-22 801 / 7856 ========\n",
      "BANC-PF not exist\n",
      "======= BAND 2018-02-21 ~ 2024-10-31 803 / 7856 ========\n",
      "======= BANF 1995-01-23 ~ 2024-10-17 804 / 7856 ========\n",
      "BANL not exist\n",
      "======= BANR 1996-01-22 ~ 2024-10-16 806 / 7856 ========\n",
      "======= BANX 2014-03-06 ~ 2024-08-23 807 / 7856 ========\n",
      "BAOS not exist\n",
      "======= BAP 1996-05-15 ~ 2024-11-07 809 / 7856 ========\n",
      "======= BARK 2021-08-09 ~ 2024-11-07 810 / 7856 ========\n",
      "======= BASE 2021-09-08 ~ 2024-09-04 811 / 7856 ========\n",
      "======= BATRK 2016-08-05 ~ 2024-11-06 812 / 7856 ========\n",
      "======= BAX 1993-01-26 ~ 2024-11-08 813 / 7856 ========\n",
      "BAYA not exist\n",
      "======= BB 1999-06-23 ~ 2024-09-26 815 / 7856 ========\n",
      "======= BBAI 2022-03-17 ~ 2024-11-05 816 / 7856 ========\n",
      "======= BBAR 1995-02-01 ~ 2024-11-20 817 / 7856 ========\n"
     ]
    },
    {
     "name": "stderr",
     "output_type": "stream",
     "text": [
      "BBBY: No timezone found, symbol may be delisted\n"
     ]
    },
    {
     "name": "stdout",
     "output_type": "stream",
     "text": [
      "======= BBBY 1993-03-30 ~ 2023-05-03 818 / 7856 ========\n",
      "BBCO not exist\n",
      "======= BBCP 2019-06-10 ~ 2024-09-04 820 / 7856 ========\n",
      "======= BBD 1999-01-29 ~ 2024-10-31 821 / 7856 ========\n",
      "======= BBDC 2007-05-09 ~ 2024-11-06 822 / 7856 ========\n",
      "======= BBDO 1999-01-29 ~ 2020-07-30 823 / 7856 ========\n",
      "======= BBGI 2000-05-03 ~ 2024-11-05 824 / 7856 ========\n"
     ]
    },
    {
     "name": "stderr",
     "output_type": "stream",
     "text": [
      "BBI: No timezone found, symbol may be delisted\n"
     ]
    },
    {
     "name": "stdout",
     "output_type": "stream",
     "text": [
      "======= BBI 1993-07-30 ~ 2022-08-11 825 / 7856 ========\n",
      "BBIG not exist\n",
      "======= BBIO 2019-08-14 ~ 2024-11-12 827 / 7856 ========\n",
      "BBL not exist\n",
      "======= BBLG 2022-03-15 ~ 2024-08-09 829 / 7856 ========\n"
     ]
    },
    {
     "name": "stderr",
     "output_type": "stream",
     "text": [
      "BBLN: No timezone found, symbol may be delisted\n"
     ]
    },
    {
     "name": "stdout",
     "output_type": "stream",
     "text": [
      "======= BBLN 2022-03-10 ~ 2023-08-08 830 / 7856 ========\n"
     ]
    },
    {
     "name": "stderr",
     "output_type": "stream",
     "text": [
      "BBQ: No data found, symbol may be delisted\n"
     ]
    },
    {
     "name": "stdout",
     "output_type": "stream",
     "text": [
      "======= BBQ 1997-01-28 ~ 2022-08-28 831 / 7856 ========\n",
      "======= BBSI 1993-11-10 ~ 2024-11-06 832 / 7856 ========\n",
      "======= BBU 2017-02-06 ~ 2024-11-08 833 / 7856 ========\n",
      "BBUC not exist\n",
      "======= BBVA 1997-02-04 ~ 2024-10-31 835 / 7856 ========\n",
      "======= BBW 2005-03-10 ~ 2024-12-05 836 / 7856 ========\n",
      "======= BBWI 1993-02-16 ~ 2024-11-25 837 / 7856 ========\n",
      "======= BBY 1993-04-20 ~ 2024-11-26 838 / 7856 ========\n",
      "======= BC 1993-04-28 ~ 2024-10-24 839 / 7856 ========\n",
      "======= BCAB 2021-03-25 ~ 2024-11-07 840 / 7856 ========\n",
      "BCAC not exist\n",
      "======= BCAL 2023-09-19 ~ 2024-10-29 842 / 7856 ========\n",
      "BCAN not exist\n",
      "BCAX not exist\n",
      "======= BCBP 2017-10-19 ~ 2024-10-18 845 / 7856 ========\n",
      "======= BCC 2013-04-22 ~ 2024-11-04 846 / 7856 ========\n",
      "======= BCDA 2019-11-19 ~ 2024-08-13 847 / 7856 ========\n",
      "======= BCE 1993-01-27 ~ 2024-11-07 848 / 7856 ========\n"
     ]
    },
    {
     "name": "stderr",
     "output_type": "stream",
     "text": [
      "BCEI: No timezone found, symbol may be delisted\n"
     ]
    },
    {
     "name": "stdout",
     "output_type": "stream",
     "text": [
      "======= BCEI 2012-03-22 ~ 2021-10-28 849 / 7856 ========\n"
     ]
    },
    {
     "name": "stderr",
     "output_type": "stream",
     "text": [
      "BCEL: No timezone found, symbol may be delisted\n"
     ]
    },
    {
     "name": "stdout",
     "output_type": "stream",
     "text": [
      "======= BCEL 2019-08-13 ~ 2024-04-03 850 / 7856 ========\n",
      "BCG not exist\n",
      "======= BCH 2002-04-26 ~ 2024-10-29 852 / 7856 ========\n",
      "======= BCLI 2014-11-13 ~ 2024-08-14 853 / 7856 ========\n",
      "======= BCML 2017-10-26 ~ 2024-10-17 854 / 7856 ========\n",
      "======= BCO 1996-04-30 ~ 2024-11-06 855 / 7856 ========\n"
     ]
    },
    {
     "name": "stderr",
     "output_type": "stream",
     "text": [
      "BCOR: No timezone found, symbol may be delisted\n"
     ]
    },
    {
     "name": "stdout",
     "output_type": "stream",
     "text": [
      "======= BCOR 1999-04-29 ~ 2023-05-02 856 / 7856 ========\n",
      "======= BCOV 2012-05-03 ~ 2024-11-04 857 / 7856 ========\n",
      "BCOW not exist\n",
      "======= BCPC 2000-10-23 ~ 2024-10-25 859 / 7856 ========\n",
      "======= BCRX 1994-08-02 ~ 2024-11-04 860 / 7856 ========\n",
      "======= BCS 2001-11-01 ~ 2024-10-24 861 / 7856 ========\n",
      "BCSA not exist\n",
      "======= BCSF 2019-02-28 ~ 2024-11-05 863 / 7856 ========\n",
      "BCTG not exist\n",
      "======= BCTX 2022-03-15 ~ 2024-10-28 865 / 7856 ========\n",
      "BCTXW not exist\n",
      "======= BCYC 2019-08-08 ~ 2024-10-31 867 / 7856 ========\n",
      "BCYP not exist\n",
      "======= BDC 1994-05-23 ~ 2024-10-31 869 / 7856 ========\n",
      "BDMD not exist\n",
      "======= BDN 2003-02-27 ~ 2024-10-22 871 / 7856 ========\n",
      "BDRX not exist\n",
      "======= BDSI 2005-11-10 ~ 2022-03-09 873 / 7856 ========\n",
      "======= BDSX 2020-12-10 ~ 2024-11-01 874 / 7856 ========\n",
      "======= BDTX 2020-05-12 ~ 2024-11-05 875 / 7856 ========\n",
      "======= BDX 1993-01-20 ~ 2024-11-07 876 / 7856 ========\n"
     ]
    },
    {
     "name": "stderr",
     "output_type": "stream",
     "text": [
      "BDXB: No timezone found, symbol may be delisted\n"
     ]
    },
    {
     "name": "stdout",
     "output_type": "stream",
     "text": [
      "======= BDXB 1993-01-20 ~ 2020-08-06 877 / 7856 ========\n",
      "======= BE 2018-11-05 ~ 2024-11-07 878 / 7856 ========\n",
      "BEAGU not exist\n",
      "======= BEAM 2020-05-12 ~ 2024-11-05 880 / 7856 ========\n",
      "======= BEAT 2008-04-29 ~ 2024-11-07 881 / 7856 ========\n",
      "======= BECN 2005-02-14 ~ 2024-10-30 882 / 7856 ========\n",
      "======= BEDU 2017-11-08 ~ 2023-11-27 883 / 7856 ========\n",
      "======= BEEM 2019-08-14 ~ 2024-11-14 884 / 7856 ========\n",
      "======= BEKE 2020-11-16 ~ 2024-11-21 885 / 7856 ========\n",
      "======= BELFB 1996-04-25 ~ 2024-10-23 886 / 7856 ========\n",
      "======= BEN 1993-01-28 ~ 2024-11-04 887 / 7856 ========\n",
      "BENE not exist\n",
      "BENF not exist\n",
      "======= BEP 2002-07-23 ~ 2024-11-08 890 / 7856 ========\n",
      "======= BEPC 2021-05-04 ~ 2024-11-08 891 / 7856 ========\n",
      "BEPH not exist\n",
      "BEPI not exist\n",
      "======= BERY 2013-01-31 ~ 2024-11-19 894 / 7856 ========\n",
      "======= BEST 2017-11-16 ~ 2021-08-17 895 / 7856 ========\n"
     ]
    },
    {
     "name": "stderr",
     "output_type": "stream",
     "text": [
      "BETR: Data doesn't exist for startDate = 1446699600, endDate = 1510030800\n"
     ]
    },
    {
     "name": "stdout",
     "output_type": "stream",
     "text": [
      "======= BETR 2015-11-05 ~ 2017-11-07 896 / 7856 ========\n",
      "BETS not exist\n",
      "======= BF-B 1993-02-23 ~ 2024-12-05 898 / 7856 ========\n",
      "BFAC not exist\n",
      "======= BFAM 1998-01-27 ~ 2024-11-04 900 / 7856 ========\n",
      "======= BFC 2017-10-18 ~ 2024-10-15 901 / 7856 ========\n",
      "======= BFH 2001-10-17 ~ 2024-10-24 902 / 7856 ========\n",
      "======= BFI 2022-04-14 ~ 2024-09-27 903 / 7856 ========\n",
      "BFIIW not exist\n",
      "======= BFIN 2005-11-21 ~ 2024-11-05 905 / 7856 ========\n",
      "======= BFLY 2021-08-09 ~ 2024-11-01 906 / 7856 ========\n"
     ]
    },
    {
     "name": "stderr",
     "output_type": "stream",
     "text": [
      "BFRA: No timezone found, symbol may be delisted\n"
     ]
    },
    {
     "name": "stdout",
     "output_type": "stream",
     "text": [
      "======= BFRA 2018-05-30 ~ 2021-11-25 907 / 7856 ========\n",
      "BFRG not exist\n",
      "BFRGW not exist\n",
      "======= BFRI 2021-11-30 ~ 2024-11-13 910 / 7856 ========\n",
      "======= BFS 2004-02-03 ~ 2024-11-07 911 / 7856 ========\n",
      "======= BFST 2018-05-11 ~ 2024-10-24 912 / 7856 ========\n",
      "======= BG 2001-10-22 ~ 2024-10-30 913 / 7856 ========\n",
      "======= BGC 2012-11-02 ~ 2024-10-31 914 / 7856 ========\n"
     ]
    },
    {
     "name": "stderr",
     "output_type": "stream",
     "text": [
      "BGCP: No timezone found, symbol may be delisted\n"
     ]
    },
    {
     "name": "stdout",
     "output_type": "stream",
     "text": [
      "======= BGCP 2000-01-31 ~ 2023-08-02 915 / 7856 ========\n",
      "======= BGFV 2002-10-30 ~ 2024-10-29 916 / 7856 ========\n",
      "BGLC not exist\n",
      "BGM not exist\n",
      "======= BGNE 2016-03-30 ~ 2024-11-12 919 / 7856 ========\n"
     ]
    },
    {
     "name": "stderr",
     "output_type": "stream",
     "text": [
      "BGRY: No timezone found, symbol may be delisted\n"
     ]
    },
    {
     "name": "stdout",
     "output_type": "stream",
     "text": [
      "======= BGRY 2021-11-11 ~ 2023-08-10 920 / 7856 ========\n",
      "======= BGS 2007-07-30 ~ 2024-11-05 921 / 7856 ========\n",
      "======= BGSF 2016-03-07 ~ 2024-11-06 922 / 7856 ========\n",
      "BGSX not exist\n",
      "BGXX not exist\n",
      "======= BH 2013-01-25 ~ 2019-05-03 925 / 7856 ========\n",
      "BHAC not exist\n",
      "BHAT not exist\n",
      "======= BHC 1996-04-17 ~ 2024-10-30 928 / 7856 ========\n",
      "======= BHE 1993-02-12 ~ 2024-10-30 929 / 7856 ========\n",
      "======= BHF 2017-08-10 ~ 2024-11-08 930 / 7856 ========\n"
     ]
    },
    {
     "name": "stderr",
     "output_type": "stream",
     "text": [
      "BHG: No timezone found, symbol may be delisted\n"
     ]
    },
    {
     "name": "stdout",
     "output_type": "stream",
     "text": [
      "======= BHG 2021-08-03 ~ 2024-03-06 931 / 7856 ========\n",
      "======= BHIL 2021-11-15 ~ 2024-11-12 932 / 7856 ========\n",
      "======= BHLB 2000-10-25 ~ 2024-10-24 933 / 7856 ========\n",
      "BHM not exist\n",
      "======= BHP 1994-03-25 ~ 2024-08-26 935 / 7856 ========\n",
      "======= BHR 2014-05-09 ~ 2024-11-06 936 / 7856 ========\n"
     ]
    },
    {
     "name": "stderr",
     "output_type": "stream",
     "text": [
      "BHRB: No price data found, symbol may be delisted (1d 2024-10-25 -> 2024-10-25)\n"
     ]
    },
    {
     "name": "stdout",
     "output_type": "stream",
     "text": [
      "======= BHRB 2024-10-25 ~ 2024-10-25 937 / 7856 ========\n",
      "BHSE not exist\n"
     ]
    },
    {
     "name": "stderr",
     "output_type": "stream",
     "text": [
      "BHST: No price data found, symbol may be delisted (1d 2024-11-25 -> 2024-11-25)\n"
     ]
    },
    {
     "name": "stdout",
     "output_type": "stream",
     "text": [
      "======= BHST 2024-11-25 ~ 2024-11-25 939 / 7856 ========\n"
     ]
    },
    {
     "name": "stderr",
     "output_type": "stream",
     "text": [
      "BHTG: No timezone found, symbol may be delisted\n"
     ]
    },
    {
     "name": "stdout",
     "output_type": "stream",
     "text": [
      "======= BHTG 2018-08-14 ~ 2021-11-18 940 / 7856 ========\n",
      "======= BHVN 2017-06-15 ~ 2024-11-12 941 / 7856 ========\n",
      "======= BIAF 2024-05-15 ~ 2024-11-14 942 / 7856 ========\n",
      "======= BIDU 2005-10-26 ~ 2024-11-21 943 / 7856 ========\n"
     ]
    },
    {
     "name": "stderr",
     "output_type": "stream",
     "text": [
      "BIG: No data found, symbol may be delisted\n"
     ]
    },
    {
     "name": "stdout",
     "output_type": "stream",
     "text": [
      "======= BIG 1993-02-23 ~ 2024-09-12 944 / 7856 ========\n",
      "======= BIGC 2020-09-09 ~ 2024-11-07 945 / 7856 ========\n",
      "======= BIIB 1993-05-07 ~ 2024-10-30 946 / 7856 ========\n",
      "======= BILI 2018-05-23 ~ 2024-11-14 947 / 7856 ========\n",
      "======= BILL 2020-02-06 ~ 2024-11-07 948 / 7856 ========\n",
      "======= BIMI 2010-11-12 ~ 2011-08-12 949 / 7856 ========\n",
      "======= BIO 1993-04-28 ~ 2024-10-30 950 / 7856 ========\n"
     ]
    },
    {
     "name": "stderr",
     "output_type": "stream",
     "text": [
      "BIOC: No timezone found, symbol may be delisted\n"
     ]
    },
    {
     "name": "stdout",
     "output_type": "stream",
     "text": [
      "======= BIOC 2014-05-14 ~ 2023-03-31 951 / 7856 ========\n",
      "======= BIOL 1998-08-21 ~ 2024-08-08 952 / 7856 ========\n",
      "======= BIOR 2020-08-13 ~ 2024-11-14 953 / 7856 ========\n",
      "BIOS not exist\n",
      "BIOT not exist\n",
      "======= BIOX 2020-03-06 ~ 2024-11-11 956 / 7856 ========\n",
      "======= BIP 2008-04-25 ~ 2024-11-06 957 / 7856 ========\n",
      "BIPC not exist\n",
      "BIPH not exist\n",
      "BIPI not exist\n",
      "BIPJ not exist\n",
      "======= BIRD 2021-11-30 ~ 2024-11-06 962 / 7856 ========\n",
      "======= BIRK 2024-01-18 ~ 2024-08-29 963 / 7856 ========\n",
      "BITE not exist\n",
      "======= BITF 2021-05-26 ~ 2024-11-13 965 / 7856 ========\n",
      "======= BIVI 2021-08-30 ~ 2024-09-30 966 / 7856 ========\n",
      "======= BJ 2018-08-28 ~ 2024-08-27 967 / 7856 ========\n",
      "======= BJDX 2022-04-20 ~ 2024-11-07 968 / 7856 ========\n",
      "======= BJRI 2001-11-13 ~ 2024-10-31 969 / 7856 ========\n",
      "======= BK 1993-01-16 ~ 2024-10-11 970 / 7856 ========\n"
     ]
    },
    {
     "name": "stderr",
     "output_type": "stream",
     "text": [
      "BKCC: No timezone found, symbol may be delisted\n"
     ]
    },
    {
     "name": "stdout",
     "output_type": "stream",
     "text": [
      "======= BKCC 2007-08-09 ~ 2024-03-05 971 / 7856 ========\n",
      "======= BKD 2006-05-12 ~ 2024-11-07 972 / 7856 ========\n",
      "BKDT not exist\n",
      "======= BKE 1993-03-09 ~ 2024-11-22 974 / 7856 ========\n"
     ]
    },
    {
     "name": "stderr",
     "output_type": "stream",
     "text": [
      "BKEP: No timezone found, symbol may be delisted\n"
     ]
    },
    {
     "name": "stdout",
     "output_type": "stream",
     "text": [
      "======= BKEP 2007-11-13 ~ 2022-08-03 975 / 7856 ========\n",
      "======= BKH 1996-01-31 ~ 2024-11-06 976 / 7856 ========\n",
      "BKHA not exist\n"
     ]
    },
    {
     "name": "stderr",
     "output_type": "stream",
     "text": [
      "BKI: No timezone found, symbol may be delisted\n"
     ]
    },
    {
     "name": "stdout",
     "output_type": "stream",
     "text": [
      "======= BKI 2015-07-29 ~ 2023-11-02 978 / 7856 ========\n",
      "======= BKKT 2021-11-12 ~ 2024-08-14 979 / 7856 ========\n",
      "======= BKNG 1999-05-04 ~ 2024-10-30 980 / 7856 ========\n",
      "======= BKR 1993-01-27 ~ 2024-10-22 981 / 7856 ========\n",
      "BKSC not exist\n",
      "======= BKSY 2022-08-10 ~ 2024-11-07 983 / 7856 ========\n",
      "======= BKU 2011-05-03 ~ 2024-10-22 984 / 7856 ========\n"
     ]
    },
    {
     "name": "stderr",
     "output_type": "stream",
     "text": [
      "BKV: No price data found, symbol may be delisted (1d 2024-11-12 -> 2024-11-12)\n"
     ]
    },
    {
     "name": "stdout",
     "output_type": "stream",
     "text": [
      "======= BKV 2024-11-12 ~ 2024-11-12 985 / 7856 ========\n",
      "======= BKYI 2007-08-14 ~ 2024-11-14 986 / 7856 ========\n",
      "======= BL 2016-11-30 ~ 2024-11-07 987 / 7856 ========\n",
      "BLAC not exist\n",
      "======= BLBD 2015-12-15 ~ 2024-11-25 989 / 7856 ========\n",
      "======= BLBX 2022-03-31 ~ 2024-11-14 990 / 7856 ========\n"
     ]
    },
    {
     "name": "stderr",
     "output_type": "stream",
     "text": [
      "BLCM: No timezone found, symbol may be delisted\n"
     ]
    },
    {
     "name": "stdout",
     "output_type": "stream",
     "text": [
      "======= BLCM 2015-03-11 ~ 2023-08-10 991 / 7856 ========\n",
      "======= BLCO 2022-08-04 ~ 2024-10-30 992 / 7856 ========\n"
     ]
    },
    {
     "name": "stderr",
     "output_type": "stream",
     "text": [
      "BLCT: No timezone found, symbol may be delisted\n"
     ]
    },
    {
     "name": "stdout",
     "output_type": "stream",
     "text": [
      "======= BLCT 2020-08-26 ~ 2021-11-26 993 / 7856 ========\n",
      "======= BLD 2015-08-11 ~ 2024-11-05 994 / 7856 ========\n",
      "======= BLDE 2021-08-16 ~ 2024-08-07 995 / 7856 ========\n",
      "======= BLDP 1998-07-28 ~ 2024-11-05 996 / 7856 ========\n",
      "======= BLDR 2005-10-27 ~ 2024-11-05 997 / 7856 ========\n",
      "BLEU not exist\n",
      "======= BLFS 2012-11-13 ~ 2024-08-08 999 / 7856 ========\n",
      "======= BLFY 2022-04-27 ~ 2024-10-23 1000 / 7856 ========\n"
     ]
    },
    {
     "name": "stderr",
     "output_type": "stream",
     "text": [
      "BLI: No timezone found, symbol may be delisted\n"
     ]
    },
    {
     "name": "stdout",
     "output_type": "stream",
     "text": [
      "======= BLI 2020-08-25 ~ 2023-08-07 1001 / 7856 ========\n",
      "======= BLIN 2012-05-11 ~ 2024-08-14 1002 / 7856 ========\n",
      "======= BLK 2000-01-13 ~ 2024-10-11 1003 / 7856 ========\n",
      "======= BLKB 2004-10-27 ~ 2024-10-30 1004 / 7856 ========\n"
     ]
    },
    {
     "name": "stderr",
     "output_type": "stream",
     "text": [
      "BLL: No timezone found, symbol may be delisted\n"
     ]
    },
    {
     "name": "stdout",
     "output_type": "stream",
     "text": [
      "======= BLL 1993-01-26 ~ 2022-05-05 1005 / 7856 ========\n",
      "======= BLMN 2012-11-07 ~ 2024-11-08 1006 / 7856 ========\n",
      "BLMZ not exist\n",
      "======= BLND 2021-08-19 ~ 2024-11-06 1008 / 7856 ========\n",
      "BLNG not exist\n",
      "======= BLNK 2019-04-01 ~ 2024-11-07 1010 / 7856 ========\n",
      "======= BLPH 2015-05-15 ~ 2023-11-14 1011 / 7856 ========\n",
      "======= BLRX 2012-08-15 ~ 2024-11-25 1012 / 7856 ========\n",
      "BLSA not exist\n",
      "======= BLTE 2022-08-10 ~ 2024-11-12 1014 / 7856 ========\n",
      "BLTS not exist\n"
     ]
    },
    {
     "name": "stderr",
     "output_type": "stream",
     "text": [
      "BLU: No timezone found, symbol may be delisted\n"
     ]
    },
    {
     "name": "stdout",
     "output_type": "stream",
     "text": [
      "======= BLU 2003-08-18 ~ 2023-08-09 1016 / 7856 ========\n",
      "BLUA not exist\n",
      "======= BLUE 2013-08-14 ~ 2024-09-13 1018 / 7856 ========\n",
      "BLUW not exist\n",
      "======= BLX 1994-01-19 ~ 2024-10-29 1020 / 7856 ========\n",
      "======= BLZE 2021-12-13 ~ 2024-11-07 1021 / 7856 ========\n",
      "======= BMA 2007-05-10 ~ 2024-11-27 1022 / 7856 ========\n",
      "BMAC not exist\n",
      "BMAQ not exist\n",
      "======= BMBL 2021-03-10 ~ 2024-11-06 1025 / 7856 ========\n",
      "======= BMEA 2021-05-27 ~ 2024-10-29 1026 / 7856 ========\n",
      "======= BMI 1993-04-14 ~ 2024-10-17 1027 / 7856 ========\n",
      "BML not exist\n",
      "======= BMO 1993-02-23 ~ 2024-12-05 1029 / 7856 ========\n",
      "BMR not exist\n",
      "======= BMRA 2013-04-15 ~ 2022-04-14 1031 / 7856 ========\n",
      "======= BMRC 2007-04-19 ~ 2024-10-28 1032 / 7856 ========\n",
      "======= BMRN 1999-11-01 ~ 2024-10-29 1033 / 7856 ========\n"
     ]
    },
    {
     "name": "stderr",
     "output_type": "stream",
     "text": [
      "BMTC: No timezone found, symbol may be delisted\n"
     ]
    },
    {
     "name": "stdout",
     "output_type": "stream",
     "text": [
      "======= BMTC 1998-07-16 ~ 2021-10-21 1034 / 7856 ========\n",
      "======= BMY 1993-01-22 ~ 2024-10-31 1035 / 7856 ========\n",
      "======= BN 1994-11-09 ~ 2024-11-14 1036 / 7856 ========\n"
     ]
    },
    {
     "name": "stderr",
     "output_type": "stream",
     "text": [
      "BNAI: No price data found, symbol may be delisted (1d 2024-11-14 -> 2024-11-14)\n"
     ]
    },
    {
     "name": "stdout",
     "output_type": "stream",
     "text": [
      "======= BNAI 2024-11-14 ~ 2024-11-14 1037 / 7856 ========\n",
      "======= BNED 2015-09-09 ~ 2024-09-10 1038 / 7856 ========\n"
     ]
    },
    {
     "name": "stderr",
     "output_type": "stream",
     "text": [
      "BNFT: No timezone found, symbol may be delisted\n"
     ]
    },
    {
     "name": "stdout",
     "output_type": "stream",
     "text": [
      "======= BNFT 2013-11-07 ~ 2022-11-07 1039 / 7856 ========\n",
      "======= BNGO 2018-11-07 ~ 2024-08-07 1040 / 7856 ========\n",
      "BNH not exist\n",
      "BNIX not exist\n",
      "BNJ not exist\n",
      "======= BNL 2020-11-05 ~ 2024-10-30 1044 / 7856 ========\n",
      "BNNR not exist\n"
     ]
    },
    {
     "name": "stderr",
     "output_type": "stream",
     "text": [
      "BNOX: No price data found, symbol may be delisted (1d 2024-09-30 -> 2024-09-30)\n"
     ]
    },
    {
     "name": "stdout",
     "output_type": "stream",
     "text": [
      "======= BNOX 2024-09-30 ~ 2024-09-30 1046 / 7856 ========\n",
      "======= BNR 2020-08-11 ~ 2024-12-03 1047 / 7856 ========\n",
      "BNRE not exist\n",
      "BNRG not exist\n",
      "======= BNS 1993-03-02 ~ 2024-12-03 1050 / 7856 ========\n"
     ]
    },
    {
     "name": "stderr",
     "output_type": "stream",
     "text": [
      "BNSO: No timezone found, symbol may be delisted\n"
     ]
    },
    {
     "name": "stdout",
     "output_type": "stream",
     "text": [
      "======= BNSO 2002-11-12 ~ 2005-11-18 1051 / 7856 ========\n",
      "BNT not exist\n",
      "======= BNTC 2020-09-23 ~ 2024-09-26 1053 / 7856 ========\n",
      "======= BNTX 2019-11-14 ~ 2024-11-04 1054 / 7856 ========\n",
      "======= BNZI 2024-05-15 ~ 2024-11-14 1055 / 7856 ========\n",
      "BOAC not exist\n",
      "BOAS not exist\n",
      "======= BOC 2019-05-10 ~ 2024-11-12 1058 / 7856 ========\n"
     ]
    },
    {
     "name": "stderr",
     "output_type": "stream",
     "text": [
      "BOCH: No timezone found, symbol may be delisted\n"
     ]
    },
    {
     "name": "stdout",
     "output_type": "stream",
     "text": [
      "======= BOCH 2007-10-26 ~ 2021-07-23 1059 / 7856 ========\n",
      "BOCN not exist\n",
      "======= BODI 2023-11-07 ~ 2024-11-12 1061 / 7856 ========\n"
     ]
    },
    {
     "name": "stderr",
     "output_type": "stream",
     "text": [
      "BODY: No timezone found, symbol may be delisted\n"
     ]
    },
    {
     "name": "stdout",
     "output_type": "stream",
     "text": [
      "======= BODY 2021-08-12 ~ 2024-03-11 1062 / 7856 ========\n",
      "BOF not exist\n",
      "======= BOH 1993-01-20 ~ 2024-10-28 1064 / 7856 ========\n",
      "======= BOKF 1999-01-26 ~ 2024-10-21 1065 / 7856 ========\n",
      "======= BOLD 2016-08-31 ~ 2024-11-07 1066 / 7856 ========\n",
      "======= BOLT 2021-03-31 ~ 2024-08-13 1067 / 7856 ========\n"
     ]
    },
    {
     "name": "stderr",
     "output_type": "stream",
     "text": [
      "BOMN: No timezone found, symbol may be delisted\n"
     ]
    },
    {
     "name": "stdout",
     "output_type": "stream",
     "text": [
      "======= BOMN 2019-05-10 ~ 2021-11-12 1068 / 7856 ========\n",
      "BON not exist\n",
      "======= BOOM 1996-10-28 ~ 2024-11-04 1070 / 7856 ========\n",
      "======= BOOT 2015-02-04 ~ 2024-10-28 1071 / 7856 ========\n",
      "======= BORR 2017-05-30 ~ 2024-11-06 1072 / 7856 ========\n",
      "BOSC not exist\n",
      "BOTJ not exist\n",
      "======= BOW 2024-08-06 ~ 2024-11-05 1075 / 7856 ========\n",
      "======= BOWL 2021-11-15 ~ 2024-11-04 1076 / 7856 ========\n",
      "BOWN not exist\n",
      "BOWX not exist\n",
      "======= BOX 2015-03-11 ~ 2024-12-03 1079 / 7856 ========\n"
     ]
    },
    {
     "name": "stderr",
     "output_type": "stream",
     "text": [
      "BOXD: No timezone found, symbol may be delisted\n"
     ]
    },
    {
     "name": "stdout",
     "output_type": "stream",
     "text": [
      "======= BOXD 2022-03-15 ~ 2023-04-03 1080 / 7856 ========\n",
      "======= BOXL 2018-05-15 ~ 2024-11-13 1081 / 7856 ========\n",
      "======= BP 1993-02-12 ~ 2024-10-29 1082 / 7856 ========\n",
      "BPAC not exist\n"
     ]
    },
    {
     "name": "stderr",
     "output_type": "stream",
     "text": [
      "BPFH: No timezone found, symbol may be delisted\n"
     ]
    },
    {
     "name": "stdout",
     "output_type": "stream",
     "text": [
      "======= BPFH 1996-04-18 ~ 2021-04-22 1084 / 7856 ========\n",
      "======= BPMC 2015-06-11 ~ 2024-10-30 1085 / 7856 ========\n"
     ]
    },
    {
     "name": "stderr",
     "output_type": "stream",
     "text": [
      "BPMP: No timezone found, symbol may be delisted\n"
     ]
    },
    {
     "name": "stdout",
     "output_type": "stream",
     "text": [
      "======= BPMP 2017-12-06 ~ 2022-03-31 1086 / 7856 ========\n",
      "======= BPOP 1995-04-07 ~ 2024-10-23 1087 / 7856 ========\n",
      "======= BPRN 2017-10-24 ~ 2024-10-29 1088 / 7856 ========\n",
      "======= BPTH 2008-11-14 ~ 2024-08-15 1089 / 7856 ========\n",
      "BPTS not exist\n"
     ]
    },
    {
     "name": "stderr",
     "output_type": "stream",
     "text": [
      "BPY: No timezone found, symbol may be delisted\n"
     ]
    },
    {
     "name": "stdout",
     "output_type": "stream",
     "text": [
      "======= BPY 2015-04-30 ~ 2015-04-30 1091 / 7856 ========\n",
      "BPYPM not exist\n",
      "BPYPO not exist\n",
      "BPYU not exist\n"
     ]
    },
    {
     "name": "stderr",
     "output_type": "stream",
     "text": [
      "BQ: Data doesn't exist for startDate = 1605502800, endDate = 1663214400\n"
     ]
    },
    {
     "name": "stdout",
     "output_type": "stream",
     "text": [
      "======= BQ 2020-11-16 ~ 2022-09-15 1095 / 7856 ========\n",
      "======= BR 2007-05-15 ~ 2024-11-05 1096 / 7856 ========\n",
      "BRAC not exist\n",
      "======= BRAG 2021-08-11 ~ 2024-11-14 1098 / 7856 ========\n",
      "======= BRBR 2019-11-21 ~ 2024-11-18 1099 / 7856 ========\n",
      "======= BRC 1993-02-20 ~ 2024-11-18 1100 / 7856 ========\n",
      "======= BRCC 2022-03-16 ~ 2024-11-04 1101 / 7856 ========\n"
     ]
    },
    {
     "name": "stderr",
     "output_type": "stream",
     "text": [
      "BRCN: No timezone found, symbol may be delisted\n"
     ]
    },
    {
     "name": "stdout",
     "output_type": "stream",
     "text": [
      "======= BRCN 2011-02-11 ~ 2021-11-15 1102 / 7856 ========\n",
      "BRD not exist\n",
      "======= BRDG 2021-08-10 ~ 2024-11-06 1104 / 7856 ========\n"
     ]
    },
    {
     "name": "stderr",
     "output_type": "stream",
     "text": [
      "BRDS: No timezone found, symbol may be delisted\n"
     ]
    },
    {
     "name": "stdout",
     "output_type": "stream",
     "text": [
      "======= BRDS 2021-11-15 ~ 2023-08-09 1105 / 7856 ========\n",
      "BREA not exist\n",
      "BREZ not exist\n",
      "======= BRFH 2014-08-13 ~ 2024-10-24 1108 / 7856 ========\n",
      "======= BRFS 2002-02-20 ~ 2024-11-13 1109 / 7856 ========\n",
      "======= BRID 1993-09-09 ~ 2001-12-27 1110 / 7856 ========\n",
      "BRIV not exist\n",
      "======= BRK-A 2000-08-11 ~ 2024-11-04 1112 / 7856 ========\n",
      "======= BRK-B 2000-08-11 ~ 2024-11-02 1113 / 7856 ========\n",
      "BRKH not exist\n",
      "======= BRKL 1998-11-03 ~ 2024-10-23 1115 / 7856 ========\n",
      "======= BRKR 2001-08-07 ~ 2024-11-05 1116 / 7856 ========\n"
     ]
    },
    {
     "name": "stderr",
     "output_type": "stream",
     "text": [
      "BRKS: No timezone found, symbol may be delisted\n"
     ]
    },
    {
     "name": "stdout",
     "output_type": "stream",
     "text": [
      "======= BRKS 1995-04-27 ~ 2021-11-10 1117 / 7856 ========\n",
      "BRLI not exist\n",
      "BRLS not exist\n",
      "======= BRLT 2021-11-12 ~ 2024-11-07 1120 / 7856 ========\n"
     ]
    },
    {
     "name": "stderr",
     "output_type": "stream",
     "text": [
      "BRMK: No timezone found, symbol may be delisted\n"
     ]
    },
    {
     "name": "stdout",
     "output_type": "stream",
     "text": [
      "======= BRMK 2020-03-12 ~ 2023-05-09 1121 / 7856 ========\n",
      "======= BRNS 2023-08-10 ~ 2024-11-06 1122 / 7856 ========\n",
      "======= BRO 1994-10-12 ~ 2024-10-28 1123 / 7856 ========\n",
      "BROG not exist\n",
      "======= BROS 2021-11-10 ~ 2024-11-06 1125 / 7856 ========\n"
     ]
    },
    {
     "name": "stderr",
     "output_type": "stream",
     "text": [
      "BRP: No timezone found, symbol may be delisted\n"
     ]
    },
    {
     "name": "stdout",
     "output_type": "stream",
     "text": [
      "======= BRP 2019-12-02 ~ 2024-05-07 1126 / 7856 ========\n",
      "BRPM not exist\n"
     ]
    },
    {
     "name": "stderr",
     "output_type": "stream",
     "text": [
      "BRQS: No timezone found, symbol may be delisted\n"
     ]
    },
    {
     "name": "stdout",
     "output_type": "stream",
     "text": [
      "======= BRQS 2018-05-15 ~ 2018-05-15 1128 / 7856 ========\n",
      "BRSH not exist\n",
      "======= BRSP 2018-05-08 ~ 2024-10-29 1130 / 7856 ========\n",
      "======= BRT 2007-02-07 ~ 2024-11-07 1131 / 7856 ========\n",
      "======= BRTX 2022-03-30 ~ 2024-11-12 1132 / 7856 ========\n",
      "BRU not exist\n",
      "======= BRX 2014-02-19 ~ 2024-10-28 1134 / 7856 ========\n",
      "======= BRY 2018-08-22 ~ 2024-11-07 1135 / 7856 ========\n",
      "======= BRZE 2021-12-20 ~ 2024-09-05 1136 / 7856 ========\n",
      "BSA not exist\n",
      "======= BSAC 1997-10-20 ~ 2024-10-30 1138 / 7856 ========\n",
      "BSAQ not exist\n",
      "======= BSBK 2021-08-03 ~ 2024-11-01 1140 / 7856 ========\n",
      "======= BSBR 2010-02-04 ~ 2024-10-29 1141 / 7856 ========\n",
      "======= BSET 1993-04-02 ~ 2024-10-09 1142 / 7856 ========\n",
      "======= BSFC 2021-08-16 ~ 2024-11-14 1143 / 7856 ========\n",
      "BSGA not exist\n",
      "======= BSGM 2017-05-09 ~ 2024-11-14 1145 / 7856 ========\n",
      "======= BSIG 2015-02-27 ~ 2024-10-31 1146 / 7856 ========\n",
      "BSIIU not exist\n",
      "BSKY not exist\n",
      "BSLK not exist\n",
      "BSLKW not exist\n",
      "======= BSM 2015-08-12 ~ 2024-11-04 1151 / 7856 ========\n"
     ]
    },
    {
     "name": "stderr",
     "output_type": "stream",
     "text": [
      "BSMX: No timezone found, symbol may be delisted\n"
     ]
    },
    {
     "name": "stdout",
     "output_type": "stream",
     "text": [
      "======= BSMX 2013-02-18 ~ 2023-04-26 1152 / 7856 ========\n",
      "BSN not exist\n"
     ]
    },
    {
     "name": "stderr",
     "output_type": "stream",
     "text": [
      "BSQR: No timezone found, symbol may be delisted\n"
     ]
    },
    {
     "name": "stdout",
     "output_type": "stream",
     "text": [
      "======= BSQR 2000-04-27 ~ 2003-04-24 1154 / 7856 ========\n",
      "======= BSRR 2004-04-19 ~ 2024-10-21 1155 / 7856 ========\n",
      "======= BSVN 2018-10-30 ~ 2024-10-11 1156 / 7856 ========\n",
      "======= BSX 1993-04-27 ~ 2024-10-23 1157 / 7856 ========\n",
      "======= BSY 2020-11-10 ~ 2024-11-07 1158 / 7856 ========\n",
      "======= BTAI 2018-05-14 ~ 2024-08-06 1159 / 7856 ========\n",
      "BTAQ not exist\n",
      "BTB not exist\n",
      "BTBD not exist\n",
      "======= BTBT 2021-12-23 ~ 2024-11-18 1163 / 7856 ========\n",
      "======= BTCM 2014-02-21 ~ 2023-11-17 1164 / 7856 ========\n",
      "======= BTCS 2022-05-16 ~ 2024-08-19 1165 / 7856 ========\n",
      "BTCT not exist\n",
      "======= BTCY 2021-08-16 ~ 2024-06-26 1167 / 7856 ========\n",
      "======= BTDR 2023-11-13 ~ 2024-11-18 1168 / 7856 ========\n",
      "======= BTE 2023-02-23 ~ 2024-10-31 1169 / 7856 ========\n",
      "======= BTI 1993-09-03 ~ 2024-07-25 1170 / 7856 ========\n",
      "======= BTM 2023-11-13 ~ 2024-08-15 1171 / 7856 ========\n",
      "======= BTMD 2022-08-15 ~ 2024-11-12 1172 / 7856 ========\n",
      "BTNB not exist\n",
      "BTOC not exist\n",
      "BTOG not exist\n"
     ]
    },
    {
     "name": "stderr",
     "output_type": "stream",
     "text": [
      "BTRS: No timezone found, symbol may be delisted\n"
     ]
    },
    {
     "name": "stdout",
     "output_type": "stream",
     "text": [
      "======= BTRS 2021-03-24 ~ 2022-11-07 1176 / 7856 ========\n",
      "======= BTSG 2024-02-29 ~ 2024-11-01 1177 / 7856 ========\n",
      "======= BTTX 2021-11-23 ~ 2023-11-09 1178 / 7856 ========\n",
      "======= BTU 2001-10-25 ~ 2024-10-31 1179 / 7856 ========\n",
      "BTWN not exist\n"
     ]
    },
    {
     "name": "stderr",
     "output_type": "stream",
     "text": [
      "BTX: No timezone found, symbol may be delisted\n"
     ]
    },
    {
     "name": "stdout",
     "output_type": "stream",
     "text": [
      "======= BTX 1993-03-16 ~ 2022-08-11 1181 / 7856 ========\n",
      "======= BUD 2010-03-04 ~ 2024-10-31 1182 / 7856 ========\n",
      "BUJA not exist\n",
      "======= BUR 2023-06-13 ~ 2024-11-07 1184 / 7856 ========\n",
      "======= BURL 2013-12-10 ~ 2024-11-26 1185 / 7856 ========\n",
      "BURU not exist\n",
      "======= BUSE 1997-03-17 ~ 2024-10-22 1187 / 7856 ========\n",
      "======= BV 2018-08-08 ~ 2024-11-13 1188 / 7856 ========\n"
     ]
    },
    {
     "name": "stderr",
     "output_type": "stream",
     "text": [
      "BVH: No timezone found, symbol may be delisted\n"
     ]
    },
    {
     "name": "stdout",
     "output_type": "stream",
     "text": [
      "======= BVH 2007-08-09 ~ 2024-03-11 1189 / 7856 ========\n",
      "======= BVN 1998-03-13 ~ 2024-10-30 1190 / 7856 ========\n",
      "======= BVS 2021-03-25 ~ 2024-11-05 1191 / 7856 ========\n"
     ]
    },
    {
     "name": "stderr",
     "output_type": "stream",
     "text": [
      "BVXV: No timezone found, symbol may be delisted\n"
     ]
    },
    {
     "name": "stdout",
     "output_type": "stream",
     "text": [
      "======= BVXV 2015-08-09 ~ 2023-08-11 1192 / 7856 ========\n",
      "======= BW 2015-08-04 ~ 2024-11-12 1193 / 7856 ========\n",
      "======= BWA 1994-02-04 ~ 2024-10-31 1194 / 7856 ========\n",
      "BWAC not exist\n",
      "BWAQ not exist\n",
      "======= BWAY 2019-05-29 ~ 2024-11-12 1197 / 7856 ========\n",
      "======= BWB 2018-04-26 ~ 2024-10-23 1198 / 7856 ========\n",
      "BWC not exist\n",
      "======= BWEN 2010-05-07 ~ 2024-08-13 1200 / 7856 ========\n",
      "======= BWFG 2014-10-30 ~ 2024-10-28 1201 / 7856 ========\n",
      "======= BWIN 2024-03-04 ~ 2024-11-04 1202 / 7856 ========\n"
     ]
    },
    {
     "name": "stderr",
     "output_type": "stream",
     "text": [
      "BWLP: No price data found, symbol may be delisted (1d 2024-12-02 -> 2024-12-02)\n"
     ]
    },
    {
     "name": "stdout",
     "output_type": "stream",
     "text": [
      "======= BWLP 2024-12-02 ~ 2024-12-02 1203 / 7856 ========\n",
      "======= BWMN 2021-06-10 ~ 2024-11-07 1204 / 7856 ========\n",
      "======= BWMX 2023-02-23 ~ 2024-10-24 1205 / 7856 ========\n",
      "BWNB not exist\n",
      "BWSN not exist\n"
     ]
    },
    {
     "name": "stderr",
     "output_type": "stream",
     "text": [
      "BWV: No timezone found, symbol may be delisted\n"
     ]
    },
    {
     "name": "stdout",
     "output_type": "stream",
     "text": [
      "======= BWV 2022-11-10 ~ 2023-11-17 1208 / 7856 ========\n",
      "======= BWXT 2010-08-09 ~ 2024-11-04 1209 / 7856 ========\n",
      "======= BX 2007-11-12 ~ 2024-10-17 1210 / 7856 ========\n",
      "======= BXC 2005-05-09 ~ 2024-10-29 1211 / 7856 ========\n",
      "======= BXMT 1998-04-27 ~ 2024-10-23 1212 / 7856 ========\n",
      "======= BXP 2002-01-23 ~ 2024-10-29 1213 / 7856 ========\n"
     ]
    },
    {
     "name": "stderr",
     "output_type": "stream",
     "text": [
      "BXRX: No timezone found, symbol may be delisted\n"
     ]
    },
    {
     "name": "stdout",
     "output_type": "stream",
     "text": [
      "======= BXRX 2020-02-13 ~ 2023-11-20 1214 / 7856 ========\n"
     ]
    },
    {
     "name": "stderr",
     "output_type": "stream",
     "text": [
      "BXS: No timezone found, symbol may be delisted\n"
     ]
    },
    {
     "name": "stdout",
     "output_type": "stream",
     "text": [
      "======= BXS 1993-01-27 ~ 2021-10-25 1215 / 7856 ========\n",
      "======= BY 2017-07-27 ~ 2024-10-24 1216 / 7856 ========\n",
      "======= BYD 1994-01-28 ~ 2024-10-24 1217 / 7856 ========\n",
      "BYFC not exist\n",
      "BYN not exist\n",
      "======= BYND 2019-06-06 ~ 2024-11-06 1220 / 7856 ========\n",
      "BYNO not exist\n",
      "======= BYON 2023-07-27 ~ 2024-10-24 1222 / 7856 ========\n",
      "======= BYRN 2021-02-26 ~ 2024-10-09 1223 / 7856 ========\n",
      "======= BYSI 2017-05-22 ~ 2022-07-06 1224 / 7856 ========\n",
      "BYTS not exist\n",
      "BYU not exist\n",
      "======= BZ 2021-08-27 ~ 2024-08-28 1227 / 7856 ========\n",
      "======= BZFD 2022-03-22 ~ 2024-11-12 1228 / 7856 ========\n",
      "======= BZH 1994-04-29 ~ 2024-08-01 1229 / 7856 ========\n",
      "======= BZUN 2015-08-19 ~ 2024-05-28 1230 / 7856 ========\n",
      "======= C 1993-01-18 ~ 2024-10-15 1231 / 7856 ========\n",
      "======= CAAP 2018-05-23 ~ 2024-11-20 1232 / 7856 ========\n",
      "======= CAAS 2004-02-15 ~ 2024-11-13 1233 / 7856 ========\n",
      "======= CABA 2019-12-05 ~ 2024-11-14 1234 / 7856 ========\n",
      "======= CABO 2015-08-04 ~ 2024-11-07 1235 / 7856 ========\n",
      "======= CAC 2009-04-28 ~ 2024-10-29 1236 / 7856 ========\n",
      "======= CACC 1993-01-26 ~ 2024-10-30 1237 / 7856 ========\n",
      "======= CACI 1995-01-24 ~ 2024-10-23 1238 / 7856 ========\n",
      "CACO not exist\n",
      "======= CADE 1993-01-27 ~ 2024-10-21 1240 / 7856 ========\n",
      "======= CADL 2021-09-08 ~ 2024-03-28 1241 / 7856 ========\n",
      "======= CAE 1993-06-16 ~ 2024-08-13 1242 / 7856 ========\n",
      "======= CAG 1993-03-23 ~ 2024-10-02 1243 / 7856 ========\n",
      "======= CAH 1993-01-20 ~ 2024-11-01 1244 / 7856 ========\n",
      "CAHC not exist\n"
     ]
    },
    {
     "name": "stderr",
     "output_type": "stream",
     "text": [
      "CAI: No timezone found, symbol may be delisted\n"
     ]
    },
    {
     "name": "stdout",
     "output_type": "stream",
     "text": [
      "======= CAI 2007-07-25 ~ 2021-11-05 1246 / 7856 ========\n"
     ]
    },
    {
     "name": "stderr",
     "output_type": "stream",
     "text": [
      "CAJ: No timezone found, symbol may be delisted\n"
     ]
    },
    {
     "name": "stdout",
     "output_type": "stream",
     "text": [
      "======= CAJ 2005-10-27 ~ 2023-04-25 1247 / 7856 ========\n",
      "======= CAKE 1993-05-10 ~ 2024-10-29 1248 / 7856 ========\n",
      "======= CAL 1993-03-05 ~ 2024-12-05 1249 / 7856 ========\n",
      "======= CALA 2014-11-14 ~ 2023-03-30 1250 / 7856 ========\n"
     ]
    },
    {
     "name": "stderr",
     "output_type": "stream",
     "text": [
      "CALB: No timezone found, symbol may be delisted\n"
     ]
    },
    {
     "name": "stdout",
     "output_type": "stream",
     "text": [
      "======= CALB 2019-07-29 ~ 2024-07-29 1251 / 7856 ========\n",
      "======= CALC 2020-11-12 ~ 2024-08-12 1252 / 7856 ========\n",
      "======= CALM 1999-03-29 ~ 2024-10-01 1253 / 7856 ========\n"
     ]
    },
    {
     "name": "stderr",
     "output_type": "stream",
     "text": [
      "CALT: No timezone found, symbol may be delisted\n"
     ]
    },
    {
     "name": "stdout",
     "output_type": "stream",
     "text": [
      "======= CALT 2020-08-13 ~ 2024-08-13 1254 / 7856 ========\n",
      "======= CALX 2010-05-06 ~ 2024-10-28 1255 / 7856 ========\n",
      "======= CAMP 1993-04-22 ~ 2024-11-21 1256 / 7856 ========\n",
      "======= CAMT 2000-11-01 ~ 2024-08-01 1257 / 7856 ========\n",
      "======= CAN 2022-05-19 ~ 2024-11-20 1258 / 7856 ========\n",
      "======= CANG 2018-11-22 ~ 2023-03-09 1259 / 7856 ========\n"
     ]
    },
    {
     "name": "stderr",
     "output_type": "stream",
     "text": [
      "CANO: No timezone found, symbol may be delisted\n"
     ]
    },
    {
     "name": "stdout",
     "output_type": "stream",
     "text": [
      "======= CANO 2021-08-12 ~ 2024-03-06 1260 / 7856 ========\n",
      "======= CAPL 2013-05-13 ~ 2024-11-06 1261 / 7856 ========\n",
      "CAPN not exist\n",
      "CAPNR not exist\n",
      "CAPNU not exist\n",
      "======= CAPR 2008-03-13 ~ 2024-08-07 1265 / 7856 ========\n",
      "CAPT not exist\n",
      "CAPTW not exist\n",
      "======= CAR 1993-06-02 ~ 2024-10-31 1268 / 7856 ========\n",
      "======= CARA 2014-05-12 ~ 2024-11-14 1269 / 7856 ========\n",
      "======= CARE 2019-04-25 ~ 2024-10-24 1270 / 7856 ========\n",
      "======= CARG 2018-03-01 ~ 2024-11-07 1271 / 7856 ========\n",
      "======= CARM 2014-05-15 ~ 2024-11-07 1272 / 7856 ========\n",
      "======= CARR 2020-05-08 ~ 2024-10-24 1273 / 7856 ========\n",
      "======= CARS 2017-11-08 ~ 2024-11-07 1274 / 7856 ========\n",
      "======= CART 2023-11-08 ~ 2024-11-12 1275 / 7856 ========\n",
      "======= CARV 1998-05-08 ~ 2007-02-20 1276 / 7856 ========\n",
      "CAS not exist\n"
     ]
    },
    {
     "name": "stderr",
     "output_type": "stream",
     "text": [
      "CASA: No timezone found, symbol may be delisted\n"
     ]
    },
    {
     "name": "stdout",
     "output_type": "stream",
     "text": [
      "======= CASA 2018-03-06 ~ 2024-05-14 1278 / 7856 ========\n",
      "======= CASH 1996-10-18 ~ 2024-10-23 1279 / 7856 ========\n",
      "======= CASI 1996-11-18 ~ 2024-11-15 1280 / 7856 ========\n",
      "======= CASS 1996-10-31 ~ 2024-10-17 1281 / 7856 ========\n",
      "======= CASY 1993-03-02 ~ 2024-09-04 1282 / 7856 ========\n",
      "======= CAT 1993-02-01 ~ 2024-10-30 1283 / 7856 ========\n",
      "CATB not exist\n",
      "======= CATC 2019-07-16 ~ 2024-07-16 1285 / 7856 ========\n"
     ]
    },
    {
     "name": "stderr",
     "output_type": "stream",
     "text": [
      "CATM: No timezone found, symbol may be delisted\n"
     ]
    },
    {
     "name": "stdout",
     "output_type": "stream",
     "text": [
      "======= CATM 2008-02-28 ~ 2021-05-07 1286 / 7856 ========\n",
      "======= CATO 1993-05-18 ~ 2018-08-23 1287 / 7856 ========\n",
      "======= CATX 2007-11-08 ~ 2024-08-12 1288 / 7856 ========\n",
      "======= CATY 1999-01-19 ~ 2024-10-21 1289 / 7856 ========\n",
      "CAUD not exist\n",
      "======= CAVA 2023-08-15 ~ 2024-11-12 1291 / 7856 ========\n",
      "======= CB 1993-08-03 ~ 2024-10-29 1292 / 7856 ========\n",
      "CBAH not exist\n",
      "======= CBAN 2006-01-20 ~ 2024-10-23 1294 / 7856 ========\n",
      "======= CBAT 2006-08-22 ~ 2024-08-09 1295 / 7856 ========\n"
     ]
    },
    {
     "name": "stderr",
     "output_type": "stream",
     "text": [
      "CBAY: No timezone found, symbol may be delisted\n"
     ]
    },
    {
     "name": "stdout",
     "output_type": "stream",
     "text": [
      "======= CBAY 2014-08-14 ~ 2024-02-28 1296 / 7856 ========\n"
     ]
    },
    {
     "name": "stderr",
     "output_type": "stream",
     "text": [
      "CBB: No timezone found, symbol may be delisted\n"
     ]
    },
    {
     "name": "stdout",
     "output_type": "stream",
     "text": [
      "======= CBB 1993-01-20 ~ 2021-07-29 1297 / 7856 ========\n"
     ]
    },
    {
     "name": "stderr",
     "output_type": "stream",
     "text": [
      "CBD: No timezone found, symbol may be delisted\n"
     ]
    },
    {
     "name": "stdout",
     "output_type": "stream",
     "text": [
      "======= CBD 1996-08-07 ~ 2023-07-27 1298 / 7856 ========\n",
      "======= CBFV 2015-10-30 ~ 2024-10-25 1299 / 7856 ========\n"
     ]
    },
    {
     "name": "stderr",
     "output_type": "stream",
     "text": [
      "CBIO: No timezone found, symbol may be delisted\n"
     ]
    },
    {
     "name": "stdout",
     "output_type": "stream",
     "text": [
      "======= CBIO 2006-05-25 ~ 2023-10-26 1300 / 7856 ========\n"
     ]
    },
    {
     "name": "stderr",
     "output_type": "stream",
     "text": [
      "CBL: Data doesn't exist for startDate = 1027483200, endDate = 1596686400\n"
     ]
    },
    {
     "name": "stdout",
     "output_type": "stream",
     "text": [
      "======= CBL 2002-07-24 ~ 2020-08-06 1301 / 7856 ========\n"
     ]
    },
    {
     "name": "stderr",
     "output_type": "stream",
     "text": [
      "CBLI: No timezone found, symbol may be delisted\n"
     ]
    },
    {
     "name": "stdout",
     "output_type": "stream",
     "text": [
      "======= CBLI 2007-08-14 ~ 2014-05-08 1302 / 7856 ========\n",
      "CBLL not exist\n",
      "CBNA not exist\n",
      "======= CBNK 2018-10-25 ~ 2024-10-28 1305 / 7856 ========\n",
      "======= CBRE 1997-05-13 ~ 2024-10-24 1306 / 7856 ========\n",
      "CBRG not exist\n",
      "======= CBRL 1993-02-17 ~ 2024-11-14 1308 / 7856 ========\n",
      "======= CBSH 1993-01-20 ~ 2024-10-17 1309 / 7856 ========\n",
      "======= CBT 1993-01-29 ~ 2024-11-04 1310 / 7856 ========\n"
     ]
    },
    {
     "name": "stderr",
     "output_type": "stream",
     "text": [
      "CBTX: No timezone found, symbol may be delisted\n"
     ]
    },
    {
     "name": "stdout",
     "output_type": "stream",
     "text": [
      "======= CBTX 2017-12-14 ~ 2022-10-25 1311 / 7856 ========\n",
      "======= CBU 1995-01-24 ~ 2024-10-22 1312 / 7856 ========\n",
      "======= CBUS 2023-05-01 ~ 2024-11-07 1313 / 7856 ========\n",
      "CBX not exist\n",
      "======= CBZ 1998-02-17 ~ 2024-10-29 1315 / 7856 ========\n",
      "======= CC 2015-08-06 ~ 2024-11-04 1316 / 7856 ========\n",
      "CCAC not exist\n",
      "CCAI not exist\n",
      "======= CCAP 2020-03-04 ~ 2024-11-12 1319 / 7856 ========\n",
      "======= CCB 2018-10-23 ~ 2024-10-28 1320 / 7856 ========\n",
      "======= CCBG 1999-07-29 ~ 2024-10-22 1321 / 7856 ========\n",
      "======= CCCC 2020-11-12 ~ 2024-10-31 1322 / 7856 ========\n",
      "======= CCCS 2021-11-10 ~ 2024-10-28 1323 / 7856 ========\n",
      "======= CCEC 2024-04-30 ~ 2024-11-08 1324 / 7856 ========\n",
      "======= CCEL 2006-10-16 ~ 2024-10-15 1325 / 7856 ========\n",
      "======= CCEP 1993-07-22 ~ 2024-11-05 1326 / 7856 ========\n",
      "======= CCG 2012-10-30 ~ 2024-11-26 1327 / 7856 ========\n",
      "CCGWW not exist\n",
      "======= CCI 1999-02-25 ~ 2024-10-16 1329 / 7856 ========\n",
      "CCIRU not exist\n",
      "CCIV not exist\n",
      "CCIX not exist\n",
      "CCIXU not exist\n",
      "CCIXW not exist\n",
      "======= CCJ 1993-07-19 ~ 2024-11-07 1335 / 7856 ========\n",
      "======= CCK 1993-02-09 ~ 2024-10-17 1336 / 7856 ========\n",
      "======= CCL 1993-03-24 ~ 2024-09-30 1337 / 7856 ========\n",
      "======= CCLD 2014-11-12 ~ 2024-11-12 1338 / 7856 ========\n"
     ]
    },
    {
     "name": "stderr",
     "output_type": "stream",
     "text": [
      "CCLP: No timezone found, symbol may be delisted\n"
     ]
    },
    {
     "name": "stdout",
     "output_type": "stream",
     "text": [
      "======= CCLP 2011-11-03 ~ 2021-11-10 1339 / 7856 ========\n",
      "======= CCM 2010-03-18 ~ 2019-08-23 1340 / 7856 ========\n"
     ]
    },
    {
     "name": "stderr",
     "output_type": "stream",
     "text": [
      "CCMP: No timezone found, symbol may be delisted\n"
     ]
    },
    {
     "name": "stdout",
     "output_type": "stream",
     "text": [
      "======= CCMP 2000-07-25 ~ 2022-05-04 1341 / 7856 ========\n",
      "CCNC not exist\n",
      "======= CCNE 2009-07-29 ~ 2024-10-21 1343 / 7856 ========\n",
      "======= CCO 2006-02-21 ~ 2024-10-31 1344 / 7856 ========\n",
      "======= CCOI 2005-08-12 ~ 2024-11-07 1345 / 7856 ========\n",
      "CCRC not exist\n",
      "======= CCRD 2019-11-01 ~ 2024-10-31 1347 / 7856 ========\n",
      "======= CCRN 2002-05-07 ~ 2024-11-06 1348 / 7856 ========\n",
      "======= CCS 2014-08-07 ~ 2024-10-23 1349 / 7856 ========\n",
      "======= CCSI 2021-11-09 ~ 2024-11-07 1350 / 7856 ========\n",
      "CCTG not exist\n",
      "CCTS not exist\n",
      "======= CCU 1993-03-25 ~ 2024-11-06 1353 / 7856 ========\n",
      "CCV not exist\n",
      "CCVI not exist\n"
     ]
    },
    {
     "name": "stderr",
     "output_type": "stream",
     "text": [
      "CCXI: No timezone found, symbol may be delisted\n"
     ]
    },
    {
     "name": "stdout",
     "output_type": "stream",
     "text": [
      "======= CCXI 2012-05-10 ~ 2022-08-08 1356 / 7856 ========\n",
      "CCZ not exist\n"
     ]
    },
    {
     "name": "stderr",
     "output_type": "stream",
     "text": [
      "CD: No timezone found, symbol may be delisted\n"
     ]
    },
    {
     "name": "stdout",
     "output_type": "stream",
     "text": [
      "======= CD 2021-03-24 ~ 2023-12-19 1358 / 7856 ========\n"
     ]
    },
    {
     "name": "stderr",
     "output_type": "stream",
     "text": [
      "CDAK: No timezone found, symbol may be delisted\n"
     ]
    },
    {
     "name": "stdout",
     "output_type": "stream",
     "text": [
      "======= CDAK 2020-11-19 ~ 2023-04-03 1359 / 7856 ========\n",
      "CDAQ not exist\n"
     ]
    },
    {
     "name": "stderr",
     "output_type": "stream",
     "text": [
      "CDAY: No timezone found, symbol may be delisted\n"
     ]
    },
    {
     "name": "stdout",
     "output_type": "stream",
     "text": [
      "======= CDAY 2018-05-22 ~ 2024-02-07 1361 / 7856 ========\n",
      "======= CDE 1993-02-23 ~ 2024-11-06 1362 / 7856 ========\n"
     ]
    },
    {
     "name": "stderr",
     "output_type": "stream",
     "text": [
      "CDEV: No timezone found, symbol may be delisted\n"
     ]
    },
    {
     "name": "stdout",
     "output_type": "stream",
     "text": [
      "======= CDEV 2016-11-09 ~ 2022-08-03 1363 / 7856 ========\n",
      "======= CDIO 2022-11-07 ~ 2024-08-12 1364 / 7856 ========\n"
     ]
    },
    {
     "name": "stderr",
     "output_type": "stream",
     "text": [
      "CDK: No timezone found, symbol may be delisted\n"
     ]
    },
    {
     "name": "stdout",
     "output_type": "stream",
     "text": [
      "======= CDK 2015-02-05 ~ 2022-05-05 1365 / 7856 ========\n",
      "======= CDLR 2024-03-26 ~ 2024-05-28 1366 / 7856 ========\n",
      "======= CDLX 2018-03-19 ~ 2024-11-06 1367 / 7856 ========\n",
      "======= CDMO 2008-03-11 ~ 2024-09-09 1368 / 7856 ========\n",
      "======= CDNA 2014-11-10 ~ 2024-11-04 1369 / 7856 ========\n",
      "======= CDNS 1993-01-28 ~ 2024-10-28 1370 / 7856 ========\n",
      "======= CDP 2023-04-27 ~ 2024-10-28 1371 / 7856 ========\n"
     ]
    },
    {
     "name": "stderr",
     "output_type": "stream",
     "text": [
      "CDR: No timezone found, symbol may be delisted\n"
     ]
    },
    {
     "name": "stdout",
     "output_type": "stream",
     "text": [
      "======= CDR 2005-10-31 ~ 2022-05-05 1372 / 7856 ========\n",
      "CDR-PB not exist\n",
      "======= CDRE 2021-12-02 ~ 2024-11-06 1374 / 7856 ========\n",
      "======= CDRO 2022-04-29 ~ 2023-05-11 1375 / 7856 ========\n",
      "CDT not exist\n",
      "CDTG not exist\n",
      "======= CDTX 2015-05-21 ~ 2024-11-07 1378 / 7856 ========\n",
      "======= CDW 2013-11-01 ~ 2024-10-30 1379 / 7856 ========\n",
      "======= CDXC 2012-11-08 ~ 2024-10-31 1380 / 7856 ========\n",
      "======= CDXS 2010-08-05 ~ 2024-10-31 1381 / 7856 ========\n",
      "======= CDZI 1999-02-23 ~ 2024-11-13 1382 / 7856 ========\n",
      "======= CE 2005-05-10 ~ 2024-11-04 1383 / 7856 ========\n",
      "CEA not exist\n",
      "CEAD not exist\n",
      "CEADW not exist\n"
     ]
    },
    {
     "name": "stderr",
     "output_type": "stream",
     "text": [
      "CECE: No timezone found, symbol may be delisted\n"
     ]
    },
    {
     "name": "stdout",
     "output_type": "stream",
     "text": [
      "======= CECE 2006-05-09 ~ 2022-11-07 1387 / 7856 ========\n",
      "======= CECO 2006-08-10 ~ 2024-10-29 1388 / 7856 ========\n",
      "======= CEG 2022-01-28 ~ 2024-11-04 1389 / 7856 ========\n",
      "======= CEIX 2018-02-06 ~ 2024-11-05 1390 / 7856 ========\n",
      "======= CELC 2017-11-13 ~ 2024-08-14 1391 / 7856 ========\n",
      "======= CELH 2009-11-07 ~ 2024-11-06 1392 / 7856 ========\n"
     ]
    },
    {
     "name": "stderr",
     "output_type": "stream",
     "text": [
      "CELP: No timezone found, symbol may be delisted\n"
     ]
    },
    {
     "name": "stdout",
     "output_type": "stream",
     "text": [
      "======= CELP 2014-05-14 ~ 2020-11-12 1393 / 7856 ========\n",
      "======= CELU 2021-05-24 ~ 2024-10-16 1394 / 7856 ========\n",
      "======= CELZ 2022-03-30 ~ 2024-11-08 1395 / 7856 ========\n"
     ]
    },
    {
     "name": "stderr",
     "output_type": "stream",
     "text": [
      "CEMI: No timezone found, symbol may be delisted\n"
     ]
    },
    {
     "name": "stdout",
     "output_type": "stream",
     "text": [
      "======= CEMI 2007-05-11 ~ 2022-05-05 1396 / 7856 ========\n",
      "CENH not exist\n",
      "CENN not exist\n",
      "CENQ not exist\n",
      "======= CENT 1994-05-09 ~ 2024-08-07 1400 / 7856 ========\n",
      "======= CENX 1996-07-24 ~ 2024-11-04 1401 / 7856 ========\n",
      "CEO not exist\n",
      "CEP not exist\n",
      "======= CEPU 2018-08-14 ~ 2024-11-11 1404 / 7856 ========\n"
     ]
    },
    {
     "name": "stderr",
     "output_type": "stream",
     "text": [
      "CEQP: No timezone found, symbol may be delisted\n"
     ]
    },
    {
     "name": "stdout",
     "output_type": "stream",
     "text": [
      "======= CEQP 2001-12-20 ~ 2023-11-01 1405 / 7856 ========\n"
     ]
    },
    {
     "name": "stderr",
     "output_type": "stream",
     "text": [
      "CERC: No timezone found, symbol may be delisted\n"
     ]
    },
    {
     "name": "stdout",
     "output_type": "stream",
     "text": [
      "======= CERC 2016-03-23 ~ 2021-08-02 1406 / 7856 ========\n"
     ]
    },
    {
     "name": "stderr",
     "output_type": "stream",
     "text": [
      "CERE: No timezone found, symbol may be delisted\n"
     ]
    },
    {
     "name": "stdout",
     "output_type": "stream",
     "text": [
      "======= CERE 2021-03-24 ~ 2024-08-07 1407 / 7856 ========\n"
     ]
    },
    {
     "name": "stderr",
     "output_type": "stream",
     "text": [
      "CERN: No timezone found, symbol may be delisted\n"
     ]
    },
    {
     "name": "stdout",
     "output_type": "stream",
     "text": [
      "======= CERN 1993-10-18 ~ 2022-05-03 1408 / 7856 ========\n",
      "CERO not exist\n",
      "======= CERS 1997-04-24 ~ 2024-10-30 1410 / 7856 ========\n",
      "======= CERT 2021-03-04 ~ 2024-11-06 1411 / 7856 ========\n",
      "CET not exist\n",
      "CETU not exist\n",
      "======= CETX 2015-07-30 ~ 2024-05-14 1414 / 7856 ========\n",
      "CETXW not exist\n",
      "======= CEVA 2001-04-04 ~ 2024-11-07 1416 / 7856 ========\n",
      "======= CF 2006-02-23 ~ 2024-10-30 1417 / 7856 ========\n",
      "CFACU not exist\n",
      "======= CFB 2019-10-21 ~ 2024-10-22 1419 / 7856 ========\n",
      "======= CFBK 1999-04-22 ~ 2024-10-30 1420 / 7856 ========\n",
      "CFFE not exist\n",
      "======= CFFI 2003-01-29 ~ 2012-04-25 1422 / 7856 ========\n",
      "======= CFFN 1999-05-18 ~ 2024-10-23 1423 / 7856 ========\n",
      "CFFS not exist\n",
      "======= CFG 2014-10-27 ~ 2024-10-16 1425 / 7856 ========\n",
      "CFG-PH not exist\n",
      "CFIV not exist\n",
      "======= CFLT 2021-08-05 ~ 2024-10-30 1428 / 7856 ========\n"
     ]
    },
    {
     "name": "stderr",
     "output_type": "stream",
     "text": [
      "CFMS: No timezone found, symbol may be delisted\n"
     ]
    },
    {
     "name": "stdout",
     "output_type": "stream",
     "text": [
      "======= CFMS 2015-08-11 ~ 2023-08-02 1429 / 7856 ========\n",
      "======= CFR 1993-01-16 ~ 2024-10-31 1430 / 7856 ========\n"
     ]
    },
    {
     "name": "stderr",
     "output_type": "stream",
     "text": [
      "CFRX: No timezone found, symbol may be delisted\n"
     ]
    },
    {
     "name": "stdout",
     "output_type": "stream",
     "text": [
      "======= CFRX 2015-03-26 ~ 2023-11-14 1431 / 7856 ========\n",
      "CFSB not exist\n",
      "CFV not exist\n",
      "CFVI not exist\n"
     ]
    },
    {
     "name": "stderr",
     "output_type": "stream",
     "text": [
      "CFX: No timezone found, symbol may be delisted\n"
     ]
    },
    {
     "name": "stdout",
     "output_type": "stream",
     "text": [
      "======= CFX 2008-08-05 ~ 2022-04-27 1435 / 7856 ========\n",
      "CFXA not exist\n",
      "======= CG 2012-08-08 ~ 2024-11-06 1437 / 7856 ========\n",
      "======= CGA 2009-02-11 ~ 2011-09-09 1438 / 7856 ========\n",
      "CGABL not exist\n",
      "======= CGAU 2004-10-26 ~ 2024-10-31 1440 / 7856 ========\n",
      "======= CGBD 2017-08-08 ~ 2024-11-05 1441 / 7856 ========\n",
      "CGBDL not exist\n",
      "CGBS not exist\n",
      "CGBSW not exist\n",
      "======= CGC 2015-02-25 ~ 2024-11-08 1445 / 7856 ========\n",
      "======= CGEM 2021-03-30 ~ 2024-11-07 1446 / 7856 ========\n",
      "======= CGEN 2000-10-31 ~ 2024-08-06 1447 / 7856 ========\n",
      "======= CGNT 2021-04-29 ~ 2024-09-10 1448 / 7856 ========\n",
      "======= CGNX 1993-04-20 ~ 2024-10-30 1449 / 7856 ========\n",
      "======= CGON 2024-05-09 ~ 2024-08-08 1450 / 7856 ========\n"
     ]
    },
    {
     "name": "stderr",
     "output_type": "stream",
     "text": [
      "CGRN: No timezone found, symbol may be delisted\n"
     ]
    },
    {
     "name": "stdout",
     "output_type": "stream",
     "text": [
      "======= CGRN 2000-10-24 ~ 2023-11-13 1451 / 7856 ========\n",
      "CGTL not exist\n",
      "======= CGTX 2021-11-17 ~ 2024-08-08 1453 / 7856 ========\n",
      "CHAA not exist\n",
      "CHARU not exist\n",
      "======= CHCI 2005-05-03 ~ 2008-05-13 1456 / 7856 ========\n",
      "======= CHCO 1996-01-30 ~ 2024-10-24 1457 / 7856 ========\n",
      "======= CHCT 2015-08-13 ~ 2024-10-29 1458 / 7856 ========\n",
      "======= CHD 1993-01-28 ~ 2024-11-01 1459 / 7856 ========\n",
      "======= CHDN 1999-08-03 ~ 2024-10-23 1460 / 7856 ========\n",
      "======= CHE 1993-04-22 ~ 2024-10-29 1461 / 7856 ========\n",
      "CHEA not exist\n",
      "======= CHEF 2011-10-27 ~ 2024-10-30 1463 / 7856 ========\n",
      "======= CHEK 2015-06-04 ~ 2024-05-15 1464 / 7856 ========\n",
      "CHEKZ not exist\n",
      "CHG not exist\n",
      "======= CHGG 2014-05-01 ~ 2024-08-05 1467 / 7856 ========\n",
      "======= CHH 1998-01-08 ~ 2024-11-04 1468 / 7856 ========\n"
     ]
    },
    {
     "name": "stderr",
     "output_type": "stream",
     "text": [
      "CHK: No data found, symbol may be delisted\n"
     ]
    },
    {
     "name": "stdout",
     "output_type": "stream",
     "text": [
      "======= CHK 1993-09-17 ~ 2024-10-29 1469 / 7856 ========\n",
      "CHKEL not exist\n",
      "CHKEW not exist\n",
      "CHKEZ not exist\n",
      "======= CHKP 1997-01-29 ~ 2024-10-29 1473 / 7856 ========\n"
     ]
    },
    {
     "name": "stderr",
     "output_type": "stream",
     "text": [
      "CHMA: No timezone found, symbol may be delisted\n"
     ]
    },
    {
     "name": "stdout",
     "output_type": "stream",
     "text": [
      "======= CHMA 2015-08-31 ~ 2021-05-05 1474 / 7856 ========\n",
      "======= CHMG 2012-03-28 ~ 2024-10-22 1475 / 7856 ========\n",
      "======= CHMI 2014-05-13 ~ 2024-11-12 1476 / 7856 ========\n"
     ]
    },
    {
     "name": "stderr",
     "output_type": "stream",
     "text": [
      "CHNG: No timezone found, symbol may be delisted\n"
     ]
    },
    {
     "name": "stdout",
     "output_type": "stream",
     "text": [
      "======= CHNG 2019-08-13 ~ 2022-08-03 1477 / 7856 ========\n",
      "CHNR not exist\n",
      "CHPM not exist\n",
      "======= CHPT 2021-03-11 ~ 2024-09-04 1480 / 7856 ========\n",
      "CHR not exist\n"
     ]
    },
    {
     "name": "stderr",
     "output_type": "stream",
     "text": [
      "CHRA: No timezone found, symbol may be delisted\n"
     ]
    },
    {
     "name": "stdout",
     "output_type": "stream",
     "text": [
      "======= CHRA 2018-08-14 ~ 2023-06-30 1482 / 7856 ========\n",
      "unsupported operand type(s) for -: 'NoneType' and 'float'\n",
      "CHRB not exist\n",
      "======= CHRD 2010-08-11 ~ 2024-11-06 1484 / 7856 ========\n",
      "======= CHRS 2015-03-23 ~ 2024-11-06 1485 / 7856 ========\n",
      "======= CHRW 1998-02-10 ~ 2024-10-30 1486 / 7856 ========\n"
     ]
    },
    {
     "name": "stderr",
     "output_type": "stream",
     "text": [
      "CHS: No timezone found, symbol may be delisted\n"
     ]
    },
    {
     "name": "stdout",
     "output_type": "stream",
     "text": [
      "======= CHS 1996-08-01 ~ 2024-02-27 1487 / 7856 ========\n",
      "CHSCL not exist\n",
      "CHSN not exist\n",
      "======= CHT 2012-08-29 ~ 2013-01-30 1490 / 7856 ========\n",
      "======= CHTR 2010-08-04 ~ 2024-11-01 1491 / 7856 ========\n",
      "======= CHUY 2013-02-25 ~ 2024-08-09 1492 / 7856 ========\n",
      "CHWA not exist\n",
      "======= CHWY 2019-07-18 ~ 2024-12-04 1494 / 7856 ========\n",
      "======= CHX 2018-06-05 ~ 2024-10-23 1495 / 7856 ========\n",
      "======= CI 1993-02-16 ~ 2024-10-31 1496 / 7856 ========\n",
      "======= CIA 2008-05-08 ~ 2024-11-07 1497 / 7856 ========\n",
      "CIAN not exist\n",
      "======= CIB 1996-07-31 ~ 2024-11-08 1499 / 7856 ========\n"
     ]
    },
    {
     "name": "stderr",
     "output_type": "stream",
     "text": [
      "CIDM: No timezone found, symbol may be delisted\n"
     ]
    },
    {
     "name": "stdout",
     "output_type": "stream",
     "text": [
      "======= CIDM 2005-08-11 ~ 2023-08-14 1500 / 7856 ========\n",
      "======= CIEN 1997-05-22 ~ 2024-09-04 1501 / 7856 ========\n",
      "======= CIFR 2022-11-14 ~ 2024-10-31 1502 / 7856 ========\n",
      "======= CIG 1996-08-08 ~ 2024-12-10 1503 / 7856 ========\n",
      "======= CIG-C 1996-08-08 ~ 2024-11-14 1504 / 7856 ========\n",
      "======= CIGI 1997-01-23 ~ 2024-11-05 1505 / 7856 ========\n",
      "CIH not exist\n",
      "CIIG not exist\n",
      "======= CIM 2008-02-06 ~ 2024-11-06 1508 / 7856 ========\n"
     ]
    },
    {
     "name": "stderr",
     "output_type": "stream",
     "text": [
      "CINC: No timezone found, symbol may be delisted\n"
     ]
    },
    {
     "name": "stdout",
     "output_type": "stream",
     "text": [
      "======= CINC 2022-03-22 ~ 2022-11-03 1509 / 7856 ========\n",
      "======= CINF 1993-02-05 ~ 2024-10-24 1510 / 7856 ========\n",
      "======= CING 2022-03-10 ~ 2024-11-07 1511 / 7856 ========\n"
     ]
    },
    {
     "name": "stderr",
     "output_type": "stream",
     "text": [
      "CINR: No timezone found, symbol may be delisted\n"
     ]
    },
    {
     "name": "stdout",
     "output_type": "stream",
     "text": [
      "======= CINR 2013-11-05 ~ 2019-05-10 1512 / 7856 ========\n",
      "======= CINT 2022-03-09 ~ 2024-08-16 1513 / 7856 ========\n",
      "======= CIO 2014-05-23 ~ 2024-10-31 1514 / 7856 ========\n",
      "======= CION 2022-03-10 ~ 2024-11-07 1515 / 7856 ========\n"
     ]
    },
    {
     "name": "stderr",
     "output_type": "stream",
     "text": [
      "CIR: No timezone found, symbol may be delisted\n"
     ]
    },
    {
     "name": "stdout",
     "output_type": "stream",
     "text": [
      "======= CIR 2000-02-15 ~ 2023-11-13 1516 / 7856 ========\n",
      "======= CISO 2022-11-14 ~ 2023-11-13 1517 / 7856 ========\n",
      "CISS not exist\n"
     ]
    },
    {
     "name": "stderr",
     "output_type": "stream",
     "text": [
      "CIT: No timezone found, symbol may be delisted\n"
     ]
    },
    {
     "name": "stdout",
     "output_type": "stream",
     "text": [
      "======= CIT 1998-01-28 ~ 2021-10-26 1519 / 7856 ========\n",
      "CITE not exist\n",
      "======= CIVB 2009-08-10 ~ 2024-10-29 1521 / 7856 ========\n",
      "======= CIVI 2012-03-22 ~ 2024-11-08 1522 / 7856 ========\n"
     ]
    },
    {
     "name": "stderr",
     "output_type": "stream",
     "text": [
      "CIXX: No timezone found, symbol may be delisted\n"
     ]
    },
    {
     "name": "stdout",
     "output_type": "stream",
     "text": [
      "======= CIXX 1997-08-08 ~ 2022-11-10 1523 / 7856 ========\n",
      "CJET not exist\n",
      "======= CJJD 2010-08-16 ~ 2011-02-15 1525 / 7856 ========\n",
      "======= CKPT 2017-05-10 ~ 2024-08-12 1526 / 7856 ========\n",
      "======= CL 1993-02-05 ~ 2024-10-25 1527 / 7856 ========\n",
      "CLAA not exist\n",
      "CLAQ not exist\n",
      "======= CLAR 1998-07-21 ~ 2024-11-07 1530 / 7856 ========\n",
      "CLAS not exist\n",
      "CLAY not exist\n",
      "======= CLB 1996-04-17 ~ 2024-10-23 1533 / 7856 ========\n",
      "======= CLBK 2018-05-14 ~ 2024-10-24 1534 / 7856 ========\n",
      "CLBR not exist\n"
     ]
    },
    {
     "name": "stderr",
     "output_type": "stream",
     "text": [
      "CLBS: No timezone found, symbol may be delisted\n"
     ]
    },
    {
     "name": "stdout",
     "output_type": "stream",
     "text": [
      "======= CLBS 2010-05-17 ~ 2022-08-04 1536 / 7856 ========\n",
      "======= CLBT 2021-10-07 ~ 2024-11-06 1537 / 7856 ========\n",
      "======= CLCO 2023-05-23 ~ 2024-11-21 1538 / 7856 ========\n",
      "CLDB not exist\n"
     ]
    },
    {
     "name": "stderr",
     "output_type": "stream",
     "text": [
      "CLDR: No timezone found, symbol may be delisted\n"
     ]
    },
    {
     "name": "stdout",
     "output_type": "stream",
     "text": [
      "======= CLDR 2017-06-08 ~ 2021-08-30 1540 / 7856 ========\n",
      "======= CLDT 2010-08-10 ~ 2024-11-07 1541 / 7856 ========\n",
      "======= CLDX 1993-05-12 ~ 2024-11-06 1542 / 7856 ========\n",
      "CLEU not exist\n",
      "======= CLF 1993-02-02 ~ 2024-11-04 1544 / 7856 ========\n",
      "======= CLFD 2013-01-24 ~ 2024-11-07 1545 / 7856 ========\n",
      "======= CLGN 2019-04-01 ~ 2024-08-20 1546 / 7856 ========\n",
      "======= CLH 1993-01-27 ~ 2024-10-30 1547 / 7856 ========\n"
     ]
    },
    {
     "name": "stderr",
     "output_type": "stream",
     "text": [
      "CLI: No timezone found, symbol may be delisted\n"
     ]
    },
    {
     "name": "stdout",
     "output_type": "stream",
     "text": [
      "======= CLI 2002-08-08 ~ 2021-11-03 1548 / 7856 ========\n",
      "CLII not exist\n",
      "CLIK not exist\n",
      "CLIM not exist\n",
      "CLIN not exist\n",
      "======= CLIR 2020-11-19 ~ 2024-08-14 1553 / 7856 ========\n",
      "CLIRW not exist\n",
      "======= CLLS 2015-06-09 ~ 2024-11-04 1555 / 7856 ========\n",
      "======= CLMB 1995-11-01 ~ 2024-10-30 1556 / 7856 ========\n",
      "======= CLMT 2006-05-10 ~ 2024-11-08 1557 / 7856 ========\n",
      "CLNC not exist\n",
      "======= CLNE 2007-11-12 ~ 2024-11-06 1559 / 7856 ========\n",
      "======= CLNN 2021-03-29 ~ 2024-11-13 1560 / 7856 ========\n",
      "CLNY not exist\n",
      "CLOE not exist\n",
      "======= CLOV 2021-03-01 ~ 2024-11-06 1563 / 7856 ========\n",
      "======= CLPR 2017-05-15 ~ 2024-10-31 1564 / 7856 ========\n",
      "CLPS not exist\n",
      "======= CLPT 2012-11-14 ~ 2024-11-07 1566 / 7856 ========\n"
     ]
    },
    {
     "name": "stderr",
     "output_type": "stream",
     "text": [
      "CLR: No timezone found, symbol may be delisted\n"
     ]
    },
    {
     "name": "stdout",
     "output_type": "stream",
     "text": [
      "======= CLR 2007-08-06 ~ 2022-11-02 1567 / 7856 ========\n",
      "======= CLRB 2005-11-08 ~ 2024-10-29 1568 / 7856 ========\n",
      "CLRC not exist\n",
      "CLRM not exist\n",
      "======= CLRO 1999-10-13 ~ 2020-03-30 1571 / 7856 ========\n",
      "======= CLS 1999-02-09 ~ 2024-10-23 1572 / 7856 ========\n",
      "======= CLSD 2016-08-11 ~ 2024-11-12 1573 / 7856 ========\n",
      "======= CLSK 2019-12-16 ~ 2024-12-02 1574 / 7856 ========\n",
      "CLSKW not exist\n"
     ]
    },
    {
     "name": "stderr",
     "output_type": "stream",
     "text": [
      "CLSN: No timezone found, symbol may be delisted\n"
     ]
    },
    {
     "name": "stdout",
     "output_type": "stream",
     "text": [
      "======= CLSN 2000-10-01 ~ 2022-08-15 1576 / 7856 ========\n",
      "CLST not exist\n",
      "======= CLVR 2021-08-12 ~ 2024-04-01 1578 / 7856 ========\n"
     ]
    },
    {
     "name": "stderr",
     "output_type": "stream",
     "text": [
      "CLVS: No timezone found, symbol may be delisted\n"
     ]
    },
    {
     "name": "stdout",
     "output_type": "stream",
     "text": [
      "======= CLVS 2012-03-07 ~ 2022-11-09 1579 / 7856 ========\n",
      "======= CLVT 2019-08-07 ~ 2024-11-06 1580 / 7856 ========\n",
      "======= CLW 2009-04-30 ~ 2024-11-04 1581 / 7856 ========\n",
      "CLWT not exist\n",
      "======= CLX 1993-01-22 ~ 2024-10-30 1583 / 7856 ========\n"
     ]
    },
    {
     "name": "stderr",
     "output_type": "stream",
     "text": [
      "CLXT: No timezone found, symbol may be delisted\n"
     ]
    },
    {
     "name": "stdout",
     "output_type": "stream",
     "text": [
      "======= CLXT 2017-09-01 ~ 2023-08-03 1584 / 7856 ========\n",
      "CLYM not exist\n",
      "======= CM 1993-03-05 ~ 2024-08-29 1586 / 7856 ========\n",
      "======= CMA 1993-01-19 ~ 2024-10-18 1587 / 7856 ========\n",
      "======= CMAX 2021-08-13 ~ 2024-08-09 1588 / 7856 ========\n",
      "======= CMBM 2019-08-08 ~ 2024-11-07 1589 / 7856 ========\n",
      "======= CMBT 2024-02-01 ~ 2024-11-07 1590 / 7856 ========\n",
      "======= CMC 1993-03-20 ~ 2024-10-17 1591 / 7856 ========\n",
      "CMCA not exist\n",
      "======= CMCM 2014-08-19 ~ 2021-11-24 1593 / 7856 ========\n",
      "======= CMCO 1996-07-22 ~ 2024-10-30 1594 / 7856 ========\n",
      "======= CMCSA 1997-02-21 ~ 2024-10-31 1595 / 7856 ========\n",
      "======= CMCT 1995-05-10 ~ 2024-11-08 1596 / 7856 ========\n",
      "======= CME 2003-01-30 ~ 2024-10-23 1597 / 7856 ========\n",
      "======= CMG 2006-05-08 ~ 2024-10-29 1598 / 7856 ========\n",
      "======= CMI 1993-02-12 ~ 2024-11-05 1599 / 7856 ========\n",
      "CMII not exist\n",
      "CMLF not exist\n",
      "======= CMLS 1999-02-16 ~ 2024-11-01 1602 / 7856 ========\n",
      "CMLT not exist\n",
      "======= CMMB 2019-05-22 ~ 2024-08-21 1604 / 7856 ========\n",
      "CMND not exist\n"
     ]
    },
    {
     "name": "stderr",
     "output_type": "stream",
     "text": [
      "CMO: No timezone found, symbol may be delisted\n"
     ]
    },
    {
     "name": "stdout",
     "output_type": "stream",
     "text": [
      "======= CMO 1993-01-27 ~ 2021-07-28 1606 / 7856 ========\n",
      "======= CMP 2004-05-04 ~ 2024-09-17 1607 / 7856 ========\n"
     ]
    },
    {
     "name": "stderr",
     "output_type": "stream",
     "text": [
      "CMPI: No timezone found, symbol may be delisted\n"
     ]
    },
    {
     "name": "stdout",
     "output_type": "stream",
     "text": [
      "======= CMPI 2020-09-18 ~ 2022-05-12 1608 / 7856 ========\n",
      "======= CMPO 2022-05-09 ~ 2024-11-08 1609 / 7856 ========\n",
      "======= CMPR 2006-01-24 ~ 2024-10-30 1610 / 7856 ========\n",
      "======= CMPS 2020-11-12 ~ 2024-10-31 1611 / 7856 ========\n",
      "======= CMPX 2021-11-12 ~ 2024-11-12 1612 / 7856 ========\n",
      "CMRA not exist\n",
      "======= CMRE 2011-02-16 ~ 2024-11-01 1614 / 7856 ========\n",
      "======= CMRX 2013-08-14 ~ 2024-11-07 1615 / 7856 ========\n",
      "======= CMS 1993-04-28 ~ 2024-10-31 1616 / 7856 ========\n",
      "CMSA not exist\n",
      "CMSC not exist\n",
      "CMSD not exist\n",
      "======= CMTG 2021-12-13 ~ 2024-11-08 1620 / 7856 ========\n",
      "======= CMTL 1995-06-12 ~ 2024-10-24 1621 / 7856 ========\n",
      "======= CNA 1993-02-17 ~ 2024-11-04 1622 / 7856 ========\n"
     ]
    },
    {
     "name": "stderr",
     "output_type": "stream",
     "text": [
      "CNBKA: No timezone found, symbol may be delisted\n"
     ]
    },
    {
     "name": "stdout",
     "output_type": "stream",
     "text": [
      "======= CNBKA 1995-01-18 ~ 2010-10-12 1623 / 7856 ========\n",
      "======= CNC 2002-04-25 ~ 2024-10-25 1624 / 7856 ========\n"
     ]
    },
    {
     "name": "stderr",
     "output_type": "stream",
     "text": [
      "CNCE: No timezone found, symbol may be delisted\n"
     ]
    },
    {
     "name": "stdout",
     "output_type": "stream",
     "text": [
      "======= CNCE 2014-03-31 ~ 2023-03-02 1625 / 7856 ========\n",
      "CND not exist\n",
      "CNDA not exist\n",
      "CNDB not exist\n",
      "======= CNDT 2017-02-22 ~ 2024-11-06 1629 / 7856 ========\n",
      "======= CNET 2010-11-16 ~ 2011-11-15 1630 / 7856 ========\n",
      "CNEY not exist\n",
      "======= CNF 2020-08-24 ~ 2024-08-27 1632 / 7856 ========\n",
      "======= CNFR 2015-09-14 ~ 2023-11-09 1633 / 7856 ========\n",
      "CNGL not exist\n",
      "======= CNH 2013-10-31 ~ 2024-11-07 1635 / 7856 ========\n"
     ]
    },
    {
     "name": "stderr",
     "output_type": "stream",
     "text": [
      "CNHI: No timezone found, symbol may be delisted\n"
     ]
    },
    {
     "name": "stdout",
     "output_type": "stream",
     "text": [
      "======= CNHI 2013-10-31 ~ 2024-05-02 1636 / 7856 ========\n",
      "======= CNI 1996-09-26 ~ 2024-10-22 1637 / 7856 ========\n",
      "======= CNK 2007-11-12 ~ 2024-10-31 1638 / 7856 ========\n",
      "======= CNM 2021-09-14 ~ 2024-12-03 1639 / 7856 ========\n",
      "======= CNMD 1993-02-16 ~ 2024-10-30 1640 / 7856 ========\n",
      "CNNB not exist\n",
      "======= CNNE 2016-02-10 ~ 2024-11-12 1642 / 7856 ========\n",
      "======= CNO 1993-02-24 ~ 2024-10-31 1643 / 7856 ========\n",
      "======= CNOB 2002-04-16 ~ 2024-10-24 1644 / 7856 ========\n",
      "======= CNP 1993-02-03 ~ 2024-10-28 1645 / 7856 ========\n",
      "======= CNQ 1995-11-09 ~ 2024-10-31 1646 / 7856 ========\n"
     ]
    },
    {
     "name": "stderr",
     "output_type": "stream",
     "text": [
      "CNR: No timezone found, symbol may be delisted\n"
     ]
    },
    {
     "name": "stdout",
     "output_type": "stream",
     "text": [
      "======= CNR 1993-05-21 ~ 2022-05-03 1647 / 7856 ========\n",
      "======= CNS 2004-10-26 ~ 2024-10-16 1648 / 7856 ========\n",
      "======= CNSL 2006-03-15 ~ 2024-11-05 1649 / 7856 ========\n",
      "======= CNSP 2019-12-20 ~ 2024-11-14 1650 / 7856 ========\n"
     ]
    },
    {
     "name": "stderr",
     "output_type": "stream",
     "text": [
      "CNST: No timezone found, symbol may be delisted\n"
     ]
    },
    {
     "name": "stdout",
     "output_type": "stream",
     "text": [
      "======= CNST 2018-08-14 ~ 2021-05-10 1651 / 7856 ========\n",
      "======= CNTA 2021-08-16 ~ 2024-11-12 1652 / 7856 ========\n",
      "======= CNTB 2021-08-31 ~ 2024-09-05 1653 / 7856 ========\n",
      "======= CNTG 2019-12-05 ~ 2024-08-21 1654 / 7856 ========\n",
      "CNTM not exist\n",
      "CNTQ not exist\n",
      "======= CNTX 2022-03-24 ~ 2024-11-06 1657 / 7856 ========\n",
      "======= CNTY 2000-08-03 ~ 2024-11-04 1658 / 7856 ========\n",
      "======= CNVS 2023-08-14 ~ 2024-08-14 1659 / 7856 ========\n"
     ]
    },
    {
     "name": "stderr",
     "output_type": "stream",
     "text": [
      "CNVY: No timezone found, symbol may be delisted\n"
     ]
    },
    {
     "name": "stdout",
     "output_type": "stream",
     "text": [
      "======= CNVY 2021-08-12 ~ 2022-08-12 1660 / 7856 ========\n",
      "======= CNX 1999-10-27 ~ 2024-10-24 1661 / 7856 ========\n",
      "CNXA not exist\n",
      "======= CNXC 2020-10-13 ~ 2024-09-25 1663 / 7856 ========\n",
      "======= CNXN 1998-04-27 ~ 2024-10-30 1664 / 7856 ========\n"
     ]
    },
    {
     "name": "stderr",
     "output_type": "stream",
     "text": [
      "CO: No timezone found, symbol may be delisted\n"
     ]
    },
    {
     "name": "stdout",
     "output_type": "stream",
     "text": [
      "======= CO 2010-09-10 ~ 2018-06-26 1665 / 7856 ========\n",
      "======= COCH 2024-02-16 ~ 2024-08-12 1666 / 7856 ========\n",
      "======= COCO 2022-03-10 ~ 2024-10-30 1667 / 7856 ========\n",
      "======= COCP 2018-11-12 ~ 2024-08-14 1668 / 7856 ========\n",
      "======= CODA 1997-05-27 ~ 2024-09-16 1669 / 7856 ========\n",
      "======= CODI 2006-08-07 ~ 2024-10-30 1670 / 7856 ========\n",
      "======= CODX 2019-04-02 ~ 2024-11-07 1671 / 7856 ========\n",
      "======= COE 2016-08-23 ~ 2021-09-28 1672 / 7856 ========\n",
      "COEPW not exist\n",
      "======= COF 1995-04-19 ~ 2024-10-24 1674 / 7856 ========\n",
      "======= COFS 2023-10-25 ~ 2024-10-23 1675 / 7856 ========\n"
     ]
    },
    {
     "name": "stderr",
     "output_type": "stream",
     "text": [
      "COG: No timezone found, symbol may be delisted\n"
     ]
    },
    {
     "name": "stdout",
     "output_type": "stream",
     "text": [
      "======= COG 1993-02-02 ~ 2021-07-30 1676 / 7856 ========\n",
      "======= COGT 2018-05-14 ~ 2024-11-12 1677 / 7856 ========\n",
      "======= COHR 1993-07-22 ~ 2024-11-06 1678 / 7856 ========\n",
      "======= COHU 1996-04-18 ~ 2024-10-31 1679 / 7856 ========\n",
      "======= COIN 2021-05-13 ~ 2024-10-30 1680 / 7856 ========\n",
      "======= COKE 1993-03-09 ~ 2022-05-03 1681 / 7856 ========\n",
      "======= COLB 1993-04-30 ~ 2024-10-24 1682 / 7856 ========\n",
      "======= COLD 2018-05-10 ~ 2024-11-07 1683 / 7856 ========\n",
      "COLI not exist\n",
      "======= COLL 2015-08-12 ~ 2024-11-07 1685 / 7856 ========\n",
      "======= COLM 1998-07-28 ~ 2024-10-30 1686 / 7856 ========\n",
      "======= COMM 2014-02-20 ~ 2024-11-07 1687 / 7856 ========\n",
      "======= COMP 2021-05-12 ~ 2024-10-30 1688 / 7856 ========\n",
      "======= CON 2024-07-26 ~ 2024-10-31 1689 / 7856 ========\n"
     ]
    },
    {
     "name": "stderr",
     "output_type": "stream",
     "text": [
      "CONE: No timezone found, symbol may be delisted\n"
     ]
    },
    {
     "name": "stdout",
     "output_type": "stream",
     "text": [
      "======= CONE 2013-02-26 ~ 2022-02-16 1690 / 7856 ========\n"
     ]
    },
    {
     "name": "stderr",
     "output_type": "stream",
     "text": [
      "CONN: No timezone found, symbol may be delisted\n"
     ]
    },
    {
     "name": "stdout",
     "output_type": "stream",
     "text": [
      "======= CONN 2004-06-07 ~ 2024-07-11 1691 / 7856 ========\n",
      "CONX not exist\n",
      "======= COO 1995-05-31 ~ 2024-12-05 1693 / 7856 ========\n",
      "======= COOK 2021-09-09 ~ 2024-11-06 1694 / 7856 ========\n"
     ]
    },
    {
     "name": "stderr",
     "output_type": "stream",
     "text": [
      "COOL: No timezone found, symbol may be delisted\n"
     ]
    },
    {
     "name": "stdout",
     "output_type": "stream",
     "text": [
      "======= COOL 2021-03-30 ~ 2024-05-14 1695 / 7856 ========\n",
      "======= COOP 2018-11-08 ~ 2024-10-23 1696 / 7856 ========\n",
      "COOT not exist\n",
      "COOTW not exist\n",
      "======= COP 1993-01-28 ~ 2024-10-31 1699 / 7856 ========\n",
      "======= COR 2011-05-05 ~ 2024-11-06 1700 / 7856 ========\n"
     ]
    },
    {
     "name": "stderr",
     "output_type": "stream",
     "text": [
      "CORR: No timezone found, symbol may be delisted\n"
     ]
    },
    {
     "name": "stdout",
     "output_type": "stream",
     "text": [
      "======= CORR 2007-04-12 ~ 2023-03-29 1701 / 7856 ========\n",
      "CORS not exist\n",
      "======= CORT 2004-08-09 ~ 2024-10-30 1703 / 7856 ========\n",
      "======= CORZ 2022-03-29 ~ 2024-11-06 1704 / 7856 ========\n",
      "======= COSM 2024-04-19 ~ 2024-11-14 1705 / 7856 ========\n",
      "======= COST 1993-01-06 ~ 2024-09-26 1706 / 7856 ========\n",
      "======= COTY 2013-11-07 ~ 2024-11-06 1707 / 7856 ========\n"
     ]
    },
    {
     "name": "stderr",
     "output_type": "stream",
     "text": [
      "COUP: No timezone found, symbol may be delisted\n"
     ]
    },
    {
     "name": "stdout",
     "output_type": "stream",
     "text": [
      "======= COUP 2016-12-05 ~ 2022-12-12 1708 / 7856 ========\n",
      "======= COUR 2021-05-04 ~ 2024-10-24 1709 / 7856 ========\n",
      "COVA not exist\n"
     ]
    },
    {
     "name": "stderr",
     "output_type": "stream",
     "text": [
      "COWN: No timezone found, symbol may be delisted\n"
     ]
    },
    {
     "name": "stdout",
     "output_type": "stream",
     "text": [
      "======= COWN 2006-11-07 ~ 2023-02-17 1711 / 7856 ========\n"
     ]
    },
    {
     "name": "stderr",
     "output_type": "stream",
     "text": [
      "COWNL: No timezone found, symbol may be delisted\n"
     ]
    },
    {
     "name": "stdout",
     "output_type": "stream",
     "text": [
      "======= COWNL 2022-12-30 ~ 2022-12-30 1712 / 7856 ========\n",
      "======= COYA 2023-05-10 ~ 2024-11-06 1713 / 7856 ========\n",
      "======= CP 2003-07-23 ~ 2024-10-23 1714 / 7856 ========\n",
      "======= CPA 2006-03-30 ~ 2024-11-20 1715 / 7856 ========\n",
      "CPAA not exist\n",
      "======= CPAC 2012-10-30 ~ 2024-10-29 1717 / 7856 ========\n",
      "CPAQ not exist\n",
      "CPAR not exist\n",
      "======= CPAY 2024-03-04 ~ 2024-11-07 1720 / 7856 ========\n",
      "======= CPB 1993-02-17 ~ 2024-12-03 1721 / 7856 ========\n",
      "CPBI not exist\n"
     ]
    },
    {
     "name": "stderr",
     "output_type": "stream",
     "text": [
      "CPE: No timezone found, symbol may be delisted\n"
     ]
    },
    {
     "name": "stdout",
     "output_type": "stream",
     "text": [
      "======= CPE 1995-08-02 ~ 2024-05-01 1723 / 7856 ========\n",
      "======= CPF 1993-04-13 ~ 2024-10-30 1724 / 7856 ========\n"
     ]
    },
    {
     "name": "stderr",
     "output_type": "stream",
     "text": [
      "CPG: No timezone found, symbol may be delisted\n"
     ]
    },
    {
     "name": "stdout",
     "output_type": "stream",
     "text": [
      "======= CPG 2007-08-13 ~ 2024-05-10 1725 / 7856 ========\n"
     ]
    },
    {
     "name": "stderr",
     "output_type": "stream",
     "text": [
      "CPHC: Data doesn't exist for startDate = 871444800, endDate = 889074000\n"
     ]
    },
    {
     "name": "stdout",
     "output_type": "stream",
     "text": [
      "======= CPHC 1997-08-13 ~ 1998-03-05 1726 / 7856 ========\n",
      "======= CPIX 2009-11-10 ~ 2021-08-10 1727 / 7856 ========\n",
      "======= CPK 1999-08-03 ~ 2024-11-08 1728 / 7856 ========\n"
     ]
    },
    {
     "name": "stderr",
     "output_type": "stream",
     "text": [
      "CPLG: No timezone found, symbol may be delisted\n"
     ]
    },
    {
     "name": "stdout",
     "output_type": "stream",
     "text": [
      "======= CPLG 2018-11-06 ~ 2021-11-08 1729 / 7856 ========\n"
     ]
    },
    {
     "name": "stderr",
     "output_type": "stream",
     "text": [
      "CPLP: No timezone found, symbol may be delisted\n"
     ]
    },
    {
     "name": "stdout",
     "output_type": "stream",
     "text": [
      "======= CPLP 2007-05-15 ~ 2024-08-02 1730 / 7856 ========\n",
      "======= CPNG 2021-05-12 ~ 2024-11-05 1731 / 7856 ========\n",
      "CPOP not exist\n",
      "======= CPRI 2012-02-14 ~ 2024-11-07 1733 / 7856 ========\n",
      "======= CPRT 1996-10-08 ~ 2024-11-21 1734 / 7856 ========\n",
      "======= CPRX 2007-05-14 ~ 2024-11-06 1735 / 7856 ========\n",
      "======= CPS 2015-02-24 ~ 2024-10-31 1736 / 7856 ========\n",
      "CPSH not exist\n"
     ]
    },
    {
     "name": "stderr",
     "output_type": "stream",
     "text": [
      "CPSI: No timezone found, symbol may be delisted\n"
     ]
    },
    {
     "name": "stdout",
     "output_type": "stream",
     "text": [
      "======= CPSI 2002-07-24 ~ 2024-02-29 1738 / 7856 ========\n",
      "CPSR not exist\n",
      "======= CPSS 1995-05-16 ~ 2024-10-31 1740 / 7856 ========\n",
      "======= CPT 2003-02-04 ~ 2024-10-31 1741 / 7856 ========\n",
      "CPTA not exist\n",
      "CPTK not exist\n",
      "======= CPTN 2022-05-11 ~ 2024-11-07 1744 / 7856 ========\n",
      "CPUH not exist\n",
      "======= CR 1993-01-25 ~ 2024-10-28 1746 / 7856 ========\n",
      "======= CRAI 1998-09-29 ~ 2024-10-31 1747 / 7856 ========\n",
      "======= CRBG 2022-11-09 ~ 2024-11-04 1748 / 7856 ========\n",
      "======= CRBP 2015-05-13 ~ 2024-11-07 1749 / 7856 ========\n",
      "======= CRBU 2021-11-09 ~ 2024-11-06 1750 / 7856 ========\n",
      "======= CRC 2015-02-19 ~ 2024-11-05 1751 / 7856 ========\n",
      "======= CRCT 2021-05-13 ~ 2024-11-05 1752 / 7856 ========\n",
      "CRD not exist\n",
      "======= CRD-A 2002-01-31 ~ 2024-11-04 1754 / 7856 ========\n",
      "======= CRDF 2013-05-14 ~ 2024-11-07 1755 / 7856 ========\n",
      "======= CRDL 2020-03-26 ~ 2024-08-12 1756 / 7856 ========\n",
      "======= CRDO 2022-03-09 ~ 2024-12-02 1757 / 7856 ========\n",
      "CREC not exist\n"
     ]
    },
    {
     "name": "stderr",
     "output_type": "stream",
     "text": [
      "CREE: No timezone found, symbol may be delisted\n"
     ]
    },
    {
     "name": "stdout",
     "output_type": "stream",
     "text": [
      "======= CREE 1995-11-01 ~ 2021-08-17 1759 / 7856 ========\n",
      "======= CREG 2004-11-15 ~ 2011-11-15 1760 / 7856 ========\n",
      "CRESW not exist\n",
      "======= CRESY 2006-11-10 ~ 2016-09-08 1762 / 7856 ========\n",
      "CREV not exist\n",
      "CREVW not exist\n",
      "======= CREX 2007-02-16 ~ 2024-08-14 1765 / 7856 ========\n"
     ]
    },
    {
     "name": "stderr",
     "output_type": "stream",
     "text": [
      "CRGE: No timezone found, symbol may be delisted\n"
     ]
    },
    {
     "name": "stdout",
     "output_type": "stream",
     "text": [
      "======= CRGE 2022-08-15 ~ 2023-11-08 1766 / 7856 ========\n",
      "======= CRGO 2023-05-23 ~ 2024-11-25 1767 / 7856 ========\n",
      "======= CRGX 2024-03-21 ~ 2024-08-12 1768 / 7856 ========\n",
      "======= CRGY 2022-05-10 ~ 2024-11-04 1769 / 7856 ========\n",
      "======= CRH 1995-03-08 ~ 2024-11-07 1770 / 7856 ========\n",
      "CRHC not exist\n",
      "======= CRI 2004-02-24 ~ 2024-10-25 1772 / 7856 ========\n",
      "======= CRIS 2001-05-09 ~ 2024-11-14 1773 / 7856 ========\n",
      "======= CRK 1993-08-16 ~ 2024-10-30 1774 / 7856 ========\n",
      "======= CRKN 2021-06-21 ~ 2023-03-31 1775 / 7856 ========\n",
      "======= CRL 2000-08-02 ~ 2024-11-06 1776 / 7856 ========\n",
      "======= CRM 2004-08-19 ~ 2024-12-03 1777 / 7856 ========\n",
      "======= CRMD 2010-08-12 ~ 2024-10-30 1778 / 7856 ========\n",
      "CRML not exist\n",
      "CRMLW not exist\n",
      "======= CRMT 1999-03-17 ~ 2024-09-04 1781 / 7856 ========\n",
      "======= CRNC 2019-12-17 ~ 2024-11-21 1782 / 7856 ========\n",
      "======= CRNT 2000-10-24 ~ 2024-08-07 1783 / 7856 ========\n",
      "======= CRNX 2018-08-30 ~ 2024-11-12 1784 / 7856 ========\n",
      "======= CRON 2017-05-30 ~ 2024-11-12 1785 / 7856 ========\n",
      "======= CROX 2006-05-04 ~ 2024-10-29 1786 / 7856 ========\n",
      "======= CRS 1993-01-20 ~ 2024-10-24 1787 / 7856 ========\n",
      "CRSA not exist\n",
      "======= CRSP 2016-11-22 ~ 2024-11-05 1789 / 7856 ========\n",
      "======= CRSR 2020-11-10 ~ 2024-11-06 1790 / 7856 ========\n",
      "======= CRTD 2020-08-14 ~ 2020-11-16 1791 / 7856 ========\n",
      "======= CRTO 2014-02-11 ~ 2024-10-30 1792 / 7856 ========\n"
     ]
    },
    {
     "name": "stderr",
     "output_type": "stream",
     "text": [
      "CRTX: No timezone found, symbol may be delisted\n"
     ]
    },
    {
     "name": "stdout",
     "output_type": "stream",
     "text": [
      "======= CRTX 2019-06-12 ~ 2022-08-08 1793 / 7856 ========\n",
      "CRU not exist\n",
      "======= CRUS 1993-01-22 ~ 2024-11-04 1795 / 7856 ========\n",
      "======= CRVL 1993-01-20 ~ 2010-11-08 1796 / 7856 ========\n",
      "======= CRVO 2022-03-30 ~ 2024-11-12 1797 / 7856 ========\n",
      "======= CRVS 2016-05-05 ~ 2024-11-12 1798 / 7856 ========\n",
      "======= CRWD 2019-09-05 ~ 2024-11-26 1799 / 7856 ========\n",
      "======= CRWS 1993-01-19 ~ 2022-02-09 1800 / 7856 ========\n"
     ]
    },
    {
     "name": "stderr",
     "output_type": "stream",
     "text": [
      "CRXT: No timezone found, symbol may be delisted\n"
     ]
    },
    {
     "name": "stdout",
     "output_type": "stream",
     "text": [
      "======= CRXT 2021-11-18 ~ 2022-08-18 1801 / 7856 ========\n"
     ]
    },
    {
     "name": "stderr",
     "output_type": "stream",
     "text": [
      "CRY: No timezone found, symbol may be delisted\n"
     ]
    },
    {
     "name": "stdout",
     "output_type": "stream",
     "text": [
      "======= CRY 1993-07-28 ~ 2021-11-04 1802 / 7856 ========\n",
      "CRZN not exist\n"
     ]
    },
    {
     "name": "stderr",
     "output_type": "stream",
     "text": [
      "CS: No timezone found, symbol may be delisted\n"
     ]
    },
    {
     "name": "stdout",
     "output_type": "stream",
     "text": [
      "======= CS 2007-08-02 ~ 2023-02-09 1804 / 7856 ========\n",
      "======= CSAN 2021-11-12 ~ 2024-11-13 1805 / 7856 ========\n",
      "======= CSBR 2018-07-26 ~ 2024-09-11 1806 / 7856 ========\n",
      "CSCI not exist\n",
      "======= CSCO 1994-02-11 ~ 2024-11-13 1808 / 7856 ========\n"
     ]
    },
    {
     "name": "stderr",
     "output_type": "stream",
     "text": [
      "CSCW: No timezone found, symbol may be delisted\n"
     ]
    },
    {
     "name": "stdout",
     "output_type": "stream",
     "text": [
      "======= CSCW 2010-05-17 ~ 2011-09-23 1809 / 7856 ========\n",
      "======= CSGP 1999-07-28 ~ 2024-10-22 1810 / 7856 ========\n",
      "======= CSGS 1996-04-24 ~ 2024-11-06 1811 / 7856 ========\n"
     ]
    },
    {
     "name": "stderr",
     "output_type": "stream",
     "text": [
      "CSII: No timezone found, symbol may be delisted\n"
     ]
    },
    {
     "name": "stdout",
     "output_type": "stream",
     "text": [
      "======= CSII 2006-10-26 ~ 2023-02-08 1812 / 7856 ========\n",
      "======= CSIQ 2007-03-14 ~ 2024-12-05 1813 / 7856 ========\n",
      "======= CSL 1993-04-20 ~ 2024-10-24 1814 / 7856 ========\n",
      "CSLM not exist\n",
      "======= CSLR 2023-11-14 ~ 2024-08-14 1816 / 7856 ========\n"
     ]
    },
    {
     "name": "stderr",
     "output_type": "stream",
     "text": [
      "CSLT: No timezone found, symbol may be delisted\n"
     ]
    },
    {
     "name": "stdout",
     "output_type": "stream",
     "text": [
      "======= CSLT 2014-05-07 ~ 2021-11-02 1817 / 7856 ========\n"
     ]
    },
    {
     "name": "stderr",
     "output_type": "stream",
     "text": [
      "CSOD: No timezone found, symbol may be delisted\n"
     ]
    },
    {
     "name": "stdout",
     "output_type": "stream",
     "text": [
      "======= CSOD 2011-05-12 ~ 2021-08-05 1818 / 7856 ========\n",
      "CSPI not exist\n"
     ]
    },
    {
     "name": "stderr",
     "output_type": "stream",
     "text": [
      "CSPR: No timezone found, symbol may be delisted\n"
     ]
    },
    {
     "name": "stdout",
     "output_type": "stream",
     "text": [
      "======= CSPR 2020-03-19 ~ 2021-11-15 1820 / 7856 ========\n",
      "======= CSR 2002-06-28 ~ 2024-10-28 1821 / 7856 ========\n",
      "======= CSSE 2018-05-10 ~ 2024-03-29 1822 / 7856 ========\n",
      "CSTA not exist\n",
      "======= CSTE 2012-08-07 ~ 2024-08-07 1824 / 7856 ========\n",
      "======= CSTL 2019-09-03 ~ 2024-11-04 1825 / 7856 ========\n",
      "======= CSTM 2013-08-29 ~ 2024-10-23 1826 / 7856 ========\n"
     ]
    },
    {
     "name": "stderr",
     "output_type": "stream",
     "text": [
      "CSTR: No timezone found, symbol may be delisted\n"
     ]
    },
    {
     "name": "stdout",
     "output_type": "stream",
     "text": [
      "======= CSTR 2016-10-27 ~ 2024-04-19 1827 / 7856 ========\n"
     ]
    },
    {
     "name": "stderr",
     "output_type": "stream",
     "text": [
      "CSU: No timezone found, symbol may be delisted\n"
     ]
    },
    {
     "name": "stdout",
     "output_type": "stream",
     "text": [
      "======= CSU 1998-02-09 ~ 2021-11-10 1828 / 7856 ========\n",
      "======= CSV 1996-11-04 ~ 2024-10-30 1829 / 7856 ========\n",
      "======= CSWC 2017-08-07 ~ 2024-10-28 1830 / 7856 ========\n",
      "======= CSWI 2016-02-16 ~ 2024-10-30 1831 / 7856 ========\n",
      "======= CSX 1993-01-22 ~ 2024-10-16 1832 / 7856 ========\n",
      "CTA-PA not exist\n",
      "CTAC not exist\n",
      "CTAQ not exist\n",
      "======= CTAS 1993-03-26 ~ 2024-09-25 1836 / 7856 ========\n",
      "CTCX not exist\n"
     ]
    },
    {
     "name": "stderr",
     "output_type": "stream",
     "text": [
      "CTG: No data found, symbol may be delisted\n"
     ]
    },
    {
     "name": "stdout",
     "output_type": "stream",
     "text": [
      "======= CTG 1993-01-22 ~ 2023-11-08 1838 / 7856 ========\n",
      "======= CTHR 2005-10-19 ~ 2023-02-02 1839 / 7856 ========\n"
     ]
    },
    {
     "name": "stderr",
     "output_type": "stream",
     "text": [
      "CTIB: No timezone found, symbol may be delisted\n"
     ]
    },
    {
     "name": "stdout",
     "output_type": "stream",
     "text": [
      "======= CTIB 2000-03-21 ~ 2014-08-13 1840 / 7856 ========\n"
     ]
    },
    {
     "name": "stderr",
     "output_type": "stream",
     "text": [
      "CTIC: No timezone found, symbol may be delisted\n"
     ]
    },
    {
     "name": "stdout",
     "output_type": "stream",
     "text": [
      "======= CTIC 1997-05-16 ~ 2023-08-14 1841 / 7856 ========\n"
     ]
    },
    {
     "name": "stderr",
     "output_type": "stream",
     "text": [
      "CTK: No timezone found, symbol may be delisted\n"
     ]
    },
    {
     "name": "stdout",
     "output_type": "stream",
     "text": [
      "======= CTK 2018-11-14 ~ 2021-12-08 1842 / 7856 ========\n",
      "======= CTKB 2021-09-03 ~ 2024-11-05 1843 / 7856 ========\n",
      "======= CTLP 2006-11-13 ~ 2024-11-07 1844 / 7856 ========\n",
      "======= CTLT 2014-11-13 ~ 2024-11-05 1845 / 7856 ========\n",
      "======= CTMX 2016-03-07 ~ 2024-11-07 1846 / 7856 ========\n",
      "======= CTNM 2024-05-16 ~ 2024-11-06 1847 / 7856 ========\n",
      "======= CTNT 2024-03-18 ~ 2024-11-13 1848 / 7856 ========\n",
      "======= CTO 2009-04-16 ~ 2024-10-24 1849 / 7856 ========\n"
     ]
    },
    {
     "name": "stderr",
     "output_type": "stream",
     "text": [
      "CTOR: No price data found, symbol may be delisted (1d 2024-11-27 -> 2024-11-27)\n"
     ]
    },
    {
     "name": "stdout",
     "output_type": "stream",
     "text": [
      "======= CTOR 2024-11-27 ~ 2024-11-27 1850 / 7856 ========\n",
      "======= CTOS 2019-11-12 ~ 2024-10-30 1851 / 7856 ========\n",
      "======= CTRA 1993-02-02 ~ 2024-10-31 1852 / 7856 ========\n",
      "======= CTRE 2014-10-30 ~ 2024-10-29 1853 / 7856 ========\n",
      "======= CTRI 2024-07-29 ~ 2024-11-06 1854 / 7856 ========\n",
      "CTRM not exist\n",
      "======= CTRN 2005-11-21 ~ 2024-08-27 1856 / 7856 ========\n",
      "======= CTS 1998-04-16 ~ 2024-10-29 1857 / 7856 ========\n",
      "======= CTSH 1998-10-20 ~ 2024-10-30 1858 / 7856 ========\n",
      "======= CTSO 2012-08-13 ~ 2024-11-07 1859 / 7856 ========\n"
     ]
    },
    {
     "name": "stderr",
     "output_type": "stream",
     "text": [
      "CTT: No timezone found, symbol may be delisted\n"
     ]
    },
    {
     "name": "stdout",
     "output_type": "stream",
     "text": [
      "======= CTT 2014-03-13 ~ 2022-08-04 1860 / 7856 ========\n",
      "======= CTV 2022-02-24 ~ 2024-08-06 1861 / 7856 ========\n",
      "======= CTVA 2019-08-01 ~ 2024-11-06 1862 / 7856 ========\n",
      "======= CTXR 2018-08-14 ~ 2024-08-12 1863 / 7856 ========\n",
      "CTXRW not exist\n"
     ]
    },
    {
     "name": "stderr",
     "output_type": "stream",
     "text": [
      "CTXS: No timezone found, symbol may be delisted\n"
     ]
    },
    {
     "name": "stdout",
     "output_type": "stream",
     "text": [
      "======= CTXS 1996-10-21 ~ 2022-07-26 1865 / 7856 ========\n"
     ]
    },
    {
     "name": "stderr",
     "output_type": "stream",
     "text": [
      "CUB: Data doesn't exist for startDate = 792738000, endDate = 1620187200\n"
     ]
    },
    {
     "name": "stdout",
     "output_type": "stream",
     "text": [
      "======= CUB 1995-02-14 ~ 2021-05-05 1866 / 7856 ========\n",
      "CUBB not exist\n",
      "======= CUBE 2005-05-16 ~ 2024-10-31 1868 / 7856 ========\n",
      "======= CUBI 2013-04-10 ~ 2024-10-31 1869 / 7856 ========\n",
      "CUBWU not exist\n",
      "CUBWW not exist\n",
      "======= CUE 2018-11-13 ~ 2024-08-14 1872 / 7856 ========\n",
      "======= CUK 1993-01-08 ~ 2024-09-30 1873 / 7856 ========\n",
      "CULL not exist\n",
      "======= CULP 1993-02-24 ~ 2024-12-04 1875 / 7856 ========\n",
      "CURB not exist\n",
      "======= CURI 2020-11-12 ~ 2024-11-06 1877 / 7856 ========\n"
     ]
    },
    {
     "name": "stderr",
     "output_type": "stream",
     "text": [
      "CURO: No timezone found, symbol may be delisted\n"
     ]
    },
    {
     "name": "stdout",
     "output_type": "stream",
     "text": [
      "======= CURO 2017-12-07 ~ 2024-02-05 1878 / 7856 ========\n",
      "CURR not exist\n",
      "======= CURV 2021-07-02 ~ 2024-12-03 1880 / 7856 ========\n",
      "======= CUTR 2004-08-02 ~ 2024-11-07 1881 / 7856 ========\n",
      "======= CUZ 2005-05-02 ~ 2024-10-24 1882 / 7856 ========\n"
     ]
    },
    {
     "name": "stderr",
     "output_type": "stream",
     "text": [
      "CVA: No timezone found, symbol may be delisted\n"
     ]
    },
    {
     "name": "stdout",
     "output_type": "stream",
     "text": [
      "======= CVA 1997-03-12 ~ 2021-10-28 1883 / 7856 ========\n",
      "======= CVAC 2020-11-30 ~ 2024-11-12 1884 / 7856 ========\n",
      "======= CVBF 1996-07-19 ~ 2024-10-23 1885 / 7856 ========\n",
      "======= CVCO 1994-05-02 ~ 2024-10-31 1886 / 7856 ========\n"
     ]
    },
    {
     "name": "stderr",
     "output_type": "stream",
     "text": [
      "CVCY: No timezone found, symbol may be delisted\n"
     ]
    },
    {
     "name": "stdout",
     "output_type": "stream",
     "text": [
      "======= CVCY 2007-10-16 ~ 2024-04-18 1887 / 7856 ========\n",
      "======= CVE 2009-12-10 ~ 2024-10-31 1888 / 7856 ========\n",
      "======= CVEO 2014-08-12 ~ 2024-10-30 1889 / 7856 ========\n"
     ]
    },
    {
     "name": "stderr",
     "output_type": "stream",
     "text": [
      "CVET: No timezone found, symbol may be delisted\n"
     ]
    },
    {
     "name": "stdout",
     "output_type": "stream",
     "text": [
      "======= CVET 2019-05-15 ~ 2022-08-04 1890 / 7856 ========\n",
      "======= CVGI 2004-10-27 ~ 2024-11-04 1891 / 7856 ========\n",
      "======= CVGW 2007-09-05 ~ 2024-09-09 1892 / 7856 ========\n",
      "======= CVI 2008-03-10 ~ 2024-10-28 1893 / 7856 ========\n",
      "CVII not exist\n",
      "CVIIU not exist\n",
      "CVIIW not exist\n",
      "======= CVKD 2024-03-11 ~ 2024-11-07 1897 / 7856 ========\n",
      "======= CVLG 1995-02-06 ~ 2024-10-23 1898 / 7856 ========\n",
      "======= CVLT 2007-01-30 ~ 2024-10-29 1899 / 7856 ========\n"
     ]
    },
    {
     "name": "stderr",
     "output_type": "stream",
     "text": [
      "CVLY: No timezone found, symbol may be delisted\n"
     ]
    },
    {
     "name": "stdout",
     "output_type": "stream",
     "text": [
      "======= CVLY 2023-10-26 ~ 2024-07-25 1900 / 7856 ========\n",
      "======= CVNA 2017-06-06 ~ 2024-10-30 1901 / 7856 ========\n",
      "======= CVRX 2021-08-04 ~ 2024-10-29 1902 / 7856 ========\n",
      "======= CVS 1993-02-12 ~ 2024-11-06 1903 / 7856 ========\n"
     ]
    },
    {
     "name": "stderr",
     "output_type": "stream",
     "text": [
      "CVT: No timezone found, symbol may be delisted\n"
     ]
    },
    {
     "name": "stdout",
     "output_type": "stream",
     "text": [
      "======= CVT 2022-03-03 ~ 2023-08-03 1904 / 7856 ========\n",
      "======= CVV 2011-08-10 ~ 2015-08-13 1905 / 7856 ========\n",
      "======= CVX 1993-01-25 ~ 2024-11-01 1906 / 7856 ========\n",
      "======= CW 1993-02-12 ~ 2024-10-30 1907 / 7856 ========\n",
      "======= CWAN 2021-11-03 ~ 2024-11-06 1908 / 7856 ========\n",
      "======= CWBC 1997-04-16 ~ 2024-10-24 1909 / 7856 ========\n",
      "======= CWBR 2020-08-13 ~ 2022-11-08 1910 / 7856 ========\n",
      "======= CWCO 2000-08-14 ~ 2024-11-14 1911 / 7856 ========\n",
      "======= CWD 2024-03-21 ~ 2024-11-12 1912 / 7856 ========\n",
      "======= CWEN 2018-11-06 ~ 2024-10-30 1913 / 7856 ========\n",
      "======= CWH 2016-11-10 ~ 2024-10-28 1914 / 7856 ========\n",
      "======= CWK 2018-09-05 ~ 2024-11-04 1915 / 7856 ========\n",
      "======= CWST 1998-03-04 ~ 2024-10-30 1916 / 7856 ========\n",
      "======= CWT 1994-01-26 ~ 2024-10-31 1917 / 7856 ========\n",
      "======= CX 1994-03-04 ~ 2024-10-28 1918 / 7856 ========\n",
      "CXAC not exist\n",
      "======= CXAI 2023-11-14 ~ 2024-08-12 1920 / 7856 ========\n",
      "======= CXDO 2000-02-14 ~ 2024-11-06 1921 / 7856 ========\n",
      "======= CXM 2021-09-09 ~ 2024-09-04 1922 / 7856 ========\n"
     ]
    },
    {
     "name": "stderr",
     "output_type": "stream",
     "text": [
      "CXP: No timezone found, symbol may be delisted\n"
     ]
    },
    {
     "name": "stdout",
     "output_type": "stream",
     "text": [
      "======= CXP 2014-02-12 ~ 2021-10-27 1923 / 7856 ========\n",
      "======= CXT 2000-07-20 ~ 2024-11-06 1924 / 7856 ========\n",
      "======= CXW 2002-05-02 ~ 2024-11-06 1925 / 7856 ========\n"
     ]
    },
    {
     "name": "stderr",
     "output_type": "stream",
     "text": [
      "CYAD: No timezone found, symbol may be delisted\n"
     ]
    },
    {
     "name": "stdout",
     "output_type": "stream",
     "text": [
      "======= CYAD 2020-08-06 ~ 2021-03-24 1926 / 7856 ========\n",
      "======= CYAN 1996-04-30 ~ 2005-11-03 1927 / 7856 ========\n"
     ]
    },
    {
     "name": "stderr",
     "output_type": "stream",
     "text": [
      "CYBE: No timezone found, symbol may be delisted\n"
     ]
    },
    {
     "name": "stdout",
     "output_type": "stream",
     "text": [
      "======= CYBE 1993-07-19 ~ 2022-07-27 1928 / 7856 ========\n",
      "======= CYBR 2015-02-12 ~ 2024-11-13 1929 / 7856 ========\n",
      "======= CYCC 2004-05-13 ~ 2024-08-14 1930 / 7856 ========\n",
      "======= CYCN 2019-08-12 ~ 2022-11-03 1931 / 7856 ========\n",
      "======= CYD 2003-08-15 ~ 2023-02-23 1932 / 7856 ========\n",
      "======= CYH 2000-07-31 ~ 2024-10-23 1933 / 7856 ========\n",
      "======= CYN 2022-03-23 ~ 2024-11-06 1934 / 7856 ========\n"
     ]
    },
    {
     "name": "stderr",
     "output_type": "stream",
     "text": [
      "CYRN: No timezone found, symbol may be delisted\n"
     ]
    },
    {
     "name": "stdout",
     "output_type": "stream",
     "text": [
      "======= CYRN 1999-10-27 ~ 2021-11-15 1935 / 7856 ========\n",
      "======= CYRX 2011-06-27 ~ 2024-11-07 1936 / 7856 ========\n"
     ]
    },
    {
     "name": "stderr",
     "output_type": "stream",
     "text": [
      "CYT: No timezone found, symbol may be delisted\n"
     ]
    },
    {
     "name": "stdout",
     "output_type": "stream",
     "text": [
      "======= CYT 2021-08-09 ~ 2024-03-28 1937 / 7856 ========\n",
      "======= CYTH 2020-03-30 ~ 2024-08-14 1938 / 7856 ========\n",
      "======= CYTK 2004-10-21 ~ 2024-11-06 1939 / 7856 ========\n",
      "======= CYTO 2014-09-15 ~ 2020-04-16 1940 / 7856 ========\n"
     ]
    },
    {
     "name": "stderr",
     "output_type": "stream",
     "text": [
      "CYXT: Period '1mo' is invalid, must be one of ['1d', '5d']\n"
     ]
    },
    {
     "name": "stdout",
     "output_type": "stream",
     "text": [
      "======= CYXT 2022-03-22 ~ 2023-05-11 1941 / 7856 ========\n",
      "======= CZFS 2017-10-26 ~ 2024-10-30 1942 / 7856 ========\n",
      "======= CZNC 2009-08-07 ~ 2024-10-17 1943 / 7856 ========\n"
     ]
    },
    {
     "name": "stderr",
     "output_type": "stream",
     "text": [
      "CZOO: No timezone found, symbol may be delisted\n"
     ]
    },
    {
     "name": "stdout",
     "output_type": "stream",
     "text": [
      "======= CZOO 2022-05-03 ~ 2022-10-27 1944 / 7856 ========\n",
      "======= CZR 2012-05-01 ~ 2024-10-29 1945 / 7856 ========\n",
      "======= CZWI 2018-01-26 ~ 2024-10-28 1946 / 7856 ========\n",
      "======= D 1993-01-22 ~ 2024-11-01 1947 / 7856 ========\n",
      "======= DAC 2007-03-07 ~ 2024-11-12 1948 / 7856 ========\n",
      "======= DADA 2020-08-24 ~ 2024-11-13 1949 / 7856 ========\n",
      "======= DAIO 1993-04-22 ~ 2024-10-24 1950 / 7856 ========\n",
      "======= DAKT 1994-06-09 ~ 2024-12-04 1951 / 7856 ========\n",
      "======= DAL 1993-01-28 ~ 2024-10-10 1952 / 7856 ========\n"
     ]
    },
    {
     "name": "stderr",
     "output_type": "stream",
     "text": [
      "DALN: Data doesn't exist for startDate = 1217217600, endDate = 1360645200\n"
     ]
    },
    {
     "name": "stdout",
     "output_type": "stream",
     "text": [
      "======= DALN 2008-07-28 ~ 2013-02-12 1953 / 7856 ========\n",
      "DALS not exist\n",
      "======= DAN 1993-02-08 ~ 2024-10-30 1955 / 7856 ========\n",
      "======= DAO 2020-08-13 ~ 2024-11-14 1956 / 7856 ========\n",
      "DAOO not exist\n",
      "======= DAR 2004-08-16 ~ 2024-10-24 1958 / 7856 ========\n",
      "======= DARE 2014-05-27 ~ 2024-11-14 1959 / 7856 ========\n",
      "======= DASH 2021-02-25 ~ 2024-10-30 1960 / 7856 ========\n",
      "DATS not exist\n",
      "======= DAVA 2018-11-29 ~ 2024-11-12 1962 / 7856 ========\n",
      "======= DAVE 2022-05-13 ~ 2024-08-05 1963 / 7856 ========\n",
      "======= DAWN 2021-08-10 ~ 2024-10-30 1964 / 7856 ========\n",
      "======= DAY 2024-02-07 ~ 2024-10-30 1965 / 7856 ========\n",
      "======= DB 2009-04-28 ~ 2024-10-23 1966 / 7856 ========\n",
      "======= DBD 1993-01-18 ~ 2024-11-07 1967 / 7856 ========\n",
      "DBDR not exist\n",
      "DBGI not exist\n",
      "======= DBI 2005-09-07 ~ 2024-09-11 1970 / 7856 ========\n",
      "======= DBRG 2014-08-07 ~ 2024-11-01 1971 / 7856 ========\n"
     ]
    },
    {
     "name": "stderr",
     "output_type": "stream",
     "text": [
      "DBTX: No timezone found, symbol may be delisted\n"
     ]
    },
    {
     "name": "stdout",
     "output_type": "stream",
     "text": [
      "======= DBTX 2021-05-13 ~ 2023-08-11 1972 / 7856 ========\n",
      "======= DBVT 2022-03-03 ~ 2024-11-06 1973 / 7856 ========\n",
      "======= DBX 2018-05-10 ~ 2024-11-07 1974 / 7856 ========\n",
      "======= DCBO 2019-11-13 ~ 2024-11-08 1975 / 7856 ========\n"
     ]
    },
    {
     "name": "stderr",
     "output_type": "stream",
     "text": [
      "DCFC: Data doesn't exist for startDate = 1636952400, endDate = 1636952400\n"
     ]
    },
    {
     "name": "stdout",
     "output_type": "stream",
     "text": [
      "======= DCFC 2021-11-15 ~ 2021-11-15 1976 / 7856 ========\n",
      "======= DCGO 2022-03-14 ~ 2024-11-07 1977 / 7856 ========\n",
      "======= DCI 1993-02-22 ~ 2024-12-03 1978 / 7856 ========\n",
      "======= DCO 1996-04-22 ~ 2024-11-07 1979 / 7856 ========\n",
      "======= DCOM 1998-04-22 ~ 2024-10-22 1980 / 7856 ========\n",
      "DCOMG not exist\n"
     ]
    },
    {
     "name": "stderr",
     "output_type": "stream",
     "text": [
      "DCP: No timezone found, symbol may be delisted\n"
     ]
    },
    {
     "name": "stdout",
     "output_type": "stream",
     "text": [
      "======= DCP 2006-02-09 ~ 2023-08-01 1982 / 7856 ========\n"
     ]
    },
    {
     "name": "stderr",
     "output_type": "stream",
     "text": [
      "DCPH: No timezone found, symbol may be delisted\n"
     ]
    },
    {
     "name": "stdout",
     "output_type": "stream",
     "text": [
      "======= DCPH 2017-11-14 ~ 2024-05-10 1983 / 7856 ========\n",
      "DCRC not exist\n",
      "DCRD not exist\n"
     ]
    },
    {
     "name": "stderr",
     "output_type": "stream",
     "text": [
      "DCRN: No timezone found, symbol may be delisted\n"
     ]
    },
    {
     "name": "stdout",
     "output_type": "stream",
     "text": [
      "======= DCRN 2021-11-15 ~ 2021-11-15 1986 / 7856 ========\n"
     ]
    },
    {
     "name": "stderr",
     "output_type": "stream",
     "text": [
      "DCT: No timezone found, symbol may be delisted\n"
     ]
    },
    {
     "name": "stdout",
     "output_type": "stream",
     "text": [
      "======= DCT 2020-10-20 ~ 2023-03-29 1987 / 7856 ========\n",
      "======= DCTH 2008-05-09 ~ 2024-11-08 1988 / 7856 ========\n"
     ]
    },
    {
     "name": "stderr",
     "output_type": "stream",
     "text": [
      "DCUE: No timezone found, symbol may be delisted\n"
     ]
    },
    {
     "name": "stdout",
     "output_type": "stream",
     "text": [
      "======= DCUE 1993-01-22 ~ 2020-07-31 1989 / 7856 ========\n",
      "======= DD 2012-10-23 ~ 2024-11-05 1990 / 7856 ========\n",
      "======= DDD 1994-07-29 ~ 2024-11-26 1991 / 7856 ========\n",
      "======= DDI 2021-11-10 ~ 2024-11-11 1992 / 7856 ========\n",
      "======= DDL 2021-11-15 ~ 2024-11-06 1993 / 7856 ========\n",
      "DDMX not exist\n",
      "======= DDOG 2019-11-12 ~ 2024-11-07 1995 / 7856 ========\n",
      "======= DDS 1993-05-11 ~ 2024-11-14 1996 / 7856 ========\n",
      "======= DE 1993-02-23 ~ 2024-11-21 1997 / 7856 ========\n",
      "======= DEA 2015-05-11 ~ 2024-11-05 1998 / 7856 ========\n",
      "DEC not exist\n",
      "DECA not exist\n",
      "======= DECK 1994-05-05 ~ 2024-10-24 2001 / 7856 ========\n",
      "DEH not exist\n",
      "======= DEI 2006-12-05 ~ 2024-11-04 2003 / 7856 ========\n",
      "======= DELL 2017-06-08 ~ 2024-11-26 2004 / 7856 ========\n"
     ]
    },
    {
     "name": "stderr",
     "output_type": "stream",
     "text": [
      "DEN: No data found, symbol may be delisted\n"
     ]
    },
    {
     "name": "stdout",
     "output_type": "stream",
     "text": [
      "======= DEN 1995-08-28 ~ 2023-11-02 2005 / 7856 ========\n",
      "======= DENN 1999-11-09 ~ 2024-10-22 2006 / 7856 ========\n",
      "======= DEO 1996-10-15 ~ 2024-07-30 2007 / 7856 ========\n",
      "======= DERM 2014-11-12 ~ 2024-11-12 2008 / 7856 ========\n",
      "======= DESP 2017-11-17 ~ 2024-08-15 2009 / 7856 ========\n",
      "DEVS not exist\n"
     ]
    },
    {
     "name": "stderr",
     "output_type": "stream",
     "text": [
      "DFFN: No timezone found, symbol may be delisted\n"
     ]
    },
    {
     "name": "stdout",
     "output_type": "stream",
     "text": [
      "======= DFFN 2015-05-11 ~ 2023-05-15 2011 / 7856 ========\n",
      "======= DFH 2021-03-16 ~ 2024-10-31 2012 / 7856 ========\n",
      "======= DFIN 2016-11-26 ~ 2024-10-31 2013 / 7856 ========\n",
      "======= DFLI 2023-03-29 ~ 2024-11-14 2014 / 7856 ========\n",
      "DFNS not exist\n",
      "DFPH not exist\n",
      "======= DFS 2007-08-10 ~ 2024-10-16 2017 / 7856 ========\n",
      "======= DG 1993-03-09 ~ 2024-12-05 2018 / 7856 ========\n",
      "======= DGHI 2022-03-28 ~ 2024-11-14 2019 / 7856 ========\n",
      "======= DGICA 1993-11-01 ~ 2024-10-24 2020 / 7856 ========\n",
      "======= DGII 1993-01-25 ~ 2024-11-13 2021 / 7856 ========\n",
      "======= DGLY 2008-07-30 ~ 2024-04-01 2022 / 7856 ========\n",
      "DGNR not exist\n",
      "DGNS not exist\n",
      "DGNU not exist\n",
      "======= DGX 1997-01-27 ~ 2024-10-22 2026 / 7856 ========\n",
      "======= DH 2021-11-08 ~ 2024-11-07 2027 / 7856 ========\n",
      "DHAC not exist\n",
      "DHAI not exist\n",
      "DHBC not exist\n",
      "======= DHC 2003-02-12 ~ 2024-11-04 2031 / 7856 ========\n",
      "DHCA not exist\n",
      "DHHC not exist\n",
      "DHHCU not exist\n",
      "======= DHI 1993-04-20 ~ 2024-10-29 2035 / 7856 ========\n",
      "======= DHIL 2009-05-08 ~ 2010-11-05 2036 / 7856 ========\n",
      "======= DHR 1993-01-29 ~ 2024-10-22 2037 / 7856 ========\n",
      "======= DHT 2006-02-28 ~ 2024-11-12 2038 / 7856 ========\n",
      "======= DHX 2008-02-06 ~ 2024-08-07 2039 / 7856 ========\n",
      "======= DIBS 2021-08-11 ~ 2024-11-08 2040 / 7856 ========\n"
     ]
    },
    {
     "name": "stderr",
     "output_type": "stream",
     "text": [
      "DICE: No timezone found, symbol may be delisted\n"
     ]
    },
    {
     "name": "stdout",
     "output_type": "stream",
     "text": [
      "======= DICE 2021-11-12 ~ 2023-08-08 2041 / 7856 ========\n"
     ]
    },
    {
     "name": "stderr",
     "output_type": "stream",
     "text": [
      "DIDI: No timezone found, symbol may be delisted\n"
     ]
    },
    {
     "name": "stdout",
     "output_type": "stream",
     "text": [
      "======= DIDI 2021-12-29 ~ 2022-04-16 2042 / 7856 ========\n",
      "DILA not exist\n",
      "======= DIN 1993-03-01 ~ 2024-11-06 2044 / 7856 ========\n",
      "======= DINO 1993-03-12 ~ 2024-10-31 2045 / 7856 ========\n",
      "======= DIOD 2000-04-27 ~ 2024-11-07 2046 / 7856 ========\n",
      "======= DIS 1993-01-25 ~ 2024-11-14 2047 / 7856 ========\n",
      "DISA not exist\n"
     ]
    },
    {
     "name": "stderr",
     "output_type": "stream",
     "text": [
      "DISH: No timezone found, symbol may be delisted\n"
     ]
    },
    {
     "name": "stdout",
     "output_type": "stream",
     "text": [
      "======= DISH 1996-08-12 ~ 2024-02-22 2049 / 7856 ========\n",
      "DIST not exist\n",
      "DJCO not exist\n",
      "DJT not exist\n",
      "======= DK 2006-08-09 ~ 2024-11-06 2053 / 7856 ========\n",
      "======= DKL 2012-12-14 ~ 2024-11-06 2054 / 7856 ========\n",
      "======= DKNG 2020-05-15 ~ 2024-11-08 2055 / 7856 ========\n",
      "======= DKS 2003-03-13 ~ 2024-11-26 2056 / 7856 ========\n",
      "======= DLB 2005-05-05 ~ 2024-11-19 2057 / 7856 ========\n",
      "DLCA not exist\n",
      "======= DLHC 1997-05-15 ~ 2024-07-31 2059 / 7856 ========\n",
      "======= DLNG 2014-02-20 ~ 2024-11-22 2060 / 7856 ========\n",
      "======= DLO 2021-08-18 ~ 2024-11-13 2061 / 7856 ========\n",
      "======= DLPN 2018-05-15 ~ 2024-08-14 2062 / 7856 ========\n",
      "======= DLR 2006-11-06 ~ 2024-10-24 2063 / 7856 ========\n",
      "======= DLTH 2015-12-17 ~ 2024-08-29 2064 / 7856 ========\n",
      "======= DLTR 1995-07-25 ~ 2024-12-04 2065 / 7856 ========\n",
      "======= DLX 1993-01-26 ~ 2024-11-06 2066 / 7856 ========\n",
      "======= DM 2021-03-15 ~ 2024-10-31 2067 / 7856 ========\n",
      "======= DMAC 2014-05-29 ~ 2024-08-07 2068 / 7856 ========\n",
      "DMAQ not exist\n",
      "DMF not exist\n",
      "DMLP not exist\n",
      "DMN not exist\n",
      "======= DMRC 2000-04-19 ~ 2024-08-13 2073 / 7856 ========\n"
     ]
    },
    {
     "name": "stderr",
     "output_type": "stream",
     "text": [
      "DMS: No timezone found, symbol may be delisted\n"
     ]
    },
    {
     "name": "stdout",
     "output_type": "stream",
     "text": [
      "======= DMS 2020-11-10 ~ 2023-11-06 2074 / 7856 ========\n"
     ]
    },
    {
     "name": "stderr",
     "output_type": "stream",
     "text": [
      "DMTK: No timezone found, symbol may be delisted\n"
     ]
    },
    {
     "name": "stdout",
     "output_type": "stream",
     "text": [
      "======= DMTK 2020-03-11 ~ 2024-05-14 2075 / 7856 ========\n",
      "DMYI not exist\n",
      "DMYS not exist\n",
      "DMYY not exist\n",
      "======= DNA 2021-11-15 ~ 2024-11-12 2079 / 7856 ========\n",
      "DNAA not exist\n",
      "DNAB not exist\n",
      "DNAC not exist\n",
      "DNAD not exist\n"
     ]
    },
    {
     "name": "stderr",
     "output_type": "stream",
     "text": [
      "DNAY: No timezone found, symbol may be delisted\n"
     ]
    },
    {
     "name": "stdout",
     "output_type": "stream",
     "text": [
      "======= DNAY 2021-08-10 ~ 2022-11-08 2084 / 7856 ========\n",
      "======= DNB 2020-08-06 ~ 2024-10-31 2085 / 7856 ========\n",
      "======= DNLI 2018-03-19 ~ 2024-11-06 2086 / 7856 ========\n",
      "======= DNMR 2021-05-17 ~ 2024-11-19 2087 / 7856 ========\n",
      "======= DNOW 2014-08-06 ~ 2024-11-07 2088 / 7856 ========\n",
      "======= DNTH 2023-08-03 ~ 2024-11-07 2089 / 7856 ========\n",
      "======= DNUT 2021-08-17 ~ 2024-11-07 2090 / 7856 ========\n",
      "DNZ not exist\n"
     ]
    },
    {
     "name": "stderr",
     "output_type": "stream",
     "text": [
      "DO: No timezone found, symbol may be delisted\n"
     ]
    },
    {
     "name": "stdout",
     "output_type": "stream",
     "text": [
      "======= DO 1996-04-22 ~ 2024-08-06 2092 / 7856 ========\n",
      "======= DOC 2013-10-29 ~ 2024-10-24 2093 / 7856 ========\n",
      "======= DOCN 2021-05-06 ~ 2024-11-04 2094 / 7856 ========\n",
      "======= DOCS 2021-08-10 ~ 2024-11-07 2095 / 7856 ========\n",
      "======= DOCU 2018-06-07 ~ 2024-12-05 2096 / 7856 ========\n",
      "======= DOGZ 2021-10-29 ~ 2022-09-30 2097 / 7856 ========\n",
      "======= DOLE 2021-12-03 ~ 2024-11-13 2098 / 7856 ========\n"
     ]
    },
    {
     "name": "stderr",
     "output_type": "stream",
     "text": [
      "DOMA: No timezone found, symbol may be delisted\n"
     ]
    },
    {
     "name": "stdout",
     "output_type": "stream",
     "text": [
      "======= DOMA 2021-11-10 ~ 2024-08-13 2099 / 7856 ========\n",
      "======= DOMH 2010-04-01 ~ 2024-03-29 2100 / 7856 ========\n",
      "======= DOMO 2018-09-06 ~ 2024-08-29 2101 / 7856 ========\n",
      "======= DOOO 2013-09-12 ~ 2024-12-06 2102 / 7856 ========\n"
     ]
    },
    {
     "name": "stderr",
     "output_type": "stream",
     "text": [
      "DOOR: No timezone found, symbol may be delisted\n"
     ]
    },
    {
     "name": "stdout",
     "output_type": "stream",
     "text": [
      "======= DOOR 2013-11-06 ~ 2024-05-06 2103 / 7856 ========\n",
      "======= DORM 1993-10-29 ~ 2024-10-31 2104 / 7856 ========\n",
      "======= DOUG 2022-03-01 ~ 2024-11-07 2105 / 7856 ========\n",
      "======= DOV 1993-01-19 ~ 2024-10-24 2106 / 7856 ========\n",
      "======= DOW 2019-05-02 ~ 2024-10-24 2107 / 7856 ========\n",
      "======= DOX 1998-09-28 ~ 2024-11-12 2108 / 7856 ========\n",
      "======= DOYU 2019-08-13 ~ 2024-09-12 2109 / 7856 ========\n",
      "DPCS not exist\n",
      "======= DPRO 2021-11-09 ~ 2024-11-14 2111 / 7856 ========\n",
      "======= DPZ 2004-10-19 ~ 2024-10-10 2112 / 7856 ========\n",
      "======= DQ 2011-03-07 ~ 2024-10-30 2113 / 7856 ========\n",
      "DRAY not exist\n",
      "======= DRCT 2022-03-29 ~ 2024-11-12 2115 / 7856 ========\n",
      "======= DRD 2003-04-29 ~ 2007-04-26 2116 / 7856 ========\n"
     ]
    },
    {
     "name": "stderr",
     "output_type": "stream",
     "text": [
      "DRE: No timezone found, symbol may be delisted\n"
     ]
    },
    {
     "name": "stdout",
     "output_type": "stream",
     "text": [
      "======= DRE 2001-07-25 ~ 2022-07-27 2117 / 7856 ========\n",
      "======= DRH 2007-05-01 ~ 2024-11-08 2118 / 7856 ========\n",
      "======= DRI 1995-09-15 ~ 2024-09-19 2119 / 7856 ========\n",
      "======= DRIO 2013-08-14 ~ 2024-11-07 2120 / 7856 ========\n",
      "======= DRMA 2021-09-27 ~ 2024-08-07 2121 / 7856 ========\n"
     ]
    },
    {
     "name": "stderr",
     "output_type": "stream",
     "text": [
      "DRNA: No timezone found, symbol may be delisted\n"
     ]
    },
    {
     "name": "stdout",
     "output_type": "stream",
     "text": [
      "======= DRNA 2014-03-27 ~ 2021-11-09 2122 / 7856 ========\n"
     ]
    },
    {
     "name": "stderr",
     "output_type": "stream",
     "text": [
      "DRQ: No timezone found, symbol may be delisted\n"
     ]
    },
    {
     "name": "stdout",
     "output_type": "stream",
     "text": [
      "======= DRQ 1998-04-29 ~ 2024-10-24 2123 / 7856 ========\n",
      "======= DRRX 2001-02-15 ~ 2024-11-13 2124 / 7856 ========\n",
      "======= DRS 1995-11-20 ~ 2024-10-30 2125 / 7856 ========\n",
      "======= DRTS 2022-05-26 ~ 2024-08-14 2126 / 7856 ========\n"
     ]
    },
    {
     "name": "stderr",
     "output_type": "stream",
     "text": [
      "DRTT: No timezone found, symbol may be delisted\n"
     ]
    },
    {
     "name": "stdout",
     "output_type": "stream",
     "text": [
      "======= DRTT 2014-08-07 ~ 2023-11-13 2127 / 7856 ========\n",
      "DRUG not exist\n",
      "======= DRVN 2021-03-10 ~ 2024-10-31 2129 / 7856 ========\n"
     ]
    },
    {
     "name": "stderr",
     "output_type": "stream",
     "text": [
      "DS: No timezone found, symbol may be delisted\n"
     ]
    },
    {
     "name": "stdout",
     "output_type": "stream",
     "text": [
      "======= DS 2003-02-13 ~ 2022-11-21 2130 / 7856 ========\n",
      "DSAC not exist\n",
      "DSAQ not exist\n"
     ]
    },
    {
     "name": "stderr",
     "output_type": "stream",
     "text": [
      "DSEY: No timezone found, symbol may be delisted\n"
     ]
    },
    {
     "name": "stdout",
     "output_type": "stream",
     "text": [
      "======= DSEY 2021-05-14 ~ 2023-08-03 2133 / 7856 ========\n",
      "======= DSGN 2021-05-10 ~ 2024-11-07 2134 / 7856 ========\n",
      "======= DSGR 1993-03-01 ~ 2024-10-31 2135 / 7856 ========\n",
      "======= DSGX 1999-03-11 ~ 2024-09-04 2136 / 7856 ========\n"
     ]
    },
    {
     "name": "stderr",
     "output_type": "stream",
     "text": [
      "DSKE: No data found, symbol may be delisted\n"
     ]
    },
    {
     "name": "stdout",
     "output_type": "stream",
     "text": [
      "======= DSKE 2017-05-10 ~ 2024-03-11 2137 / 7856 ========\n",
      "DSKEW not exist\n",
      "======= DSP 2021-03-22 ~ 2024-08-12 2139 / 7856 ========\n"
     ]
    },
    {
     "name": "stderr",
     "output_type": "stream",
     "text": [
      "DSPG: No timezone found, symbol may be delisted\n"
     ]
    },
    {
     "name": "stdout",
     "output_type": "stream",
     "text": [
      "======= DSPG 1994-10-19 ~ 2021-11-03 2140 / 7856 ========\n"
     ]
    },
    {
     "name": "stderr",
     "output_type": "stream",
     "text": [
      "DSSI: No timezone found, symbol may be delisted\n"
     ]
    },
    {
     "name": "stdout",
     "output_type": "stream",
     "text": [
      "======= DSSI 2019-08-07 ~ 2021-05-10 2141 / 7856 ========\n",
      "======= DSWL 2003-02-24 ~ 2008-10-13 2142 / 7856 ========\n",
      "======= DSX 2005-05-05 ~ 2024-11-25 2143 / 7856 ========\n",
      "DSY not exist\n",
      "DSYWW not exist\n",
      "======= DT 2019-09-04 ~ 2024-11-07 2146 / 7856 ========\n",
      "DTB not exist\n",
      "======= DTC 2021-12-08 ~ 2024-11-07 2148 / 7856 ========\n",
      "DTCK not exist\n",
      "======= DTE 1993-01-25 ~ 2024-10-24 2150 / 7856 ========\n"
     ]
    },
    {
     "name": "stderr",
     "output_type": "stream",
     "text": [
      "DTEA: No timezone found, symbol may be delisted\n"
     ]
    },
    {
     "name": "stdout",
     "output_type": "stream",
     "text": [
      "======= DTEA 2015-09-09 ~ 2018-09-13 2151 / 7856 ========\n",
      "DTG not exist\n",
      "======= DTI 2024-03-27 ~ 2024-08-06 2153 / 7856 ========\n",
      "======= DTIL 2019-04-29 ~ 2024-11-04 2154 / 7856 ========\n",
      "DTLA-P not exist\n",
      "======= DTM 2021-08-06 ~ 2024-10-29 2156 / 7856 ========\n",
      "DTOC not exist\n",
      "DTP not exist\n",
      "DTRT not exist\n",
      "DTSQ not exist\n",
      "DTSQR not exist\n",
      "DTSQU not exist\n"
     ]
    },
    {
     "name": "stderr",
     "output_type": "stream",
     "text": [
      "DTSS: No price data found, symbol may be delisted (1d 2022-02-11 -> 2022-02-11)\n"
     ]
    },
    {
     "name": "stdout",
     "output_type": "stream",
     "text": [
      "======= DTSS 2022-02-11 ~ 2022-02-11 2163 / 7856 ========\n",
      "======= DTST 2021-11-15 ~ 2024-08-14 2164 / 7856 ========\n",
      "DTW not exist\n",
      "DUET not exist\n",
      "======= DUK 1993-01-25 ~ 2024-11-07 2167 / 7856 ========\n",
      "DUKB not exist\n",
      "DUNE not exist\n",
      "======= DUO 2019-12-04 ~ 2021-12-31 2170 / 7856 ========\n",
      "======= DUOL 2021-11-10 ~ 2024-11-06 2171 / 7856 ========\n",
      "======= DUOT 2018-04-02 ~ 2024-08-13 2172 / 7856 ========\n",
      "======= DV 2021-07-29 ~ 2024-11-06 2173 / 7856 ========\n",
      "======= DVA 1996-08-06 ~ 2024-10-29 2174 / 7856 ========\n",
      "======= DVAX 2004-08-05 ~ 2024-11-07 2175 / 7856 ========\n"
     ]
    },
    {
     "name": "stderr",
     "output_type": "stream",
     "text": [
      "DVCR: No timezone found, symbol may be delisted\n"
     ]
    },
    {
     "name": "stdout",
     "output_type": "stream",
     "text": [
      "======= DVCR 1995-02-16 ~ 2013-05-09 2176 / 7856 ========\n"
     ]
    },
    {
     "name": "stderr",
     "output_type": "stream",
     "text": [
      "DVD: No timezone found, symbol may be delisted\n"
     ]
    },
    {
     "name": "stdout",
     "output_type": "stream",
     "text": [
      "======= DVD 1997-10-21 ~ 2014-07-24 2177 / 7856 ========\n",
      "======= DVN 1993-03-02 ~ 2024-11-05 2178 / 7856 ========\n",
      "DWAC not exist\n",
      "DWIN not exist\n",
      "DWIN-UN not exist\n",
      "======= DWSN 2005-10-31 ~ 2019-08-01 2182 / 7856 ========\n",
      "======= DWTX 2024-08-08 ~ 2024-11-07 2183 / 7856 ========\n",
      "======= DX 2007-02-14 ~ 2024-10-21 2184 / 7856 ========\n",
      "======= DXC 1993-01-27 ~ 2024-11-07 2185 / 7856 ========\n",
      "======= DXCM 2005-08-02 ~ 2024-10-24 2186 / 7856 ========\n",
      "======= DXLG 1993-03-01 ~ 2024-11-22 2187 / 7856 ========\n",
      "======= DXPE 2004-10-28 ~ 2024-11-04 2188 / 7856 ========\n",
      "======= DXR 2003-08-12 ~ 2020-02-28 2189 / 7856 ========\n",
      "======= DXYN 1993-02-20 ~ 2018-08-02 2190 / 7856 ========\n",
      "DXYZ not exist\n",
      "======= DY 1996-11-25 ~ 2024-11-20 2192 / 7856 ========\n",
      "======= DYAI 2005-11-14 ~ 2024-08-13 2193 / 7856 ========\n",
      "DYCQ not exist\n",
      "======= DYN 2020-11-05 ~ 2024-11-12 2195 / 7856 ========\n",
      "DYNS not exist\n",
      "======= DYNT 2016-02-16 ~ 2024-05-09 2197 / 7856 ========\n",
      "DYNXU not exist\n",
      "======= DZSI 2001-10-24 ~ 2024-09-03 2199 / 7856 ========\n",
      "======= E 1997-03-24 ~ 2024-10-25 2200 / 7856 ========\n",
      "======= EA 1993-01-18 ~ 2024-10-29 2201 / 7856 ========\n",
      "EAC not exist\n",
      "======= EAF 2018-08-03 ~ 2024-11-12 2203 / 7856 ========\n",
      "EAI not exist\n"
     ]
    },
    {
     "name": "stderr",
     "output_type": "stream",
     "text": [
      "EAR: No timezone found, symbol may be delisted\n"
     ]
    },
    {
     "name": "stdout",
     "output_type": "stream",
     "text": [
      "======= EAR 2020-11-19 ~ 2023-08-10 2205 / 7856 ========\n",
      "======= EARN 2013-08-14 ~ 2024-11-12 2206 / 7856 ========\n",
      "EARS not exist\n",
      "======= EAST 2017-11-14 ~ 2024-11-14 2208 / 7856 ========\n",
      "======= EAT 1993-04-21 ~ 2024-10-30 2209 / 7856 ========\n",
      "======= EB 2018-11-12 ~ 2024-11-07 2210 / 7856 ========\n",
      "EBAC not exist\n",
      "======= EBAY 1998-10-27 ~ 2024-10-30 2212 / 7856 ========\n",
      "======= EBC 2021-01-28 ~ 2024-10-24 2213 / 7856 ========\n",
      "======= EBET 2022-05-16 ~ 2022-08-15 2214 / 7856 ========\n",
      "======= EBF 1993-06-14 ~ 2024-09-23 2215 / 7856 ========\n"
     ]
    },
    {
     "name": "stderr",
     "output_type": "stream",
     "text": [
      "EBIX: No timezone found, symbol may be delisted\n"
     ]
    },
    {
     "name": "stdout",
     "output_type": "stream",
     "text": [
      "======= EBIX 1999-05-17 ~ 2023-11-14 2216 / 7856 ========\n",
      "======= EBMT 2010-07-22 ~ 2024-10-29 2217 / 7856 ========\n",
      "EBON not exist\n",
      "======= EBR 2021-03-19 ~ 2024-11-07 2219 / 7856 ========\n",
      "======= EBR-B 1997-05-15 ~ 2024-11-06 2220 / 7856 ========\n",
      "======= EBS 2007-05-09 ~ 2024-11-06 2221 / 7856 ========\n"
     ]
    },
    {
     "name": "stderr",
     "output_type": "stream",
     "text": [
      "EBSB: No timezone found, symbol may be delisted\n"
     ]
    },
    {
     "name": "stdout",
     "output_type": "stream",
     "text": [
      "======= EBSB 2008-05-05 ~ 2021-10-21 2222 / 7856 ========\n",
      "EBTC not exist\n",
      "======= EC 2011-07-21 ~ 2024-11-13 2224 / 7856 ========\n",
      "ECBK not exist\n",
      "======= ECC 2015-02-27 ~ 2024-11-14 2226 / 7856 ========\n",
      "ECCB not exist\n",
      "ECCC not exist\n",
      "ECCF not exist\n",
      "ECCV not exist\n",
      "ECCW not exist\n",
      "ECCX not exist\n",
      "ECDA not exist\n",
      "ECG not exist\n"
     ]
    },
    {
     "name": "stderr",
     "output_type": "stream",
     "text": [
      "ECHO: No timezone found, symbol may be delisted\n"
     ]
    },
    {
     "name": "stdout",
     "output_type": "stream",
     "text": [
      "======= ECHO 2010-02-22 ~ 2021-10-26 2235 / 7856 ========\n",
      "======= ECL 1993-02-23 ~ 2024-10-29 2236 / 7856 ========\n",
      "======= ECO 2024-05-16 ~ 2024-11-08 2237 / 7856 ========\n"
     ]
    },
    {
     "name": "stderr",
     "output_type": "stream",
     "text": [
      "ECOL: No timezone found, symbol may be delisted\n"
     ]
    },
    {
     "name": "stdout",
     "output_type": "stream",
     "text": [
      "======= ECOL 2000-07-31 ~ 2022-04-29 2238 / 7856 ========\n"
     ]
    },
    {
     "name": "stderr",
     "output_type": "stream",
     "text": [
      "ECOM: No timezone found, symbol may be delisted\n"
     ]
    },
    {
     "name": "stdout",
     "output_type": "stream",
     "text": [
      "======= ECOM 2013-08-07 ~ 2022-11-07 2239 / 7856 ========\n",
      "======= ECOR 2018-08-13 ~ 2024-08-07 2240 / 7856 ========\n",
      "======= ECPG 1999-11-02 ~ 2024-11-06 2241 / 7856 ========\n",
      "======= ECVT 2017-11-13 ~ 2024-10-31 2242 / 7856 ========\n",
      "======= ECX 2023-06-12 ~ 2024-11-07 2243 / 7856 ========\n",
      "======= ED 1993-01-26 ~ 2024-11-07 2244 / 7856 ========\n",
      "======= EDAP 1997-11-05 ~ 2024-11-07 2245 / 7856 ========\n",
      "======= EDBL 2022-11-10 ~ 2024-11-13 2246 / 7856 ========\n",
      "======= EDIT 2016-05-16 ~ 2024-11-04 2247 / 7856 ========\n",
      "======= EDN 2007-11-08 ~ 2024-11-12 2248 / 7856 ========\n",
      "EDNC not exist\n",
      "======= EDR 2021-06-02 ~ 2024-11-04 2250 / 7856 ========\n",
      "======= EDRY 2018-08-09 ~ 2024-11-19 2251 / 7856 ========\n",
      "======= EDSA 2014-11-13 ~ 2024-08-09 2252 / 7856 ========\n",
      "EDTK not exist\n",
      "EDTX not exist\n",
      "======= EDU 2007-04-17 ~ 2024-10-23 2255 / 7856 ========\n",
      "======= EDUC 2022-01-06 ~ 2022-10-06 2256 / 7856 ========\n",
      "======= EE 1997-02-21 ~ 2024-11-07 2257 / 7856 ========\n",
      "======= EEFT 2002-07-29 ~ 2024-10-23 2258 / 7856 ========\n"
     ]
    },
    {
     "name": "stderr",
     "output_type": "stream",
     "text": [
      "EEIQ: No price data found, symbol may be delisted (1d 2021-07-14 -> 2021-07-14)\n"
     ]
    },
    {
     "name": "stdout",
     "output_type": "stream",
     "text": [
      "======= EEIQ 2021-07-14 ~ 2021-07-14 2259 / 7856 ========\n",
      "======= EEX 2017-05-25 ~ 2024-10-30 2260 / 7856 ========\n",
      "======= EFC 2011-02-15 ~ 2024-11-06 2261 / 7856 ========\n",
      "EFC-PC not exist\n",
      "EFC-PD not exist\n",
      "EFC-PE not exist\n",
      "EFHT not exist\n",
      "======= EFOI 1995-07-28 ~ 2023-11-09 2266 / 7856 ========\n",
      "======= EFSC 2005-01-26 ~ 2024-10-21 2267 / 7856 ========\n",
      "======= EFTR 2021-11-08 ~ 2024-05-09 2268 / 7856 ========\n",
      "======= EFX 1993-04-20 ~ 2024-10-16 2269 / 7856 ========\n",
      "======= EFXT 2011-08-10 ~ 2024-11-14 2270 / 7856 ========\n",
      "======= EG 2023-02-08 ~ 2024-10-30 2271 / 7856 ========\n",
      "======= EGAN 2000-01-26 ~ 2024-11-12 2272 / 7856 ========\n",
      "======= EGBN 2005-07-18 ~ 2024-10-23 2273 / 7856 ========\n",
      "EGGF not exist\n",
      "======= EGHT 1997-10-22 ~ 2024-11-04 2275 / 7856 ========\n"
     ]
    },
    {
     "name": "stderr",
     "output_type": "stream",
     "text": [
      "EGIO: No timezone found, symbol may be delisted\n"
     ]
    },
    {
     "name": "stdout",
     "output_type": "stream",
     "text": [
      "======= EGIO 2008-05-08 ~ 2023-11-14 2276 / 7856 ========\n"
     ]
    },
    {
     "name": "stderr",
     "output_type": "stream",
     "text": [
      "EGLE: No timezone found, symbol may be delisted\n"
     ]
    },
    {
     "name": "stdout",
     "output_type": "stream",
     "text": [
      "======= EGLE 2006-03-06 ~ 2024-05-02 2277 / 7856 ========\n"
     ]
    },
    {
     "name": "stderr",
     "output_type": "stream",
     "text": [
      "EGLX: No timezone found, symbol may be delisted\n"
     ]
    },
    {
     "name": "stdout",
     "output_type": "stream",
     "text": [
      "======= EGLX 2019-11-28 ~ 2023-11-13 2278 / 7856 ========\n",
      "======= EGO 1997-08-29 ~ 2024-10-31 2279 / 7856 ========\n",
      "EGOX not exist\n",
      "======= EGP 2000-05-03 ~ 2024-10-23 2281 / 7856 ========\n",
      "======= EGRX 2014-05-14 ~ 2023-11-09 2282 / 7856 ========\n",
      "======= EGY 2004-08-13 ~ 2024-11-11 2283 / 7856 ========\n",
      "======= EH 2020-03-24 ~ 2024-11-18 2284 / 7856 ========\n",
      "======= EHAB 2022-08-01 ~ 2024-11-06 2285 / 7856 ========\n",
      "======= EHC 1993-02-17 ~ 2024-10-28 2286 / 7856 ========\n",
      "EHGO not exist\n",
      "======= EHTH 2007-05-03 ~ 2024-11-06 2288 / 7856 ========\n"
     ]
    },
    {
     "name": "stderr",
     "output_type": "stream",
     "text": [
      "EIC: No price data found, symbol may be delisted (1d 2024-11-14 -> 2024-11-14)\n"
     ]
    },
    {
     "name": "stdout",
     "output_type": "stream",
     "text": [
      "======= EIC 2024-11-14 ~ 2024-11-14 2289 / 7856 ========\n",
      "EICA not exist\n",
      "EICB not exist\n",
      "EICC not exist\n",
      "======= EIG 2007-05-14 ~ 2024-10-30 2293 / 7856 ========\n",
      "======= EIGR 2014-03-31 ~ 2024-05-09 2294 / 7856 ========\n",
      "======= EIX 1993-01-22 ~ 2024-10-29 2295 / 7856 ========\n",
      "EJFA not exist\n",
      "EJH not exist\n",
      "======= EKSO 2015-03-17 ~ 2024-10-28 2298 / 7856 ========\n",
      "======= EL 1996-01-30 ~ 2024-10-31 2299 / 7856 ========\n",
      "ELAB not exist\n",
      "======= ELAN 2018-11-06 ~ 2024-11-07 2301 / 7856 ========\n"
     ]
    },
    {
     "name": "stderr",
     "output_type": "stream",
     "text": [
      "ELAT: No timezone found, symbol may be delisted\n"
     ]
    },
    {
     "name": "stdout",
     "output_type": "stream",
     "text": [
      "======= ELAT 2022-12-30 ~ 2022-12-30 2302 / 7856 ========\n",
      "======= ELBM 2022-05-26 ~ 2024-11-14 2303 / 7856 ========\n",
      "ELC not exist\n",
      "======= ELDN 2014-11-10 ~ 2024-08-19 2305 / 7856 ========\n",
      "======= ELEV 2021-08-12 ~ 2024-11-06 2306 / 7856 ========\n",
      "======= ELF 2016-11-10 ~ 2024-11-06 2307 / 7856 ========\n",
      "ELIQ not exist\n",
      "======= ELME 1993-02-23 ~ 2024-11-04 2309 / 7856 ========\n"
     ]
    },
    {
     "name": "stderr",
     "output_type": "stream",
     "text": [
      "ELMS: No timezone found, symbol may be delisted\n"
     ]
    },
    {
     "name": "stdout",
     "output_type": "stream",
     "text": [
      "======= ELMS 2021-05-26 ~ 2021-11-10 2310 / 7856 ========\n",
      "ELO not exist\n",
      "======= ELOX 2018-05-10 ~ 2023-11-13 2312 / 7856 ========\n",
      "======= ELP 1996-11-19 ~ 2024-11-06 2313 / 7856 ========\n",
      "ELPC not exist\n",
      "======= ELS 2004-01-27 ~ 2024-10-21 2315 / 7856 ========\n",
      "ELSE not exist\n",
      "======= ELTK 1997-06-17 ~ 2024-11-19 2317 / 7856 ========\n",
      "======= ELTX 2022-03-31 ~ 2024-11-13 2318 / 7856 ========\n",
      "======= ELUT 2023-08-14 ~ 2024-08-07 2319 / 7856 ========\n",
      "======= ELV 2002-02-06 ~ 2024-10-17 2320 / 7856 ========\n",
      "======= ELVA 2023-12-27 ~ 2024-08-13 2321 / 7856 ========\n",
      "======= ELVN 2020-05-07 ~ 2024-11-13 2322 / 7856 ========\n"
     ]
    },
    {
     "name": "stderr",
     "output_type": "stream",
     "text": [
      "ELVT: No timezone found, symbol may be delisted\n"
     ]
    },
    {
     "name": "stdout",
     "output_type": "stream",
     "text": [
      "======= ELVT 2017-05-10 ~ 2022-11-09 2323 / 7856 ========\n",
      "ELWS not exist\n"
     ]
    },
    {
     "name": "stderr",
     "output_type": "stream",
     "text": [
      "ELY: No timezone found, symbol may be delisted\n"
     ]
    },
    {
     "name": "stdout",
     "output_type": "stream",
     "text": [
      "======= ELY 1993-02-05 ~ 2022-08-05 2325 / 7856 ========\n"
     ]
    },
    {
     "name": "stderr",
     "output_type": "stream",
     "text": [
      "ELYM: No timezone found, symbol may be delisted\n"
     ]
    },
    {
     "name": "stdout",
     "output_type": "stream",
     "text": [
      "======= ELYM 2021-09-13 ~ 2023-05-11 2326 / 7856 ========\n",
      "======= EM 2021-05-19 ~ 2024-08-22 2327 / 7856 ========\n",
      "======= EMBC 2022-08-15 ~ 2024-11-26 2328 / 7856 ========\n"
     ]
    },
    {
     "name": "stderr",
     "output_type": "stream",
     "text": [
      "EMBK: No timezone found, symbol may be delisted\n"
     ]
    },
    {
     "name": "stdout",
     "output_type": "stream",
     "text": [
      "======= EMBK 2022-05-10 ~ 2023-03-16 2329 / 7856 ========\n",
      "EMCF not exist\n",
      "======= EME 1993-09-02 ~ 2024-10-31 2331 / 7856 ========\n",
      "======= EMKR 1997-04-25 ~ 2024-08-06 2332 / 7856 ========\n",
      "======= EML 2009-04-22 ~ 2010-10-27 2333 / 7856 ========\n",
      "EMLD not exist\n",
      "======= EMN 1994-02-01 ~ 2024-10-31 2335 / 7856 ========\n",
      "EMP not exist\n",
      "======= EMR 1993-01-20 ~ 2024-11-05 2337 / 7856 ========\n",
      "EMWP not exist\n",
      "======= ENB 1993-08-04 ~ 2024-11-01 2339 / 7856 ========\n",
      "ENBA not exist\n"
     ]
    },
    {
     "name": "stderr",
     "output_type": "stream",
     "text": [
      "ENBL: No timezone found, symbol may be delisted\n"
     ]
    },
    {
     "name": "stdout",
     "output_type": "stream",
     "text": [
      "======= ENBL 2014-08-05 ~ 2021-11-01 2341 / 7856 ========\n",
      "ENCP not exist\n"
     ]
    },
    {
     "name": "stderr",
     "output_type": "stream",
     "text": [
      "ENDP: No timezone found, symbol may be delisted\n"
     ]
    },
    {
     "name": "stdout",
     "output_type": "stream",
     "text": [
      "======= ENDP 2000-10-01 ~ 2022-08-09 2343 / 7856 ========\n",
      "ENER not exist\n",
      "ENFA not exist\n",
      "======= ENFN 2021-12-02 ~ 2024-11-04 2346 / 7856 ========\n",
      "ENFY not exist\n",
      "======= ENG 2002-11-13 ~ 2024-03-29 2348 / 7856 ========\n",
      "======= ENGN 2024-06-14 ~ 2024-09-10 2349 / 7856 ========\n"
     ]
    },
    {
     "name": "stderr",
     "output_type": "stream",
     "text": [
      "ENIA: No timezone found, symbol may be delisted\n"
     ]
    },
    {
     "name": "stdout",
     "output_type": "stream",
     "text": [
      "======= ENIA 1996-05-09 ~ 2022-02-25 2350 / 7856 ========\n",
      "======= ENIC 2017-02-28 ~ 2024-10-30 2351 / 7856 ========\n",
      "ENJ not exist\n"
     ]
    },
    {
     "name": "stderr",
     "output_type": "stream",
     "text": [
      "ENJY: No timezone found, symbol may be delisted\n"
     ]
    },
    {
     "name": "stdout",
     "output_type": "stream",
     "text": [
      "======= ENJY 2021-11-11 ~ 2022-05-16 2353 / 7856 ========\n",
      "======= ENLC 2014-08-05 ~ 2024-08-06 2354 / 7856 ========\n",
      "======= ENLT 2023-03-15 ~ 2024-08-07 2355 / 7856 ========\n",
      "======= ENLV 2014-11-21 ~ 2024-11-29 2356 / 7856 ========\n",
      "ENNV not exist\n",
      "ENO not exist\n",
      "ENOB not exist\n",
      "======= ENOV 2008-08-05 ~ 2024-11-06 2360 / 7856 ========\n"
     ]
    },
    {
     "name": "stderr",
     "output_type": "stream",
     "text": [
      "ENPC: No timezone found, symbol may be delisted\n"
     ]
    },
    {
     "name": "stdout",
     "output_type": "stream",
     "text": [
      "======= ENPC 2022-10-24 ~ 2022-10-24 2361 / 7856 ========\n",
      "======= ENPH 2012-08-07 ~ 2024-10-22 2362 / 7856 ========\n",
      "======= ENR 2015-08-06 ~ 2024-11-19 2363 / 7856 ========\n",
      "======= ENS 2004-11-16 ~ 2024-11-06 2364 / 7856 ========\n",
      "======= ENSC 2022-05-12 ~ 2024-08-14 2365 / 7856 ========\n",
      "======= ENSG 2008-05-07 ~ 2024-10-24 2366 / 7856 ========\n",
      "======= ENTA 2013-05-08 ~ 2024-08-05 2367 / 7856 ========\n",
      "ENTF not exist\n",
      "======= ENTG 2000-10-11 ~ 2024-11-04 2369 / 7856 ========\n",
      "======= ENTO 2024-03-18 ~ 2024-11-11 2370 / 7856 ========\n",
      "======= ENTX 2018-06-29 ~ 2024-11-08 2371 / 7856 ========\n",
      "======= ENV 2010-11-04 ~ 2024-11-07 2372 / 7856 ========\n",
      "======= ENVA 2015-02-03 ~ 2024-10-22 2373 / 7856 ========\n",
      "======= ENVB 2018-08-14 ~ 2024-08-12 2374 / 7856 ========\n",
      "ENVI not exist\n",
      "======= ENVX 2021-11-08 ~ 2024-10-29 2376 / 7856 ========\n",
      "======= ENZ 2000-10-30 ~ 2019-10-15 2377 / 7856 ========\n",
      "EOCW not exist\n",
      "======= EOG 1993-01-26 ~ 2024-11-08 2379 / 7856 ========\n",
      "======= EOLS 2018-03-29 ~ 2024-11-06 2380 / 7856 ========\n",
      "======= EOSE 2021-02-25 ~ 2024-11-05 2381 / 7856 ========\n",
      "======= EPAC 1993-03-26 ~ 2024-10-15 2382 / 7856 ========\n",
      "======= EPAM 2012-08-03 ~ 2024-11-07 2383 / 7856 ========\n"
     ]
    },
    {
     "name": "stderr",
     "output_type": "stream",
     "text": [
      "EPAY: No timezone found, symbol may be delisted\n"
     ]
    },
    {
     "name": "stdout",
     "output_type": "stream",
     "text": [
      "======= EPAY 1999-04-22 ~ 2021-11-09 2384 / 7856 ========\n",
      "======= EPC 2000-07-27 ~ 2024-11-07 2385 / 7856 ========\n",
      "======= EPD 1998-10-27 ~ 2024-10-29 2386 / 7856 ========\n",
      "EPHY not exist\n",
      "======= EPIX 2015-05-28 ~ 2024-08-05 2388 / 7856 ========\n",
      "EPOW not exist\n",
      "======= EPR 2003-02-12 ~ 2024-10-30 2390 / 7856 ========\n",
      "======= EPRT 2018-08-08 ~ 2024-10-23 2391 / 7856 ========\n",
      "EPRX not exist\n",
      "======= EPSN 2012-05-14 ~ 2024-11-06 2393 / 7856 ========\n",
      "EPWR not exist\n"
     ]
    },
    {
     "name": "stderr",
     "output_type": "stream",
     "text": [
      "EPZM: No timezone found, symbol may be delisted\n"
     ]
    },
    {
     "name": "stdout",
     "output_type": "stream",
     "text": [
      "======= EPZM 2013-07-31 ~ 2022-08-09 2395 / 7856 ========\n",
      "======= EQ 2018-11-15 ~ 2024-08-08 2396 / 7856 ========\n",
      "======= EQBK 2016-01-28 ~ 2024-10-15 2397 / 7856 ========\n",
      "======= EQC 1993-01-16 ~ 2024-02-12 2398 / 7856 ========\n",
      "EQD not exist\n",
      "======= EQH 2018-08-13 ~ 2024-11-04 2400 / 7856 ========\n",
      "EQHA not exist\n",
      "======= EQIX 2000-10-17 ~ 2024-10-30 2402 / 7856 ========\n",
      "======= EQNR 2002-11-03 ~ 2024-10-24 2403 / 7856 ========\n",
      "EQOS not exist\n",
      "======= EQR 2002-03-04 ~ 2024-10-30 2405 / 7856 ========\n"
     ]
    },
    {
     "name": "stderr",
     "output_type": "stream",
     "text": [
      "EQRX: No timezone found, symbol may be delisted\n"
     ]
    },
    {
     "name": "stdout",
     "output_type": "stream",
     "text": [
      "======= EQRX 2022-05-13 ~ 2023-11-09 2406 / 7856 ========\n",
      "EQS not exist\n",
      "======= EQT 1993-03-05 ~ 2024-10-29 2408 / 7856 ========\n",
      "EQV not exist\n",
      "======= ERAS 2021-08-26 ~ 2024-08-12 2410 / 7856 ========\n",
      "ERES not exist\n"
     ]
    },
    {
     "name": "stderr",
     "output_type": "stream",
     "text": [
      "ERF: No timezone found, symbol may be delisted\n"
     ]
    },
    {
     "name": "stdout",
     "output_type": "stream",
     "text": [
      "======= ERF 2002-08-16 ~ 2024-05-08 2412 / 7856 ========\n",
      "======= ERIC 1993-05-14 ~ 2024-10-15 2413 / 7856 ========\n",
      "======= ERIE 1997-04-18 ~ 2024-10-31 2414 / 7856 ========\n",
      "======= ERII 2008-11-11 ~ 2024-10-30 2415 / 7856 ========\n",
      "======= ERJ 2003-01-16 ~ 2024-11-08 2416 / 7856 ========\n",
      "======= ERNA 1993-03-16 ~ 2022-11-14 2417 / 7856 ========\n",
      "======= ERO 2017-11-14 ~ 2024-11-05 2418 / 7856 ========\n"
     ]
    },
    {
     "name": "stderr",
     "output_type": "stream",
     "text": [
      "ERYP: No timezone found, symbol may be delisted\n"
     ]
    },
    {
     "name": "stdout",
     "output_type": "stream",
     "text": [
      "======= ERYP 2018-11-11 ~ 2022-03-14 2419 / 7856 ========\n",
      "======= ES 1993-01-26 ~ 2024-11-04 2420 / 7856 ========\n",
      "======= ESAB 2022-11-03 ~ 2024-10-29 2421 / 7856 ========\n",
      "ESAC not exist\n",
      "ESBK not exist\n",
      "======= ESCA 1993-02-22 ~ 2024-03-29 2424 / 7856 ========\n",
      "======= ESE 1993-02-01 ~ 2024-11-14 2425 / 7856 ========\n",
      "======= ESEA 2006-11-20 ~ 2024-11-20 2426 / 7856 ========\n"
     ]
    },
    {
     "name": "stderr",
     "output_type": "stream",
     "text": [
      "ESGC: No timezone found, symbol may be delisted\n"
     ]
    },
    {
     "name": "stdout",
     "output_type": "stream",
     "text": [
      "======= ESGC 2014-02-13 ~ 2020-07-30 2427 / 7856 ========\n",
      "======= ESGR 2008-11-10 ~ 2019-03-01 2428 / 7856 ========\n",
      "ESHA not exist\n",
      "======= ESI 2014-05-05 ~ 2024-10-28 2430 / 7856 ========\n",
      "ESLA not exist\n",
      "======= ESLT 1997-08-04 ~ 2024-11-19 2432 / 7856 ========\n",
      "ESM not exist\n"
     ]
    },
    {
     "name": "stderr",
     "output_type": "stream",
     "text": [
      "ESMT: No timezone found, symbol may be delisted\n"
     ]
    },
    {
     "name": "stdout",
     "output_type": "stream",
     "text": [
      "======= ESMT 2021-11-10 ~ 2024-02-08 2434 / 7856 ========\n",
      "======= ESNT 2014-02-19 ~ 2024-11-01 2435 / 7856 ========\n",
      "======= ESOA 2020-08-14 ~ 2024-08-12 2436 / 7856 ========\n",
      "======= ESPR 2014-03-05 ~ 2024-11-07 2437 / 7856 ========\n",
      "======= ESQ 2017-10-25 ~ 2024-10-24 2438 / 7856 ========\n",
      "======= ESRT 2013-11-12 ~ 2024-10-21 2439 / 7856 ========\n",
      "======= ESS 2002-10-30 ~ 2024-10-29 2440 / 7856 ========\n",
      "======= ESSA 2007-07-26 ~ 2024-10-23 2441 / 7856 ========\n",
      "ESSC not exist\n",
      "======= ESTA 2018-08-14 ~ 2024-11-07 2443 / 7856 ========\n",
      "======= ESTC 2018-12-04 ~ 2024-11-21 2444 / 7856 ========\n"
     ]
    },
    {
     "name": "stderr",
     "output_type": "stream",
     "text": [
      "ESTE: No timezone found, symbol may be delisted\n"
     ]
    },
    {
     "name": "stdout",
     "output_type": "stream",
     "text": [
      "======= ESTE 2014-11-12 ~ 2023-11-01 2445 / 7856 ========\n",
      "======= ET 2006-04-17 ~ 2024-11-06 2446 / 7856 ========\n",
      "ETAC not exist\n",
      "ETAO not exist\n",
      "======= ETD 1993-08-05 ~ 2024-10-30 2449 / 7856 ========\n",
      "======= ETN 1993-01-29 ~ 2024-10-31 2450 / 7856 ========\n",
      "======= ETNB 2019-12-18 ~ 2024-11-07 2451 / 7856 ========\n",
      "======= ETON 2019-08-06 ~ 2024-11-12 2452 / 7856 ========\n",
      "======= ETR 1993-02-09 ~ 2024-10-31 2453 / 7856 ========\n"
     ]
    },
    {
     "name": "stderr",
     "output_type": "stream",
     "text": [
      "ETRN: No timezone found, symbol may be delisted\n"
     ]
    },
    {
     "name": "stdout",
     "output_type": "stream",
     "text": [
      "======= ETRN 2019-02-14 ~ 2024-08-06 2454 / 7856 ========\n",
      "======= ETSY 2015-05-19 ~ 2024-10-30 2455 / 7856 ========\n"
     ]
    },
    {
     "name": "stderr",
     "output_type": "stream",
     "text": [
      "ETTX: No timezone found, symbol may be delisted\n"
     ]
    },
    {
     "name": "stdout",
     "output_type": "stream",
     "text": [
      "======= ETTX 2018-11-14 ~ 2022-04-27 2456 / 7856 ========\n",
      "======= ETWO 2021-05-18 ~ 2024-10-09 2457 / 7856 ========\n",
      "======= EU 2021-11-12 ~ 2024-11-14 2458 / 7856 ========\n",
      "EUCR not exist\n"
     ]
    },
    {
     "name": "stderr",
     "output_type": "stream",
     "text": [
      "EUDA: No price data found, symbol may be delisted (1d 2024-11-27 -> 2024-11-27)\n"
     ]
    },
    {
     "name": "stdout",
     "output_type": "stream",
     "text": [
      "======= EUDA 2024-11-27 ~ 2024-11-27 2460 / 7856 ========\n",
      "EURK not exist\n",
      "EURKR not exist\n",
      "EURKU not exist\n"
     ]
    },
    {
     "name": "stderr",
     "output_type": "stream",
     "text": [
      "EURN: No timezone found, symbol may be delisted\n"
     ]
    },
    {
     "name": "stdout",
     "output_type": "stream",
     "text": [
      "======= EURN 2014-10-16 ~ 2024-08-01 2464 / 7856 ========\n",
      "EUSG not exist\n",
      "======= EVA 2015-07-30 ~ 2024-10-03 2466 / 7856 ========\n",
      "======= EVAX 2021-05-13 ~ 2024-10-31 2467 / 7856 ========\n"
     ]
    },
    {
     "name": "stderr",
     "output_type": "stream",
     "text": [
      "EVBG: No timezone found, symbol may be delisted\n"
     ]
    },
    {
     "name": "stdout",
     "output_type": "stream",
     "text": [
      "======= EVBG 2016-11-02 ~ 2024-05-09 2468 / 7856 ========\n",
      "======= EVC 2000-11-01 ~ 2024-11-06 2469 / 7856 ========\n",
      "======= EVCM 2021-08-09 ~ 2024-11-12 2470 / 7856 ========\n",
      "EVE not exist\n",
      "======= EVER 2018-08-06 ~ 2024-11-04 2472 / 7856 ========\n",
      "======= EVEX 2022-08-04 ~ 2024-11-04 2473 / 7856 ========\n",
      "======= EVGN 2014-05-07 ~ 2024-11-21 2474 / 7856 ========\n",
      "======= EVGO 2021-08-13 ~ 2024-08-01 2475 / 7856 ========\n",
      "EVGR not exist\n",
      "======= EVH 2015-08-06 ~ 2024-11-07 2477 / 7856 ========\n",
      "EVK not exist\n",
      "======= EVLO 2018-08-02 ~ 2023-11-09 2479 / 7856 ========\n",
      "======= EVLV 2021-08-16 ~ 2024-08-08 2480 / 7856 ========\n",
      "======= EVO 2022-04-12 ~ 2024-11-06 2481 / 7856 ========\n",
      "EVOJ not exist\n",
      "======= EVOK 2013-11-13 ~ 2024-11-07 2483 / 7856 ========\n"
     ]
    },
    {
     "name": "stderr",
     "output_type": "stream",
     "text": [
      "EVOP: No timezone found, symbol may be delisted\n"
     ]
    },
    {
     "name": "stdout",
     "output_type": "stream",
     "text": [
      "======= EVOP 2018-08-08 ~ 2023-02-22 2484 / 7856 ========\n",
      "======= EVR 2006-11-08 ~ 2024-10-23 2485 / 7856 ========\n",
      "======= EVRG 1993-01-29 ~ 2024-11-07 2486 / 7856 ========\n",
      "======= EVRI 2006-02-09 ~ 2024-11-12 2487 / 7856 ========\n",
      "======= EVTC 2013-08-07 ~ 2024-11-06 2488 / 7856 ========\n",
      "======= EVTL 2022-08-08 ~ 2023-11-17 2489 / 7856 ========\n",
      "======= EVTV 2018-08-02 ~ 2022-08-15 2490 / 7856 ========\n",
      "======= EW 2000-08-24 ~ 2024-10-24 2491 / 7856 ========\n",
      "======= EWBC 1999-04-13 ~ 2024-10-22 2492 / 7856 ========\n",
      "======= EWCZ 2021-09-14 ~ 2024-08-14 2493 / 7856 ========\n",
      "======= EWTX 2021-05-13 ~ 2024-11-07 2494 / 7856 ========\n",
      "======= EXAI 2021-11-17 ~ 2024-11-08 2495 / 7856 ========\n",
      "======= EXAS 2001-04-25 ~ 2024-11-05 2496 / 7856 ========\n",
      "======= EXC 1993-01-25 ~ 2024-10-30 2497 / 7856 ========\n"
     ]
    },
    {
     "name": "stderr",
     "output_type": "stream",
     "text": [
      "EXE: No price data found, symbol may be delisted (1d 2024-10-29 -> 2024-10-29)\n"
     ]
    },
    {
     "name": "stdout",
     "output_type": "stream",
     "text": [
      "======= EXE 2024-10-29 ~ 2024-10-29 2498 / 7856 ========\n",
      "EXEEL not exist\n",
      "EXEEW not exist\n",
      "EXEEZ not exist\n",
      "======= EXEL 2000-08-08 ~ 2024-10-29 2502 / 7856 ========\n"
     ]
    },
    {
     "name": "stderr",
     "output_type": "stream",
     "text": [
      "EXFO: No timezone found, symbol may be delisted\n"
     ]
    },
    {
     "name": "stdout",
     "output_type": "stream",
     "text": [
      "======= EXFO 2000-10-04 ~ 2021-07-14 2503 / 7856 ========\n",
      "======= EXFY 2021-12-16 ~ 2024-11-07 2504 / 7856 ========\n",
      "======= EXK 2007-04-11 ~ 2024-11-05 2505 / 7856 ========\n",
      "======= EXLS 2007-05-10 ~ 2024-10-29 2506 / 7856 ========\n",
      "======= EXP 1994-08-16 ~ 2024-10-29 2507 / 7856 ========\n",
      "======= EXPD 1993-02-12 ~ 2024-11-05 2508 / 7856 ========\n",
      "======= EXPE 2000-01-31 ~ 2024-11-07 2509 / 7856 ========\n",
      "======= EXPI 2017-08-14 ~ 2024-11-07 2510 / 7856 ========\n",
      "======= EXPO 1993-06-21 ~ 2024-10-24 2511 / 7856 ========\n"
     ]
    },
    {
     "name": "stderr",
     "output_type": "stream",
     "text": [
      "EXPR: No data found, symbol may be delisted\n"
     ]
    },
    {
     "name": "stdout",
     "output_type": "stream",
     "text": [
      "======= EXPR 2010-09-01 ~ 2023-11-30 2512 / 7856 ========\n",
      "======= EXR 2005-03-15 ~ 2024-10-29 2513 / 7856 ========\n"
     ]
    },
    {
     "name": "stderr",
     "output_type": "stream",
     "text": [
      "EXTN: No timezone found, symbol may be delisted\n"
     ]
    },
    {
     "name": "stdout",
     "output_type": "stream",
     "text": [
      "======= EXTN 2016-02-25 ~ 2022-08-09 2514 / 7856 ========\n",
      "EXTO not exist\n",
      "======= EXTR 1999-07-21 ~ 2024-10-30 2516 / 7856 ========\n",
      "======= EYE 2017-12-07 ~ 2024-11-06 2517 / 7856 ========\n"
     ]
    },
    {
     "name": "stderr",
     "output_type": "stream",
     "text": [
      "EYEG: Data doesn't exist for startDate = 1459224000, endDate = 1636347600\n"
     ]
    },
    {
     "name": "stdout",
     "output_type": "stream",
     "text": [
      "======= EYEG 2016-03-29 ~ 2021-11-08 2518 / 7856 ========\n",
      "======= EYEN 2018-04-02 ~ 2024-08-12 2519 / 7856 ========\n"
     ]
    },
    {
     "name": "stderr",
     "output_type": "stream",
     "text": [
      "EYES: No timezone found, symbol may be delisted\n"
     ]
    },
    {
     "name": "stdout",
     "output_type": "stream",
     "text": [
      "======= EYES 2015-10-29 ~ 2020-08-13 2520 / 7856 ========\n",
      "EYESW not exist\n",
      "======= EYPT 2010-05-12 ~ 2024-11-07 2522 / 7856 ========\n",
      "======= EZFL 2022-03-03 ~ 2023-08-21 2523 / 7856 ========\n",
      "EZGO not exist\n",
      "======= EZPW 1993-01-20 ~ 2024-11-13 2525 / 7856 ========\n",
      "======= F 1993-02-10 ~ 2024-10-28 2526 / 7856 ========\n",
      "======= FA 2021-08-12 ~ 2024-11-12 2527 / 7856 ========\n",
      "FAAS not exist\n",
      "FAASW not exist\n",
      "FACA not exist\n",
      "FACT not exist\n",
      "======= FAF 2010-08-03 ~ 2024-10-23 2532 / 7856 ========\n",
      "FAII not exist\n",
      "FAMI not exist\n",
      "======= FANG 2013-03-01 ~ 2024-11-04 2535 / 7856 ========\n",
      "======= FANH 2008-02-25 ~ 2023-11-20 2536 / 7856 ========\n",
      "======= FARM 2009-05-12 ~ 2024-11-07 2537 / 7856 ========\n",
      "======= FARO 1998-02-18 ~ 2024-11-06 2538 / 7856 ========\n",
      "======= FAST 1996-10-11 ~ 2024-10-11 2539 / 7856 ========\n",
      "======= FAT 2018-08-07 ~ 2024-10-30 2540 / 7856 ========\n",
      "======= FATE 2014-03-17 ~ 2024-11-12 2541 / 7856 ========\n"
     ]
    },
    {
     "name": "stderr",
     "output_type": "stream",
     "text": [
      "FATH: No timezone found, symbol may be delisted\n"
     ]
    },
    {
     "name": "stdout",
     "output_type": "stream",
     "text": [
      "======= FATH 2022-03-04 ~ 2024-05-15 2542 / 7856 ========\n",
      "FATP not exist\n",
      "FAZE not exist\n"
     ]
    },
    {
     "name": "stderr",
     "output_type": "stream",
     "text": [
      "FB: No timezone found, symbol may be delisted\n"
     ]
    },
    {
     "name": "stdout",
     "output_type": "stream",
     "text": [
      "======= FB 2012-07-26 ~ 2023-07-26 2545 / 7856 ========\n"
     ]
    },
    {
     "name": "stderr",
     "output_type": "stream",
     "text": [
      "FBC: No timezone found, symbol may be delisted\n"
     ]
    },
    {
     "name": "stdout",
     "output_type": "stream",
     "text": [
      "======= FBC 1997-07-23 ~ 2022-10-26 2546 / 7856 ========\n"
     ]
    },
    {
     "name": "stderr",
     "output_type": "stream",
     "text": [
      "FBHS: No timezone found, symbol may be delisted\n"
     ]
    },
    {
     "name": "stdout",
     "output_type": "stream",
     "text": [
      "======= FBHS 2011-11-02 ~ 2023-01-31 2547 / 7856 ========\n",
      "======= FBIN 2012-02-01 ~ 2024-11-06 2548 / 7856 ========\n",
      "======= FBIO 2012-05-15 ~ 2024-08-13 2549 / 7856 ========\n",
      "======= FBIZ 2010-08-13 ~ 2024-10-24 2550 / 7856 ========\n",
      "======= FBK 2016-10-27 ~ 2024-10-15 2551 / 7856 ========\n",
      "FBLA not exist\n",
      "======= FBLG 2024-08-07 ~ 2024-11-12 2553 / 7856 ========\n",
      "======= FBMS 2013-10-31 ~ 2024-10-23 2554 / 7856 ========\n",
      "======= FBNC 2003-07-22 ~ 2024-10-23 2555 / 7856 ========\n",
      "======= FBP 1995-07-12 ~ 2024-10-23 2556 / 7856 ========\n",
      "======= FBRT 1993-01-27 ~ 2024-11-04 2557 / 7856 ========\n",
      "======= FBRX 2017-05-23 ~ 2024-11-14 2558 / 7856 ========\n",
      "FBYD not exist\n",
      "FBYDP not exist\n",
      "======= FC 1993-07-02 ~ 2024-11-06 2561 / 7856 ========\n",
      "FCAC not exist\n",
      "FCAP not exist\n",
      "FCAX not exist\n",
      "======= FCBC 2002-01-28 ~ 2024-10-22 2565 / 7856 ========\n"
     ]
    },
    {
     "name": "stderr",
     "output_type": "stream",
     "text": [
      "FCBP: No timezone found, symbol may be delisted\n"
     ]
    },
    {
     "name": "stdout",
     "output_type": "stream",
     "text": [
      "======= FCBP 2018-10-30 ~ 2021-04-26 2566 / 7856 ========\n",
      "======= FCCO 2007-01-17 ~ 2024-10-16 2567 / 7856 ========\n"
     ]
    },
    {
     "name": "stderr",
     "output_type": "stream",
     "text": [
      "FCCY: No timezone found, symbol may be delisted\n"
     ]
    },
    {
     "name": "stdout",
     "output_type": "stream",
     "text": [
      "======= FCCY 2005-10-25 ~ 2021-10-22 2568 / 7856 ========\n",
      "======= FCEL 1994-08-29 ~ 2024-09-05 2569 / 7856 ========\n",
      "======= FCF 1996-07-18 ~ 2024-10-29 2570 / 7856 ========\n",
      "======= FCFS 1993-03-08 ~ 2024-10-24 2571 / 7856 ========\n",
      "======= FCN 1997-02-19 ~ 2024-10-24 2572 / 7856 ========\n",
      "======= FCNCA 1993-01-25 ~ 2024-10-24 2573 / 7856 ========\n",
      "======= FCPT 2016-03-10 ~ 2024-10-30 2574 / 7856 ========\n"
     ]
    },
    {
     "name": "stderr",
     "output_type": "stream",
     "text": [
      "FCRD: No timezone found, symbol may be delisted\n"
     ]
    },
    {
     "name": "stdout",
     "output_type": "stream",
     "text": [
      "======= FCRD 2010-08-09 ~ 2023-03-13 2575 / 7856 ========\n",
      "FCRW not exist\n",
      "FCRX not exist\n",
      "FCRZ not exist\n",
      "======= FCUV 2019-11-14 ~ 2024-04-01 2579 / 7856 ========\n",
      "======= FCX 1993-01-26 ~ 2024-10-22 2580 / 7856 ========\n",
      "FDBC not exist\n",
      "======= FDMT 2021-03-25 ~ 2024-11-13 2582 / 7856 ========\n",
      "======= FDP 1998-02-23 ~ 2024-10-31 2583 / 7856 ========\n",
      "======= FDS 1996-10-09 ~ 2024-09-19 2584 / 7856 ========\n",
      "FDSB not exist\n",
      "======= FDUS 2011-11-03 ~ 2024-10-31 2586 / 7856 ========\n",
      "FDUSG not exist\n",
      "======= FDX 1993-03-12 ~ 2024-09-19 2588 / 7856 ========\n",
      "======= FE 1993-02-02 ~ 2024-10-29 2589 / 7856 ========\n",
      "======= FEAM 2022-09-28 ~ 2024-09-09 2590 / 7856 ========\n",
      "FEBO not exist\n",
      "======= FEDU 2018-01-16 ~ 2021-05-13 2592 / 7856 ========\n",
      "======= FEIM 1997-09-12 ~ 2015-03-11 2593 / 7856 ========\n",
      "======= FELE 1996-02-01 ~ 2024-10-29 2594 / 7856 ========\n",
      "======= FEMY 2021-11-10 ~ 2024-08-08 2595 / 7856 ========\n",
      "======= FENC 2005-11-07 ~ 2024-11-07 2596 / 7856 ========\n",
      "======= FENG 2011-08-17 ~ 2020-05-11 2597 / 7856 ========\n",
      "FER not exist\n",
      "======= FERG 2021-12-07 ~ 2024-09-17 2599 / 7856 ========\n",
      "======= FET 2012-07-26 ~ 2024-10-31 2600 / 7856 ========\n",
      "FEXD not exist\n"
     ]
    },
    {
     "name": "stderr",
     "output_type": "stream",
     "text": [
      "FEYE: No timezone found, symbol may be delisted\n"
     ]
    },
    {
     "name": "stdout",
     "output_type": "stream",
     "text": [
      "======= FEYE 2013-11-07 ~ 2021-08-05 2602 / 7856 ========\n",
      "======= FF 2012-03-15 ~ 2016-11-09 2603 / 7856 ========\n",
      "======= FFBC 1995-07-14 ~ 2024-10-24 2604 / 7856 ========\n",
      "FFBW not exist\n"
     ]
    },
    {
     "name": "stderr",
     "output_type": "stream",
     "text": [
      "FFHL: No timezone found, symbol may be delisted\n"
     ]
    },
    {
     "name": "stdout",
     "output_type": "stream",
     "text": [
      "======= FFHL 2007-05-11 ~ 2008-11-13 2606 / 7856 ========\n",
      "======= FFIC 1996-07-24 ~ 2024-10-24 2607 / 7856 ========\n",
      "======= FFIE 2021-08-13 ~ 2024-11-07 2608 / 7856 ========\n",
      "======= FFIN 1998-01-15 ~ 2024-10-17 2609 / 7856 ========\n",
      "======= FFIV 1999-07-20 ~ 2024-10-28 2610 / 7856 ========\n",
      "======= FFNW 2015-01-29 ~ 2024-10-29 2611 / 7856 ========\n",
      "======= FFWM 2015-07-23 ~ 2024-10-29 2612 / 7856 ========\n",
      "======= FG 2018-02-28 ~ 2024-11-06 2613 / 7856 ========\n",
      "======= FGBI 2016-02-19 ~ 2024-10-31 2614 / 7856 ========\n",
      "======= FGEN 2015-05-12 ~ 2024-08-06 2615 / 7856 ========\n",
      "======= FGF 2018-08-14 ~ 2019-03-20 2616 / 7856 ========\n"
     ]
    },
    {
     "name": "stderr",
     "output_type": "stream",
     "text": [
      "FGH: No timezone found, symbol may be delisted\n"
     ]
    },
    {
     "name": "stdout",
     "output_type": "stream",
     "text": [
      "======= FGH 1996-04-25 ~ 2014-08-08 2617 / 7856 ========\n",
      "======= FGI 2022-05-11 ~ 2024-11-11 2618 / 7856 ========\n",
      "FGL not exist\n",
      "FGMC not exist\n",
      "FGMCW not exist\n",
      "FGN not exist\n",
      "FGNA not exist\n",
      "======= FHB 2016-10-27 ~ 2024-10-25 2624 / 7856 ========\n",
      "======= FHI 1998-07-22 ~ 2024-10-24 2625 / 7856 ========\n",
      "FHLT not exist\n",
      "======= FHN 1993-01-19 ~ 2024-10-16 2627 / 7856 ========\n",
      "FHS not exist\n",
      "======= FHTX 2020-12-04 ~ 2024-11-04 2629 / 7856 ========\n",
      "======= FI 2013-07-30 ~ 2024-10-22 2630 / 7856 ========\n",
      "FIAC not exist\n",
      "======= FIBK 2010-07-22 ~ 2024-10-24 2632 / 7856 ========\n",
      "======= FICO 1993-01-28 ~ 2024-11-06 2633 / 7856 ========\n",
      "FICV not exist\n",
      "======= FIGS 2021-08-12 ~ 2024-11-07 2635 / 7856 ========\n",
      "======= FIHL 2023-08-22 ~ 2024-11-12 2636 / 7856 ========\n",
      "FINM not exist\n",
      "======= FINV 2018-03-21 ~ 2020-05-27 2638 / 7856 ========\n",
      "======= FINW 2022-02-23 ~ 2024-10-24 2639 / 7856 ========\n",
      "======= FIP 2022-11-01 ~ 2024-10-30 2640 / 7856 ========\n",
      "======= FIS 2001-10-18 ~ 2024-11-04 2641 / 7856 ========\n",
      "======= FISI 1999-10-15 ~ 2024-10-24 2642 / 7856 ========\n",
      "======= FISV 1993-07-28 ~ 2023-07-25 2643 / 7856 ========\n",
      "======= FITB 1993-01-16 ~ 2024-10-18 2644 / 7856 ========\n",
      "======= FIVE 2012-09-10 ~ 2024-12-04 2645 / 7856 ========\n",
      "======= FIVN 2014-05-13 ~ 2024-11-07 2646 / 7856 ========\n",
      "======= FIX 1997-10-07 ~ 2024-10-24 2647 / 7856 ========\n"
     ]
    },
    {
     "name": "stderr",
     "output_type": "stream",
     "text": [
      "FIXX: No timezone found, symbol may be delisted\n"
     ]
    },
    {
     "name": "stdout",
     "output_type": "stream",
     "text": [
      "======= FIXX 2018-05-14 ~ 2024-05-09 2648 / 7856 ========\n",
      "======= FIZZ 2006-07-13 ~ 2024-12-05 2649 / 7856 ========\n",
      "======= FKWL 2020-11-17 ~ 2022-09-13 2650 / 7856 ========\n",
      "======= FL 1993-03-03 ~ 2024-12-04 2651 / 7856 ========\n",
      "FLAC not exist\n",
      "FLAG not exist\n",
      "FLD not exist\n",
      "FLDDU not exist\n"
     ]
    },
    {
     "name": "stderr",
     "output_type": "stream",
     "text": [
      "FLDM: No timezone found, symbol may be delisted\n"
     ]
    },
    {
     "name": "stdout",
     "output_type": "stream",
     "text": [
      "======= FLDM 2011-05-10 ~ 2022-02-17 2656 / 7856 ========\n",
      "======= FLEX 1994-07-26 ~ 2024-10-30 2657 / 7856 ========\n",
      "FLFV not exist\n",
      "======= FLG 2024-07-25 ~ 2024-10-25 2659 / 7856 ========\n",
      "======= FLGC 2021-09-17 ~ 2024-11-13 2660 / 7856 ========\n",
      "======= FLGT 2016-11-14 ~ 2024-11-08 2661 / 7856 ========\n",
      "======= FLIC 2009-02-24 ~ 2024-10-24 2662 / 7856 ========\n"
     ]
    },
    {
     "name": "stderr",
     "output_type": "stream",
     "text": [
      "FLJ: No timezone found, symbol may be delisted\n"
     ]
    },
    {
     "name": "stdout",
     "output_type": "stream",
     "text": [
      "======= FLJ 2020-01-06 ~ 2021-02-16 2663 / 7856 ========\n",
      "======= FLL 2007-05-15 ~ 2024-11-06 2664 / 7856 ========\n",
      "FLME not exist\n"
     ]
    },
    {
     "name": "stderr",
     "output_type": "stream",
     "text": [
      "FLMN: No timezone found, symbol may be delisted\n"
     ]
    },
    {
     "name": "stdout",
     "output_type": "stream",
     "text": [
      "======= FLMN 2018-11-08 ~ 2022-05-04 2666 / 7856 ========\n",
      "FLMNW not exist\n",
      "======= FLNC 2021-12-09 ~ 2024-11-25 2668 / 7856 ========\n",
      "======= FLNG 2015-02-27 ~ 2024-11-12 2669 / 7856 ========\n",
      "======= FLNT 2009-12-23 ~ 2024-11-14 2670 / 7856 ========\n",
      "======= FLO 1993-08-06 ~ 2024-11-08 2671 / 7856 ========\n",
      "======= FLR 2001-05-02 ~ 2024-11-08 2672 / 7856 ========\n",
      "======= FLS 1993-04-23 ~ 2024-10-28 2673 / 7856 ========\n"
     ]
    },
    {
     "name": "stderr",
     "output_type": "stream",
     "text": [
      "FLT: No timezone found, symbol may be delisted\n"
     ]
    },
    {
     "name": "stdout",
     "output_type": "stream",
     "text": [
      "======= FLT 2011-02-23 ~ 2024-05-01 2674 / 7856 ========\n",
      "======= FLUT 2024-05-14 ~ 2024-11-12 2675 / 7856 ========\n",
      "======= FLUX 2020-11-12 ~ 2024-09-26 2676 / 7856 ========\n",
      "======= FLWS 1999-10-27 ~ 2024-10-31 2677 / 7856 ========\n",
      "FLX not exist\n",
      "FLXE not exist\n"
     ]
    },
    {
     "name": "stderr",
     "output_type": "stream",
     "text": [
      "FLXN: No timezone found, symbol may be delisted\n"
     ]
    },
    {
     "name": "stdout",
     "output_type": "stream",
     "text": [
      "======= FLXN 2014-03-28 ~ 2021-11-12 2680 / 7856 ========\n",
      "======= FLXS 1993-02-05 ~ 2024-10-21 2681 / 7856 ========\n"
     ]
    },
    {
     "name": "stderr",
     "output_type": "stream",
     "text": [
      "FLY: No timezone found, symbol may be delisted\n"
     ]
    },
    {
     "name": "stdout",
     "output_type": "stream",
     "text": [
      "======= FLY 2008-03-26 ~ 2021-05-13 2682 / 7856 ========\n",
      "FLYA not exist\n",
      "FLYE not exist\n",
      "======= FLYW 2021-08-10 ~ 2024-11-07 2685 / 7856 ========\n",
      "FMAC not exist\n",
      "======= FMAO 2011-04-29 ~ 2024-10-30 2687 / 7856 ========\n",
      "======= FMBH 2016-01-28 ~ 2024-10-31 2688 / 7856 ========\n"
     ]
    },
    {
     "name": "stderr",
     "output_type": "stream",
     "text": [
      "FMBI: No timezone found, symbol may be delisted\n"
     ]
    },
    {
     "name": "stdout",
     "output_type": "stream",
     "text": [
      "======= FMBI 1993-01-16 ~ 2022-01-18 2689 / 7856 ========\n",
      "======= FMC 1993-01-26 ~ 2024-10-29 2690 / 7856 ========\n",
      "FMIV not exist\n",
      "======= FMNB 2013-01-31 ~ 2024-10-23 2692 / 7856 ========\n",
      "======= FMS 1997-05-15 ~ 2024-11-05 2693 / 7856 ========\n",
      "======= FMST 2023-11-09 ~ 2024-08-14 2694 / 7856 ========\n",
      "FMSTW not exist\n"
     ]
    },
    {
     "name": "stderr",
     "output_type": "stream",
     "text": [
      "FMTX: No timezone found, symbol may be delisted\n"
     ]
    },
    {
     "name": "stdout",
     "output_type": "stream",
     "text": [
      "======= FMTX 2020-08-13 ~ 2022-08-05 2696 / 7856 ========\n",
      "======= FMX 1998-09-30 ~ 2024-10-28 2697 / 7856 ========\n",
      "======= FN 2010-11-01 ~ 2024-11-04 2698 / 7856 ========\n",
      "======= FNA 2021-11-22 ~ 2024-11-12 2699 / 7856 ========\n",
      "======= FNB 1993-04-20 ~ 2024-10-17 2700 / 7856 ========\n",
      "FNCB not exist\n",
      "======= FNCH 2021-05-13 ~ 2023-08-10 2702 / 7856 ========\n",
      "======= FND 2017-07-27 ~ 2024-10-30 2703 / 7856 ========\n",
      "======= FNF 2006-02-08 ~ 2024-11-06 2704 / 7856 ========\n",
      "======= FNGR 2022-07-15 ~ 2024-06-28 2705 / 7856 ========\n"
     ]
    },
    {
     "name": "stderr",
     "output_type": "stream",
     "text": [
      "FNHC: No timezone found, symbol may be delisted\n"
     ]
    },
    {
     "name": "stdout",
     "output_type": "stream",
     "text": [
      "======= FNHC 2004-08-04 ~ 2022-05-09 2706 / 7856 ========\n",
      "======= FNKO 2017-11-03 ~ 2024-11-07 2707 / 7856 ========\n",
      "======= FNLC 2009-07-22 ~ 2010-10-20 2708 / 7856 ========\n",
      "======= FNV 2008-05-12 ~ 2024-11-06 2709 / 7856 ========\n",
      "FNVT not exist\n",
      "======= FNWB 2021-10-27 ~ 2024-10-29 2711 / 7856 ========\n",
      "======= FNWD 2022-01-26 ~ 2024-10-29 2712 / 7856 ========\n",
      "======= FOA 2021-05-13 ~ 2024-11-06 2713 / 7856 ========\n"
     ]
    },
    {
     "name": "stderr",
     "output_type": "stream",
     "text": [
      "FOCS: No timezone found, symbol may be delisted\n"
     ]
    },
    {
     "name": "stdout",
     "output_type": "stream",
     "text": [
      "======= FOCS 2018-08-28 ~ 2023-08-03 2714 / 7856 ========\n"
     ]
    },
    {
     "name": "stderr",
     "output_type": "stream",
     "text": [
      "FOE: No timezone found, symbol may be delisted\n"
     ]
    },
    {
     "name": "stdout",
     "output_type": "stream",
     "text": [
      "======= FOE 1993-01-26 ~ 2022-03-01 2715 / 7856 ========\n",
      "======= FOLD 2007-10-31 ~ 2024-11-06 2716 / 7856 ========\n",
      "FONR not exist\n",
      "======= FOR 2009-02-04 ~ 2024-10-29 2718 / 7856 ========\n",
      "======= FORA 2022-05-12 ~ 2024-08-14 2719 / 7856 ========\n",
      "======= FORD 2001-08-10 ~ 2002-05-03 2720 / 7856 ========\n",
      "FORE not exist\n"
     ]
    },
    {
     "name": "stderr",
     "output_type": "stream",
     "text": [
      "FORG: No timezone found, symbol may be delisted\n"
     ]
    },
    {
     "name": "stdout",
     "output_type": "stream",
     "text": [
      "======= FORG 2021-11-10 ~ 2023-08-07 2722 / 7856 ========\n",
      "FORL not exist\n",
      "======= FORM 2003-10-16 ~ 2024-10-30 2724 / 7856 ========\n",
      "======= FORR 1997-01-28 ~ 2024-11-05 2725 / 7856 ========\n",
      "======= FORTY 1998-05-21 ~ 2000-11-26 2726 / 7856 ========\n",
      "======= FOSL 1993-08-09 ~ 2020-08-12 2727 / 7856 ========\n",
      "FOUN not exist\n",
      "======= FOUR 2020-08-06 ~ 2024-11-12 2729 / 7856 ========\n",
      "======= FOX 2024-05-08 ~ 2024-11-04 2730 / 7856 ========\n",
      "======= FOXA 2019-05-08 ~ 2024-11-04 2731 / 7856 ========\n",
      "======= FOXF 2013-11-06 ~ 2024-10-31 2732 / 7856 ========\n",
      "FOXW not exist\n",
      "FOXX not exist\n",
      "FPAC not exist\n",
      "======= FPAY 2019-05-07 ~ 2024-11-14 2736 / 7856 ========\n",
      "======= FPH 2017-06-22 ~ 2022-10-27 2737 / 7856 ========\n",
      "======= FPI 2014-08-12 ~ 2024-10-30 2738 / 7856 ========\n",
      "======= FR 2003-07-23 ~ 2024-10-16 2739 / 7856 ========\n",
      "FRAF not exist\n",
      "======= FRBA 2014-02-24 ~ 2024-10-23 2741 / 7856 ========\n"
     ]
    },
    {
     "name": "stderr",
     "output_type": "stream",
     "text": [
      "FRBK: No timezone found, symbol may be delisted\n"
     ]
    },
    {
     "name": "stdout",
     "output_type": "stream",
     "text": [
      "======= FRBK 1998-04-16 ~ 2023-08-21 2742 / 7856 ========\n",
      "FRBN not exist\n"
     ]
    },
    {
     "name": "stderr",
     "output_type": "stream",
     "text": [
      "FRC: No timezone found, symbol may be delisted\n"
     ]
    },
    {
     "name": "stdout",
     "output_type": "stream",
     "text": [
      "======= FRC 2011-01-27 ~ 2023-04-24 2744 / 7856 ========\n"
     ]
    },
    {
     "name": "stderr",
     "output_type": "stream",
     "text": [
      "FREE: No timezone found, symbol may be delisted\n"
     ]
    },
    {
     "name": "stdout",
     "output_type": "stream",
     "text": [
      "======= FREE 2021-03-16 ~ 2024-08-01 2745 / 7856 ========\n"
     ]
    },
    {
     "name": "stderr",
     "output_type": "stream",
     "text": [
      "FREQ: No timezone found, symbol may be delisted\n"
     ]
    },
    {
     "name": "stdout",
     "output_type": "stream",
     "text": [
      "======= FREQ 2019-11-18 ~ 2023-11-14 2746 / 7856 ========\n",
      "FRES not exist\n",
      "======= FREY 2021-08-12 ~ 2024-11-06 2748 / 7856 ========\n"
     ]
    },
    {
     "name": "stderr",
     "output_type": "stream",
     "text": [
      "FRG: Period '1mo' is invalid, must be one of ['1d', '5d']\n"
     ]
    },
    {
     "name": "stdout",
     "output_type": "stream",
     "text": [
      "======= FRG 2012-12-04 ~ 2023-08-08 2749 / 7856 ========\n",
      "======= FRGE 2022-11-09 ~ 2024-11-06 2750 / 7856 ========\n"
     ]
    },
    {
     "name": "stderr",
     "output_type": "stream",
     "text": [
      "FRGI: No timezone found, symbol may be delisted\n"
     ]
    },
    {
     "name": "stdout",
     "output_type": "stream",
     "text": [
      "======= FRGI 2012-08-08 ~ 2023-08-07 2751 / 7856 ========\n",
      "FRGT not exist\n",
      "======= FRHC 2021-08-09 ~ 2022-08-10 2753 / 7856 ========\n",
      "FRLA not exist\n"
     ]
    },
    {
     "name": "stderr",
     "output_type": "stream",
     "text": [
      "FRLN: No timezone found, symbol may be delisted\n"
     ]
    },
    {
     "name": "stdout",
     "output_type": "stream",
     "text": [
      "======= FRLN 2020-10-29 ~ 2024-04-02 2755 / 7856 ========\n",
      "======= FRME 1995-10-31 ~ 2024-10-24 2756 / 7856 ========\n",
      "======= FRO 1995-10-18 ~ 2024-11-27 2757 / 7856 ========\n",
      "======= FROG 2021-02-11 ~ 2024-11-07 2758 / 7856 ========\n",
      "FRON not exist\n",
      "======= FRPH 2009-11-30 ~ 2018-03-07 2760 / 7856 ========\n",
      "======= FRPT 2014-12-09 ~ 2024-11-04 2761 / 7856 ========\n",
      "FRSG not exist\n",
      "======= FRSH 2021-11-02 ~ 2024-11-06 2763 / 7856 ========\n",
      "======= FRST 2010-04-22 ~ 2024-10-24 2764 / 7856 ========\n",
      "======= FRSX 2018-05-23 ~ 2024-11-29 2765 / 7856 ========\n",
      "======= FRT 1993-08-12 ~ 2024-10-30 2766 / 7856 ========\n"
     ]
    },
    {
     "name": "stderr",
     "output_type": "stream",
     "text": [
      "FRTA: No timezone found, symbol may be delisted\n"
     ]
    },
    {
     "name": "stdout",
     "output_type": "stream",
     "text": [
      "======= FRTA 2017-05-15 ~ 2022-02-28 2767 / 7856 ========\n",
      "======= FRTX 1993-07-30 ~ 2023-03-21 2768 / 7856 ========\n",
      "FRW not exist\n",
      "FRX not exist\n",
      "FRXB not exist\n",
      "FRZA not exist\n",
      "======= FSBC 2021-07-26 ~ 2024-10-28 2773 / 7856 ========\n",
      "======= FSBW 2017-04-26 ~ 2024-10-22 2774 / 7856 ========\n",
      "FSCO not exist\n",
      "FSCS not exist\n",
      "FSEA not exist\n",
      "======= FSFG 2016-11-14 ~ 2024-10-24 2778 / 7856 ========\n",
      "FSGS not exist\n",
      "FSHPU not exist\n",
      "FSII not exist\n",
      "======= FSK 2014-08-14 ~ 2024-11-06 2782 / 7856 ========\n"
     ]
    },
    {
     "name": "stderr",
     "output_type": "stream",
     "text": [
      "FSKR: No timezone found, symbol may be delisted\n"
     ]
    },
    {
     "name": "stdout",
     "output_type": "stream",
     "text": [
      "======= FSKR 2020-08-10 ~ 2021-05-10 2783 / 7856 ========\n",
      "======= FSLR 2007-02-13 ~ 2024-10-29 2784 / 7856 ========\n",
      "======= FSLY 2019-08-08 ~ 2024-11-06 2785 / 7856 ========\n",
      "======= FSM 2009-03-31 ~ 2024-11-07 2786 / 7856 ========\n",
      "FSNB not exist\n",
      "FSPR not exist\n"
     ]
    },
    {
     "name": "stderr",
     "output_type": "stream",
     "text": [
      "FSR: No timezone found, symbol may be delisted\n"
     ]
    },
    {
     "name": "stdout",
     "output_type": "stream",
     "text": [
      "======= FSR 2021-02-25 ~ 2024-02-29 2789 / 7856 ========\n"
     ]
    },
    {
     "name": "stderr",
     "output_type": "stream",
     "text": [
      "FSRD: No timezone found, symbol may be delisted\n"
     ]
    },
    {
     "name": "stdout",
     "output_type": "stream",
     "text": [
      "======= FSRD 2022-05-12 ~ 2022-11-14 2790 / 7856 ========\n",
      "FSRX not exist\n",
      "======= FSS 1993-01-26 ~ 2024-10-31 2792 / 7856 ========\n",
      "FSSI not exist\n",
      "FST not exist\n",
      "======= FSTR 2006-04-27 ~ 2024-11-07 2795 / 7856 ========\n"
     ]
    },
    {
     "name": "stderr",
     "output_type": "stream",
     "text": [
      "FSTX: No timezone found, symbol may be delisted\n"
     ]
    },
    {
     "name": "stdout",
     "output_type": "stream",
     "text": [
      "======= FSTX 2017-02-15 ~ 2023-03-22 2796 / 7856 ========\n",
      "======= FSV 2015-08-06 ~ 2024-10-24 2797 / 7856 ========\n",
      "FTAA not exist\n",
      "======= FTAI 2015-08-11 ~ 2024-10-30 2799 / 7856 ========\n"
     ]
    },
    {
     "name": "stderr",
     "output_type": "stream",
     "text": [
      "FTCH: No timezone found, symbol may be delisted\n"
     ]
    },
    {
     "name": "stdout",
     "output_type": "stream",
     "text": [
      "======= FTCH 2018-11-08 ~ 2023-11-29 2800 / 7856 ========\n",
      "======= FTCI 2021-06-08 ~ 2024-08-08 2801 / 7856 ========\n"
     ]
    },
    {
     "name": "stderr",
     "output_type": "stream",
     "text": [
      "FTCV: No timezone found, symbol may be delisted\n"
     ]
    },
    {
     "name": "stdout",
     "output_type": "stream",
     "text": [
      "======= FTCV 2021-11-10 ~ 2022-05-13 2802 / 7856 ========\n",
      "======= FTDR 2018-11-05 ~ 2024-11-04 2803 / 7856 ========\n",
      "======= FTEK 1994-09-09 ~ 2024-11-06 2804 / 7856 ========\n",
      "FTEL not exist\n",
      "FTEV not exist\n",
      "======= FTFT 2010-03-31 ~ 2011-08-15 2807 / 7856 ========\n",
      "======= FTHM 2020-11-11 ~ 2024-11-07 2808 / 7856 ========\n",
      "======= FTI 2012-10-23 ~ 2024-10-24 2809 / 7856 ========\n",
      "FTII not exist\n",
      "FTIV not exist\n",
      "======= FTK 2007-05-09 ~ 2024-11-04 2812 / 7856 ========\n",
      "======= FTNT 2010-01-27 ~ 2024-11-07 2813 / 7856 ========\n",
      "FTOC not exist\n",
      "FTPA not exist\n",
      "======= FTRE 2023-08-14 ~ 2024-11-08 2816 / 7856 ========\n"
     ]
    },
    {
     "name": "stderr",
     "output_type": "stream",
     "text": [
      "FTRP: No timezone found, symbol may be delisted\n"
     ]
    },
    {
     "name": "stdout",
     "output_type": "stream",
     "text": [
      "======= FTRP 2021-02-16 ~ 2022-08-15 2817 / 7856 ========\n",
      "======= FTS 1995-10-27 ~ 2024-07-31 2818 / 7856 ========\n"
     ]
    },
    {
     "name": "stderr",
     "output_type": "stream",
     "text": [
      "FTSI: No timezone found, symbol may be delisted\n"
     ]
    },
    {
     "name": "stdout",
     "output_type": "stream",
     "text": [
      "======= FTSI 2018-04-30 ~ 2021-11-04 2819 / 7856 ========\n",
      "======= FTV 2016-08-02 ~ 2024-10-30 2820 / 7856 ========\n",
      "FTVI not exist\n",
      "======= FUBO 2020-11-10 ~ 2024-11-01 2822 / 7856 ========\n",
      "FUFU not exist\n",
      "======= FUL 1993-01-08 ~ 2024-09-25 2824 / 7856 ========\n",
      "======= FULC 2019-08-26 ~ 2024-11-13 2825 / 7856 ========\n",
      "======= FULT 1993-01-19 ~ 2024-10-15 2826 / 7856 ========\n",
      "======= FUN 1993-01-25 ~ 2024-11-06 2827 / 7856 ========\n",
      "======= FUNC 1998-07-21 ~ 2024-10-21 2828 / 7856 ========\n",
      "======= FUSB 2009-11-03 ~ 2010-11-05 2829 / 7856 ========\n",
      "FUSE not exist\n"
     ]
    },
    {
     "name": "stderr",
     "output_type": "stream",
     "text": [
      "FUSN: No timezone found, symbol may be delisted\n"
     ]
    },
    {
     "name": "stdout",
     "output_type": "stream",
     "text": [
      "======= FUSN 2020-08-11 ~ 2024-05-07 2831 / 7856 ========\n",
      "======= FUTU 2019-05-24 ~ 2024-11-19 2832 / 7856 ========\n",
      "======= FUV 2018-08-14 ~ 2024-02-12 2833 / 7856 ========\n",
      "FVAM not exist\n",
      "======= FVCB 2015-04-23 ~ 2024-10-22 2835 / 7856 ========\n"
     ]
    },
    {
     "name": "stderr",
     "output_type": "stream",
     "text": [
      "FVE: No timezone found, symbol may be delisted\n"
     ]
    },
    {
     "name": "stdout",
     "output_type": "stream",
     "text": [
      "======= FVE 2002-12-03 ~ 2021-11-03 2836 / 7856 ========\n",
      "FVIV not exist\n",
      "FVN not exist\n",
      "FVNNR not exist\n",
      "FVNNU not exist\n"
     ]
    },
    {
     "name": "stderr",
     "output_type": "stream",
     "text": [
      "FVR: No price data found, symbol may be delisted (1d 2024-11-13 -> 2024-11-13)\n"
     ]
    },
    {
     "name": "stdout",
     "output_type": "stream",
     "text": [
      "======= FVR 2024-11-13 ~ 2024-11-13 2841 / 7856 ========\n",
      "======= FVRR 2019-08-08 ~ 2024-10-30 2842 / 7856 ========\n",
      "FVT not exist\n",
      "FWAA not exist\n",
      "FWAC not exist\n"
     ]
    },
    {
     "name": "stderr",
     "output_type": "stream",
     "text": [
      "FWBI: No timezone found, symbol may be delisted\n"
     ]
    },
    {
     "name": "stdout",
     "output_type": "stream",
     "text": [
      "======= FWBI 2017-06-29 ~ 2024-05-14 2846 / 7856 ========\n",
      "======= FWONK 2013-05-08 ~ 2024-08-08 2847 / 7856 ========\n"
     ]
    },
    {
     "name": "stderr",
     "output_type": "stream",
     "text": [
      "FWP: No timezone found, symbol may be delisted\n"
     ]
    },
    {
     "name": "stdout",
     "output_type": "stream",
     "text": [
      "======= FWP 2014-12-19 ~ 2017-04-18 2848 / 7856 ========\n",
      "======= FWRD 1994-07-20 ~ 2024-11-04 2849 / 7856 ========\n",
      "======= FWRG 2021-11-08 ~ 2024-11-07 2850 / 7856 ========\n",
      "FXCO not exist\n",
      "======= FXLV 2021-08-26 ~ 2023-07-03 2852 / 7856 ========\n",
      "======= FXNC 2008-07-24 ~ 2024-11-01 2853 / 7856 ========\n",
      "======= FYBR 2021-08-05 ~ 2024-11-05 2854 / 7856 ========\n",
      "FZT not exist\n",
      "======= G 2007-11-13 ~ 2024-11-07 2856 / 7856 ========\n",
      "======= GABC 2007-10-30 ~ 2024-10-28 2857 / 7856 ========\n",
      "GACQ not exist\n",
      "======= GAIA 2000-04-27 ~ 2024-11-04 2859 / 7856 ========\n",
      "======= GAIN 2005-08-10 ~ 2024-11-08 2860 / 7856 ========\n",
      "======= GALT 2007-08-10 ~ 2024-08-13 2861 / 7856 ========\n",
      "GAM not exist\n",
      "======= GAMB 2021-08-26 ~ 2024-11-14 2863 / 7856 ========\n",
      "GAMC not exist\n",
      "======= GAME 2021-11-26 ~ 2024-08-14 2865 / 7856 ========\n",
      "======= GAN 2020-06-16 ~ 2024-11-08 2866 / 7856 ========\n",
      "======= GANX 2021-05-10 ~ 2024-08-08 2867 / 7856 ========\n",
      "======= GAP 2024-03-07 ~ 2024-11-21 2868 / 7856 ========\n",
      "GAPA not exist\n",
      "GAQ not exist\n",
      "======= GASS 2006-05-22 ~ 2024-11-25 2871 / 7856 ========\n",
      "GATE not exist\n",
      "======= GATO 2020-12-09 ~ 2024-11-11 2873 / 7856 ========\n",
      "======= GATX 1993-01-26 ~ 2024-10-22 2874 / 7856 ========\n"
     ]
    },
    {
     "name": "stderr",
     "output_type": "stream",
     "text": [
      "GAUZ: No price data found, symbol may be delisted (1d 2024-08-08 -> 2024-08-08)\n"
     ]
    },
    {
     "name": "stdout",
     "output_type": "stream",
     "text": [
      "======= GAUZ 2024-08-08 ~ 2024-08-08 2875 / 7856 ========\n",
      "======= GB 2023-11-29 ~ 2024-08-28 2876 / 7856 ========\n",
      "GBBK not exist\n",
      "======= GBCI 1995-02-02 ~ 2024-10-24 2878 / 7856 ========\n",
      "======= GBDC 2010-08-09 ~ 2024-11-19 2879 / 7856 ========\n",
      "======= GBIO 2020-08-11 ~ 2024-11-06 2880 / 7856 ========\n"
     ]
    },
    {
     "name": "stderr",
     "output_type": "stream",
     "text": [
      "GBL: No timezone found, symbol may be delisted\n"
     ]
    },
    {
     "name": "stdout",
     "output_type": "stream",
     "text": [
      "======= GBL 1999-05-05 ~ 2021-11-04 2881 / 7856 ========\n",
      "======= GBLI 2004-05-04 ~ 2024-11-07 2882 / 7856 ========\n",
      "GBLIL not exist\n"
     ]
    },
    {
     "name": "stderr",
     "output_type": "stream",
     "text": [
      "GBNH: No timezone found, symbol may be delisted\n"
     ]
    },
    {
     "name": "stdout",
     "output_type": "stream",
     "text": [
      "======= GBNH 2019-03-27 ~ 2023-11-08 2884 / 7856 ========\n",
      "GBNY not exist\n"
     ]
    },
    {
     "name": "stderr",
     "output_type": "stream",
     "text": [
      "GBOX: No timezone found, symbol may be delisted\n"
     ]
    },
    {
     "name": "stdout",
     "output_type": "stream",
     "text": [
      "======= GBOX 2021-08-12 ~ 2022-11-09 2886 / 7856 ========\n",
      "GBRG not exist\n"
     ]
    },
    {
     "name": "stderr",
     "output_type": "stream",
     "text": [
      "GBS: No timezone found, symbol may be delisted\n"
     ]
    },
    {
     "name": "stdout",
     "output_type": "stream",
     "text": [
      "======= GBS 2022-02-10 ~ 2022-08-31 2888 / 7856 ========\n"
     ]
    },
    {
     "name": "stderr",
     "output_type": "stream",
     "text": [
      "GBT: No timezone found, symbol may be delisted\n"
     ]
    },
    {
     "name": "stdout",
     "output_type": "stream",
     "text": [
      "======= GBT 2015-09-24 ~ 2022-08-08 2889 / 7856 ========\n",
      "======= GBTG 2022-11-10 ~ 2024-11-05 2890 / 7856 ========\n",
      "======= GBX 1994-11-10 ~ 2024-10-23 2891 / 7856 ========\n",
      "GCAC not exist\n",
      "GCBC not exist\n",
      "======= GCI 2014-05-01 ~ 2024-10-31 2894 / 7856 ========\n",
      "======= GCMG 2021-02-25 ~ 2024-11-08 2895 / 7856 ========\n",
      "======= GCO 1993-05-14 ~ 2024-09-06 2896 / 7856 ========\n"
     ]
    },
    {
     "name": "stderr",
     "output_type": "stream",
     "text": [
      "GCP: No timezone found, symbol may be delisted\n"
     ]
    },
    {
     "name": "stdout",
     "output_type": "stream",
     "text": [
      "======= GCP 2016-02-18 ~ 2022-08-05 2897 / 7856 ========\n",
      "======= GCT 2022-11-30 ~ 2024-11-08 2898 / 7856 ========\n",
      "GCTK not exist\n"
     ]
    },
    {
     "name": "stderr",
     "output_type": "stream",
     "text": [
      "GCTS: No price data found, symbol may be delisted (1d 2024-08-14 -> 2024-08-14)\n"
     ]
    },
    {
     "name": "stdout",
     "output_type": "stream",
     "text": [
      "======= GCTS 2024-08-14 ~ 2024-08-14 2900 / 7856 ========\n",
      "======= GD 1993-01-27 ~ 2024-10-23 2901 / 7856 ========\n",
      "GDC not exist\n",
      "======= GDDY 2015-05-12 ~ 2024-10-30 2903 / 7856 ========\n",
      "======= GDEN 1999-04-21 ~ 2024-11-07 2904 / 7856 ========\n",
      "======= GDEV 2024-05-28 ~ 2024-11-14 2905 / 7856 ========\n",
      "GDHG not exist\n",
      "GDNR not exist\n",
      "======= GDOT 2010-11-08 ~ 2024-11-07 2908 / 7856 ========\n",
      "======= GDRX 2020-11-12 ~ 2024-11-07 2909 / 7856 ========\n",
      "======= GDS 2017-03-02 ~ 2024-11-19 2910 / 7856 ========\n",
      "GDST not exist\n",
      "GDTC not exist\n",
      "======= GDYN 2020-03-04 ~ 2024-10-31 2913 / 7856 ========\n",
      "======= GE 1993-01-20 ~ 2024-10-22 2914 / 7856 ========\n",
      "GEAR not exist\n",
      "======= GECC 2017-08-14 ~ 2024-10-31 2916 / 7856 ========\n",
      "GECCI not exist\n",
      "GECCL not exist\n",
      "GECCM not exist\n",
      "GECCO not exist\n",
      "GECCZ not exist\n",
      "GEEX not exist\n",
      "======= GEF 1996-12-03 ~ 2024-12-04 2923 / 7856 ========\n",
      "======= GEG 1999-07-23 ~ 2024-11-11 2924 / 7856 ========\n",
      "GEGGL not exist\n",
      "======= GEHC 2023-04-25 ~ 2024-10-30 2926 / 7856 ========\n"
     ]
    },
    {
     "name": "stderr",
     "output_type": "stream",
     "text": [
      "GEHI: No timezone found, symbol may be delisted\n"
     ]
    },
    {
     "name": "stdout",
     "output_type": "stream",
     "text": [
      "======= GEHI 2018-08-27 ~ 2023-09-17 2927 / 7856 ========\n",
      "======= GEL 1997-04-23 ~ 2024-10-31 2928 / 7856 ========\n",
      "GELS not exist\n",
      "======= GEN 1994-01-19 ~ 2024-10-30 2930 / 7856 ========\n",
      "GENE not exist\n",
      "======= GENI 2021-05-20 ~ 2024-08-06 2932 / 7856 ========\n",
      "======= GENK 2023-08-14 ~ 2024-07-31 2933 / 7856 ========\n",
      "GENQ not exist\n",
      "======= GEO 1995-10-26 ~ 2024-11-07 2935 / 7856 ========\n",
      "======= GEOS 1998-04-29 ~ 2020-11-19 2936 / 7856 ========\n",
      "======= GERN 1997-05-09 ~ 2024-11-07 2937 / 7856 ========\n",
      "======= GES 1996-10-23 ~ 2024-11-26 2938 / 7856 ========\n",
      "GET not exist\n",
      "======= GETR 2023-12-14 ~ 2024-08-12 2940 / 7856 ========\n",
      "======= GETY 2022-08-12 ~ 2024-11-07 2941 / 7856 ========\n",
      "======= GEV 2024-04-25 ~ 2024-10-23 2942 / 7856 ========\n",
      "======= GEVO 2011-03-28 ~ 2024-11-07 2943 / 7856 ========\n",
      "GFAI not exist\n"
     ]
    },
    {
     "name": "stderr",
     "output_type": "stream",
     "text": [
      "GFED: No timezone found, symbol may be delisted\n"
     ]
    },
    {
     "name": "stdout",
     "output_type": "stream",
     "text": [
      "======= GFED 1998-04-20 ~ 2022-01-20 2945 / 7856 ========\n",
      "======= GFF 1993-02-09 ~ 2024-11-13 2946 / 7856 ========\n",
      "GFGD not exist\n",
      "======= GFI 2003-05-08 ~ 2024-08-23 2948 / 7856 ========\n",
      "======= GFL 2020-05-11 ~ 2024-11-06 2949 / 7856 ========\n",
      "GFLU not exist\n"
     ]
    },
    {
     "name": "stderr",
     "output_type": "stream",
     "text": [
      "GFNCP: No timezone found, symbol may be delisted\n"
     ]
    },
    {
     "name": "stdout",
     "output_type": "stream",
     "text": [
      "======= GFNCP 2013-05-14 ~ 2020-09-09 2951 / 7856 ========\n",
      "GFOR not exist\n"
     ]
    },
    {
     "name": "stderr",
     "output_type": "stream",
     "text": [
      "GFR: No price data found, symbol may be delisted (1d 2024-08-14 -> 2024-08-14)\n"
     ]
    },
    {
     "name": "stdout",
     "output_type": "stream",
     "text": [
      "======= GFR 2024-08-14 ~ 2024-08-14 2953 / 7856 ========\n",
      "======= GFS 2022-02-08 ~ 2024-11-05 2954 / 7856 ========\n",
      "GFX not exist\n",
      "GGAA not exist\n",
      "======= GGAL 2001-05-09 ~ 2024-11-04 2957 / 7856 ========\n",
      "======= GGB 1998-12-16 ~ 2024-11-05 2958 / 7856 ========\n",
      "GGE not exist\n",
      "======= GGG 1993-07-16 ~ 2024-10-23 2960 / 7856 ========\n",
      "GGGV not exist\n",
      "GGL not exist\n",
      "GGMC not exist\n",
      "GGPI not exist\n"
     ]
    },
    {
     "name": "stderr",
     "output_type": "stream",
     "text": [
      "GGR: No price data found, symbol may be delisted (1d 2024-02-07 -> 2024-02-07)\n"
     ]
    },
    {
     "name": "stdout",
     "output_type": "stream",
     "text": [
      "======= GGR 2024-02-07 ~ 2024-02-07 2965 / 7856 ========\n",
      "======= GH 2018-11-19 ~ 2024-11-06 2966 / 7856 ========\n",
      "GHAC not exist\n",
      "======= GHC 1993-02-02 ~ 2024-10-30 2968 / 7856 ========\n",
      "======= GHG 2018-05-15 ~ 2024-06-25 2969 / 7856 ========\n",
      "======= GHI 2007-05-14 ~ 2024-11-06 2970 / 7856 ========\n",
      "GHIX not exist\n"
     ]
    },
    {
     "name": "stderr",
     "output_type": "stream",
     "text": [
      "GHL: No data found, symbol may be delisted\n"
     ]
    },
    {
     "name": "stdout",
     "output_type": "stream",
     "text": [
      "======= GHL 2004-07-21 ~ 2023-11-09 2972 / 7856 ========\n",
      "======= GHLD 2020-12-02 ~ 2024-11-06 2973 / 7856 ========\n",
      "======= GHM 2007-07-30 ~ 2024-11-08 2974 / 7856 ========\n",
      "======= GHRS 2021-09-23 ~ 2024-09-03 2975 / 7856 ========\n",
      "======= GHSI 2022-05-12 ~ 2024-05-13 2976 / 7856 ========\n",
      "GHVI not exist\n",
      "GIA not exist\n",
      "GIAC not exist\n",
      "======= GIB 1997-08-11 ~ 2024-11-06 2980 / 7856 ========\n",
      "======= GIC 1996-02-08 ~ 2024-10-29 2981 / 7856 ========\n",
      "======= GIFI 1997-07-24 ~ 2024-11-05 2982 / 7856 ========\n",
      "GIFT not exist\n",
      "GIG not exist\n",
      "======= GIGM 2004-12-02 ~ 2011-01-26 2985 / 7856 ========\n",
      "======= GIII 1993-04-20 ~ 2024-09-05 2986 / 7856 ========\n",
      "GIIX not exist\n",
      "======= GIL 1998-08-13 ~ 2024-10-31 2988 / 7856 ========\n",
      "======= GILD 1993-10-29 ~ 2024-11-06 2989 / 7856 ========\n",
      "======= GILT 1994-02-25 ~ 2024-11-13 2990 / 7856 ========\n",
      "======= GIPR 2021-11-15 ~ 2024-08-15 2991 / 7856 ========\n",
      "======= GIS 1993-03-15 ~ 2024-09-18 2992 / 7856 ========\n",
      "GIW not exist\n",
      "GIWWW not exist\n",
      "======= GKOS 2015-08-12 ~ 2024-11-04 2995 / 7856 ========\n",
      "======= GL 1993-02-02 ~ 2024-10-23 2996 / 7856 ========\n",
      "GLAC not exist\n",
      "======= GLAD 2002-02-14 ~ 2024-11-13 2998 / 7856 ========\n",
      "GLADL not exist\n",
      "GLADZ not exist\n",
      "GLAQ not exist\n",
      "======= GLBE 2021-08-16 ~ 2024-11-20 3002 / 7856 ========\n",
      "GLBL not exist\n",
      "GLBLW not exist\n",
      "======= GLBS 2011-02-24 ~ 2024-09-12 3005 / 7856 ========\n",
      "GLBZ not exist\n",
      "======= GLDD 2007-02-16 ~ 2024-11-05 3007 / 7856 ========\n",
      "GLE not exist\n",
      "GLEE not exist\n",
      "GLEO not exist\n",
      "GLG not exist\n",
      "GLHA not exist\n",
      "GLLI not exist\n",
      "======= GLMD 2014-05-14 ~ 2024-04-04 3014 / 7856 ========\n",
      "======= GLNG 2004-05-28 ~ 2024-11-12 3015 / 7856 ========\n",
      "======= GLOB 2014-11-10 ~ 2024-11-14 3016 / 7856 ========\n"
     ]
    },
    {
     "name": "stderr",
     "output_type": "stream",
     "text": [
      "GLOG-PA: No timezone found, symbol may be delisted\n"
     ]
    },
    {
     "name": "stdout",
     "output_type": "stream",
     "text": [
      "======= GLOG-PA 2012-05-17 ~ 2020-05-07 3017 / 7856 ========\n"
     ]
    },
    {
     "name": "stderr",
     "output_type": "stream",
     "text": [
      "GLOP: No timezone found, symbol may be delisted\n"
     ]
    },
    {
     "name": "stdout",
     "output_type": "stream",
     "text": [
      "======= GLOP 2014-07-31 ~ 2023-07-27 3018 / 7856 ========\n",
      "GLOP-PA not exist\n",
      "======= GLP 2005-11-14 ~ 2024-11-08 3020 / 7856 ========\n",
      "======= GLPG 2015-08-06 ~ 2024-10-30 3021 / 7856 ========\n",
      "======= GLPI 2014-02-20 ~ 2024-10-24 3022 / 7856 ========\n",
      "======= GLRE 2007-08-13 ~ 2024-11-04 3023 / 7856 ========\n"
     ]
    },
    {
     "name": "stderr",
     "output_type": "stream",
     "text": [
      "GLS: No timezone found, symbol may be delisted\n"
     ]
    },
    {
     "name": "stdout",
     "output_type": "stream",
     "text": [
      "======= GLS 2022-11-14 ~ 2023-03-28 3024 / 7856 ========\n",
      "======= GLSI 2021-03-31 ~ 2024-08-14 3025 / 7856 ========\n",
      "GLSPT not exist\n",
      "GLST not exist\n",
      "======= GLT 1993-04-14 ~ 2022-11-03 3028 / 7856 ========\n",
      "======= GLTO 2020-12-11 ~ 2024-11-01 3029 / 7856 ========\n",
      "======= GLUE 2021-08-12 ~ 2024-11-07 3030 / 7856 ========\n",
      "======= GLW 1993-01-25 ~ 2024-10-29 3031 / 7856 ========\n",
      "GLXG not exist\n",
      "======= GLYC 2014-05-08 ~ 2024-09-18 3033 / 7856 ========\n",
      "======= GM 2011-02-24 ~ 2024-10-22 3034 / 7856 ========\n",
      "======= GMAB 2019-08-20 ~ 2024-11-06 3035 / 7856 ========\n",
      "======= GMBL 2020-11-16 ~ 2024-05-22 3036 / 7856 ========\n",
      "GMBT not exist\n",
      "======= GMDA 2019-02-25 ~ 2024-03-27 3038 / 7856 ========\n",
      "======= GME 2002-05-20 ~ 2024-09-10 3039 / 7856 ========\n",
      "======= GMED 2012-11-01 ~ 2024-11-05 3040 / 7856 ========\n",
      "GMFI not exist\n",
      "GMGI not exist\n",
      "GMII not exist\n",
      "======= GMRE 2016-11-10 ~ 2024-11-06 3044 / 7856 ========\n",
      "======= GMS 2016-07-12 ~ 2024-12-05 3045 / 7856 ========\n"
     ]
    },
    {
     "name": "stderr",
     "output_type": "stream",
     "text": [
      "GMTX: No timezone found, symbol may be delisted\n"
     ]
    },
    {
     "name": "stdout",
     "output_type": "stream",
     "text": [
      "======= GMTX 2021-05-13 ~ 2022-08-11 3046 / 7856 ========\n",
      "GMVD not exist\n",
      "GNAC not exist\n"
     ]
    },
    {
     "name": "stderr",
     "output_type": "stream",
     "text": [
      "GNCA: No timezone found, symbol may be delisted\n"
     ]
    },
    {
     "name": "stdout",
     "output_type": "stream",
     "text": [
      "======= GNCA 2014-03-21 ~ 2022-05-05 3049 / 7856 ========\n",
      "======= GNE 2013-05-07 ~ 2021-05-06 3050 / 7856 ========\n"
     ]
    },
    {
     "name": "stderr",
     "output_type": "stream",
     "text": [
      "GNFT: No price data found, symbol may be delisted (1d 2024-09-19 -> 2024-09-19)\n"
     ]
    },
    {
     "name": "stdout",
     "output_type": "stream",
     "text": [
      "======= GNFT 2024-09-19 ~ 2024-09-19 3051 / 7856 ========\n",
      "======= GNK 2005-11-02 ~ 2024-11-06 3052 / 7856 ========\n",
      "======= GNL 2016-11-09 ~ 2024-11-06 3053 / 7856 ========\n",
      "======= GNLN 2019-08-12 ~ 2024-07-24 3054 / 7856 ========\n",
      "======= GNLX 2023-05-15 ~ 2024-08-14 3055 / 7856 ========\n"
     ]
    },
    {
     "name": "stderr",
     "output_type": "stream",
     "text": [
      "GNOG: No timezone found, symbol may be delisted\n"
     ]
    },
    {
     "name": "stdout",
     "output_type": "stream",
     "text": [
      "======= GNOG 2021-05-17 ~ 2021-11-10 3056 / 7856 ========\n",
      "GNPK-UN not exist\n",
      "======= GNPX 2018-11-14 ~ 2024-08-09 3058 / 7856 ========\n",
      "======= GNRC 2010-05-07 ~ 2024-10-31 3059 / 7856 ========\n",
      "======= GNSS 2005-05-10 ~ 2024-08-06 3060 / 7856 ========\n",
      "GNTA not exist\n",
      "======= GNTX 1995-01-26 ~ 2024-10-25 3062 / 7856 ========\n",
      "======= GNTY 2004-03-05 ~ 2024-10-21 3063 / 7856 ========\n"
     ]
    },
    {
     "name": "stderr",
     "output_type": "stream",
     "text": [
      "GNUS: No timezone found, symbol may be delisted\n"
     ]
    },
    {
     "name": "stdout",
     "output_type": "stream",
     "text": [
      "======= GNUS 2015-11-16 ~ 2023-04-13 3064 / 7856 ========\n",
      "======= GNW 2004-07-09 ~ 2024-11-06 3065 / 7856 ========\n",
      "======= GO 2019-08-13 ~ 2024-11-05 3066 / 7856 ========\n",
      "GOAC not exist\n",
      "GOBI not exist\n",
      "======= GOCO 2020-08-20 ~ 2024-11-07 3069 / 7856 ========\n",
      "GODN not exist\n",
      "======= GOEV 2021-03-29 ~ 2024-08-14 3071 / 7856 ========\n",
      "======= GOGL 1997-07-09 ~ 2024-11-27 3072 / 7856 ========\n",
      "GOGN not exist\n",
      "======= GOGO 2013-08-07 ~ 2024-11-05 3074 / 7856 ========\n"
     ]
    },
    {
     "name": "stderr",
     "output_type": "stream",
     "text": [
      "GOL: No data found, symbol may be delisted\n"
     ]
    },
    {
     "name": "stdout",
     "output_type": "stream",
     "text": [
      "======= GOL 2004-08-10 ~ 2024-03-13 3075 / 7856 ========\n",
      "======= GOLD 1993-02-05 ~ 2024-11-07 3076 / 7856 ========\n",
      "======= GOLF 2016-12-08 ~ 2024-11-07 3077 / 7856 ========\n",
      "======= GOOD 2004-03-17 ~ 2024-11-04 3078 / 7856 ========\n",
      "======= GOOG 2012-10-18 ~ 2024-10-29 3079 / 7856 ========\n",
      "======= GOOGL 2004-10-21 ~ 2024-10-29 3080 / 7856 ========\n",
      "======= GOOS 2017-06-02 ~ 2024-11-07 3081 / 7856 ========\n",
      "======= GORV 2023-07-28 ~ 2024-08-15 3082 / 7856 ========\n",
      "======= GOSS 2019-05-14 ~ 2024-11-07 3083 / 7856 ========\n",
      "======= GOTU 2019-08-22 ~ 2024-08-27 3084 / 7856 ========\n",
      "======= GOVX 2012-11-14 ~ 2024-11-12 3085 / 7856 ========\n",
      "======= GP 2019-07-29 ~ 2024-11-14 3086 / 7856 ========\n",
      "GPAC not exist\n",
      "GPAK not exist\n",
      "GPAT not exist\n",
      "GPATU not exist\n",
      "======= GPC 1993-02-16 ~ 2024-10-22 3091 / 7856 ========\n",
      "GPCO not exist\n",
      "======= GPCR 2023-03-31 ~ 2024-11-13 3093 / 7856 ========\n",
      "======= GPI 1998-02-17 ~ 2024-10-30 3094 / 7856 ========\n",
      "GPJA not exist\n",
      "======= GPK 1993-06-03 ~ 2024-10-29 3096 / 7856 ========\n",
      "======= GPMT 2017-08-14 ~ 2024-11-06 3097 / 7856 ========\n",
      "======= GPN 2001-09-20 ~ 2024-10-30 3098 / 7856 ========\n",
      "======= GPOR 2006-02-15 ~ 2024-11-05 3099 / 7856 ========\n"
     ]
    },
    {
     "name": "stderr",
     "output_type": "stream",
     "text": [
      "GPP: No timezone found, symbol may be delisted\n"
     ]
    },
    {
     "name": "stdout",
     "output_type": "stream",
     "text": [
      "======= GPP 2015-08-12 ~ 2021-08-02 3100 / 7856 ========\n",
      "======= GPRE 2006-10-16 ~ 2024-10-31 3101 / 7856 ========\n",
      "======= GPRK 2014-05-22 ~ 2024-11-06 3102 / 7856 ========\n",
      "======= GPRO 2014-07-31 ~ 2024-11-07 3103 / 7856 ========\n"
     ]
    },
    {
     "name": "stderr",
     "output_type": "stream",
     "text": [
      "GPS: No timezone found, symbol may be delisted\n"
     ]
    },
    {
     "name": "stdout",
     "output_type": "stream",
     "text": [
      "======= GPS 1993-03-05 ~ 2024-11-14 3104 / 7856 ========\n",
      "GPUS not exist\n"
     ]
    },
    {
     "name": "stderr",
     "output_type": "stream",
     "text": [
      "GPX: No timezone found, symbol may be delisted\n"
     ]
    },
    {
     "name": "stdout",
     "output_type": "stream",
     "text": [
      "======= GPX 1997-05-07 ~ 2021-08-09 3106 / 7856 ========\n"
     ]
    },
    {
     "name": "stderr",
     "output_type": "stream",
     "text": [
      "GRA: No timezone found, symbol may be delisted\n"
     ]
    },
    {
     "name": "stdout",
     "output_type": "stream",
     "text": [
      "======= GRA 1993-02-05 ~ 2021-08-02 3107 / 7856 ========\n",
      "======= GRAB 2021-11-19 ~ 2024-08-15 3108 / 7856 ========\n",
      "GRAFU not exist\n",
      "GRAL not exist\n",
      "GRALV not exist\n"
     ]
    },
    {
     "name": "stderr",
     "output_type": "stream",
     "text": [
      "GRAY: No timezone found, symbol may be delisted\n"
     ]
    },
    {
     "name": "stdout",
     "output_type": "stream",
     "text": [
      "======= GRAY 2020-11-12 ~ 2023-05-08 3112 / 7856 ========\n",
      "======= GRBK 2007-11-07 ~ 2024-10-30 3113 / 7856 ========\n",
      "======= GRC 1993-02-12 ~ 2024-10-25 3114 / 7856 ========\n",
      "======= GRCE 2024-06-21 ~ 2024-11-13 3115 / 7856 ========\n"
     ]
    },
    {
     "name": "stderr",
     "output_type": "stream",
     "text": [
      "GRCL: No timezone found, symbol may be delisted\n"
     ]
    },
    {
     "name": "stdout",
     "output_type": "stream",
     "text": [
      "======= GRCL 2021-03-09 ~ 2024-03-11 3116 / 7856 ========\n",
      "GRCY not exist\n",
      "GRDI not exist\n"
     ]
    },
    {
     "name": "stderr",
     "output_type": "stream",
     "text": [
      "GRDN: No price data found, symbol may be delisted (1d 2024-11-12 -> 2024-11-12)\n"
     ]
    },
    {
     "name": "stdout",
     "output_type": "stream",
     "text": [
      "======= GRDN 2024-11-12 ~ 2024-11-12 3119 / 7856 ========\n",
      "======= GREE 2000-10-18 ~ 2024-11-07 3120 / 7856 ========\n",
      "======= GRFS 2012-07-31 ~ 2024-11-07 3121 / 7856 ========\n",
      "GRI not exist\n"
     ]
    },
    {
     "name": "stderr",
     "output_type": "stream",
     "text": [
      "GRIL: No timezone found, symbol may be delisted\n"
     ]
    },
    {
     "name": "stdout",
     "output_type": "stream",
     "text": [
      "======= GRIL 2023-05-10 ~ 2023-08-10 3123 / 7856 ========\n"
     ]
    },
    {
     "name": "stderr",
     "output_type": "stream",
     "text": [
      "GRIN: No timezone found, symbol may be delisted\n"
     ]
    },
    {
     "name": "stdout",
     "output_type": "stream",
     "text": [
      "======= GRIN 2020-08-27 ~ 2024-03-08 3124 / 7856 ========\n",
      "======= GRMN 2001-02-14 ~ 2024-10-30 3125 / 7856 ========\n"
     ]
    },
    {
     "name": "stderr",
     "output_type": "stream",
     "text": [
      "GRNA: No timezone found, symbol may be delisted\n"
     ]
    },
    {
     "name": "stdout",
     "output_type": "stream",
     "text": [
      "======= GRNA 2022-11-09 ~ 2023-05-11 3126 / 7856 ========\n",
      "======= GRND 2024-05-09 ~ 2024-11-07 3127 / 7856 ========\n",
      "GRNQ not exist\n",
      "======= GRNT 2022-05-16 ~ 2024-11-07 3129 / 7856 ========\n",
      "GRNV not exist\n",
      "GRO not exist\n",
      "======= GROM 2021-05-17 ~ 2023-11-20 3132 / 7856 ========\n",
      "======= GROV 2022-11-10 ~ 2024-08-08 3133 / 7856 ========\n",
      "======= GROW 2009-05-08 ~ 2010-11-03 3134 / 7856 ========\n"
     ]
    },
    {
     "name": "stderr",
     "output_type": "stream",
     "text": [
      "GRP-UN: Data doesn't exist for startDate = 1092196800, endDate = 1331269200\n"
     ]
    },
    {
     "name": "stdout",
     "output_type": "stream",
     "text": [
      "======= GRP-UN 2004-08-11 ~ 2012-03-09 3135 / 7856 ========\n"
     ]
    },
    {
     "name": "stderr",
     "output_type": "stream",
     "text": [
      "GRPH: No timezone found, symbol may be delisted\n"
     ]
    },
    {
     "name": "stdout",
     "output_type": "stream",
     "text": [
      "======= GRPH 2021-08-12 ~ 2024-03-25 3136 / 7856 ========\n",
      "======= GRPN 2012-02-08 ~ 2024-11-12 3137 / 7856 ========\n",
      "======= GRRR 2023-07-10 ~ 2024-02-05 3138 / 7856 ========\n",
      "GRSVU not exist\n",
      "======= GRTS 2018-11-14 ~ 2024-08-13 3140 / 7856 ========\n",
      "======= GRTX 2020-03-10 ~ 2023-11-14 3141 / 7856 ========\n"
     ]
    },
    {
     "name": "stderr",
     "output_type": "stream",
     "text": [
      "GRUB: No timezone found, symbol may be delisted\n"
     ]
    },
    {
     "name": "stdout",
     "output_type": "stream",
     "text": [
      "======= GRUB 2014-07-24 ~ 2021-04-28 3142 / 7856 ========\n"
     ]
    },
    {
     "name": "stderr",
     "output_type": "stream",
     "text": [
      "GRVI: No timezone found, symbol may be delisted\n"
     ]
    },
    {
     "name": "stdout",
     "output_type": "stream",
     "text": [
      "======= GRVI 2022-02-14 ~ 2022-02-14 3143 / 7856 ========\n"
     ]
    },
    {
     "name": "stderr",
     "output_type": "stream",
     "text": [
      "GRVY: No price data found, symbol may be delisted (1d 2005-08-22 -> 2005-08-22)\n"
     ]
    },
    {
     "name": "stdout",
     "output_type": "stream",
     "text": [
      "======= GRVY 2005-08-22 ~ 2005-08-22 3144 / 7856 ========\n",
      "======= GRWG 2018-11-09 ~ 2024-08-08 3145 / 7856 ========\n",
      "======= GRYP 2021-12-30 ~ 2024-11-13 3146 / 7856 ========\n",
      "======= GS 1999-06-23 ~ 2024-10-15 3147 / 7856 ========\n",
      "GSAH not exist\n",
      "GSAQ not exist\n",
      "======= GSBC 1994-07-18 ~ 2024-10-16 3150 / 7856 ========\n",
      "======= GSBD 2015-05-14 ~ 2024-11-08 3151 / 7856 ========\n",
      "GSDWW not exist\n",
      "GSEV not exist\n",
      "======= GSHD 2018-06-06 ~ 2024-10-23 3154 / 7856 ========\n",
      "======= GSIT 2007-08-02 ~ 2022-10-27 3155 / 7856 ========\n",
      "GSIW not exist\n",
      "======= GSK 1993-08-19 ~ 2024-10-30 3157 / 7856 ========\n"
     ]
    },
    {
     "name": "stderr",
     "output_type": "stream",
     "text": [
      "GSKY: No timezone found, symbol may be delisted\n"
     ]
    },
    {
     "name": "stdout",
     "output_type": "stream",
     "text": [
      "======= GSKY 2018-08-07 ~ 2022-03-11 3158 / 7856 ========\n",
      "======= GSL 2008-11-13 ~ 2024-11-11 3159 / 7856 ========\n",
      "GSLD not exist\n",
      "======= GSM 2010-05-15 ~ 2024-11-06 3161 / 7856 ========\n",
      "GSMG not exist\n",
      "GSQB not exist\n",
      "GSQB-UN not exist\n",
      "GSQD not exist\n",
      "GSRM not exist\n",
      "GSRTU not exist\n",
      "GSUN not exist\n",
      "======= GT 1993-02-09 ~ 2024-11-04 3169 / 7856 ========\n",
      "GTAC not exist\n",
      "======= GTBP 2005-08-15 ~ 2024-05-15 3171 / 7856 ========\n",
      "======= GTEC 2021-08-10 ~ 2024-08-14 3172 / 7856 ========\n",
      "======= GTES 2018-03-13 ~ 2024-10-30 3173 / 7856 ========\n"
     ]
    },
    {
     "name": "stderr",
     "output_type": "stream",
     "text": [
      "GTH: No timezone found, symbol may be delisted\n"
     ]
    },
    {
     "name": "stdout",
     "output_type": "stream",
     "text": [
      "======= GTH 2020-08-06 ~ 2023-01-16 3174 / 7856 ========\n"
     ]
    },
    {
     "name": "stderr",
     "output_type": "stream",
     "text": [
      "GTHX: No timezone found, symbol may be delisted\n"
     ]
    },
    {
     "name": "stdout",
     "output_type": "stream",
     "text": [
      "======= GTHX 2017-08-09 ~ 2024-08-08 3175 / 7856 ========\n"
     ]
    },
    {
     "name": "stderr",
     "output_type": "stream",
     "text": [
      "GTI: Data doesn't exist for startDate = 1351137600, endDate = 1438142400\n"
     ]
    },
    {
     "name": "stdout",
     "output_type": "stream",
     "text": [
      "======= GTI 2012-10-25 ~ 2015-07-29 3176 / 7856 ========\n",
      "======= GTIM 2014-05-07 ~ 2020-02-11 3177 / 7856 ========\n",
      "======= GTLB 2021-12-06 ~ 2024-12-05 3178 / 7856 ========\n",
      "======= GTLS 2006-11-09 ~ 2024-11-01 3179 / 7856 ========\n",
      "======= GTN 1995-10-17 ~ 2024-11-08 3180 / 7856 ========\n",
      "GTPA not exist\n",
      "GTPB not exist\n",
      "GTPPP not exist\n"
     ]
    },
    {
     "name": "stderr",
     "output_type": "stream",
     "text": [
      "GTS: No timezone found, symbol may be delisted\n"
     ]
    },
    {
     "name": "stdout",
     "output_type": "stream",
     "text": [
      "======= GTS 2008-02-11 ~ 2020-11-06 3184 / 7856 ========\n"
     ]
    },
    {
     "name": "stderr",
     "output_type": "stream",
     "text": [
      "GTT: No timezone found, symbol may be delisted\n"
     ]
    },
    {
     "name": "stdout",
     "output_type": "stream",
     "text": [
      "======= GTT 2013-11-14 ~ 2020-05-08 3185 / 7856 ========\n",
      "======= GTX 2018-11-06 ~ 2024-10-24 3186 / 7856 ========\n",
      "======= GTY 2001-11-05 ~ 2024-10-23 3187 / 7856 ========\n"
     ]
    },
    {
     "name": "stderr",
     "output_type": "stream",
     "text": [
      "GTYH: No timezone found, symbol may be delisted\n"
     ]
    },
    {
     "name": "stdout",
     "output_type": "stream",
     "text": [
      "======= GTYH 2019-08-07 ~ 2022-05-09 3188 / 7856 ========\n",
      "======= GURE 2007-11-12 ~ 2011-05-16 3189 / 7856 ========\n",
      "======= GUTS 2024-04-01 ~ 2024-11-12 3190 / 7856 ========\n",
      "GV not exist\n",
      "======= GVA 1993-02-20 ~ 2024-10-31 3192 / 7856 ========\n",
      "GVCI not exist\n",
      "GVH not exist\n",
      "======= GVP 1996-10-28 ~ 2024-04-04 3195 / 7856 ========\n",
      "GWAC not exist\n",
      "======= GWAV 2015-11-16 ~ 2016-05-16 3197 / 7856 ========\n"
     ]
    },
    {
     "name": "stderr",
     "output_type": "stream",
     "text": [
      "GWB: No timezone found, symbol may be delisted\n"
     ]
    },
    {
     "name": "stdout",
     "output_type": "stream",
     "text": [
      "======= GWB 2015-01-28 ~ 2022-01-27 3198 / 7856 ========\n"
     ]
    },
    {
     "name": "stderr",
     "output_type": "stream",
     "text": [
      "GWGH: No timezone found, symbol may be delisted\n"
     ]
    },
    {
     "name": "stdout",
     "output_type": "stream",
     "text": [
      "======= GWGH 2016-04-28 ~ 2019-08-05 3199 / 7856 ========\n",
      "======= GWH 2021-11-15 ~ 2024-08-14 3200 / 7856 ========\n",
      "GWII not exist\n",
      "======= GWRE 2012-09-04 ~ 2024-12-05 3202 / 7856 ========\n",
      "======= GWRS 2016-06-09 ~ 2024-11-06 3203 / 7856 ========\n",
      "======= GWW 1993-02-10 ~ 2024-10-31 3204 / 7856 ========\n",
      "GXAI not exist\n",
      "GXGX not exist\n",
      "GXGXU not exist\n",
      "GXII not exist\n",
      "======= GXO 2021-08-09 ~ 2024-11-04 3209 / 7856 ========\n",
      "======= GYRE 2023-10-26 ~ 2024-03-26 3210 / 7856 ========\n",
      "GYRO not exist\n",
      "======= H 2010-05-06 ~ 2024-10-31 3212 / 7856 ========\n"
     ]
    },
    {
     "name": "stderr",
     "output_type": "stream",
     "text": [
      "HA: No timezone found, symbol may be delisted\n"
     ]
    },
    {
     "name": "stdout",
     "output_type": "stream",
     "text": [
      "======= HA 1998-05-07 ~ 2024-07-30 3213 / 7856 ========\n",
      "HAAC not exist\n",
      "======= HAE 1993-01-19 ~ 2024-11-07 3215 / 7856 ========\n",
      "======= HAFC 2002-04-15 ~ 2024-10-22 3216 / 7856 ========\n",
      "======= HAFN 2024-05-15 ~ 2024-11-27 3217 / 7856 ========\n",
      "HAIA not exist\n",
      "======= HAIN 1995-11-10 ~ 2024-11-07 3219 / 7856 ========\n",
      "======= HAL 1993-04-29 ~ 2024-11-07 3220 / 7856 ========\n",
      "======= HALL 2006-11-09 ~ 2023-05-15 3221 / 7856 ========\n",
      "======= HALO 2004-08-16 ~ 2024-10-31 3222 / 7856 ========\n",
      "HAO not exist\n",
      "HAPP not exist\n"
     ]
    },
    {
     "name": "stderr",
     "output_type": "stream",
     "text": [
      "HARP: No timezone found, symbol may be delisted\n"
     ]
    },
    {
     "name": "stdout",
     "output_type": "stream",
     "text": [
      "======= HARP 2019-03-14 ~ 2024-03-25 3225 / 7856 ========\n",
      "======= HAS 1993-05-04 ~ 2024-10-24 3226 / 7856 ========\n",
      "======= HASI 2013-08-08 ~ 2024-11-07 3227 / 7856 ========\n",
      "======= HAYN 2006-08-14 ~ 2024-11-21 3228 / 7856 ========\n",
      "======= HAYW 2021-05-18 ~ 2024-10-29 3229 / 7856 ========\n",
      "======= HBAN 1993-01-13 ~ 2024-10-17 3230 / 7856 ========\n",
      "======= HBB 2018-03-07 ~ 2023-05-03 3231 / 7856 ========\n",
      "======= HBCP 2014-07-29 ~ 2024-10-17 3232 / 7856 ========\n",
      "======= HBI 2007-02-01 ~ 2024-11-07 3233 / 7856 ========\n",
      "======= HBIO 2001-04-25 ~ 2024-11-07 3234 / 7856 ========\n",
      "======= HBM 2005-08-10 ~ 2024-11-13 3235 / 7856 ========\n"
     ]
    },
    {
     "name": "stderr",
     "output_type": "stream",
     "text": [
      "HBMD: No timezone found, symbol may be delisted\n"
     ]
    },
    {
     "name": "stdout",
     "output_type": "stream",
     "text": [
      "======= HBMD 2016-04-22 ~ 2021-10-20 3236 / 7856 ========\n",
      "======= HBNC 1996-05-09 ~ 2024-10-23 3237 / 7856 ========\n"
     ]
    },
    {
     "name": "stderr",
     "output_type": "stream",
     "text": [
      "HBP: No timezone found, symbol may be delisted\n"
     ]
    },
    {
     "name": "stdout",
     "output_type": "stream",
     "text": [
      "======= HBP 2000-04-19 ~ 2018-07-30 3238 / 7856 ========\n",
      "======= HBT 2019-11-06 ~ 2024-10-21 3239 / 7856 ========\n",
      "======= HCA 2011-07-25 ~ 2024-10-25 3240 / 7856 ========\n",
      "HCAPZ not exist\n",
      "HCAQ not exist\n",
      "HCAR not exist\n",
      "======= HCAT 2019-08-22 ~ 2024-11-06 3244 / 7856 ========\n",
      "======= HCC 2017-05-18 ~ 2024-10-30 3245 / 7856 ========\n",
      "HCCC not exist\n"
     ]
    },
    {
     "name": "stderr",
     "output_type": "stream",
     "text": [
      "HCCI: No timezone found, symbol may be delisted\n"
     ]
    },
    {
     "name": "stdout",
     "output_type": "stream",
     "text": [
      "======= HCCI 2008-05-01 ~ 2023-10-18 3247 / 7856 ========\n"
     ]
    },
    {
     "name": "stderr",
     "output_type": "stream",
     "text": [
      "HCDI: No timezone found, symbol may be delisted\n"
     ]
    },
    {
     "name": "stdout",
     "output_type": "stream",
     "text": [
      "======= HCDI 2022-05-12 ~ 2023-11-14 3248 / 7856 ========\n",
      "HCG not exist\n"
     ]
    },
    {
     "name": "stderr",
     "output_type": "stream",
     "text": [
      "HCHC: No timezone found, symbol may be delisted\n"
     ]
    },
    {
     "name": "stdout",
     "output_type": "stream",
     "text": [
      "======= HCHC 1997-02-06 ~ 2020-11-09 3250 / 7856 ========\n",
      "======= HCI 2010-08-10 ~ 2024-11-07 3251 / 7856 ========\n",
      "HCIC not exist\n",
      "HCII not exist\n",
      "HCIIW not exist\n",
      "======= HCKT 1998-07-27 ~ 2024-11-04 3255 / 7856 ========\n",
      "======= HCM 2016-08-02 ~ 2024-02-28 3256 / 7856 ========\n",
      "HCMA not exist\n",
      "HCNE not exist\n",
      "======= HCP 2022-03-10 ~ 2024-12-05 3259 / 7856 ========\n",
      "======= HCSG 1993-06-04 ~ 2024-10-23 3260 / 7856 ========\n",
      "======= HCTI 2022-08-08 ~ 2022-11-10 3261 / 7856 ========\n",
      "HCVI not exist\n",
      "======= HCWB 2022-03-29 ~ 2024-04-01 3263 / 7856 ========\n",
      "HCXY not exist\n",
      "======= HD 1993-02-22 ~ 2024-11-12 3265 / 7856 ========\n",
      "======= HDB 2013-07-17 ~ 2024-10-19 3266 / 7856 ========\n"
     ]
    },
    {
     "name": "stderr",
     "output_type": "stream",
     "text": [
      "HDL: No price data found, symbol may be delisted (1d 2024-08-27 -> 2024-08-27)\n"
     ]
    },
    {
     "name": "stdout",
     "output_type": "stream",
     "text": [
      "======= HDL 2024-08-27 ~ 2024-08-27 3267 / 7856 ========\n",
      "======= HDSN 2012-05-02 ~ 2024-11-04 3268 / 7856 ========\n",
      "======= HE 1993-02-03 ~ 2024-11-08 3269 / 7856 ========\n",
      "======= HEAR 2014-02-10 ~ 2024-11-07 3270 / 7856 ========\n",
      "HECCW not exist\n",
      "======= HEES 2006-05-11 ~ 2024-10-29 3272 / 7856 ========\n",
      "======= HEI 1997-02-26 ~ 2024-08-26 3273 / 7856 ========\n",
      "======= HELE 1993-01-08 ~ 2024-10-09 3274 / 7856 ========\n"
     ]
    },
    {
     "name": "stderr",
     "output_type": "stream",
     "text": [
      "HEP: No timezone found, symbol may be delisted\n"
     ]
    },
    {
     "name": "stdout",
     "output_type": "stream",
     "text": [
      "======= HEP 2004-11-03 ~ 2023-11-02 3275 / 7856 ========\n",
      "======= HEPA 2015-05-14 ~ 2024-11-14 3276 / 7856 ========\n",
      "======= HEPS 2021-08-26 ~ 2022-09-28 3277 / 7856 ========\n",
      "HERA not exist\n",
      "======= HES 1993-04-27 ~ 2024-10-30 3279 / 7856 ========\n",
      "======= HESM 2017-07-27 ~ 2024-10-30 3280 / 7856 ========\n"
     ]
    },
    {
     "name": "stderr",
     "output_type": "stream",
     "text": [
      "HEXO: No timezone found, symbol may be delisted\n"
     ]
    },
    {
     "name": "stdout",
     "output_type": "stream",
     "text": [
      "======= HEXO 2017-06-29 ~ 2023-06-14 3281 / 7856 ========\n",
      "HFBL not exist\n"
     ]
    },
    {
     "name": "stderr",
     "output_type": "stream",
     "text": [
      "HFC: No timezone found, symbol may be delisted\n"
     ]
    },
    {
     "name": "stdout",
     "output_type": "stream",
     "text": [
      "======= HFC 1993-03-12 ~ 2022-02-23 3283 / 7856 ========\n"
     ]
    },
    {
     "name": "stderr",
     "output_type": "stream",
     "text": [
      "HFFG: No price data found, symbol may be delisted (1d 2024-11-12 -> 2024-11-12)\n"
     ]
    },
    {
     "name": "stdout",
     "output_type": "stream",
     "text": [
      "======= HFFG 2024-11-12 ~ 2024-11-12 3284 / 7856 ========\n",
      "======= HFWA 1998-07-28 ~ 2024-10-24 3285 / 7856 ========\n",
      "======= HG 2024-03-06 ~ 2024-11-06 3286 / 7856 ========\n",
      "HGAS not exist\n",
      "======= HGBL 1998-05-20 ~ 2024-11-07 3288 / 7856 ========\n"
     ]
    },
    {
     "name": "stderr",
     "output_type": "stream",
     "text": [
      "HGEN: No timezone found, symbol may be delisted\n"
     ]
    },
    {
     "name": "stdout",
     "output_type": "stream",
     "text": [
      "======= HGEN 2013-05-14 ~ 2023-08-11 3289 / 7856 ========\n",
      "HGH not exist\n",
      "HGSH not exist\n",
      "======= HGTY 2022-11-10 ~ 2024-11-07 3292 / 7856 ========\n",
      "======= HGV 2017-03-01 ~ 2024-11-07 3293 / 7856 ========\n"
     ]
    },
    {
     "name": "stderr",
     "output_type": "stream",
     "text": [
      "HHC: No timezone found, symbol may be delisted\n"
     ]
    },
    {
     "name": "stdout",
     "output_type": "stream",
     "text": [
      "======= HHC 2011-08-09 ~ 2023-11-01 3294 / 7856 ========\n",
      "HHGC not exist\n",
      "HHLA not exist\n"
     ]
    },
    {
     "name": "stderr",
     "output_type": "stream",
     "text": [
      "HHR: No timezone found, symbol may be delisted\n"
     ]
    },
    {
     "name": "stdout",
     "output_type": "stream",
     "text": [
      "======= HHR 2019-09-16 ~ 2022-03-04 3297 / 7856 ========\n"
     ]
    },
    {
     "name": "stderr",
     "output_type": "stream",
     "text": [
      "HHRS: No timezone found, symbol may be delisted\n"
     ]
    },
    {
     "name": "stdout",
     "output_type": "stream",
     "text": [
      "======= HHRS 2023-05-11 ~ 2023-11-06 3298 / 7856 ========\n",
      "======= HHS 1994-04-18 ~ 2024-08-08 3299 / 7856 ========\n",
      "======= HI 2008-11-25 ~ 2024-11-13 3300 / 7856 ========\n"
     ]
    },
    {
     "name": "stderr",
     "output_type": "stream",
     "text": [
      "HIBB: No data found, symbol may be delisted\n"
     ]
    },
    {
     "name": "stdout",
     "output_type": "stream",
     "text": [
      "======= HIBB 1996-11-25 ~ 2024-08-23 3301 / 7856 ========\n",
      "======= HIFS 2009-07-21 ~ 2010-04-19 3302 / 7856 ========\n",
      "======= HIG 1996-01-25 ~ 2024-10-24 3303 / 7856 ========\n",
      "HIGA not exist\n",
      "HIHO not exist\n",
      "======= HII 2011-05-11 ~ 2024-10-31 3306 / 7856 ========\n",
      "HIII not exist\n"
     ]
    },
    {
     "name": "stderr",
     "output_type": "stream",
     "text": [
      "HIL: No timezone found, symbol may be delisted\n"
     ]
    },
    {
     "name": "stdout",
     "output_type": "stream",
     "text": [
      "======= HIL 2006-11-13 ~ 2016-11-14 3308 / 7856 ========\n"
     ]
    },
    {
     "name": "stderr",
     "output_type": "stream",
     "text": [
      "HILS: No timezone found, symbol may be delisted\n"
     ]
    },
    {
     "name": "stdout",
     "output_type": "stream",
     "text": [
      "======= HILS 2023-05-22 ~ 2023-11-13 3309 / 7856 ========\n",
      "======= HIMS 2021-03-18 ~ 2024-11-04 3310 / 7856 ========\n",
      "======= HIMX 2006-08-09 ~ 2024-11-07 3311 / 7856 ========\n",
      "======= HIPO 2021-11-10 ~ 2024-11-08 3312 / 7856 ========\n",
      "======= HITI 2019-09-30 ~ 2024-09-16 3313 / 7856 ========\n",
      "======= HIVE 2019-03-01 ~ 2024-11-12 3314 / 7856 ========\n",
      "======= HIW 2001-11-08 ~ 2024-10-22 3315 / 7856 ========\n"
     ]
    },
    {
     "name": "stderr",
     "output_type": "stream",
     "text": [
      "HJLI: No timezone found, symbol may be delisted\n"
     ]
    },
    {
     "name": "stdout",
     "output_type": "stream",
     "text": [
      "======= HJLI 2019-10-31 ~ 2021-08-11 3316 / 7856 ========\n",
      "HJLIW not exist\n",
      "HKD not exist\n"
     ]
    },
    {
     "name": "stderr",
     "output_type": "stream",
     "text": [
      "HKIB: No timezone found, symbol may be delisted\n"
     ]
    },
    {
     "name": "stdout",
     "output_type": "stream",
     "text": [
      "======= HKIB 2019-12-31 ~ 2021-04-28 3319 / 7856 ========\n",
      "HKIT not exist\n",
      "======= HL 1993-02-09 ~ 2024-11-06 3321 / 7856 ========\n",
      "HLAH not exist\n"
     ]
    },
    {
     "name": "stderr",
     "output_type": "stream",
     "text": [
      "HLBZ: No timezone found, symbol may be delisted\n"
     ]
    },
    {
     "name": "stdout",
     "output_type": "stream",
     "text": [
      "======= HLBZ 2021-11-15 ~ 2021-11-15 3323 / 7856 ========\n",
      "HLBZW not exist\n",
      "======= HLF 2005-05-02 ~ 2024-10-30 3325 / 7856 ========\n",
      "HLG not exist\n",
      "======= HLGN 2022-05-23 ~ 2024-03-25 3327 / 7856 ========\n",
      "======= HLI 2015-11-03 ~ 2024-10-30 3328 / 7856 ========\n",
      "======= HLIO 1997-03-17 ~ 2024-11-05 3329 / 7856 ========\n",
      "======= HLIT 1995-07-24 ~ 2024-10-28 3330 / 7856 ========\n",
      "======= HLLY 2021-03-08 ~ 2024-11-08 3331 / 7856 ========\n",
      "======= HLMN 2021-05-11 ~ 2024-11-05 3332 / 7856 ========\n",
      "======= HLN 2022-06-30 ~ 2024-10-31 3333 / 7856 ========\n",
      "======= HLNE 2017-06-12 ~ 2024-11-06 3334 / 7856 ========\n",
      "HLP not exist\n",
      "======= HLT 2014-02-27 ~ 2024-10-23 3336 / 7856 ========\n"
     ]
    },
    {
     "name": "stderr",
     "output_type": "stream",
     "text": [
      "HLTH: No timezone found, symbol may be delisted\n"
     ]
    },
    {
     "name": "stdout",
     "output_type": "stream",
     "text": [
      "======= HLTH 2021-11-10 ~ 2024-05-13 3337 / 7856 ========\n",
      "======= HLVX 2022-06-08 ~ 2024-11-07 3338 / 7856 ========\n",
      "======= HLX 1998-02-19 ~ 2024-10-23 3339 / 7856 ========\n",
      "HLXA not exist\n",
      "HLXB not exist\n",
      "HMA not exist\n",
      "HMAC not exist\n",
      "======= HMC 1992-08-14 ~ 2024-11-06 3344 / 7856 ========\n",
      "HMCO not exist\n"
     ]
    },
    {
     "name": "stderr",
     "output_type": "stream",
     "text": [
      "HMHC: No timezone found, symbol may be delisted\n"
     ]
    },
    {
     "name": "stdout",
     "output_type": "stream",
     "text": [
      "======= HMHC 2014-05-08 ~ 2022-02-24 3346 / 7856 ========\n"
     ]
    },
    {
     "name": "stderr",
     "output_type": "stream",
     "text": [
      "HMLP: No timezone found, symbol may be delisted\n"
     ]
    },
    {
     "name": "stdout",
     "output_type": "stream",
     "text": [
      "======= HMLP 2014-11-25 ~ 2022-08-24 3347 / 7856 ========\n",
      "======= HMN 1993-02-05 ~ 2024-11-04 3348 / 7856 ========\n",
      "======= HMNF 1995-04-20 ~ 2009-01-23 3349 / 7856 ========\n"
     ]
    },
    {
     "name": "stderr",
     "output_type": "stream",
     "text": [
      "HMPT: No timezone found, symbol may be delisted\n"
     ]
    },
    {
     "name": "stdout",
     "output_type": "stream",
     "text": [
      "======= HMPT 2021-03-11 ~ 2023-08-10 3350 / 7856 ========\n",
      "======= HMST 2012-04-30 ~ 2024-10-29 3351 / 7856 ========\n"
     ]
    },
    {
     "name": "stderr",
     "output_type": "stream",
     "text": [
      "HMTV: No timezone found, symbol may be delisted\n"
     ]
    },
    {
     "name": "stdout",
     "output_type": "stream",
     "text": [
      "======= HMTV 2013-05-15 ~ 2022-07-28 3352 / 7856 ========\n",
      "======= HMY 1997-03-19 ~ 2022-09-01 3353 / 7856 ========\n"
     ]
    },
    {
     "name": "stderr",
     "output_type": "stream",
     "text": [
      "HNGR: No timezone found, symbol may be delisted\n"
     ]
    },
    {
     "name": "stdout",
     "output_type": "stream",
     "text": [
      "======= HNGR 1993-05-10 ~ 2022-08-08 3354 / 7856 ========\n",
      "======= HNI 1993-02-10 ~ 2024-10-29 3355 / 7856 ========\n",
      "======= HNNA 2017-12-04 ~ 2021-05-12 3356 / 7856 ========\n"
     ]
    },
    {
     "name": "stderr",
     "output_type": "stream",
     "text": [
      "HNP: No timezone found, symbol may be delisted\n"
     ]
    },
    {
     "name": "stdout",
     "output_type": "stream",
     "text": [
      "======= HNP 1995-03-30 ~ 1995-03-30 3357 / 7856 ========\n",
      "======= HNRG 2009-08-06 ~ 2024-11-12 3358 / 7856 ========\n",
      "======= HNST 2021-06-16 ~ 2024-11-12 3359 / 7856 ========\n",
      "======= HNVR 2022-07-27 ~ 2024-10-23 3360 / 7856 ========\n",
      "======= HOFT 2003-03-27 ~ 2024-12-05 3361 / 7856 ========\n",
      "======= HOFV 2021-03-10 ~ 2024-11-13 3362 / 7856 ========\n",
      "======= HOG 1993-02-20 ~ 2024-10-24 3363 / 7856 ========\n",
      "HOL not exist\n"
     ]
    },
    {
     "name": "stderr",
     "output_type": "stream",
     "text": [
      "HOLI: No timezone found, symbol may be delisted\n"
     ]
    },
    {
     "name": "stdout",
     "output_type": "stream",
     "text": [
      "======= HOLI 2008-12-04 ~ 2022-04-29 3365 / 7856 ========\n",
      "HOLO not exist\n",
      "======= HOLX 1994-08-01 ~ 2024-11-04 3367 / 7856 ========\n",
      "======= HOMB 2006-10-19 ~ 2024-10-16 3368 / 7856 ========\n"
     ]
    },
    {
     "name": "stderr",
     "output_type": "stream",
     "text": [
      "HOME: No timezone found, symbol may be delisted\n"
     ]
    },
    {
     "name": "stdout",
     "output_type": "stream",
     "text": [
      "======= HOME 2016-09-13 ~ 2021-06-02 3369 / 7856 ========\n",
      "======= HON 1993-02-03 ~ 2024-10-24 3370 / 7856 ========\n",
      "HONDU not exist\n",
      "======= HONE 2016-07-22 ~ 2024-10-24 3372 / 7856 ========\n",
      "======= HOOD 2021-10-26 ~ 2024-10-30 3373 / 7856 ========\n",
      "======= HOOK 2019-05-20 ~ 2024-08-08 3374 / 7856 ========\n",
      "======= HOPE 2001-10-10 ~ 2024-10-28 3375 / 7856 ========\n",
      "HORI not exist\n",
      "======= HOTH 2019-08-14 ~ 2024-11-12 3377 / 7856 ========\n",
      "======= HOUR 2022-04-01 ~ 2022-08-12 3378 / 7856 ========\n",
      "======= HOUS 2013-05-01 ~ 2024-11-07 3379 / 7856 ========\n",
      "======= HOV 1993-01-16 ~ 2019-12-05 3380 / 7856 ========\n",
      "HOVR not exist\n",
      "======= HOWL 2021-06-10 ~ 2024-11-07 3382 / 7856 ========\n",
      "======= HP 1993-04-29 ~ 2024-11-13 3383 / 7856 ========\n",
      "HPAI not exist\n",
      "HPAIW not exist\n",
      "HPCO not exist\n",
      "======= HPE 2015-11-24 ~ 2024-12-05 3387 / 7856 ========\n",
      "HPH not exist\n",
      "======= HPK 2021-08-09 ~ 2024-11-04 3389 / 7856 ========\n",
      "HPLT not exist\n",
      "======= HPP 2010-11-09 ~ 2024-08-07 3391 / 7856 ========\n",
      "======= HPQ 1993-02-17 ~ 2024-11-26 3392 / 7856 ========\n",
      "HPX not exist\n",
      "HQH not exist\n",
      "======= HQI 2008-05-13 ~ 2024-11-07 3395 / 7856 ========\n",
      "HQL not exist\n",
      "======= HQY 2014-09-09 ~ 2024-09-03 3397 / 7856 ========\n",
      "======= HR 2003-10-30 ~ 2024-10-30 3398 / 7856 ========\n",
      "======= HRB 1993-06-23 ~ 2024-11-07 3399 / 7856 ========\n"
     ]
    },
    {
     "name": "stderr",
     "output_type": "stream",
     "text": [
      "HRC: No timezone found, symbol may be delisted\n"
     ]
    },
    {
     "name": "stdout",
     "output_type": "stream",
     "text": [
      "======= HRC 1993-01-12 ~ 2021-11-05 3400 / 7856 ========\n",
      "======= HRI 2016-08-09 ~ 2024-10-22 3401 / 7856 ========\n",
      "======= HRL 1993-02-20 ~ 2024-12-04 3402 / 7856 ========\n",
      "======= HRMY 2020-11-12 ~ 2024-10-29 3403 / 7856 ========\n",
      "======= HROW 2010-08-12 ~ 2024-08-07 3404 / 7856 ========\n",
      "HROWM not exist\n"
     ]
    },
    {
     "name": "stderr",
     "output_type": "stream",
     "text": [
      "HRT: No timezone found, symbol may be delisted\n"
     ]
    },
    {
     "name": "stdout",
     "output_type": "stream",
     "text": [
      "======= HRT 2022-03-21 ~ 2024-05-07 3406 / 7856 ========\n",
      "======= HRTG 2014-08-04 ~ 2024-11-07 3407 / 7856 ========\n",
      "======= HRTX 1998-11-04 ~ 2024-08-06 3408 / 7856 ========\n",
      "HRYU not exist\n",
      "======= HRZN 2011-03-15 ~ 2024-10-29 3410 / 7856 ========\n",
      "======= HSAI 2023-03-15 ~ 2024-11-25 3411 / 7856 ========\n",
      "HSAQ not exist\n",
      "======= HSBC 2017-10-30 ~ 2024-10-29 3413 / 7856 ========\n"
     ]
    },
    {
     "name": "stderr",
     "output_type": "stream",
     "text": [
      "HSC: No timezone found, symbol may be delisted\n"
     ]
    },
    {
     "name": "stdout",
     "output_type": "stream",
     "text": [
      "======= HSC 1993-02-08 ~ 2023-08-01 3414 / 7856 ========\n",
      "======= HSCS 2022-12-15 ~ 2024-09-12 3415 / 7856 ========\n",
      "======= HSDT 2014-11-15 ~ 2024-11-12 3416 / 7856 ========\n"
     ]
    },
    {
     "name": "stderr",
     "output_type": "stream",
     "text": [
      "HSHP: No price data found, symbol may be delisted (1d 2024-11-07 -> 2024-11-07)\n"
     ]
    },
    {
     "name": "stdout",
     "output_type": "stream",
     "text": [
      "======= HSHP 2024-11-07 ~ 2024-11-07 3417 / 7856 ========\n",
      "======= HSIC 1996-05-06 ~ 2024-11-05 3418 / 7856 ========\n",
      "======= HSII 1999-08-05 ~ 2024-11-04 3419 / 7856 ========\n"
     ]
    },
    {
     "name": "stderr",
     "output_type": "stream",
     "text": [
      "HSKA: No timezone found, symbol may be delisted\n"
     ]
    },
    {
     "name": "stdout",
     "output_type": "stream",
     "text": [
      "======= HSKA 1998-01-26 ~ 2023-05-05 3420 / 7856 ========\n",
      "======= HSON 2003-07-29 ~ 2024-11-12 3421 / 7856 ========\n",
      "HSPO not exist\n",
      "HSPTU not exist\n",
      "======= HST 1994-10-21 ~ 2024-11-06 3424 / 7856 ========\n",
      "======= HSTM 2000-08-08 ~ 2024-10-21 3425 / 7856 ========\n",
      "======= HSTO 2013-11-14 ~ 2023-08-10 3426 / 7856 ========\n",
      "======= HSY 1993-01-26 ~ 2024-11-07 3427 / 7856 ========\n"
     ]
    },
    {
     "name": "stderr",
     "output_type": "stream",
     "text": [
      "HT: No timezone found, symbol may be delisted\n"
     ]
    },
    {
     "name": "stdout",
     "output_type": "stream",
     "text": [
      "======= HT 2004-11-08 ~ 2023-11-09 3428 / 7856 ========\n"
     ]
    },
    {
     "name": "stderr",
     "output_type": "stream",
     "text": [
      "HTA: No timezone found, symbol may be delisted\n"
     ]
    },
    {
     "name": "stdout",
     "output_type": "stream",
     "text": [
      "======= HTA 2012-11-07 ~ 2022-08-02 3429 / 7856 ========\n",
      "HTAQ not exist\n",
      "======= HTBI 2013-01-29 ~ 2024-10-24 3431 / 7856 ========\n",
      "======= HTBK 2002-07-23 ~ 2024-10-24 3432 / 7856 ========\n",
      "HTCO not exist\n",
      "======= HTCR 2023-03-13 ~ 2024-11-14 3434 / 7856 ========\n",
      "HTFB not exist\n",
      "HTFC not exist\n",
      "======= HTGC 2005-08-03 ~ 2024-10-30 3437 / 7856 ========\n"
     ]
    },
    {
     "name": "stderr",
     "output_type": "stream",
     "text": [
      "HTGM: No timezone found, symbol may be delisted\n"
     ]
    },
    {
     "name": "stdout",
     "output_type": "stream",
     "text": [
      "======= HTGM 2015-08-06 ~ 2023-05-10 3438 / 7856 ========\n",
      "======= HTH 2004-05-04 ~ 2024-10-24 3439 / 7856 ========\n",
      "======= HTHT 2010-07-29 ~ 2024-11-26 3440 / 7856 ========\n",
      "HTIA not exist\n",
      "======= HTLD 1993-01-27 ~ 2024-10-29 3442 / 7856 ========\n",
      "======= HTLF 2000-12-29 ~ 2024-10-29 3443 / 7856 ========\n",
      "HTLM not exist\n",
      "======= HTOO 2021-08-17 ~ 2024-08-13 3445 / 7856 ========\n"
     ]
    },
    {
     "name": "stderr",
     "output_type": "stream",
     "text": [
      "HTPA: No timezone found, symbol may be delisted\n"
     ]
    },
    {
     "name": "stdout",
     "output_type": "stream",
     "text": [
      "======= HTPA 2022-04-04 ~ 2022-04-04 3446 / 7856 ========\n",
      "======= HTZ 2007-04-26 ~ 2024-08-01 3447 / 7856 ========\n",
      "HUAK not exist\n",
      "======= HUBB 1993-01-26 ~ 2024-10-29 3449 / 7856 ========\n",
      "HUBC not exist\n",
      "======= HUBG 1996-07-23 ~ 2024-10-30 3451 / 7856 ========\n",
      "======= HUBS 2015-02-11 ~ 2024-11-06 3452 / 7856 ========\n",
      "HUDA not exist\n",
      "HUDI not exist\n"
     ]
    },
    {
     "name": "stderr",
     "output_type": "stream",
     "text": [
      "HUGE: No timezone found, symbol may be delisted\n"
     ]
    },
    {
     "name": "stdout",
     "output_type": "stream",
     "text": [
      "======= HUGE 2019-11-29 ~ 2024-08-14 3455 / 7856 ========\n",
      "HUGS not exist\n",
      "HUHU not exist\n",
      "HUIZ not exist\n",
      "======= HUM 1993-03-20 ~ 2024-10-30 3459 / 7856 ========\n",
      "======= HUMA 2021-05-17 ~ 2024-11-08 3460 / 7856 ========\n",
      "======= HUN 2005-05-03 ~ 2024-11-04 3461 / 7856 ========\n",
      "======= HURA 2022-12-30 ~ 2024-11-14 3462 / 7856 ========\n",
      "======= HURC 1993-02-22 ~ 2014-09-05 3463 / 7856 ========\n",
      "======= HURN 2005-02-16 ~ 2024-10-29 3464 / 7856 ========\n",
      "HUSN not exist\n",
      "======= HUT 2021-03-25 ~ 2024-08-13 3466 / 7856 ========\n",
      "======= HUYA 2018-08-13 ~ 2024-11-12 3467 / 7856 ========\n",
      "HVBC not exist\n",
      "HVBT not exist\n",
      "======= HVT 1993-02-10 ~ 2024-10-30 3470 / 7856 ========\n",
      "======= HWBK 2009-11-05 ~ 2010-11-08 3471 / 7856 ========\n",
      "======= HWC 1993-01-18 ~ 2024-10-15 3472 / 7856 ========\n"
     ]
    },
    {
     "name": "stderr",
     "output_type": "stream",
     "text": [
      "HWCC: No timezone found, symbol may be delisted\n"
     ]
    },
    {
     "name": "stdout",
     "output_type": "stream",
     "text": [
      "======= HWCC 2006-08-14 ~ 2018-03-16 3473 / 7856 ========\n",
      "HWEL not exist\n",
      "HWH not exist\n",
      "======= HWKN 2009-07-30 ~ 2024-10-30 3476 / 7856 ========\n",
      "HWKZ not exist\n",
      "======= HWM 1993-01-12 ~ 2024-11-06 3478 / 7856 ========\n"
     ]
    },
    {
     "name": "stderr",
     "output_type": "stream",
     "text": [
      "HX: No timezone found, symbol may be delisted\n"
     ]
    },
    {
     "name": "stdout",
     "output_type": "stream",
     "text": [
      "======= HX 2018-02-13 ~ 2018-06-15 3479 / 7856 ========\n",
      "======= HXL 1993-02-23 ~ 2024-10-21 3480 / 7856 ========\n",
      "======= HY 2012-11-02 ~ 2024-11-05 3481 / 7856 ========\n",
      "HYAC not exist\n",
      "======= HYFM 2021-03-30 ~ 2024-11-07 3483 / 7856 ========\n",
      "======= HYLN 2020-11-12 ~ 2024-11-14 3484 / 7856 ========\n",
      "======= HYMC 2020-11-09 ~ 2024-11-04 3485 / 7856 ========\n",
      "======= HYPR 2022-05-11 ~ 2024-08-08 3486 / 7856 ========\n"
     ]
    },
    {
     "name": "stderr",
     "output_type": "stream",
     "text": [
      "HYRE: No timezone found, symbol may be delisted\n"
     ]
    },
    {
     "name": "stdout",
     "output_type": "stream",
     "text": [
      "======= HYRE 2019-03-28 ~ 2022-11-14 3487 / 7856 ========\n",
      "HYW not exist\n",
      "======= HYZN 2021-08-11 ~ 2024-08-13 3489 / 7856 ========\n",
      "HZAC not exist\n"
     ]
    },
    {
     "name": "stderr",
     "output_type": "stream",
     "text": [
      "HZN: No timezone found, symbol may be delisted\n"
     ]
    },
    {
     "name": "stdout",
     "output_type": "stream",
     "text": [
      "======= HZN 2015-08-10 ~ 2020-05-18 3491 / 7856 ========\n"
     ]
    },
    {
     "name": "stderr",
     "output_type": "stream",
     "text": [
      "HZNP: Period '1mo' is invalid, must be one of ['1d', '5d']\n"
     ]
    },
    {
     "name": "stdout",
     "output_type": "stream",
     "text": [
      "======= HZNP 2011-11-14 ~ 2023-11-01 3492 / 7856 ========\n",
      "======= HZO 1998-10-29 ~ 2024-10-31 3493 / 7856 ========\n",
      "HZON not exist\n"
     ]
    },
    {
     "name": "stderr",
     "output_type": "stream",
     "text": [
      "IAA: No timezone found, symbol may be delisted\n"
     ]
    },
    {
     "name": "stdout",
     "output_type": "stream",
     "text": [
      "======= IAA 2019-08-13 ~ 2023-02-21 3495 / 7856 ========\n",
      "======= IAC 1997-05-05 ~ 2024-11-11 3496 / 7856 ========\n",
      "IACA not exist\n",
      "IACC not exist\n",
      "======= IAG 1998-11-05 ~ 2024-11-08 3499 / 7856 ========\n",
      "======= IART 1996-03-06 ~ 2024-11-04 3500 / 7856 ========\n",
      "======= IAS 2021-08-12 ~ 2024-11-12 3501 / 7856 ========\n"
     ]
    },
    {
     "name": "stderr",
     "output_type": "stream",
     "text": [
      "IBA: No timezone found, symbol may be delisted\n"
     ]
    },
    {
     "name": "stdout",
     "output_type": "stream",
     "text": [
      "======= IBA 2000-08-28 ~ 2023-05-12 3502 / 7856 ========\n",
      "IBAC not exist\n",
      "======= IBCP 1994-04-12 ~ 2024-10-24 3504 / 7856 ========\n",
      "IBER not exist\n",
      "======= IBEX 2020-09-24 ~ 2024-11-07 3506 / 7856 ========\n",
      "IBG not exist\n",
      "======= IBKR 2007-07-26 ~ 2024-10-15 3508 / 7856 ========\n",
      "IBLUU not exist\n",
      "======= IBM 1993-04-20 ~ 2024-10-23 3510 / 7856 ========\n",
      "======= IBN 2013-10-25 ~ 2024-10-26 3511 / 7856 ========\n",
      "======= IBOC 2001-10-25 ~ 2013-08-05 3512 / 7856 ========\n",
      "======= IBP 2014-05-13 ~ 2024-11-07 3513 / 7856 ========\n",
      "======= IBRX 2015-09-10 ~ 2024-08-12 3514 / 7856 ========\n",
      "======= IBTA 2024-05-30 ~ 2024-11-13 3515 / 7856 ========\n",
      "======= IBTX 2013-07-30 ~ 2024-10-21 3516 / 7856 ========\n",
      "======= ICAD 1993-04-21 ~ 2024-08-13 3517 / 7856 ========\n"
     ]
    },
    {
     "name": "stderr",
     "output_type": "stream",
     "text": [
      "ICBK: No timezone found, symbol may be delisted\n"
     ]
    },
    {
     "name": "stdout",
     "output_type": "stream",
     "text": [
      "======= ICBK 2015-04-22 ~ 2021-10-21 3518 / 7856 ========\n",
      "======= ICCC 2020-08-12 ~ 2021-05-13 3519 / 7856 ========\n",
      "ICCH not exist\n",
      "======= ICCM 2022-08-15 ~ 2024-08-20 3521 / 7856 ========\n"
     ]
    },
    {
     "name": "stderr",
     "output_type": "stream",
     "text": [
      "ICD: No data found, symbol may be delisted\n"
     ]
    },
    {
     "name": "stdout",
     "output_type": "stream",
     "text": [
      "======= ICD 2014-11-10 ~ 2024-08-07 3522 / 7856 ========\n",
      "======= ICE 2006-02-23 ~ 2024-10-31 3523 / 7856 ========\n",
      "======= ICFI 2007-05-14 ~ 2024-10-31 3524 / 7856 ========\n",
      "======= ICG 2024-05-16 ~ 2024-11-20 3525 / 7856 ========\n",
      "======= ICHR 2017-02-09 ~ 2024-11-04 3526 / 7856 ========\n",
      "======= ICL 2009-03-30 ~ 2024-11-11 3527 / 7856 ========\n",
      "======= ICLK 2018-03-28 ~ 2023-12-13 3528 / 7856 ========\n",
      "======= ICLR 1998-10-01 ~ 2024-10-23 3529 / 7856 ========\n",
      "======= ICMB 2014-05-14 ~ 2024-11-12 3530 / 7856 ========\n",
      "ICNC not exist\n",
      "======= ICON 1997-11-24 ~ 2024-11-11 3532 / 7856 ========\n"
     ]
    },
    {
     "name": "stderr",
     "output_type": "stream",
     "text": [
      "ICPT: No timezone found, symbol may be delisted\n"
     ]
    },
    {
     "name": "stdout",
     "output_type": "stream",
     "text": [
      "======= ICPT 2013-03-18 ~ 2023-11-07 3533 / 7856 ========\n",
      "ICR not exist\n",
      "======= ICU 2023-05-15 ~ 2024-11-13 3535 / 7856 ========\n",
      "======= ICUI 1993-01-19 ~ 2024-11-12 3536 / 7856 ========\n"
     ]
    },
    {
     "name": "stderr",
     "output_type": "stream",
     "text": [
      "ICVX: No timezone found, symbol may be delisted\n"
     ]
    },
    {
     "name": "stdout",
     "output_type": "stream",
     "text": [
      "======= ICVX 2021-09-13 ~ 2023-11-14 3537 / 7856 ========\n",
      "======= IDA 1993-01-29 ~ 2024-10-31 3538 / 7856 ========\n",
      "======= IDAI 2022-11-10 ~ 2024-11-15 3539 / 7856 ========\n"
     ]
    },
    {
     "name": "stderr",
     "output_type": "stream",
     "text": [
      "IDBA: No timezone found, symbol may be delisted\n"
     ]
    },
    {
     "name": "stdout",
     "output_type": "stream",
     "text": [
      "======= IDBA 2021-08-12 ~ 2023-08-10 3540 / 7856 ========\n",
      "======= IDCC 1994-05-16 ~ 2024-10-31 3541 / 7856 ========\n",
      "======= IDEX 2013-04-08 ~ 2021-11-23 3542 / 7856 ========\n",
      "======= IDN 2007-05-10 ~ 2024-08-08 3543 / 7856 ========\n"
     ]
    },
    {
     "name": "stderr",
     "output_type": "stream",
     "text": [
      "IDRA: No timezone found, symbol may be delisted\n"
     ]
    },
    {
     "name": "stdout",
     "output_type": "stream",
     "text": [
      "======= IDRA 1997-03-12 ~ 2022-03-31 3544 / 7856 ========\n",
      "======= IDT 1996-05-16 ~ 2015-06-04 3545 / 7856 ========\n",
      "======= IDXX 1993-07-23 ~ 2024-10-31 3546 / 7856 ========\n",
      "======= IDYA 2019-08-12 ~ 2024-11-04 3547 / 7856 ========\n"
     ]
    },
    {
     "name": "stderr",
     "output_type": "stream",
     "text": [
      "IEA: No timezone found, symbol may be delisted\n"
     ]
    },
    {
     "name": "stdout",
     "output_type": "stream",
     "text": [
      "======= IEA 2018-05-10 ~ 2022-08-04 3548 / 7856 ========\n",
      "======= IEP 2013-05-03 ~ 2024-11-08 3549 / 7856 ========\n",
      "======= IESC 1998-08-12 ~ 2010-08-09 3550 / 7856 ========\n",
      "======= IEX 1993-01-19 ~ 2024-10-29 3551 / 7856 ========\n",
      "IFBD not exist\n",
      "======= IFF 1993-02-08 ~ 2024-11-05 3553 / 7856 ========\n",
      "IFFT not exist\n",
      "IFIN not exist\n",
      "IFIT not exist\n",
      "======= IFRX 2017-12-21 ~ 2024-11-08 3557 / 7856 ========\n",
      "======= IFS 2014-11-10 ~ 2024-08-14 3558 / 7856 ========\n",
      "IGAC not exist\n",
      "IGAP not exist\n",
      "======= IGIC 2020-08-13 ~ 2024-11-05 3561 / 7856 ========\n",
      "======= IGMS 2019-11-07 ~ 2024-11-08 3562 / 7856 ========\n",
      "IGNY not exist\n",
      "======= IGT 2015-05-13 ~ 2024-11-12 3564 / 7856 ========\n",
      "IGTA not exist\n",
      "IGZ not exist\n",
      "IH not exist\n"
     ]
    },
    {
     "name": "stderr",
     "output_type": "stream",
     "text": [
      "IHC: No timezone found, symbol may be delisted\n"
     ]
    },
    {
     "name": "stdout",
     "output_type": "stream",
     "text": [
      "======= IHC 2000-08-01 ~ 2008-08-11 3568 / 7856 ========\n",
      "======= IHG 2005-09-08 ~ 2024-08-06 3569 / 7856 ========\n",
      "======= IHRT 2011-02-07 ~ 2024-11-07 3570 / 7856 ========\n",
      "======= IHS 2021-11-16 ~ 2024-11-12 3571 / 7856 ========\n",
      "IIAC not exist\n",
      "======= III 2010-03-03 ~ 2024-11-08 3573 / 7856 ========\n",
      "IIII not exist\n",
      "======= IIIN 1993-01-22 ~ 2024-10-17 3575 / 7856 ========\n",
      "======= IIIV 2018-08-09 ~ 2024-11-18 3576 / 7856 ========\n"
     ]
    },
    {
     "name": "stderr",
     "output_type": "stream",
     "text": [
      "IIN: No timezone found, symbol may be delisted\n"
     ]
    },
    {
     "name": "stdout",
     "output_type": "stream",
     "text": [
      "======= IIN 2014-10-29 ~ 2022-05-09 3577 / 7856 ========\n",
      "======= IINN 2023-04-04 ~ 2023-11-16 3578 / 7856 ========\n",
      "======= IIPR 2017-11-08 ~ 2024-11-06 3579 / 7856 ========\n"
     ]
    },
    {
     "name": "stderr",
     "output_type": "stream",
     "text": [
      "IIVI: No timezone found, symbol may be delisted\n"
     ]
    },
    {
     "name": "stdout",
     "output_type": "stream",
     "text": [
      "======= IIVI 1995-10-16 ~ 2022-08-24 3580 / 7856 ========\n",
      "======= IKNA 2021-05-13 ~ 2024-11-07 3581 / 7856 ========\n",
      "IKNX not exist\n",
      "======= IKT 2021-08-16 ~ 2024-08-14 3583 / 7856 ========\n",
      "ILAG not exist\n",
      "ILLR not exist\n",
      "ILLRW not exist\n",
      "======= ILMN 2000-10-12 ~ 2024-11-04 3587 / 7856 ========\n",
      "ILMNV not exist\n",
      "======= ILPT 2018-04-27 ~ 2024-10-29 3589 / 7856 ========\n",
      "======= IMAB 2020-08-31 ~ 2024-11-14 3590 / 7856 ========\n"
     ]
    },
    {
     "name": "stderr",
     "output_type": "stream",
     "text": [
      "IMAC: No timezone found, symbol may be delisted\n"
     ]
    },
    {
     "name": "stdout",
     "output_type": "stream",
     "text": [
      "======= IMAC 2020-03-26 ~ 2022-05-12 3591 / 7856 ========\n",
      "IMAQ not exist\n",
      "======= IMAX 1994-12-27 ~ 2024-10-30 3593 / 7856 ========\n"
     ]
    },
    {
     "name": "stderr",
     "output_type": "stream",
     "text": [
      "IMBI: No timezone found, symbol may be delisted\n"
     ]
    },
    {
     "name": "stdout",
     "output_type": "stream",
     "text": [
      "======= IMBI 1994-03-11 ~ 2023-07-04 3594 / 7856 ========\n",
      "======= IMCC 2021-08-16 ~ 2024-08-14 3595 / 7856 ========\n",
      "IMCIW not exist\n",
      "======= IMCR 2021-03-25 ~ 2024-11-06 3597 / 7856 ========\n",
      "======= IMG 2024-01-17 ~ 2024-08-20 3598 / 7856 ========\n"
     ]
    },
    {
     "name": "stderr",
     "output_type": "stream",
     "text": [
      "IMGN: No timezone found, symbol may be delisted\n"
     ]
    },
    {
     "name": "stdout",
     "output_type": "stream",
     "text": [
      "======= IMGN 1993-04-27 ~ 2024-03-06 3599 / 7856 ========\n"
     ]
    },
    {
     "name": "stderr",
     "output_type": "stream",
     "text": [
      "IMGO: No timezone found, symbol may be delisted\n"
     ]
    },
    {
     "name": "stdout",
     "output_type": "stream",
     "text": [
      "======= IMGO 2021-08-19 ~ 2022-11-09 3600 / 7856 ========\n",
      "======= IMKTA 1993-02-08 ~ 2010-07-30 3601 / 7856 ========\n",
      "======= IMMP 2017-02-24 ~ 2022-02-22 3602 / 7856 ========\n",
      "======= IMMR 2000-02-07 ~ 2024-12-09 3603 / 7856 ========\n",
      "======= IMMX 2023-03-27 ~ 2024-08-12 3604 / 7856 ========\n",
      "======= IMNM 2020-11-16 ~ 2024-08-12 3605 / 7856 ========\n",
      "======= IMNN 2000-10-01 ~ 2024-11-07 3606 / 7856 ========\n",
      "======= IMOS 2012-11-20 ~ 2018-08-09 3607 / 7856 ========\n"
     ]
    },
    {
     "name": "stderr",
     "output_type": "stream",
     "text": [
      "IMPL: No timezone found, symbol may be delisted\n"
     ]
    },
    {
     "name": "stdout",
     "output_type": "stream",
     "text": [
      "======= IMPL 2021-06-07 ~ 2023-11-14 3608 / 7856 ========\n",
      "======= IMPP 2024-05-16 ~ 2024-12-02 3609 / 7856 ========\n",
      "IMPTV not exist\n",
      "IMPX not exist\n"
     ]
    },
    {
     "name": "stderr",
     "output_type": "stream",
     "text": [
      "IMRA: No timezone found, symbol may be delisted\n"
     ]
    },
    {
     "name": "stdout",
     "output_type": "stream",
     "text": [
      "======= IMRA 2020-05-07 ~ 2022-10-25 3612 / 7856 ========\n",
      "IMRN not exist\n",
      "IMRNW not exist\n",
      "======= IMRX 2021-09-09 ~ 2024-11-13 3615 / 7856 ========\n",
      "IMTE not exist\n",
      "======= IMTX 2020-09-03 ~ 2024-08-13 3617 / 7856 ========\n",
      "======= IMUX 2014-08-06 ~ 2024-11-07 3618 / 7856 ========\n"
     ]
    },
    {
     "name": "stderr",
     "output_type": "stream",
     "text": [
      "IMV: No timezone found, symbol may be delisted\n"
     ]
    },
    {
     "name": "stdout",
     "output_type": "stream",
     "text": [
      "======= IMV 2011-06-22 ~ 2023-05-12 3619 / 7856 ========\n",
      "======= IMVT 2020-02-14 ~ 2024-11-07 3620 / 7856 ========\n",
      "======= IMXI 2018-08-09 ~ 2024-11-08 3621 / 7856 ========\n",
      "======= INAB 2021-09-10 ~ 2024-11-12 3622 / 7856 ========\n",
      "INAQ not exist\n",
      "======= INBK 2014-01-29 ~ 2024-10-23 3624 / 7856 ========\n",
      "INBKL not exist\n",
      "======= INBS 2022-02-10 ~ 2024-11-07 3626 / 7856 ========\n",
      "======= INBX 2020-11-13 ~ 2024-11-14 3627 / 7856 ========\n",
      "INBXV not exist\n",
      "======= INCR 2021-08-16 ~ 2023-08-31 3629 / 7856 ========\n",
      "======= INCY 1995-04-27 ~ 2024-10-29 3630 / 7856 ========\n",
      "======= INDB 1993-07-16 ~ 2024-10-17 3631 / 7856 ========\n",
      "======= INDI 2021-05-17 ~ 2024-11-07 3632 / 7856 ========\n",
      "======= INDP 2015-11-05 ~ 2024-11-12 3633 / 7856 ========\n",
      "======= INDV 2023-07-27 ~ 2024-10-24 3634 / 7856 ========\n",
      "INEQ not exist\n",
      "======= INFA 2021-11-30 ~ 2024-10-30 3636 / 7856 ========\n"
     ]
    },
    {
     "name": "stderr",
     "output_type": "stream",
     "text": [
      "INFI: No data found, symbol may be delisted\n"
     ]
    },
    {
     "name": "stdout",
     "output_type": "stream",
     "text": [
      "======= INFI 2000-10-31 ~ 2023-08-08 3637 / 7856 ========\n",
      "======= INFN 2007-07-31 ~ 2024-11-05 3638 / 7856 ========\n"
     ]
    },
    {
     "name": "stderr",
     "output_type": "stream",
     "text": [
      "INFO: Data doesn't exist for startDate = 1407902400, endDate = 1642741200\n"
     ]
    },
    {
     "name": "stdout",
     "output_type": "stream",
     "text": [
      "======= INFO 2014-08-13 ~ 2022-01-21 3639 / 7856 ========\n",
      "======= INFY 2000-10-10 ~ 2024-10-17 3640 / 7856 ========\n",
      "======= ING 2013-11-05 ~ 2024-10-31 3641 / 7856 ========\n"
     ]
    },
    {
     "name": "stderr",
     "output_type": "stream",
     "text": [
      "INGM: No price data found, symbol may be delisted (1d 2024-11-12 -> 2024-11-12)\n"
     ]
    },
    {
     "name": "stdout",
     "output_type": "stream",
     "text": [
      "======= INGM 2024-11-12 ~ 2024-11-12 3642 / 7856 ========\n",
      "======= INGN 2014-05-13 ~ 2024-11-07 3643 / 7856 ========\n",
      "======= INGR 1998-05-13 ~ 2024-11-05 3644 / 7856 ========\n",
      "INHD not exist\n",
      "INKA not exist\n",
      "======= INKT 2021-11-29 ~ 2024-11-14 3647 / 7856 ========\n",
      "======= INM 2019-05-15 ~ 2023-02-17 3648 / 7856 ========\n",
      "======= INMB 2019-05-15 ~ 2024-10-31 3649 / 7856 ========\n",
      "======= INMD 2019-11-05 ~ 2024-10-30 3650 / 7856 ========\n",
      "======= INN 2011-05-16 ~ 2024-11-04 3651 / 7856 ========\n",
      "======= INNV 2015-03-31 ~ 2024-11-05 3652 / 7856 ========\n",
      "======= INO 2004-05-15 ~ 2024-11-14 3653 / 7856 ========\n",
      "======= INOD 2004-11-11 ~ 2024-11-07 3654 / 7856 ========\n"
     ]
    },
    {
     "name": "stderr",
     "output_type": "stream",
     "text": [
      "INOV: Data doesn't exist for startDate = 1427256000, endDate = 1636434000\n"
     ]
    },
    {
     "name": "stdout",
     "output_type": "stream",
     "text": [
      "======= INOV 2015-03-25 ~ 2021-11-09 3655 / 7856 ========\n"
     ]
    },
    {
     "name": "stderr",
     "output_type": "stream",
     "text": [
      "INPX: No timezone found, symbol may be delisted\n"
     ]
    },
    {
     "name": "stdout",
     "output_type": "stream",
     "text": [
      "======= INPX 2014-05-15 ~ 2017-08-21 3656 / 7856 ========\n",
      "======= INSE 2018-05-09 ~ 2024-11-07 3657 / 7856 ========\n",
      "======= INSG 2001-04-24 ~ 2024-08-07 3658 / 7856 ========\n",
      "======= INSM 2001-02-01 ~ 2024-10-31 3659 / 7856 ========\n",
      "======= INSP 2018-08-07 ~ 2024-11-04 3660 / 7856 ========\n",
      "======= INST 2016-02-09 ~ 2024-11-08 3661 / 7856 ========\n",
      "======= INSW 2017-03-29 ~ 2024-11-07 3662 / 7856 ========\n"
     ]
    },
    {
     "name": "stderr",
     "output_type": "stream",
     "text": [
      "INT: No timezone found, symbol may be delisted\n"
     ]
    },
    {
     "name": "stdout",
     "output_type": "stream",
     "text": [
      "======= INT 1993-05-28 ~ 2023-07-27 3663 / 7856 ========\n",
      "======= INTA 2021-09-08 ~ 2024-11-04 3664 / 7856 ========\n",
      "======= INTC 1993-01-13 ~ 2024-10-31 3665 / 7856 ========\n",
      "INTE not exist\n",
      "INTG not exist\n",
      "INTJ not exist\n",
      "======= INTR 2022-11-08 ~ 2024-08-07 3669 / 7856 ========\n",
      "======= INTS 2023-08-14 ~ 2024-08-08 3670 / 7856 ========\n",
      "======= INTU 1994-04-28 ~ 2024-11-21 3671 / 7856 ========\n",
      "======= INTZ 1993-02-17 ~ 2024-08-13 3672 / 7856 ========\n",
      "======= INVA 2005-02-16 ~ 2024-11-06 3673 / 7856 ========\n",
      "======= INVE 1998-04-23 ~ 2024-11-07 3674 / 7856 ========\n",
      "======= INVH 2017-05-11 ~ 2024-10-30 3675 / 7856 ========\n",
      "======= INVO 2010-08-20 ~ 2024-08-14 3676 / 7856 ========\n"
     ]
    },
    {
     "name": "stderr",
     "output_type": "stream",
     "text": [
      "INVX: No price data found, symbol may be delisted (1d 2024-11-07 -> 2024-11-07)\n"
     ]
    },
    {
     "name": "stdout",
     "output_type": "stream",
     "text": [
      "======= INVX 2024-11-07 ~ 2024-11-07 3677 / 7856 ========\n",
      "======= INVZ 2021-08-11 ~ 2024-08-07 3678 / 7856 ========\n",
      "INXB not exist\n",
      "INXBV not exist\n",
      "======= INZY 2020-09-03 ~ 2024-11-05 3681 / 7856 ========\n"
     ]
    },
    {
     "name": "stderr",
     "output_type": "stream",
     "text": [
      "IO: No timezone found, symbol may be delisted\n"
     ]
    },
    {
     "name": "stdout",
     "output_type": "stream",
     "text": [
      "======= IO 1993-03-10 ~ 2021-11-03 3682 / 7856 ========\n",
      "IOAC not exist\n",
      "======= IOBT 2021-12-17 ~ 2024-11-12 3684 / 7856 ========\n",
      "======= IONM 2020-07-14 ~ 2023-12-21 3685 / 7856 ========\n",
      "======= IONQ 2021-11-15 ~ 2024-11-06 3686 / 7856 ========\n"
     ]
    },
    {
     "name": "stderr",
     "output_type": "stream",
     "text": [
      "IONR: No price data found, symbol may be delisted (1d 2024-09-17 -> 2024-09-17)\n"
     ]
    },
    {
     "name": "stdout",
     "output_type": "stream",
     "text": [
      "======= IONR 2024-09-17 ~ 2024-09-17 3687 / 7856 ========\n",
      "======= IONS 1993-04-30 ~ 2024-11-06 3688 / 7856 ========\n",
      "======= IOSP 1998-07-27 ~ 2024-11-05 3689 / 7856 ========\n",
      "======= IOT 2022-03-02 ~ 2024-12-05 3690 / 7856 ========\n",
      "======= IOVA 2014-03-28 ~ 2024-11-07 3691 / 7856 ========\n",
      "======= IP 1993-01-12 ~ 2024-10-31 3692 / 7856 ========\n",
      "======= IPA 2018-12-28 ~ 2024-09-16 3693 / 7856 ========\n",
      "======= IPAR 1993-03-16 ~ 2024-11-06 3694 / 7856 ========\n",
      "IPAX not exist\n",
      "======= IPDN 2013-11-14 ~ 2016-08-15 3696 / 7856 ========\n",
      "======= IPG 1993-02-16 ~ 2024-10-22 3697 / 7856 ========\n",
      "======= IPGP 2007-05-08 ~ 2024-10-29 3698 / 7856 ========\n"
     ]
    },
    {
     "name": "stderr",
     "output_type": "stream",
     "text": [
      "IPHA: No price data found, symbol may be delisted (1d 2020-03-10 -> 2020-03-10)\n"
     ]
    },
    {
     "name": "stdout",
     "output_type": "stream",
     "text": [
      "======= IPHA 2020-03-10 ~ 2020-03-10 3699 / 7856 ========\n",
      "======= IPI 2008-08-13 ~ 2024-11-04 3700 / 7856 ========\n",
      "IPLDP not exist\n",
      "IPOBU not exist\n",
      "IPOCU not exist\n",
      "IPOD not exist\n",
      "IPOF not exist\n",
      "======= IPSC 2021-08-12 ~ 2024-11-05 3706 / 7856 ========\n",
      "IPVA not exist\n",
      "IPVF not exist\n",
      "IPVI not exist\n",
      "======= IPW 2021-06-24 ~ 2024-11-14 3710 / 7856 ========\n",
      "======= IPWR 2014-08-13 ~ 2024-11-14 3711 / 7856 ========\n",
      "======= IPX 2022-09-30 ~ 2024-09-26 3712 / 7856 ========\n",
      "IPXX not exist\n",
      "======= IQ 2018-07-31 ~ 2024-11-21 3714 / 7856 ========\n",
      "IQMD not exist\n",
      "======= IQV 2013-08-01 ~ 2024-10-31 3716 / 7856 ========\n",
      "======= IR 2017-08-02 ~ 2024-10-31 3717 / 7856 ========\n",
      "IRAA not exist\n",
      "======= IRBT 2006-02-14 ~ 2024-11-06 3719 / 7856 ========\n"
     ]
    },
    {
     "name": "stderr",
     "output_type": "stream",
     "text": [
      "IRCP: No timezone found, symbol may be delisted\n"
     ]
    },
    {
     "name": "stdout",
     "output_type": "stream",
     "text": [
      "======= IRCP 2017-11-07 ~ 2020-06-16 3720 / 7856 ========\n"
     ]
    },
    {
     "name": "stderr",
     "output_type": "stream",
     "text": [
      "IRD: No price data found, symbol may be delisted (1d 2024-08-13 -> 2024-08-13)\n"
     ]
    },
    {
     "name": "stdout",
     "output_type": "stream",
     "text": [
      "======= IRD 2024-08-13 ~ 2024-08-13 3721 / 7856 ========\n",
      "======= IRDM 2009-11-16 ~ 2024-10-17 3722 / 7856 ========\n",
      "======= IREN 2022-02-09 ~ 2024-08-28 3723 / 7856 ========\n",
      "======= IRIX 1996-04-25 ~ 2024-08-08 3724 / 7856 ========\n",
      "======= IRM 1997-02-27 ~ 2024-11-06 3725 / 7856 ========\n",
      "======= IRMD 2015-02-05 ~ 2024-10-31 3726 / 7856 ========\n"
     ]
    },
    {
     "name": "stderr",
     "output_type": "stream",
     "text": [
      "IRNT: No timezone found, symbol may be delisted\n"
     ]
    },
    {
     "name": "stdout",
     "output_type": "stream",
     "text": [
      "======= IRNT 2021-12-15 ~ 2023-05-16 3727 / 7856 ========\n",
      "IROH not exist\n",
      "======= IRON 2021-05-13 ~ 2024-11-12 3729 / 7856 ========\n",
      "IROQ not exist\n",
      "IRRX not exist\n",
      "IRRXU not exist\n",
      "======= IRS 2001-09-10 ~ 2016-09-09 3733 / 7856 ========\n",
      "======= IRT 2013-11-01 ~ 2024-10-30 3734 / 7856 ========\n",
      "======= IRTC 2016-12-05 ~ 2024-10-30 3735 / 7856 ========\n",
      "======= IRWD 2010-05-11 ~ 2024-11-07 3736 / 7856 ========\n"
     ]
    },
    {
     "name": "stderr",
     "output_type": "stream",
     "text": [
      "IS: No timezone found, symbol may be delisted\n"
     ]
    },
    {
     "name": "stdout",
     "output_type": "stream",
     "text": [
      "======= IS 2021-08-11 ~ 2022-08-10 3737 / 7856 ========\n",
      "ISAA not exist\n"
     ]
    },
    {
     "name": "stderr",
     "output_type": "stream",
     "text": [
      "ISBC: No timezone found, symbol may be delisted\n"
     ]
    },
    {
     "name": "stdout",
     "output_type": "stream",
     "text": [
      "======= ISBC 2006-01-26 ~ 2022-01-26 3739 / 7856 ========\n"
     ]
    },
    {
     "name": "stderr",
     "output_type": "stream",
     "text": [
      "ISEE: No timezone found, symbol may be delisted\n"
     ]
    },
    {
     "name": "stdout",
     "output_type": "stream",
     "text": [
      "======= ISEE 2013-11-13 ~ 2023-07-25 3740 / 7856 ========\n"
     ]
    },
    {
     "name": "stderr",
     "output_type": "stream",
     "text": [
      "ISIG: No timezone found, symbol may be delisted\n"
     ]
    },
    {
     "name": "stdout",
     "output_type": "stream",
     "text": [
      "======= ISIG 1993-08-19 ~ 2014-07-30 3741 / 7856 ========\n",
      "ISLE not exist\n",
      "ISNS not exist\n"
     ]
    },
    {
     "name": "stderr",
     "output_type": "stream",
     "text": [
      "ISO: No timezone found, symbol may be delisted\n"
     ]
    },
    {
     "name": "stdout",
     "output_type": "stream",
     "text": [
      "======= ISO 2021-11-12 ~ 2023-03-02 3744 / 7856 ========\n",
      "======= ISPC 2022-02-17 ~ 2024-11-07 3745 / 7856 ========\n",
      "======= ISPO 2022-05-11 ~ 2024-10-28 3746 / 7856 ========\n",
      "======= ISPR 2024-02-20 ~ 2024-09-26 3747 / 7856 ========\n",
      "======= ISRG 2000-07-27 ~ 2024-10-17 3748 / 7856 ========\n"
     ]
    },
    {
     "name": "stderr",
     "output_type": "stream",
     "text": [
      "ISRL: Data doesn't exist for startDate = 1214712000, endDate = 1561780800\n"
     ]
    },
    {
     "name": "stdout",
     "output_type": "stream",
     "text": [
      "======= ISRL 2008-06-29 ~ 2019-06-29 3749 / 7856 ========\n",
      "======= ISSC 2000-11-09 ~ 2023-12-20 3750 / 7856 ========\n",
      "======= ISTR 2015-01-28 ~ 2024-10-21 3751 / 7856 ========\n"
     ]
    },
    {
     "name": "stderr",
     "output_type": "stream",
     "text": [
      "ISUN: No timezone found, symbol may be delisted\n"
     ]
    },
    {
     "name": "stdout",
     "output_type": "stream",
     "text": [
      "======= ISUN 2021-03-15 ~ 2024-06-10 3752 / 7856 ========\n",
      "======= IT 1994-01-24 ~ 2024-11-05 3753 / 7856 ========\n",
      "ITAC not exist\n",
      "ITAQ not exist\n"
     ]
    },
    {
     "name": "stderr",
     "output_type": "stream",
     "text": [
      "ITCB: No timezone found, symbol may be delisted\n"
     ]
    },
    {
     "name": "stdout",
     "output_type": "stream",
     "text": [
      "======= ITCB 2005-03-07 ~ 2023-02-28 3756 / 7856 ========\n",
      "======= ITCI 2014-03-25 ~ 2024-10-30 3757 / 7856 ========\n",
      "======= ITGR 2001-10-25 ~ 2024-10-24 3758 / 7856 ========\n",
      "ITHX not exist\n",
      "======= ITI 1994-01-21 ~ 2024-08-08 3760 / 7856 ========\n",
      "======= ITIC 1993-02-23 ~ 2011-08-02 3761 / 7856 ========\n"
     ]
    },
    {
     "name": "stderr",
     "output_type": "stream",
     "text": [
      "ITMR: No timezone found, symbol may be delisted\n"
     ]
    },
    {
     "name": "stdout",
     "output_type": "stream",
     "text": [
      "======= ITMR 2019-08-14 ~ 2021-11-18 3762 / 7856 ========\n",
      "======= ITOS 2020-09-01 ~ 2024-08-08 3763 / 7856 ========\n",
      "ITQ not exist\n",
      "======= ITRI 1994-04-19 ~ 2024-10-31 3765 / 7856 ========\n",
      "======= ITRM 2018-08-14 ~ 2024-11-14 3766 / 7856 ========\n",
      "======= ITRN 2005-11-14 ~ 2024-11-21 3767 / 7856 ========\n",
      "======= ITT 1996-01-30 ~ 2024-10-29 3768 / 7856 ========\n",
      "======= ITUB 2003-05-15 ~ 2024-11-05 3769 / 7856 ========\n",
      "======= ITW 1993-02-16 ~ 2024-10-30 3770 / 7856 ========\n"
     ]
    },
    {
     "name": "stderr",
     "output_type": "stream",
     "text": [
      "IVA: No price data found, symbol may be delisted (1d 2024-03-27 -> 2024-03-27)\n"
     ]
    },
    {
     "name": "stdout",
     "output_type": "stream",
     "text": [
      "======= IVA 2024-03-27 ~ 2024-03-27 3771 / 7856 ========\n",
      "======= IVAC 1996-04-12 ~ 2024-08-05 3772 / 7856 ========\n",
      "IVAN not exist\n"
     ]
    },
    {
     "name": "stderr",
     "output_type": "stream",
     "text": [
      "IVC: No timezone found, symbol may be delisted\n"
     ]
    },
    {
     "name": "stdout",
     "output_type": "stream",
     "text": [
      "======= IVC 1993-02-20 ~ 2023-05-08 3774 / 7856 ========\n",
      "IVCA not exist\n",
      "IVCB not exist\n",
      "IVCP not exist\n",
      "======= IVDA 2024-04-01 ~ 2024-08-14 3778 / 7856 ========\n",
      "IVP not exist\n",
      "======= IVR 2009-11-05 ~ 2024-11-05 3780 / 7856 ========\n",
      "======= IVT 2022-05-02 ~ 2024-10-29 3781 / 7856 ========\n",
      "======= IVVD 2021-09-20 ~ 2024-11-14 3782 / 7856 ========\n",
      "======= IVZ 2008-02-05 ~ 2024-10-22 3783 / 7856 ========\n",
      "======= IX 2020-02-03 ~ 2024-11-08 3784 / 7856 ========\n",
      "IXAQ not exist\n"
     ]
    },
    {
     "name": "stderr",
     "output_type": "stream",
     "text": [
      "IXHL: No price data found, symbol may be delisted (1d 2024-09-29 -> 2024-09-29)\n"
     ]
    },
    {
     "name": "stdout",
     "output_type": "stream",
     "text": [
      "======= IXHL 2024-09-29 ~ 2024-09-29 3786 / 7856 ========\n",
      "======= IZEA 2014-05-14 ~ 2024-08-14 3787 / 7856 ========\n",
      "IZM not exist\n",
      "IZTC not exist\n",
      "======= J 1993-01-18 ~ 2024-11-19 3790 / 7856 ========\n",
      "======= JACK 1993-02-08 ~ 2024-11-20 3791 / 7856 ========\n",
      "======= JAGX 2015-11-13 ~ 2024-11-13 3792 / 7856 ========\n",
      "======= JAKK 1997-07-23 ~ 2024-10-30 3793 / 7856 ========\n",
      "======= JAMF 2020-09-01 ~ 2024-11-07 3794 / 7856 ========\n"
     ]
    },
    {
     "name": "stderr",
     "output_type": "stream",
     "text": [
      "JAN: No data found, symbol may be delisted\n"
     ]
    },
    {
     "name": "stdout",
     "output_type": "stream",
     "text": [
      "======= JAN 1993-02-12 ~ 2009-11-09 3795 / 7856 ========\n",
      "======= JANX 2021-08-10 ~ 2024-11-06 3796 / 7856 ========\n",
      "JAQC not exist\n",
      "JATT not exist\n"
     ]
    },
    {
     "name": "stderr",
     "output_type": "stream",
     "text": [
      "JAX: No timezone found, symbol may be delisted\n"
     ]
    },
    {
     "name": "stdout",
     "output_type": "stream",
     "text": [
      "======= JAX 2016-03-09 ~ 2019-11-07 3799 / 7856 ========\n",
      "======= JAZZ 2007-08-09 ~ 2024-11-06 3800 / 7856 ========\n",
      "JBDI not exist\n",
      "======= JBGS 2018-08-09 ~ 2024-10-29 3802 / 7856 ========\n",
      "======= JBHT 1993-04-14 ~ 2024-10-15 3803 / 7856 ========\n",
      "======= JBI 2021-11-09 ~ 2024-10-29 3804 / 7856 ========\n",
      "======= JBL 1994-10-12 ~ 2024-09-26 3805 / 7856 ========\n",
      "======= JBLU 2002-07-25 ~ 2024-10-29 3806 / 7856 ========\n",
      "======= JBSS 1993-02-22 ~ 2022-04-27 3807 / 7856 ========\n",
      "======= JBT 2008-11-10 ~ 2024-10-22 3808 / 7856 ========\n",
      "======= JCI 1993-01-28 ~ 2024-11-06 3809 / 7856 ========\n",
      "JCIC not exist\n"
     ]
    },
    {
     "name": "stderr",
     "output_type": "stream",
     "text": [
      "JCOM: No timezone found, symbol may be delisted\n"
     ]
    },
    {
     "name": "stdout",
     "output_type": "stream",
     "text": [
      "======= JCOM 1999-10-19 ~ 2021-08-05 3811 / 7856 ========\n"
     ]
    },
    {
     "name": "stderr",
     "output_type": "stream",
     "text": [
      "JCS: No timezone found, symbol may be delisted\n"
     ]
    },
    {
     "name": "stdout",
     "output_type": "stream",
     "text": [
      "======= JCS 1993-05-04 ~ 2021-05-07 3812 / 7856 ========\n",
      "JCSE not exist\n",
      "JCTC not exist\n",
      "JCTCF not exist\n",
      "======= JD 2014-08-15 ~ 2024-11-14 3816 / 7856 ========\n",
      "JDZG not exist\n"
     ]
    },
    {
     "name": "stderr",
     "output_type": "stream",
     "text": [
      "JE: No timezone found, symbol may be delisted\n"
     ]
    },
    {
     "name": "stdout",
     "output_type": "stream",
     "text": [
      "======= JE 2004-11-08 ~ 2021-02-26 3818 / 7856 ========\n",
      "======= JEF 1994-03-18 ~ 2024-09-25 3819 / 7856 ========\n",
      "======= JELD 2017-05-12 ~ 2024-11-04 3820 / 7856 ========\n",
      "JEWL not exist\n",
      "JFBR not exist\n",
      "======= JFIN 2019-09-04 ~ 2022-08-18 3823 / 7856 ========\n",
      "JFU not exist\n",
      "======= JG 2018-09-06 ~ 2022-09-15 3825 / 7856 ========\n",
      "JGGC not exist\n",
      "======= JHG 2017-08-08 ~ 2024-10-31 3827 / 7856 ========\n",
      "======= JHX 2012-11-14 ~ 2014-02-28 3828 / 7856 ========\n",
      "======= JILL 2017-05-31 ~ 2024-09-04 3829 / 7856 ========\n",
      "======= JJSF 1993-01-22 ~ 2024-11-13 3830 / 7856 ========\n",
      "======= JKHY 1993-01-19 ~ 2024-11-05 3831 / 7856 ========\n",
      "======= JKS 2010-08-13 ~ 2024-10-30 3832 / 7856 ========\n",
      "JL not exist\n",
      "======= JLL 1998-02-25 ~ 2024-11-06 3834 / 7856 ========\n",
      "JMAC not exist\n",
      "======= JMIA 2019-08-21 ~ 2024-11-07 3836 / 7856 ========\n"
     ]
    },
    {
     "name": "stderr",
     "output_type": "stream",
     "text": [
      "JMP: No timezone found, symbol may be delisted\n"
     ]
    },
    {
     "name": "stdout",
     "output_type": "stream",
     "text": [
      "======= JMP 2007-08-09 ~ 2021-11-12 3837 / 7856 ========\n",
      "JMPNZ not exist\n",
      "JMSB not exist\n"
     ]
    },
    {
     "name": "stderr",
     "output_type": "stream",
     "text": [
      "JNCE: No timezone found, symbol may be delisted\n"
     ]
    },
    {
     "name": "stdout",
     "output_type": "stream",
     "text": [
      "======= JNCE 2017-05-09 ~ 2023-05-04 3840 / 7856 ========\n",
      "======= JNJ 1993-04-29 ~ 2024-10-15 3841 / 7856 ========\n",
      "======= JNPR 1999-10-20 ~ 2024-10-31 3842 / 7856 ========\n",
      "JNVR not exist\n"
     ]
    },
    {
     "name": "stderr",
     "output_type": "stream",
     "text": [
      "JOAN: No data found, symbol may be delisted\n"
     ]
    },
    {
     "name": "stdout",
     "output_type": "stream",
     "text": [
      "======= JOAN 2021-06-03 ~ 2024-03-28 3844 / 7856 ========\n"
     ]
    },
    {
     "name": "stderr",
     "output_type": "stream",
     "text": [
      "JOBS: No timezone found, symbol may be delisted\n"
     ]
    },
    {
     "name": "stdout",
     "output_type": "stream",
     "text": [
      "======= JOBS 2005-05-09 ~ 2022-03-31 3845 / 7856 ========\n",
      "======= JOBY 2021-11-11 ~ 2024-11-06 3846 / 7856 ========\n",
      "======= JOE 1993-11-12 ~ 2018-10-31 3847 / 7856 ========\n",
      "JOFF not exist\n",
      "======= JOUT 1993-01-22 ~ 2024-08-05 3849 / 7856 ========\n"
     ]
    },
    {
     "name": "stderr",
     "output_type": "stream",
     "text": [
      "JP: No timezone found, symbol may be delisted\n"
     ]
    },
    {
     "name": "stdout",
     "output_type": "stream",
     "text": [
      "======= JP 2018-03-12 ~ 2018-03-12 3850 / 7856 ========\n",
      "======= JPM 1993-01-19 ~ 2024-10-11 3851 / 7856 ========\n"
     ]
    },
    {
     "name": "stderr",
     "output_type": "stream",
     "text": [
      "JRJC: No timezone found, symbol may be delisted\n"
     ]
    },
    {
     "name": "stdout",
     "output_type": "stream",
     "text": [
      "======= JRJC 2005-04-28 ~ 2011-08-30 3852 / 7856 ========\n",
      "======= JRSH 2019-02-13 ~ 2024-08-13 3853 / 7856 ========\n",
      "======= JRVR 2015-02-18 ~ 2024-11-11 3854 / 7856 ========\n",
      "JSM not exist\n",
      "======= JSPR 2021-11-12 ~ 2024-11-07 3856 / 7856 ========\n"
     ]
    },
    {
     "name": "stderr",
     "output_type": "stream",
     "text": [
      "JT: No timezone found, symbol may be delisted\n"
     ]
    },
    {
     "name": "stdout",
     "output_type": "stream",
     "text": [
      "======= JT 2018-03-05 ~ 2020-03-23 3857 / 7856 ========\n",
      "======= JTAI 2024-04-01 ~ 2024-08-14 3858 / 7856 ========\n",
      "JUGG not exist\n",
      "JUN not exist\n",
      "JUNE not exist\n",
      "JUNS not exist\n",
      "JUNSW not exist\n",
      "JUPW not exist\n",
      "======= JVA 2012-01-26 ~ 2021-02-16 3865 / 7856 ========\n",
      "JVSA not exist\n",
      "JW not exist\n",
      "JWAC not exist\n"
     ]
    },
    {
     "name": "stderr",
     "output_type": "stream",
     "text": [
      "JWEL: No price data found, symbol may be delisted (1d 2021-06-15 -> 2021-06-15)\n"
     ]
    },
    {
     "name": "stdout",
     "output_type": "stream",
     "text": [
      "======= JWEL 2021-06-15 ~ 2021-06-15 3869 / 7856 ========\n",
      "======= JWN 1993-02-22 ~ 2024-11-26 3870 / 7856 ========\n",
      "JWSM not exist\n",
      "JXJT not exist\n",
      "======= JXN 2021-11-09 ~ 2024-11-06 3873 / 7856 ========\n",
      "JXN-PA not exist\n",
      "JYAC not exist\n",
      "JYD not exist\n",
      "======= JYNT 2015-03-19 ~ 2024-11-07 3877 / 7856 ========\n",
      "JZ not exist\n",
      "JZXN not exist\n",
      "======= K 1993-01-19 ~ 2024-10-31 3880 / 7856 ========\n"
     ]
    },
    {
     "name": "stderr",
     "output_type": "stream",
     "text": [
      "KA: No timezone found, symbol may be delisted\n"
     ]
    },
    {
     "name": "stdout",
     "output_type": "stream",
     "text": [
      "======= KA 2016-05-13 ~ 2024-05-15 3881 / 7856 ========\n",
      "KACL not exist\n",
      "KAHC not exist\n",
      "======= KAI 1993-03-02 ~ 2024-10-29 3884 / 7856 ========\n",
      "KAII not exist\n",
      "KAIR not exist\n"
     ]
    },
    {
     "name": "stderr",
     "output_type": "stream",
     "text": [
      "KAL: No timezone found, symbol may be delisted\n"
     ]
    },
    {
     "name": "stdout",
     "output_type": "stream",
     "text": [
      "======= KAL 2022-08-19 ~ 2022-11-14 3887 / 7856 ========\n",
      "======= KALA 2017-08-31 ~ 2024-11-12 3888 / 7856 ========\n",
      "======= KALU 1993-02-09 ~ 2024-10-23 3889 / 7856 ========\n",
      "======= KALV 2015-05-15 ~ 2024-12-05 3890 / 7856 ========\n"
     ]
    },
    {
     "name": "stderr",
     "output_type": "stream",
     "text": [
      "KAMN: No timezone found, symbol may be delisted\n"
     ]
    },
    {
     "name": "stdout",
     "output_type": "stream",
     "text": [
      "======= KAMN 1993-01-28 ~ 2024-05-07 3891 / 7856 ========\n",
      "======= KAR 2010-02-25 ~ 2024-11-06 3892 / 7856 ========\n",
      "======= KARO 2022-10-12 ~ 2024-10-15 3893 / 7856 ========\n",
      "======= KAVL 2021-09-14 ~ 2024-09-20 3894 / 7856 ========\n",
      "======= KB 2022-02-08 ~ 2024-11-14 3895 / 7856 ========\n"
     ]
    },
    {
     "name": "stderr",
     "output_type": "stream",
     "text": [
      "KBAL: No timezone found, symbol may be delisted\n"
     ]
    },
    {
     "name": "stdout",
     "output_type": "stream",
     "text": [
      "======= KBAL 1993-01-22 ~ 2023-05-04 3896 / 7856 ========\n",
      "======= KBDC 2024-08-13 ~ 2024-11-13 3897 / 7856 ========\n",
      "======= KBH 1993-03-23 ~ 2024-09-24 3898 / 7856 ========\n",
      "KBNT not exist\n",
      "======= KBR 2007-01-26 ~ 2024-10-23 3900 / 7856 ========\n",
      "KBSF not exist\n",
      "======= KC 2020-06-03 ~ 2024-11-20 3902 / 7856 ========\n",
      "KCAC-UN not exist\n",
      "KCAC-WT not exist\n",
      "KCGI not exist\n",
      "======= KD 2022-02-28 ~ 2024-11-06 3906 / 7856 ========\n",
      "KDC not exist\n",
      "KDLY not exist\n"
     ]
    },
    {
     "name": "stderr",
     "output_type": "stream",
     "text": [
      "KDMN: No timezone found, symbol may be delisted\n"
     ]
    },
    {
     "name": "stdout",
     "output_type": "stream",
     "text": [
      "======= KDMN 2016-09-08 ~ 2021-11-04 3909 / 7856 ========\n"
     ]
    },
    {
     "name": "stderr",
     "output_type": "stream",
     "text": [
      "KDNY: No timezone found, symbol may be delisted\n"
     ]
    },
    {
     "name": "stdout",
     "output_type": "stream",
     "text": [
      "======= KDNY 2015-05-28 ~ 2023-08-07 3910 / 7856 ========\n",
      "======= KDP 2008-06-05 ~ 2024-10-24 3911 / 7856 ========\n",
      "======= KE 2015-11-05 ~ 2024-11-04 3912 / 7856 ========\n",
      "======= KELYA 1993-02-03 ~ 2024-11-07 3913 / 7856 ========\n",
      "======= KEN 2015-09-08 ~ 2016-04-06 3914 / 7856 ========\n",
      "======= KEP 2024-09-09 ~ 2024-12-05 3915 / 7856 ========\n",
      "======= KEQU 2018-08-28 ~ 2019-06-18 3916 / 7856 ========\n"
     ]
    },
    {
     "name": "stderr",
     "output_type": "stream",
     "text": [
      "KERN: No timezone found, symbol may be delisted\n"
     ]
    },
    {
     "name": "stdout",
     "output_type": "stream",
     "text": [
      "======= KERN 2020-02-12 ~ 2023-11-14 3917 / 7856 ========\n",
      "======= KEX 1993-04-29 ~ 2024-10-30 3918 / 7856 ========\n",
      "======= KEY 1993-01-16 ~ 2024-10-17 3919 / 7856 ========\n",
      "======= KEYS 2014-11-17 ~ 2024-11-19 3920 / 7856 ========\n",
      "======= KFFB 2009-04-21 ~ 2010-11-03 3921 / 7856 ========\n",
      "======= KFRC 1995-10-24 ~ 2024-10-28 3922 / 7856 ========\n",
      "======= KFS 1997-10-27 ~ 2010-11-12 3923 / 7856 ========\n",
      "======= KFY 1999-06-15 ~ 2024-12-05 3924 / 7856 ========\n",
      "======= KGC 1995-03-07 ~ 2024-11-05 3925 / 7856 ========\n",
      "======= KGEI 2023-08-03 ~ 2024-11-12 3926 / 7856 ========\n",
      "======= KGS 2023-08-09 ~ 2024-11-06 3927 / 7856 ========\n",
      "======= KHC 2015-08-10 ~ 2024-10-30 3928 / 7856 ========\n",
      "======= KIDS 2017-11-08 ~ 2024-11-06 3929 / 7856 ========\n",
      "KIII not exist\n",
      "======= KIM 1993-03-12 ~ 2024-10-31 3931 / 7856 ========\n",
      "KIM-PN not exist\n"
     ]
    },
    {
     "name": "stderr",
     "output_type": "stream",
     "text": [
      "KIN: No timezone found, symbol may be delisted\n"
     ]
    },
    {
     "name": "stdout",
     "output_type": "stream",
     "text": [
      "======= KIN 2014-03-06 ~ 2021-08-05 3933 / 7856 ========\n",
      "======= KIND 2022-03-01 ~ 2024-11-06 3934 / 7856 ========\n",
      "======= KINS 2013-11-14 ~ 2024-11-12 3935 / 7856 ========\n",
      "KINZ not exist\n",
      "======= KIRK 2002-11-20 ~ 2024-09-05 3937 / 7856 ========\n",
      "======= KITT 2022-11-14 ~ 2024-05-13 3938 / 7856 ========\n",
      "======= KKR 2009-08-18 ~ 2024-10-24 3939 / 7856 ========\n",
      "KKRS not exist\n"
     ]
    },
    {
     "name": "stderr",
     "output_type": "stream",
     "text": [
      "KL: No timezone found, symbol may be delisted\n"
     ]
    },
    {
     "name": "stdout",
     "output_type": "stream",
     "text": [
      "======= KL 2010-03-31 ~ 2021-11-03 3941 / 7856 ========\n",
      "======= KLAC 1993-01-22 ~ 2024-10-30 3942 / 7856 ========\n",
      "KLAQ not exist\n"
     ]
    },
    {
     "name": "stderr",
     "output_type": "stream",
     "text": [
      "KLC: No price data found, symbol may be delisted (1d 2024-11-20 -> 2024-11-20)\n"
     ]
    },
    {
     "name": "stdout",
     "output_type": "stream",
     "text": [
      "======= KLC 2024-11-20 ~ 2024-11-20 3944 / 7856 ========\n",
      "======= KLG 2023-11-08 ~ 2024-11-07 3945 / 7856 ========\n",
      "======= KLIC 1993-01-28 ~ 2024-11-13 3946 / 7856 ========\n"
     ]
    },
    {
     "name": "stderr",
     "output_type": "stream",
     "text": [
      "KLR: No timezone found, symbol may be delisted\n"
     ]
    },
    {
     "name": "stdout",
     "output_type": "stream",
     "text": [
      "======= KLR 2020-03-16 ~ 2023-11-06 3947 / 7856 ========\n",
      "KLTO not exist\n",
      "KLTOW not exist\n",
      "======= KLTR 2021-11-03 ~ 2024-11-06 3950 / 7856 ========\n",
      "======= KLXE 2019-03-12 ~ 2024-10-31 3951 / 7856 ========\n",
      "======= KMB 1993-01-27 ~ 2024-10-22 3952 / 7856 ========\n",
      "======= KMDA 2013-08-01 ~ 2024-08-14 3953 / 7856 ========\n",
      "KMF not exist\n",
      "======= KMI 2011-04-20 ~ 2024-10-16 3955 / 7856 ========\n",
      "KMPB not exist\n"
     ]
    },
    {
     "name": "stderr",
     "output_type": "stream",
     "text": [
      "KMPH: No timezone found, symbol may be delisted\n"
     ]
    },
    {
     "name": "stdout",
     "output_type": "stream",
     "text": [
      "======= KMPH 2015-05-27 ~ 2023-03-07 3957 / 7856 ========\n",
      "======= KMPR 1993-10-12 ~ 2024-10-30 3958 / 7856 ========\n",
      "======= KMT 1993-01-22 ~ 2024-11-06 3959 / 7856 ========\n",
      "======= KMX 1997-06-16 ~ 2024-09-26 3960 / 7856 ========\n",
      "======= KN 2014-04-28 ~ 2024-10-24 3961 / 7856 ========\n"
     ]
    },
    {
     "name": "stderr",
     "output_type": "stream",
     "text": [
      "KNBE: No timezone found, symbol may be delisted\n"
     ]
    },
    {
     "name": "stdout",
     "output_type": "stream",
     "text": [
      "======= KNBE 2021-05-19 ~ 2022-11-14 3962 / 7856 ========\n",
      "======= KNDI 2008-11-14 ~ 2023-03-15 3963 / 7856 ========\n",
      "======= KNF 2023-08-08 ~ 2024-11-04 3964 / 7856 ========\n",
      "======= KNOP 2013-08-26 ~ 2024-12-04 3965 / 7856 ========\n",
      "======= KNSA 2018-08-06 ~ 2024-10-29 3966 / 7856 ========\n",
      "======= KNSL 2016-11-10 ~ 2024-10-24 3967 / 7856 ========\n",
      "KNSW not exist\n"
     ]
    },
    {
     "name": "stderr",
     "output_type": "stream",
     "text": [
      "KNTE: No timezone found, symbol may be delisted\n"
     ]
    },
    {
     "name": "stdout",
     "output_type": "stream",
     "text": [
      "======= KNTE 2021-03-29 ~ 2024-05-09 3969 / 7856 ========\n",
      "======= KNTK 2019-03-01 ~ 2024-11-06 3970 / 7856 ========\n",
      "======= KNW 2013-05-10 ~ 2024-08-14 3971 / 7856 ========\n",
      "======= KNX 1995-04-20 ~ 2024-10-23 3972 / 7856 ========\n",
      "======= KO 1993-01-28 ~ 2024-10-23 3973 / 7856 ========\n",
      "======= KOD 2019-03-28 ~ 2024-08-14 3974 / 7856 ========\n"
     ]
    },
    {
     "name": "stderr",
     "output_type": "stream",
     "text": [
      "KODK: Data doesn't exist for startDate = 735969600, endDate = 1335499200\n"
     ]
    },
    {
     "name": "stdout",
     "output_type": "stream",
     "text": [
      "======= KODK 1993-04-28 ~ 2012-04-27 3975 / 7856 ========\n",
      "======= KOF 1994-08-10 ~ 2024-10-25 3976 / 7856 ========\n",
      "======= KOP 2006-05-11 ~ 2024-11-08 3977 / 7856 ========\n",
      "======= KOPN 1993-10-22 ~ 2024-08-08 3978 / 7856 ========\n",
      "======= KORE 2021-11-15 ~ 2024-08-15 3979 / 7856 ========\n",
      "======= KOS 2011-08-11 ~ 2024-11-04 3980 / 7856 ========\n",
      "======= KOSS 1999-01-07 ~ 1999-07-20 3981 / 7856 ========\n",
      "======= KPLT 2021-11-09 ~ 2024-08-14 3982 / 7856 ========\n",
      "======= KPRX 2016-05-13 ~ 2024-11-08 3983 / 7856 ========\n",
      "======= KPTI 2014-05-07 ~ 2024-11-05 3984 / 7856 ========\n",
      "======= KR 1993-02-08 ~ 2024-12-05 3985 / 7856 ========\n"
     ]
    },
    {
     "name": "stderr",
     "output_type": "stream",
     "text": [
      "KRA: No timezone found, symbol may be delisted\n"
     ]
    },
    {
     "name": "stdout",
     "output_type": "stream",
     "text": [
      "======= KRA 2010-05-05 ~ 2022-02-24 3986 / 7856 ========\n",
      "======= KRBP 2022-04-08 ~ 2023-04-14 3987 / 7856 ========\n",
      "======= KRC 2003-04-28 ~ 2024-10-28 3988 / 7856 ========\n",
      "======= KREF 2017-06-14 ~ 2024-10-21 3989 / 7856 ========\n",
      "======= KRG 2005-05-05 ~ 2024-10-30 3990 / 7856 ========\n",
      "======= KRKR 2020-03-11 ~ 2024-08-23 3991 / 7856 ========\n",
      "======= KRMD 2019-04-30 ~ 2024-11-13 3992 / 7856 ========\n",
      "KRNL not exist\n",
      "======= KRNT 2015-08-04 ~ 2024-11-06 3994 / 7856 ========\n",
      "======= KRNY 2010-07-29 ~ 2024-10-24 3995 / 7856 ========\n",
      "======= KRO 2009-11-02 ~ 2024-11-06 3996 / 7856 ========\n",
      "======= KRON 2020-11-18 ~ 2024-08-08 3997 / 7856 ========\n",
      "======= KROS 2020-08-13 ~ 2024-11-06 3998 / 7856 ========\n",
      "======= KRP 2017-05-08 ~ 2024-11-07 3999 / 7856 ========\n",
      "======= KRRO 2023-05-12 ~ 2024-11-12 4000 / 7856 ========\n",
      "======= KRT 2021-05-27 ~ 2024-11-07 4001 / 7856 ========\n"
     ]
    },
    {
     "name": "stderr",
     "output_type": "stream",
     "text": [
      "KRTX: No timezone found, symbol may be delisted\n"
     ]
    },
    {
     "name": "stdout",
     "output_type": "stream",
     "text": [
      "======= KRTX 2019-06-28 ~ 2024-05-02 4002 / 7856 ========\n",
      "======= KRUS 2019-11-06 ~ 2024-11-06 4003 / 7856 ========\n",
      "======= KRYS 2017-11-13 ~ 2024-11-04 4004 / 7856 ========\n",
      "======= KSCP 2023-08-14 ~ 2024-11-14 4005 / 7856 ========\n",
      "KSI not exist\n",
      "KSMT not exist\n",
      "======= KSPI 2022-10-24 ~ 2024-10-29 4008 / 7856 ========\n"
     ]
    },
    {
     "name": "stderr",
     "output_type": "stream",
     "text": [
      "KSPN: No data found, symbol may be delisted\n"
     ]
    },
    {
     "name": "stdout",
     "output_type": "stream",
     "text": [
      "======= KSPN 1993-03-20 ~ 2021-12-09 4009 / 7856 ========\n",
      "======= KSS 1993-06-04 ~ 2024-11-26 4010 / 7856 ========\n"
     ]
    },
    {
     "name": "stderr",
     "output_type": "stream",
     "text": [
      "KSU: No timezone found, symbol may be delisted\n"
     ]
    },
    {
     "name": "stdout",
     "output_type": "stream",
     "text": [
      "======= KSU 1993-01-20 ~ 2021-10-19 4011 / 7856 ========\n",
      "======= KT 2016-07-29 ~ 2024-11-26 4012 / 7856 ========\n",
      "======= KTB 2019-08-08 ~ 2024-10-31 4013 / 7856 ========\n",
      "======= KTCC 1994-10-26 ~ 2024-05-07 4014 / 7856 ========\n",
      "======= KTOS 2000-02-03 ~ 2024-11-07 4015 / 7856 ========\n",
      "======= KTRA 2014-03-10 ~ 2023-11-13 4016 / 7856 ========\n"
     ]
    },
    {
     "name": "stderr",
     "output_type": "stream",
     "text": [
      "KTTA: No price data found, symbol may be delisted (1d 2022-05-16 -> 2022-05-16)\n"
     ]
    },
    {
     "name": "stdout",
     "output_type": "stream",
     "text": [
      "======= KTTA 2022-05-16 ~ 2022-05-16 4017 / 7856 ========\n",
      "KUKE not exist\n",
      "======= KURA 2015-11-13 ~ 2024-11-07 4019 / 7856 ========\n",
      "KURI not exist\n",
      "KVAC not exist\n",
      "======= KVHI 1996-07-30 ~ 2024-11-07 4022 / 7856 ========\n",
      "KVSA not exist\n",
      "KVSB not exist\n",
      "KVSC not exist\n",
      "======= KVUE 2023-06-02 ~ 2024-11-07 4026 / 7856 ========\n",
      "======= KVYO 2023-11-07 ~ 2024-11-06 4027 / 7856 ========\n",
      "======= KW 2010-03-17 ~ 2024-11-06 4028 / 7856 ========\n",
      "======= KWE 2021-10-05 ~ 2024-05-14 4029 / 7856 ========\n",
      "KWESW not exist\n",
      "======= KWR 1993-04-30 ~ 2024-10-31 4031 / 7856 ========\n",
      "KXIN not exist\n",
      "KYCH not exist\n",
      "======= KYMR 2020-11-05 ~ 2024-10-31 4034 / 7856 ========\n",
      "======= KYTX 2024-03-26 ~ 2024-11-13 4035 / 7856 ========\n",
      "KZIA not exist\n",
      "======= KZR 2018-08-09 ~ 2024-11-12 4037 / 7856 ========\n",
      "======= L 1993-02-17 ~ 2021-11-01 4038 / 7856 ========\n",
      "LAAA not exist\n",
      "======= LAAC 2023-08-09 ~ 2024-11-05 4040 / 7856 ========\n",
      "======= LAB 2011-05-10 ~ 2024-10-30 4041 / 7856 ========\n"
     ]
    },
    {
     "name": "stderr",
     "output_type": "stream",
     "text": [
      "LABP: No timezone found, symbol may be delisted\n"
     ]
    },
    {
     "name": "stdout",
     "output_type": "stream",
     "text": [
      "======= LABP 2021-05-17 ~ 2024-05-09 4042 / 7856 ========\n",
      "======= LAC 2018-03-29 ~ 2024-11-05 4043 / 7856 ========\n",
      "LACQ not exist\n",
      "======= LAD 1997-03-04 ~ 2024-10-23 4045 / 7856 ========\n",
      "======= LADR 2014-05-05 ~ 2024-10-24 4046 / 7856 ========\n",
      "LAES not exist\n"
     ]
    },
    {
     "name": "stderr",
     "output_type": "stream",
     "text": [
      "LAIX: No timezone found, symbol may be delisted\n"
     ]
    },
    {
     "name": "stdout",
     "output_type": "stream",
     "text": [
      "======= LAIX 2018-11-27 ~ 2021-08-26 4048 / 7856 ========\n",
      "======= LAKE 1996-04-30 ~ 2024-12-05 4049 / 7856 ========\n",
      "======= LAMR 1997-08-04 ~ 2024-11-08 4050 / 7856 ========\n",
      "======= LANC 1993-02-05 ~ 2024-10-31 4051 / 7856 ========\n",
      "======= LAND 2013-05-06 ~ 2024-11-06 4052 / 7856 ========\n",
      "LANV not exist\n",
      "======= LARK 1996-10-25 ~ 2000-04-25 4054 / 7856 ========\n",
      "LASE not exist\n",
      "======= LASR 2018-05-23 ~ 2024-11-07 4056 / 7856 ========\n",
      "LATG not exist\n",
      "LATN not exist\n",
      "======= LAUR 1994-04-28 ~ 2024-10-31 4059 / 7856 ========\n",
      "======= LAW 2021-09-02 ~ 2024-11-06 4060 / 7856 ========\n"
     ]
    },
    {
     "name": "stderr",
     "output_type": "stream",
     "text": [
      "LAWS: No timezone found, symbol may be delisted\n"
     ]
    },
    {
     "name": "stdout",
     "output_type": "stream",
     "text": [
      "======= LAWS 1993-03-01 ~ 2022-04-28 4061 / 7856 ========\n",
      "LAX not exist\n",
      "======= LAZ 2005-08-10 ~ 2024-10-31 4063 / 7856 ========\n",
      "======= LAZR 2021-05-13 ~ 2024-11-11 4064 / 7856 ========\n"
     ]
    },
    {
     "name": "stderr",
     "output_type": "stream",
     "text": [
      "LAZY: No data found, symbol may be delisted\n"
     ]
    },
    {
     "name": "stdout",
     "output_type": "stream",
     "text": [
      "======= LAZY 2018-05-10 ~ 2024-02-22 4065 / 7856 ========\n",
      "======= LB 1993-02-16 ~ 2024-11-06 4066 / 7856 ========\n",
      "======= LBAI 2002-07-11 ~ 2024-04-19 4067 / 7856 ========\n",
      "LBBB not exist\n"
     ]
    },
    {
     "name": "stderr",
     "output_type": "stream",
     "text": [
      "LBC: No timezone found, symbol may be delisted\n"
     ]
    },
    {
     "name": "stdout",
     "output_type": "stream",
     "text": [
      "======= LBC 2018-01-25 ~ 2024-02-20 4069 / 7856 ========\n",
      "LBGJ not exist\n",
      "======= LBPH 2021-05-10 ~ 2024-11-07 4071 / 7856 ========\n",
      "LBPS not exist\n",
      "LBPSW not exist\n",
      "======= LBRDA 2015-03-12 ~ 2024-11-07 4074 / 7856 ========\n",
      "======= LBRT 2018-03-12 ~ 2024-10-16 4075 / 7856 ========\n",
      "======= LBTYA 2004-08-15 ~ 2024-10-29 4076 / 7856 ========\n"
     ]
    },
    {
     "name": "stderr",
     "output_type": "stream",
     "text": [
      "LBTYB: No price data found, symbol may be delisted (1d 2024-10-29 -> 2024-10-29)\n"
     ]
    },
    {
     "name": "stdout",
     "output_type": "stream",
     "text": [
      "======= LBTYB 2024-10-29 ~ 2024-10-29 4077 / 7856 ========\n",
      "======= LBTYK 2004-11-12 ~ 2024-10-29 4078 / 7856 ========\n",
      "LBYAV not exist\n",
      "LBYKV not exist\n",
      "======= LC 2015-02-24 ~ 2024-10-23 4081 / 7856 ========\n",
      "LCA not exist\n",
      "LCAA not exist\n",
      "LCAAW not exist\n",
      "LCAP not exist\n",
      "LCAPU not exist\n",
      "LCAPW not exist\n",
      "LCFY not exist\n"
     ]
    },
    {
     "name": "stderr",
     "output_type": "stream",
     "text": [
      "LCI: No timezone found, symbol may be delisted\n"
     ]
    },
    {
     "name": "stdout",
     "output_type": "stream",
     "text": [
      "======= LCI 2006-05-10 ~ 2023-05-03 4089 / 7856 ========\n",
      "======= LCID 2021-11-15 ~ 2024-11-07 4090 / 7856 ========\n",
      "======= LCII 1997-02-13 ~ 2024-11-07 4091 / 7856 ========\n",
      "======= LCNB 2014-04-25 ~ 2024-10-21 4092 / 7856 ========\n",
      "======= LCUT 1993-01-29 ~ 2024-11-08 4093 / 7856 ========\n",
      "LCW not exist\n",
      "LCY not exist\n",
      "LDHA not exist\n",
      "======= LDI 2021-05-03 ~ 2024-11-05 4097 / 7856 ========\n"
     ]
    },
    {
     "name": "stderr",
     "output_type": "stream",
     "text": [
      "LDL: No timezone found, symbol may be delisted\n"
     ]
    },
    {
     "name": "stdout",
     "output_type": "stream",
     "text": [
      "======= LDL 1993-04-20 ~ 2021-07-28 4098 / 7856 ========\n",
      "LDOC not exist\n",
      "======= LDOS 2006-12-12 ~ 2024-10-29 4100 / 7856 ========\n",
      "======= LDTC 2024-05-15 ~ 2024-08-14 4101 / 7856 ========\n",
      "LDWY not exist\n",
      "======= LE 1993-05-14 ~ 2024-12-05 4103 / 7856 ========\n",
      "======= LEA 1994-07-25 ~ 2024-10-24 4104 / 7856 ========\n",
      "LEAP not exist\n",
      "======= LECO 1995-03-06 ~ 2024-10-31 4106 / 7856 ========\n",
      "======= LEDS 2011-07-07 ~ 2014-07-14 4107 / 7856 ========\n",
      "======= LEE 1993-04-21 ~ 2024-08-01 4108 / 7856 ========\n",
      "======= LEG 1993-02-20 ~ 2024-10-28 4109 / 7856 ========\n",
      "LEGA not exist\n",
      "======= LEGH 2019-05-13 ~ 2024-11-12 4111 / 7856 ========\n",
      "======= LEGN 2020-08-28 ~ 2024-11-12 4112 / 7856 ========\n",
      "LEGO not exist\n"
     ]
    },
    {
     "name": "stderr",
     "output_type": "stream",
     "text": [
      "LEJU: No data found, symbol may be delisted\n"
     ]
    },
    {
     "name": "stdout",
     "output_type": "stream",
     "text": [
      "======= LEJU 2014-05-20 ~ 2022-11-30 4114 / 7856 ========\n",
      "======= LEN 1993-01-11 ~ 2024-09-19 4115 / 7856 ========\n",
      "======= LENZ 2023-11-13 ~ 2024-11-06 4116 / 7856 ========\n",
      "LEO not exist\n",
      "======= LESL 2020-12-21 ~ 2024-11-25 4118 / 7856 ========\n",
      "======= LEV 2021-05-17 ~ 2024-11-06 4119 / 7856 ========\n",
      "======= LEVI 2019-07-09 ~ 2024-10-02 4120 / 7856 ========\n"
     ]
    },
    {
     "name": "stderr",
     "output_type": "stream",
     "text": [
      "LEVL: No timezone found, symbol may be delisted\n"
     ]
    },
    {
     "name": "stdout",
     "output_type": "stream",
     "text": [
      "======= LEVL 2018-05-15 ~ 2022-01-28 4121 / 7856 ========\n",
      "======= LEXX 2021-11-29 ~ 2024-11-26 4122 / 7856 ========\n",
      "LFAC not exist\n",
      "LFC not exist\n",
      "======= LFCR 1996-03-28 ~ 2024-08-26 4125 / 7856 ========\n"
     ]
    },
    {
     "name": "stderr",
     "output_type": "stream",
     "text": [
      "LFG: No timezone found, symbol may be delisted\n"
     ]
    },
    {
     "name": "stdout",
     "output_type": "stream",
     "text": [
      "======= LFG 2021-08-13 ~ 2022-11-10 4126 / 7856 ========\n",
      "======= LFLY 2022-03-29 ~ 2024-11-07 4127 / 7856 ========\n",
      "======= LFMD 2021-03-29 ~ 2024-11-07 4128 / 7856 ========\n",
      "======= LFST 2021-08-11 ~ 2024-11-07 4129 / 7856 ========\n",
      "======= LFT 2013-05-03 ~ 2024-11-12 4130 / 7856 ========\n",
      "LFTR not exist\n",
      "======= LFUS 1993-05-13 ~ 2024-10-29 4132 / 7856 ========\n",
      "======= LFVN 2006-08-22 ~ 2024-10-29 4133 / 7856 ========\n",
      "======= LFWD 2023-11-14 ~ 2024-08-14 4134 / 7856 ========\n",
      "LGAC not exist\n",
      "LGCB not exist\n",
      "LGCL not exist\n",
      "======= LGF-B 2019-05-23 ~ 2024-11-07 4138 / 7856 ========\n",
      "LGHL not exist\n",
      "======= LGIH 2014-05-15 ~ 2024-11-05 4140 / 7856 ========\n",
      "======= LGMK 2014-11-19 ~ 2024-11-12 4141 / 7856 ========\n",
      "======= LGND 1993-05-10 ~ 2024-11-07 4142 / 7856 ========\n",
      "======= LGO 2013-11-29 ~ 2024-08-08 4143 / 7856 ========\n",
      "LGST not exist\n"
     ]
    },
    {
     "name": "stderr",
     "output_type": "stream",
     "text": [
      "LGTO: No timezone found, symbol may be delisted\n"
     ]
    },
    {
     "name": "stdout",
     "output_type": "stream",
     "text": [
      "======= LGTO 2022-11-14 ~ 2022-11-14 4145 / 7856 ========\n",
      "LGTOW not exist\n",
      "======= LGTY 2022-11-17 ~ 2024-11-21 4147 / 7856 ========\n",
      "LGV not exist\n",
      "LGVC not exist\n",
      "======= LGVN 2021-05-14 ~ 2024-11-12 4150 / 7856 ========\n",
      "======= LH 1993-05-19 ~ 2024-10-24 4151 / 7856 ========\n",
      "LHAA not exist\n",
      "LHC not exist\n"
     ]
    },
    {
     "name": "stderr",
     "output_type": "stream",
     "text": [
      "LHCG: No timezone found, symbol may be delisted\n"
     ]
    },
    {
     "name": "stdout",
     "output_type": "stream",
     "text": [
      "======= LHCG 2005-08-09 ~ 2023-02-22 4154 / 7856 ========\n"
     ]
    },
    {
     "name": "stderr",
     "output_type": "stream",
     "text": [
      "LHDX: No timezone found, symbol may be delisted\n"
     ]
    },
    {
     "name": "stdout",
     "output_type": "stream",
     "text": [
      "======= LHDX 2021-05-13 ~ 2023-03-10 4155 / 7856 ========\n",
      "======= LHX 1993-01-19 ~ 2024-10-24 4156 / 7856 ========\n",
      "======= LI 2020-11-13 ~ 2024-10-31 4157 / 7856 ========\n",
      "======= LIAN 2021-12-09 ~ 2024-03-25 4158 / 7856 ========\n",
      "LIBY not exist\n",
      "LICN not exist\n",
      "======= LICY 2021-09-09 ~ 2024-11-07 4161 / 7856 ========\n",
      "======= LIDR 2021-11-11 ~ 2024-08-05 4162 / 7856 ========\n",
      "======= LIEN 2022-08-12 ~ 2024-08-08 4163 / 7856 ========\n",
      "======= LIF 2024-05-10 ~ 2024-11-12 4164 / 7856 ========\n"
     ]
    },
    {
     "name": "stderr",
     "output_type": "stream",
     "text": [
      "LIFE: No timezone found, symbol may be delisted\n"
     ]
    },
    {
     "name": "stdout",
     "output_type": "stream",
     "text": [
      "======= LIFE 2015-06-18 ~ 2024-05-02 4165 / 7856 ========\n",
      "======= LIFW 2022-11-08 ~ 2024-04-15 4166 / 7856 ========\n",
      "======= LII 1999-10-27 ~ 2024-10-23 4167 / 7856 ========\n",
      "======= LILA 2016-02-15 ~ 2024-11-06 4168 / 7856 ========\n",
      "======= LILM 2021-11-16 ~ 2024-09-30 4169 / 7856 ========\n",
      "======= LIN 1993-01-27 ~ 2024-10-31 4170 / 7856 ========\n",
      "======= LINC 2005-11-04 ~ 2024-11-11 4171 / 7856 ========\n",
      "======= LIND 2016-03-11 ~ 2024-11-05 4172 / 7856 ========\n",
      "======= LINE 2024-08-21 ~ 2024-11-06 4173 / 7856 ========\n",
      "======= LINK 1996-07-15 ~ 2024-11-07 4174 / 7856 ========\n"
     ]
    },
    {
     "name": "stderr",
     "output_type": "stream",
     "text": [
      "LINX: No timezone found, symbol may be delisted\n"
     ]
    },
    {
     "name": "stdout",
     "output_type": "stream",
     "text": [
      "======= LINX 2020-06-10 ~ 2020-08-11 4175 / 7856 ========\n",
      "======= LION 2024-08-08 ~ 2024-11-07 4176 / 7856 ========\n"
     ]
    },
    {
     "name": "stderr",
     "output_type": "stream",
     "text": [
      "LIPO: No price data found, symbol may be delisted (1d 2024-11-14 -> 2024-11-14)\n"
     ]
    },
    {
     "name": "stdout",
     "output_type": "stream",
     "text": [
      "======= LIPO 2024-11-14 ~ 2024-11-14 4177 / 7856 ========\n",
      "======= LIQT 2014-05-15 ~ 2024-11-14 4178 / 7856 ========\n",
      "======= LITB 2013-08-19 ~ 2017-03-16 4179 / 7856 ========\n",
      "======= LITE 2015-08-11 ~ 2024-11-07 4180 / 7856 ========\n",
      "LITM not exist\n",
      "LITT not exist\n",
      "LIVB not exist\n",
      "======= LIVE 2004-05-11 ~ 2024-02-08 4184 / 7856 ========\n",
      "LIVK not exist\n",
      "======= LIVN 1993-04-22 ~ 2024-10-30 4186 / 7856 ========\n"
     ]
    },
    {
     "name": "stderr",
     "output_type": "stream",
     "text": [
      "LIVX: No timezone found, symbol may be delisted\n"
     ]
    },
    {
     "name": "stdout",
     "output_type": "stream",
     "text": [
      "======= LIVX 2018-06-29 ~ 2021-08-12 4187 / 7856 ========\n",
      "LIXT not exist\n"
     ]
    },
    {
     "name": "stderr",
     "output_type": "stream",
     "text": [
      "LIZI: No timezone found, symbol may be delisted\n"
     ]
    },
    {
     "name": "stdout",
     "output_type": "stream",
     "text": [
      "======= LIZI 2020-03-12 ~ 2023-11-29 4189 / 7856 ========\n",
      "LJAQ not exist\n"
     ]
    },
    {
     "name": "stderr",
     "output_type": "stream",
     "text": [
      "LJPC: No timezone found, symbol may be delisted\n"
     ]
    },
    {
     "name": "stdout",
     "output_type": "stream",
     "text": [
      "======= LJPC 1995-11-02 ~ 2022-05-16 4191 / 7856 ========\n",
      "LKCO not exist\n",
      "======= LKFN 1996-08-27 ~ 2024-10-25 4193 / 7856 ========\n",
      "======= LKQ 2004-02-26 ~ 2024-10-24 4194 / 7856 ========\n"
     ]
    },
    {
     "name": "stderr",
     "output_type": "stream",
     "text": [
      "LL: No data found, symbol may be delisted\n"
     ]
    },
    {
     "name": "stdout",
     "output_type": "stream",
     "text": [
      "======= LL 2008-03-12 ~ 2024-05-08 4195 / 7856 ========\n",
      "======= LLAP 2022-05-13 ~ 2024-08-12 4196 / 7856 ========\n",
      "LLL not exist\n"
     ]
    },
    {
     "name": "stderr",
     "output_type": "stream",
     "text": [
      "LLNW: No timezone found, symbol may be delisted\n"
     ]
    },
    {
     "name": "stdout",
     "output_type": "stream",
     "text": [
      "======= LLNW 2007-08-09 ~ 2022-07-27 4198 / 7856 ========\n",
      "======= LLY 1993-02-11 ~ 2024-10-30 4199 / 7856 ========\n",
      "======= LLYVK 2023-11-03 ~ 2024-05-08 4200 / 7856 ========\n",
      "LMACU not exist\n",
      "LMAO not exist\n",
      "======= LMAT 2007-02-28 ~ 2024-10-31 4203 / 7856 ========\n",
      "======= LMB 2016-11-14 ~ 2024-11-05 4204 / 7856 ========\n"
     ]
    },
    {
     "name": "stderr",
     "output_type": "stream",
     "text": [
      "LMDX: Period '1mo' is invalid, must be one of ['1d', '5d']\n"
     ]
    },
    {
     "name": "stdout",
     "output_type": "stream",
     "text": [
      "======= LMDX 2021-11-10 ~ 2023-11-08 4205 / 7856 ========\n",
      "======= LMND 2020-08-11 ~ 2024-10-30 4206 / 7856 ========\n"
     ]
    },
    {
     "name": "stderr",
     "output_type": "stream",
     "text": [
      "LMNL: No timezone found, symbol may be delisted\n"
     ]
    },
    {
     "name": "stdout",
     "output_type": "stream",
     "text": [
      "======= LMNL 1999-05-31 ~ 2022-03-17 4207 / 7856 ========\n",
      "======= LMNR 2012-09-10 ~ 2024-09-09 4208 / 7856 ========\n"
     ]
    },
    {
     "name": "stderr",
     "output_type": "stream",
     "text": [
      "LMNX: No timezone found, symbol may be delisted\n"
     ]
    },
    {
     "name": "stdout",
     "output_type": "stream",
     "text": [
      "======= LMNX 2000-07-26 ~ 2021-05-05 4209 / 7856 ========\n",
      "======= LMPX 2020-05-15 ~ 2021-11-16 4210 / 7856 ========\n"
     ]
    },
    {
     "name": "stderr",
     "output_type": "stream",
     "text": [
      "LMRK: No timezone found, symbol may be delisted\n"
     ]
    },
    {
     "name": "stdout",
     "output_type": "stream",
     "text": [
      "======= LMRK 2015-05-07 ~ 2021-11-05 4211 / 7856 ========\n"
     ]
    },
    {
     "name": "stderr",
     "output_type": "stream",
     "text": [
      "LMST: No timezone found, symbol may be delisted\n"
     ]
    },
    {
     "name": "stdout",
     "output_type": "stream",
     "text": [
      "======= LMST 2007-01-25 ~ 2023-04-25 4212 / 7856 ========\n",
      "======= LMT 1993-02-02 ~ 2024-10-22 4213 / 7856 ========\n",
      "======= LNC 1993-02-12 ~ 2024-10-31 4214 / 7856 ========\n",
      "LND not exist\n"
     ]
    },
    {
     "name": "stderr",
     "output_type": "stream",
     "text": [
      "LNDC: No timezone found, symbol may be delisted\n"
     ]
    },
    {
     "name": "stdout",
     "output_type": "stream",
     "text": [
      "======= LNDC 1996-03-28 ~ 2023-01-03 4216 / 7856 ========\n",
      "LNFA not exist\n",
      "======= LNG 1999-11-09 ~ 2024-10-31 4218 / 7856 ========\n",
      "LNKS not exist\n",
      "======= LNN 1993-01-08 ~ 2024-10-24 4220 / 7856 ========\n",
      "======= LNSR 2021-03-10 ~ 2024-11-07 4221 / 7856 ========\n",
      "======= LNT 1993-02-08 ~ 2024-10-31 4222 / 7856 ========\n",
      "======= LNTH 2015-08-04 ~ 2024-11-06 4223 / 7856 ========\n",
      "======= LNW 1993-02-20 ~ 2024-11-12 4224 / 7856 ========\n",
      "======= LNZA 2023-05-15 ~ 2024-11-08 4225 / 7856 ========\n",
      "======= LOAN 2016-03-08 ~ 2024-10-23 4226 / 7856 ========\n",
      "======= LOAR 2024-05-14 ~ 2024-11-13 4227 / 7856 ========\n",
      "======= LOB 2015-10-21 ~ 2024-10-23 4228 / 7856 ========\n"
     ]
    },
    {
     "name": "stderr",
     "output_type": "stream",
     "text": [
      "LOBO: No price data found, symbol may be delisted (1d 2024-09-30 -> 2024-09-30)\n"
     ]
    },
    {
     "name": "stdout",
     "output_type": "stream",
     "text": [
      "======= LOBO 2024-09-30 ~ 2024-09-30 4229 / 7856 ========\n",
      "LOCC not exist\n",
      "======= LOCL 2022-03-15 ~ 2024-11-14 4231 / 7856 ========\n",
      "======= LOCO 2014-11-06 ~ 2024-10-31 4232 / 7856 ========\n",
      "======= LOGC 2018-12-03 ~ 2024-11-07 4233 / 7856 ========\n",
      "======= LOGI 1998-01-29 ~ 2024-10-21 4234 / 7856 ========\n",
      "LOKB not exist\n",
      "LOKM not exist\n",
      "======= LOMA 2018-03-08 ~ 2024-11-06 4237 / 7856 ========\n"
     ]
    },
    {
     "name": "stderr",
     "output_type": "stream",
     "text": [
      "LONE: No timezone found, symbol may be delisted\n"
     ]
    },
    {
     "name": "stdout",
     "output_type": "stream",
     "text": [
      "======= LONE 2015-02-01 ~ 2021-08-10 4238 / 7856 ========\n",
      "======= LOOP 2019-05-07 ~ 2024-10-15 4239 / 7856 ========\n",
      "======= LOPE 2009-04-27 ~ 2024-11-06 4240 / 7856 ========\n"
     ]
    },
    {
     "name": "stderr",
     "output_type": "stream",
     "text": [
      "LORL: No timezone found, symbol may be delisted\n"
     ]
    },
    {
     "name": "stdout",
     "output_type": "stream",
     "text": [
      "======= LORL 1996-10-28 ~ 2010-11-04 4241 / 7856 ========\n",
      "LOT not exist\n",
      "LOTWW not exist\n"
     ]
    },
    {
     "name": "stderr",
     "output_type": "stream",
     "text": [
      "LOTZ: No timezone found, symbol may be delisted\n"
     ]
    },
    {
     "name": "stdout",
     "output_type": "stream",
     "text": [
      "======= LOTZ 2021-03-15 ~ 2022-11-08 4244 / 7856 ========\n"
     ]
    },
    {
     "name": "stderr",
     "output_type": "stream",
     "text": [
      "LOV: No timezone found, symbol may be delisted\n"
     ]
    },
    {
     "name": "stdout",
     "output_type": "stream",
     "text": [
      "======= LOV 2013-03-07 ~ 2023-05-15 4245 / 7856 ========\n",
      "======= LOVE 2018-09-13 ~ 2024-09-12 4246 / 7856 ========\n",
      "======= LOW 1993-05-14 ~ 2024-11-19 4247 / 7856 ========\n",
      "LPAA not exist\n",
      "LPAAU not exist\n",
      "LPAAW not exist\n",
      "LPBBU not exist\n",
      "======= LPCN 2014-05-14 ~ 2024-11-07 4252 / 7856 ========\n",
      "======= LPG 2014-09-03 ~ 2024-10-31 4253 / 7856 ========\n"
     ]
    },
    {
     "name": "stderr",
     "output_type": "stream",
     "text": [
      "LPI: No timezone found, symbol may be delisted\n"
     ]
    },
    {
     "name": "stdout",
     "output_type": "stream",
     "text": [
      "======= LPI 2012-03-20 ~ 2023-05-02 4254 / 7856 ========\n",
      "======= LPL 2006-01-12 ~ 2024-11-14 4255 / 7856 ========\n",
      "======= LPLA 2011-02-07 ~ 2024-10-30 4256 / 7856 ========\n",
      "======= LPRO 2020-08-11 ~ 2024-11-07 4257 / 7856 ========\n",
      "======= LPSN 2000-07-27 ~ 2024-11-07 4258 / 7856 ========\n",
      "======= LPTH 2001-04-26 ~ 2024-11-07 4259 / 7856 ========\n",
      "======= LPTX 2017-03-31 ~ 2024-11-13 4260 / 7856 ========\n",
      "======= LPX 1993-01-27 ~ 2024-11-05 4261 / 7856 ========\n",
      "======= LQDA 2018-10-31 ~ 2024-08-07 4262 / 7856 ========\n",
      "======= LQDT 2006-05-04 ~ 2024-08-08 4263 / 7856 ========\n",
      "======= LQR 2023-11-16 ~ 2024-11-14 4264 / 7856 ========\n",
      "======= LRCX 1993-01-19 ~ 2024-10-23 4265 / 7856 ========\n",
      "LRE not exist\n",
      "======= LRFC 2014-03-12 ~ 2024-11-12 4267 / 7856 ========\n",
      "LRHC not exist\n",
      "======= LRMR 2014-11-11 ~ 2024-10-30 4269 / 7856 ========\n",
      "======= LRN 2008-02-14 ~ 2024-10-22 4270 / 7856 ========\n",
      "======= LSAK 2005-11-03 ~ 2024-11-06 4271 / 7856 ========\n",
      "LSAQ not exist\n",
      "======= LSB 2024-04-19 ~ 2024-10-01 4273 / 7856 ========\n",
      "LSBK not exist\n",
      "LSBPW not exist\n",
      "======= LSCC 1993-01-18 ~ 2024-11-04 4276 / 7856 ========\n"
     ]
    },
    {
     "name": "stderr",
     "output_type": "stream",
     "text": [
      "LSDI: No timezone found, symbol may be delisted\n"
     ]
    },
    {
     "name": "stdout",
     "output_type": "stream",
     "text": [
      "======= LSDI 2023-11-13 ~ 2024-02-13 4277 / 7856 ========\n",
      "======= LSEA 2021-03-12 ~ 2024-11-04 4278 / 7856 ========\n",
      "LSH not exist\n"
     ]
    },
    {
     "name": "stderr",
     "output_type": "stream",
     "text": [
      "LSI: No timezone found, symbol may be delisted\n"
     ]
    },
    {
     "name": "stdout",
     "output_type": "stream",
     "text": [
      "======= LSI 2003-08-06 ~ 2023-08-02 4280 / 7856 ========\n",
      "======= LSPD 2019-05-30 ~ 2024-11-07 4281 / 7856 ========\n",
      "LSPR not exist\n",
      "======= LSTA 2010-05-17 ~ 2024-11-12 4283 / 7856 ========\n",
      "======= LSTR 1993-07-28 ~ 2024-10-29 4284 / 7856 ========\n"
     ]
    },
    {
     "name": "stderr",
     "output_type": "stream",
     "text": [
      "LSXMK: No timezone found, symbol may be delisted\n"
     ]
    },
    {
     "name": "stdout",
     "output_type": "stream",
     "text": [
      "======= LSXMK 2016-08-05 ~ 2024-08-08 4285 / 7856 ========\n",
      "LTBR not exist\n",
      "======= LTC 2003-07-30 ~ 2024-10-28 4287 / 7856 ========\n",
      "======= LTCH 2021-08-12 ~ 2022-05-05 4288 / 7856 ========\n",
      "======= LTH 2022-03-10 ~ 2024-10-24 4289 / 7856 ========\n"
     ]
    },
    {
     "name": "stderr",
     "output_type": "stream",
     "text": [
      "LTHM: No timezone found, symbol may be delisted\n"
     ]
    },
    {
     "name": "stdout",
     "output_type": "stream",
     "text": [
      "======= LTHM 2018-11-05 ~ 2024-02-13 4290 / 7856 ========\n"
     ]
    },
    {
     "name": "stderr",
     "output_type": "stream",
     "text": [
      "LTM: No price data found, symbol may be delisted (1d 2024-08-07 -> 2024-08-07)\n"
     ]
    },
    {
     "name": "stdout",
     "output_type": "stream",
     "text": [
      "======= LTM 2024-08-07 ~ 2024-08-07 4291 / 7856 ========\n",
      "======= LTRN 2020-07-30 ~ 2024-11-07 4292 / 7856 ========\n",
      "======= LTRPA 2014-11-12 ~ 2020-02-19 4293 / 7856 ========\n",
      "======= LTRX 2001-08-08 ~ 2024-11-07 4294 / 7856 ========\n"
     ]
    },
    {
     "name": "stderr",
     "output_type": "stream",
     "text": [
      "LTRY: Data doesn't exist for startDate = 1636952400, endDate = 1684728000\n"
     ]
    },
    {
     "name": "stdout",
     "output_type": "stream",
     "text": [
      "======= LTRY 2021-11-15 ~ 2023-05-22 4295 / 7856 ========\n",
      "======= LU 2020-12-01 ~ 2024-10-21 4296 / 7856 ========\n"
     ]
    },
    {
     "name": "stderr",
     "output_type": "stream",
     "text": [
      "LUB: No timezone found, symbol may be delisted\n"
     ]
    },
    {
     "name": "stdout",
     "output_type": "stream",
     "text": [
      "======= LUB 1993-03-15 ~ 2015-03-23 4297 / 7856 ========\n",
      "======= LUCD 2021-11-23 ~ 2024-08-12 4298 / 7856 ========\n",
      "======= LUCY 2023-11-14 ~ 2024-08-12 4299 / 7856 ========\n",
      "======= LULU 2007-09-10 ~ 2024-12-05 4300 / 7856 ========\n",
      "======= LUMN 1993-05-03 ~ 2024-11-05 4301 / 7856 ========\n",
      "======= LUMO 2012-03-29 ~ 2024-11-07 4302 / 7856 ========\n",
      "======= LUNA 2006-08-10 ~ 2024-09-19 4303 / 7856 ========\n",
      "======= LUNG 2020-11-10 ~ 2024-10-30 4304 / 7856 ========\n",
      "======= LUNR 2023-05-15 ~ 2024-08-13 4305 / 7856 ========\n",
      "======= LUV 1993-01-26 ~ 2024-10-24 4306 / 7856 ========\n",
      "LUXA not exist\n",
      "======= LUXH 2023-03-27 ~ 2024-11-20 4308 / 7856 ========\n",
      "LVAC not exist\n",
      "======= LVLU 2021-12-14 ~ 2024-11-13 4310 / 7856 ========\n",
      "======= LVO 2018-06-29 ~ 2024-11-07 4311 / 7856 ========\n"
     ]
    },
    {
     "name": "stderr",
     "output_type": "stream",
     "text": [
      "LVOX: No timezone found, symbol may be delisted\n"
     ]
    },
    {
     "name": "stdout",
     "output_type": "stream",
     "text": [
      "======= LVOX 2021-08-12 ~ 2023-11-09 4312 / 7856 ========\n",
      "LVRA not exist\n",
      "======= LVRO 2023-11-01 ~ 2024-11-06 4314 / 7856 ========\n",
      "======= LVS 2005-03-08 ~ 2024-10-23 4315 / 7856 ========\n",
      "======= LVTX 2021-05-20 ~ 2024-08-20 4316 / 7856 ========\n",
      "======= LVWR 2023-02-02 ~ 2024-10-24 4317 / 7856 ========\n",
      "======= LW 2017-01-10 ~ 2024-10-01 4318 / 7856 ========\n",
      "LWAC not exist\n",
      "======= LWAY 2001-03-21 ~ 2024-08-13 4320 / 7856 ========\n"
     ]
    },
    {
     "name": "stderr",
     "output_type": "stream",
     "text": [
      "LWLG: No price data found, symbol may be delisted (1d 2014-03-31 -> 2014-03-31)\n"
     ]
    },
    {
     "name": "stdout",
     "output_type": "stream",
     "text": [
      "======= LWLG 2014-03-31 ~ 2014-03-31 4321 / 7856 ========\n",
      "======= LX 2018-03-20 ~ 2023-03-13 4322 / 7856 ========\n",
      "LXEH not exist\n",
      "======= LXEO 2023-11-06 ~ 2024-11-13 4324 / 7856 ========\n",
      "======= LXFR 2012-11-13 ~ 2024-10-29 4325 / 7856 ========\n",
      "======= LXP 2003-07-23 ~ 2024-11-06 4326 / 7856 ========\n",
      "======= LXRX 2000-07-27 ~ 2024-08-01 4327 / 7856 ========\n",
      "======= LXU 2007-11-05 ~ 2024-10-29 4328 / 7856 ========\n",
      "======= LYB 2010-10-29 ~ 2024-11-01 4329 / 7856 ========\n",
      "======= LYEL 2021-08-12 ~ 2024-11-07 4330 / 7856 ========\n",
      "======= LYFT 2019-05-07 ~ 2024-11-06 4331 / 7856 ========\n",
      "======= LYG 2020-07-30 ~ 2024-10-23 4332 / 7856 ========\n",
      "LYL not exist\n"
     ]
    },
    {
     "name": "stderr",
     "output_type": "stream",
     "text": [
      "LYLT: No timezone found, symbol may be delisted\n"
     ]
    },
    {
     "name": "stdout",
     "output_type": "stream",
     "text": [
      "======= LYLT 2021-11-24 ~ 2023-03-16 4334 / 7856 ========\n",
      "LYLTV not exist\n",
      "======= LYRA 2020-08-05 ~ 2024-08-14 4336 / 7856 ========\n",
      "LYT not exist\n",
      "======= LYTS 1993-11-01 ~ 2024-11-07 4338 / 7856 ========\n",
      "======= LYV 2006-05-05 ~ 2024-11-11 4339 / 7856 ========\n",
      "======= LZ 2021-08-12 ~ 2024-11-06 4340 / 7856 ========\n",
      "======= LZB 1993-02-10 ~ 2024-11-19 4341 / 7856 ========\n",
      "======= LZM 2023-09-20 ~ 2024-08-19 4342 / 7856 ========\n",
      "======= M 1993-03-08 ~ 2024-11-26 4343 / 7856 ========\n",
      "======= MA 2006-11-01 ~ 2024-10-31 4344 / 7856 ========\n",
      "======= MAA 2005-08-04 ~ 2024-10-30 4345 / 7856 ========\n",
      "MAAC not exist\n",
      "MAAQ not exist\n",
      "======= MAC 2002-11-13 ~ 2024-11-06 4348 / 7856 ========\n",
      "MACA not exist\n",
      "MACC not exist\n",
      "MACI not exist\n",
      "MACIW not exist\n"
     ]
    },
    {
     "name": "stderr",
     "output_type": "stream",
     "text": [
      "MACK: No timezone found, symbol may be delisted\n"
     ]
    },
    {
     "name": "stdout",
     "output_type": "stream",
     "text": [
      "======= MACK 2012-08-10 ~ 2019-03-06 4353 / 7856 ========\n",
      "MACQ not exist\n",
      "MACU not exist\n",
      "MAGN not exist\n",
      "======= MAIN 2008-03-10 ~ 2024-11-08 4357 / 7856 ========\n",
      "======= MAMA 2023-04-26 ~ 2024-09-10 4358 / 7856 ========\n",
      "MAMO not exist\n",
      "======= MAN 1993-02-24 ~ 2024-10-17 4360 / 7856 ========\n",
      "======= MANH 1998-10-26 ~ 2024-10-22 4361 / 7856 ========\n"
     ]
    },
    {
     "name": "stderr",
     "output_type": "stream",
     "text": [
      "MANT: No timezone found, symbol may be delisted\n"
     ]
    },
    {
     "name": "stdout",
     "output_type": "stream",
     "text": [
      "======= MANT 2002-05-07 ~ 2022-08-03 4362 / 7856 ========\n",
      "======= MANU 2012-09-18 ~ 2024-09-11 4363 / 7856 ========\n",
      "======= MAPS 2021-11-11 ~ 2024-11-12 4364 / 7856 ========\n",
      "MAQC not exist\n",
      "======= MAR 1993-02-05 ~ 2024-11-04 4366 / 7856 ========\n",
      "======= MARA 2014-08-14 ~ 2024-11-12 4367 / 7856 ========\n",
      "======= MARK 2016-11-14 ~ 2021-08-23 4368 / 7856 ========\n",
      "MARX not exist\n",
      "======= MAS 1993-02-10 ~ 2024-10-29 4370 / 7856 ========\n",
      "======= MASI 2007-10-30 ~ 2024-11-05 4371 / 7856 ========\n",
      "======= MASS 2021-03-30 ~ 2024-11-12 4372 / 7856 ========\n",
      "======= MAT 1993-04-22 ~ 2024-10-23 4373 / 7856 ========\n",
      "MATH not exist\n",
      "======= MATV 1996-01-31 ~ 2024-11-06 4375 / 7856 ========\n",
      "======= MATW 1995-01-30 ~ 2024-11-21 4376 / 7856 ========\n",
      "======= MATX 1993-01-28 ~ 2024-10-30 4377 / 7856 ========\n",
      "======= MAX 2020-12-10 ~ 2024-10-30 4378 / 7856 ========\n",
      "======= MAXN 2020-09-08 ~ 2024-09-03 4379 / 7856 ========\n"
     ]
    },
    {
     "name": "stderr",
     "output_type": "stream",
     "text": [
      "MAXR: No timezone found, symbol may be delisted\n"
     ]
    },
    {
     "name": "stdout",
     "output_type": "stream",
     "text": [
      "======= MAXR 2001-04-24 ~ 2023-05-08 4380 / 7856 ========\n",
      "MAYS not exist\n",
      "MBAC not exist\n",
      "MBAV not exist\n",
      "MBAVU not exist\n",
      "MBAVW not exist\n",
      "======= MBC 2023-03-07 ~ 2024-11-05 4386 / 7856 ========\n",
      "======= MBCN 2015-10-22 ~ 2024-10-17 4387 / 7856 ========\n",
      "======= MBI 1993-02-02 ~ 2024-11-08 4388 / 7856 ========\n"
     ]
    },
    {
     "name": "stderr",
     "output_type": "stream",
     "text": [
      "MBII: No timezone found, symbol may be delisted\n"
     ]
    },
    {
     "name": "stdout",
     "output_type": "stream",
     "text": [
      "======= MBII 2013-11-07 ~ 2022-05-11 4389 / 7856 ========\n",
      "======= MBIN 2018-02-08 ~ 2024-10-28 4390 / 7856 ========\n",
      "======= MBIO 2018-03-29 ~ 2024-11-08 4391 / 7856 ========\n",
      "======= MBLY 2023-01-26 ~ 2024-10-31 4392 / 7856 ========\n",
      "MBNKP not exist\n",
      "======= MBOT 1996-01-22 ~ 2024-08-14 4394 / 7856 ========\n",
      "======= MBRX 2017-05-15 ~ 2024-11-11 4395 / 7856 ========\n",
      "MBSC not exist\n"
     ]
    },
    {
     "name": "stderr",
     "output_type": "stream",
     "text": [
      "MBT: No timezone found, symbol may be delisted\n"
     ]
    },
    {
     "name": "stdout",
     "output_type": "stream",
     "text": [
      "======= MBT 2004-11-23 ~ 2022-03-03 4397 / 7856 ========\n",
      "MBTC not exist\n",
      "======= MBUU 2014-05-07 ~ 2024-10-31 4399 / 7856 ========\n",
      "======= MBWM 1999-01-14 ~ 2024-10-15 4400 / 7856 ========\n",
      "MBX not exist\n",
      "======= MC 2014-07-30 ~ 2024-10-23 4402 / 7856 ========\n",
      "MCAA not exist\n",
      "MCAC not exist\n",
      "MCAD not exist\n",
      "MCAE not exist\n",
      "MCAF not exist\n",
      "MCAG not exist\n",
      "======= MCB 2018-01-29 ~ 2024-10-17 4409 / 7856 ========\n"
     ]
    },
    {
     "name": "stderr",
     "output_type": "stream",
     "text": [
      "MCBC: No timezone found, symbol may be delisted\n"
     ]
    },
    {
     "name": "stdout",
     "output_type": "stream",
     "text": [
      "======= MCBC 2001-03-13 ~ 2024-04-25 4410 / 7856 ========\n",
      "======= MCBS 2020-01-24 ~ 2024-10-18 4411 / 7856 ========\n",
      "======= MCD 1993-01-27 ~ 2024-10-29 4412 / 7856 ========\n"
     ]
    },
    {
     "name": "stderr",
     "output_type": "stream",
     "text": [
      "MCFE: No timezone found, symbol may be delisted\n"
     ]
    },
    {
     "name": "stdout",
     "output_type": "stream",
     "text": [
      "======= MCFE 2020-11-19 ~ 2022-02-23 4413 / 7856 ========\n",
      "======= MCFT 2015-09-17 ~ 2024-11-06 4414 / 7856 ========\n"
     ]
    },
    {
     "name": "stderr",
     "output_type": "stream",
     "text": [
      "MCG: No timezone found, symbol may be delisted\n"
     ]
    },
    {
     "name": "stdout",
     "output_type": "stream",
     "text": [
      "======= MCG 2021-08-26 ~ 2023-03-08 4415 / 7856 ========\n",
      "======= MCHP 1994-04-21 ~ 2024-11-05 4416 / 7856 ========\n",
      "======= MCHX 2004-10-28 ~ 2024-10-31 4417 / 7856 ========\n",
      "MCI not exist\n",
      "======= MCK 1993-01-25 ~ 2024-11-06 4419 / 7856 ========\n"
     ]
    },
    {
     "name": "stderr",
     "output_type": "stream",
     "text": [
      "MCLD: Period '1mo' is invalid, must be one of ['1d', '5d']\n"
     ]
    },
    {
     "name": "stdout",
     "output_type": "stream",
     "text": [
      "======= MCLD 2018-05-29 ~ 2022-11-15 4420 / 7856 ========\n",
      "MCMJ not exist\n",
      "======= MCO 2001-02-05 ~ 2024-10-22 4422 / 7856 ========\n",
      "MCOM not exist\n",
      "======= MCRB 2015-08-06 ~ 2024-11-13 4424 / 7856 ========\n",
      "======= MCRI 1993-10-29 ~ 2024-10-23 4425 / 7856 ========\n",
      "======= MCS 1993-03-02 ~ 2024-10-31 4426 / 7856 ========\n",
      "MCVT not exist\n",
      "======= MCW 2021-08-12 ~ 2024-10-30 4428 / 7856 ========\n",
      "======= MCY 1993-05-10 ~ 2024-10-29 4429 / 7856 ========\n",
      "======= MD 1996-02-01 ~ 2024-11-01 4430 / 7856 ========\n",
      "======= MDAI 2024-03-27 ~ 2024-11-06 4431 / 7856 ========\n",
      "======= MDB 2017-12-12 ~ 2024-08-29 4432 / 7856 ========\n",
      "MDBH not exist\n"
     ]
    },
    {
     "name": "stderr",
     "output_type": "stream",
     "text": [
      "MDC: No timezone found, symbol may be delisted\n"
     ]
    },
    {
     "name": "stdout",
     "output_type": "stream",
     "text": [
      "======= MDC 1995-10-25 ~ 2024-05-07 4434 / 7856 ========\n"
     ]
    },
    {
     "name": "stderr",
     "output_type": "stream",
     "text": [
      "MDCA: No timezone found, symbol may be delisted\n"
     ]
    },
    {
     "name": "stdout",
     "output_type": "stream",
     "text": [
      "======= MDCA 1997-02-26 ~ 2019-05-07 4435 / 7856 ========\n",
      "======= MDCX 2024-04-29 ~ 2024-11-22 4436 / 7856 ========\n",
      "MDCXW not exist\n",
      "======= MDGL 2007-05-07 ~ 2024-10-31 4438 / 7856 ========\n",
      "MDGS not exist\n",
      "MDGSW not exist\n",
      "MDH not exist\n",
      "MDIA not exist\n",
      "MDJH not exist\n"
     ]
    },
    {
     "name": "stderr",
     "output_type": "stream",
     "text": [
      "MDLA: No timezone found, symbol may be delisted\n"
     ]
    },
    {
     "name": "stdout",
     "output_type": "stream",
     "text": [
      "======= MDLA 2019-09-05 ~ 2021-09-02 4444 / 7856 ========\n"
     ]
    },
    {
     "name": "stderr",
     "output_type": "stream",
     "text": [
      "MDLY: No timezone found, symbol may be delisted\n"
     ]
    },
    {
     "name": "stdout",
     "output_type": "stream",
     "text": [
      "======= MDLY 2014-11-13 ~ 2020-08-14 4445 / 7856 ========\n",
      "======= MDLZ 2001-10-16 ~ 2024-10-29 4446 / 7856 ========\n"
     ]
    },
    {
     "name": "stderr",
     "output_type": "stream",
     "text": [
      "MDNA: Period '1mo' is invalid, must be one of ['1d', '5d']\n"
     ]
    },
    {
     "name": "stdout",
     "output_type": "stream",
     "text": [
      "======= MDNA 2018-02-12 ~ 2023-11-03 4447 / 7856 ========\n"
     ]
    },
    {
     "name": "stderr",
     "output_type": "stream",
     "text": [
      "MDP: No timezone found, symbol may be delisted\n"
     ]
    },
    {
     "name": "stdout",
     "output_type": "stream",
     "text": [
      "======= MDP 1993-01-19 ~ 2021-10-28 4448 / 7856 ========\n",
      "======= MDRR 2019-08-13 ~ 2021-11-15 4449 / 7856 ========\n",
      "======= MDT 1993-02-12 ~ 2024-11-19 4450 / 7856 ========\n",
      "======= MDU 1993-01-27 ~ 2024-11-07 4451 / 7856 ========\n",
      "======= MDV 2022-05-16 ~ 2024-11-06 4452 / 7856 ========\n"
     ]
    },
    {
     "name": "stderr",
     "output_type": "stream",
     "text": [
      "MDVL: No timezone found, symbol may be delisted\n"
     ]
    },
    {
     "name": "stdout",
     "output_type": "stream",
     "text": [
      "======= MDVL 2019-05-08 ~ 2023-08-14 4453 / 7856 ========\n",
      "======= MDWD 2014-05-02 ~ 2024-08-14 4454 / 7856 ========\n"
     ]
    },
    {
     "name": "stderr",
     "output_type": "stream",
     "text": [
      "MDWT: No timezone found, symbol may be delisted\n"
     ]
    },
    {
     "name": "stdout",
     "output_type": "stream",
     "text": [
      "======= MDWT 2021-05-13 ~ 2023-11-13 4455 / 7856 ========\n",
      "======= MDXG 2013-03-07 ~ 2024-10-30 4456 / 7856 ========\n",
      "======= MDXH 2022-03-02 ~ 2024-11-06 4457 / 7856 ========\n",
      "======= ME 2021-11-10 ~ 2024-08-08 4458 / 7856 ========\n",
      "MEAC not exist\n",
      "======= MEC 2019-08-06 ~ 2024-11-05 4460 / 7856 ========\n",
      "======= MED 2003-05-05 ~ 2024-11-04 4461 / 7856 ========\n",
      "======= MEDP 2016-11-03 ~ 2024-10-21 4462 / 7856 ========\n"
     ]
    },
    {
     "name": "stderr",
     "output_type": "stream",
     "text": [
      "MEDS: No data found, symbol may be delisted\n"
     ]
    },
    {
     "name": "stdout",
     "output_type": "stream",
     "text": [
      "======= MEDS 2015-03-21 ~ 2023-11-06 4463 / 7856 ========\n",
      "======= MEG 2020-08-31 ~ 2024-11-06 4464 / 7856 ========\n",
      "MEGL not exist\n",
      "======= MEI 1993-02-26 ~ 2024-12-05 4466 / 7856 ========\n",
      "======= MEIP 2004-05-14 ~ 2024-09-19 4467 / 7856 ========\n",
      "MEKA not exist\n",
      "======= MELI 2007-11-13 ~ 2024-11-06 4469 / 7856 ========\n",
      "MEOA not exist\n",
      "======= MEOH 1993-11-26 ~ 2024-11-06 4471 / 7856 ========\n",
      "======= MERC 2009-11-06 ~ 2024-10-31 4472 / 7856 ========\n",
      "======= MESA 2018-12-03 ~ 2024-10-16 4473 / 7856 ========\n",
      "======= MESO 2016-08-25 ~ 2024-10-30 4474 / 7856 ========\n",
      "======= MET 2000-08-09 ~ 2024-10-30 4475 / 7856 ========\n",
      "======= META 2012-07-26 ~ 2024-10-30 4476 / 7856 ========\n",
      "======= METC 2017-05-10 ~ 2024-11-04 4477 / 7856 ========\n",
      "METCB not exist\n"
     ]
    },
    {
     "name": "stderr",
     "output_type": "stream",
     "text": [
      "METX: No timezone found, symbol may be delisted\n"
     ]
    },
    {
     "name": "stdout",
     "output_type": "stream",
     "text": [
      "======= METX 2021-08-18 ~ 2021-08-18 4479 / 7856 ========\n",
      "METXW not exist\n"
     ]
    },
    {
     "name": "stderr",
     "output_type": "stream",
     "text": [
      "MF: Period '1mo' is invalid, must be one of ['1d', '5d']\n"
     ]
    },
    {
     "name": "stdout",
     "output_type": "stream",
     "text": [
      "======= MF 2021-08-26 ~ 2021-11-11 4481 / 7856 ========\n",
      "======= MFA 2002-01-29 ~ 2024-11-06 4482 / 7856 ========\n",
      "MFAN not exist\n",
      "MFAO not exist\n",
      "======= MFC 1999-11-15 ~ 2024-11-06 4485 / 7856 ========\n",
      "======= MFG 2021-11-12 ~ 2024-11-14 4486 / 7856 ========\n",
      "MFGP not exist\n",
      "MFH not exist\n",
      "MFI not exist\n",
      "======= MFIC 2004-08-12 ~ 2024-11-07 4490 / 7856 ========\n",
      "======= MFIN 1996-07-25 ~ 2024-10-29 4491 / 7856 ========\n"
     ]
    },
    {
     "name": "stderr",
     "output_type": "stream",
     "text": [
      "MFNC: No timezone found, symbol may be delisted\n"
     ]
    },
    {
     "name": "stdout",
     "output_type": "stream",
     "text": [
      "======= MFNC 2006-01-27 ~ 2021-07-22 4492 / 7856 ========\n",
      "======= MG 2010-01-07 ~ 2024-10-30 4493 / 7856 ========\n",
      "======= MGA 1993-03-03 ~ 2024-11-01 4494 / 7856 ========\n",
      "======= MGAM 2023-05-12 ~ 2024-05-20 4495 / 7856 ========\n",
      "======= MGEE 1993-02-16 ~ 2024-11-06 4496 / 7856 ========\n"
     ]
    },
    {
     "name": "stderr",
     "output_type": "stream",
     "text": [
      "MGI: No timezone found, symbol may be delisted\n"
     ]
    },
    {
     "name": "stdout",
     "output_type": "stream",
     "text": [
      "======= MGI 2004-07-29 ~ 2023-04-28 4497 / 7856 ========\n",
      "======= MGIC 1994-02-18 ~ 2024-11-18 4498 / 7856 ========\n",
      "MGIH not exist\n"
     ]
    },
    {
     "name": "stderr",
     "output_type": "stream",
     "text": [
      "MGLN: No timezone found, symbol may be delisted\n"
     ]
    },
    {
     "name": "stdout",
     "output_type": "stream",
     "text": [
      "======= MGLN 1994-05-04 ~ 2021-11-05 4500 / 7856 ========\n",
      "======= MGM 1994-02-11 ~ 2024-10-30 4501 / 7856 ========\n",
      "======= MGNI 2014-07-29 ~ 2024-11-07 4502 / 7856 ========\n",
      "======= MGNX 2013-11-12 ~ 2024-11-05 4503 / 7856 ========\n",
      "MGOL not exist\n"
     ]
    },
    {
     "name": "stderr",
     "output_type": "stream",
     "text": [
      "MGP: No timezone found, symbol may be delisted\n"
     ]
    },
    {
     "name": "stdout",
     "output_type": "stream",
     "text": [
      "======= MGP 2016-08-04 ~ 2022-04-21 4505 / 7856 ========\n",
      "======= MGPI 1993-02-08 ~ 2024-10-31 4506 / 7856 ========\n",
      "MGR not exist\n",
      "MGRB not exist\n",
      "======= MGRC 1993-02-23 ~ 2024-10-24 4509 / 7856 ========\n",
      "MGRD not exist\n",
      "MGRE not exist\n",
      "======= MGRM 2024-05-13 ~ 2024-08-14 4512 / 7856 ========\n",
      "MGRX not exist\n"
     ]
    },
    {
     "name": "stderr",
     "output_type": "stream",
     "text": [
      "MGTA: No timezone found, symbol may be delisted\n"
     ]
    },
    {
     "name": "stdout",
     "output_type": "stream",
     "text": [
      "======= MGTA 2018-08-09 ~ 2023-11-02 4514 / 7856 ========\n",
      "======= MGTX 2018-08-08 ~ 2024-08-12 4515 / 7856 ========\n",
      "======= MGX 2024-05-14 ~ 2024-08-14 4516 / 7856 ========\n",
      "======= MGY 2018-08-14 ~ 2024-10-30 4517 / 7856 ========\n",
      "======= MGYR 2007-04-23 ~ 2008-01-23 4518 / 7856 ========\n",
      "======= MHK 1993-04-21 ~ 2024-10-24 4519 / 7856 ========\n",
      "MHLA not exist\n",
      "======= MHLD 2008-07-30 ~ 2020-03-18 4521 / 7856 ========\n",
      "MHNC not exist\n",
      "======= MHO 1994-05-03 ~ 2024-10-30 4523 / 7856 ========\n",
      "MHUA not exist\n"
     ]
    },
    {
     "name": "stderr",
     "output_type": "stream",
     "text": [
      "MIC: No timezone found, symbol may be delisted\n"
     ]
    },
    {
     "name": "stdout",
     "output_type": "stream",
     "text": [
      "======= MIC 2005-05-16 ~ 2021-11-02 4525 / 7856 ========\n"
     ]
    },
    {
     "name": "stderr",
     "output_type": "stream",
     "text": [
      "MICS: No data found, symbol may be delisted\n"
     ]
    },
    {
     "name": "stdout",
     "output_type": "stream",
     "text": [
      "======= MICS 2003-08-14 ~ 2024-04-16 4526 / 7856 ========\n"
     ]
    },
    {
     "name": "stderr",
     "output_type": "stream",
     "text": [
      "MICT: No timezone found, symbol may be delisted\n"
     ]
    },
    {
     "name": "stdout",
     "output_type": "stream",
     "text": [
      "======= MICT 2013-11-14 ~ 2021-11-15 4527 / 7856 ========\n",
      "MICTW not exist\n",
      "======= MIDD 1995-07-25 ~ 2024-10-31 4529 / 7856 ========\n",
      "======= MIGI 2021-11-15 ~ 2024-11-14 4530 / 7856 ========\n",
      "MIIIU not exist\n",
      "MIIIW not exist\n"
     ]
    },
    {
     "name": "stderr",
     "output_type": "stream",
     "text": [
      "MILE: No timezone found, symbol may be delisted\n"
     ]
    },
    {
     "name": "stdout",
     "output_type": "stream",
     "text": [
      "======= MILE 2021-05-17 ~ 2022-05-10 4533 / 7856 ========\n"
     ]
    },
    {
     "name": "stderr",
     "output_type": "stream",
     "text": [
      "MIME: No timezone found, symbol may be delisted\n"
     ]
    },
    {
     "name": "stdout",
     "output_type": "stream",
     "text": [
      "======= MIME 2016-02-08 ~ 2022-02-03 4534 / 7856 ========\n",
      "======= MIND 1996-03-27 ~ 2024-09-11 4535 / 7856 ========\n",
      "======= MINM 2011-05-05 ~ 2023-09-14 4536 / 7856 ========\n",
      "======= MIR 2022-05-04 ~ 2024-10-29 4537 / 7856 ========\n",
      "======= MIRA 2023-11-13 ~ 2024-11-12 4538 / 7856 ========\n",
      "======= MIRM 2019-08-28 ~ 2024-11-12 4539 / 7856 ========\n"
     ]
    },
    {
     "name": "stderr",
     "output_type": "stream",
     "text": [
      "MIRO: No timezone found, symbol may be delisted\n"
     ]
    },
    {
     "name": "stdout",
     "output_type": "stream",
     "text": [
      "======= MIRO 2021-08-12 ~ 2023-11-14 4540 / 7856 ========\n",
      "======= MIST 2019-08-13 ~ 2024-11-12 4541 / 7856 ========\n",
      "MIT not exist\n",
      "MITA not exist\n"
     ]
    },
    {
     "name": "stderr",
     "output_type": "stream",
     "text": [
      "MITC: No timezone found, symbol may be delisted\n"
     ]
    },
    {
     "name": "stdout",
     "output_type": "stream",
     "text": [
      "======= MITC 2022-05-31 ~ 2022-05-31 4544 / 7856 ========\n",
      "======= MITK 1997-04-23 ~ 2024-08-08 4545 / 7856 ========\n",
      "MITN not exist\n"
     ]
    },
    {
     "name": "stderr",
     "output_type": "stream",
     "text": [
      "MITO: No timezone found, symbol may be delisted\n"
     ]
    },
    {
     "name": "stdout",
     "output_type": "stream",
     "text": [
      "======= MITO 2019-05-15 ~ 2022-05-18 4547 / 7856 ========\n",
      "MITP not exist\n",
      "======= MITT 2011-11-14 ~ 2024-11-05 4549 / 7856 ========\n"
     ]
    },
    {
     "name": "stderr",
     "output_type": "stream",
     "text": [
      "MIXT: No timezone found, symbol may be delisted\n"
     ]
    },
    {
     "name": "stdout",
     "output_type": "stream",
     "text": [
      "======= MIXT 2013-11-07 ~ 2024-02-01 4550 / 7856 ========\n",
      "======= MKC 1993-01-28 ~ 2024-10-01 4551 / 7856 ========\n",
      "MKD not exist\n",
      "MKDW not exist\n",
      "MKDWW not exist\n",
      "======= MKFG 2021-08-12 ~ 2024-11-07 4555 / 7856 ========\n",
      "MKGI not exist\n",
      "======= MKL 1993-05-11 ~ 2024-10-30 4557 / 7856 ========\n",
      "======= MKSI 1999-07-23 ~ 2024-11-07 4558 / 7856 ========\n",
      "======= MKTW 2021-08-12 ~ 2024-11-07 4559 / 7856 ========\n",
      "======= MKTX 2005-05-04 ~ 2024-11-06 4560 / 7856 ========\n"
     ]
    },
    {
     "name": "stderr",
     "output_type": "stream",
     "text": [
      "MKUL: No timezone found, symbol may be delisted\n"
     ]
    },
    {
     "name": "stdout",
     "output_type": "stream",
     "text": [
      "======= MKUL 2022-03-31 ~ 2023-08-14 4561 / 7856 ========\n",
      "MKZR not exist\n",
      "======= ML 2021-11-15 ~ 2024-11-07 4563 / 7856 ========\n",
      "======= MLAB 2012-05-23 ~ 2024-11-07 4564 / 7856 ========\n",
      "MLAC not exist\n",
      "MLAI not exist\n",
      "======= MLCO 2007-05-15 ~ 2024-11-05 4567 / 7856 ========\n",
      "======= MLEC 2023-12-14 ~ 2024-10-02 4568 / 7856 ========\n",
      "MLGO not exist\n"
     ]
    },
    {
     "name": "stderr",
     "output_type": "stream",
     "text": [
      "MLHR: No timezone found, symbol may be delisted\n"
     ]
    },
    {
     "name": "stdout",
     "output_type": "stream",
     "text": [
      "======= MLHR 1993-03-17 ~ 2021-09-29 4570 / 7856 ========\n",
      "======= MLI 1994-04-22 ~ 2024-10-22 4571 / 7856 ========\n",
      "======= MLKN 1993-03-17 ~ 2024-09-19 4572 / 7856 ========\n",
      "======= MLM 1994-07-25 ~ 2024-10-30 4573 / 7856 ========\n",
      "MLND not exist\n",
      "======= MLNK 2021-09-07 ~ 2024-11-07 4575 / 7856 ========\n",
      "======= MLP 2009-05-02 ~ 2010-11-01 4576 / 7856 ========\n",
      "======= MLR 1995-03-13 ~ 2024-11-12 4577 / 7856 ========\n",
      "======= MLTX 2022-08-12 ~ 2024-11-07 4578 / 7856 ========\n"
     ]
    },
    {
     "name": "stderr",
     "output_type": "stream",
     "text": [
      "MLVF: No timezone found, symbol may be delisted\n"
     ]
    },
    {
     "name": "stdout",
     "output_type": "stream",
     "text": [
      "======= MLVF 2009-01-28 ~ 2023-05-12 4579 / 7856 ========\n",
      "======= MLYS 2023-03-15 ~ 2024-08-13 4580 / 7856 ========\n"
     ]
    },
    {
     "name": "stderr",
     "output_type": "stream",
     "text": [
      "MMAC: No timezone found, symbol may be delisted\n"
     ]
    },
    {
     "name": "stdout",
     "output_type": "stream",
     "text": [
      "======= MMAC 1998-07-08 ~ 2006-08-01 4581 / 7856 ========\n"
     ]
    },
    {
     "name": "stderr",
     "output_type": "stream",
     "text": [
      "MMAT: No timezone found, symbol may be delisted\n"
     ]
    },
    {
     "name": "stdout",
     "output_type": "stream",
     "text": [
      "======= MMAT 2013-11-14 ~ 2024-05-13 4582 / 7856 ========\n",
      "======= MMC 1993-01-28 ~ 2024-10-17 4583 / 7856 ========\n",
      "======= MMI 2014-03-11 ~ 2024-11-08 4584 / 7856 ========\n",
      "======= MMLP 2002-12-30 ~ 2024-10-16 4585 / 7856 ========\n",
      "======= MMM 1993-02-03 ~ 2024-10-22 4586 / 7856 ========\n"
     ]
    },
    {
     "name": "stderr",
     "output_type": "stream",
     "text": [
      "MMMB: No timezone found, symbol may be delisted\n"
     ]
    },
    {
     "name": "stdout",
     "output_type": "stream",
     "text": [
      "======= MMMB 2014-12-23 ~ 2023-09-13 4587 / 7856 ========\n"
     ]
    },
    {
     "name": "stderr",
     "output_type": "stream",
     "text": [
      "MMP: No timezone found, symbol may be delisted\n"
     ]
    },
    {
     "name": "stdout",
     "output_type": "stream",
     "text": [
      "======= MMP 2002-01-28 ~ 2023-10-26 4588 / 7856 ========\n",
      "======= MMS 1997-11-20 ~ 2024-11-20 4589 / 7856 ========\n",
      "======= MMSI 1993-02-05 ~ 2024-10-30 4590 / 7856 ========\n",
      "MMV not exist\n",
      "======= MMYT 2011-02-09 ~ 2024-10-23 4592 / 7856 ========\n"
     ]
    },
    {
     "name": "stderr",
     "output_type": "stream",
     "text": [
      "MN: No timezone found, symbol may be delisted\n"
     ]
    },
    {
     "name": "stdout",
     "output_type": "stream",
     "text": [
      "======= MN 2012-02-15 ~ 2020-10-28 4593 / 7856 ========\n",
      "======= MNDO 2001-11-13 ~ 2005-11-15 4594 / 7856 ========\n",
      "MNDR not exist\n"
     ]
    },
    {
     "name": "stderr",
     "output_type": "stream",
     "text": [
      "MNDT: No timezone found, symbol may be delisted\n"
     ]
    },
    {
     "name": "stdout",
     "output_type": "stream",
     "text": [
      "======= MNDT 2013-11-07 ~ 2022-08-02 4596 / 7856 ========\n",
      "======= MNDY 2021-08-17 ~ 2024-11-11 4597 / 7856 ========\n",
      "======= MNKD 2004-11-03 ~ 2024-11-07 4598 / 7856 ========\n",
      "======= MNMD 2020-11-13 ~ 2024-11-07 4599 / 7856 ========\n",
      "======= MNOV 2007-02-15 ~ 2024-11-13 4600 / 7856 ========\n",
      "======= MNPR 2020-03-27 ~ 2024-11-08 4601 / 7856 ========\n",
      "======= MNR 2009-12-10 ~ 2024-11-12 4602 / 7856 ========\n"
     ]
    },
    {
     "name": "stderr",
     "output_type": "stream",
     "text": [
      "MNRL: No timezone found, symbol may be delisted\n"
     ]
    },
    {
     "name": "stdout",
     "output_type": "stream",
     "text": [
      "======= MNRL 2019-04-19 ~ 2022-11-03 4603 / 7856 ========\n",
      "======= MNRO 1993-01-27 ~ 2024-10-30 4604 / 7856 ========\n",
      "======= MNSB 2018-04-23 ~ 2024-10-28 4605 / 7856 ========\n",
      "======= MNSO 2020-12-18 ~ 2024-11-29 4606 / 7856 ========\n",
      "======= MNST 1998-05-13 ~ 2024-11-07 4607 / 7856 ========\n",
      "======= MNTK 2021-04-01 ~ 2024-08-08 4608 / 7856 ========\n",
      "MNTN not exist\n",
      "======= MNTS 2023-03-07 ~ 2024-10-15 4610 / 7856 ========\n"
     ]
    },
    {
     "name": "stderr",
     "output_type": "stream",
     "text": [
      "MNTV: No timezone found, symbol may be delisted\n"
     ]
    },
    {
     "name": "stdout",
     "output_type": "stream",
     "text": [
      "======= MNTV 2018-11-13 ~ 2023-05-04 4611 / 7856 ========\n",
      "======= MNTX 2006-08-14 ~ 2024-11-07 4612 / 7856 ========\n",
      "MNY not exist\n",
      "======= MO 1993-01-27 ~ 2024-10-31 4614 / 7856 ========\n",
      "MOB not exist\n",
      "MOBBW not exist\n"
     ]
    },
    {
     "name": "stderr",
     "output_type": "stream",
     "text": [
      "MOBL: No timezone found, symbol may be delisted\n"
     ]
    },
    {
     "name": "stdout",
     "output_type": "stream",
     "text": [
      "======= MOBL 2014-07-30 ~ 2020-10-28 4617 / 7856 ========\n",
      "MOBQ not exist\n",
      "MOBV not exist\n",
      "MOBX not exist\n",
      "======= MOD 1993-01-20 ~ 2024-10-29 4621 / 7856 ========\n",
      "======= MODD 2022-08-11 ~ 2024-08-13 4622 / 7856 ========\n",
      "======= MODG 1993-02-05 ~ 2024-11-12 4623 / 7856 ========\n"
     ]
    },
    {
     "name": "stderr",
     "output_type": "stream",
     "text": [
      "MODN: No timezone found, symbol may be delisted\n"
     ]
    },
    {
     "name": "stdout",
     "output_type": "stream",
     "text": [
      "======= MODN 2013-05-07 ~ 2024-08-13 4624 / 7856 ========\n",
      "======= MODV 2003-11-10 ~ 2024-11-06 4625 / 7856 ========\n",
      "======= MOFG 2008-04-30 ~ 2024-10-24 4626 / 7856 ========\n",
      "======= MOG-A 1993-02-02 ~ 2024-11-01 4627 / 7856 ========\n",
      "======= MOGO 2018-11-07 ~ 2024-11-06 4628 / 7856 ========\n",
      "======= MOGU 2019-02-25 ~ 2021-12-23 4629 / 7856 ========\n",
      "======= MOH 2004-02-11 ~ 2024-10-23 4630 / 7856 ========\n"
     ]
    },
    {
     "name": "stderr",
     "output_type": "stream",
     "text": [
      "MOHO: No timezone found, symbol may be delisted\n"
     ]
    },
    {
     "name": "stdout",
     "output_type": "stream",
     "text": [
      "======= MOHO 2020-07-03 ~ 2020-07-03 4631 / 7856 ========\n",
      "======= MOLN 2022-03-15 ~ 2024-10-31 4632 / 7856 ========\n",
      "======= MOMO 2015-05-18 ~ 2024-09-03 4633 / 7856 ========\n",
      "MON not exist\n",
      "MONCW not exist\n",
      "======= MOND 2022-08-15 ~ 2024-11-18 4636 / 7856 ========\n",
      "MOOV not exist\n"
     ]
    },
    {
     "name": "stderr",
     "output_type": "stream",
     "text": [
      "MOR: No timezone found, symbol may be delisted\n"
     ]
    },
    {
     "name": "stdout",
     "output_type": "stream",
     "text": [
      "======= MOR 2019-03-13 ~ 2024-08-29 4638 / 7856 ========\n"
     ]
    },
    {
     "name": "stderr",
     "output_type": "stream",
     "text": [
      "MORF: No timezone found, symbol may be delisted\n"
     ]
    },
    {
     "name": "stdout",
     "output_type": "stream",
     "text": [
      "======= MORF 2019-08-12 ~ 2024-07-25 4639 / 7856 ========\n",
      "======= MORN 2006-02-23 ~ 2024-10-23 4640 / 7856 ========\n",
      "======= MOS 2005-07-27 ~ 2024-11-12 4641 / 7856 ========\n"
     ]
    },
    {
     "name": "stderr",
     "output_type": "stream",
     "text": [
      "MOSY: No timezone found, symbol may be delisted\n"
     ]
    },
    {
     "name": "stdout",
     "output_type": "stream",
     "text": [
      "======= MOSY 2002-01-24 ~ 2018-11-06 4642 / 7856 ========\n",
      "MOTNU not exist\n",
      "MOTV not exist\n",
      "======= MOV 1994-04-06 ~ 2024-12-05 4645 / 7856 ========\n"
     ]
    },
    {
     "name": "stderr",
     "output_type": "stream",
     "text": [
      "MOVE: No price data found, symbol may be delisted (1d 2024-08-14 -> 2024-08-14)\n"
     ]
    },
    {
     "name": "stdout",
     "output_type": "stream",
     "text": [
      "======= MOVE 2024-08-14 ~ 2024-08-14 4646 / 7856 ========\n"
     ]
    },
    {
     "name": "stderr",
     "output_type": "stream",
     "text": [
      "MOXC: No timezone found, symbol may be delisted\n"
     ]
    },
    {
     "name": "stdout",
     "output_type": "stream",
     "text": [
      "======= MOXC 2017-02-13 ~ 2017-02-13 4647 / 7856 ========\n",
      "======= MP 2021-03-18 ~ 2024-11-07 4648 / 7856 ========\n",
      "======= MPAA 1996-01-22 ~ 2024-11-12 4649 / 7856 ========\n",
      "MPAC not exist\n",
      "======= MPB 2009-11-02 ~ 2024-10-23 4651 / 7856 ========\n",
      "======= MPC 2011-11-01 ~ 2024-11-05 4652 / 7856 ========\n",
      "======= MPLN 2020-11-13 ~ 2024-11-05 4653 / 7856 ========\n",
      "======= MPLX 2013-01-30 ~ 2024-11-05 4654 / 7856 ========\n",
      "MPRA not exist\n",
      "======= MPU 2000-04-24 ~ 2019-11-14 4656 / 7856 ========\n",
      "MPV not exist\n",
      "======= MPW 2005-10-25 ~ 2024-11-07 4658 / 7856 ========\n",
      "======= MPWR 2005-02-03 ~ 2024-10-30 4659 / 7856 ========\n",
      "======= MPX 2002-10-21 ~ 2024-10-24 4660 / 7856 ========\n",
      "======= MQ 2021-08-11 ~ 2024-11-04 4661 / 7856 ========\n",
      "MRAC not exist\n"
     ]
    },
    {
     "name": "stderr",
     "output_type": "stream",
     "text": [
      "MRAI: No price data found, symbol may be delisted (1d 2024-05-09 -> 2024-05-09)\n"
     ]
    },
    {
     "name": "stdout",
     "output_type": "stream",
     "text": [
      "======= MRAI 2024-05-09 ~ 2024-05-09 4663 / 7856 ========\n",
      "======= MRAM 2016-11-14 ~ 2024-10-30 4664 / 7856 ========\n",
      "======= MRBK 2018-01-30 ~ 2024-10-24 4665 / 7856 ========\n",
      "======= MRC 2012-10-26 ~ 2024-11-05 4666 / 7856 ========\n",
      "======= MRCC 2013-03-08 ~ 2024-11-12 4667 / 7856 ========\n",
      "======= MRCY 1998-04-21 ~ 2024-11-05 4668 / 7856 ========\n",
      "MRDB not exist\n",
      "MRDNW not exist\n",
      "======= MREO 2020-06-15 ~ 2024-11-12 4671 / 7856 ========\n",
      "======= MRIN 2013-05-08 ~ 2017-02-28 4672 / 7856 ========\n",
      "======= MRK 1993-01-26 ~ 2024-10-31 4673 / 7856 ========\n",
      "======= MRKR 2014-08-18 ~ 2024-08-14 4674 / 7856 ========\n"
     ]
    },
    {
     "name": "stderr",
     "output_type": "stream",
     "text": [
      "MRLN: No timezone found, symbol may be delisted\n"
     ]
    },
    {
     "name": "stdout",
     "output_type": "stream",
     "text": [
      "======= MRLN 2004-04-22 ~ 2021-04-29 4675 / 7856 ========\n",
      "MRM not exist\n",
      "======= MRNA 2019-03-06 ~ 2024-11-07 4677 / 7856 ========\n",
      "MRNO not exist\n",
      "======= MRNS 2014-11-13 ~ 2024-08-13 4679 / 7856 ========\n",
      "======= MRO 1993-07-28 ~ 2024-11-06 4680 / 7856 ========\n",
      "======= MRSN 2017-08-11 ~ 2024-11-13 4681 / 7856 ========\n",
      "======= MRTN 1993-08-05 ~ 2024-10-17 4682 / 7856 ========\n"
     ]
    },
    {
     "name": "stderr",
     "output_type": "stream",
     "text": [
      "MRTX: No timezone found, symbol may be delisted\n"
     ]
    },
    {
     "name": "stdout",
     "output_type": "stream",
     "text": [
      "======= MRTX 2013-08-12 ~ 2024-02-27 4683 / 7856 ========\n",
      "======= MRUS 2016-08-08 ~ 2024-10-31 4684 / 7856 ========\n",
      "======= MRVI 2021-03-02 ~ 2024-11-07 4685 / 7856 ========\n",
      "======= MRVL 2000-11-16 ~ 2024-12-03 4686 / 7856 ========\n",
      "======= MRX 2024-08-14 ~ 2024-11-07 4687 / 7856 ========\n",
      "======= MS 1997-07-15 ~ 2024-10-16 4688 / 7856 ========\n",
      "MS-PQ not exist\n",
      "======= MSA 1994-04-27 ~ 2024-10-23 4690 / 7856 ========\n",
      "MSAC not exist\n",
      "======= MSAI 2024-05-15 ~ 2024-08-14 4692 / 7856 ========\n",
      "======= MSBI 2016-07-28 ~ 2024-10-24 4693 / 7856 ========\n",
      "======= MSC 2019-02-19 ~ 2020-11-05 4694 / 7856 ========\n",
      "======= MSCI 2008-01-10 ~ 2024-10-29 4695 / 7856 ========\n",
      "MSDA not exist\n",
      "======= MSDL 2024-03-01 ~ 2024-11-07 4697 / 7856 ========\n",
      "======= MSEX 1993-07-23 ~ 2024-10-31 4698 / 7856 ========\n",
      "======= MSFT 1993-01-16 ~ 2024-10-30 4699 / 7856 ========\n",
      "======= MSGE 2020-05-18 ~ 2024-11-08 4700 / 7856 ========\n",
      "======= MSGM 2021-05-17 ~ 2024-11-14 4701 / 7856 ========\n"
     ]
    },
    {
     "name": "stderr",
     "output_type": "stream",
     "text": [
      "MSGN: No timezone found, symbol may be delisted\n"
     ]
    },
    {
     "name": "stdout",
     "output_type": "stream",
     "text": [
      "======= MSGN 2010-05-07 ~ 2021-05-07 4702 / 7856 ========\n",
      "======= MSGS 2015-11-05 ~ 2024-11-01 4703 / 7856 ========\n",
      "======= MSI 1993-01-13 ~ 2024-11-07 4704 / 7856 ========\n",
      "======= MSM 1996-04-15 ~ 2024-10-24 4705 / 7856 ========\n"
     ]
    },
    {
     "name": "stderr",
     "output_type": "stream",
     "text": [
      "MSON: No timezone found, symbol may be delisted\n"
     ]
    },
    {
     "name": "stdout",
     "output_type": "stream",
     "text": [
      "======= MSON 1997-04-21 ~ 2021-09-15 4706 / 7856 ========\n"
     ]
    },
    {
     "name": "stderr",
     "output_type": "stream",
     "text": [
      "MSP: No timezone found, symbol may be delisted\n"
     ]
    },
    {
     "name": "stdout",
     "output_type": "stream",
     "text": [
      "======= MSP 2020-11-23 ~ 2022-05-09 4707 / 7856 ========\n"
     ]
    },
    {
     "name": "stderr",
     "output_type": "stream",
     "text": [
      "MSPR: No timezone found, symbol may be delisted\n"
     ]
    },
    {
     "name": "stdout",
     "output_type": "stream",
     "text": [
      "======= MSPR 2022-11-08 ~ 2022-11-08 4708 / 7856 ========\n",
      "MSS not exist\n",
      "MSSA not exist\n",
      "======= MSTR 1998-07-29 ~ 2024-10-30 4711 / 7856 ========\n",
      "MSVB not exist\n",
      "======= MT 1998-02-18 ~ 2024-11-07 4713 / 7856 ========\n",
      "MTAC not exist\n"
     ]
    },
    {
     "name": "stderr",
     "output_type": "stream",
     "text": [
      "MTAL: No price data found, symbol may be delisted (1d 2023-11-12 -> 2023-11-12)\n"
     ]
    },
    {
     "name": "stdout",
     "output_type": "stream",
     "text": [
      "======= MTAL 2023-11-12 ~ 2023-11-12 4715 / 7856 ========\n",
      "======= MTB 1993-01-11 ~ 2024-10-17 4716 / 7856 ========\n",
      "MTB-PJ not exist\n"
     ]
    },
    {
     "name": "stderr",
     "output_type": "stream",
     "text": [
      "MTBC: No timezone found, symbol may be delisted\n"
     ]
    },
    {
     "name": "stdout",
     "output_type": "stream",
     "text": [
      "======= MTBC 2014-11-12 ~ 2023-03-13 4718 / 7856 ========\n",
      "MTBL not exist\n",
      "MTC not exist\n",
      "======= MTCH 2016-02-02 ~ 2024-11-06 4721 / 7856 ========\n",
      "MTCN not exist\n"
     ]
    },
    {
     "name": "stderr",
     "output_type": "stream",
     "text": [
      "MTCR: No timezone found, symbol may be delisted\n"
     ]
    },
    {
     "name": "stdout",
     "output_type": "stream",
     "text": [
      "======= MTCR 2020-11-12 ~ 2022-11-14 4723 / 7856 ========\n",
      "======= MTD 1998-04-23 ~ 2024-11-08 4724 / 7856 ========\n",
      "======= MTDR 2012-08-14 ~ 2024-10-22 4725 / 7856 ========\n",
      "MTEK not exist\n",
      "======= MTEM 2005-05-02 ~ 2024-08-14 4727 / 7856 ========\n",
      "MTEN not exist\n",
      "======= MTEX 2006-08-09 ~ 2007-03-15 4729 / 7856 ========\n",
      "======= MTG 1993-01-16 ~ 2024-11-04 4730 / 7856 ========\n",
      "======= MTH 1998-07-30 ~ 2024-10-29 4731 / 7856 ========\n"
     ]
    },
    {
     "name": "stderr",
     "output_type": "stream",
     "text": [
      "MTL: No timezone found, symbol may be delisted\n"
     ]
    },
    {
     "name": "stdout",
     "output_type": "stream",
     "text": [
      "======= MTL 2008-07-14 ~ 2015-03-04 4732 / 7856 ========\n",
      "======= MTLS 2014-08-14 ~ 2024-10-24 4733 / 7856 ========\n",
      "======= MTN 1997-05-01 ~ 2024-09-26 4734 / 7856 ========\n"
     ]
    },
    {
     "name": "stderr",
     "output_type": "stream",
     "text": [
      "MTOR: No timezone found, symbol may be delisted\n"
     ]
    },
    {
     "name": "stdout",
     "output_type": "stream",
     "text": [
      "======= MTOR 1997-11-12 ~ 2022-08-02 4735 / 7856 ========\n",
      "MTP not exist\n",
      "======= MTRN 1993-01-26 ~ 2024-10-30 4737 / 7856 ========\n",
      "======= MTRX 1993-01-16 ~ 2024-11-06 4738 / 7856 ========\n",
      "MTRY not exist\n",
      "======= MTSI 2012-08-02 ~ 2024-11-07 4740 / 7856 ========\n",
      "MTSL not exist\n",
      "======= MTTR 2021-11-03 ~ 2024-11-12 4742 / 7856 ========\n",
      "======= MTUS 2023-11-03 ~ 2024-11-08 4743 / 7856 ========\n",
      "MTVA not exist\n",
      "MTVC not exist\n",
      "======= MTW 1993-01-12 ~ 2024-10-30 4746 / 7856 ========\n",
      "======= MTX 1993-01-28 ~ 2024-10-24 4747 / 7856 ========\n",
      "======= MTZ 1996-10-29 ~ 2024-10-31 4748 / 7856 ========\n",
      "======= MU 1993-03-26 ~ 2024-09-25 4749 / 7856 ========\n",
      "MUDS not exist\n",
      "======= MUFG 2021-11-15 ~ 2024-11-14 4751 / 7856 ========\n",
      "MULG not exist\n",
      "======= MULN 2014-11-13 ~ 2024-02-13 4753 / 7856 ========\n",
      "======= MUR 1993-01-28 ~ 2024-11-07 4754 / 7856 ========\n",
      "======= MURA 2024-05-14 ~ 2024-08-13 4755 / 7856 ========\n",
      "MURAV not exist\n",
      "MURF not exist\n",
      "======= MUSA 2013-11-06 ~ 2024-10-30 4758 / 7856 ========\n",
      "======= MUX 2010-11-03 ~ 2024-11-05 4759 / 7856 ========\n",
      "======= MVBF 2019-02-14 ~ 2024-10-30 4760 / 7856 ========\n",
      "======= MVIS 1999-11-15 ~ 2024-11-07 4761 / 7856 ========\n",
      "======= MVLA 2023-03-31 ~ 2023-11-13 4762 / 7856 ========\n",
      "======= MVST 2021-08-16 ~ 2024-08-09 4763 / 7856 ========\n",
      "======= MWA 2006-08-01 ~ 2024-11-06 4764 / 7856 ========\n",
      "======= MX 2011-07-27 ~ 2024-10-30 4765 / 7856 ========\n",
      "======= MXCT 2021-09-13 ~ 2024-11-06 4766 / 7856 ========\n"
     ]
    },
    {
     "name": "stderr",
     "output_type": "stream",
     "text": [
      "MXIM: No timezone found, symbol may be delisted\n"
     ]
    },
    {
     "name": "stdout",
     "output_type": "stream",
     "text": [
      "======= MXIM 1993-05-04 ~ 2021-07-27 4767 / 7856 ========\n",
      "======= MXL 2010-05-05 ~ 2024-10-23 4768 / 7856 ========\n",
      "======= MYE 1993-04-20 ~ 2024-11-04 4769 / 7856 ========\n",
      "======= MYFW 2018-10-25 ~ 2024-10-24 4770 / 7856 ========\n",
      "======= MYGN 1996-02-14 ~ 2024-11-07 4771 / 7856 ========\n"
     ]
    },
    {
     "name": "stderr",
     "output_type": "stream",
     "text": [
      "MYMD: No timezone found, symbol may be delisted\n"
     ]
    },
    {
     "name": "stdout",
     "output_type": "stream",
     "text": [
      "======= MYMD 2014-08-12 ~ 2018-04-03 4772 / 7856 ========\n",
      "MYNA not exist\n",
      "======= MYNZ 2022-11-02 ~ 2024-04-09 4774 / 7856 ========\n"
     ]
    },
    {
     "name": "stderr",
     "output_type": "stream",
     "text": [
      "MYOV: No timezone found, symbol may be delisted\n"
     ]
    },
    {
     "name": "stdout",
     "output_type": "stream",
     "text": [
      "======= MYOV 2016-12-09 ~ 2023-01-26 4775 / 7856 ========\n",
      "======= MYPS 2021-08-11 ~ 2024-11-04 4776 / 7856 ========\n",
      "======= MYRG 2009-03-12 ~ 2024-10-30 4777 / 7856 ========\n",
      "======= MYSZ 2020-11-12 ~ 2024-11-14 4778 / 7856 ========\n",
      "MYT not exist\n",
      "======= MYTE 2021-02-25 ~ 2024-11-19 4780 / 7856 ========\n",
      "NA not exist\n",
      "NAAC not exist\n",
      "======= NAAS 2017-11-27 ~ 2023-10-26 4783 / 7856 ========\n",
      "======= NABL 2021-11-09 ~ 2024-11-07 4784 / 7856 ========\n",
      "======= NAII 1998-09-10 ~ 2000-10-12 4785 / 7856 ========\n",
      "NAKD not exist\n",
      "NAMI not exist\n",
      "======= NAMS 2023-03-31 ~ 2024-11-06 4788 / 7856 ========\n",
      "======= NAOV 2016-08-15 ~ 2019-11-19 4789 / 7856 ========\n",
      "======= NAPA 2021-06-07 ~ 2024-10-07 4790 / 7856 ========\n",
      "======= NARI 2020-08-11 ~ 2024-10-28 4791 / 7856 ========\n",
      "======= NAT 2000-10-04 ~ 2024-11-29 4792 / 7856 ========\n",
      "======= NATH 1993-08-19 ~ 2010-11-05 4793 / 7856 ========\n"
     ]
    },
    {
     "name": "stderr",
     "output_type": "stream",
     "text": [
      "NATI: No timezone found, symbol may be delisted\n"
     ]
    },
    {
     "name": "stdout",
     "output_type": "stream",
     "text": [
      "======= NATI 1995-07-25 ~ 2023-10-26 4794 / 7856 ========\n",
      "======= NATL 2024-05-13 ~ 2024-08-13 4795 / 7856 ========\n",
      "======= NATR 1993-02-17 ~ 2024-11-07 4796 / 7856 ========\n",
      "======= NAUT 2021-08-10 ~ 2024-10-29 4797 / 7856 ========\n"
     ]
    },
    {
     "name": "stderr",
     "output_type": "stream",
     "text": [
      "NAV: No timezone found, symbol may be delisted\n"
     ]
    },
    {
     "name": "stdout",
     "output_type": "stream",
     "text": [
      "======= NAV 1993-02-20 ~ 2021-06-08 4798 / 7856 ========\n",
      "NAVA not exist\n",
      "======= NAVI 2014-07-16 ~ 2024-10-30 4800 / 7856 ========\n",
      "NAYA not exist\n"
     ]
    },
    {
     "name": "stderr",
     "output_type": "stream",
     "text": [
      "NB: No price data found, symbol may be delisted (1d 2024-11-13 -> 2024-11-13)\n"
     ]
    },
    {
     "name": "stdout",
     "output_type": "stream",
     "text": [
      "======= NB 2024-11-13 ~ 2024-11-13 4802 / 7856 ========\n",
      "NBA-WT not exist\n",
      "======= NBBK 2024-07-24 ~ 2024-10-30 4804 / 7856 ========\n",
      "NBET not exist\n"
     ]
    },
    {
     "name": "stderr",
     "output_type": "stream",
     "text": [
      "NBEV: No timezone found, symbol may be delisted\n"
     ]
    },
    {
     "name": "stdout",
     "output_type": "stream",
     "text": [
      "======= NBEV 2017-05-16 ~ 2021-11-09 4806 / 7856 ========\n",
      "======= NBHC 2013-01-28 ~ 2024-10-22 4807 / 7856 ========\n"
     ]
    },
    {
     "name": "stderr",
     "output_type": "stream",
     "text": [
      "NBIS: Data doesn't exist for startDate = 1667448000, endDate = 1676523600\n"
     ]
    },
    {
     "name": "stdout",
     "output_type": "stream",
     "text": [
      "======= NBIS 2022-11-03 ~ 2023-02-16 4808 / 7856 ========\n",
      "======= NBIX 1996-11-04 ~ 2024-10-30 4809 / 7856 ========\n",
      "======= NBN 1999-04-20 ~ 2024-10-29 4810 / 7856 ========\n",
      "======= NBR 1993-05-10 ~ 2024-10-22 4811 / 7856 ========\n"
     ]
    },
    {
     "name": "stderr",
     "output_type": "stream",
     "text": [
      "NBRV: No timezone found, symbol may be delisted\n"
     ]
    },
    {
     "name": "stdout",
     "output_type": "stream",
     "text": [
      "======= NBRV 2016-05-10 ~ 2022-11-10 4812 / 7856 ========\n"
     ]
    },
    {
     "name": "stderr",
     "output_type": "stream",
     "text": [
      "NBSE: No timezone found, symbol may be delisted\n"
     ]
    },
    {
     "name": "stdout",
     "output_type": "stream",
     "text": [
      "======= NBSE 2013-02-19 ~ 2023-11-09 4813 / 7856 ========\n",
      "NBST not exist\n",
      "======= NBTB 1996-01-23 ~ 2024-10-28 4815 / 7856 ========\n",
      "======= NBTX 2020-09-04 ~ 2024-09-18 4816 / 7856 ========\n",
      "======= NC 1993-02-16 ~ 2012-05-02 4817 / 7856 ========\n",
      "NCAC not exist\n"
     ]
    },
    {
     "name": "stderr",
     "output_type": "stream",
     "text": [
      "NCBS: No timezone found, symbol may be delisted\n"
     ]
    },
    {
     "name": "stdout",
     "output_type": "stream",
     "text": [
      "======= NCBS 2016-03-07 ~ 2022-04-19 4819 / 7856 ========\n",
      "======= NCDL 2024-02-27 ~ 2024-11-07 4820 / 7856 ========\n",
      "NCEW not exist\n",
      "NCI not exist\n",
      "======= NCLH 2013-02-11 ~ 2024-10-31 4823 / 7856 ========\n",
      "======= NCMI 2007-05-03 ~ 2024-11-05 4824 / 7856 ========\n",
      "======= NCNA 2017-11-15 ~ 2024-11-25 4825 / 7856 ========\n",
      "NCNC not exist\n",
      "======= NCNO 2020-09-09 ~ 2024-08-27 4827 / 7856 ========\n",
      "======= NCPL 2023-09-11 ~ 2024-09-16 4828 / 7856 ========\n"
     ]
    },
    {
     "name": "stderr",
     "output_type": "stream",
     "text": [
      "NCR: No timezone found, symbol may be delisted\n"
     ]
    },
    {
     "name": "stdout",
     "output_type": "stream",
     "text": [
      "======= NCR 1997-01-21 ~ 2023-10-24 4829 / 7856 ========\n",
      "NCRA not exist\n",
      "======= NCSM 2017-08-08 ~ 2024-10-30 4831 / 7856 ========\n",
      "======= NCTY 2005-02-23 ~ 2012-08-23 4832 / 7856 ========\n",
      "NDAC not exist\n",
      "======= NDAQ 2002-10-28 ~ 2024-10-24 4834 / 7856 ========\n",
      "======= NDLS 2013-08-08 ~ 2024-11-06 4835 / 7856 ========\n",
      "======= NDRA 2019-05-14 ~ 2024-11-15 4836 / 7856 ========\n",
      "NDRAW not exist\n",
      "======= NDSN 1993-02-22 ~ 2024-08-21 4838 / 7856 ========\n",
      "======= NE 1993-10-29 ~ 2024-11-05 4839 / 7856 ========\n",
      "======= NECB 2021-11-02 ~ 2024-10-28 4840 / 7856 ========\n",
      "======= NEE 1993-01-29 ~ 2024-10-23 4841 / 7856 ========\n",
      "======= NEGG 2022-04-29 ~ 2024-07-24 4842 / 7856 ========\n",
      "======= NEM 1993-01-27 ~ 2024-10-23 4843 / 7856 ========\n",
      "======= NEO 2007-05-09 ~ 2024-11-05 4844 / 7856 ========\n",
      "======= NEOG 1995-10-03 ~ 2024-10-10 4845 / 7856 ========\n",
      "======= NEON 1994-12-06 ~ 2024-11-06 4846 / 7856 ========\n",
      "======= NEOV 2021-03-29 ~ 2024-11-08 4847 / 7856 ========\n",
      "======= NEP 2014-11-12 ~ 2024-10-23 4848 / 7856 ========\n",
      "======= NEPH 2006-08-22 ~ 2024-11-07 4849 / 7856 ========\n"
     ]
    },
    {
     "name": "stderr",
     "output_type": "stream",
     "text": [
      "NEPT: No timezone found, symbol may be delisted\n"
     ]
    },
    {
     "name": "stdout",
     "output_type": "stream",
     "text": [
      "======= NEPT 2007-04-30 ~ 2024-04-04 4850 / 7856 ========\n",
      "======= NERV 2014-08-07 ~ 2024-11-05 4851 / 7856 ========\n",
      "======= NESR 2018-11-08 ~ 2024-08-29 4852 / 7856 ========\n",
      "======= NET 2019-11-07 ~ 2024-11-07 4853 / 7856 ========\n",
      "NETC not exist\n",
      "NETD not exist\n"
     ]
    },
    {
     "name": "stderr",
     "output_type": "stream",
     "text": [
      "NETE: No timezone found, symbol may be delisted\n"
     ]
    },
    {
     "name": "stdout",
     "output_type": "stream",
     "text": [
      "======= NETE 2014-11-13 ~ 2021-11-15 4856 / 7856 ========\n"
     ]
    },
    {
     "name": "stderr",
     "output_type": "stream",
     "text": [
      "NETI: No timezone found, symbol may be delisted\n"
     ]
    },
    {
     "name": "stdout",
     "output_type": "stream",
     "text": [
      "======= NETI 2014-04-30 ~ 2024-02-08 4857 / 7856 ========\n",
      "======= NEU 1993-01-22 ~ 2019-10-23 4858 / 7856 ========\n",
      "======= NEUE 2024-03-06 ~ 2024-11-07 4859 / 7856 ========\n",
      "NEW not exist\n",
      "NEWA not exist\n"
     ]
    },
    {
     "name": "stderr",
     "output_type": "stream",
     "text": [
      "NEWR: No timezone found, symbol may be delisted\n"
     ]
    },
    {
     "name": "stdout",
     "output_type": "stream",
     "text": [
      "======= NEWR 2015-02-12 ~ 2023-11-14 4862 / 7856 ========\n",
      "======= NEWT 2002-08-12 ~ 2024-11-06 4863 / 7856 ========\n",
      "NEWTG not exist\n",
      "NEWTH not exist\n",
      "NEWTI not exist\n"
     ]
    },
    {
     "name": "stderr",
     "output_type": "stream",
     "text": [
      "NEX: No timezone found, symbol may be delisted\n"
     ]
    },
    {
     "name": "stdout",
     "output_type": "stream",
     "text": [
      "======= NEX 2017-03-14 ~ 2023-10-24 4867 / 7856 ========\n",
      "======= NEXA 2018-02-15 ~ 2024-10-31 4868 / 7856 ========\n",
      "======= NEXI 2021-05-17 ~ 2024-04-16 4869 / 7856 ========\n",
      "======= NEXN 2023-08-17 ~ 2024-11-15 4870 / 7856 ========\n",
      "======= NEXT 2018-03-08 ~ 2024-11-07 4871 / 7856 ========\n",
      "======= NFBK 2010-04-28 ~ 2024-10-23 4872 / 7856 ========\n",
      "======= NFE 2019-05-15 ~ 2024-11-07 4873 / 7856 ========\n",
      "======= NFG 1993-01-28 ~ 2024-11-06 4874 / 7856 ========\n",
      "NFH not exist\n",
      "======= NFLX 2002-10-18 ~ 2024-10-17 4876 / 7856 ========\n",
      "NFNT not exist\n",
      "NFTG not exist\n",
      "NFYS not exist\n",
      "NGAC not exist\n",
      "NGC not exist\n",
      "NGCA not exist\n",
      "======= NGG 2020-03-31 ~ 2024-11-07 4883 / 7856 ========\n",
      "======= NGL 2011-11-14 ~ 2024-08-08 4884 / 7856 ========\n"
     ]
    },
    {
     "name": "stderr",
     "output_type": "stream",
     "text": [
      "NGM: No timezone found, symbol may be delisted\n"
     ]
    },
    {
     "name": "stdout",
     "output_type": "stream",
     "text": [
      "======= NGM 2019-05-16 ~ 2024-05-02 4885 / 7856 ========\n"
     ]
    },
    {
     "name": "stderr",
     "output_type": "stream",
     "text": [
      "NGMS: No timezone found, symbol may be delisted\n"
     ]
    },
    {
     "name": "stdout",
     "output_type": "stream",
     "text": [
      "======= NGMS 2021-03-10 ~ 2024-05-08 4886 / 7856 ========\n",
      "======= NGNE 2023-08-10 ~ 2024-08-09 4887 / 7856 ========\n",
      "======= NGS 2006-05-11 ~ 2024-11-14 4888 / 7856 ========\n",
      "======= NGVC 2012-11-15 ~ 2024-11-21 4889 / 7856 ========\n",
      "======= NGVT 2016-08-03 ~ 2024-10-29 4890 / 7856 ========\n"
     ]
    },
    {
     "name": "stderr",
     "output_type": "stream",
     "text": [
      "NH: Period '1mo' is invalid, must be one of ['1d', '5d']\n"
     ]
    },
    {
     "name": "stdout",
     "output_type": "stream",
     "text": [
      "======= NH 2016-08-09 ~ 2022-08-04 4891 / 7856 ========\n",
      "======= NHI 2003-07-22 ~ 2024-11-05 4892 / 7856 ========\n",
      "NHIC not exist\n",
      "======= NHTC 2004-04-13 ~ 2005-11-15 4894 / 7856 ========\n",
      "======= NI 1993-02-01 ~ 2024-10-30 4895 / 7856 ========\n",
      "======= NIC 2016-03-07 ~ 2024-10-15 4896 / 7856 ========\n",
      "======= NICE 1996-05-08 ~ 2024-11-14 4897 / 7856 ========\n"
     ]
    },
    {
     "name": "stderr",
     "output_type": "stream",
     "text": [
      "NICK: No timezone found, symbol may be delisted\n"
     ]
    },
    {
     "name": "stdout",
     "output_type": "stream",
     "text": [
      "======= NICK 2003-10-28 ~ 2008-07-31 4898 / 7856 ========\n",
      "NIMC not exist\n",
      "======= NINE 2018-05-14 ~ 2024-10-31 4900 / 7856 ========\n",
      "======= NIO 2018-11-06 ~ 2024-11-20 4901 / 7856 ========\n",
      "NIPG not exist\n"
     ]
    },
    {
     "name": "stderr",
     "output_type": "stream",
     "text": [
      "NIR: Period '1mo' is invalid, must be one of ['1d', '5d']\n"
     ]
    },
    {
     "name": "stdout",
     "output_type": "stream",
     "text": [
      "======= NIR 2023-08-14 ~ 2023-08-14 4903 / 7856 ========\n",
      "NISN not exist\n",
      "NITO not exist\n",
      "======= NIU 2019-03-18 ~ 2022-03-07 4906 / 7856 ========\n",
      "NIVF not exist\n",
      "NIVFW not exist\n",
      "======= NIXX 2022-11-14 ~ 2024-11-14 4909 / 7856 ========\n",
      "NIXXW not exist\n",
      "======= NJR 1993-01-27 ~ 2024-11-25 4911 / 7856 ========\n",
      "======= NKE 1993-03-10 ~ 2024-10-01 4912 / 7856 ========\n",
      "NKGN not exist\n",
      "======= NKLA 2020-08-04 ~ 2024-10-31 4914 / 7856 ========\n",
      "======= NKSH 2000-06-16 ~ 2024-10-24 4915 / 7856 ========\n",
      "======= NKTR 1994-07-27 ~ 2024-11-07 4916 / 7856 ========\n",
      "======= NKTX 2020-08-20 ~ 2024-11-07 4917 / 7856 ========\n",
      "======= NL 1994-07-25 ~ 2024-11-06 4918 / 7856 ========\n",
      "NLIT not exist\n"
     ]
    },
    {
     "name": "stderr",
     "output_type": "stream",
     "text": [
      "NLOK: No timezone found, symbol may be delisted\n"
     ]
    },
    {
     "name": "stdout",
     "output_type": "stream",
     "text": [
      "======= NLOK 1994-01-19 ~ 2022-11-08 4920 / 7856 ========\n",
      "NLOP not exist\n"
     ]
    },
    {
     "name": "stderr",
     "output_type": "stream",
     "text": [
      "NLS: No timezone found, symbol may be delisted\n"
     ]
    },
    {
     "name": "stdout",
     "output_type": "stream",
     "text": [
      "======= NLS 1999-07-26 ~ 2023-11-08 4922 / 7856 ========\n"
     ]
    },
    {
     "name": "stderr",
     "output_type": "stream",
     "text": [
      "NLSN: No timezone found, symbol may be delisted\n"
     ]
    },
    {
     "name": "stdout",
     "output_type": "stream",
     "text": [
      "======= NLSN 2011-03-01 ~ 2022-10-26 4923 / 7856 ========\n",
      "NLSP not exist\n"
     ]
    },
    {
     "name": "stderr",
     "output_type": "stream",
     "text": [
      "NLTX: No timezone found, symbol may be delisted\n"
     ]
    },
    {
     "name": "stdout",
     "output_type": "stream",
     "text": [
      "======= NLTX 2014-05-13 ~ 2023-11-14 4925 / 7856 ========\n",
      "======= NLY 1998-02-03 ~ 2024-10-23 4926 / 7856 ========\n"
     ]
    },
    {
     "name": "stderr",
     "output_type": "stream",
     "text": [
      "NM: No data found, symbol may be delisted\n"
     ]
    },
    {
     "name": "stdout",
     "output_type": "stream",
     "text": [
      "======= NM 2005-11-28 ~ 2022-05-19 4927 / 7856 ========\n",
      "======= NMFC 2011-08-11 ~ 2024-10-30 4928 / 7856 ========\n",
      "======= NMG 2019-11-29 ~ 2024-08-14 4929 / 7856 ========\n",
      "NMHI not exist\n",
      "======= NMIH 2014-05-13 ~ 2024-11-06 4931 / 7856 ========\n",
      "======= NMM 2008-02-11 ~ 2024-11-05 4932 / 7856 ========\n",
      "NMMC not exist\n",
      "======= NMR 2020-05-08 ~ 2024-11-01 4934 / 7856 ========\n",
      "======= NMRA 2023-11-01 ~ 2024-11-12 4935 / 7856 ========\n",
      "======= NMRD 2019-08-09 ~ 2023-08-14 4936 / 7856 ========\n",
      "======= NMRK 2018-02-09 ~ 2024-11-05 4937 / 7856 ========\n",
      "======= NMTC 2022-02-14 ~ 2024-05-14 4938 / 7856 ========\n"
     ]
    },
    {
     "name": "stderr",
     "output_type": "stream",
     "text": [
      "NMTR: No timezone found, symbol may be delisted\n"
     ]
    },
    {
     "name": "stdout",
     "output_type": "stream",
     "text": [
      "======= NMTR 2018-08-14 ~ 2023-08-21 4939 / 7856 ========\n",
      "======= NN 2021-11-15 ~ 2024-08-07 4940 / 7856 ========\n"
     ]
    },
    {
     "name": "stderr",
     "output_type": "stream",
     "text": [
      "NNA: No timezone found, symbol may be delisted\n"
     ]
    },
    {
     "name": "stdout",
     "output_type": "stream",
     "text": [
      "======= NNA 2010-11-10 ~ 2021-08-26 4941 / 7856 ========\n",
      "NNAG not exist\n",
      "======= NNBR 1994-07-25 ~ 2024-10-30 4943 / 7856 ========\n",
      "======= NNDM 2016-05-18 ~ 2020-08-13 4944 / 7856 ========\n",
      "NNE not exist\n",
      "======= NNI 2004-04-28 ~ 2024-11-07 4946 / 7856 ========\n",
      "======= NNN 2003-02-03 ~ 2024-10-31 4947 / 7856 ========\n",
      "======= NNOX 2020-11-09 ~ 2024-11-21 4948 / 7856 ========\n",
      "======= NOA 2007-02-14 ~ 2024-10-30 4949 / 7856 ========\n",
      "NOAC not exist\n",
      "======= NOAH 2011-02-24 ~ 2024-08-28 4951 / 7856 ========\n",
      "======= NOC 1993-02-17 ~ 2024-10-24 4952 / 7856 ========\n",
      "NODK not exist\n",
      "NOEMU not exist\n",
      "======= NOG 2008-03-31 ~ 2024-11-05 4955 / 7856 ========\n"
     ]
    },
    {
     "name": "stderr",
     "output_type": "stream",
     "text": [
      "NOGN: Period '1mo' is invalid, must be one of ['1d', '5d']\n"
     ]
    },
    {
     "name": "stdout",
     "output_type": "stream",
     "text": [
      "======= NOGN 2023-03-23 ~ 2023-11-22 4956 / 7856 ========\n",
      "======= NOK 1996-03-06 ~ 2024-10-17 4957 / 7856 ========\n",
      "======= NOMD 2016-05-25 ~ 2024-11-14 4958 / 7856 ========\n",
      "======= NOTE 2022-08-15 ~ 2024-11-12 4959 / 7856 ========\n",
      "======= NOTV 1998-05-07 ~ 2024-08-08 4960 / 7856 ========\n",
      "======= NOV 1997-02-06 ~ 2024-10-24 4961 / 7856 ========\n",
      "======= NOVA 2019-10-31 ~ 2024-10-30 4962 / 7856 ========\n"
     ]
    },
    {
     "name": "stderr",
     "output_type": "stream",
     "text": [
      "NOVN: No timezone found, symbol may be delisted\n"
     ]
    },
    {
     "name": "stdout",
     "output_type": "stream",
     "text": [
      "======= NOVN 2016-11-14 ~ 2023-08-10 4963 / 7856 ========\n",
      "======= NOVT 1997-02-25 ~ 2024-11-05 4964 / 7856 ========\n",
      "NOVV not exist\n",
      "======= NOW 2012-10-24 ~ 2024-10-23 4966 / 7856 ========\n"
     ]
    },
    {
     "name": "stderr",
     "output_type": "stream",
     "text": [
      "NP: No timezone found, symbol may be delisted\n"
     ]
    },
    {
     "name": "stdout",
     "output_type": "stream",
     "text": [
      "======= NP 2005-02-15 ~ 2022-05-04 4967 / 7856 ========\n",
      "NPAB not exist\n",
      "======= NPCE 2021-06-03 ~ 2024-11-12 4969 / 7856 ========\n",
      "======= NPK 1993-04-30 ~ 2011-02-22 4970 / 7856 ========\n",
      "======= NPO 2004-04-28 ~ 2024-11-05 4971 / 7856 ========\n"
     ]
    },
    {
     "name": "stderr",
     "output_type": "stream",
     "text": [
      "NPTN: No timezone found, symbol may be delisted\n"
     ]
    },
    {
     "name": "stdout",
     "output_type": "stream",
     "text": [
      "======= NPTN 2011-05-05 ~ 2022-07-25 4972 / 7856 ========\n",
      "======= NPWR 2023-08-14 ~ 2024-11-12 4973 / 7856 ========\n",
      "======= NR 1993-04-29 ~ 2024-11-07 4974 / 7856 ========\n",
      "NRAC not exist\n",
      "======= NRBO 2016-11-02 ~ 2024-11-07 4976 / 7856 ========\n",
      "======= NRC 2016-02-09 ~ 2019-08-06 4977 / 7856 ========\n",
      "======= NRDS 2022-02-24 ~ 2024-10-29 4978 / 7856 ========\n",
      "======= NRDY 2021-11-15 ~ 2024-11-07 4979 / 7856 ========\n",
      "======= NREF 2020-05-06 ~ 2024-10-31 4980 / 7856 ========\n",
      "======= NRG 2005-05-10 ~ 2024-11-08 4981 / 7856 ========\n",
      "======= NRGV 2022-05-16 ~ 2024-11-12 4982 / 7856 ========\n",
      "======= NRIM 1993-10-08 ~ 2024-10-23 4983 / 7856 ========\n",
      "======= NRIX 2020-10-14 ~ 2024-10-11 4984 / 7856 ========\n",
      "======= NRP 2003-02-13 ~ 2022-11-03 4985 / 7856 ========\n",
      "======= NRSN 2022-04-14 ~ 2024-10-01 4986 / 7856 ========\n",
      "NRT not exist\n",
      "NRUC not exist\n",
      "======= NRXP 2022-08-15 ~ 2024-08-14 4989 / 7856 ========\n"
     ]
    },
    {
     "name": "stderr",
     "output_type": "stream",
     "text": [
      "NRXS: No price data found, symbol may be delisted (1d 2023-11-20 -> 2023-11-20)\n"
     ]
    },
    {
     "name": "stdout",
     "output_type": "stream",
     "text": [
      "======= NRXS 2023-11-20 ~ 2023-11-20 4990 / 7856 ========\n"
     ]
    },
    {
     "name": "stderr",
     "output_type": "stream",
     "text": [
      "NRZ: No timezone found, symbol may be delisted\n"
     ]
    },
    {
     "name": "stdout",
     "output_type": "stream",
     "text": [
      "======= NRZ 2013-06-12 ~ 2022-08-02 4991 / 7856 ========\n"
     ]
    },
    {
     "name": "stderr",
     "output_type": "stream",
     "text": [
      "NS: No timezone found, symbol may be delisted\n"
     ]
    },
    {
     "name": "stdout",
     "output_type": "stream",
     "text": [
      "======= NS 2002-02-05 ~ 2024-05-02 4992 / 7856 ========\n",
      "======= NSA 2015-08-10 ~ 2024-10-30 4993 / 7856 ========\n",
      "======= NSC 1993-01-27 ~ 2024-10-22 4994 / 7856 ========\n",
      "NSEC not exist\n",
      "NSH not exist\n",
      "======= NSIT 1995-08-18 ~ 2024-10-31 4997 / 7856 ========\n",
      "======= NSP 1997-07-24 ~ 2024-10-31 4998 / 7856 ========\n",
      "======= NSPR 2012-03-06 ~ 2024-08-06 4999 / 7856 ========\n"
     ]
    },
    {
     "name": "stderr",
     "output_type": "stream",
     "text": [
      "NSR: No timezone found, symbol may be delisted\n"
     ]
    },
    {
     "name": "stdout",
     "output_type": "stream",
     "text": [
      "======= NSR 2020-11-09 ~ 2022-05-04 5000 / 7856 ========\n",
      "NSS not exist\n",
      "======= NSSC 2005-05-09 ~ 2024-11-04 5002 / 7856 ========\n",
      "NSTB not exist\n",
      "NSTC not exist\n",
      "NSTD not exist\n",
      "======= NSTG 2013-08-06 ~ 2024-02-27 5006 / 7856 ========\n",
      "NSTS not exist\n",
      "======= NSYS 1996-11-14 ~ 1999-03-16 5008 / 7856 ========\n",
      "======= NTAP 1997-02-12 ~ 2024-11-21 5009 / 7856 ========\n",
      "======= NTB 2016-10-25 ~ 2024-10-22 5010 / 7856 ========\n",
      "======= NTBL 2021-09-29 ~ 2024-11-12 5011 / 7856 ========\n"
     ]
    },
    {
     "name": "stderr",
     "output_type": "stream",
     "text": [
      "NTCO: No timezone found, symbol may be delisted\n"
     ]
    },
    {
     "name": "stdout",
     "output_type": "stream",
     "text": [
      "======= NTCO 2021-03-04 ~ 2023-11-13 5012 / 7856 ========\n",
      "======= NTCT 1999-10-21 ~ 2024-10-24 5013 / 7856 ========\n"
     ]
    },
    {
     "name": "stderr",
     "output_type": "stream",
     "text": [
      "NTEC: No timezone found, symbol may be delisted\n"
     ]
    },
    {
     "name": "stdout",
     "output_type": "stream",
     "text": [
      "======= NTEC 2015-11-05 ~ 2021-05-17 5014 / 7856 ========\n",
      "======= NTES 2003-02-25 ~ 2024-08-22 5015 / 7856 ========\n",
      "======= NTGR 2003-10-28 ~ 2024-10-30 5016 / 7856 ========\n",
      "NTHI not exist\n",
      "======= NTIC 2009-11-25 ~ 2024-11-19 5018 / 7856 ========\n",
      "======= NTLA 2016-06-03 ~ 2024-11-07 5019 / 7856 ========\n",
      "======= NTNX 2016-11-29 ~ 2024-11-26 5020 / 7856 ========\n"
     ]
    },
    {
     "name": "stderr",
     "output_type": "stream",
     "text": [
      "NTP: No timezone found, symbol may be delisted\n"
     ]
    },
    {
     "name": "stdout",
     "output_type": "stream",
     "text": [
      "======= NTP 1994-08-08 ~ 2013-08-05 5021 / 7856 ========\n",
      "======= NTR 2018-02-05 ~ 2024-11-06 5022 / 7856 ========\n",
      "======= NTRA 2015-08-12 ~ 2024-11-12 5023 / 7856 ========\n",
      "======= NTRB 2020-04-14 ~ 2023-04-26 5024 / 7856 ========\n",
      "======= NTRP 2017-05-15 ~ 2024-10-15 5025 / 7856 ========\n",
      "======= NTST 2020-10-29 ~ 2024-11-04 5026 / 7856 ========\n"
     ]
    },
    {
     "name": "stderr",
     "output_type": "stream",
     "text": [
      "NTUS: No timezone found, symbol may be delisted\n"
     ]
    },
    {
     "name": "stdout",
     "output_type": "stream",
     "text": [
      "======= NTUS 2001-11-06 ~ 2022-05-05 5027 / 7856 ========\n",
      "======= NTWK 1999-09-29 ~ 2022-02-14 5028 / 7856 ========\n",
      "NTWOU not exist\n",
      "======= NTZ 1997-04-03 ~ 2002-11-13 5030 / 7856 ========\n",
      "======= NU 2022-02-22 ~ 2024-11-13 5031 / 7856 ========\n"
     ]
    },
    {
     "name": "stderr",
     "output_type": "stream",
     "text": [
      "NUAN: No timezone found, symbol may be delisted\n"
     ]
    },
    {
     "name": "stdout",
     "output_type": "stream",
     "text": [
      "======= NUAN 1996-01-31 ~ 2021-11-18 5032 / 7856 ========\n",
      "NUBI not exist\n",
      "======= NUE 1993-03-09 ~ 2024-10-21 5034 / 7856 ========\n",
      "======= NURO 2004-10-28 ~ 2021-10-21 5035 / 7856 ========\n",
      "======= NUS 1997-04-30 ~ 2024-11-07 5036 / 7856 ========\n",
      "======= NUTX 2023-03-02 ~ 2024-11-08 5037 / 7856 ========\n"
     ]
    },
    {
     "name": "stderr",
     "output_type": "stream",
     "text": [
      "NUVA: No timezone found, symbol may be delisted\n"
     ]
    },
    {
     "name": "stdout",
     "output_type": "stream",
     "text": [
      "======= NUVA 2004-07-28 ~ 2023-08-02 5038 / 7856 ========\n",
      "======= NUVB 2021-03-11 ~ 2024-11-06 5039 / 7856 ========\n",
      "======= NUVL 2021-09-08 ~ 2024-11-12 5040 / 7856 ========\n",
      "NUVO not exist\n",
      "======= NUWE 2012-07-30 ~ 2024-11-11 5042 / 7856 ========\n",
      "======= NUZE 2022-08-12 ~ 2024-08-19 5043 / 7856 ========\n",
      "NVAC not exist\n",
      "NVAWW not exist\n",
      "======= NVAX 1996-11-14 ~ 2024-11-12 5046 / 7856 ========\n"
     ]
    },
    {
     "name": "stderr",
     "output_type": "stream",
     "text": [
      "NVCN: No timezone found, symbol may be delisted\n"
     ]
    },
    {
     "name": "stdout",
     "output_type": "stream",
     "text": [
      "======= NVCN 2014-04-17 ~ 2023-03-31 5047 / 7856 ========\n",
      "======= NVCR 2016-02-29 ~ 2024-10-30 5048 / 7856 ========\n",
      "======= NVCT 2022-03-22 ~ 2024-11-05 5049 / 7856 ========\n",
      "======= NVDA 1999-05-18 ~ 2024-11-20 5050 / 7856 ========\n",
      "======= NVEC 1997-01-28 ~ 2018-01-17 5051 / 7856 ========\n",
      "======= NVEE 2013-11-12 ~ 2024-11-07 5052 / 7856 ========\n",
      "======= NVEI 2020-11-11 ~ 2024-11-12 5053 / 7856 ========\n",
      "NVFY not exist\n",
      "======= NVGS 2013-06-07 ~ 2024-11-06 5055 / 7856 ========\n"
     ]
    },
    {
     "name": "stderr",
     "output_type": "stream",
     "text": [
      "NVIV: No timezone found, symbol may be delisted\n"
     ]
    },
    {
     "name": "stdout",
     "output_type": "stream",
     "text": [
      "======= NVIV 2012-08-14 ~ 2020-02-20 5056 / 7856 ========\n",
      "======= NVMI 2000-07-25 ~ 2024-11-07 5057 / 7856 ========\n",
      "NVNI not exist\n",
      "======= NVNO 2019-10-31 ~ 2024-10-30 5059 / 7856 ========\n",
      "======= NVO 1994-12-22 ~ 2024-11-06 5060 / 7856 ========\n",
      "NVOS not exist\n",
      "======= NVR 1994-07-28 ~ 2024-10-22 5062 / 7856 ========\n",
      "======= NVRI 2023-02-27 ~ 2024-10-31 5063 / 7856 ========\n",
      "======= NVRO 2015-03-18 ~ 2024-11-11 5064 / 7856 ========\n",
      "======= NVS 1997-04-22 ~ 2024-10-29 5065 / 7856 ========\n",
      "NVSA not exist\n",
      "======= NVST 2019-10-24 ~ 2024-10-30 5067 / 7856 ========\n",
      "======= NVT 2018-07-26 ~ 2024-11-01 5068 / 7856 ========\n"
     ]
    },
    {
     "name": "stderr",
     "output_type": "stream",
     "text": [
      "NVTA: No timezone found, symbol may be delisted\n"
     ]
    },
    {
     "name": "stdout",
     "output_type": "stream",
     "text": [
      "======= NVTA 2015-05-12 ~ 2024-02-27 5069 / 7856 ========\n",
      "======= NVTS 2022-02-15 ~ 2024-11-04 5070 / 7856 ========\n",
      "======= NVVE 2021-05-17 ~ 2024-05-14 5071 / 7856 ========\n"
     ]
    },
    {
     "name": "stderr",
     "output_type": "stream",
     "text": [
      "NVX: No price data found, symbol may be delisted (1d 2023-09-27 -> 2023-09-27)\n"
     ]
    },
    {
     "name": "stdout",
     "output_type": "stream",
     "text": [
      "======= NVX 2023-09-27 ~ 2023-09-27 5072 / 7856 ========\n",
      "======= NWBI 1997-07-18 ~ 2024-10-29 5073 / 7856 ========\n",
      "======= NWE 1994-08-03 ~ 2024-10-28 5074 / 7856 ========\n",
      "======= NWFL 2004-01-26 ~ 2007-01-23 5075 / 7856 ========\n",
      "======= NWG 2022-02-18 ~ 2024-10-25 5076 / 7856 ========\n",
      "NWGL not exist\n"
     ]
    },
    {
     "name": "stderr",
     "output_type": "stream",
     "text": [
      "NWHM: No timezone found, symbol may be delisted\n"
     ]
    },
    {
     "name": "stdout",
     "output_type": "stream",
     "text": [
      "======= NWHM 2014-03-26 ~ 2020-05-08 5078 / 7856 ========\n",
      "======= NWL 1993-01-28 ~ 2024-10-25 5079 / 7856 ========\n",
      "NWLI not exist\n",
      "======= NWN 1993-01-26 ~ 2024-11-12 5081 / 7856 ========\n",
      "======= NWPX 1996-02-20 ~ 2024-10-30 5082 / 7856 ========\n",
      "======= NWS 2014-05-08 ~ 2024-11-07 5083 / 7856 ========\n",
      "======= NWSA 2013-11-11 ~ 2024-11-07 5084 / 7856 ========\n",
      "NWTN not exist\n",
      "======= NX 2008-06-09 ~ 2024-09-05 5086 / 7856 ========\n",
      "NXC not exist\n",
      "======= NXE 2013-11-14 ~ 2024-11-07 5088 / 7856 ========\n",
      "======= NXGL 2022-05-12 ~ 2024-08-19 5089 / 7856 ========\n"
     ]
    },
    {
     "name": "stderr",
     "output_type": "stream",
     "text": [
      "NXGN: No timezone found, symbol may be delisted\n"
     ]
    },
    {
     "name": "stdout",
     "output_type": "stream",
     "text": [
      "======= NXGN 1996-02-14 ~ 2023-10-24 5090 / 7856 ========\n",
      "NXL not exist\n",
      "NXN not exist\n",
      "NXP not exist\n",
      "======= NXPI 2010-11-02 ~ 2024-11-04 5094 / 7856 ========\n",
      "NXPL not exist\n",
      "======= NXRT 2015-11-10 ~ 2024-10-29 5096 / 7856 ========\n",
      "======= NXST 2004-03-25 ~ 2024-11-07 5097 / 7856 ========\n",
      "======= NXT 2023-05-10 ~ 2024-10-30 5098 / 7856 ========\n",
      "======= NXTC 2019-06-10 ~ 2024-11-07 5099 / 7856 ========\n"
     ]
    },
    {
     "name": "stderr",
     "output_type": "stream",
     "text": [
      "NXTD: No timezone found, symbol may be delisted\n"
     ]
    },
    {
     "name": "stdout",
     "output_type": "stream",
     "text": [
      "======= NXTD 2014-11-19 ~ 2019-08-19 5100 / 7856 ========\n",
      "======= NXTP 2009-10-20 ~ 2023-01-18 5101 / 7856 ========\n",
      "NXTT not exist\n",
      "======= NXU 2023-05-12 ~ 2024-08-06 5103 / 7856 ========\n",
      "======= NYAX 2023-03-01 ~ 2024-08-07 5104 / 7856 ========\n",
      "======= NYC 2020-11-12 ~ 2024-11-12 5105 / 7856 ========\n",
      "======= NYCB 1995-01-18 ~ 2024-10-25 5106 / 7856 ========\n",
      "======= NYMT 2004-11-09 ~ 2024-10-30 5107 / 7856 ========\n",
      "NYMTI not exist\n"
     ]
    },
    {
     "name": "stderr",
     "output_type": "stream",
     "text": [
      "NYMX: No timezone found, symbol may be delisted\n"
     ]
    },
    {
     "name": "stdout",
     "output_type": "stream",
     "text": [
      "======= NYMX 2005-08-15 ~ 2014-03-14 5109 / 7856 ========\n",
      "======= NYT 1993-02-08 ~ 2024-11-04 5110 / 7856 ========\n",
      "NYX not exist\n",
      "======= NYXH 2021-08-31 ~ 2024-11-06 5112 / 7856 ========\n",
      "======= O 2004-07-28 ~ 2024-11-04 5113 / 7856 ========\n",
      "======= OABI 2023-03-30 ~ 2024-11-12 5114 / 7856 ========\n",
      "OABIV not exist\n",
      "OACB not exist\n",
      "OACCU not exist\n",
      "OAK-PA not exist\n",
      "OAK-PB not exist\n",
      "OAKU not exist\n"
     ]
    },
    {
     "name": "stderr",
     "output_type": "stream",
     "text": [
      "OAS: No timezone found, symbol may be delisted\n"
     ]
    },
    {
     "name": "stdout",
     "output_type": "stream",
     "text": [
      "======= OAS 2010-08-11 ~ 2022-08-02 5121 / 7856 ========\n",
      "======= OB 2021-11-11 ~ 2024-11-07 5122 / 7856 ========\n"
     ]
    },
    {
     "name": "stderr",
     "output_type": "stream",
     "text": [
      "OBAS: No timezone found, symbol may be delisted\n"
     ]
    },
    {
     "name": "stdout",
     "output_type": "stream",
     "text": [
      "======= OBAS 1999-08-05 ~ 2007-01-30 5123 / 7856 ========\n",
      "OBCI not exist\n",
      "======= OBDC 2023-02-22 ~ 2024-11-06 5125 / 7856 ========\n",
      "======= OBDE 2024-05-08 ~ 2024-11-06 5126 / 7856 ========\n",
      "======= OBIO 2023-01-24 ~ 2024-11-12 5127 / 7856 ========\n",
      "======= OBK 2023-01-26 ~ 2024-10-23 5128 / 7856 ========\n",
      "======= OBLG 2000-11-01 ~ 2023-05-10 5129 / 7856 ========\n"
     ]
    },
    {
     "name": "stderr",
     "output_type": "stream",
     "text": [
      "OBLN: No timezone found, symbol may be delisted\n"
     ]
    },
    {
     "name": "stdout",
     "output_type": "stream",
     "text": [
      "======= OBLN 2016-11-11 ~ 2021-03-12 5130 / 7856 ========\n"
     ]
    },
    {
     "name": "stderr",
     "output_type": "stream",
     "text": [
      "OBNK: No timezone found, symbol may be delisted\n"
     ]
    },
    {
     "name": "stdout",
     "output_type": "stream",
     "text": [
      "======= OBNK 2018-07-25 ~ 2023-04-26 5131 / 7856 ========\n"
     ]
    },
    {
     "name": "stderr",
     "output_type": "stream",
     "text": [
      "OBSV: No timezone found, symbol may be delisted\n"
     ]
    },
    {
     "name": "stdout",
     "output_type": "stream",
     "text": [
      "======= OBSV 2017-05-18 ~ 2023-03-06 5132 / 7856 ========\n",
      "======= OBT 2020-07-27 ~ 2024-10-30 5133 / 7856 ========\n",
      "======= OC 1993-02-15 ~ 2024-11-06 5134 / 7856 ========\n",
      "OCA not exist\n",
      "OCAX not exist\n",
      "======= OCC 1997-09-03 ~ 2004-09-08 5137 / 7856 ========\n",
      "======= OCCI 2019-06-19 ~ 2024-09-13 5138 / 7856 ========\n"
     ]
    },
    {
     "name": "stderr",
     "output_type": "stream",
     "text": [
      "OCDX: No timezone found, symbol may be delisted\n"
     ]
    },
    {
     "name": "stdout",
     "output_type": "stream",
     "text": [
      "======= OCDX 2021-03-18 ~ 2022-05-04 5139 / 7856 ========\n",
      "======= OCEA 2023-05-01 ~ 2024-04-15 5140 / 7856 ========\n",
      "======= OCFC 1997-07-17 ~ 2024-10-17 5141 / 7856 ========\n",
      "======= OCFT 2020-02-18 ~ 2024-03-18 5142 / 7856 ========\n",
      "OCG not exist\n",
      "======= OCGN 2015-02-26 ~ 2024-08-08 5144 / 7856 ========\n"
     ]
    },
    {
     "name": "stderr",
     "output_type": "stream",
     "text": [
      "OCN: No data found, symbol may be delisted\n"
     ]
    },
    {
     "name": "stdout",
     "output_type": "stream",
     "text": [
      "======= OCN 1997-10-27 ~ 2024-08-01 5145 / 7856 ========\n",
      "======= OCS 2023-08-29 ~ 2024-11-07 5146 / 7856 ========\n"
     ]
    },
    {
     "name": "stderr",
     "output_type": "stream",
     "text": [
      "OCSI: No timezone found, symbol may be delisted\n"
     ]
    },
    {
     "name": "stdout",
     "output_type": "stream",
     "text": [
      "======= OCSI 2013-11-25 ~ 2021-02-04 5147 / 7856 ========\n",
      "======= OCSL 2008-08-07 ~ 2024-11-19 5148 / 7856 ========\n",
      "OCTO not exist\n",
      "======= OCUL 2014-11-12 ~ 2024-11-14 5150 / 7856 ========\n",
      "======= OCUP 2009-11-16 ~ 2024-08-13 5151 / 7856 ========\n",
      "======= OCX 2016-05-16 ~ 2024-08-08 5152 / 7856 ========\n",
      "======= ODC 1993-09-24 ~ 2010-10-12 5153 / 7856 ========\n",
      "======= ODD 2023-11-07 ~ 2024-11-07 5154 / 7856 ========\n",
      "======= ODFL 1993-01-26 ~ 2024-10-23 5155 / 7856 ========\n",
      "======= ODP 1993-02-08 ~ 2024-11-06 5156 / 7856 ========\n"
     ]
    },
    {
     "name": "stderr",
     "output_type": "stream",
     "text": [
      "ODT: No timezone found, symbol may be delisted\n"
     ]
    },
    {
     "name": "stdout",
     "output_type": "stream",
     "text": [
      "======= ODT 2018-02-14 ~ 2021-07-27 5157 / 7856 ========\n",
      "======= ODV 2021-05-11 ~ 2024-11-12 5158 / 7856 ========\n",
      "ODVWZ not exist\n",
      "======= OEC 2014-09-04 ~ 2024-11-08 5160 / 7856 ========\n"
     ]
    },
    {
     "name": "stderr",
     "output_type": "stream",
     "text": [
      "OEG: No timezone found, symbol may be delisted\n"
     ]
    },
    {
     "name": "stdout",
     "output_type": "stream",
     "text": [
      "======= OEG 2012-03-26 ~ 2022-08-15 5161 / 7856 ========\n",
      "OEPW not exist\n",
      "======= OESX 2008-02-06 ~ 2024-11-06 5163 / 7856 ========\n"
     ]
    },
    {
     "name": "stderr",
     "output_type": "stream",
     "text": [
      "OFC: No timezone found, symbol may be delisted\n"
     ]
    },
    {
     "name": "stdout",
     "output_type": "stream",
     "text": [
      "======= OFC 1995-04-21 ~ 2023-10-26 5164 / 7856 ========\n",
      "OFED not exist\n",
      "======= OFG 1994-08-15 ~ 2024-10-16 5166 / 7856 ========\n",
      "======= OFIX 1993-04-27 ~ 2024-11-07 5167 / 7856 ========\n",
      "======= OFLX 2009-07-22 ~ 2010-10-20 5168 / 7856 ========\n",
      "======= OFS 2012-12-13 ~ 2024-10-31 5169 / 7856 ========\n",
      "OFSSI not exist\n",
      "OG not exist\n",
      "======= OGE 1993-01-28 ~ 2024-11-05 5172 / 7856 ========\n",
      "======= OGI 2017-04-28 ~ 2024-08-13 5173 / 7856 ========\n",
      "======= OGN 2021-06-21 ~ 2024-10-31 5174 / 7856 ========\n",
      "======= OGS 2014-05-05 ~ 2024-11-04 5175 / 7856 ========\n",
      "OHAA not exist\n",
      "======= OHI 2004-04-27 ~ 2024-10-30 5177 / 7856 ========\n",
      "OHPA not exist\n",
      "======= OI 1993-05-04 ~ 2024-10-29 5179 / 7856 ========\n",
      "OIBR-C not exist\n"
     ]
    },
    {
     "name": "stderr",
     "output_type": "stream",
     "text": [
      "OIG: No timezone found, symbol may be delisted\n"
     ]
    },
    {
     "name": "stdout",
     "output_type": "stream",
     "text": [
      "======= OIG 2012-03-26 ~ 2023-03-28 5181 / 7856 ========\n",
      "======= OII 1993-05-17 ~ 2024-10-23 5182 / 7856 ========\n"
     ]
    },
    {
     "name": "stderr",
     "output_type": "stream",
     "text": [
      "OIIM: No timezone found, symbol may be delisted\n"
     ]
    },
    {
     "name": "stdout",
     "output_type": "stream",
     "text": [
      "======= OIIM 2000-11-01 ~ 2023-03-10 5183 / 7856 ========\n",
      "======= OIS 2001-05-02 ~ 2024-10-30 5184 / 7856 ========\n",
      "======= OKE 1993-03-31 ~ 2024-10-29 5185 / 7856 ========\n"
     ]
    },
    {
     "name": "stderr",
     "output_type": "stream",
     "text": [
      "OKLO: No price data found, symbol may be delisted (1d 2024-08-13 -> 2024-08-13)\n"
     ]
    },
    {
     "name": "stdout",
     "output_type": "stream",
     "text": [
      "======= OKLO 2024-08-13 ~ 2024-08-13 5186 / 7856 ========\n",
      "======= OKTA 2017-06-07 ~ 2024-12-03 5187 / 7856 ========\n",
      "======= OKUR 2024-05-07 ~ 2024-11-07 5188 / 7856 ========\n",
      "OKYO not exist\n",
      "======= OLB 2020-11-13 ~ 2024-03-28 5190 / 7856 ========\n",
      "======= OLED 2002-05-15 ~ 2024-10-30 5191 / 7856 ========\n",
      "OLIT not exist\n"
     ]
    },
    {
     "name": "stderr",
     "output_type": "stream",
     "text": [
      "OLK: No timezone found, symbol may be delisted\n"
     ]
    },
    {
     "name": "stdout",
     "output_type": "stream",
     "text": [
      "======= OLK 2021-05-20 ~ 2024-08-14 5193 / 7856 ========\n",
      "======= OLLI 2015-09-09 ~ 2024-08-29 5194 / 7856 ========\n",
      "======= OLMA 2020-11-19 ~ 2024-11-12 5195 / 7856 ========\n",
      "======= OLN 1993-01-26 ~ 2024-10-24 5196 / 7856 ========\n",
      "======= OLO 2021-05-11 ~ 2024-11-07 5197 / 7856 ========\n",
      "======= OLP 2003-08-11 ~ 2024-11-05 5198 / 7856 ========\n",
      "======= OLPX 2021-11-10 ~ 2024-11-07 5199 / 7856 ========\n",
      "======= OM 2020-11-11 ~ 2024-11-06 5200 / 7856 ========\n",
      "======= OMAB 2007-02-27 ~ 2024-10-24 5201 / 7856 ========\n",
      "======= OMC 1993-02-23 ~ 2024-10-15 5202 / 7856 ========\n",
      "OMCC not exist\n",
      "======= OMCL 2002-04-25 ~ 2024-10-30 5204 / 7856 ========\n",
      "OMEG not exist\n",
      "======= OMER 2009-11-19 ~ 2024-11-13 5206 / 7856 ========\n",
      "======= OMEX 2009-11-06 ~ 2016-05-12 5207 / 7856 ========\n",
      "======= OMF 2014-05-14 ~ 2024-10-30 5208 / 7856 ========\n",
      "======= OMGA 2021-09-10 ~ 2024-11-14 5209 / 7856 ========\n",
      "OMH not exist\n",
      "======= OMI 1993-02-03 ~ 2024-11-04 5211 / 7856 ========\n",
      "======= OMIC 2021-08-03 ~ 2024-11-12 5212 / 7856 ========\n"
     ]
    },
    {
     "name": "stderr",
     "output_type": "stream",
     "text": [
      "OMP: No timezone found, symbol may be delisted\n"
     ]
    },
    {
     "name": "stdout",
     "output_type": "stream",
     "text": [
      "======= OMP 2017-11-07 ~ 2021-11-04 5213 / 7856 ========\n",
      "======= ON 2000-07-20 ~ 2024-10-28 5214 / 7856 ========\n",
      "======= ONB 1995-10-26 ~ 2024-10-22 5215 / 7856 ========\n"
     ]
    },
    {
     "name": "stderr",
     "output_type": "stream",
     "text": [
      "ONCO: No price data found, symbol may be delisted (1d 2023-10-20 -> 2023-10-20)\n"
     ]
    },
    {
     "name": "stdout",
     "output_type": "stream",
     "text": [
      "======= ONCO 2023-10-20 ~ 2023-10-20 5216 / 7856 ========\n"
     ]
    },
    {
     "name": "stderr",
     "output_type": "stream",
     "text": [
      "ONCR: No timezone found, symbol may be delisted\n"
     ]
    },
    {
     "name": "stdout",
     "output_type": "stream",
     "text": [
      "======= ONCR 2020-11-11 ~ 2023-08-03 5217 / 7856 ========\n"
     ]
    },
    {
     "name": "stderr",
     "output_type": "stream",
     "text": [
      "ONCS: No timezone found, symbol may be delisted\n"
     ]
    },
    {
     "name": "stdout",
     "output_type": "stream",
     "text": [
      "======= ONCS 2011-10-20 ~ 2022-12-15 5218 / 7856 ========\n",
      "======= ONCT 2004-04-19 ~ 2024-11-06 5219 / 7856 ========\n",
      "======= ONCY 2005-02-15 ~ 2024-08-01 5220 / 7856 ========\n",
      "======= ONDS 2021-03-08 ~ 2024-08-14 5221 / 7856 ========\n"
     ]
    },
    {
     "name": "stderr",
     "output_type": "stream",
     "text": [
      "ONE: No timezone found, symbol may be delisted\n"
     ]
    },
    {
     "name": "stdout",
     "output_type": "stream",
     "text": [
      "======= ONE 2018-05-03 ~ 2021-05-13 5222 / 7856 ========\n"
     ]
    },
    {
     "name": "stderr",
     "output_type": "stream",
     "text": [
      "ONEM: No timezone found, symbol may be delisted\n"
     ]
    },
    {
     "name": "stdout",
     "output_type": "stream",
     "text": [
      "======= ONEM 2020-05-13 ~ 2023-02-21 5223 / 7856 ========\n",
      "======= ONEW 2020-05-07 ~ 2024-11-14 5224 / 7856 ========\n",
      "ONFO not exist\n",
      "======= ONIT 2024-05-02 ~ 2024-11-05 5226 / 7856 ========\n",
      "======= ONL 2022-05-04 ~ 2023-03-08 5227 / 7856 ========\n",
      "ONMD not exist\n",
      "======= ONON 2021-11-16 ~ 2024-11-12 5229 / 7856 ========\n",
      "ONSIZ not exist\n",
      "======= ONTF 2021-03-17 ~ 2024-11-07 5231 / 7856 ========\n",
      "======= ONTO 1996-04-18 ~ 2024-10-31 5232 / 7856 ========\n"
     ]
    },
    {
     "name": "stderr",
     "output_type": "stream",
     "text": [
      "ONTX: No timezone found, symbol may be delisted\n"
     ]
    },
    {
     "name": "stdout",
     "output_type": "stream",
     "text": [
      "======= ONTX 2013-11-12 ~ 2024-05-20 5233 / 7856 ========\n",
      "ONTXW not exist\n",
      "======= ONVO 2013-03-18 ~ 2024-11-08 5235 / 7856 ========\n",
      "ONYX not exist\n",
      "======= OOMA 2015-09-02 ~ 2024-08-27 5237 / 7856 ========\n",
      "OP not exist\n",
      "OPA not exist\n",
      "======= OPAD 2021-11-10 ~ 2024-11-04 5240 / 7856 ========\n",
      "======= OPAL 2022-03-09 ~ 2024-11-08 5241 / 7856 ========\n",
      "======= OPBK 2018-04-26 ~ 2024-10-24 5242 / 7856 ========\n",
      "======= OPCH 1996-10-23 ~ 2024-10-30 5243 / 7856 ========\n",
      "======= OPEN 2021-03-04 ~ 2024-11-07 5244 / 7856 ========\n",
      "======= OPFI 2021-08-10 ~ 2024-11-07 5245 / 7856 ========\n",
      "======= OPGN 2016-08-09 ~ 2024-04-03 5246 / 7856 ========\n",
      "======= OPHC 2024-08-05 ~ 2024-11-08 5247 / 7856 ========\n",
      "======= OPI 2009-11-04 ~ 2024-10-30 5248 / 7856 ========\n",
      "======= OPK 2001-04-01 ~ 2024-11-07 5249 / 7856 ========\n"
     ]
    },
    {
     "name": "stderr",
     "output_type": "stream",
     "text": [
      "OPNT: No timezone found, symbol may be delisted\n"
     ]
    },
    {
     "name": "stdout",
     "output_type": "stream",
     "text": [
      "======= OPNT 2018-08-09 ~ 2023-03-21 5250 / 7856 ========\n",
      "======= OPOF 2009-01-22 ~ 2012-04-30 5251 / 7856 ========\n",
      "======= OPRA 2019-11-14 ~ 2024-10-29 5252 / 7856 ========\n",
      "======= OPRT 2019-11-12 ~ 2024-11-12 5253 / 7856 ========\n",
      "======= OPRX 2013-08-12 ~ 2024-11-13 5254 / 7856 ========\n",
      "======= OPT 2023-09-12 ~ 2024-10-30 5255 / 7856 ========\n",
      "======= OPTN 2017-11-27 ~ 2024-08-08 5256 / 7856 ========\n",
      "OPTX not exist\n",
      "======= OPY 2009-10-30 ~ 2018-07-27 5258 / 7856 ========\n",
      "======= OR 2014-07-31 ~ 2024-11-06 5259 / 7856 ========\n",
      "======= ORA 2005-05-11 ~ 2024-11-06 5260 / 7856 ========\n",
      "ORAN not exist\n"
     ]
    },
    {
     "name": "stderr",
     "output_type": "stream",
     "text": [
      "ORBC: No timezone found, symbol may be delisted\n"
     ]
    },
    {
     "name": "stdout",
     "output_type": "stream",
     "text": [
      "======= ORBC 2007-03-15 ~ 2021-08-03 5262 / 7856 ========\n",
      "======= ORC 2013-05-01 ~ 2024-10-24 5263 / 7856 ========\n"
     ]
    },
    {
     "name": "stderr",
     "output_type": "stream",
     "text": [
      "ORCC: No timezone found, symbol may be delisted\n"
     ]
    },
    {
     "name": "stdout",
     "output_type": "stream",
     "text": [
      "======= ORCC 2019-07-30 ~ 2023-08-02 5264 / 7856 ========\n",
      "======= ORCL 1994-06-23 ~ 2024-09-09 5265 / 7856 ========\n",
      "======= ORGN 2004-08-03 ~ 2024-11-14 5266 / 7856 ========\n",
      "======= ORGO 2019-05-10 ~ 2024-11-12 5267 / 7856 ========\n",
      "======= ORGS 2018-04-16 ~ 2023-11-13 5268 / 7856 ========\n",
      "======= ORI 1993-02-08 ~ 2024-10-24 5269 / 7856 ========\n",
      "ORIA not exist\n",
      "======= ORIC 2020-05-20 ~ 2024-08-12 5271 / 7856 ========\n",
      "ORIS not exist\n",
      "======= ORKA 2021-05-11 ~ 2024-11-13 5273 / 7856 ========\n",
      "ORKT not exist\n",
      "======= ORLY 1993-10-26 ~ 2024-10-23 5275 / 7856 ========\n",
      "======= ORMP 2014-01-14 ~ 2024-08-14 5276 / 7856 ========\n",
      "======= ORN 2008-05-08 ~ 2024-10-30 5277 / 7856 ========\n",
      "ORPH not exist\n",
      "======= ORRF 2010-04-22 ~ 2024-10-22 5279 / 7856 ========\n"
     ]
    },
    {
     "name": "stderr",
     "output_type": "stream",
     "text": [
      "ORTX: No timezone found, symbol may be delisted\n"
     ]
    },
    {
     "name": "stdout",
     "output_type": "stream",
     "text": [
      "======= ORTX 2019-03-21 ~ 2024-03-04 5280 / 7856 ========\n"
     ]
    },
    {
     "name": "stderr",
     "output_type": "stream",
     "text": [
      "OS: No price data found, symbol may be delisted (1d 2024-09-03 -> 2024-09-03)\n"
     ]
    },
    {
     "name": "stdout",
     "output_type": "stream",
     "text": [
      "======= OS 2024-09-03 ~ 2024-09-03 5281 / 7856 ========\n",
      "======= OSA 2023-05-12 ~ 2024-03-27 5282 / 7856 ========\n",
      "======= OSBC 1996-04-09 ~ 2024-10-16 5283 / 7856 ========\n",
      "======= OSCR 2021-05-13 ~ 2024-11-07 5284 / 7856 ========\n"
     ]
    },
    {
     "name": "stderr",
     "output_type": "stream",
     "text": [
      "OSG: No timezone found, symbol may be delisted\n"
     ]
    },
    {
     "name": "stdout",
     "output_type": "stream",
     "text": [
      "======= OSG 2016-08-09 ~ 2016-11-09 5285 / 7856 ========\n"
     ]
    },
    {
     "name": "stderr",
     "output_type": "stream",
     "text": [
      "OSH: No timezone found, symbol may be delisted\n"
     ]
    },
    {
     "name": "stdout",
     "output_type": "stream",
     "text": [
      "======= OSH 2020-09-16 ~ 2023-05-02 5286 / 7856 ========\n",
      "OSI not exist\n",
      "======= OSIS 1998-04-29 ~ 2024-10-24 5288 / 7856 ========\n",
      "======= OSK 1993-01-25 ~ 2024-10-30 5289 / 7856 ========\n"
     ]
    },
    {
     "name": "stderr",
     "output_type": "stream",
     "text": [
      "OSMT: No timezone found, symbol may be delisted\n"
     ]
    },
    {
     "name": "stdout",
     "output_type": "stream",
     "text": [
      "======= OSMT 2019-03-27 ~ 2021-11-15 5290 / 7856 ========\n"
     ]
    },
    {
     "name": "stderr",
     "output_type": "stream",
     "text": [
      "OSN: No timezone found, symbol may be delisted\n"
     ]
    },
    {
     "name": "stdout",
     "output_type": "stream",
     "text": [
      "======= OSN 2011-04-13 ~ 2012-05-30 5291 / 7856 ========\n",
      "======= OSPN 2001-07-25 ~ 2024-10-30 5292 / 7856 ========\n",
      "======= OSS 2018-03-21 ~ 2024-11-06 5293 / 7856 ========\n",
      "OST not exist\n"
     ]
    },
    {
     "name": "stderr",
     "output_type": "stream",
     "text": [
      "OSTK: Period '1mo' is invalid, must be one of ['1d', '5d']\n"
     ]
    },
    {
     "name": "stdout",
     "output_type": "stream",
     "text": [
      "======= OSTK 2002-07-29 ~ 2024-02-28 5295 / 7856 ========\n",
      "OSTR not exist\n",
      "======= OSUR 2000-07-31 ~ 2024-11-06 5297 / 7856 ========\n",
      "======= OSW 2019-05-08 ~ 2024-10-30 5298 / 7856 ========\n",
      "OTEC not exist\n",
      "======= OTEX 1996-05-08 ~ 2024-10-31 5300 / 7856 ========\n"
     ]
    },
    {
     "name": "stderr",
     "output_type": "stream",
     "text": [
      "OTIC: No timezone found, symbol may be delisted\n"
     ]
    },
    {
     "name": "stdout",
     "output_type": "stream",
     "text": [
      "======= OTIC 2014-11-12 ~ 2022-11-10 5301 / 7856 ========\n",
      "======= OTIS 2020-05-06 ~ 2024-10-30 5302 / 7856 ========\n",
      "======= OTLK 2016-12-29 ~ 2024-08-14 5303 / 7856 ========\n",
      "OTLKW not exist\n",
      "======= OTLY 2021-08-16 ~ 2024-11-07 5305 / 7856 ========\n"
     ]
    },
    {
     "name": "stderr",
     "output_type": "stream",
     "text": [
      "OTMO: No timezone found, symbol may be delisted\n"
     ]
    },
    {
     "name": "stdout",
     "output_type": "stream",
     "text": [
      "======= OTMO 2022-08-17 ~ 2023-02-15 5306 / 7856 ========\n",
      "OTRA not exist\n",
      "======= OTRK 2005-05-11 ~ 2024-11-13 5308 / 7856 ========\n",
      "======= OTTR 1993-01-22 ~ 2024-11-04 5309 / 7856 ========\n",
      "======= OUST 2021-05-06 ~ 2024-11-07 5310 / 7856 ========\n",
      "======= OUT 2014-08-07 ~ 2024-11-12 5311 / 7856 ========\n",
      "OVBC not exist\n",
      "======= OVID 2017-06-13 ~ 2024-11-12 5313 / 7856 ========\n",
      "OVLY not exist\n",
      "======= OVV 1993-01-27 ~ 2024-11-07 5315 / 7856 ========\n",
      "======= OWL 2021-11-09 ~ 2024-10-31 5316 / 7856 ========\n",
      "======= OWLT 2021-08-12 ~ 2024-11-13 5317 / 7856 ========\n",
      "OXAC not exist\n",
      "======= OXBR 2016-05-16 ~ 2016-08-15 5319 / 7856 ========\n",
      "======= OXLC 2022-01-28 ~ 2024-11-01 5320 / 7856 ========\n",
      "OXLCI not exist\n",
      "======= OXM 1993-03-22 ~ 2024-09-11 5322 / 7856 ========\n",
      "======= OXSQ 2004-05-04 ~ 2024-11-05 5323 / 7856 ========\n",
      "OXUS not exist\n",
      "======= OXY 1993-01-28 ~ 2024-11-12 5325 / 7856 ========\n"
     ]
    },
    {
     "name": "stderr",
     "output_type": "stream",
     "text": [
      "OYST: No timezone found, symbol may be delisted\n"
     ]
    },
    {
     "name": "stdout",
     "output_type": "stream",
     "text": [
      "======= OYST 2019-12-03 ~ 2022-11-10 5326 / 7856 ========\n",
      "======= OZK 1998-01-15 ~ 2024-10-17 5327 / 7856 ========\n"
     ]
    },
    {
     "name": "stderr",
     "output_type": "stream",
     "text": [
      "OZON: No timezone found, symbol may be delisted\n"
     ]
    },
    {
     "name": "stdout",
     "output_type": "stream",
     "text": [
      "======= OZON 2021-03-30 ~ 2022-04-07 5328 / 7856 ========\n",
      "======= PAA 1999-08-02 ~ 2024-11-08 5329 / 7856 ========\n",
      "======= PAAS 1999-03-03 ~ 2024-11-05 5330 / 7856 ========\n",
      "======= PAC 2006-07-24 ~ 2024-10-21 5331 / 7856 ========\n",
      "======= PACB 2011-02-15 ~ 2024-11-07 5332 / 7856 ========\n",
      "PACE not exist\n",
      "PACI not exist\n",
      "======= PACK 2019-11-07 ~ 2024-10-31 5335 / 7856 ========\n",
      "======= PACS 2024-05-13 ~ 2024-11-07 5336 / 7856 ========\n"
     ]
    },
    {
     "name": "stderr",
     "output_type": "stream",
     "text": [
      "PACW: No timezone found, symbol may be delisted\n"
     ]
    },
    {
     "name": "stdout",
     "output_type": "stream",
     "text": [
      "======= PACW 2003-07-23 ~ 2024-01-25 5337 / 7856 ========\n",
      "PACX not exist\n"
     ]
    },
    {
     "name": "stderr",
     "output_type": "stream",
     "text": [
      "PAE: No timezone found, symbol may be delisted\n"
     ]
    },
    {
     "name": "stdout",
     "output_type": "stream",
     "text": [
      "======= PAE 2020-08-06 ~ 2021-11-04 5339 / 7856 ========\n",
      "PAFO not exist\n",
      "======= PAG 1997-02-25 ~ 2024-10-29 5341 / 7856 ========\n",
      "======= PAGP 2014-03-12 ~ 2024-11-08 5342 / 7856 ========\n",
      "======= PAGS 2018-05-29 ~ 2024-11-14 5343 / 7856 ========\n",
      "======= PAHC 2014-05-13 ~ 2024-11-07 5344 / 7856 ========\n",
      "PAIC not exist\n",
      "======= PAL 2024-08-09 ~ 2024-11-08 5346 / 7856 ========\n",
      "======= PALI 2010-11-16 ~ 2024-11-12 5347 / 7856 ========\n",
      "======= PALT 2013-08-14 ~ 2024-08-13 5348 / 7856 ========\n",
      "======= PAM 2010-08-11 ~ 2024-11-06 5349 / 7856 ========\n",
      "PAMT not exist\n",
      "PANA not exist\n",
      "======= PANL 2014-11-17 ~ 2024-11-12 5352 / 7856 ========\n",
      "======= PANW 2012-09-10 ~ 2024-11-20 5353 / 7856 ========\n",
      "PAQC not exist\n",
      "======= PAR 1993-02-26 ~ 2024-11-08 5355 / 7856 ========\n",
      "======= PARA 1993-02-10 ~ 2024-11-08 5356 / 7856 ========\n",
      "======= PARR 2003-05-12 ~ 2024-11-04 5357 / 7856 ========\n",
      "======= PASG 2020-05-11 ~ 2024-08-08 5358 / 7856 ========\n",
      "======= PATH 2021-06-08 ~ 2024-12-05 5359 / 7856 ========\n",
      "PATI not exist\n",
      "======= PATK 1993-10-22 ~ 2024-10-31 5361 / 7856 ========\n",
      "======= PAVM 2016-08-16 ~ 2024-11-13 5362 / 7856 ========\n",
      "PAVS not exist\n",
      "======= PAX 2021-03-18 ~ 2024-11-05 5364 / 7856 ========\n",
      "======= PAY 2021-08-10 ~ 2024-08-08 5365 / 7856 ========\n"
     ]
    },
    {
     "name": "stderr",
     "output_type": "stream",
     "text": [
      "PAYA: No timezone found, symbol may be delisted\n"
     ]
    },
    {
     "name": "stdout",
     "output_type": "stream",
     "text": [
      "======= PAYA 2021-05-07 ~ 2022-11-04 5366 / 7856 ========\n",
      "======= PAYC 2014-05-15 ~ 2024-10-30 5367 / 7856 ========\n",
      "======= PAYO 2021-05-12 ~ 2024-11-05 5368 / 7856 ========\n",
      "======= PAYS 2019-03-11 ~ 2024-11-05 5369 / 7856 ========\n",
      "======= PAYX 1993-07-06 ~ 2024-10-01 5370 / 7856 ========\n",
      "======= PB 1999-02-01 ~ 2024-10-23 5371 / 7856 ========\n",
      "======= PBA 1998-10-30 ~ 2024-11-05 5372 / 7856 ========\n",
      "PBAX not exist\n",
      "PBBK not exist\n",
      "PBC not exist\n"
     ]
    },
    {
     "name": "stderr",
     "output_type": "stream",
     "text": [
      "PBCT: No timezone found, symbol may be delisted\n"
     ]
    },
    {
     "name": "stdout",
     "output_type": "stream",
     "text": [
      "======= PBCT 1993-10-22 ~ 2022-01-20 5376 / 7856 ========\n",
      "======= PBF 2013-02-28 ~ 2024-10-31 5377 / 7856 ========\n",
      "PBFS not exist\n"
     ]
    },
    {
     "name": "stderr",
     "output_type": "stream",
     "text": [
      "PBFX: No timezone found, symbol may be delisted\n"
     ]
    },
    {
     "name": "stdout",
     "output_type": "stream",
     "text": [
      "======= PBFX 2014-06-18 ~ 2022-10-27 5379 / 7856 ========\n",
      "======= PBH 2005-07-27 ~ 2024-11-07 5380 / 7856 ========\n",
      "PBHC not exist\n",
      "======= PBI 1993-04-22 ~ 2024-11-07 5382 / 7856 ========\n"
     ]
    },
    {
     "name": "stderr",
     "output_type": "stream",
     "text": [
      "PBIP: No timezone found, symbol may be delisted\n"
     ]
    },
    {
     "name": "stdout",
     "output_type": "stream",
     "text": [
      "======= PBIP 2006-07-27 ~ 2022-04-29 5383 / 7856 ========\n",
      "======= PBLA 2020-11-12 ~ 2024-08-13 5384 / 7856 ========\n",
      "PBM not exist\n",
      "PBMWW not exist\n",
      "======= PBPB 2014-02-18 ~ 2024-11-07 5387 / 7856 ========\n",
      "======= PBR 1997-11-25 ~ 2024-11-07 5388 / 7856 ========\n",
      "======= PBR-A 2004-08-13 ~ 2024-11-07 5389 / 7856 ========\n",
      "PBTS not exist\n",
      "======= PBYI 2012-08-14 ~ 2024-11-07 5391 / 7856 ========\n",
      "======= PCAR 1993-01-26 ~ 2024-10-22 5392 / 7856 ========\n",
      "======= PCB 2018-10-23 ~ 2024-10-24 5393 / 7856 ========\n",
      "PCCT not exist\n",
      "======= PCG 1993-01-20 ~ 2024-11-07 5395 / 7856 ========\n"
     ]
    },
    {
     "name": "stderr",
     "output_type": "stream",
     "text": [
      "PCGU: No timezone found, symbol may be delisted\n"
     ]
    },
    {
     "name": "stdout",
     "output_type": "stream",
     "text": [
      "======= PCGU 1993-01-20 ~ 2020-07-30 5396 / 7856 ========\n",
      "======= PCH 1993-01-26 ~ 2024-10-28 5397 / 7856 ========\n"
     ]
    },
    {
     "name": "stderr",
     "output_type": "stream",
     "text": [
      "PCOM: No timezone found, symbol may be delisted\n"
     ]
    },
    {
     "name": "stdout",
     "output_type": "stream",
     "text": [
      "======= PCOM 2005-11-10 ~ 2022-05-12 5398 / 7856 ========\n",
      "======= PCOR 2021-08-05 ~ 2024-10-30 5399 / 7856 ========\n",
      "PCPC not exist\n",
      "======= PCRX 2011-08-11 ~ 2024-11-06 5401 / 7856 ========\n",
      "======= PCSA 2020-11-12 ~ 2024-10-30 5402 / 7856 ========\n"
     ]
    },
    {
     "name": "stderr",
     "output_type": "stream",
     "text": [
      "PCSB: No timezone found, symbol may be delisted\n"
     ]
    },
    {
     "name": "stdout",
     "output_type": "stream",
     "text": [
      "======= PCSB 2017-04-27 ~ 2022-10-27 5403 / 7856 ========\n",
      "PCSC not exist\n",
      "======= PCT 2021-05-19 ~ 2024-11-15 5405 / 7856 ========\n"
     ]
    },
    {
     "name": "stderr",
     "output_type": "stream",
     "text": [
      "PCTI: No timezone found, symbol may be delisted\n"
     ]
    },
    {
     "name": "stdout",
     "output_type": "stream",
     "text": [
      "======= PCTI 2000-01-31 ~ 2023-11-08 5406 / 7856 ========\n",
      "======= PCTY 2014-08-14 ~ 2024-10-30 5407 / 7856 ========\n",
      "======= PCVX 2020-08-12 ~ 2024-11-05 5408 / 7856 ========\n",
      "PCX not exist\n"
     ]
    },
    {
     "name": "stderr",
     "output_type": "stream",
     "text": [
      "PCYG: Period '1mo' is invalid, must be one of ['1d', '5d']\n"
     ]
    },
    {
     "name": "stdout",
     "output_type": "stream",
     "text": [
      "======= PCYG 2007-05-15 ~ 2023-11-13 5410 / 7856 ========\n",
      "======= PCYO 2009-07-10 ~ 2017-04-10 5411 / 7856 ========\n",
      "======= PD 2019-06-06 ~ 2024-11-26 5412 / 7856 ========\n",
      "PDAC not exist\n",
      "PDCC not exist\n"
     ]
    },
    {
     "name": "stderr",
     "output_type": "stream",
     "text": [
      "PDCE: Period '1mo' is invalid, must be one of ['1d', '5d']\n"
     ]
    },
    {
     "name": "stdout",
     "output_type": "stream",
     "text": [
      "======= PDCE 1997-08-06 ~ 2023-08-09 5415 / 7856 ========\n",
      "======= PDCO 1993-02-17 ~ 2024-12-05 5416 / 7856 ========\n",
      "======= PDD 2018-11-20 ~ 2024-08-26 5417 / 7856 ========\n",
      "======= PDEX 1995-05-17 ~ 2024-10-31 5418 / 7856 ========\n",
      "======= PDFS 2001-10-17 ~ 2024-11-07 5419 / 7856 ========\n",
      "======= PDLB 2017-08-10 ~ 2024-10-30 5420 / 7856 ========\n",
      "======= PDM 2010-05-11 ~ 2024-10-24 5421 / 7856 ========\n",
      "PDOT not exist\n",
      "======= PDS 1996-03-12 ~ 2024-10-29 5423 / 7856 ========\n",
      "======= PDSB 2015-11-06 ~ 2024-08-13 5424 / 7856 ========\n",
      "======= PDYN 2023-11-14 ~ 2024-11-13 5425 / 7856 ========\n"
     ]
    },
    {
     "name": "stderr",
     "output_type": "stream",
     "text": [
      "PEAK: No timezone found, symbol may be delisted\n"
     ]
    },
    {
     "name": "stdout",
     "output_type": "stream",
     "text": [
      "======= PEAK 2003-01-21 ~ 2024-04-25 5426 / 7856 ========\n"
     ]
    },
    {
     "name": "stderr",
     "output_type": "stream",
     "text": [
      "PEAR: No timezone found, symbol may be delisted\n"
     ]
    },
    {
     "name": "stdout",
     "output_type": "stream",
     "text": [
      "======= PEAR 2022-03-28 ~ 2023-03-31 5427 / 7856 ========\n",
      "======= PEB 2010-05-06 ~ 2024-11-08 5428 / 7856 ========\n",
      "======= PEBK 1999-04-26 ~ 2010-11-04 5429 / 7856 ========\n",
      "======= PEBO 1996-04-17 ~ 2024-10-22 5430 / 7856 ========\n",
      "======= PECO 2021-11-04 ~ 2024-10-24 5431 / 7856 ========\n",
      "======= PEG 1993-01-19 ~ 2024-11-04 5432 / 7856 ========\n",
      "======= PEGA 1996-10-23 ~ 2024-10-23 5433 / 7856 ========\n",
      "PEGR not exist\n",
      "======= PEGY 1993-05-04 ~ 2024-08-19 5435 / 7856 ========\n"
     ]
    },
    {
     "name": "stderr",
     "output_type": "stream",
     "text": [
      "PEI: No timezone found, symbol may be delisted\n"
     ]
    },
    {
     "name": "stdout",
     "output_type": "stream",
     "text": [
      "======= PEI 1993-01-19 ~ 2020-08-10 5436 / 7856 ========\n",
      "======= PEN 2015-11-12 ~ 2024-10-30 5437 / 7856 ========\n"
     ]
    },
    {
     "name": "stderr",
     "output_type": "stream",
     "text": [
      "PENG: No price data found, symbol may be delisted (1d 2024-10-15 -> 2024-10-15)\n"
     ]
    },
    {
     "name": "stdout",
     "output_type": "stream",
     "text": [
      "======= PENG 2024-10-15 ~ 2024-10-15 5438 / 7856 ========\n",
      "======= PENN 1994-10-25 ~ 2024-11-07 5439 / 7856 ========\n",
      "======= PEP 1993-02-02 ~ 2024-10-08 5440 / 7856 ========\n",
      "======= PEPG 2022-05-09 ~ 2024-11-07 5441 / 7856 ========\n",
      "PEPL not exist\n",
      "======= PERF 2023-03-06 ~ 2024-10-29 5443 / 7856 ========\n",
      "======= PERI 2006-08-14 ~ 2024-11-06 5444 / 7856 ========\n",
      "======= PESI 2002-05-17 ~ 2024-08-08 5445 / 7856 ========\n",
      "======= PET 2022-11-10 ~ 2024-08-07 5446 / 7856 ========\n",
      "======= PETQ 2017-11-06 ~ 2024-11-05 5447 / 7856 ========\n",
      "======= PETS 2004-05-17 ~ 2024-11-06 5448 / 7856 ========\n",
      "======= PETV 2021-11-15 ~ 2023-06-30 5449 / 7856 ========\n",
      "PETZ not exist\n",
      "PEV not exist\n",
      "======= PFBC 2005-07-20 ~ 2024-10-21 5452 / 7856 ========\n"
     ]
    },
    {
     "name": "stderr",
     "output_type": "stream",
     "text": [
      "PFBI: No timezone found, symbol may be delisted\n"
     ]
    },
    {
     "name": "stdout",
     "output_type": "stream",
     "text": [
      "======= PFBI 1997-01-17 ~ 2007-04-27 5453 / 7856 ========\n",
      "======= PFC 2000-07-20 ~ 2024-10-22 5454 / 7856 ========\n",
      "PFDR not exist\n",
      "======= PFE 1993-01-22 ~ 2024-10-29 5456 / 7856 ========\n",
      "======= PFG 2002-02-06 ~ 2024-10-24 5457 / 7856 ========\n",
      "======= PFGC 2015-11-04 ~ 2024-11-06 5458 / 7856 ========\n"
     ]
    },
    {
     "name": "stderr",
     "output_type": "stream",
     "text": [
      "PFHC: No timezone found, symbol may be delisted\n"
     ]
    },
    {
     "name": "stdout",
     "output_type": "stream",
     "text": [
      "======= PFHC 2022-06-16 ~ 2022-11-11 5459 / 7856 ========\n"
     ]
    },
    {
     "name": "stderr",
     "output_type": "stream",
     "text": [
      "PFHD: No timezone found, symbol may be delisted\n"
     ]
    },
    {
     "name": "stdout",
     "output_type": "stream",
     "text": [
      "======= PFHD 2020-05-15 ~ 2023-01-27 5460 / 7856 ========\n",
      "======= PFIE 2012-02-14 ~ 2024-11-06 5461 / 7856 ========\n"
     ]
    },
    {
     "name": "stderr",
     "output_type": "stream",
     "text": [
      "PFIN: No timezone found, symbol may be delisted\n"
     ]
    },
    {
     "name": "stdout",
     "output_type": "stream",
     "text": [
      "======= PFIN 1999-05-06 ~ 2003-05-13 5462 / 7856 ========\n",
      "======= PFIS 2022-04-26 ~ 2024-11-05 5463 / 7856 ========\n",
      "======= PFLT 2011-08-04 ~ 2024-11-25 5464 / 7856 ========\n",
      "======= PFMT 2012-11-05 ~ 2024-11-06 5465 / 7856 ========\n"
     ]
    },
    {
     "name": "stderr",
     "output_type": "stream",
     "text": [
      "PFPT: No timezone found, symbol may be delisted\n"
     ]
    },
    {
     "name": "stdout",
     "output_type": "stream",
     "text": [
      "======= PFPT 2012-05-17 ~ 2021-07-29 5466 / 7856 ========\n",
      "======= PFS 2003-07-17 ~ 2024-10-29 5467 / 7856 ========\n",
      "======= PFSI 2013-08-08 ~ 2024-10-22 5468 / 7856 ========\n"
     ]
    },
    {
     "name": "stderr",
     "output_type": "stream",
     "text": [
      "PFSW: No timezone found, symbol may be delisted\n"
     ]
    },
    {
     "name": "stdout",
     "output_type": "stream",
     "text": [
      "======= PFSW 2000-02-03 ~ 2021-05-07 5469 / 7856 ========\n",
      "PFTA not exist\n",
      "======= PFX 2011-05-12 ~ 2024-08-06 5471 / 7856 ========\n",
      "======= PG 1993-01-28 ~ 2024-10-18 5472 / 7856 ========\n",
      "======= PGC 2009-04-28 ~ 2024-10-22 5473 / 7856 ========\n",
      "======= PGEN 2013-11-07 ~ 2024-11-14 5474 / 7856 ========\n",
      "PGHL not exist\n",
      "======= PGNY 2019-12-04 ~ 2024-08-06 5476 / 7856 ========\n",
      "======= PGR 1993-01-28 ~ 2024-10-15 5477 / 7856 ========\n",
      "======= PGRE 2015-03-05 ~ 2024-10-30 5478 / 7856 ========\n",
      "======= PGRU 2022-08-25 ~ 2024-09-03 5479 / 7856 ========\n",
      "PGRW not exist\n",
      "PGSS not exist\n"
     ]
    },
    {
     "name": "stderr",
     "output_type": "stream",
     "text": [
      "PGTI: No timezone found, symbol may be delisted\n"
     ]
    },
    {
     "name": "stdout",
     "output_type": "stream",
     "text": [
      "======= PGTI 2006-11-01 ~ 2024-05-09 5482 / 7856 ========\n",
      "======= PGY 2022-11-10 ~ 2024-11-12 5483 / 7856 ========\n",
      "======= PH 1993-01-22 ~ 2024-10-31 5484 / 7856 ========\n",
      "======= PHAR 2021-08-05 ~ 2024-10-24 5485 / 7856 ========\n"
     ]
    },
    {
     "name": "stderr",
     "output_type": "stream",
     "text": [
      "PHAS: No timezone found, symbol may be delisted\n"
     ]
    },
    {
     "name": "stdout",
     "output_type": "stream",
     "text": [
      "======= PHAS 2018-11-29 ~ 2022-08-12 5486 / 7856 ========\n",
      "======= PHAT 2019-11-24 ~ 2024-11-07 5487 / 7856 ========\n",
      "PHCF not exist\n",
      "======= PHG 1993-05-12 ~ 2024-10-28 5489 / 7856 ========\n",
      "======= PHI 1995-01-17 ~ 2024-11-12 5490 / 7856 ========\n",
      "PHIC not exist\n",
      "======= PHIN 2024-04-25 ~ 2024-10-31 5492 / 7856 ========\n",
      "======= PHIO 2013-11-14 ~ 2024-11-14 5493 / 7856 ========\n",
      "======= PHM 1993-02-08 ~ 2024-10-22 5494 / 7856 ========\n",
      "======= PHR 2019-09-09 ~ 2024-09-04 5495 / 7856 ========\n",
      "======= PHUN 2020-11-09 ~ 2024-11-07 5496 / 7856 ========\n",
      "======= PHVS 2021-04-29 ~ 2024-11-13 5497 / 7856 ========\n",
      "======= PHX 2003-02-13 ~ 2024-11-06 5498 / 7856 ========\n",
      "PHXM not exist\n",
      "PHYT not exist\n",
      "======= PI 2016-08-31 ~ 2024-10-23 5501 / 7856 ========\n",
      "PIAI not exist\n",
      "PICC not exist\n",
      "======= PII 1994-07-25 ~ 2024-10-22 5504 / 7856 ========\n",
      "======= PIII 2022-04-25 ~ 2024-08-07 5505 / 7856 ========\n",
      "======= PIK 2022-03-31 ~ 2024-04-10 5506 / 7856 ========\n",
      "======= PINC 2013-11-11 ~ 2024-11-05 5507 / 7856 ========\n",
      "======= PINE 2020-02-03 ~ 2024-10-17 5508 / 7856 ========\n"
     ]
    },
    {
     "name": "stderr",
     "output_type": "stream",
     "text": [
      "PING: No timezone found, symbol may be delisted\n"
     ]
    },
    {
     "name": "stdout",
     "output_type": "stream",
     "text": [
      "======= PING 2019-11-13 ~ 2022-08-03 5509 / 7856 ========\n",
      "======= PINS 2019-05-16 ~ 2024-11-07 5510 / 7856 ========\n",
      "PIPP not exist\n",
      "======= PIPR 2004-04-21 ~ 2024-10-25 5512 / 7856 ========\n",
      "======= PIRS 2015-05-13 ~ 2024-11-13 5513 / 7856 ========\n",
      "PITA not exist\n",
      "PITAW not exist\n",
      "======= PIXY 2018-04-13 ~ 2024-07-02 5516 / 7856 ========\n",
      "======= PJT 2016-02-11 ~ 2024-10-29 5517 / 7856 ========\n",
      "======= PK 2017-03-01 ~ 2024-10-29 5518 / 7856 ========\n",
      "======= PKBK 2003-05-05 ~ 2014-10-20 5519 / 7856 ========\n",
      "PKBO not exist\n",
      "======= PKE 1996-04-23 ~ 2019-01-03 5521 / 7856 ========\n",
      "======= PKG 2000-04-17 ~ 2024-10-22 5522 / 7856 ========\n"
     ]
    },
    {
     "name": "stderr",
     "output_type": "stream",
     "text": [
      "PKI: No timezone found, symbol may be delisted\n"
     ]
    },
    {
     "name": "stdout",
     "output_type": "stream",
     "text": [
      "======= PKI 1993-02-12 ~ 2023-08-07 5523 / 7856 ========\n",
      "======= PKOH 1993-10-26 ~ 2024-11-06 5524 / 7856 ========\n",
      "======= PKST 2023-08-08 ~ 2024-10-30 5525 / 7856 ========\n",
      "======= PKX 2012-12-12 ~ 2024-10-30 5526 / 7856 ========\n",
      "======= PL 2022-03-31 ~ 2024-09-05 5527 / 7856 ========\n",
      "======= PLAB 1993-02-16 ~ 2024-08-29 5528 / 7856 ========\n"
     ]
    },
    {
     "name": "stderr",
     "output_type": "stream",
     "text": [
      "PLAN: No timezone found, symbol may be delisted\n"
     ]
    },
    {
     "name": "stdout",
     "output_type": "stream",
     "text": [
      "======= PLAN 2018-11-28 ~ 2022-05-26 5529 / 7856 ========\n",
      "PLAO not exist\n",
      "======= PLAY 2014-12-16 ~ 2024-09-10 5531 / 7856 ========\n",
      "======= PLBC 2023-10-18 ~ 2024-10-16 5532 / 7856 ========\n",
      "======= PLBY 2021-03-23 ~ 2024-08-08 5533 / 7856 ========\n",
      "======= PLCE 1998-05-21 ~ 2024-09-11 5534 / 7856 ========\n",
      "======= PLD 2001-01-22 ~ 2024-10-16 5535 / 7856 ========\n",
      "PLIN not exist\n",
      "======= PLL 2019-09-26 ~ 2024-11-12 5537 / 7856 ========\n",
      "PLMI not exist\n",
      "PLMJ not exist\n",
      "======= PLMR 2019-05-16 ~ 2024-11-04 5540 / 7856 ========\n",
      "======= PLNT 2015-09-02 ~ 2024-11-07 5541 / 7856 ========\n",
      "======= PLOW 2010-08-10 ~ 2024-10-28 5542 / 7856 ========\n",
      "======= PLPC 2009-08-07 ~ 2010-11-04 5543 / 7856 ========\n",
      "======= PLRX 2020-08-11 ~ 2024-11-07 5544 / 7856 ========\n",
      "PLRZ not exist\n",
      "======= PLSE 2019-04-30 ~ 2023-08-10 5546 / 7856 ========\n",
      "======= PLTK 2021-02-25 ~ 2024-11-07 5547 / 7856 ========\n",
      "PLTN not exist\n",
      "======= PLTR 2020-11-12 ~ 2024-11-04 5549 / 7856 ========\n",
      "======= PLUG 2000-02-10 ~ 2024-08-08 5550 / 7856 ========\n",
      "======= PLUR 2010-02-11 ~ 2022-11-10 5551 / 7856 ========\n",
      "======= PLUS 1998-02-12 ~ 2024-11-12 5552 / 7856 ========\n"
     ]
    },
    {
     "name": "stderr",
     "output_type": "stream",
     "text": [
      "PLXP: No timezone found, symbol may be delisted\n"
     ]
    },
    {
     "name": "stdout",
     "output_type": "stream",
     "text": [
      "======= PLXP 2014-05-12 ~ 2023-03-10 5553 / 7856 ========\n",
      "======= PLXS 1993-04-21 ~ 2024-10-23 5554 / 7856 ========\n",
      "======= PLYA 2017-05-08 ~ 2024-11-06 5555 / 7856 ========\n",
      "======= PLYM 2017-08-14 ~ 2024-11-06 5556 / 7856 ========\n",
      "======= PM 2008-04-23 ~ 2024-10-22 5557 / 7856 ========\n",
      "PMAX not exist\n"
     ]
    },
    {
     "name": "stderr",
     "output_type": "stream",
     "text": [
      "PMBC: No timezone found, symbol may be delisted\n"
     ]
    },
    {
     "name": "stdout",
     "output_type": "stream",
     "text": [
      "======= PMBC 2004-05-05 ~ 2021-07-26 5559 / 7856 ========\n",
      "======= PMCB 2015-08-24 ~ 2022-09-14 5560 / 7856 ========\n",
      "======= PMD 1998-11-03 ~ 2015-02-10 5561 / 7856 ========\n"
     ]
    },
    {
     "name": "stderr",
     "output_type": "stream",
     "text": [
      "PME: No timezone found, symbol may be delisted\n"
     ]
    },
    {
     "name": "stdout",
     "output_type": "stream",
     "text": [
      "======= PME 2014-11-10 ~ 2015-05-11 5562 / 7856 ========\n",
      "PMEC not exist\n",
      "PMGM not exist\n",
      "======= PMN 2019-11-14 ~ 2024-08-08 5565 / 7856 ========\n",
      "PMNT not exist\n",
      "======= PMT 2009-11-05 ~ 2024-10-22 5567 / 7856 ========\n",
      "======= PMTS 2015-11-12 ~ 2024-11-05 5568 / 7856 ========\n",
      "PMTU not exist\n",
      "PMVC not exist\n",
      "======= PMVP 2020-11-13 ~ 2024-11-07 5571 / 7856 ========\n",
      "PNAC not exist\n",
      "======= PNBK 2009-11-09 ~ 2021-04-02 5573 / 7856 ========\n",
      "======= PNC 1993-01-22 ~ 2024-10-15 5574 / 7856 ========\n",
      "======= PNFP 2003-04-15 ~ 2024-10-15 5575 / 7856 ========\n"
     ]
    },
    {
     "name": "stderr",
     "output_type": "stream",
     "text": [
      "PNM: No timezone found, symbol may be delisted\n"
     ]
    },
    {
     "name": "stdout",
     "output_type": "stream",
     "text": [
      "======= PNM 1993-02-03 ~ 2024-07-31 5576 / 7856 ========\n",
      "======= PNNT 2007-08-09 ~ 2024-11-25 5577 / 7856 ========\n",
      "PNNTG not exist\n",
      "======= PNR 1993-04-20 ~ 2024-10-22 5579 / 7856 ========\n",
      "======= PNRG 2009-08-14 ~ 2010-11-15 5580 / 7856 ========\n",
      "======= PNST 2024-02-21 ~ 2024-11-26 5581 / 7856 ========\n"
     ]
    },
    {
     "name": "stderr",
     "output_type": "stream",
     "text": [
      "PNT: No timezone found, symbol may be delisted\n"
     ]
    },
    {
     "name": "stdout",
     "output_type": "stream",
     "text": [
      "======= PNT 2021-08-13 ~ 2023-11-13 5582 / 7856 ========\n",
      "======= PNTG 2019-11-12 ~ 2024-11-06 5583 / 7856 ========\n",
      "PNTM not exist\n",
      "======= PNW 1993-01-29 ~ 2024-11-06 5585 / 7856 ========\n",
      "======= POAI 2021-03-15 ~ 2024-11-12 5586 / 7856 ========\n",
      "POCI not exist\n",
      "======= PODC 2024-02-08 ~ 2024-11-07 5588 / 7856 ========\n",
      "======= PODD 2007-11-14 ~ 2024-11-07 5589 / 7856 ========\n",
      "======= POET 2008-11-24 ~ 2024-08-14 5590 / 7856 ========\n",
      "======= POLA 2016-12-07 ~ 2021-11-15 5591 / 7856 ========\n",
      "POLE not exist\n",
      "POLEW not exist\n"
     ]
    },
    {
     "name": "stderr",
     "output_type": "stream",
     "text": [
      "POLY: No timezone found, symbol may be delisted\n"
     ]
    },
    {
     "name": "stdout",
     "output_type": "stream",
     "text": [
      "======= POLY 1994-07-25 ~ 2022-08-11 5594 / 7856 ========\n",
      "POND not exist\n",
      "PONO not exist\n",
      "PONY not exist\n",
      "======= POOL 1996-03-01 ~ 2024-10-24 5598 / 7856 ========\n",
      "======= POR 2006-08-02 ~ 2024-10-25 5599 / 7856 ========\n",
      "PORT not exist\n"
     ]
    },
    {
     "name": "stderr",
     "output_type": "stream",
     "text": [
      "POSH: No timezone found, symbol may be delisted\n"
     ]
    },
    {
     "name": "stdout",
     "output_type": "stream",
     "text": [
      "======= POSH 2021-03-11 ~ 2022-11-10 5601 / 7856 ========\n",
      "======= POST 2012-05-24 ~ 2024-11-14 5602 / 7856 ========\n",
      "POW not exist\n",
      "======= POWI 1998-01-22 ~ 2024-11-06 5604 / 7856 ========\n",
      "======= POWL 1993-02-20 ~ 2024-11-19 5605 / 7856 ========\n",
      "======= POWW 2021-02-16 ~ 2024-08-08 5606 / 7856 ========\n",
      "======= PPBI 1998-10-15 ~ 2024-10-24 5607 / 7856 ========\n",
      "======= PPBT 2016-03-18 ~ 2024-11-15 5608 / 7856 ========\n",
      "======= PPC 1994-11-15 ~ 2024-10-30 5609 / 7856 ========\n"
     ]
    },
    {
     "name": "stderr",
     "output_type": "stream",
     "text": [
      "PPD: No timezone found, symbol may be delisted\n"
     ]
    },
    {
     "name": "stdout",
     "output_type": "stream",
     "text": [
      "======= PPD 2020-03-04 ~ 2021-10-27 5610 / 7856 ========\n",
      "======= PPG 1993-01-22 ~ 2024-10-16 5611 / 7856 ========\n",
      "PPGH not exist\n",
      "PPHP not exist\n",
      "======= PPIH 1993-05-25 ~ 2008-04-30 5614 / 7856 ========\n",
      "======= PPL 1993-01-27 ~ 2024-11-01 5615 / 7856 ========\n",
      "======= PPSI 2013-11-11 ~ 2024-10-08 5616 / 7856 ========\n",
      "======= PPTA 2011-10-11 ~ 2024-11-13 5617 / 7856 ========\n",
      "PPYA not exist\n"
     ]
    },
    {
     "name": "stderr",
     "output_type": "stream",
     "text": [
      "PQG: No timezone found, symbol may be delisted\n"
     ]
    },
    {
     "name": "stdout",
     "output_type": "stream",
     "text": [
      "======= PQG 2018-03-21 ~ 2021-08-05 5619 / 7856 ========\n",
      "======= PR 2016-11-09 ~ 2024-11-06 5620 / 7856 ========\n",
      "======= PRA 1993-02-10 ~ 2024-11-04 5621 / 7856 ========\n",
      "======= PRAA 2003-04-23 ~ 2024-11-04 5622 / 7856 ========\n",
      "======= PRAX 2020-11-23 ~ 2024-11-06 5623 / 7856 ========\n",
      "PRBM not exist\n",
      "======= PRCH 2021-05-17 ~ 2024-11-07 5625 / 7856 ========\n",
      "======= PRCT 2021-11-04 ~ 2024-10-28 5626 / 7856 ========\n",
      "======= PRDO 1998-05-04 ~ 2024-11-12 5627 / 7856 ========\n"
     ]
    },
    {
     "name": "stderr",
     "output_type": "stream",
     "text": [
      "PRDS: No timezone found, symbol may be delisted\n"
     ]
    },
    {
     "name": "stdout",
     "output_type": "stream",
     "text": [
      "======= PRDS 2022-03-29 ~ 2023-08-04 5628 / 7856 ========\n",
      "======= PRE 2022-09-09 ~ 2024-10-07 5629 / 7856 ========\n"
     ]
    },
    {
     "name": "stderr",
     "output_type": "stream",
     "text": [
      "PRFT: No timezone found, symbol may be delisted\n"
     ]
    },
    {
     "name": "stdout",
     "output_type": "stream",
     "text": [
      "======= PRFT 2004-07-27 ~ 2024-08-08 5630 / 7856 ========\n",
      "======= PRFX 2021-05-13 ~ 2024-08-15 5631 / 7856 ========\n",
      "======= PRG 1993-01-27 ~ 2024-10-23 5632 / 7856 ========\n",
      "======= PRGO 1993-02-09 ~ 2024-11-06 5633 / 7856 ========\n",
      "======= PRGS 1993-03-29 ~ 2024-09-24 5634 / 7856 ========\n",
      "PRH not exist\n",
      "======= PRI 2010-08-03 ~ 2024-11-06 5636 / 7856 ========\n",
      "======= PRIM 2008-08-11 ~ 2024-11-04 5637 / 7856 ========\n",
      "======= PRKS 2023-11-08 ~ 2024-11-07 5638 / 7856 ========\n",
      "======= PRLB 2012-05-03 ~ 2024-11-01 5639 / 7856 ========\n",
      "======= PRLD 2020-11-10 ~ 2024-11-06 5640 / 7856 ========\n",
      "PRLH not exist\n",
      "======= PRM 2022-08-05 ~ 2024-08-01 5642 / 7856 ========\n"
     ]
    },
    {
     "name": "stderr",
     "output_type": "stream",
     "text": [
      "PRMB: No price data found, symbol may be delisted (1d 2024-11-07 -> 2024-11-07)\n"
     ]
    },
    {
     "name": "stdout",
     "output_type": "stream",
     "text": [
      "======= PRMB 2024-11-07 ~ 2024-11-07 5643 / 7856 ========\n",
      "======= PRME 2023-03-09 ~ 2024-08-08 5644 / 7856 ========\n",
      "======= PRMW 1993-04-08 ~ 2024-11-07 5645 / 7856 ========\n",
      "======= PRO 2007-10-29 ~ 2024-10-29 5646 / 7856 ========\n",
      "======= PROC 2022-03-31 ~ 2024-02-28 5647 / 7856 ========\n",
      "PROCW not exist\n",
      "======= PROF 2016-05-06 ~ 2024-11-07 5649 / 7856 ========\n"
     ]
    },
    {
     "name": "stderr",
     "output_type": "stream",
     "text": [
      "PROG: No timezone found, symbol may be delisted\n"
     ]
    },
    {
     "name": "stdout",
     "output_type": "stream",
     "text": [
      "======= PROG 2020-08-13 ~ 2022-05-10 5650 / 7856 ========\n",
      "======= PROK 2022-11-14 ~ 2024-11-12 5651 / 7856 ========\n"
     ]
    },
    {
     "name": "stderr",
     "output_type": "stream",
     "text": [
      "PROS: No timezone found, symbol may be delisted\n"
     ]
    },
    {
     "name": "stdout",
     "output_type": "stream",
     "text": [
      "======= PROS 2019-11-06 ~ 2021-08-09 5652 / 7856 ========\n",
      "======= PROV 1997-01-23 ~ 2024-10-28 5653 / 7856 ========\n",
      "PRPB not exist\n",
      "PRPC not exist\n",
      "======= PRPH 1997-11-12 ~ 2024-08-14 5656 / 7856 ========\n",
      "======= PRPL 2018-05-15 ~ 2024-11-04 5657 / 7856 ========\n",
      "======= PRPO 2000-10-31 ~ 2024-05-14 5658 / 7856 ========\n",
      "======= PRQR 2014-11-24 ~ 2024-11-07 5659 / 7856 ========\n",
      "PRS not exist\n",
      "======= PRSO 2001-10-18 ~ 2024-08-12 5661 / 7856 ========\n",
      "PRSR not exist\n",
      "======= PRST 2023-02-14 ~ 2024-05-21 5663 / 7856 ========\n",
      "======= PRTA 2013-08-12 ~ 2024-08-08 5664 / 7856 ========\n",
      "PRTC not exist\n",
      "======= PRTG 2021-11-23 ~ 2024-06-06 5666 / 7856 ========\n",
      "======= PRTH 2019-11-13 ~ 2024-11-07 5667 / 7856 ========\n"
     ]
    },
    {
     "name": "stderr",
     "output_type": "stream",
     "text": [
      "PRTK: No timezone found, symbol may be delisted\n"
     ]
    },
    {
     "name": "stdout",
     "output_type": "stream",
     "text": [
      "======= PRTK 2006-08-16 ~ 2023-11-02 5668 / 7856 ========\n",
      "======= PRTS 2007-05-10 ~ 2024-10-29 5669 / 7856 ========\n"
     ]
    },
    {
     "name": "stderr",
     "output_type": "stream",
     "text": [
      "PRTY: No timezone found, symbol may be delisted\n"
     ]
    },
    {
     "name": "stdout",
     "output_type": "stream",
     "text": [
      "======= PRTY 2015-08-13 ~ 2022-11-08 5670 / 7856 ========\n",
      "======= PRU 2002-05-07 ~ 2024-10-30 5671 / 7856 ========\n",
      "======= PRVA 2021-08-09 ~ 2024-11-07 5672 / 7856 ========\n"
     ]
    },
    {
     "name": "stderr",
     "output_type": "stream",
     "text": [
      "PRVB: No timezone found, symbol may be delisted\n"
     ]
    },
    {
     "name": "stdout",
     "output_type": "stream",
     "text": [
      "======= PRVB 2019-03-19 ~ 2023-03-29 5673 / 7856 ========\n",
      "PRZO not exist\n",
      "======= PSA 2001-11-08 ~ 2024-10-30 5675 / 7856 ========\n",
      "PSAC not exist\n",
      "PSAG not exist\n"
     ]
    },
    {
     "name": "stderr",
     "output_type": "stream",
     "text": [
      "PSB: No timezone found, symbol may be delisted\n"
     ]
    },
    {
     "name": "stdout",
     "output_type": "stream",
     "text": [
      "======= PSB 2001-10-09 ~ 2022-08-02 5678 / 7856 ========\n",
      "======= PSBD 2024-02-28 ~ 2024-11-05 5679 / 7856 ========\n",
      "======= PSEC 2004-11-11 ~ 2024-11-08 5680 / 7856 ========\n",
      "======= PSFE 2021-05-11 ~ 2024-08-13 5681 / 7856 ========\n",
      "======= PSHG 2011-02-22 ~ 2024-11-07 5682 / 7856 ========\n",
      "PSIG not exist\n",
      "======= PSMT 2001-11-02 ~ 2024-10-30 5684 / 7856 ========\n",
      "======= PSN 2019-05-18 ~ 2024-10-30 5685 / 7856 ========\n",
      "======= PSNL 2019-08-13 ~ 2024-11-06 5686 / 7856 ========\n",
      "======= PSNY 2022-11-11 ~ 2024-08-14 5687 / 7856 ========\n",
      "======= PSO 2019-09-30 ~ 2024-07-29 5688 / 7856 ========\n",
      "PSPC not exist\n",
      "======= PSQH 2024-03-14 ~ 2024-08-14 5690 / 7856 ========\n",
      "======= PSTG 2015-12-02 ~ 2024-12-03 5691 / 7856 ========\n",
      "PSTH not exist\n"
     ]
    },
    {
     "name": "stderr",
     "output_type": "stream",
     "text": [
      "PSTI: No timezone found, symbol may be delisted\n"
     ]
    },
    {
     "name": "stdout",
     "output_type": "stream",
     "text": [
      "======= PSTI 2010-02-11 ~ 2022-09-12 5693 / 7856 ========\n",
      "======= PSTL 2019-08-14 ~ 2024-11-04 5694 / 7856 ========\n",
      "======= PSTV 2007-03-30 ~ 2024-11-14 5695 / 7856 ========\n",
      "======= PSTX 2020-08-20 ~ 2024-11-07 5696 / 7856 ========\n",
      "PSUS not exist\n",
      "======= PSX 2012-05-16 ~ 2024-10-29 5698 / 7856 ========\n"
     ]
    },
    {
     "name": "stderr",
     "output_type": "stream",
     "text": [
      "PSXP: No timezone found, symbol may be delisted\n"
     ]
    },
    {
     "name": "stdout",
     "output_type": "stream",
     "text": [
      "======= PSXP 2013-10-30 ~ 2022-01-28 5699 / 7856 ========\n",
      "PT not exist\n",
      "======= PTC 1993-01-16 ~ 2024-11-06 5701 / 7856 ========\n",
      "======= PTCT 2013-11-14 ~ 2024-11-07 5702 / 7856 ========\n"
     ]
    },
    {
     "name": "stderr",
     "output_type": "stream",
     "text": [
      "PTE: No timezone found, symbol may be delisted\n"
     ]
    },
    {
     "name": "stdout",
     "output_type": "stream",
     "text": [
      "======= PTE 2001-04-01 ~ 2023-06-12 5703 / 7856 ========\n",
      "======= PTEN 1995-10-31 ~ 2024-10-23 5704 / 7856 ========\n",
      "======= PTGX 2016-11-14 ~ 2024-11-07 5705 / 7856 ========\n",
      "PTHL not exist\n",
      "PTHR not exist\n",
      "PTIC not exist\n",
      "======= PTIX 1998-09-16 ~ 2023-04-17 5709 / 7856 ========\n",
      "PTLE not exist\n",
      "======= PTLO 2021-11-18 ~ 2024-11-05 5711 / 7856 ========\n",
      "======= PTMN 2007-05-10 ~ 2024-11-12 5712 / 7856 ========\n"
     ]
    },
    {
     "name": "stderr",
     "output_type": "stream",
     "text": [
      "PTNR: No timezone found, symbol may be delisted\n"
     ]
    },
    {
     "name": "stdout",
     "output_type": "stream",
     "text": [
      "======= PTNR 2000-03-14 ~ 2011-11-23 5713 / 7856 ========\n",
      "PTOC not exist\n",
      "======= PTON 2019-11-05 ~ 2024-10-31 5715 / 7856 ========\n",
      "======= PTPI 2021-05-17 ~ 2024-08-14 5716 / 7856 ========\n"
     ]
    },
    {
     "name": "stderr",
     "output_type": "stream",
     "text": [
      "PTR: No timezone found, symbol may be delisted\n"
     ]
    },
    {
     "name": "stdout",
     "output_type": "stream",
     "text": [
      "======= PTR 2003-06-30 ~ 2022-08-25 5717 / 7856 ========\n"
     ]
    },
    {
     "name": "stderr",
     "output_type": "stream",
     "text": [
      "PTRA: Period '1mo' is invalid, must be one of ['1d', '5d']\n"
     ]
    },
    {
     "name": "stdout",
     "output_type": "stream",
     "text": [
      "======= PTRA 2021-08-11 ~ 2023-11-01 5718 / 7856 ========\n",
      "PTRS not exist\n",
      "======= PTSI 1995-10-19 ~ 2024-10-24 5720 / 7856 ========\n",
      "======= PTVE 2020-11-11 ~ 2024-11-12 5721 / 7856 ========\n",
      "PTWO not exist\n",
      "PTWOW not exist\n",
      "======= PUBM 2021-02-23 ~ 2024-11-12 5724 / 7856 ========\n",
      "PUCK not exist\n",
      "======= PUK 2019-12-31 ~ 2024-08-28 5726 / 7856 ========\n",
      "======= PULM 2017-08-04 ~ 2024-03-28 5727 / 7856 ========\n",
      "======= PUMP 2017-05-10 ~ 2024-10-30 5728 / 7856 ========\n",
      "PUYI not exist\n",
      "PV not exist\n"
     ]
    },
    {
     "name": "stderr",
     "output_type": "stream",
     "text": [
      "PVAC: No timezone found, symbol may be delisted\n"
     ]
    },
    {
     "name": "stdout",
     "output_type": "stream",
     "text": [
      "======= PVAC 1993-02-12 ~ 2021-11-03 5731 / 7856 ========\n",
      "======= PVBC 2020-01-23 ~ 2024-10-24 5732 / 7856 ========\n"
     ]
    },
    {
     "name": "stderr",
     "output_type": "stream",
     "text": [
      "PVG: No timezone found, symbol may be delisted\n"
     ]
    },
    {
     "name": "stdout",
     "output_type": "stream",
     "text": [
      "======= PVG 2011-05-13 ~ 2021-11-11 5733 / 7856 ========\n",
      "======= PVH 1993-06-01 ~ 2024-12-04 5734 / 7856 ========\n"
     ]
    },
    {
     "name": "stderr",
     "output_type": "stream",
     "text": [
      "PWFL: No timezone found, symbol may be delisted\n"
     ]
    },
    {
     "name": "stdout",
     "output_type": "stream",
     "text": [
      "======= PWFL 2004-04-28 ~ 2024-07-02 5735 / 7856 ========\n",
      "PWM not exist\n",
      "PWOD not exist\n",
      "======= PWP 2021-05-24 ~ 2024-11-08 5738 / 7856 ========\n",
      "======= PWR 1998-05-07 ~ 2024-10-31 5739 / 7856 ========\n"
     ]
    },
    {
     "name": "stderr",
     "output_type": "stream",
     "text": [
      "PWSC: No timezone found, symbol may be delisted\n"
     ]
    },
    {
     "name": "stdout",
     "output_type": "stream",
     "text": [
      "======= PWSC 2021-09-09 ~ 2024-08-09 5740 / 7856 ========\n",
      "PWUP not exist\n",
      "======= PX 2022-03-01 ~ 2024-11-07 5742 / 7856 ========\n"
     ]
    },
    {
     "name": "stderr",
     "output_type": "stream",
     "text": [
      "PXD: No timezone found, symbol may be delisted\n"
     ]
    },
    {
     "name": "stdout",
     "output_type": "stream",
     "text": [
      "======= PXD 1993-02-22 ~ 2024-05-02 5743 / 7856 ========\n",
      "PXDT not exist\n",
      "======= PXLW 2000-07-18 ~ 2024-08-07 5745 / 7856 ========\n",
      "======= PXMD 2024-03-11 ~ 2024-05-13 5746 / 7856 ========\n",
      "======= PXS 2017-03-08 ~ 2024-08-12 5747 / 7856 ========\n",
      "======= PYCR 2021-08-31 ~ 2024-11-06 5748 / 7856 ========\n",
      "======= PYPD 2020-08-19 ~ 2024-08-14 5749 / 7856 ========\n",
      "======= PYPL 2015-07-29 ~ 2024-10-29 5750 / 7856 ========\n"
     ]
    },
    {
     "name": "stderr",
     "output_type": "stream",
     "text": [
      "PYR: Period '1mo' is invalid, must be one of ['1d', '5d']\n"
     ]
    },
    {
     "name": "stdout",
     "output_type": "stream",
     "text": [
      "======= PYR 2012-04-30 ~ 2012-04-30 5751 / 7856 ========\n",
      "======= PYXS 2021-11-15 ~ 2024-08-14 5752 / 7856 ========\n"
     ]
    },
    {
     "name": "stderr",
     "output_type": "stream",
     "text": [
      "PZN: No timezone found, symbol may be delisted\n"
     ]
    },
    {
     "name": "stdout",
     "output_type": "stream",
     "text": [
      "======= PZN 2007-12-05 ~ 2019-07-17 5753 / 7856 ========\n",
      "======= PZZA 1994-02-22 ~ 2024-11-07 5754 / 7856 ========\n"
     ]
    },
    {
     "name": "stderr",
     "output_type": "stream",
     "text": [
      "QADA: No timezone found, symbol may be delisted\n"
     ]
    },
    {
     "name": "stdout",
     "output_type": "stream",
     "text": [
      "======= QADA 2011-03-10 ~ 2021-08-25 5755 / 7856 ========\n"
     ]
    },
    {
     "name": "stderr",
     "output_type": "stream",
     "text": [
      "QADB: No timezone found, symbol may be delisted\n"
     ]
    },
    {
     "name": "stdout",
     "output_type": "stream",
     "text": [
      "======= QADB 1997-11-25 ~ 2020-08-26 5756 / 7856 ========\n",
      "======= QBTS 2022-05-12 ~ 2024-11-14 5757 / 7856 ========\n",
      "======= QCOM 1997-01-20 ~ 2024-11-06 5758 / 7856 ========\n",
      "======= QCRH 1996-08-27 ~ 2024-10-23 5759 / 7856 ========\n",
      "======= QD 2018-03-12 ~ 2022-03-18 5760 / 7856 ========\n",
      "======= QDEL 1994-01-26 ~ 2024-11-07 5761 / 7856 ========\n",
      "QDRO not exist\n",
      "QELL not exist\n",
      "QETA not exist\n",
      "======= QFIN 2020-05-28 ~ 2024-11-19 5765 / 7856 ========\n",
      "QFTA not exist\n",
      "======= QGEN 1997-03-04 ~ 2024-11-06 5767 / 7856 ========\n",
      "======= QH 2020-08-27 ~ 2022-09-10 5768 / 7856 ========\n",
      "QHY not exist\n",
      "QIG not exist\n",
      "======= QIPT 2016-08-23 ~ 2024-08-14 5771 / 7856 ========\n",
      "======= QIWI 2013-08-27 ~ 2021-11-23 5772 / 7856 ========\n"
     ]
    },
    {
     "name": "stderr",
     "output_type": "stream",
     "text": [
      "QK: No timezone found, symbol may be delisted\n"
     ]
    },
    {
     "name": "stdout",
     "output_type": "stream",
     "text": [
      "======= QK 2020-01-06 ~ 2020-09-30 5773 / 7856 ========\n",
      "======= QLGN 2016-03-21 ~ 2024-06-25 5774 / 7856 ========\n",
      "QLI not exist\n",
      "======= QLYS 2013-02-11 ~ 2024-11-05 5776 / 7856 ========\n",
      "======= QMCO 1999-10-14 ~ 2024-11-13 5777 / 7856 ========\n",
      "QMMM not exist\n",
      "======= QNCX 2019-06-12 ~ 2024-11-13 5779 / 7856 ========\n",
      "QNGY not exist\n",
      "======= QNRX 2017-03-23 ~ 2024-11-07 5781 / 7856 ========\n",
      "======= QNST 2010-05-05 ~ 2024-11-04 5782 / 7856 ========\n",
      "======= QNTM 2024-05-14 ~ 2024-11-11 5783 / 7856 ========\n",
      "QOMO not exist\n",
      "======= QRHC 2014-03-31 ~ 2024-11-07 5785 / 7856 ========\n",
      "======= QRTEA 2006-08-09 ~ 2024-11-07 5786 / 7856 ========\n",
      "======= QRVO 2015-01-28 ~ 2024-10-29 5787 / 7856 ========\n",
      "======= QS 2021-02-16 ~ 2024-10-23 5788 / 7856 ========\n",
      "QSAMW not exist\n",
      "======= QSG 2023-12-13 ~ 2024-11-27 5790 / 7856 ========\n",
      "======= QSI 2021-11-10 ~ 2024-11-12 5791 / 7856 ========\n",
      "======= QSR 2015-02-17 ~ 2024-11-05 5792 / 7856 ========\n"
     ]
    },
    {
     "name": "stderr",
     "output_type": "stream",
     "text": [
      "QTEK: No timezone found, symbol may be delisted\n"
     ]
    },
    {
     "name": "stdout",
     "output_type": "stream",
     "text": [
      "======= QTEK 2022-05-17 ~ 2023-05-16 5793 / 7856 ========\n",
      "QTI not exist\n"
     ]
    },
    {
     "name": "stderr",
     "output_type": "stream",
     "text": [
      "QTNT: No timezone found, symbol may be delisted\n"
     ]
    },
    {
     "name": "stdout",
     "output_type": "stream",
     "text": [
      "======= QTNT 2014-08-04 ~ 2023-02-14 5795 / 7856 ========\n",
      "======= QTRX 2018-03-19 ~ 2024-11-12 5796 / 7856 ========\n"
     ]
    },
    {
     "name": "stderr",
     "output_type": "stream",
     "text": [
      "QTS: No timezone found, symbol may be delisted\n"
     ]
    },
    {
     "name": "stdout",
     "output_type": "stream",
     "text": [
      "======= QTS 2013-11-06 ~ 2021-08-03 5797 / 7856 ========\n"
     ]
    },
    {
     "name": "stderr",
     "output_type": "stream",
     "text": [
      "QTT: No timezone found, symbol may be delisted\n"
     ]
    },
    {
     "name": "stdout",
     "output_type": "stream",
     "text": [
      "======= QTT 2018-11-12 ~ 2021-03-04 5798 / 7856 ========\n",
      "======= QTTB 2023-07-27 ~ 2024-11-07 5799 / 7856 ========\n",
      "======= QTWO 2014-05-08 ~ 2024-11-06 5800 / 7856 ========\n",
      "======= QUAD 2010-11-10 ~ 2024-10-28 5801 / 7856 ========\n",
      "======= QUBT 2021-11-05 ~ 2024-11-06 5802 / 7856 ========\n",
      "======= QUIK 2000-01-26 ~ 2024-08-13 5803 / 7856 ========\n"
     ]
    },
    {
     "name": "stderr",
     "output_type": "stream",
     "text": [
      "QUMU: No timezone found, symbol may be delisted\n"
     ]
    },
    {
     "name": "stdout",
     "output_type": "stream",
     "text": [
      "======= QUMU 2000-07-25 ~ 2022-10-27 5804 / 7856 ========\n"
     ]
    },
    {
     "name": "stderr",
     "output_type": "stream",
     "text": [
      "QUOT: No timezone found, symbol may be delisted\n"
     ]
    },
    {
     "name": "stdout",
     "output_type": "stream",
     "text": [
      "======= QUOT 2014-05-07 ~ 2023-08-08 5805 / 7856 ========\n",
      "======= QURE 2014-06-06 ~ 2024-11-05 5806 / 7856 ========\n",
      "QVCC not exist\n",
      "QVCD not exist\n"
     ]
    },
    {
     "name": "stderr",
     "output_type": "stream",
     "text": [
      "QXO: No price data found, symbol may be delisted (1d 2024-11-13 -> 2024-11-13)\n"
     ]
    },
    {
     "name": "stdout",
     "output_type": "stream",
     "text": [
      "======= QXO 2024-11-13 ~ 2024-11-13 5809 / 7856 ========\n",
      "======= R 1993-02-09 ~ 2024-10-24 5810 / 7856 ========\n",
      "RAAC not exist\n"
     ]
    },
    {
     "name": "stderr",
     "output_type": "stream",
     "text": [
      "RAAS: No timezone found, symbol may be delisted\n"
     ]
    },
    {
     "name": "stdout",
     "output_type": "stream",
     "text": [
      "======= RAAS 2021-03-26 ~ 2021-06-10 5812 / 7856 ========\n",
      "RACA not exist\n",
      "RACB not exist\n",
      "======= RACE 2016-02-02 ~ 2024-11-05 5815 / 7856 ========\n",
      "RACY not exist\n"
     ]
    },
    {
     "name": "stderr",
     "output_type": "stream",
     "text": [
      "RAD: No data found, symbol may be delisted\n"
     ]
    },
    {
     "name": "stdout",
     "output_type": "stream",
     "text": [
      "======= RAD 1993-03-29 ~ 2023-10-19 5817 / 7856 ========\n"
     ]
    },
    {
     "name": "stderr",
     "output_type": "stream",
     "text": [
      "RADA: No timezone found, symbol may be delisted\n"
     ]
    },
    {
     "name": "stdout",
     "output_type": "stream",
     "text": [
      "======= RADA 1995-11-20 ~ 2022-08-17 5818 / 7856 ========\n"
     ]
    },
    {
     "name": "stderr",
     "output_type": "stream",
     "text": [
      "RADI: No timezone found, symbol may be delisted\n"
     ]
    },
    {
     "name": "stdout",
     "output_type": "stream",
     "text": [
      "======= RADI 2021-03-30 ~ 2023-08-09 5819 / 7856 ========\n",
      "======= RAIL 2005-07-27 ~ 2024-08-12 5820 / 7856 ========\n"
     ]
    },
    {
     "name": "stderr",
     "output_type": "stream",
     "text": [
      "RAIN: No timezone found, symbol may be delisted\n"
     ]
    },
    {
     "name": "stdout",
     "output_type": "stream",
     "text": [
      "======= RAIN 2021-05-25 ~ 2024-03-14 5821 / 7856 ========\n",
      "RAM not exist\n",
      "======= RAMP 1993-01-18 ~ 2024-11-06 5823 / 7856 ========\n",
      "RAN not exist\n",
      "RAND not exist\n",
      "======= RANI 2021-11-15 ~ 2024-11-14 5826 / 7856 ========\n",
      "======= RAPP 2024-08-08 ~ 2024-11-07 5827 / 7856 ========\n",
      "======= RAPT 2019-12-11 ~ 2024-11-12 5828 / 7856 ========\n",
      "======= RARE 2014-05-12 ~ 2024-11-05 5829 / 7856 ========\n",
      "======= RAVE 1996-04-17 ~ 2016-11-09 5830 / 7856 ========\n"
     ]
    },
    {
     "name": "stderr",
     "output_type": "stream",
     "text": [
      "RAVN: No timezone found, symbol may be delisted\n"
     ]
    },
    {
     "name": "stdout",
     "output_type": "stream",
     "text": [
      "======= RAVN 1993-05-17 ~ 2021-08-25 5831 / 7856 ========\n",
      "RAY not exist\n",
      "RAYA not exist\n",
      "======= RBA 1998-08-11 ~ 2024-11-08 5834 / 7856 ========\n",
      "RBAC not exist\n",
      "======= RBB 2017-10-23 ~ 2024-10-21 5836 / 7856 ========\n",
      "======= RBBN 2000-10-11 ~ 2024-10-23 5837 / 7856 ========\n",
      "======= RBC 1993-02-05 ~ 2024-11-01 5838 / 7856 ========\n",
      "======= RBCAA 1999-01-13 ~ 2024-10-18 5839 / 7856 ========\n",
      "RBCP not exist\n",
      "RBKB not exist\n",
      "======= RBLX 2021-02-22 ~ 2024-10-31 5842 / 7856 ========\n"
     ]
    },
    {
     "name": "stderr",
     "output_type": "stream",
     "text": [
      "RBNC: No timezone found, symbol may be delisted\n"
     ]
    },
    {
     "name": "stdout",
     "output_type": "stream",
     "text": [
      "======= RBNC 2017-10-25 ~ 2021-10-19 5843 / 7856 ========\n",
      "======= RBOT 2021-11-08 ~ 2024-11-12 5844 / 7856 ========\n",
      "======= RBRK 2024-06-11 ~ 2024-12-05 5845 / 7856 ========\n"
     ]
    },
    {
     "name": "stderr",
     "output_type": "stream",
     "text": [
      "RBT: No timezone found, symbol may be delisted\n"
     ]
    },
    {
     "name": "stdout",
     "output_type": "stream",
     "text": [
      "======= RBT 2022-11-09 ~ 2024-03-07 5846 / 7856 ========\n",
      "======= RC 2013-05-14 ~ 2024-11-08 5847 / 7856 ========\n",
      "RCA not exist\n",
      "RCAC not exist\n",
      "======= RCAT 2021-12-20 ~ 2024-09-23 5850 / 7856 ========\n",
      "RCB not exist\n",
      "RCC not exist\n",
      "======= RCEL 2020-02-18 ~ 2024-11-07 5853 / 7856 ========\n",
      "RCFA not exist\n",
      "RCHG not exist\n",
      "======= RCI 1993-11-12 ~ 2024-10-24 5856 / 7856 ========\n"
     ]
    },
    {
     "name": "stderr",
     "output_type": "stream",
     "text": [
      "RCII: No timezone found, symbol may be delisted\n"
     ]
    },
    {
     "name": "stdout",
     "output_type": "stream",
     "text": [
      "======= RCII 1995-05-03 ~ 2023-05-02 5857 / 7856 ========\n",
      "======= RCKT 2015-05-15 ~ 2024-11-07 5858 / 7856 ========\n",
      "======= RCKY 1993-05-12 ~ 2024-10-30 5859 / 7856 ========\n",
      "======= RCL 1993-07-28 ~ 2024-10-29 5860 / 7856 ========\n",
      "RCLF not exist\n",
      "======= RCM 2010-11-11 ~ 2024-11-05 5862 / 7856 ========\n",
      "======= RCMT 1997-03-03 ~ 2024-11-07 5863 / 7856 ========\n"
     ]
    },
    {
     "name": "stderr",
     "output_type": "stream",
     "text": [
      "RCON: No price data found, symbol may be delisted (1d 2018-09-28 -> 2018-09-28)\n"
     ]
    },
    {
     "name": "stdout",
     "output_type": "stream",
     "text": [
      "======= RCON 2018-09-28 ~ 2018-09-28 5864 / 7856 ========\n"
     ]
    },
    {
     "name": "stderr",
     "output_type": "stream",
     "text": [
      "RCRT: No timezone found, symbol may be delisted\n"
     ]
    },
    {
     "name": "stdout",
     "output_type": "stream",
     "text": [
      "======= RCRT 2020-11-12 ~ 2023-11-20 5865 / 7856 ========\n",
      "RCRTW not exist\n",
      "======= RCUS 2018-05-09 ~ 2024-11-06 5867 / 7856 ========\n",
      "RDACU not exist\n"
     ]
    },
    {
     "name": "stderr",
     "output_type": "stream",
     "text": [
      "RDBX: No timezone found, symbol may be delisted\n"
     ]
    },
    {
     "name": "stdout",
     "output_type": "stream",
     "text": [
      "======= RDBX 2021-11-22 ~ 2022-05-13 5869 / 7856 ========\n",
      "======= RDCM 1998-02-09 ~ 2024-11-13 5870 / 7856 ========\n",
      "======= RDDT 2024-05-07 ~ 2024-10-29 5871 / 7856 ========\n",
      "======= RDFN 2017-09-07 ~ 2024-11-07 5872 / 7856 ========\n",
      "======= RDHL 2013-05-02 ~ 2024-08-29 5873 / 7856 ========\n",
      "======= RDI 1993-02-24 ~ 2024-08-14 5874 / 7856 ========\n",
      "======= RDIB 1993-02-24 ~ 2024-11-14 5875 / 7856 ========\n",
      "======= RDN 1993-01-29 ~ 2024-11-06 5876 / 7856 ========\n",
      "======= RDNT 2007-08-14 ~ 2024-11-10 5877 / 7856 ========\n"
     ]
    },
    {
     "name": "stderr",
     "output_type": "stream",
     "text": [
      "RDS-B: No timezone found, symbol may be delisted\n"
     ]
    },
    {
     "name": "stdout",
     "output_type": "stream",
     "text": [
      "======= RDS-B 2006-05-04 ~ 2021-10-28 5878 / 7856 ========\n",
      "RDTXU not exist\n",
      "======= RDUS 2014-11-10 ~ 2024-10-24 5880 / 7856 ========\n",
      "======= RDVT 2024-05-08 ~ 2024-11-06 5881 / 7856 ========\n",
      "======= RDW 2021-10-04 ~ 2024-11-06 5882 / 7856 ========\n",
      "======= RDWR 2000-02-02 ~ 2024-10-31 5883 / 7856 ========\n",
      "======= RDY 2005-07-26 ~ 2024-11-05 5884 / 7856 ========\n"
     ]
    },
    {
     "name": "stderr",
     "output_type": "stream",
     "text": [
      "RDZN: No price data found, symbol may be delisted (1d 2024-08-13 -> 2024-08-13)\n"
     ]
    },
    {
     "name": "stdout",
     "output_type": "stream",
     "text": [
      "======= RDZN 2024-08-13 ~ 2024-08-13 5885 / 7856 ========\n"
     ]
    },
    {
     "name": "stderr",
     "output_type": "stream",
     "text": [
      "RE: No timezone found, symbol may be delisted\n"
     ]
    },
    {
     "name": "stdout",
     "output_type": "stream",
     "text": [
      "======= RE 1996-02-20 ~ 2023-07-26 5886 / 7856 ========\n",
      "======= REAL 2019-08-13 ~ 2024-11-04 5887 / 7856 ========\n",
      "======= REAX 2021-05-10 ~ 2024-11-07 5888 / 7856 ========\n",
      "REBN not exist\n",
      "RECT not exist\n"
     ]
    },
    {
     "name": "stderr",
     "output_type": "stream",
     "text": [
      "REDU: No timezone found, symbol may be delisted\n"
     ]
    },
    {
     "name": "stdout",
     "output_type": "stream",
     "text": [
      "======= REDU 2017-11-27 ~ 2022-01-11 5891 / 7856 ========\n",
      "======= REE 2021-08-17 ~ 2024-09-26 5892 / 7856 ========\n",
      "======= REED 2007-05-17 ~ 2024-08-13 5893 / 7856 ========\n",
      "======= REFI 2022-03-22 ~ 2024-11-07 5894 / 7856 ========\n",
      "======= REFR 2009-08-07 ~ 2018-11-08 5895 / 7856 ========\n",
      "======= REG 2004-01-28 ~ 2024-10-28 5896 / 7856 ========\n",
      "======= REGI 2012-05-09 ~ 2022-05-04 5897 / 7856 ========\n",
      "======= REGN 1993-01-25 ~ 2024-10-31 5898 / 7856 ========\n",
      "======= REKR 2018-08-14 ~ 2024-11-14 5899 / 7856 ========\n",
      "REKRW not exist\n",
      "======= RELI 2022-05-16 ~ 2023-08-10 5901 / 7856 ========\n",
      "======= RELL 1995-12-20 ~ 2024-10-09 5902 / 7856 ========\n",
      "======= RELX 2019-12-31 ~ 2024-04-25 5903 / 7856 ========\n",
      "======= RELY 2021-11-10 ~ 2024-10-30 5904 / 7856 ========\n",
      "RENB not exist\n",
      "RENE not exist\n"
     ]
    },
    {
     "name": "stderr",
     "output_type": "stream",
     "text": [
      "RENN: No timezone found, symbol may be delisted\n"
     ]
    },
    {
     "name": "stdout",
     "output_type": "stream",
     "text": [
      "======= RENN 2011-08-11 ~ 2015-03-18 5907 / 7856 ========\n",
      "======= RENT 2021-12-08 ~ 2024-09-05 5908 / 7856 ========\n"
     ]
    },
    {
     "name": "stderr",
     "output_type": "stream",
     "text": [
      "REPH: No timezone found, symbol may be delisted\n"
     ]
    },
    {
     "name": "stdout",
     "output_type": "stream",
     "text": [
      "======= REPH 2014-05-12 ~ 2022-05-04 5909 / 7856 ========\n",
      "======= REPL 2018-11-14 ~ 2024-08-08 5910 / 7856 ========\n",
      "======= RERE 2022-03-10 ~ 2024-11-20 5911 / 7856 ========\n",
      "======= RES 1993-01-22 ~ 2024-10-24 5912 / 7856 ========\n"
     ]
    },
    {
     "name": "stderr",
     "output_type": "stream",
     "text": [
      "RESN: No timezone found, symbol may be delisted\n"
     ]
    },
    {
     "name": "stdout",
     "output_type": "stream",
     "text": [
      "======= RESN 2015-11-10 ~ 2021-11-10 5913 / 7856 ========\n"
     ]
    },
    {
     "name": "stderr",
     "output_type": "stream",
     "text": [
      "RETA: No timezone found, symbol may be delisted\n"
     ]
    },
    {
     "name": "stdout",
     "output_type": "stream",
     "text": [
      "======= RETA 2016-08-11 ~ 2023-08-08 5914 / 7856 ========\n",
      "RETO not exist\n"
     ]
    },
    {
     "name": "stderr",
     "output_type": "stream",
     "text": [
      "REUN: No timezone found, symbol may be delisted\n"
     ]
    },
    {
     "name": "stdout",
     "output_type": "stream",
     "text": [
      "======= REUN 2021-02-16 ~ 2023-09-27 5916 / 7856 ========\n"
     ]
    },
    {
     "name": "stderr",
     "output_type": "stream",
     "text": [
      "REV: No timezone found, symbol may be delisted\n"
     ]
    },
    {
     "name": "stdout",
     "output_type": "stream",
     "text": [
      "======= REV 1996-04-25 ~ 2022-05-04 5917 / 7856 ========\n",
      "======= REVB 2018-11-09 ~ 2024-11-08 5918 / 7856 ========\n",
      "REVE not exist\n",
      "======= REVG 2017-03-07 ~ 2024-09-04 5920 / 7856 ========\n",
      "REVH not exist\n",
      "======= REX 1993-03-16 ~ 2024-08-27 5922 / 7856 ========\n",
      "======= REXR 2013-11-11 ~ 2024-10-16 5923 / 7856 ========\n",
      "======= REYN 2020-03-10 ~ 2024-10-30 5924 / 7856 ========\n",
      "======= REZI 2018-11-13 ~ 2024-11-07 5925 / 7856 ========\n",
      "======= RF 1993-01-16 ~ 2024-10-18 5926 / 7856 ========\n",
      "RF-PF not exist\n",
      "RFAC not exist\n",
      "RFAI not exist\n",
      "RFAIR not exist\n",
      "RFAIU not exist\n",
      "======= RFIL 2014-09-11 ~ 2024-09-16 5932 / 7856 ========\n",
      "RFL not exist\n"
     ]
    },
    {
     "name": "stderr",
     "output_type": "stream",
     "text": [
      "RFP: No timezone found, symbol may be delisted\n"
     ]
    },
    {
     "name": "stdout",
     "output_type": "stream",
     "text": [
      "======= RFP 1993-01-22 ~ 2022-11-03 5934 / 7856 ========\n",
      "======= RGA 1993-07-28 ~ 2024-10-31 5935 / 7856 ========\n",
      "RGC not exist\n",
      "======= RGCO 1998-06-24 ~ 2024-11-13 5937 / 7856 ========\n",
      "======= RGEN 1993-05-19 ~ 2024-11-12 5938 / 7856 ========\n",
      "======= RGF 2022-03-11 ~ 2024-03-08 5939 / 7856 ========\n",
      "======= RGLD 2000-05-04 ~ 2024-11-06 5940 / 7856 ========\n",
      "======= RGLS 2012-11-19 ~ 2024-11-07 5941 / 7856 ========\n",
      "======= RGNX 2016-03-03 ~ 2024-11-06 5942 / 7856 ========\n",
      "======= RGP 2001-03-28 ~ 2024-10-01 5943 / 7856 ========\n",
      "======= RGR 1993-11-08 ~ 2024-10-30 5944 / 7856 ========\n",
      "======= RGS 1993-01-25 ~ 2024-01-31 5945 / 7856 ========\n",
      "======= RGTI 2022-08-11 ~ 2024-08-08 5946 / 7856 ========\n",
      "======= RH 2013-04-18 ~ 2024-09-12 5947 / 7856 ========\n",
      "RHDM not exist\n",
      "======= RHI 1993-07-26 ~ 2024-10-22 5949 / 7856 ========\n",
      "======= RHP 1993-02-17 ~ 2024-11-04 5950 / 7856 ========\n",
      "======= RIBT 2006-05-16 ~ 2023-03-16 5951 / 7856 ========\n",
      "RICE not exist\n",
      "======= RICK 2007-05-14 ~ 2024-08-08 5953 / 7856 ========\n",
      "RICO not exist\n"
     ]
    },
    {
     "name": "stderr",
     "output_type": "stream",
     "text": [
      "RIDE: Period '1mo' is invalid, must be one of ['1d', '5d']\n"
     ]
    },
    {
     "name": "stdout",
     "output_type": "stream",
     "text": [
      "======= RIDE 2020-11-16 ~ 2023-08-03 5955 / 7856 ========\n",
      "======= RIG 1994-01-31 ~ 2024-10-30 5956 / 7856 ========\n",
      "======= RIGL 2001-02-07 ~ 2024-11-07 5957 / 7856 ========\n",
      "======= RILY 2009-11-16 ~ 2011-08-15 5958 / 7856 ========\n",
      "RILYM not exist\n",
      "RILYO not exist\n"
     ]
    },
    {
     "name": "stderr",
     "output_type": "stream",
     "text": [
      "RIME: No price data found, symbol may be delisted (1d 2024-11-19 -> 2024-11-19)\n"
     ]
    },
    {
     "name": "stdout",
     "output_type": "stream",
     "text": [
      "======= RIME 2024-11-19 ~ 2024-11-19 5961 / 7856 ========\n",
      "======= RIO 2003-01-29 ~ 2024-07-30 5962 / 7856 ========\n",
      "======= RIOT 2007-11-14 ~ 2024-10-30 5963 / 7856 ========\n",
      "======= RITM 2013-06-12 ~ 2024-10-29 5964 / 7856 ========\n",
      "RITR not exist\n",
      "RIVE not exist\n",
      "======= RIVN 2021-12-16 ~ 2024-11-07 5967 / 7856 ========\n",
      "RJAC not exist\n",
      "======= RJF 1993-04-21 ~ 2024-10-23 5969 / 7856 ========\n",
      "======= RKDA 2015-06-25 ~ 2024-11-12 5970 / 7856 ========\n",
      "======= RKLB 2021-11-15 ~ 2024-11-12 5971 / 7856 ========\n"
     ]
    },
    {
     "name": "stderr",
     "output_type": "stream",
     "text": [
      "RKLY: No timezone found, symbol may be delisted\n"
     ]
    },
    {
     "name": "stdout",
     "output_type": "stream",
     "text": [
      "======= RKLY 2021-11-15 ~ 2022-11-09 5972 / 7856 ========\n",
      "======= RKT 2020-11-10 ~ 2024-11-12 5973 / 7856 ========\n",
      "RKTA not exist\n",
      "======= RL 1997-08-04 ~ 2024-11-07 5975 / 7856 ========\n",
      "======= RLAY 2020-08-27 ~ 2024-11-06 5976 / 7856 ========\n"
     ]
    },
    {
     "name": "stderr",
     "output_type": "stream",
     "text": [
      "RLGY: No timezone found, symbol may be delisted\n"
     ]
    },
    {
     "name": "stdout",
     "output_type": "stream",
     "text": [
      "======= RLGY 2013-02-14 ~ 2022-04-28 5977 / 7856 ========\n",
      "======= RLI 1993-04-27 ~ 2024-10-21 5978 / 7856 ========\n",
      "======= RLJ 2011-11-09 ~ 2024-11-07 5979 / 7856 ========\n",
      "======= RLMD 2015-09-11 ~ 2024-11-07 5980 / 7856 ========\n",
      "======= RLX 2021-03-26 ~ 2024-11-15 5981 / 7856 ========\n",
      "======= RLYB 2021-09-09 ~ 2024-11-07 5982 / 7856 ========\n",
      "======= RM 2012-08-01 ~ 2024-11-06 5983 / 7856 ========\n",
      "======= RMAX 2013-11-13 ~ 2024-10-31 5984 / 7856 ========\n",
      "RMBI not exist\n",
      "======= RMBL 2017-11-09 ~ 2024-11-12 5986 / 7856 ========\n",
      "======= RMBS 1997-07-10 ~ 2024-10-28 5987 / 7856 ========\n",
      "======= RMCF 1994-05-20 ~ 2015-01-14 5988 / 7856 ========\n",
      "RMCO not exist\n",
      "======= RMD 1996-05-14 ~ 2024-10-24 5990 / 7856 ========\n",
      "RMGBU not exist\n",
      "RMGC not exist\n",
      "======= RMNI 2017-11-09 ~ 2024-10-30 5993 / 7856 ========\n"
     ]
    },
    {
     "name": "stderr",
     "output_type": "stream",
     "text": [
      "RMO: No timezone found, symbol may be delisted\n"
     ]
    },
    {
     "name": "stdout",
     "output_type": "stream",
     "text": [
      "======= RMO 2021-03-30 ~ 2022-08-01 5994 / 7856 ========\n",
      "======= RMR 2016-05-10 ~ 2024-11-11 5995 / 7856 ========\n",
      "RMRM not exist\n",
      "======= RMTI 2009-08-10 ~ 2024-08-08 5997 / 7856 ========\n",
      "======= RNA 2020-08-10 ~ 2024-11-07 5998 / 7856 ========\n",
      "======= RNAC 2023-08-17 ~ 2024-11-07 5999 / 7856 ========\n",
      "======= RNAZ 2022-03-31 ~ 2024-08-14 6000 / 7856 ========\n"
     ]
    },
    {
     "name": "stderr",
     "output_type": "stream",
     "text": [
      "RNDB: No timezone found, symbol may be delisted\n"
     ]
    },
    {
     "name": "stdout",
     "output_type": "stream",
     "text": [
      "======= RNDB 2016-10-25 ~ 2022-07-27 6001 / 7856 ========\n",
      "RNER not exist\n",
      "======= RNG 2014-02-06 ~ 2024-11-07 6003 / 7856 ========\n",
      "======= RNGR 2017-11-09 ~ 2024-10-28 6004 / 7856 ========\n",
      "======= RNLX 2021-03-02 ~ 2024-11-12 6005 / 7856 ========\n",
      "======= RNR 1996-01-22 ~ 2024-11-06 6006 / 7856 ========\n",
      "======= RNST 1996-10-17 ~ 2024-10-22 6007 / 7856 ========\n",
      "======= RNW 2021-11-18 ~ 2024-08-15 6008 / 7856 ========\n"
     ]
    },
    {
     "name": "stderr",
     "output_type": "stream",
     "text": [
      "RNWK: No timezone found, symbol may be delisted\n"
     ]
    },
    {
     "name": "stdout",
     "output_type": "stream",
     "text": [
      "======= RNWK 1998-01-28 ~ 2022-07-28 6009 / 7856 ========\n",
      "RNWWW not exist\n",
      "======= RNXT 2021-11-15 ~ 2024-11-13 6011 / 7856 ========\n",
      "======= ROAD 2018-06-04 ~ 2024-11-21 6012 / 7856 ========\n",
      "ROC not exist\n"
     ]
    },
    {
     "name": "stderr",
     "output_type": "stream",
     "text": [
      "ROCC: No timezone found, symbol may be delisted\n"
     ]
    },
    {
     "name": "stdout",
     "output_type": "stream",
     "text": [
      "======= ROCC 1993-02-12 ~ 2023-08-01 6014 / 7856 ========\n",
      "ROCG not exist\n",
      "======= ROCK 1994-10-24 ~ 2024-10-30 6016 / 7856 ========\n",
      "ROCL not exist\n",
      "ROCR not exist\n",
      "======= ROG 1994-04-13 ~ 2024-10-24 6019 / 7856 ========\n",
      "ROI not exist\n",
      "======= ROIC 2011-02-23 ~ 2024-10-22 6021 / 7856 ========\n",
      "======= ROIV 2021-11-15 ~ 2024-11-12 6022 / 7856 ========\n",
      "======= ROK 1993-01-18 ~ 2024-11-07 6023 / 7856 ========\n",
      "======= ROKU 2017-11-08 ~ 2024-10-30 6024 / 7856 ========\n",
      "======= ROL 1993-01-25 ~ 2024-10-23 6025 / 7856 ========\n"
     ]
    },
    {
     "name": "stderr",
     "output_type": "stream",
     "text": [
      "ROLL: No timezone found, symbol may be delisted\n"
     ]
    },
    {
     "name": "stdout",
     "output_type": "stream",
     "text": [
      "======= ROLL 2005-11-15 ~ 2022-11-10 6026 / 7856 ========\n",
      "ROMA not exist\n",
      "RONI not exist\n",
      "======= ROOT 2021-02-25 ~ 2024-10-30 6029 / 7856 ========\n",
      "======= ROP 1993-02-22 ~ 2024-10-23 6030 / 7856 ========\n"
     ]
    },
    {
     "name": "stderr",
     "output_type": "stream",
     "text": [
      "ROSE: No timezone found, symbol may be delisted\n"
     ]
    },
    {
     "name": "stdout",
     "output_type": "stream",
     "text": [
      "======= ROSE 2017-11-13 ~ 2020-07-02 6031 / 7856 ========\n",
      "ROSS not exist\n",
      "======= ROST 1993-03-15 ~ 2024-11-21 6033 / 7856 ========\n",
      "ROT not exist\n"
     ]
    },
    {
     "name": "stderr",
     "output_type": "stream",
     "text": [
      "ROVR: No timezone found, symbol may be delisted\n"
     ]
    },
    {
     "name": "stdout",
     "output_type": "stream",
     "text": [
      "======= ROVR 2021-11-08 ~ 2024-02-26 6035 / 7856 ========\n"
     ]
    },
    {
     "name": "stderr",
     "output_type": "stream",
     "text": [
      "RPAI: No timezone found, symbol may be delisted\n"
     ]
    },
    {
     "name": "stdout",
     "output_type": "stream",
     "text": [
      "======= RPAI 2012-08-06 ~ 2021-08-03 6036 / 7856 ========\n",
      "======= RPAY 2019-08-14 ~ 2024-11-12 6037 / 7856 ========\n",
      "======= RPD 2015-08-18 ~ 2024-11-06 6038 / 7856 ========\n"
     ]
    },
    {
     "name": "stderr",
     "output_type": "stream",
     "text": [
      "RPHM: No timezone found, symbol may be delisted\n"
     ]
    },
    {
     "name": "stdout",
     "output_type": "stream",
     "text": [
      "======= RPHM 2021-05-20 ~ 2024-08-13 6039 / 7856 ========\n",
      "======= RPID 2021-08-26 ~ 2024-11-01 6040 / 7856 ========\n",
      "======= RPM 1993-01-16 ~ 2024-10-02 6041 / 7856 ========\n",
      "======= RPRX 2020-08-12 ~ 2024-11-06 6042 / 7856 ========\n",
      "======= RPT 2003-10-22 ~ 2024-02-21 6043 / 7856 ========\n",
      "======= RPTX 2020-08-13 ~ 2024-11-07 6044 / 7856 ========\n",
      "RR not exist\n",
      "RRAC not exist\n",
      "======= RRBI 2019-07-29 ~ 2024-10-30 6047 / 7856 ========\n",
      "======= RRC 1993-11-02 ~ 2024-10-22 6048 / 7856 ========\n"
     ]
    },
    {
     "name": "stderr",
     "output_type": "stream",
     "text": [
      "RRD: No timezone found, symbol may be delisted\n"
     ]
    },
    {
     "name": "stdout",
     "output_type": "stream",
     "text": [
      "======= RRD 1993-01-28 ~ 2022-02-18 6049 / 7856 ========\n",
      "======= RRGB 2003-02-27 ~ 2024-11-06 6050 / 7856 ========\n",
      "======= RRR 2016-08-15 ~ 2024-11-07 6051 / 7856 ========\n",
      "======= RRX 1993-02-05 ~ 2024-11-04 6052 / 7856 ========\n",
      "======= RS 1995-10-26 ~ 2024-10-24 6053 / 7856 ========\n",
      "======= RSG 1998-10-29 ~ 2024-10-29 6054 / 7856 ========\n",
      "======= RSI 2021-03-10 ~ 2024-10-30 6055 / 7856 ========\n",
      "======= RSKD 2021-09-09 ~ 2024-11-13 6056 / 7856 ========\n",
      "======= RSLS 2008-04-23 ~ 2024-05-15 6057 / 7856 ========\n",
      "======= RSSS 2021-11-11 ~ 2024-09-19 6058 / 7856 ========\n",
      "======= RSVR 2021-11-09 ~ 2024-10-30 6059 / 7856 ========\n",
      "======= RTC 2007-05-11 ~ 2008-11-13 6060 / 7856 ========\n"
     ]
    },
    {
     "name": "stderr",
     "output_type": "stream",
     "text": [
      "RTL: No timezone found, symbol may be delisted\n"
     ]
    },
    {
     "name": "stdout",
     "output_type": "stream",
     "text": [
      "======= RTL 2018-11-06 ~ 2023-11-01 6061 / 7856 ========\n",
      "======= RTLR 2019-08-06 ~ 2022-08-03 6062 / 7856 ========\n",
      "======= RTO 2019-12-31 ~ 2024-07-25 6063 / 7856 ========\n",
      "RTP not exist\n",
      "RTPY not exist\n",
      "======= RTX 1993-01-26 ~ 2024-10-22 6066 / 7856 ========\n"
     ]
    },
    {
     "name": "stderr",
     "output_type": "stream",
     "text": [
      "RUBY: No timezone found, symbol may be delisted\n"
     ]
    },
    {
     "name": "stdout",
     "output_type": "stream",
     "text": [
      "======= RUBY 2018-07-18 ~ 2022-11-09 6067 / 7856 ========\n",
      "======= RUM 2022-11-14 ~ 2024-08-12 6068 / 7856 ========\n",
      "======= RUN 2015-09-10 ~ 2024-11-07 6069 / 7856 ========\n",
      "======= RUSHA 1996-08-15 ~ 2024-10-29 6070 / 7856 ========\n"
     ]
    },
    {
     "name": "stderr",
     "output_type": "stream",
     "text": [
      "RUTH: No timezone found, symbol may be delisted\n"
     ]
    },
    {
     "name": "stdout",
     "output_type": "stream",
     "text": [
      "======= RUTH 2005-11-14 ~ 2023-08-04 6071 / 7856 ========\n",
      "RVAC not exist\n",
      "RVI not exist\n"
     ]
    },
    {
     "name": "stderr",
     "output_type": "stream",
     "text": [
      "RVLP: No timezone found, symbol may be delisted\n"
     ]
    },
    {
     "name": "stdout",
     "output_type": "stream",
     "text": [
      "======= RVLP 2019-03-27 ~ 2023-11-09 6074 / 7856 ========\n",
      "======= RVLV 2019-08-08 ~ 2024-11-05 6075 / 7856 ========\n",
      "======= RVMD 2020-05-14 ~ 2024-11-06 6076 / 7856 ========\n",
      "======= RVNC 2014-05-13 ~ 2024-11-07 6077 / 7856 ========\n",
      "======= RVPH 2021-03-22 ~ 2024-11-14 6078 / 7856 ========\n",
      "======= RVSB 1998-01-30 ~ 2024-10-24 6079 / 7856 ========\n",
      "======= RVSN 2022-12-06 ~ 2023-11-24 6080 / 7856 ========\n",
      "======= RVTY 2023-02-14 ~ 2024-11-04 6081 / 7856 ========\n",
      "======= RVYL 2021-08-12 ~ 2024-08-13 6082 / 7856 ========\n",
      "======= RWAY 2022-03-03 ~ 2024-11-12 6083 / 7856 ========\n"
     ]
    },
    {
     "name": "stderr",
     "output_type": "stream",
     "text": [
      "RWLK: No timezone found, symbol may be delisted\n"
     ]
    },
    {
     "name": "stdout",
     "output_type": "stream",
     "text": [
      "======= RWLK 2014-11-13 ~ 2024-02-22 6084 / 7856 ========\n",
      "RWOD not exist\n",
      "======= RWT 1996-05-09 ~ 2024-10-30 6086 / 7856 ========\n",
      "RWTN not exist\n"
     ]
    },
    {
     "name": "stderr",
     "output_type": "stream",
     "text": [
      "RXDX: No timezone found, symbol may be delisted\n"
     ]
    },
    {
     "name": "stdout",
     "output_type": "stream",
     "text": [
      "======= RXDX 2021-05-13 ~ 2023-08-10 6088 / 7856 ========\n"
     ]
    },
    {
     "name": "stderr",
     "output_type": "stream",
     "text": [
      "RXN: No timezone found, symbol may be delisted\n"
     ]
    },
    {
     "name": "stdout",
     "output_type": "stream",
     "text": [
      "======= RXN 2012-08-01 ~ 2021-07-20 6089 / 7856 ========\n",
      "======= RXO 2022-10-13 ~ 2024-11-07 6090 / 7856 ========\n",
      "RXRA not exist\n",
      "======= RXRX 2021-08-13 ~ 2024-11-06 6092 / 7856 ========\n",
      "======= RXST 2021-09-09 ~ 2024-11-07 6093 / 7856 ========\n",
      "======= RXT 2020-08-31 ~ 2024-08-08 6094 / 7856 ========\n",
      "======= RY 1993-03-02 ~ 2024-12-04 6095 / 7856 ========\n"
     ]
    },
    {
     "name": "stderr",
     "output_type": "stream",
     "text": [
      "RY-PT: No timezone found, symbol may be delisted\n"
     ]
    },
    {
     "name": "stdout",
     "output_type": "stream",
     "text": [
      "======= RY-PT 2004-11-30 ~ 2020-08-26 6096 / 7856 ========\n",
      "======= RYAAY 1998-02-16 ~ 2024-11-04 6097 / 7856 ========\n",
      "======= RYAM 2014-10-29 ~ 2024-11-05 6098 / 7856 ========\n",
      "======= RYAN 2021-09-01 ~ 2024-10-30 6099 / 7856 ========\n"
     ]
    },
    {
     "name": "stderr",
     "output_type": "stream",
     "text": [
      "RYB: No timezone found, symbol may be delisted\n"
     ]
    },
    {
     "name": "stdout",
     "output_type": "stream",
     "text": [
      "======= RYB 2018-08-27 ~ 2021-12-12 6100 / 7856 ========\n",
      "======= RYI 2014-11-12 ~ 2024-10-29 6101 / 7856 ========\n",
      "======= RYN 1994-07-18 ~ 2024-11-06 6102 / 7856 ========\n",
      "======= RYTM 2017-11-14 ~ 2024-11-05 6103 / 7856 ========\n"
     ]
    },
    {
     "name": "stderr",
     "output_type": "stream",
     "text": [
      "RYZB: No timezone found, symbol may be delisted\n"
     ]
    },
    {
     "name": "stdout",
     "output_type": "stream",
     "text": [
      "======= RYZB 2023-11-13 ~ 2023-11-13 6104 / 7856 ========\n",
      "RZA not exist\n",
      "======= RZB 1993-07-28 ~ 2020-08-04 6106 / 7856 ========\n",
      "RZC not exist\n",
      "======= RZLT 2019-09-10 ~ 2024-11-07 6108 / 7856 ========\n",
      "RZLV not exist\n",
      "RZLVW not exist\n",
      "======= S 2013-07-30 ~ 2024-12-04 6111 / 7856 ========\n",
      "======= SA 2007-11-09 ~ 2024-08-13 6112 / 7856 ========\n",
      "======= SABR 2014-08-07 ~ 2024-10-31 6113 / 7856 ========\n",
      "======= SABS 2021-11-22 ~ 2024-11-06 6114 / 7856 ========\n",
      "======= SAFE 2000-07-25 ~ 2024-10-28 6115 / 7856 ========\n"
     ]
    },
    {
     "name": "stderr",
     "output_type": "stream",
     "text": [
      "SAFM: No timezone found, symbol may be delisted\n"
     ]
    },
    {
     "name": "stdout",
     "output_type": "stream",
     "text": [
      "======= SAFM 1993-03-02 ~ 2022-05-27 6116 / 7856 ========\n",
      "======= SAFT 2003-05-14 ~ 2024-11-05 6117 / 7856 ========\n",
      "SAGA not exist\n",
      "======= SAGE 2014-11-11 ~ 2024-10-29 6119 / 7856 ========\n",
      "======= SAH 1998-05-05 ~ 2024-10-24 6120 / 7856 ========\n",
      "SAI not exist\n",
      "======= SAIA 2003-01-24 ~ 2024-10-25 6122 / 7856 ========\n",
      "======= SAIC 2013-12-12 ~ 2024-12-05 6123 / 7856 ========\n",
      "SAIH not exist\n",
      "SAIHW not exist\n",
      "SAII not exist\n"
     ]
    },
    {
     "name": "stderr",
     "output_type": "stream",
     "text": [
      "SAIL: No timezone found, symbol may be delisted\n"
     ]
    },
    {
     "name": "stdout",
     "output_type": "stream",
     "text": [
      "======= SAIL 2018-02-21 ~ 2022-08-09 6127 / 7856 ========\n",
      "SAITW not exist\n",
      "SAJ not exist\n",
      "SAK not exist\n"
     ]
    },
    {
     "name": "stderr",
     "output_type": "stream",
     "text": [
      "SAL: No timezone found, symbol may be delisted\n"
     ]
    },
    {
     "name": "stdout",
     "output_type": "stream",
     "text": [
      "======= SAL 2017-07-28 ~ 2023-07-26 6131 / 7856 ========\n",
      "======= SALM 1999-11-10 ~ 2024-03-13 6132 / 7856 ========\n",
      "======= SAM 1996-04-23 ~ 2024-10-24 6133 / 7856 ========\n",
      "SAMA not exist\n",
      "======= SAMG 2013-11-13 ~ 2024-10-31 6135 / 7856 ========\n",
      "======= SAN 1997-01-27 ~ 2024-10-29 6136 / 7856 ========\n",
      "======= SANA 2021-03-24 ~ 2024-11-08 6137 / 7856 ========\n",
      "SANB not exist\n",
      "======= SAND 2011-08-23 ~ 2024-11-07 6139 / 7856 ========\n",
      "======= SANG 2008-05-27 ~ 2024-11-06 6140 / 7856 ========\n",
      "======= SANM 1993-07-20 ~ 2024-11-04 6141 / 7856 ========\n",
      "======= SANW 2010-08-31 ~ 2024-11-01 6142 / 7856 ========\n",
      "======= SAP 1997-08-15 ~ 2024-10-21 6143 / 7856 ========\n",
      "======= SAR 2007-07-12 ~ 2024-10-08 6144 / 7856 ========\n",
      "SARO not exist\n"
     ]
    },
    {
     "name": "stderr",
     "output_type": "stream",
     "text": [
      "SASI: No timezone found, symbol may be delisted\n"
     ]
    },
    {
     "name": "stdout",
     "output_type": "stream",
     "text": [
      "======= SASI 2018-11-14 ~ 2023-11-13 6146 / 7856 ========\n",
      "======= SASR 2000-01-12 ~ 2024-10-21 6147 / 7856 ========\n",
      "SAT not exist\n",
      "SATL not exist\n",
      "======= SATS 2008-05-13 ~ 2024-11-12 6150 / 7856 ========\n"
     ]
    },
    {
     "name": "stderr",
     "output_type": "stream",
     "text": [
      "SATX: No price data found, symbol may be delisted (1d 2024-12-06 -> 2024-12-06)\n"
     ]
    },
    {
     "name": "stdout",
     "output_type": "stream",
     "text": [
      "======= SATX 2024-12-06 ~ 2024-12-06 6151 / 7856 ========\n",
      "======= SAVA 2001-03-08 ~ 2024-11-07 6152 / 7856 ========\n",
      "SAVAW not exist\n",
      "======= SAVE 2011-07-28 ~ 2024-08-01 6154 / 7856 ========\n",
      "SAY not exist\n",
      "SAZ not exist\n",
      "======= SB 2008-11-03 ~ 2024-11-13 6157 / 7856 ========\n",
      "======= SBAC 1999-11-11 ~ 2024-10-28 6158 / 7856 ========\n",
      "SBBA not exist\n"
     ]
    },
    {
     "name": "stderr",
     "output_type": "stream",
     "text": [
      "SBBP: No timezone found, symbol may be delisted\n"
     ]
    },
    {
     "name": "stdout",
     "output_type": "stream",
     "text": [
      "======= SBBP 2016-03-24 ~ 2021-08-05 6160 / 7856 ========\n"
     ]
    },
    {
     "name": "stderr",
     "output_type": "stream",
     "text": [
      "SBC: No price data found, symbol may be delisted (1d 2024-11-13 -> 2024-11-13)\n"
     ]
    },
    {
     "name": "stdout",
     "output_type": "stream",
     "text": [
      "======= SBC 2024-11-13 ~ 2024-11-13 6161 / 7856 ========\n",
      "======= SBCF 1993-01-19 ~ 2024-10-24 6162 / 7856 ========\n",
      "SBCWW not exist\n",
      "SBEA not exist\n",
      "======= SBET 1997-08-12 ~ 1997-11-13 6165 / 7856 ========\n",
      "======= SBFG 2018-04-19 ~ 2024-10-24 6166 / 7856 ========\n",
      "======= SBFM 2023-11-13 ~ 2024-11-05 6167 / 7856 ========\n",
      "SBG not exist\n",
      "======= SBGI 1995-09-06 ~ 2024-11-06 6169 / 7856 ========\n",
      "======= SBH 2007-05-10 ~ 2024-11-14 6170 / 7856 ========\n",
      "======= SBIG 2022-08-15 ~ 2024-11-13 6171 / 7856 ========\n",
      "SBII not exist\n",
      "======= SBLK 2008-06-04 ~ 2024-11-19 6173 / 7856 ========\n",
      "SBLKZ not exist\n"
     ]
    },
    {
     "name": "stderr",
     "output_type": "stream",
     "text": [
      "SBNY: Data doesn't exist for startDate = 1106802000, endDate = 1673931600\n"
     ]
    },
    {
     "name": "stdout",
     "output_type": "stream",
     "text": [
      "======= SBNY 2005-01-27 ~ 2023-01-17 6175 / 7856 ========\n"
     ]
    },
    {
     "name": "stderr",
     "output_type": "stream",
     "text": [
      "SBOW: No timezone found, symbol may be delisted\n"
     ]
    },
    {
     "name": "stdout",
     "output_type": "stream",
     "text": [
      "======= SBOW 1993-05-11 ~ 2024-08-07 6176 / 7856 ========\n",
      "======= SBRA 2011-05-04 ~ 2024-10-31 6177 / 7856 ========\n",
      "======= SBS 2003-05-15 ~ 2024-11-12 6178 / 7856 ========\n",
      "======= SBSI 1999-10-19 ~ 2024-10-24 6179 / 7856 ========\n",
      "======= SBSW 2020-02-19 ~ 2024-09-12 6180 / 7856 ========\n",
      "======= SBT 2018-01-30 ~ 2024-07-24 6181 / 7856 ========\n"
     ]
    },
    {
     "name": "stderr",
     "output_type": "stream",
     "text": [
      "SBTX: No timezone found, symbol may be delisted\n"
     ]
    },
    {
     "name": "stdout",
     "output_type": "stream",
     "text": [
      "======= SBTX 2021-05-13 ~ 2023-03-29 6182 / 7856 ========\n",
      "======= SBUX 1997-01-23 ~ 2024-10-30 6183 / 7856 ========\n",
      "SBXC not exist\n",
      "SBXD not exist\n"
     ]
    },
    {
     "name": "stderr",
     "output_type": "stream",
     "text": [
      "SC: No timezone found, symbol may be delisted\n"
     ]
    },
    {
     "name": "stdout",
     "output_type": "stream",
     "text": [
      "======= SC 2014-03-06 ~ 2021-10-27 6186 / 7856 ========\n",
      "SCAQ not exist\n",
      "SCCF not exist\n",
      "SCCG not exist\n",
      "======= SCCO 1996-04-22 ~ 2024-10-22 6190 / 7856 ========\n",
      "SCE not exist\n",
      "======= SCHL 1993-03-20 ~ 2024-09-26 6192 / 7856 ========\n"
     ]
    },
    {
     "name": "stderr",
     "output_type": "stream",
     "text": [
      "SCHN: No timezone found, symbol may be delisted\n"
     ]
    },
    {
     "name": "stdout",
     "output_type": "stream",
     "text": [
      "======= SCHN 1994-03-31 ~ 2023-10-23 6193 / 7856 ========\n",
      "======= SCHW 1993-01-19 ~ 2024-10-15 6194 / 7856 ========\n",
      "======= SCI 1993-02-09 ~ 2024-10-30 6195 / 7856 ========\n",
      "======= SCKT 1998-04-29 ~ 2024-10-24 6196 / 7856 ========\n",
      "======= SCL 1993-04-20 ~ 2024-10-30 6197 / 7856 ========\n"
     ]
    },
    {
     "name": "stderr",
     "output_type": "stream",
     "text": [
      "SCLE: No timezone found, symbol may be delisted\n"
     ]
    },
    {
     "name": "stdout",
     "output_type": "stream",
     "text": [
      "======= SCLE 2022-05-13 ~ 2022-08-12 6198 / 7856 ========\n",
      "======= SCLX 2023-11-14 ~ 2024-08-13 6199 / 7856 ========\n",
      "======= SCM 2013-03-11 ~ 2024-11-08 6200 / 7856 ========\n",
      "SCMA not exist\n",
      "======= SCNI 2023-08-11 ~ 2023-10-31 6202 / 7856 ========\n",
      "SCNX not exist\n",
      "SCOA not exist\n",
      "SCOB not exist\n"
     ]
    },
    {
     "name": "stderr",
     "output_type": "stream",
     "text": [
      "SCON: No timezone found, symbol may be delisted\n"
     ]
    },
    {
     "name": "stdout",
     "output_type": "stream",
     "text": [
      "======= SCON 1995-07-27 ~ 2019-11-12 6206 / 7856 ========\n",
      "======= SCOR 2007-10-31 ~ 2024-08-06 6207 / 7856 ========\n",
      "SCPE not exist\n",
      "======= SCPH 2018-03-20 ~ 2024-08-14 6209 / 7856 ========\n"
     ]
    },
    {
     "name": "stderr",
     "output_type": "stream",
     "text": [
      "SCPL: No timezone found, symbol may be delisted\n"
     ]
    },
    {
     "name": "stdout",
     "output_type": "stream",
     "text": [
      "======= SCPL 2019-05-29 ~ 2023-11-08 6210 / 7856 ========\n",
      "======= SCPS 2021-05-17 ~ 2021-11-12 6211 / 7856 ========\n"
     ]
    },
    {
     "name": "stderr",
     "output_type": "stream",
     "text": [
      "SCR: No timezone found, symbol may be delisted\n"
     ]
    },
    {
     "name": "stdout",
     "output_type": "stream",
     "text": [
      "======= SCR 2006-06-29 ~ 2021-07-13 6212 / 7856 ========\n",
      "SCRM not exist\n",
      "======= SCS 1998-03-30 ~ 2024-09-18 6214 / 7856 ========\n",
      "======= SCSC 1997-10-27 ~ 2024-11-07 6215 / 7856 ========\n"
     ]
    },
    {
     "name": "stderr",
     "output_type": "stream",
     "text": [
      "SCTL: No timezone found, symbol may be delisted\n"
     ]
    },
    {
     "name": "stdout",
     "output_type": "stream",
     "text": [
      "======= SCTL 2014-05-12 ~ 2024-05-08 6216 / 7856 ========\n"
     ]
    },
    {
     "name": "stderr",
     "output_type": "stream",
     "text": [
      "SCU: No timezone found, symbol may be delisted\n"
     ]
    },
    {
     "name": "stdout",
     "output_type": "stream",
     "text": [
      "======= SCU 2008-02-26 ~ 2023-05-04 6217 / 7856 ========\n",
      "SCUA not exist\n",
      "======= SCVL 1993-07-26 ~ 2024-11-21 6219 / 7856 ========\n",
      "======= SCWO 2024-05-15 ~ 2024-11-13 6220 / 7856 ========\n",
      "======= SCWX 2016-06-01 ~ 2024-09-05 6221 / 7856 ========\n"
     ]
    },
    {
     "name": "stderr",
     "output_type": "stream",
     "text": [
      "SCX: No data found, symbol may be delisted\n"
     ]
    },
    {
     "name": "stdout",
     "output_type": "stream",
     "text": [
      "======= SCX 2009-05-07 ~ 2010-11-04 6222 / 7856 ========\n",
      "======= SCYX 2014-08-13 ~ 2024-11-06 6223 / 7856 ========\n",
      "======= SD 2008-03-03 ~ 2024-11-07 6224 / 7856 ========\n",
      "SDA not exist\n",
      "SDAC not exist\n"
     ]
    },
    {
     "name": "stderr",
     "output_type": "stream",
     "text": [
      "SDC: No timezone found, symbol may be delisted\n"
     ]
    },
    {
     "name": "stdout",
     "output_type": "stream",
     "text": [
      "======= SDC 2019-11-12 ~ 2023-11-06 6227 / 7856 ========\n",
      "======= SDGR 2020-03-16 ~ 2024-07-31 6228 / 7856 ========\n",
      "SDH not exist\n",
      "======= SDHC 2024-05-14 ~ 2024-11-12 6230 / 7856 ========\n",
      "======= SDIG 2021-11-30 ~ 2024-08-14 6231 / 7856 ========\n",
      "======= SDOT 2023-08-09 ~ 2024-08-13 6232 / 7856 ========\n",
      "======= SDRL 2009-11-05 ~ 2024-08-05 6233 / 7856 ========\n"
     ]
    },
    {
     "name": "stderr",
     "output_type": "stream",
     "text": [
      "SDST: No price data found, symbol may be delisted (1d 2024-11-13 -> 2024-11-13)\n"
     ]
    },
    {
     "name": "stdout",
     "output_type": "stream",
     "text": [
      "======= SDST 2024-11-13 ~ 2024-11-13 6234 / 7856 ========\n",
      "SDSTW not exist\n",
      "======= SE 2017-11-21 ~ 2024-11-12 6236 / 7856 ========\n",
      "======= SEAC 1997-04-28 ~ 2023-06-12 6237 / 7856 ========\n",
      "SEAH not exist\n",
      "SEAL-PB not exist\n"
     ]
    },
    {
     "name": "stderr",
     "output_type": "stream",
     "text": [
      "SEAS: No timezone found, symbol may be delisted\n"
     ]
    },
    {
     "name": "stdout",
     "output_type": "stream",
     "text": [
      "======= SEAS 2013-08-13 ~ 2024-02-28 6240 / 7856 ========\n",
      "======= SEAT 2022-03-10 ~ 2024-11-07 6241 / 7856 ========\n",
      "======= SECO 2017-11-16 ~ 2019-06-13 6242 / 7856 ========\n",
      "SEDA not exist\n",
      "======= SEDG 2015-05-07 ~ 2024-11-06 6244 / 7856 ========\n",
      "======= SEE 1993-01-22 ~ 2024-11-07 6245 / 7856 ========\n",
      "======= SEED 2010-02-02 ~ 2011-09-14 6246 / 7856 ========\n",
      "======= SEEL 2000-11-10 ~ 2024-05-14 6247 / 7856 ========\n",
      "======= SEER 2021-03-29 ~ 2024-11-06 6248 / 7856 ========\n",
      "SEG not exist\n",
      "======= SEI 2022-10-31 ~ 2024-11-04 6250 / 7856 ========\n",
      "======= SEIC 1993-07-19 ~ 2024-10-23 6251 / 7856 ========\n"
     ]
    },
    {
     "name": "stderr",
     "output_type": "stream",
     "text": [
      "SELB: No timezone found, symbol may be delisted\n"
     ]
    },
    {
     "name": "stdout",
     "output_type": "stream",
     "text": [
      "======= SELB 2016-08-09 ~ 2023-11-02 6252 / 7856 ========\n",
      "======= SELF 2020-03-30 ~ 2022-11-10 6253 / 7856 ========\n",
      "SELX not exist\n",
      "======= SEM 2009-11-05 ~ 2024-10-31 6255 / 7856 ========\n",
      "======= SEMR 2021-05-11 ~ 2024-11-08 6256 / 7856 ========\n",
      "======= SENEA 2009-08-06 ~ 2012-08-03 6257 / 7856 ========\n",
      "SEPA not exist\n",
      "SEPN not exist\n",
      "SER not exist\n",
      "======= SERA 2021-08-30 ~ 2024-11-06 6261 / 7856 ========\n",
      "======= SERV 2014-10-30 ~ 2024-11-07 6262 / 7856 ========\n",
      "======= SES 2008-05-15 ~ 2024-10-31 6263 / 7856 ========\n"
     ]
    },
    {
     "name": "stderr",
     "output_type": "stream",
     "text": [
      "SESN: No timezone found, symbol may be delisted\n"
     ]
    },
    {
     "name": "stdout",
     "output_type": "stream",
     "text": [
      "======= SESN 2014-03-31 ~ 2023-02-28 6264 / 7856 ========\n",
      "======= SEV 2022-06-22 ~ 2023-06-28 6265 / 7856 ========\n",
      "======= SEVN 2022-04-27 ~ 2024-10-28 6266 / 7856 ========\n",
      "======= SEZL 2024-08-07 ~ 2024-11-07 6267 / 7856 ========\n",
      "======= SF 2001-04-25 ~ 2024-10-23 6268 / 7856 ========\n",
      "SFB not exist\n",
      "SFBC not exist\n",
      "======= SFBS 2014-07-22 ~ 2024-10-21 6271 / 7856 ========\n"
     ]
    },
    {
     "name": "stderr",
     "output_type": "stream",
     "text": [
      "SFE: No timezone found, symbol may be delisted\n"
     ]
    },
    {
     "name": "stdout",
     "output_type": "stream",
     "text": [
      "======= SFE 1995-07-24 ~ 2021-11-04 6272 / 7856 ========\n"
     ]
    },
    {
     "name": "stderr",
     "output_type": "stream",
     "text": [
      "SFET: No timezone found, symbol may be delisted\n"
     ]
    },
    {
     "name": "stdout",
     "output_type": "stream",
     "text": [
      "======= SFET 2021-11-30 ~ 2022-11-29 6273 / 7856 ========\n",
      "======= SFIX 2017-12-20 ~ 2024-09-24 6274 / 7856 ========\n",
      "======= SFL 2004-08-19 ~ 2024-11-06 6275 / 7856 ========\n",
      "======= SFM 2013-11-07 ~ 2024-10-30 6276 / 7856 ========\n",
      "======= SFNC 1994-07-25 ~ 2024-10-18 6277 / 7856 ========\n",
      "SFR not exist\n",
      "======= SFST 2013-07-23 ~ 2024-10-22 6279 / 7856 ========\n"
     ]
    },
    {
     "name": "stderr",
     "output_type": "stream",
     "text": [
      "SFT: Period '1mo' is invalid, must be one of ['1d', '5d']\n"
     ]
    },
    {
     "name": "stdout",
     "output_type": "stream",
     "text": [
      "======= SFT 2020-11-12 ~ 2023-11-14 6280 / 7856 ========\n",
      "SFTW not exist\n"
     ]
    },
    {
     "name": "stderr",
     "output_type": "stream",
     "text": [
      "SFUN: No timezone found, symbol may be delisted\n"
     ]
    },
    {
     "name": "stdout",
     "output_type": "stream",
     "text": [
      "======= SFUN 2012-02-15 ~ 2019-06-17 6282 / 7856 ========\n",
      "SFWL not exist\n",
      "======= SG 2019-05-07 ~ 2024-11-07 6284 / 7856 ========\n",
      "======= SGA 1994-02-25 ~ 2024-11-07 6285 / 7856 ========\n",
      "SGAMU not exist\n",
      "======= SGBX 2017-08-09 ~ 2024-11-26 6287 / 7856 ========\n",
      "SGBXV not exist\n",
      "======= SGC 1993-02-12 ~ 2024-11-06 6289 / 7856 ========\n",
      "SGD not exist\n",
      "SGDVV not exist\n"
     ]
    },
    {
     "name": "stderr",
     "output_type": "stream",
     "text": [
      "SGEN: No timezone found, symbol may be delisted\n"
     ]
    },
    {
     "name": "stdout",
     "output_type": "stream",
     "text": [
      "======= SGEN 2002-01-31 ~ 2023-11-01 6292 / 7856 ========\n"
     ]
    },
    {
     "name": "stderr",
     "output_type": "stream",
     "text": [
      "SGFY: No timezone found, symbol may be delisted\n"
     ]
    },
    {
     "name": "stdout",
     "output_type": "stream",
     "text": [
      "======= SGFY 2021-05-11 ~ 2023-03-07 6293 / 7856 ========\n",
      "======= SGH 2017-06-22 ~ 2024-10-15 6294 / 7856 ========\n",
      "======= SGHC 2022-05-25 ~ 2024-11-06 6295 / 7856 ========\n",
      "SGHL not exist\n",
      "======= SGHT 2021-08-12 ~ 2024-11-07 6297 / 7856 ========\n",
      "SGII not exist\n"
     ]
    },
    {
     "name": "stderr",
     "output_type": "stream",
     "text": [
      "SGLB: No timezone found, symbol may be delisted\n"
     ]
    },
    {
     "name": "stdout",
     "output_type": "stream",
     "text": [
      "======= SGLB 2019-04-01 ~ 2022-03-24 6299 / 7856 ========\n",
      "SGLBW not exist\n",
      "======= SGLY 2018-11-14 ~ 2019-05-15 6301 / 7856 ========\n",
      "======= SGMA 1994-12-08 ~ 1997-07-14 6302 / 7856 ========\n",
      "======= SGML 2019-05-30 ~ 2024-08-15 6303 / 7856 ========\n",
      "======= SGMO 2000-08-09 ~ 2024-08-06 6304 / 7856 ========\n"
     ]
    },
    {
     "name": "stderr",
     "output_type": "stream",
     "text": [
      "SGMS: No timezone found, symbol may be delisted\n"
     ]
    },
    {
     "name": "stdout",
     "output_type": "stream",
     "text": [
      "======= SGMS 1993-02-20 ~ 2022-03-01 6305 / 7856 ========\n",
      "======= SGMT 2023-08-21 ~ 2024-08-14 6306 / 7856 ========\n",
      "SGOC not exist\n",
      "======= SGRP 1996-04-24 ~ 2024-05-15 6308 / 7856 ========\n",
      "======= SGRY 2015-11-12 ~ 2024-11-12 6309 / 7856 ========\n"
     ]
    },
    {
     "name": "stderr",
     "output_type": "stream",
     "text": [
      "SGTX: No timezone found, symbol may be delisted\n"
     ]
    },
    {
     "name": "stdout",
     "output_type": "stream",
     "text": [
      "======= SGTX 2021-03-18 ~ 2023-08-07 6310 / 7856 ========\n",
      "======= SGU 1996-08-07 ~ 2018-08-01 6311 / 7856 ========\n",
      "SHAC not exist\n",
      "======= SHAK 2015-03-11 ~ 2024-10-30 6313 / 7856 ========\n",
      "SHAP not exist\n",
      "======= SHBI 2006-04-26 ~ 2024-10-24 6315 / 7856 ========\n",
      "======= SHC 2021-03-09 ~ 2024-11-05 6316 / 7856 ========\n",
      "SHCA not exist\n",
      "======= SHCO 2021-08-26 ~ 2024-08-09 6318 / 7856 ========\n",
      "======= SHCR 2021-08-11 ~ 2024-08-09 6319 / 7856 ========\n",
      "======= SHEL 1993-04-14 ~ 2024-10-31 6320 / 7856 ========\n",
      "======= SHEN 2002-10-17 ~ 2024-11-07 6321 / 7856 ========\n",
      "SHFS not exist\n",
      "======= SHG 2022-03-03 ~ 2024-10-25 6323 / 7856 ========\n",
      "SHI not exist\n",
      "======= SHIM 2024-03-28 ~ 2024-08-15 6325 / 7856 ========\n",
      "======= SHIP 2010-11-16 ~ 2024-10-15 6326 / 7856 ========\n",
      "======= SHLS 2021-03-15 ~ 2024-08-06 6327 / 7856 ========\n",
      "======= SHLT 2024-04-17 ~ 2024-09-26 6328 / 7856 ========\n"
     ]
    },
    {
     "name": "stderr",
     "output_type": "stream",
     "text": [
      "SHLX: No timezone found, symbol may be delisted\n"
     ]
    },
    {
     "name": "stdout",
     "output_type": "stream",
     "text": [
      "======= SHLX 2015-02-24 ~ 2022-07-28 6329 / 7856 ========\n",
      "SHMD not exist\n",
      "SHMDW not exist\n",
      "======= SHO 2005-02-21 ~ 2024-11-12 6332 / 7856 ========\n",
      "======= SHOO 1996-05-13 ~ 2024-11-07 6333 / 7856 ========\n",
      "======= SHOP 2015-07-30 ~ 2024-11-12 6334 / 7856 ========\n",
      "SHOT not exist\n",
      "SHPH not exist\n",
      "======= SHPW 2021-11-15 ~ 2024-03-28 6337 / 7856 ========\n",
      "SHQA not exist\n"
     ]
    },
    {
     "name": "stderr",
     "output_type": "stream",
     "text": [
      "SHSP: No timezone found, symbol may be delisted\n"
     ]
    },
    {
     "name": "stdout",
     "output_type": "stream",
     "text": [
      "======= SHSP 2015-05-11 ~ 2021-08-12 6339 / 7856 ========\n",
      "SHUA not exist\n",
      "======= SHW 1993-01-22 ~ 2024-10-22 6341 / 7856 ========\n",
      "======= SHYF 1993-03-10 ~ 2024-10-24 6342 / 7856 ========\n"
     ]
    },
    {
     "name": "stderr",
     "output_type": "stream",
     "text": [
      "SI: No timezone found, symbol may be delisted\n"
     ]
    },
    {
     "name": "stdout",
     "output_type": "stream",
     "text": [
      "======= SI 2020-01-29 ~ 2023-05-16 6343 / 7856 ========\n",
      "======= SIBN 2018-11-29 ~ 2024-11-12 6344 / 7856 ========\n"
     ]
    },
    {
     "name": "stderr",
     "output_type": "stream",
     "text": [
      "SIC: No timezone found, symbol may be delisted\n"
     ]
    },
    {
     "name": "stdout",
     "output_type": "stream",
     "text": [
      "======= SIC 2018-09-06 ~ 2021-08-09 6345 / 7856 ========\n",
      "======= SID 1996-11-04 ~ 2024-12-10 6346 / 7856 ========\n",
      "======= SIDU 2022-11-14 ~ 2023-08-14 6347 / 7856 ========\n",
      "SIEB not exist\n"
     ]
    },
    {
     "name": "stderr",
     "output_type": "stream",
     "text": [
      "SIEN: No timezone found, symbol may be delisted\n"
     ]
    },
    {
     "name": "stdout",
     "output_type": "stream",
     "text": [
      "======= SIEN 2015-03-11 ~ 2023-11-09 6349 / 7856 ========\n",
      "SIER not exist\n",
      "======= SIF 1995-10-31 ~ 2001-11-07 6351 / 7856 ========\n",
      "======= SIFY 2005-08-15 ~ 2023-07-20 6352 / 7856 ========\n",
      "SIFYR not exist\n",
      "======= SIG 2000-03-28 ~ 2024-12-05 6354 / 7856 ========\n",
      "======= SIGA 2003-06-11 ~ 2014-05-01 6355 / 7856 ========\n",
      "======= SIGI 1993-05-07 ~ 2024-10-21 6356 / 7856 ========\n",
      "======= SII 1993-10-20 ~ 2024-11-06 6357 / 7856 ========\n"
     ]
    },
    {
     "name": "stderr",
     "output_type": "stream",
     "text": [
      "SILA: No price data found, symbol may be delisted (1d 2024-11-12 -> 2024-11-12)\n"
     ]
    },
    {
     "name": "stdout",
     "output_type": "stream",
     "text": [
      "======= SILA 2024-11-12 ~ 2024-11-12 6358 / 7856 ========\n",
      "======= SILC 2007-07-23 ~ 2024-10-31 6359 / 7856 ========\n"
     ]
    },
    {
     "name": "stderr",
     "output_type": "stream",
     "text": [
      "SILK: No timezone found, symbol may be delisted\n"
     ]
    },
    {
     "name": "stdout",
     "output_type": "stream",
     "text": [
      "======= SILK 2019-05-08 ~ 2024-08-07 6360 / 7856 ========\n"
     ]
    },
    {
     "name": "stderr",
     "output_type": "stream",
     "text": [
      "SILO: No price data found, symbol may be delisted (1d 2024-03-25 -> 2024-03-25)\n"
     ]
    },
    {
     "name": "stdout",
     "output_type": "stream",
     "text": [
      "======= SILO 2024-03-25 ~ 2024-03-25 6361 / 7856 ========\n",
      "SIMAU not exist\n",
      "SIMAW not exist\n",
      "======= SIMO 2005-10-27 ~ 2024-10-30 6364 / 7856 ========\n"
     ]
    },
    {
     "name": "stderr",
     "output_type": "stream",
     "text": [
      "SINO: No timezone found, symbol may be delisted\n"
     ]
    },
    {
     "name": "stdout",
     "output_type": "stream",
     "text": [
      "======= SINO 2018-11-14 ~ 2019-05-15 6365 / 7856 ========\n",
      "======= SINT 2014-05-15 ~ 2024-08-13 6366 / 7856 ========\n"
     ]
    },
    {
     "name": "stderr",
     "output_type": "stream",
     "text": [
      "SIOX: No timezone found, symbol may be delisted\n"
     ]
    },
    {
     "name": "stdout",
     "output_type": "stream",
     "text": [
      "======= SIOX 2015-08-11 ~ 2022-06-14 6367 / 7856 ========\n"
     ]
    },
    {
     "name": "stderr",
     "output_type": "stream",
     "text": [
      "SIRE: No timezone found, symbol may be delisted\n"
     ]
    },
    {
     "name": "stdout",
     "output_type": "stream",
     "text": [
      "======= SIRE 2013-11-05 ~ 2019-05-10 6368 / 7856 ========\n",
      "======= SIRI 1998-05-07 ~ 2024-10-31 6369 / 7856 ========\n",
      "SISI not exist\n",
      "======= SITC 2001-11-05 ~ 2024-10-30 6371 / 7856 ========\n",
      "======= SITE 2016-06-22 ~ 2024-10-30 6372 / 7856 ========\n",
      "======= SITM 2020-02-05 ~ 2024-11-06 6373 / 7856 ========\n"
     ]
    },
    {
     "name": "stderr",
     "output_type": "stream",
     "text": [
      "SIVB: No timezone found, symbol may be delisted\n"
     ]
    },
    {
     "name": "stdout",
     "output_type": "stream",
     "text": [
      "======= SIVB 1993-01-12 ~ 2023-04-20 6374 / 7856 ========\n"
     ]
    },
    {
     "name": "stderr",
     "output_type": "stream",
     "text": [
      "SIX: No timezone found, symbol may be delisted\n"
     ]
    },
    {
     "name": "stdout",
     "output_type": "stream",
     "text": [
      "======= SIX 2010-11-03 ~ 2024-08-08 6375 / 7856 ========\n",
      "SIXG not exist\n",
      "======= SJ 2020-11-23 ~ 2021-05-26 6377 / 7856 ========\n"
     ]
    },
    {
     "name": "stderr",
     "output_type": "stream",
     "text": [
      "SJI: No timezone found, symbol may be delisted\n"
     ]
    },
    {
     "name": "stdout",
     "output_type": "stream",
     "text": [
      "======= SJI 1993-01-26 ~ 2022-11-02 6378 / 7856 ========\n",
      "SJIJ not exist\n",
      "SJIV not exist\n",
      "======= SJM 1993-02-20 ~ 2024-11-26 6381 / 7856 ========\n"
     ]
    },
    {
     "name": "stderr",
     "output_type": "stream",
     "text": [
      "SJR: No timezone found, symbol may be delisted\n"
     ]
    },
    {
     "name": "stdout",
     "output_type": "stream",
     "text": [
      "======= SJR 1993-01-19 ~ 2023-04-11 6382 / 7856 ========\n",
      "======= SJW 1999-04-22 ~ 2024-10-28 6383 / 7856 ========\n",
      "======= SKE 2020-11-13 ~ 2024-11-14 6384 / 7856 ========\n",
      "SKGR not exist\n",
      "======= SKIL 2021-09-14 ~ 2024-09-09 6386 / 7856 ========\n",
      "======= SKIN 2021-05-13 ~ 2024-11-12 6387 / 7856 ========\n",
      "======= SKLZ 2021-03-10 ~ 2024-11-07 6388 / 7856 ========\n",
      "======= SKM 2017-02-03 ~ 2024-11-06 6389 / 7856 ========\n",
      "======= SKT 2004-10-26 ~ 2024-11-06 6390 / 7856 ========\n",
      "======= SKWD 2023-02-28 ~ 2024-10-29 6391 / 7856 ========\n",
      "======= SKX 1999-07-28 ~ 2024-10-24 6392 / 7856 ========\n",
      "======= SKY 1993-06-25 ~ 2024-10-28 6393 / 7856 ========\n",
      "SKYA not exist\n",
      "SKYQ not exist\n"
     ]
    },
    {
     "name": "stderr",
     "output_type": "stream",
     "text": [
      "SKYS: No timezone found, symbol may be delisted\n"
     ]
    },
    {
     "name": "stdout",
     "output_type": "stream",
     "text": [
      "======= SKYS 2015-03-17 ~ 2017-05-15 6396 / 7856 ========\n",
      "======= SKYT 2021-05-19 ~ 2024-11-07 6397 / 7856 ========\n",
      "======= SKYW 1993-02-01 ~ 2024-10-31 6398 / 7856 ========\n",
      "======= SKYX 2023-11-13 ~ 2024-11-12 6399 / 7856 ========\n",
      "======= SLAB 2000-04-26 ~ 2024-11-04 6400 / 7856 ========\n",
      "SLAC not exist\n",
      "SLAM not exist\n",
      "======= SLB 1993-01-27 ~ 2024-10-18 6403 / 7856 ========\n"
     ]
    },
    {
     "name": "stderr",
     "output_type": "stream",
     "text": [
      "SLCA: No timezone found, symbol may be delisted\n"
     ]
    },
    {
     "name": "stdout",
     "output_type": "stream",
     "text": [
      "======= SLCA 2012-05-08 ~ 2024-08-01 6404 / 7856 ========\n",
      "SLCR not exist\n"
     ]
    },
    {
     "name": "stderr",
     "output_type": "stream",
     "text": [
      "SLCT: No timezone found, symbol may be delisted\n"
     ]
    },
    {
     "name": "stdout",
     "output_type": "stream",
     "text": [
      "======= SLCT 2008-02-12 ~ 2021-08-02 6406 / 7856 ========\n",
      "======= SLDB 2018-03-29 ~ 2024-11-06 6407 / 7856 ========\n",
      "======= SLDP 2022-03-22 ~ 2024-11-07 6408 / 7856 ========\n",
      "======= SLE 2023-05-15 ~ 2024-11-14 6409 / 7856 ========\n",
      "======= SLF 2000-08-02 ~ 2024-11-04 6410 / 7856 ========\n",
      "======= SLG 2000-07-25 ~ 2024-10-16 6411 / 7856 ========\n"
     ]
    },
    {
     "name": "stderr",
     "output_type": "stream",
     "text": [
      "SLGC: No timezone found, symbol may be delisted\n"
     ]
    },
    {
     "name": "stdout",
     "output_type": "stream",
     "text": [
      "======= SLGC 2022-03-29 ~ 2023-11-08 6412 / 7856 ========\n"
     ]
    },
    {
     "name": "stderr",
     "output_type": "stream",
     "text": [
      "SLGG: No timezone found, symbol may be delisted\n"
     ]
    },
    {
     "name": "stdout",
     "output_type": "stream",
     "text": [
      "======= SLGG 2019-05-14 ~ 2023-08-14 6413 / 7856 ========\n",
      "======= SLGL 2018-03-26 ~ 2024-11-15 6414 / 7856 ========\n",
      "======= SLGN 1997-05-01 ~ 2024-10-30 6415 / 7856 ========\n"
     ]
    },
    {
     "name": "stderr",
     "output_type": "stream",
     "text": [
      "SLHG: No timezone found, symbol may be delisted\n"
     ]
    },
    {
     "name": "stdout",
     "output_type": "stream",
     "text": [
      "======= SLHG 2020-11-30 ~ 2022-08-15 6416 / 7856 ========\n",
      "SLHGP not exist\n",
      "======= SLM 1993-01-12 ~ 2024-10-23 6418 / 7856 ========\n",
      "======= SLN 2022-03-17 ~ 2024-11-14 6419 / 7856 ========\n"
     ]
    },
    {
     "name": "stderr",
     "output_type": "stream",
     "text": [
      "SLNA: No timezone found, symbol may be delisted\n"
     ]
    },
    {
     "name": "stdout",
     "output_type": "stream",
     "text": [
      "======= SLNA 2023-04-28 ~ 2023-09-13 6420 / 7856 ========\n",
      "======= SLND 2022-11-14 ~ 2024-08-12 6421 / 7856 ========\n",
      "======= SLNG 2013-05-07 ~ 2022-08-10 6422 / 7856 ========\n",
      "======= SLNH 2000-02-10 ~ 2008-03-27 6423 / 7856 ========\n",
      "======= SLNO 2015-05-04 ~ 2024-11-06 6424 / 7856 ========\n",
      "======= SLP 2005-01-14 ~ 2024-10-23 6425 / 7856 ========\n",
      "======= SLQT 2020-09-09 ~ 2024-11-04 6426 / 7856 ========\n",
      "======= SLRC 2010-05-04 ~ 2024-11-06 6427 / 7856 ========\n",
      "======= SLRN 2023-08-14 ~ 2024-11-13 6428 / 7856 ========\n",
      "======= SLRX 2015-02-04 ~ 2024-11-14 6429 / 7856 ========\n",
      "======= SLS 2008-05-20 ~ 2024-08-13 6430 / 7856 ========\n",
      "======= SLVM 2021-11-10 ~ 2024-11-12 6431 / 7856 ========\n",
      "SLVR not exist\n",
      "SLXN not exist\n",
      "SLXNW not exist\n",
      "======= SM 1993-08-18 ~ 2024-10-31 6435 / 7856 ========\n",
      "SMAP not exist\n",
      "======= SMAR 2018-06-04 ~ 2024-12-05 6437 / 7856 ========\n",
      "======= SMBC 2012-05-15 ~ 2024-10-28 6438 / 7856 ========\n",
      "======= SMBK 2016-10-26 ~ 2024-10-21 6439 / 7856 ========\n",
      "SMC not exist\n",
      "======= SMCI 2007-10-31 ~ 2024-11-05 6441 / 7856 ========\n"
     ]
    },
    {
     "name": "stderr",
     "output_type": "stream",
     "text": [
      "SMED: No timezone found, symbol may be delisted\n"
     ]
    },
    {
     "name": "stdout",
     "output_type": "stream",
     "text": [
      "======= SMED 2010-02-04 ~ 2022-05-11 6442 / 7856 ========\n",
      "======= SMFG 2021-11-12 ~ 2024-11-14 6443 / 7856 ========\n",
      "======= SMFL 2022-11-14 ~ 2024-03-29 6444 / 7856 ========\n"
     ]
    },
    {
     "name": "stderr",
     "output_type": "stream",
     "text": [
      "SMFR: No timezone found, symbol may be delisted\n"
     ]
    },
    {
     "name": "stdout",
     "output_type": "stream",
     "text": [
      "======= SMFR 2021-11-15 ~ 2023-03-13 6445 / 7856 ========\n",
      "======= SMG 1993-05-12 ~ 2024-11-06 6446 / 7856 ========\n",
      "======= SMHI 2017-08-10 ~ 2024-10-30 6447 / 7856 ========\n",
      "SMID not exist\n",
      "SMIH not exist\n",
      "======= SMIT 1996-10-01 ~ 2001-07-09 6450 / 7856 ========\n"
     ]
    },
    {
     "name": "stderr",
     "output_type": "stream",
     "text": [
      "SMLP: No timezone found, symbol may be delisted\n"
     ]
    },
    {
     "name": "stdout",
     "output_type": "stream",
     "text": [
      "======= SMLP 2012-11-12 ~ 2023-08-09 6451 / 7856 ========\n",
      "======= SMLR 2014-07-25 ~ 2024-11-04 6452 / 7856 ========\n"
     ]
    },
    {
     "name": "stderr",
     "output_type": "stream",
     "text": [
      "SMMF: No timezone found, symbol may be delisted\n"
     ]
    },
    {
     "name": "stdout",
     "output_type": "stream",
     "text": [
      "======= SMMF 2004-07-21 ~ 2024-04-25 6453 / 7856 ========\n",
      "======= SMMT 2015-06-11 ~ 2024-10-30 6454 / 7856 ========\n",
      "======= SMP 1993-03-08 ~ 2024-10-30 6455 / 7856 ========\n",
      "======= SMPL 2017-11-08 ~ 2024-10-24 6456 / 7856 ========\n",
      "======= SMR 2022-11-11 ~ 2024-11-07 6457 / 7856 ========\n",
      "======= SMRT 1993-07-28 ~ 2024-11-06 6458 / 7856 ========\n",
      "SMSA not exist\n",
      "======= SMSI 1995-10-26 ~ 2024-08-01 6460 / 7856 ========\n",
      "======= SMTC 1995-11-16 ~ 2024-11-25 6461 / 7856 ========\n",
      "======= SMTI 2011-08-22 ~ 2024-11-12 6462 / 7856 ========\n",
      "======= SMWB 2021-08-11 ~ 2024-08-06 6463 / 7856 ========\n",
      "SMX not exist\n",
      "SMXT not exist\n",
      "======= SN 2023-11-09 ~ 2024-10-31 6466 / 7856 ========\n",
      "======= SNA 1993-02-03 ~ 2024-10-17 6467 / 7856 ========\n",
      "======= SNAL 2023-05-10 ~ 2024-08-13 6468 / 7856 ========\n",
      "======= SNAP 2017-05-10 ~ 2024-10-29 6469 / 7856 ========\n",
      "======= SNAX 2021-08-16 ~ 2024-11-13 6470 / 7856 ========\n",
      "======= SNBR 1999-01-25 ~ 2024-10-30 6471 / 7856 ========\n"
     ]
    },
    {
     "name": "stderr",
     "output_type": "stream",
     "text": [
      "SNCE: No timezone found, symbol may be delisted\n"
     ]
    },
    {
     "name": "stdout",
     "output_type": "stream",
     "text": [
      "======= SNCE 2021-11-15 ~ 2023-11-07 6472 / 7856 ========\n",
      "======= SNCR 2006-07-31 ~ 2024-11-12 6473 / 7856 ========\n",
      "======= SNCY 2021-05-05 ~ 2024-10-30 6474 / 7856 ========\n",
      "======= SND 2016-12-15 ~ 2024-11-12 6475 / 7856 ========\n",
      "======= SNDA 1998-02-09 ~ 2023-08-14 6476 / 7856 ========\n",
      "======= SNDL 2019-11-13 ~ 2024-11-05 6477 / 7856 ========\n",
      "======= SNDR 2017-05-11 ~ 2024-11-06 6478 / 7856 ========\n",
      "======= SNDX 2016-05-16 ~ 2024-11-05 6479 / 7856 ========\n",
      "======= SNES 2017-05-11 ~ 2024-11-12 6480 / 7856 ========\n",
      "======= SNEX 2009-08-05 ~ 2024-11-19 6481 / 7856 ========\n",
      "SNFCA not exist\n",
      "======= SNGX 2003-03-31 ~ 2024-11-08 6483 / 7856 ========\n",
      "======= SNN 2003-08-04 ~ 2024-08-01 6484 / 7856 ========\n",
      "======= SNOA 2007-08-09 ~ 2024-11-07 6485 / 7856 ========\n",
      "======= SNOW 2020-12-02 ~ 2024-11-20 6486 / 7856 ========\n"
     ]
    },
    {
     "name": "stderr",
     "output_type": "stream",
     "text": [
      "SNP: No timezone found, symbol may be delisted\n"
     ]
    },
    {
     "name": "stdout",
     "output_type": "stream",
     "text": [
      "======= SNP 2018-04-26 ~ 2022-09-01 6487 / 7856 ========\n"
     ]
    },
    {
     "name": "stderr",
     "output_type": "stream",
     "text": [
      "SNPO: No timezone found, symbol may be delisted\n"
     ]
    },
    {
     "name": "stdout",
     "output_type": "stream",
     "text": [
      "======= SNPO 2021-08-26 ~ 2024-05-07 6488 / 7856 ========\n",
      "SNPR not exist\n",
      "======= SNPS 1993-01-18 ~ 2024-12-04 6490 / 7856 ========\n",
      "======= SNPX 2022-05-13 ~ 2024-11-12 6491 / 7856 ========\n"
     ]
    },
    {
     "name": "stderr",
     "output_type": "stream",
     "text": [
      "SNR: No timezone found, symbol may be delisted\n"
     ]
    },
    {
     "name": "stdout",
     "output_type": "stream",
     "text": [
      "======= SNR 2015-02-26 ~ 2021-07-30 6492 / 7856 ========\n",
      "SNRE not exist\n",
      "SNREV not exist\n",
      "SNRH not exist\n",
      "======= SNSE 2021-05-12 ~ 2024-08-06 6496 / 7856 ========\n",
      "======= SNT 1996-04-30 ~ 1998-10-26 6497 / 7856 ========\n",
      "SNTG not exist\n",
      "======= SNTI 2022-11-10 ~ 2024-05-09 6499 / 7856 ========\n",
      "======= SNV 1993-01-11 ~ 2024-10-16 6500 / 7856 ========\n",
      "======= SNX 2004-03-25 ~ 2024-09-26 6501 / 7856 ========\n",
      "======= SNY 2005-05-13 ~ 2024-10-25 6502 / 7856 ========\n",
      "======= SO 1993-01-18 ~ 2024-10-31 6503 / 7856 ========\n",
      "SOAC not exist\n"
     ]
    },
    {
     "name": "stderr",
     "output_type": "stream",
     "text": [
      "SOBO: No price data found, symbol may be delisted (1d 2024-11-27 -> 2024-11-27)\n"
     ]
    },
    {
     "name": "stdout",
     "output_type": "stream",
     "text": [
      "======= SOBO 2024-11-27 ~ 2024-11-27 6505 / 7856 ========\n",
      "======= SOBR 2022-11-14 ~ 2024-03-29 6506 / 7856 ========\n",
      "======= SOC 2024-03-28 ~ 2024-11-14 6507 / 7856 ========\n",
      "SODR not exist\n",
      "======= SOFI 2021-08-12 ~ 2024-10-29 6509 / 7856 ========\n",
      "======= SOFO 2000-03-16 ~ 2024-01-04 6510 / 7856 ========\n"
     ]
    },
    {
     "name": "stderr",
     "output_type": "stream",
     "text": [
      "SOGO: No timezone found, symbol may be delisted\n"
     ]
    },
    {
     "name": "stdout",
     "output_type": "stream",
     "text": [
      "======= SOGO 2018-01-29 ~ 2021-02-04 6511 / 7856 ========\n",
      "======= SOGP 2021-12-30 ~ 2022-12-31 6512 / 7856 ========\n",
      "======= SOHO 2005-11-08 ~ 2024-08-13 6513 / 7856 ========\n",
      "======= SOHU 2002-10-21 ~ 2024-05-20 6514 / 7856 ========\n"
     ]
    },
    {
     "name": "stderr",
     "output_type": "stream",
     "text": [
      "SOI: No timezone found, symbol may be delisted\n"
     ]
    },
    {
     "name": "stdout",
     "output_type": "stream",
     "text": [
      "======= SOI 2017-08-14 ~ 2024-10-24 6515 / 7856 ========\n",
      "SOJC not exist\n",
      "SOJD not exist\n",
      "SOJE not exist\n",
      "======= SOL 2008-03-19 ~ 2024-11-14 6519 / 7856 ========\n",
      "SOLN not exist\n"
     ]
    },
    {
     "name": "stderr",
     "output_type": "stream",
     "text": [
      "SOLO: No timezone found, symbol may be delisted\n"
     ]
    },
    {
     "name": "stdout",
     "output_type": "stream",
     "text": [
      "======= SOLO 2018-11-19 ~ 2024-03-08 6521 / 7856 ========\n",
      "======= SOLV 2024-08-08 ~ 2024-11-07 6522 / 7856 ========\n"
     ]
    },
    {
     "name": "stderr",
     "output_type": "stream",
     "text": [
      "SOLY: No timezone found, symbol may be delisted\n"
     ]
    },
    {
     "name": "stdout",
     "output_type": "stream",
     "text": [
      "======= SOLY 2020-03-02 ~ 2021-11-12 6523 / 7856 ========\n",
      "======= SON 1993-01-22 ~ 2024-10-31 6524 / 7856 ========\n",
      "======= SOND 2022-03-09 ~ 2024-11-04 6525 / 7856 ========\n",
      "======= SONM 2019-06-24 ~ 2024-11-13 6526 / 7856 ========\n",
      "======= SONN 2015-05-20 ~ 2024-08-14 6527 / 7856 ========\n",
      "======= SONO 2018-09-10 ~ 2024-11-13 6528 / 7856 ========\n",
      "======= SONX 2021-12-09 ~ 2024-08-07 6529 / 7856 ========\n",
      "======= SONY 1995-02-15 ~ 2024-11-08 6530 / 7856 ========\n",
      "======= SOPA 2022-03-30 ~ 2024-11-15 6531 / 7856 ========\n",
      "======= SOPH 2021-09-09 ~ 2024-11-05 6532 / 7856 ========\n",
      "SOR not exist\n",
      "======= SOS 2017-08-17 ~ 2018-11-20 6534 / 7856 ========\n",
      "======= SOTK 2020-05-29 ~ 2024-10-15 6535 / 7856 ========\n",
      "======= SOUN 2022-08-11 ~ 2024-11-12 6536 / 7856 ========\n"
     ]
    },
    {
     "name": "stderr",
     "output_type": "stream",
     "text": [
      "SOVO: No timezone found, symbol may be delisted\n"
     ]
    },
    {
     "name": "stdout",
     "output_type": "stream",
     "text": [
      "======= SOVO 2021-11-09 ~ 2024-02-28 6537 / 7856 ========\n"
     ]
    },
    {
     "name": "stderr",
     "output_type": "stream",
     "text": [
      "SP: No timezone found, symbol may be delisted\n"
     ]
    },
    {
     "name": "stdout",
     "output_type": "stream",
     "text": [
      "======= SP 2004-11-11 ~ 2024-05-01 6538 / 7856 ========\n",
      "SPAI not exist\n"
     ]
    },
    {
     "name": "stderr",
     "output_type": "stream",
     "text": [
      "SPAQU: Period '1mo' is invalid, must be one of ['1d', '5d']\n"
     ]
    },
    {
     "name": "stdout",
     "output_type": "stream",
     "text": [
      "======= SPAQU 2018-09-29 ~ 2020-03-30 6540 / 7856 ========\n",
      "======= SPB 1998-07-30 ~ 2024-11-15 6541 / 7856 ========\n",
      "======= SPCB 2005-02-15 ~ 2024-11-14 6542 / 7856 ========\n",
      "======= SPCE 2020-02-27 ~ 2024-11-06 6543 / 7856 ========\n",
      "SPCM not exist\n"
     ]
    },
    {
     "name": "stderr",
     "output_type": "stream",
     "text": [
      "SPEC: No price data found, symbol may be delisted (1d 2024-05-15 -> 2024-05-15)\n"
     ]
    },
    {
     "name": "stdout",
     "output_type": "stream",
     "text": [
      "======= SPEC 2024-05-15 ~ 2024-05-15 6545 / 7856 ========\n",
      "SPECW not exist\n",
      "======= SPFI 2019-07-25 ~ 2024-10-23 6547 / 7856 ========\n",
      "SPFR not exist\n",
      "======= SPG 2002-02-07 ~ 2024-11-01 6549 / 7856 ========\n"
     ]
    },
    {
     "name": "stderr",
     "output_type": "stream",
     "text": [
      "SPGC: No price data found, symbol may be delisted (1d 2024-08-05 -> 2024-08-05)\n"
     ]
    },
    {
     "name": "stdout",
     "output_type": "stream",
     "text": [
      "======= SPGC 2024-08-05 ~ 2024-08-05 6550 / 7856 ========\n",
      "======= SPGI 1993-02-03 ~ 2024-10-24 6551 / 7856 ========\n",
      "SPGS not exist\n",
      "======= SPH 1996-05-03 ~ 2024-11-14 6553 / 7856 ========\n",
      "SPHAU not exist\n",
      "SPHL not exist\n",
      "======= SPHR 2022-11-09 ~ 2024-08-14 6556 / 7856 ========\n",
      "======= SPI 2022-08-15 ~ 2023-11-20 6557 / 7856 ========\n",
      "======= SPIR 1994-08-12 ~ 2024-08-14 6558 / 7856 ========\n",
      "SPK not exist\n",
      "SPKB not exist\n"
     ]
    },
    {
     "name": "stderr",
     "output_type": "stream",
     "text": [
      "SPKE: No timezone found, symbol may be delisted\n"
     ]
    },
    {
     "name": "stdout",
     "output_type": "stream",
     "text": [
      "======= SPKE 2014-11-12 ~ 2020-05-05 6561 / 7856 ========\n",
      "SPKL not exist\n"
     ]
    },
    {
     "name": "stderr",
     "output_type": "stream",
     "text": [
      "SPLK: No timezone found, symbol may be delisted\n"
     ]
    },
    {
     "name": "stdout",
     "output_type": "stream",
     "text": [
      "======= SPLK 2012-05-31 ~ 2024-02-27 6563 / 7856 ========\n",
      "SPLP not exist\n"
     ]
    },
    {
     "name": "stderr",
     "output_type": "stream",
     "text": [
      "SPMC: No price data found, symbol may be delisted (1d 2024-11-13 -> 2024-11-13)\n"
     ]
    },
    {
     "name": "stdout",
     "output_type": "stream",
     "text": [
      "======= SPMC 2024-11-13 ~ 2024-11-13 6565 / 7856 ========\n"
     ]
    },
    {
     "name": "stderr",
     "output_type": "stream",
     "text": [
      "SPNE: No timezone found, symbol may be delisted\n"
     ]
    },
    {
     "name": "stdout",
     "output_type": "stream",
     "text": [
      "======= SPNE 2015-08-13 ~ 2022-11-01 6566 / 7856 ========\n",
      "======= SPNS 1993-03-08 ~ 2024-11-11 6567 / 7856 ========\n",
      "======= SPNT 2013-11-12 ~ 2024-10-31 6568 / 7856 ========\n",
      "SPNV not exist\n",
      "======= SPOK 2007-05-09 ~ 2024-10-30 6570 / 7856 ========\n",
      "======= SPOT 2018-05-02 ~ 2024-11-12 6571 / 7856 ========\n"
     ]
    },
    {
     "name": "stderr",
     "output_type": "stream",
     "text": [
      "SPPI: No timezone found, symbol may be delisted\n"
     ]
    },
    {
     "name": "stdout",
     "output_type": "stream",
     "text": [
      "======= SPPI 2004-05-17 ~ 2023-08-10 6572 / 7856 ========\n",
      "SPPL not exist\n",
      "======= SPR 2007-04-26 ~ 2024-10-23 6574 / 7856 ========\n",
      "======= SPRB 2020-11-18 ~ 2024-11-11 6575 / 7856 ========\n",
      "SPRC not exist\n",
      "======= SPRO 2018-04-02 ~ 2024-11-14 6577 / 7856 ========\n"
     ]
    },
    {
     "name": "stderr",
     "output_type": "stream",
     "text": [
      "SPRT: No timezone found, symbol may be delisted\n"
     ]
    },
    {
     "name": "stdout",
     "output_type": "stream",
     "text": [
      "======= SPRT 2000-10-18 ~ 2017-02-16 6578 / 7856 ========\n",
      "======= SPRU 2021-05-17 ~ 2024-11-13 6579 / 7856 ========\n",
      "======= SPRY 2021-05-13 ~ 2024-08-06 6580 / 7856 ========\n",
      "======= SPSC 2010-07-29 ~ 2024-10-24 6581 / 7856 ========\n",
      "======= SPT 2020-02-26 ~ 2024-11-07 6582 / 7856 ========\n",
      "SPTK not exist\n",
      "======= SPTN 2002-05-08 ~ 2024-11-07 6584 / 7856 ========\n",
      "======= SPWH 2014-06-10 ~ 2024-09-03 6585 / 7856 ========\n"
     ]
    },
    {
     "name": "stderr",
     "output_type": "stream",
     "text": [
      "SPWR: No timezone found, symbol may be delisted\n"
     ]
    },
    {
     "name": "stdout",
     "output_type": "stream",
     "text": [
      "======= SPWR 2006-04-20 ~ 2024-05-01 6586 / 7856 ========\n",
      "======= SPXC 1993-04-20 ~ 2024-10-30 6587 / 7856 ========\n",
      "SPYU not exist\n",
      "======= SQ 2016-03-09 ~ 2024-11-07 6589 / 7856 ========\n"
     ]
    },
    {
     "name": "stderr",
     "output_type": "stream",
     "text": [
      "SQBG: No timezone found, symbol may be delisted\n"
     ]
    },
    {
     "name": "stdout",
     "output_type": "stream",
     "text": [
      "======= SQBG 2014-05-01 ~ 2019-08-09 6590 / 7856 ========\n",
      "======= SQFT 2021-03-30 ~ 2023-03-28 6591 / 7856 ========\n"
     ]
    },
    {
     "name": "stderr",
     "output_type": "stream",
     "text": [
      "SQL: No timezone found, symbol may be delisted\n"
     ]
    },
    {
     "name": "stdout",
     "output_type": "stream",
     "text": [
      "======= SQL 2022-03-23 ~ 2023-03-17 6592 / 7856 ========\n",
      "======= SQM 1994-05-09 ~ 2024-11-20 6593 / 7856 ========\n",
      "======= SQNS 2011-07-28 ~ 2024-11-05 6594 / 7856 ========\n",
      "======= SQSP 2021-08-09 ~ 2024-11-05 6595 / 7856 ========\n"
     ]
    },
    {
     "name": "stderr",
     "output_type": "stream",
     "text": [
      "SQZ: No timezone found, symbol may be delisted\n"
     ]
    },
    {
     "name": "stdout",
     "output_type": "stream",
     "text": [
      "======= SQZ 2020-12-10 ~ 2023-08-03 6596 / 7856 ========\n",
      "======= SR 1995-06-09 ~ 2024-11-20 6597 / 7856 ========\n",
      "SRAC not exist\n",
      "======= SRAD 2022-05-18 ~ 2024-11-07 6599 / 7856 ========\n",
      "======= SRAX 2015-11-16 ~ 2023-10-31 6600 / 7856 ========\n",
      "SRBK not exist\n"
     ]
    },
    {
     "name": "stderr",
     "output_type": "stream",
     "text": [
      "SRC: No timezone found, symbol may be delisted\n"
     ]
    },
    {
     "name": "stdout",
     "output_type": "stream",
     "text": [
      "======= SRC 2012-11-07 ~ 2024-02-27 6602 / 7856 ========\n",
      "======= SRCE 1993-10-20 ~ 2024-10-24 6603 / 7856 ========\n",
      "======= SRCL 1997-03-18 ~ 2024-11-07 6604 / 7856 ========\n",
      "======= SRDX 1998-04-23 ~ 2024-11-06 6605 / 7856 ========\n",
      "======= SRE 1993-01-26 ~ 2024-11-06 6606 / 7856 ========\n",
      "SREA not exist\n"
     ]
    },
    {
     "name": "stderr",
     "output_type": "stream",
     "text": [
      "SREV: No timezone found, symbol may be delisted\n"
     ]
    },
    {
     "name": "stdout",
     "output_type": "stream",
     "text": [
      "======= SREV 2011-05-09 ~ 2020-07-29 6608 / 7856 ========\n",
      "======= SRFM 2023-11-14 ~ 2024-11-14 6609 / 7856 ========\n",
      "======= SRG 2016-05-05 ~ 2018-05-03 6610 / 7856 ========\n"
     ]
    },
    {
     "name": "stderr",
     "output_type": "stream",
     "text": [
      "SRGA: Period '1mo' is invalid, must be one of ['1d', '5d']\n"
     ]
    },
    {
     "name": "stdout",
     "output_type": "stream",
     "text": [
      "======= SRGA 2000-10-24 ~ 2023-08-08 6611 / 7856 ========\n",
      "======= SRI 1998-08-07 ~ 2024-10-30 6612 / 7856 ========\n",
      "======= SRL 1996-12-02 ~ 2010-11-15 6613 / 7856 ========\n"
     ]
    },
    {
     "name": "stderr",
     "output_type": "stream",
     "text": [
      "SRLP: No timezone found, symbol may be delisted\n"
     ]
    },
    {
     "name": "stdout",
     "output_type": "stream",
     "text": [
      "======= SRLP 2014-03-26 ~ 2021-11-04 6614 / 7856 ========\n",
      "SRM not exist\n",
      "======= SRNE 2014-05-14 ~ 2023-06-29 6616 / 7856 ========\n",
      "SRNG not exist\n",
      "======= SRPT 2002-05-07 ~ 2024-11-06 6618 / 7856 ========\n"
     ]
    },
    {
     "name": "stderr",
     "output_type": "stream",
     "text": [
      "SRRA: No timezone found, symbol may be delisted\n"
     ]
    },
    {
     "name": "stdout",
     "output_type": "stream",
     "text": [
      "======= SRRA 2015-08-21 ~ 2022-05-06 6619 / 7856 ========\n",
      "======= SRRK 2018-08-08 ~ 2024-08-08 6620 / 7856 ========\n",
      "SRSA not exist\n"
     ]
    },
    {
     "name": "stderr",
     "output_type": "stream",
     "text": [
      "SRT: No timezone found, symbol may be delisted\n"
     ]
    },
    {
     "name": "stdout",
     "output_type": "stream",
     "text": [
      "======= SRT 1997-11-05 ~ 2023-11-09 6622 / 7856 ========\n",
      "======= SRTS 2016-11-03 ~ 2024-11-14 6623 / 7856 ========\n",
      "======= SRZN 2021-11-15 ~ 2024-11-06 6624 / 7856 ========\n",
      "SSAA not exist\n",
      "======= SSB 2000-04-20 ~ 2024-10-23 6626 / 7856 ========\n",
      "======= SSBI 2006-11-13 ~ 2014-01-27 6627 / 7856 ========\n",
      "======= SSBK 2021-10-26 ~ 2024-10-21 6628 / 7856 ========\n",
      "======= SSD 1994-12-01 ~ 2024-10-21 6629 / 7856 ========\n"
     ]
    },
    {
     "name": "stderr",
     "output_type": "stream",
     "text": [
      "SSIC: No timezone found, symbol may be delisted\n"
     ]
    },
    {
     "name": "stdout",
     "output_type": "stream",
     "text": [
      "======= SSIC 2022-11-10 ~ 2024-05-09 6630 / 7856 ========\n",
      "======= SSKN 2006-03-29 ~ 2024-11-13 6631 / 7856 ========\n",
      "======= SSL 2002-09-10 ~ 2003-04-10 6632 / 7856 ========\n",
      "======= SSNC 2010-05-12 ~ 2024-10-24 6633 / 7856 ========\n"
     ]
    },
    {
     "name": "stderr",
     "output_type": "stream",
     "text": [
      "SSNT: No data found, symbol may be delisted\n"
     ]
    },
    {
     "name": "stdout",
     "output_type": "stream",
     "text": [
      "======= SSNT 2018-05-14 ~ 2018-11-13 6634 / 7856 ========\n",
      "======= SSP 1993-01-27 ~ 2024-11-04 6635 / 7856 ========\n",
      "SSPK not exist\n",
      "======= SSRM 2006-08-14 ~ 2024-11-06 6637 / 7856 ========\n",
      "======= SSSS 2012-08-08 ~ 2024-11-07 6638 / 7856 ========\n",
      "======= SST 2022-03-31 ~ 2024-11-07 6639 / 7856 ========\n",
      "======= SSTI 2017-08-08 ~ 2024-11-12 6640 / 7856 ========\n",
      "======= SSTK 2013-02-21 ~ 2024-10-29 6641 / 7856 ========\n"
     ]
    },
    {
     "name": "stderr",
     "output_type": "stream",
     "text": [
      "SSU: No timezone found, symbol may be delisted\n"
     ]
    },
    {
     "name": "stdout",
     "output_type": "stream",
     "text": [
      "======= SSU 2022-01-26 ~ 2022-08-16 6642 / 7856 ========\n",
      "======= SSYS 1997-02-27 ~ 2024-11-13 6643 / 7856 ========\n",
      "======= ST 2010-04-21 ~ 2024-11-04 6644 / 7856 ========\n",
      "======= STAA 1994-05-09 ~ 2024-10-30 6645 / 7856 ========\n"
     ]
    },
    {
     "name": "stderr",
     "output_type": "stream",
     "text": [
      "STAB: Data doesn't exist for startDate = 1179201600, endDate = 1399521600\n"
     ]
    },
    {
     "name": "stdout",
     "output_type": "stream",
     "text": [
      "======= STAB 2007-05-15 ~ 2014-05-08 6646 / 7856 ========\n",
      "======= STAF 2016-04-13 ~ 2024-08-12 6647 / 7856 ========\n",
      "======= STAG 2011-08-15 ~ 2024-10-29 6648 / 7856 ========\n"
     ]
    },
    {
     "name": "stderr",
     "output_type": "stream",
     "text": [
      "STAR: No timezone found, symbol may be delisted\n"
     ]
    },
    {
     "name": "stdout",
     "output_type": "stream",
     "text": [
      "======= STAR 2000-07-25 ~ 2023-08-02 6649 / 7856 ========\n"
     ]
    },
    {
     "name": "stderr",
     "output_type": "stream",
     "text": [
      "STAY: No timezone found, symbol may be delisted\n"
     ]
    },
    {
     "name": "stdout",
     "output_type": "stream",
     "text": [
      "======= STAY 2014-02-26 ~ 2021-05-10 6650 / 7856 ========\n",
      "======= STBA 1993-10-19 ~ 2024-10-17 6651 / 7856 ========\n",
      "STBX not exist\n",
      "======= STC 1994-02-09 ~ 2024-10-23 6653 / 7856 ========\n",
      "======= STCN 1994-06-03 ~ 2010-03-08 6654 / 7856 ========\n",
      "======= STE 1993-04-28 ~ 2024-11-06 6655 / 7856 ========\n",
      "STEC not exist\n",
      "======= STEL 2017-12-14 ~ 2024-10-25 6657 / 7856 ========\n",
      "======= STEM 2021-08-11 ~ 2024-10-30 6658 / 7856 ========\n",
      "======= STEP 2020-11-10 ~ 2024-11-07 6659 / 7856 ========\n",
      "======= STER 2021-11-10 ~ 2024-08-08 6660 / 7856 ========\n",
      "STET not exist\n"
     ]
    },
    {
     "name": "stderr",
     "output_type": "stream",
     "text": [
      "STFC: No timezone found, symbol may be delisted\n"
     ]
    },
    {
     "name": "stdout",
     "output_type": "stream",
     "text": [
      "======= STFC 1993-03-02 ~ 2021-11-04 6662 / 7856 ========\n",
      "STFS not exist\n",
      "======= STG 2018-05-21 ~ 2021-11-23 6664 / 7856 ========\n",
      "======= STGW 1997-05-13 ~ 2024-11-07 6665 / 7856 ========\n",
      "STHO not exist\n"
     ]
    },
    {
     "name": "stderr",
     "output_type": "stream",
     "text": [
      "STI: Data doesn't exist for startDate = 726814800, endDate = 1571284800\n"
     ]
    },
    {
     "name": "stdout",
     "output_type": "stream",
     "text": [
      "======= STI 1993-01-12 ~ 2019-10-17 6667 / 7856 ========\n",
      "======= STIM 2018-08-14 ~ 2024-11-12 6668 / 7856 ========\n"
     ]
    },
    {
     "name": "stderr",
     "output_type": "stream",
     "text": [
      "STIX: No timezone found, symbol may be delisted\n"
     ]
    },
    {
     "name": "stdout",
     "output_type": "stream",
     "text": [
      "======= STIX 2022-11-29 ~ 2024-04-02 6669 / 7856 ========\n",
      "======= STKH 2022-05-31 ~ 2024-04-03 6670 / 7856 ========\n",
      "======= STKL 2003-05-07 ~ 2024-11-05 6671 / 7856 ========\n",
      "======= STKS 2014-05-15 ~ 2024-11-07 6672 / 7856 ========\n"
     ]
    },
    {
     "name": "stderr",
     "output_type": "stream",
     "text": [
      "STL: No timezone found, symbol may be delisted\n"
     ]
    },
    {
     "name": "stdout",
     "output_type": "stream",
     "text": [
      "======= STL 1999-04-21 ~ 2022-01-19 6673 / 7856 ========\n",
      "======= STLA 2014-01-29 ~ 2022-02-23 6674 / 7856 ========\n",
      "======= STLD 1997-01-21 ~ 2024-10-16 6675 / 7856 ========\n",
      "======= STM 1995-04-27 ~ 2024-10-31 6676 / 7856 ========\n",
      "======= STN 2002-05-02 ~ 2024-11-07 6677 / 7856 ========\n",
      "======= STNE 2018-11-26 ~ 2024-11-12 6678 / 7856 ========\n",
      "======= STNG 2010-08-17 ~ 2024-10-29 6679 / 7856 ========\n",
      "======= STOK 2019-08-14 ~ 2024-11-05 6680 / 7856 ========\n"
     ]
    },
    {
     "name": "stderr",
     "output_type": "stream",
     "text": [
      "STON: No timezone found, symbol may be delisted\n"
     ]
    },
    {
     "name": "stdout",
     "output_type": "stream",
     "text": [
      "======= STON 2005-03-28 ~ 2018-06-29 6681 / 7856 ========\n"
     ]
    },
    {
     "name": "stderr",
     "output_type": "stream",
     "text": [
      "STOR: No timezone found, symbol may be delisted\n"
     ]
    },
    {
     "name": "stdout",
     "output_type": "stream",
     "text": [
      "======= STOR 2015-02-26 ~ 2023-05-02 6682 / 7856 ========\n",
      "STPC not exist\n",
      "======= STR 2018-11-08 ~ 2024-11-06 6684 / 7856 ========\n",
      "======= STRA 1997-04-29 ~ 2024-11-07 6685 / 7856 ========\n"
     ]
    },
    {
     "name": "stderr",
     "output_type": "stream",
     "text": [
      "STRC: No timezone found, symbol may be delisted\n"
     ]
    },
    {
     "name": "stdout",
     "output_type": "stream",
     "text": [
      "======= STRC 2021-11-09 ~ 2024-05-08 6686 / 7856 ========\n",
      "STRE not exist\n",
      "======= STRL 2006-05-11 ~ 2024-11-07 6688 / 7856 ========\n",
      "======= STRM 1996-08-22 ~ 2024-09-11 6689 / 7856 ========\n"
     ]
    },
    {
     "name": "stderr",
     "output_type": "stream",
     "text": [
      "STRN: No timezone found, symbol may be delisted\n"
     ]
    },
    {
     "name": "stdout",
     "output_type": "stream",
     "text": [
      "======= STRN 2022-03-28 ~ 2022-11-14 6690 / 7856 ========\n",
      "======= STRO 2018-11-14 ~ 2024-11-13 6691 / 7856 ========\n",
      "======= STRR 2004-11-01 ~ 2024-08-13 6692 / 7856 ========\n",
      "======= STRS 2009-11-06 ~ 2010-11-12 6693 / 7856 ========\n",
      "======= STRT 1995-04-25 ~ 2024-11-04 6694 / 7856 ========\n"
     ]
    },
    {
     "name": "stderr",
     "output_type": "stream",
     "text": [
      "STRY: No timezone found, symbol may be delisted\n"
     ]
    },
    {
     "name": "stdout",
     "output_type": "stream",
     "text": [
      "======= STRY 2022-08-09 ~ 2022-11-02 6695 / 7856 ========\n"
     ]
    },
    {
     "name": "stderr",
     "output_type": "stream",
     "text": [
      "STSA: No timezone found, symbol may be delisted\n"
     ]
    },
    {
     "name": "stdout",
     "output_type": "stream",
     "text": [
      "======= STSA 2019-11-12 ~ 2023-05-11 6696 / 7856 ========\n",
      "======= STSS 2023-08-14 ~ 2024-11-14 6697 / 7856 ========\n",
      "======= STT 1993-01-16 ~ 2024-10-15 6698 / 7856 ========\n",
      "======= STTK 2021-03-15 ~ 2024-11-14 6699 / 7856 ========\n",
      "======= STVN 2021-08-19 ~ 2024-11-05 6700 / 7856 ========\n",
      "======= STWD 2009-11-16 ~ 2024-11-06 6701 / 7856 ========\n",
      "STWO not exist\n",
      "======= STX 2003-05-15 ~ 2024-10-22 6703 / 7856 ========\n"
     ]
    },
    {
     "name": "stderr",
     "output_type": "stream",
     "text": [
      "STXB: No timezone found, symbol may be delisted\n"
     ]
    },
    {
     "name": "stdout",
     "output_type": "stream",
     "text": [
      "======= STXB 2018-07-24 ~ 2022-01-26 6704 / 7856 ========\n",
      "======= STZ 1993-04-14 ~ 2024-10-03 6705 / 7856 ========\n",
      "======= SU 1993-01-28 ~ 2024-11-12 6706 / 7856 ========\n",
      "SUAC not exist\n",
      "SUGP not exist\n",
      "======= SUI 2004-02-19 ~ 2024-11-06 6709 / 7856 ========\n",
      "======= SUM 2015-05-05 ~ 2024-10-30 6710 / 7856 ========\n"
     ]
    },
    {
     "name": "stderr",
     "output_type": "stream",
     "text": [
      "SUMO: No timezone found, symbol may be delisted\n"
     ]
    },
    {
     "name": "stdout",
     "output_type": "stream",
     "text": [
      "======= SUMO 2020-12-07 ~ 2023-05-25 6711 / 7856 ========\n"
     ]
    },
    {
     "name": "stderr",
     "output_type": "stream",
     "text": [
      "SUMR: No timezone found, symbol may be delisted\n"
     ]
    },
    {
     "name": "stdout",
     "output_type": "stream",
     "text": [
      "======= SUMR 2007-08-09 ~ 2019-05-07 6712 / 7856 ========\n",
      "======= SUN 2012-11-07 ~ 2024-11-06 6713 / 7856 ========\n"
     ]
    },
    {
     "name": "stderr",
     "output_type": "stream",
     "text": [
      "SUNE: No price data found, symbol may be delisted (1d 2024-11-14 -> 2024-11-14)\n"
     ]
    },
    {
     "name": "stdout",
     "output_type": "stream",
     "text": [
      "======= SUNE 2024-11-14 ~ 2024-11-14 6714 / 7856 ========\n",
      "SUNFU not exist\n"
     ]
    },
    {
     "name": "stderr",
     "output_type": "stream",
     "text": [
      "SUNL: No timezone found, symbol may be delisted\n"
     ]
    },
    {
     "name": "stdout",
     "output_type": "stream",
     "text": [
      "======= SUNL 2021-08-16 ~ 2023-08-09 6716 / 7856 ========\n",
      "======= SUNS 2011-05-03 ~ 2024-11-07 6717 / 7856 ========\n",
      "SUNSV not exist\n"
     ]
    },
    {
     "name": "stderr",
     "output_type": "stream",
     "text": [
      "SUNW: No timezone found, symbol may be delisted\n"
     ]
    },
    {
     "name": "stdout",
     "output_type": "stream",
     "text": [
      "======= SUNW 2015-08-06 ~ 2024-03-08 6719 / 7856 ========\n",
      "======= SUP 1993-02-16 ~ 2024-11-07 6720 / 7856 ========\n",
      "======= SUPN 2012-08-10 ~ 2024-11-04 6721 / 7856 ========\n",
      "======= SUPV 2016-08-08 ~ 2024-11-25 6722 / 7856 ========\n"
     ]
    },
    {
     "name": "stderr",
     "output_type": "stream",
     "text": [
      "SURF: No timezone found, symbol may be delisted\n"
     ]
    },
    {
     "name": "stdout",
     "output_type": "stream",
     "text": [
      "======= SURF 2018-05-29 ~ 2023-11-01 6723 / 7856 ========\n",
      "======= SURG 2022-03-24 ~ 2024-08-13 6724 / 7856 ========\n",
      "SUUN not exist\n",
      "======= SUZ 2022-02-09 ~ 2024-10-24 6726 / 7856 ========\n",
      "SV not exist\n",
      "======= SVA 2008-03-31 ~ 2023-01-30 6728 / 7856 ========\n",
      "SVAC not exist\n"
     ]
    },
    {
     "name": "stderr",
     "output_type": "stream",
     "text": [
      "SVBI: No timezone found, symbol may be delisted\n"
     ]
    },
    {
     "name": "stdout",
     "output_type": "stream",
     "text": [
      "======= SVBI 2009-04-13 ~ 2010-10-15 6730 / 7856 ========\n",
      "======= SVC 2004-02-10 ~ 2024-11-07 6731 / 7856 ========\n",
      "======= SVCO 2024-06-20 ~ 2024-08-07 6732 / 7856 ========\n",
      "SVFA not exist\n",
      "SVFB not exist\n",
      "SVFC not exist\n",
      "SVFD not exist\n",
      "SVII not exist\n",
      "SVMH not exist\n",
      "SVMHW not exist\n",
      "SVNA not exist\n",
      "SVNIU not exist\n",
      "SVOK not exist\n",
      "======= SVRA 2005-11-14 ~ 2024-08-12 6743 / 7856 ========\n",
      "SVRE not exist\n",
      "SVREW not exist\n",
      "SVSVU not exist\n",
      "======= SVV 2023-08-10 ~ 2024-11-07 6747 / 7856 ========\n",
      "======= SW 2020-07-29 ~ 2024-10-30 6748 / 7856 ========\n",
      "======= SWAG 2022-01-06 ~ 2023-05-15 6749 / 7856 ========\n"
     ]
    },
    {
     "name": "stderr",
     "output_type": "stream",
     "text": [
      "SWAV: No timezone found, symbol may be delisted\n"
     ]
    },
    {
     "name": "stdout",
     "output_type": "stream",
     "text": [
      "======= SWAV 2019-05-08 ~ 2024-05-06 6750 / 7856 ========\n",
      "======= SWBI 2005-09-14 ~ 2024-12-05 6751 / 7856 ========\n",
      "SWBK not exist\n"
     ]
    },
    {
     "name": "stderr",
     "output_type": "stream",
     "text": [
      "SWCH: No timezone found, symbol may be delisted\n"
     ]
    },
    {
     "name": "stdout",
     "output_type": "stream",
     "text": [
      "======= SWCH 2017-11-13 ~ 2022-11-09 6753 / 7856 ========\n",
      "SWET not exist\n",
      "======= SWI 2018-11-13 ~ 2024-10-31 6755 / 7856 ========\n",
      "======= SWIM 2021-06-03 ~ 2024-11-05 6756 / 7856 ========\n",
      "SWIN not exist\n"
     ]
    },
    {
     "name": "stderr",
     "output_type": "stream",
     "text": [
      "SWIR: No timezone found, symbol may be delisted\n"
     ]
    },
    {
     "name": "stdout",
     "output_type": "stream",
     "text": [
      "======= SWIR 1999-11-17 ~ 2022-11-10 6758 / 7856 ========\n",
      "======= SWK 1993-02-02 ~ 2024-10-29 6759 / 7856 ========\n",
      "======= SWKH 2000-01-20 ~ 2024-08-15 6760 / 7856 ========\n",
      "======= SWKS 1995-01-16 ~ 2024-11-12 6761 / 7856 ========\n"
     ]
    },
    {
     "name": "stderr",
     "output_type": "stream",
     "text": [
      "SWM: No timezone found, symbol may be delisted\n"
     ]
    },
    {
     "name": "stdout",
     "output_type": "stream",
     "text": [
      "======= SWM 1996-01-31 ~ 2022-05-04 6762 / 7856 ========\n"
     ]
    },
    {
     "name": "stderr",
     "output_type": "stream",
     "text": [
      "SWN: No timezone found, symbol may be delisted\n"
     ]
    },
    {
     "name": "stdout",
     "output_type": "stream",
     "text": [
      "======= SWN 1993-02-08 ~ 2024-08-01 6763 / 7856 ========\n",
      "SWSS not exist\n",
      "SWT not exist\n",
      "======= SWTX 2019-11-12 ~ 2024-11-12 6766 / 7856 ========\n"
     ]
    },
    {
     "name": "stderr",
     "output_type": "stream",
     "text": [
      "SWVL: No price data found, symbol may be delisted (1d 2022-08-17 -> 2022-08-17)\n"
     ]
    },
    {
     "name": "stdout",
     "output_type": "stream",
     "text": [
      "======= SWVL 2022-08-17 ~ 2022-08-17 6767 / 7856 ========\n",
      "======= SWX 1994-03-01 ~ 2024-11-06 6768 / 7856 ========\n",
      "======= SXC 2011-11-02 ~ 2024-10-31 6769 / 7856 ========\n",
      "======= SXI 1993-01-18 ~ 2024-10-29 6770 / 7856 ========\n",
      "======= SXT 1993-01-18 ~ 2024-10-25 6771 / 7856 ========\n",
      "SXTC not exist\n",
      "======= SXTP 2023-11-20 ~ 2024-11-14 6773 / 7856 ========\n",
      "======= SY 2019-12-05 ~ 2024-08-23 6774 / 7856 ========\n",
      "======= SYBT 1999-07-14 ~ 2024-10-23 6775 / 7856 ========\n",
      "======= SYBX 2015-11-13 ~ 2024-08-08 6776 / 7856 ========\n",
      "======= SYF 2014-10-17 ~ 2024-10-16 6777 / 7856 ========\n",
      "SYF-PB not exist\n",
      "======= SYK 1993-01-16 ~ 2024-10-29 6779 / 7856 ========\n"
     ]
    },
    {
     "name": "stderr",
     "output_type": "stream",
     "text": [
      "SYKE: No timezone found, symbol may be delisted\n"
     ]
    },
    {
     "name": "stdout",
     "output_type": "stream",
     "text": [
      "======= SYKE 1996-08-02 ~ 2021-08-09 6780 / 7856 ========\n",
      "======= SYM 2022-08-01 ~ 2024-11-18 6781 / 7856 ========\n",
      "======= SYNA 2002-04-25 ~ 2024-11-07 6782 / 7856 ========\n"
     ]
    },
    {
     "name": "stderr",
     "output_type": "stream",
     "text": [
      "SYNH: No timezone found, symbol may be delisted\n"
     ]
    },
    {
     "name": "stdout",
     "output_type": "stream",
     "text": [
      "======= SYNH 2015-02-24 ~ 2023-11-02 6783 / 7856 ========\n"
     ]
    },
    {
     "name": "stderr",
     "output_type": "stream",
     "text": [
      "SYNL: No timezone found, symbol may be delisted\n"
     ]
    },
    {
     "name": "stdout",
     "output_type": "stream",
     "text": [
      "======= SYNL 1993-04-20 ~ 2016-05-09 6784 / 7856 ========\n",
      "======= SYPR 1994-08-16 ~ 2020-03-19 6785 / 7856 ========\n",
      "======= SYRA 2024-03-25 ~ 2024-10-29 6786 / 7856 ========\n",
      "======= SYRE 2023-08-11 ~ 2024-11-07 6787 / 7856 ========\n",
      "======= SYRS 2016-08-15 ~ 2024-10-31 6788 / 7856 ========\n",
      "======= SYT 2023-12-30 ~ 2024-06-29 6789 / 7856 ========\n",
      "======= SYTA 2018-05-30 ~ 2024-11-14 6790 / 7856 ========\n",
      "SYX not exist\n",
      "======= SYY 1993-01-20 ~ 2024-10-29 6792 / 7856 ========\n",
      "SZZL not exist\n",
      "======= T 1993-01-22 ~ 2024-10-23 6794 / 7856 ========\n"
     ]
    },
    {
     "name": "stderr",
     "output_type": "stream",
     "text": [
      "TA: No timezone found, symbol may be delisted\n"
     ]
    },
    {
     "name": "stdout",
     "output_type": "stream",
     "text": [
      "======= TA 2007-11-13 ~ 2023-04-26 6795 / 7856 ========\n",
      "======= TAC 1995-05-12 ~ 2024-11-05 6796 / 7856 ========\n",
      "TACA not exist\n"
     ]
    },
    {
     "name": "stderr",
     "output_type": "stream",
     "text": [
      "TACO: No timezone found, symbol may be delisted\n"
     ]
    },
    {
     "name": "stdout",
     "output_type": "stream",
     "text": [
      "======= TACO 2015-07-27 ~ 2021-10-14 6798 / 7856 ========\n",
      "======= TACT 1997-02-13 ~ 2024-11-07 6799 / 7856 ========\n",
      "TAIT not exist\n",
      "======= TAK 2020-02-04 ~ 2024-10-31 6801 / 7856 ========\n",
      "======= TAL 2011-04-28 ~ 2024-10-24 6802 / 7856 ========\n",
      "======= TALK 2021-08-09 ~ 2024-10-29 6803 / 7856 ========\n",
      "======= TALO 2018-05-07 ~ 2024-11-11 6804 / 7856 ========\n"
     ]
    },
    {
     "name": "stderr",
     "output_type": "stream",
     "text": [
      "TALS: No timezone found, symbol may be delisted\n"
     ]
    },
    {
     "name": "stdout",
     "output_type": "stream",
     "text": [
      "======= TALS 2021-06-14 ~ 2023-08-14 6805 / 7856 ========\n",
      "TANH not exist\n",
      "TANNI not exist\n",
      "TANNZ not exist\n",
      "======= TAOP 2007-11-15 ~ 2011-08-10 6809 / 7856 ========\n",
      "======= TAP 1993-04-20 ~ 2024-11-07 6810 / 7856 ========\n",
      "======= TARA 2015-03-20 ~ 2024-08-06 6811 / 7856 ========\n"
     ]
    },
    {
     "name": "stderr",
     "output_type": "stream",
     "text": [
      "TARO: No timezone found, symbol may be delisted\n"
     ]
    },
    {
     "name": "stdout",
     "output_type": "stream",
     "text": [
      "======= TARO 1994-05-11 ~ 2024-05-20 6812 / 7856 ========\n",
      "======= TARS 2020-11-24 ~ 2024-08-08 6813 / 7856 ========\n",
      "======= TASK 2021-08-10 ~ 2024-11-07 6814 / 7856 ========\n"
     ]
    },
    {
     "name": "stderr",
     "output_type": "stream",
     "text": [
      "TAST: No timezone found, symbol may be delisted\n"
     ]
    },
    {
     "name": "stdout",
     "output_type": "stream",
     "text": [
      "======= TAST 2007-05-10 ~ 2024-05-09 6815 / 7856 ========\n",
      "======= TATT 1994-08-17 ~ 1994-12-01 6816 / 7856 ========\n",
      "TAVIU not exist\n",
      "TAYD not exist\n",
      "TBB not exist\n",
      "======= TBBB 2024-05-22 ~ 2024-08-21 6820 / 7856 ========\n",
      "======= TBBK 2004-07-23 ~ 2024-10-24 6821 / 7856 ========\n",
      "TBC not exist\n",
      "TBCP not exist\n",
      "======= TBI 1997-02-28 ~ 2024-11-04 6824 / 7856 ========\n",
      "======= TBIO 2018-08-08 ~ 2024-11-07 6825 / 7856 ========\n"
     ]
    },
    {
     "name": "stderr",
     "output_type": "stream",
     "text": [
      "TBK: No timezone found, symbol may be delisted\n"
     ]
    },
    {
     "name": "stdout",
     "output_type": "stream",
     "text": [
      "======= TBK 2014-12-17 ~ 2023-01-18 6826 / 7856 ========\n",
      "======= TBLA 2021-08-10 ~ 2024-11-07 6827 / 7856 ========\n",
      "======= TBLT 2020-03-30 ~ 2024-07-01 6828 / 7856 ========\n",
      "TBMC not exist\n",
      "TBN not exist\n",
      "======= TBNK 2009-11-13 ~ 2024-10-28 6831 / 7856 ========\n",
      "======= TBPH 2014-08-13 ~ 2024-08-05 6832 / 7856 ========\n",
      "======= TBRG 2019-08-06 ~ 2024-11-08 6833 / 7856 ========\n",
      "TBSA not exist\n",
      "======= TC 2019-03-26 ~ 2024-03-28 6835 / 7856 ========\n",
      "TCAC not exist\n",
      "TCBC not exist\n",
      "======= TCBI 2004-01-21 ~ 2024-10-17 6838 / 7856 ========\n",
      "======= TCBK 1994-08-02 ~ 2024-10-24 6839 / 7856 ========\n"
     ]
    },
    {
     "name": "stderr",
     "output_type": "stream",
     "text": [
      "TCBP: No price data found, symbol may be delisted (1d 2022-12-12 -> 2022-12-12)\n"
     ]
    },
    {
     "name": "stdout",
     "output_type": "stream",
     "text": [
      "======= TCBP 2022-12-12 ~ 2022-12-12 6840 / 7856 ========\n",
      "TCBS not exist\n",
      "======= TCBX 2022-01-27 ~ 2024-10-23 6842 / 7856 ========\n"
     ]
    },
    {
     "name": "stderr",
     "output_type": "stream",
     "text": [
      "TCDA: No timezone found, symbol may be delisted\n"
     ]
    },
    {
     "name": "stdout",
     "output_type": "stream",
     "text": [
      "======= TCDA 2018-08-08 ~ 2022-11-14 6843 / 7856 ========\n"
     ]
    },
    {
     "name": "stderr",
     "output_type": "stream",
     "text": [
      "TCFC: No timezone found, symbol may be delisted\n"
     ]
    },
    {
     "name": "stdout",
     "output_type": "stream",
     "text": [
      "======= TCFC 2013-10-21 ~ 2023-07-24 6844 / 7856 ========\n",
      "TCI not exist\n",
      "TCJH not exist\n",
      "======= TCMD 2016-09-07 ~ 2024-11-04 6847 / 7856 ========\n"
     ]
    },
    {
     "name": "stderr",
     "output_type": "stream",
     "text": [
      "TCN: No timezone found, symbol may be delisted\n"
     ]
    },
    {
     "name": "stdout",
     "output_type": "stream",
     "text": [
      "======= TCN 2010-08-04 ~ 2024-02-27 6848 / 7856 ========\n",
      "TCOA not exist\n",
      "======= TCOM 2004-02-23 ~ 2024-11-18 6850 / 7856 ========\n",
      "======= TCON 2015-03-10 ~ 2024-08-13 6851 / 7856 ========\n",
      "======= TCPC 2012-08-09 ~ 2024-11-06 6852 / 7856 ========\n"
     ]
    },
    {
     "name": "stderr",
     "output_type": "stream",
     "text": [
      "TCRR: No timezone found, symbol may be delisted\n"
     ]
    },
    {
     "name": "stdout",
     "output_type": "stream",
     "text": [
      "======= TCRR 2019-03-29 ~ 2023-05-11 6853 / 7856 ========\n",
      "======= TCRT 2007-02-13 ~ 2024-03-26 6854 / 7856 ========\n",
      "======= TCRX 2021-08-19 ~ 2024-08-12 6855 / 7856 ========\n",
      "======= TCS 2014-01-07 ~ 2024-10-29 6856 / 7856 ========\n",
      "======= TCTM 2023-03-31 ~ 2023-06-30 6857 / 7856 ========\n",
      "TCVA not exist\n",
      "======= TCX 1996-10-30 ~ 2022-11-03 6859 / 7856 ========\n",
      "======= TD 1993-02-26 ~ 2024-12-05 6860 / 7856 ========\n",
      "TDA not exist\n",
      "TDAC not exist\n",
      "TDACW not exist\n",
      "======= TDC 2007-10-30 ~ 2024-11-04 6864 / 7856 ========\n"
     ]
    },
    {
     "name": "stderr",
     "output_type": "stream",
     "text": [
      "TDCX: No timezone found, symbol may be delisted\n"
     ]
    },
    {
     "name": "stdout",
     "output_type": "stream",
     "text": [
      "======= TDCX 2022-03-09 ~ 2024-03-06 6865 / 7856 ========\n",
      "======= TDG 2006-07-31 ~ 2024-11-07 6866 / 7856 ========\n",
      "TDI not exist\n",
      "======= TDOC 2015-08-12 ~ 2024-10-30 6868 / 7856 ========\n",
      "======= TDS 1993-02-22 ~ 2024-11-01 6869 / 7856 ========\n",
      "TDTH not exist\n",
      "======= TDUP 2021-05-12 ~ 2024-11-04 6871 / 7856 ========\n",
      "======= TDW 1993-01-19 ~ 2024-11-08 6872 / 7856 ========\n",
      "TDW-WTA not exist\n",
      "TDW-WTB not exist\n",
      "======= TDY 2000-04-27 ~ 2024-10-23 6875 / 7856 ========\n",
      "======= TEAM 2016-02-04 ~ 2024-10-31 6876 / 7856 ========\n",
      "======= TECH 1996-08-15 ~ 2024-10-30 6877 / 7856 ========\n",
      "======= TECK 1993-02-03 ~ 2024-10-24 6878 / 7856 ========\n",
      "TECTP not exist\n",
      "======= TECX 2024-05-09 ~ 2024-11-07 6880 / 7856 ========\n"
     ]
    },
    {
     "name": "stderr",
     "output_type": "stream",
     "text": [
      "TEDU: No data found, symbol may be delisted\n"
     ]
    },
    {
     "name": "stdout",
     "output_type": "stream",
     "text": [
      "======= TEDU 2014-05-19 ~ 2023-08-28 6881 / 7856 ========\n",
      "======= TEF 1993-09-01 ~ 2024-11-07 6882 / 7856 ========\n",
      "TEKK not exist\n",
      "======= TEL 2007-08-08 ~ 2024-10-30 6884 / 7856 ========\n",
      "======= TELA 2020-03-27 ~ 2024-11-07 6885 / 7856 ========\n"
     ]
    },
    {
     "name": "stderr",
     "output_type": "stream",
     "text": [
      "TELO: No price data found, symbol may be delisted (1d 2024-11-12 -> 2024-11-12)\n"
     ]
    },
    {
     "name": "stdout",
     "output_type": "stream",
     "text": [
      "======= TELO 2024-11-12 ~ 2024-11-12 6886 / 7856 ========\n",
      "======= TEM 2024-08-06 ~ 2024-11-04 6887 / 7856 ========\n",
      "======= TEN 2000-01-25 ~ 2024-11-26 6888 / 7856 ========\n",
      "======= TENB 2018-09-05 ~ 2024-10-30 6889 / 7856 ========\n",
      "TENK not exist\n",
      "======= TENX 2009-12-11 ~ 2024-08-13 6891 / 7856 ========\n",
      "======= TEO 1994-05-09 ~ 2024-11-12 6892 / 7856 ========\n",
      "======= TER 1993-01-29 ~ 2024-10-23 6893 / 7856 ========\n",
      "======= TERN 2021-03-30 ~ 2024-08-05 6894 / 7856 ========\n"
     ]
    },
    {
     "name": "stderr",
     "output_type": "stream",
     "text": [
      "TESS: No timezone found, symbol may be delisted\n"
     ]
    },
    {
     "name": "stdout",
     "output_type": "stream",
     "text": [
      "======= TESS 1995-04-26 ~ 2023-07-25 6895 / 7856 ========\n",
      "TETC not exist\n",
      "TETE not exist\n",
      "======= TEVA 1993-03-01 ~ 2024-11-06 6898 / 7856 ========\n",
      "======= TEX 1993-05-14 ~ 2024-10-30 6899 / 7856 ========\n",
      "======= TFC 1993-01-13 ~ 2024-10-17 6900 / 7856 ========\n",
      "======= TFFP 2020-05-14 ~ 2024-11-20 6901 / 7856 ========\n",
      "======= TFII 2005-02-01 ~ 2024-10-21 6902 / 7856 ========\n",
      "======= TFIN 2014-12-17 ~ 2024-10-16 6903 / 7856 ========\n",
      "======= TFPM 2021-08-10 ~ 2024-11-05 6904 / 7856 ========\n",
      "======= TFSL 2008-02-11 ~ 2024-10-30 6905 / 7856 ========\n",
      "======= TFX 1993-02-12 ~ 2024-10-31 6906 / 7856 ========\n",
      "======= TG 1993-01-18 ~ 2017-02-22 6907 / 7856 ========\n"
     ]
    },
    {
     "name": "stderr",
     "output_type": "stream",
     "text": [
      "TGA: No timezone found, symbol may be delisted\n"
     ]
    },
    {
     "name": "stdout",
     "output_type": "stream",
     "text": [
      "======= TGA 2006-03-09 ~ 2018-08-14 6908 / 7856 ========\n",
      "TGAA not exist\n"
     ]
    },
    {
     "name": "stderr",
     "output_type": "stream",
     "text": [
      "TGAN: No timezone found, symbol may be delisted\n"
     ]
    },
    {
     "name": "stdout",
     "output_type": "stream",
     "text": [
      "======= TGAN 2020-11-10 ~ 2024-02-28 6910 / 7856 ========\n"
     ]
    },
    {
     "name": "stderr",
     "output_type": "stream",
     "text": [
      "TGH: No timezone found, symbol may be delisted\n"
     ]
    },
    {
     "name": "stdout",
     "output_type": "stream",
     "text": [
      "======= TGH 2008-05-05 ~ 2024-02-13 6911 / 7856 ========\n",
      "======= TGI 1997-01-29 ~ 2024-11-12 6912 / 7856 ========\n",
      "======= TGL 2023-09-28 ~ 2024-02-14 6913 / 7856 ========\n",
      "======= TGLS 2015-05-06 ~ 2024-11-07 6914 / 7856 ========\n",
      "======= TGNA 1993-01-27 ~ 2024-11-07 6915 / 7856 ========\n"
     ]
    },
    {
     "name": "stderr",
     "output_type": "stream",
     "text": [
      "TGP: No timezone found, symbol may be delisted\n"
     ]
    },
    {
     "name": "stdout",
     "output_type": "stream",
     "text": [
      "======= TGP 2005-07-27 ~ 2021-11-04 6916 / 7856 ========\n",
      "TGR not exist\n",
      "======= TGS 1995-02-16 ~ 2024-11-04 6918 / 7856 ========\n",
      "======= TGT 1993-03-12 ~ 2024-11-20 6919 / 7856 ========\n",
      "======= TGTX 2006-05-15 ~ 2024-11-04 6920 / 7856 ========\n",
      "TGVC not exist\n",
      "======= TH 2019-08-13 ~ 2024-08-07 6922 / 7856 ========\n",
      "THAC not exist\n",
      "======= THAR 2023-08-11 ~ 2024-03-21 6924 / 7856 ========\n",
      "======= THC 1993-03-24 ~ 2024-10-29 6925 / 7856 ========\n",
      "THCA not exist\n",
      "THCB not exist\n",
      "THCH not exist\n",
      "THCP not exist\n",
      "======= THFF 1996-10-29 ~ 2024-10-22 6930 / 7856 ========\n",
      "======= THG 1996-05-03 ~ 2024-10-30 6931 / 7856 ========\n",
      "THIR not exist\n",
      "THMA not exist\n",
      "======= THO 1996-09-11 ~ 2024-12-04 6934 / 7856 ========\n",
      "======= THR 2011-08-04 ~ 2024-11-07 6935 / 7856 ========\n",
      "======= THRD 2022-11-09 ~ 2024-11-07 6936 / 7856 ========\n",
      "======= THRM 2000-08-11 ~ 2024-10-30 6937 / 7856 ========\n"
     ]
    },
    {
     "name": "stderr",
     "output_type": "stream",
     "text": [
      "THRN: No timezone found, symbol may be delisted\n"
     ]
    },
    {
     "name": "stdout",
     "output_type": "stream",
     "text": [
      "======= THRN 2021-11-10 ~ 2023-11-08 6938 / 7856 ========\n"
     ]
    },
    {
     "name": "stderr",
     "output_type": "stream",
     "text": [
      "THRX: No timezone found, symbol may be delisted\n"
     ]
    },
    {
     "name": "stdout",
     "output_type": "stream",
     "text": [
      "======= THRX 2021-11-15 ~ 2024-03-14 6939 / 7856 ========\n",
      "======= THRY 2021-03-25 ~ 2024-11-07 6940 / 7856 ========\n",
      "======= THS 2005-11-03 ~ 2024-08-05 6941 / 7856 ========\n",
      "======= THTX 2000-10-15 ~ 2024-10-10 6942 / 7856 ========\n"
     ]
    },
    {
     "name": "stderr",
     "output_type": "stream",
     "text": [
      "TIG: No timezone found, symbol may be delisted\n"
     ]
    },
    {
     "name": "stdout",
     "output_type": "stream",
     "text": [
      "======= TIG 2020-11-12 ~ 2023-05-03 6943 / 7856 ========\n",
      "======= TIGO 1997-08-06 ~ 2024-11-07 6944 / 7856 ========\n",
      "TIGOR not exist\n",
      "======= TIGR 2021-09-10 ~ 2024-11-12 6946 / 7856 ========\n",
      "======= TIL 2021-05-13 ~ 2024-11-13 6947 / 7856 ========\n",
      "======= TILE 1993-02-23 ~ 2024-11-01 6948 / 7856 ========\n",
      "======= TIMB 2000-06-16 ~ 2024-11-05 6949 / 7856 ========\n",
      "TINV not exist\n",
      "======= TIO 2013-11-14 ~ 2023-08-31 6951 / 7856 ========\n",
      "TIOA not exist\n",
      "TIPT not exist\n",
      "TIRX not exist\n",
      "======= TISI 2002-03-27 ~ 2021-11-12 6955 / 7856 ========\n",
      "======= TITN 2008-04-28 ~ 2024-08-29 6956 / 7856 ========\n",
      "======= TIVC 2022-08-15 ~ 2024-11-14 6957 / 7856 ========\n",
      "======= TIXT 2021-05-07 ~ 2024-11-08 6958 / 7856 ========\n",
      "======= TJX 1993-11-16 ~ 2024-11-20 6959 / 7856 ========\n",
      "======= TK 1995-11-01 ~ 2021-02-25 6960 / 7856 ========\n",
      "======= TKC 2004-06-10 ~ 2024-09-12 6961 / 7856 ========\n",
      "TKLF not exist\n",
      "======= TKNO 2021-08-11 ~ 2024-11-07 6963 / 7856 ========\n",
      "======= TKO 2023-08-02 ~ 2024-11-06 6964 / 7856 ========\n",
      "======= TKR 1993-04-20 ~ 2024-11-05 6965 / 7856 ========\n"
     ]
    },
    {
     "name": "stderr",
     "output_type": "stream",
     "text": [
      "TLC: No timezone found, symbol may be delisted\n"
     ]
    },
    {
     "name": "stdout",
     "output_type": "stream",
     "text": [
      "======= TLC 2019-05-29 ~ 2021-08-12 6966 / 7856 ========\n",
      "======= TLF 2002-04-25 ~ 2022-11-14 6967 / 7856 ========\n",
      "TLGA not exist\n"
     ]
    },
    {
     "name": "stderr",
     "output_type": "stream",
     "text": [
      "TLGT: No timezone found, symbol may be delisted\n"
     ]
    },
    {
     "name": "stdout",
     "output_type": "stream",
     "text": [
      "======= TLGT 1994-11-14 ~ 2021-08-16 6969 / 7856 ========\n",
      "TLGY not exist\n",
      "======= TLIS 2021-03-30 ~ 2023-08-10 6971 / 7856 ========\n",
      "======= TLK 2022-04-19 ~ 2024-10-30 6972 / 7856 ========\n"
     ]
    },
    {
     "name": "stderr",
     "output_type": "stream",
     "text": [
      "TLMD: No timezone found, symbol may be delisted\n"
     ]
    },
    {
     "name": "stdout",
     "output_type": "stream",
     "text": [
      "======= TLMD 2021-05-13 ~ 2022-03-30 6973 / 7856 ========\n",
      "======= TLN 2024-05-13 ~ 2024-11-14 6974 / 7856 ========\n"
     ]
    },
    {
     "name": "stderr",
     "output_type": "stream",
     "text": [
      "TLND: No timezone found, symbol may be delisted\n"
     ]
    },
    {
     "name": "stdout",
     "output_type": "stream",
     "text": [
      "======= TLND 2016-08-25 ~ 2021-07-28 6975 / 7856 ========\n",
      "======= TLPH 2021-12-31 ~ 2024-11-13 6976 / 7856 ========\n",
      "======= TLRY 2018-08-28 ~ 2024-10-10 6977 / 7856 ========\n",
      "======= TLS 2021-05-17 ~ 2024-08-09 6978 / 7856 ========\n",
      "TLSA not exist\n",
      "======= TLSI 2024-04-01 ~ 2024-11-14 6980 / 7856 ========\n",
      "======= TLYS 2012-05-30 ~ 2024-09-05 6981 / 7856 ========\n",
      "======= TM 2004-05-11 ~ 2024-11-06 6982 / 7856 ========\n",
      "TMAC not exist\n",
      "======= TMC 2021-11-11 ~ 2024-08-14 6984 / 7856 ========\n",
      "======= TMCI 2021-05-25 ~ 2024-11-05 6985 / 7856 ========\n"
     ]
    },
    {
     "name": "stderr",
     "output_type": "stream",
     "text": [
      "TMDI: No timezone found, symbol may be delisted\n"
     ]
    },
    {
     "name": "stdout",
     "output_type": "stream",
     "text": [
      "======= TMDI 2017-03-21 ~ 2022-08-11 6986 / 7856 ========\n",
      "======= TMDX 2019-06-12 ~ 2024-10-28 6987 / 7856 ========\n",
      "======= TME 2019-03-19 ~ 2024-11-11 6988 / 7856 ========\n",
      "======= TMHC 2013-08-13 ~ 2024-10-23 6989 / 7856 ========\n",
      "TMKR not exist\n",
      "======= TMO 1993-05-14 ~ 2024-10-23 6991 / 7856 ========\n",
      "TMPM not exist\n"
     ]
    },
    {
     "name": "stderr",
     "output_type": "stream",
     "text": [
      "TMPO: No timezone found, symbol may be delisted\n"
     ]
    },
    {
     "name": "stdout",
     "output_type": "stream",
     "text": [
      "======= TMPO 2023-03-17 ~ 2023-12-15 6993 / 7856 ========\n",
      "TMSRW not exist\n"
     ]
    },
    {
     "name": "stderr",
     "output_type": "stream",
     "text": [
      "TMST: No data found, symbol may be delisted\n"
     ]
    },
    {
     "name": "stdout",
     "output_type": "stream",
     "text": [
      "======= TMST 2014-07-31 ~ 2024-02-27 6995 / 7856 ========\n",
      "TMTC not exist\n",
      "TMTS not exist\n",
      "======= TMUS 2007-05-14 ~ 2024-10-23 6998 / 7856 ========\n"
     ]
    },
    {
     "name": "stderr",
     "output_type": "stream",
     "text": [
      "TMX: No timezone found, symbol may be delisted\n"
     ]
    },
    {
     "name": "stdout",
     "output_type": "stream",
     "text": [
      "======= TMX 2014-10-30 ~ 2022-08-05 6999 / 7856 ========\n",
      "======= TNC 1993-02-12 ~ 2024-10-31 7000 / 7856 ========\n",
      "======= TNDM 2014-05-06 ~ 2024-11-06 7001 / 7856 ========\n",
      "======= TNET 2014-08-04 ~ 2024-10-25 7002 / 7856 ========\n",
      "TNFA not exist\n",
      "======= TNGX 2021-11-09 ~ 2024-11-06 7004 / 7856 ========\n",
      "======= TNK 2008-02-27 ~ 2024-10-30 7005 / 7856 ========\n",
      "======= TNL 2006-08-09 ~ 2024-10-23 7006 / 7856 ========\n",
      "======= TNON 2022-08-11 ~ 2024-11-13 7007 / 7856 ========\n"
     ]
    },
    {
     "name": "stderr",
     "output_type": "stream",
     "text": [
      "TNP: No timezone found, symbol may be delisted\n"
     ]
    },
    {
     "name": "stdout",
     "output_type": "stream",
     "text": [
      "======= TNP 2003-02-27 ~ 2024-06-20 7008 / 7856 ========\n",
      "======= TNXP 2013-11-13 ~ 2024-11-12 7009 / 7856 ========\n",
      "======= TNYA 2021-09-08 ~ 2024-11-06 7010 / 7856 ========\n",
      "TOAC not exist\n",
      "======= TOI 2022-11-09 ~ 2024-08-13 7012 / 7856 ========\n",
      "======= TOL 1993-02-23 ~ 2024-08-20 7013 / 7856 ========\n",
      "======= TOMZ 2022-03-29 ~ 2024-10-30 7014 / 7856 ========\n",
      "TOP not exist\n",
      "======= TOPS 2004-11-02 ~ 2024-03-29 7016 / 7856 ========\n",
      "TORO not exist\n",
      "======= TOST 2021-11-09 ~ 2024-11-07 7018 / 7856 ========\n",
      "======= TOUR 2014-08-12 ~ 2020-04-09 7019 / 7856 ========\n",
      "======= TOVX 1997-03-27 ~ 2024-05-07 7020 / 7856 ========\n",
      "======= TOWN 2010-01-28 ~ 2024-10-23 7021 / 7856 ========\n",
      "TOYO not exist\n",
      "======= TPB 2016-06-15 ~ 2024-11-07 7023 / 7856 ========\n",
      "TPBA not exist\n",
      "======= TPC 1993-05-14 ~ 2024-11-06 7025 / 7856 ========\n"
     ]
    },
    {
     "name": "stderr",
     "output_type": "stream",
     "text": [
      "TPCO: No timezone found, symbol may be delisted\n"
     ]
    },
    {
     "name": "stdout",
     "output_type": "stream",
     "text": [
      "======= TPCO 2015-03-04 ~ 2021-03-04 7026 / 7856 ========\n",
      "======= TPG 2022-05-10 ~ 2024-11-04 7027 / 7856 ========\n",
      "TPGXL not exist\n",
      "TPGY not exist\n",
      "======= TPH 2013-05-14 ~ 2024-10-24 7030 / 7856 ========\n",
      "======= TPIC 2016-11-09 ~ 2024-11-07 7031 / 7856 ========\n",
      "======= TPL 2020-01-30 ~ 2024-11-06 7032 / 7856 ========\n",
      "======= TPR 2001-01-22 ~ 2024-11-07 7033 / 7856 ========\n",
      "======= TPST 2013-05-15 ~ 2024-08-08 7034 / 7856 ========\n"
     ]
    },
    {
     "name": "stderr",
     "output_type": "stream",
     "text": [
      "TPTX: No timezone found, symbol may be delisted\n"
     ]
    },
    {
     "name": "stdout",
     "output_type": "stream",
     "text": [
      "======= TPTX 2019-05-31 ~ 2022-08-08 7035 / 7856 ========\n",
      "======= TPVG 2014-05-13 ~ 2024-11-06 7036 / 7856 ========\n",
      "======= TPX 2004-02-12 ~ 2024-11-07 7037 / 7856 ========\n",
      "======= TR 1993-02-17 ~ 2011-05-11 7038 / 7856 ========\n",
      "======= TRAK 2015-02-05 ~ 2024-09-30 7039 / 7856 ========\n",
      "TRAQ not exist\n",
      "======= TRAW 2023-11-14 ~ 2024-05-15 7041 / 7856 ========\n",
      "======= TRC 1998-11-04 ~ 2024-11-07 7042 / 7856 ========\n",
      "TRCA not exist\n",
      "======= TRDA 2021-12-09 ~ 2024-11-05 7044 / 7856 ========\n",
      "TREB not exist\n"
     ]
    },
    {
     "name": "stderr",
     "output_type": "stream",
     "text": [
      "TREC: No timezone found, symbol may be delisted\n"
     ]
    },
    {
     "name": "stdout",
     "output_type": "stream",
     "text": [
      "======= TREC 2011-11-03 ~ 2020-11-03 7046 / 7856 ========\n",
      "======= TREE 2008-10-30 ~ 2024-10-31 7047 / 7856 ========\n",
      "======= TREX 1999-08-09 ~ 2024-10-28 7048 / 7856 ========\n",
      "======= TRGP 2011-05-05 ~ 2024-11-05 7049 / 7856 ========\n"
     ]
    },
    {
     "name": "stderr",
     "output_type": "stream",
     "text": [
      "TRHC: No timezone found, symbol may be delisted\n"
     ]
    },
    {
     "name": "stdout",
     "output_type": "stream",
     "text": [
      "======= TRHC 2016-11-09 ~ 2023-11-02 7050 / 7856 ========\n",
      "======= TRI 1993-03-17 ~ 2024-11-05 7051 / 7856 ========\n",
      "======= TRIB 1999-02-11 ~ 2024-11-15 7052 / 7856 ========\n"
     ]
    },
    {
     "name": "stderr",
     "output_type": "stream",
     "text": [
      "TRIL: No timezone found, symbol may be delisted\n"
     ]
    },
    {
     "name": "stdout",
     "output_type": "stream",
     "text": [
      "======= TRIL 2015-03-22 ~ 2021-11-12 7053 / 7856 ========\n",
      "======= TRIN 2021-03-04 ~ 2024-10-30 7054 / 7856 ========\n",
      "TRINI not exist\n",
      "TRINZ not exist\n",
      "======= TRIP 2012-02-08 ~ 2024-11-06 7057 / 7856 ========\n",
      "TRIS not exist\n",
      "TRIT not exist\n",
      "TRKA not exist\n",
      "======= TRMB 1993-10-22 ~ 2024-11-06 7061 / 7856 ========\n",
      "======= TRMD 2015-11-10 ~ 2024-11-07 7062 / 7856 ========\n",
      "======= TRMK 1993-01-22 ~ 2024-10-22 7063 / 7856 ========\n",
      "======= TRML 2023-11-14 ~ 2024-11-07 7064 / 7856 ========\n"
     ]
    },
    {
     "name": "stderr",
     "output_type": "stream",
     "text": [
      "TRMR: No timezone found, symbol may be delisted\n"
     ]
    },
    {
     "name": "stdout",
     "output_type": "stream",
     "text": [
      "======= TRMR 2021-08-19 ~ 2023-11-22 7065 / 7856 ========\n"
     ]
    },
    {
     "name": "stderr",
     "output_type": "stream",
     "text": [
      "TRMT: No timezone found, symbol may be delisted\n"
     ]
    },
    {
     "name": "stdout",
     "output_type": "stream",
     "text": [
      "======= TRMT 2017-11-14 ~ 2021-07-27 7066 / 7856 ========\n",
      "======= TRN 1993-01-19 ~ 2024-10-31 7067 / 7856 ========\n"
     ]
    },
    {
     "name": "stderr",
     "output_type": "stream",
     "text": [
      "TRNEU: Period '1mo' is invalid, must be one of ['1d', '5d']\n"
     ]
    },
    {
     "name": "stdout",
     "output_type": "stream",
     "text": [
      "======= TRNEU 2019-03-30 ~ 2020-03-30 7068 / 7856 ========\n",
      "======= TRNO 2010-05-14 ~ 2024-11-06 7069 / 7856 ========\n",
      "TRNR not exist\n",
      "======= TRNS 2013-05-21 ~ 2024-10-28 7071 / 7856 ========\n",
      "TRON not exist\n",
      "TROO not exist\n",
      "======= TROW 1993-01-28 ~ 2024-11-01 7074 / 7856 ========\n",
      "======= TROX 2006-01-24 ~ 2024-10-24 7075 / 7856 ========\n",
      "======= TRP 1993-01-20 ~ 2024-11-07 7076 / 7856 ========\n"
     ]
    },
    {
     "name": "stderr",
     "output_type": "stream",
     "text": [
      "TRQ: No timezone found, symbol may be delisted\n"
     ]
    },
    {
     "name": "stdout",
     "output_type": "stream",
     "text": [
      "======= TRQ 1999-12-07 ~ 2022-11-14 7077 / 7856 ========\n",
      "======= TRS 2007-08-02 ~ 2024-11-04 7078 / 7856 ========\n",
      "TRSG not exist\n",
      "======= TRST 1994-10-18 ~ 2024-10-21 7080 / 7856 ========\n",
      "TRTL not exist\n"
     ]
    },
    {
     "name": "stderr",
     "output_type": "stream",
     "text": [
      "TRTN: No timezone found, symbol may be delisted\n"
     ]
    },
    {
     "name": "stdout",
     "output_type": "stream",
     "text": [
      "======= TRTN 2006-05-08 ~ 2023-11-07 7082 / 7856 ========\n",
      "======= TRTX 2017-11-06 ~ 2024-10-29 7083 / 7856 ========\n",
      "======= TRU 2015-10-27 ~ 2024-10-23 7084 / 7856 ========\n",
      "======= TRUE 2014-08-07 ~ 2024-11-07 7085 / 7856 ========\n",
      "TRUG not exist\n",
      "======= TRUP 2014-10-30 ~ 2024-10-30 7087 / 7856 ========\n",
      "======= TRV 1993-01-28 ~ 2024-10-17 7088 / 7856 ========\n",
      "======= TRVG 2017-02-24 ~ 2024-11-05 7089 / 7856 ========\n",
      "======= TRVI 2019-08-12 ~ 2024-11-06 7090 / 7856 ========\n",
      "======= TRVN 2014-03-20 ~ 2024-11-07 7091 / 7856 ========\n",
      "======= TS 2003-05-07 ~ 2024-11-06 7092 / 7856 ========\n",
      "======= TSAT 1996-10-28 ~ 2024-08-14 7093 / 7856 ========\n",
      "======= TSBK 1999-01-25 ~ 2015-01-26 7094 / 7856 ========\n",
      "======= TSBX 2023-09-01 ~ 2024-11-12 7095 / 7856 ========\n"
     ]
    },
    {
     "name": "stderr",
     "output_type": "stream",
     "text": [
      "TSC: No timezone found, symbol may be delisted\n"
     ]
    },
    {
     "name": "stdout",
     "output_type": "stream",
     "text": [
      "======= TSC 2013-07-24 ~ 2022-04-27 7096 / 7856 ========\n",
      "======= TSCO 1994-07-27 ~ 2024-10-24 7097 / 7856 ========\n",
      "======= TSE 2014-08-06 ~ 2024-11-06 7098 / 7856 ========\n",
      "======= TSEM 1995-05-01 ~ 2024-07-24 7099 / 7856 ========\n",
      "======= TSHA 2020-11-12 ~ 2024-08-12 7100 / 7856 ========\n",
      "TSIB not exist\n",
      "======= TSLA 2010-11-09 ~ 2024-10-23 7102 / 7856 ========\n",
      "======= TSLX 2014-05-08 ~ 2024-11-05 7103 / 7856 ========\n",
      "======= TSM 1998-03-11 ~ 2024-10-17 7104 / 7856 ========\n",
      "======= TSN 1993-02-01 ~ 2024-11-12 7105 / 7856 ========\n"
     ]
    },
    {
     "name": "stderr",
     "output_type": "stream",
     "text": [
      "TSP: No timezone found, symbol may be delisted\n"
     ]
    },
    {
     "name": "stdout",
     "output_type": "stream",
     "text": [
      "======= TSP 2021-05-10 ~ 2023-11-08 7106 / 7856 ========\n",
      "TSPQ not exist\n",
      "======= TSQ 2014-11-06 ~ 2024-11-07 7108 / 7856 ========\n"
     ]
    },
    {
     "name": "stderr",
     "output_type": "stream",
     "text": [
      "TSRI: No data found, symbol may be delisted\n"
     ]
    },
    {
     "name": "stdout",
     "output_type": "stream",
     "text": [
      "======= TSRI 1999-04-05 ~ 1999-07-26 7109 / 7856 ========\n",
      "======= TSVT 2021-12-01 ~ 2024-11-12 7110 / 7856 ========\n",
      "TSVTV not exist\n",
      "======= TT 1993-01-27 ~ 2024-10-30 7112 / 7856 ========\n",
      "======= TTC 1993-05-21 ~ 2024-09-05 7113 / 7856 ========\n"
     ]
    },
    {
     "name": "stderr",
     "output_type": "stream",
     "text": [
      "TTCF: No timezone found, symbol may be delisted\n"
     ]
    },
    {
     "name": "stdout",
     "output_type": "stream",
     "text": [
      "======= TTCF 2021-03-10 ~ 2023-08-14 7114 / 7856 ========\n",
      "======= TTD 2016-11-10 ~ 2024-11-07 7115 / 7856 ========\n",
      "======= TTE 1995-02-01 ~ 2024-10-31 7116 / 7856 ========\n",
      "======= TTEC 1996-10-10 ~ 2024-11-06 7117 / 7856 ========\n",
      "======= TTEK 1993-05-19 ~ 2024-11-13 7118 / 7856 ========\n",
      "======= TTGT 2007-08-07 ~ 2024-08-08 7119 / 7856 ========\n",
      "======= TTI 1993-07-23 ~ 2024-10-29 7120 / 7856 ========\n"
     ]
    },
    {
     "name": "stderr",
     "output_type": "stream",
     "text": [
      "TTM: No timezone found, symbol may be delisted\n"
     ]
    },
    {
     "name": "stdout",
     "output_type": "stream",
     "text": [
      "======= TTM 2013-05-29 ~ 2014-02-10 7121 / 7856 ========\n",
      "======= TTMI 2000-10-30 ~ 2024-10-30 7122 / 7856 ========\n",
      "======= TTNP 1998-05-18 ~ 2021-11-15 7123 / 7856 ========\n",
      "======= TTOO 2014-11-04 ~ 2024-07-29 7124 / 7856 ========\n",
      "======= TTSH 2012-11-01 ~ 2023-11-02 7125 / 7856 ========\n",
      "======= TTWO 1999-08-25 ~ 2024-11-06 7126 / 7856 ========\n",
      "======= TU 1993-10-29 ~ 2024-11-08 7127 / 7856 ========\n"
     ]
    },
    {
     "name": "stderr",
     "output_type": "stream",
     "text": [
      "TUEM: No timezone found, symbol may be delisted\n"
     ]
    },
    {
     "name": "stdout",
     "output_type": "stream",
     "text": [
      "======= TUEM 2021-04-29 ~ 2022-09-23 7128 / 7856 ========\n"
     ]
    },
    {
     "name": "stderr",
     "output_type": "stream",
     "text": [
      "TUFN: No timezone found, symbol may be delisted\n"
     ]
    },
    {
     "name": "stdout",
     "output_type": "stream",
     "text": [
      "======= TUFN 2019-06-13 ~ 2022-08-18 7129 / 7856 ========\n",
      "TUGC not exist\n"
     ]
    },
    {
     "name": "stderr",
     "output_type": "stream",
     "text": [
      "TUP: No data found, symbol may be delisted\n"
     ]
    },
    {
     "name": "stdout",
     "output_type": "stream",
     "text": [
      "======= TUP 1996-07-22 ~ 2023-11-22 7131 / 7856 ========\n",
      "TURB not exist\n",
      "======= TURN 2012-11-08 ~ 2015-11-09 7133 / 7856 ========\n",
      "======= TUSK 2017-02-22 ~ 2024-11-01 7134 / 7856 ========\n",
      "======= TUYA 2021-08-18 ~ 2024-11-18 7135 / 7856 ========\n",
      "======= TV 1994-07-28 ~ 2024-10-24 7136 / 7856 ========\n",
      "TVAC not exist\n",
      "TVC not exist\n",
      "TVE not exist\n",
      "TVGN not exist\n",
      "======= TVTX 2013-11-18 ~ 2024-10-31 7141 / 7856 ========\n"
     ]
    },
    {
     "name": "stderr",
     "output_type": "stream",
     "text": [
      "TVTY: No timezone found, symbol may be delisted\n"
     ]
    },
    {
     "name": "stdout",
     "output_type": "stream",
     "text": [
      "======= TVTY 1993-06-21 ~ 2022-05-05 7142 / 7856 ========\n",
      "======= TW 2019-05-09 ~ 2024-10-30 7143 / 7856 ========\n",
      "TWCB not exist\n",
      "TWCGU not exist\n",
      "TWCT not exist\n",
      "TWFG not exist\n",
      "TWG not exist\n",
      "======= TWI 1993-07-28 ~ 2024-10-30 7149 / 7856 ========\n",
      "======= TWIN 1993-01-18 ~ 2022-11-04 7150 / 7856 ========\n",
      "======= TWKS 2021-11-15 ~ 2024-11-12 7151 / 7856 ========\n",
      "======= TWLO 2016-08-08 ~ 2024-10-30 7152 / 7856 ========\n",
      "TWLV not exist\n",
      "TWND not exist\n",
      "TWNI not exist\n"
     ]
    },
    {
     "name": "stderr",
     "output_type": "stream",
     "text": [
      "TWNK: No data found, symbol may be delisted\n"
     ]
    },
    {
     "name": "stdout",
     "output_type": "stream",
     "text": [
      "======= TWNK 2016-11-10 ~ 2023-11-08 7156 / 7856 ========\n",
      "======= TWO 2010-11-08 ~ 2024-10-28 7157 / 7856 ========\n",
      "TWOA not exist\n"
     ]
    },
    {
     "name": "stderr",
     "output_type": "stream",
     "text": [
      "TWOU: No timezone found, symbol may be delisted\n"
     ]
    },
    {
     "name": "stdout",
     "output_type": "stream",
     "text": [
      "======= TWOU 2014-05-12 ~ 2024-08-13 7159 / 7856 ========\n",
      "======= TWST 2018-12-19 ~ 2024-08-02 7160 / 7856 ========\n"
     ]
    },
    {
     "name": "stderr",
     "output_type": "stream",
     "text": [
      "TWTR: No timezone found, symbol may be delisted\n"
     ]
    },
    {
     "name": "stdout",
     "output_type": "stream",
     "text": [
      "======= TWTR 2014-02-05 ~ 2022-07-22 7161 / 7856 ========\n",
      "======= TX 2006-04-28 ~ 2024-11-05 7162 / 7856 ========\n",
      "======= TXG 2019-11-07 ~ 2024-10-29 7163 / 7856 ========\n",
      "======= TXMD 2013-08-06 ~ 2023-08-14 7164 / 7856 ========\n",
      "======= TXN 1993-01-22 ~ 2024-10-22 7165 / 7856 ========\n",
      "======= TXNM 2024-04-30 ~ 2024-11-01 7166 / 7856 ========\n",
      "======= TXO 2023-04-18 ~ 2024-11-05 7167 / 7856 ========\n",
      "======= TXRH 2005-02-28 ~ 2024-10-24 7168 / 7856 ========\n",
      "======= TXT 1993-02-05 ~ 2024-10-24 7169 / 7856 ========\n",
      "TY not exist\n",
      "TYDE not exist\n",
      "TYDEV not exist\n",
      "TYG not exist\n",
      "======= TYGO 2023-08-08 ~ 2024-11-06 7174 / 7856 ========\n",
      "TYHT not exist\n",
      "======= TYL 1993-04-21 ~ 2024-10-23 7176 / 7856 ========\n"
     ]
    },
    {
     "name": "stderr",
     "output_type": "stream",
     "text": [
      "TYME: No timezone found, symbol may be delisted\n"
     ]
    },
    {
     "name": "stdout",
     "output_type": "stream",
     "text": [
      "======= TYME 2018-06-13 ~ 2022-02-11 7177 / 7856 ========\n",
      "======= TYRA 2021-11-03 ~ 2024-11-07 7178 / 7856 ========\n",
      "======= TZOO 2004-07-13 ~ 2024-10-23 7179 / 7856 ========\n",
      "TZPS not exist\n",
      "======= U 2020-11-12 ~ 2024-11-07 7181 / 7856 ========\n",
      "======= UA 2016-04-21 ~ 2024-11-07 7182 / 7856 ========\n",
      "======= UAA 2006-04-26 ~ 2024-11-07 7183 / 7856 ========\n",
      "======= UAL 1993-04-29 ~ 2024-10-15 7184 / 7856 ========\n",
      "======= UAN 2011-08-03 ~ 2020-11-02 7185 / 7856 ========\n"
     ]
    },
    {
     "name": "stderr",
     "output_type": "stream",
     "text": [
      "UBA: No timezone found, symbol may be delisted\n"
     ]
    },
    {
     "name": "stdout",
     "output_type": "stream",
     "text": [
      "======= UBA 2003-12-10 ~ 2023-09-14 7186 / 7856 ========\n",
      "======= UBCP 2003-07-24 ~ 2022-02-02 7187 / 7856 ========\n",
      "======= UBER 2019-05-30 ~ 2024-10-31 7188 / 7856 ========\n",
      "======= UBFO 2002-10-14 ~ 2007-04-16 7189 / 7856 ========\n",
      "UBOH not exist\n"
     ]
    },
    {
     "name": "stderr",
     "output_type": "stream",
     "text": [
      "UBP: No timezone found, symbol may be delisted\n"
     ]
    },
    {
     "name": "stdout",
     "output_type": "stream",
     "text": [
      "======= UBP 2012-12-13 ~ 2012-12-13 7191 / 7856 ========\n",
      "======= UBS 2007-02-13 ~ 2024-10-30 7192 / 7856 ========\n",
      "======= UBSI 1993-01-25 ~ 2024-10-24 7193 / 7856 ========\n",
      "======= UBX 2018-06-07 ~ 2024-11-04 7194 / 7856 ========\n",
      "UBXG not exist\n",
      "UCAR not exist\n",
      "======= UCB 2024-07-24 ~ 2024-10-23 7197 / 7856 ========\n"
     ]
    },
    {
     "name": "stderr",
     "output_type": "stream",
     "text": [
      "UCBI: No timezone found, symbol may be delisted\n"
     ]
    },
    {
     "name": "stdout",
     "output_type": "stream",
     "text": [
      "======= UCBI 2002-10-22 ~ 2024-07-24 7198 / 7856 ========\n",
      "======= UCL 2021-05-26 ~ 2024-11-26 7199 / 7856 ========\n",
      "======= UCTT 2004-07-29 ~ 2024-10-28 7200 / 7856 ========\n",
      "======= UDMY 2021-12-08 ~ 2024-10-29 7201 / 7856 ========\n",
      "======= UDR 1993-04-20 ~ 2024-10-30 7202 / 7856 ========\n",
      "======= UE 2015-08-05 ~ 2024-10-30 7203 / 7856 ========\n",
      "======= UEIC 1993-08-30 ~ 2024-11-07 7204 / 7856 ========\n"
     ]
    },
    {
     "name": "stderr",
     "output_type": "stream",
     "text": [
      "UEPS: No timezone found, symbol may be delisted\n"
     ]
    },
    {
     "name": "stdout",
     "output_type": "stream",
     "text": [
      "======= UEPS 2005-11-03 ~ 2022-05-10 7205 / 7856 ========\n",
      "======= UFCS 2002-08-05 ~ 2024-11-05 7206 / 7856 ========\n",
      "======= UFI 1993-05-04 ~ 2024-10-30 7207 / 7856 ========\n",
      "======= UFPI 1995-01-31 ~ 2024-10-28 7208 / 7856 ========\n",
      "======= UFPT 1994-08-02 ~ 2024-11-05 7209 / 7856 ========\n"
     ]
    },
    {
     "name": "stderr",
     "output_type": "stream",
     "text": [
      "UFS: No timezone found, symbol may be delisted\n"
     ]
    },
    {
     "name": "stdout",
     "output_type": "stream",
     "text": [
      "======= UFS 2007-05-21 ~ 2021-11-04 7210 / 7856 ========\n",
      "UG not exist\n",
      "======= UGI 1993-04-27 ~ 2024-11-21 7212 / 7856 ========\n",
      "UGIC not exist\n",
      "======= UGP 2001-10-23 ~ 2024-11-13 7214 / 7856 ========\n",
      "======= UGRO 2021-11-09 ~ 2024-08-12 7215 / 7856 ========\n",
      "======= UHAL 1995-08-11 ~ 2024-11-06 7216 / 7856 ========\n",
      "UHALV not exist\n",
      "UHG not exist\n",
      "======= UHS 1993-04-20 ~ 2024-10-24 7219 / 7856 ========\n",
      "======= UHT 2003-01-22 ~ 2006-10-23 7220 / 7856 ========\n",
      "======= UI 2012-01-31 ~ 2024-11-08 7221 / 7856 ========\n"
     ]
    },
    {
     "name": "stderr",
     "output_type": "stream",
     "text": [
      "UIHC: No timezone found, symbol may be delisted\n"
     ]
    },
    {
     "name": "stdout",
     "output_type": "stream",
     "text": [
      "======= UIHC 2013-02-27 ~ 2022-08-08 7222 / 7856 ========\n",
      "======= UIS 1993-01-20 ~ 2024-10-29 7223 / 7856 ========\n",
      "UK not exist\n",
      "======= UL 1996-05-02 ~ 2024-07-25 7225 / 7856 ========\n",
      "======= ULBI 1993-05-11 ~ 2024-11-08 7226 / 7856 ========\n",
      "======= ULCC 2021-05-13 ~ 2024-10-29 7227 / 7856 ========\n",
      "======= ULH 2005-04-28 ~ 2024-10-24 7228 / 7856 ========\n",
      "======= ULS 2024-05-20 ~ 2024-11-05 7229 / 7856 ========\n",
      "======= ULTA 2008-06-04 ~ 2024-12-05 7230 / 7856 ========\n",
      "======= ULY 2024-03-14 ~ 2024-11-12 7231 / 7856 ========\n",
      "======= UMBF 1993-01-22 ~ 2024-10-29 7232 / 7856 ========\n",
      "======= UMC 2002-02-06 ~ 2024-10-30 7233 / 7856 ========\n",
      "======= UMH 2009-08-06 ~ 2024-11-06 7234 / 7856 ========\n"
     ]
    },
    {
     "name": "stderr",
     "output_type": "stream",
     "text": [
      "UMPQ: No timezone found, symbol may be delisted\n"
     ]
    },
    {
     "name": "stdout",
     "output_type": "stream",
     "text": [
      "======= UMPQ 1998-07-14 ~ 2023-04-18 7235 / 7856 ========\n",
      "======= UNAM 1994-06-16 ~ 1998-05-06 7236 / 7856 ========\n",
      "======= UNB 2009-07-15 ~ 2010-01-20 7237 / 7856 ========\n",
      "======= UNCY 2021-08-16 ~ 2024-08-14 7238 / 7856 ========\n",
      "======= UNF 1993-01-06 ~ 2024-10-23 7239 / 7856 ========\n",
      "======= UNFI 1997-03-03 ~ 2024-10-01 7240 / 7856 ========\n",
      "======= UNH 1993-02-16 ~ 2024-10-15 7241 / 7856 ========\n",
      "======= UNIT 2015-05-13 ~ 2024-10-31 7242 / 7856 ========\n",
      "======= UNM 1993-02-09 ~ 2024-10-29 7243 / 7856 ========\n",
      "UNMA not exist\n",
      "======= UNP 1993-01-22 ~ 2024-10-24 7245 / 7856 ========\n",
      "======= UNTY 2009-07-30 ~ 2024-10-11 7246 / 7856 ========\n"
     ]
    },
    {
     "name": "stderr",
     "output_type": "stream",
     "text": [
      "UNVR: No timezone found, symbol may be delisted\n"
     ]
    },
    {
     "name": "stdout",
     "output_type": "stream",
     "text": [
      "======= UNVR 2015-07-29 ~ 2023-08-07 7247 / 7856 ========\n",
      "UOKA not exist\n",
      "UONE not exist\n",
      "======= UP 2021-08-12 ~ 2024-11-07 7250 / 7856 ========\n",
      "======= UPBD 1995-05-03 ~ 2024-10-31 7251 / 7856 ========\n",
      "UPC not exist\n"
     ]
    },
    {
     "name": "stderr",
     "output_type": "stream",
     "text": [
      "UPH: No timezone found, symbol may be delisted\n"
     ]
    },
    {
     "name": "stdout",
     "output_type": "stream",
     "text": [
      "======= UPH 2021-08-12 ~ 2024-01-04 7253 / 7856 ========\n",
      "======= UPLD 2015-03-26 ~ 2024-11-07 7254 / 7856 ========\n",
      "======= UPS 2000-01-31 ~ 2024-10-24 7255 / 7856 ========\n",
      "======= UPST 2021-03-17 ~ 2024-11-07 7256 / 7856 ========\n",
      "UPTD not exist\n",
      "======= UPWK 2018-11-07 ~ 2024-11-06 7258 / 7856 ========\n",
      "======= UPXI 2022-02-14 ~ 2024-07-09 7259 / 7856 ========\n",
      "======= URBN 1994-11-21 ~ 2024-11-26 7260 / 7856 ========\n",
      "======= URGN 2017-08-14 ~ 2024-11-06 7261 / 7856 ========\n",
      "======= URI 1998-07-28 ~ 2024-10-23 7262 / 7856 ========\n",
      "UROY not exist\n",
      "======= USAC 2013-02-25 ~ 2024-11-05 7264 / 7856 ========\n"
     ]
    },
    {
     "name": "stderr",
     "output_type": "stream",
     "text": [
      "USAK: No timezone found, symbol may be delisted\n"
     ]
    },
    {
     "name": "stdout",
     "output_type": "stream",
     "text": [
      "======= USAK 1993-01-29 ~ 2022-08-08 7265 / 7856 ========\n",
      "======= USAP 1995-10-27 ~ 2024-10-30 7266 / 7856 ========\n",
      "======= USAU 1995-11-09 ~ 2024-07-29 7267 / 7856 ========\n",
      "======= USB 1993-01-16 ~ 2024-10-16 7268 / 7856 ========\n",
      "======= USCB 2021-10-28 ~ 2024-10-31 7269 / 7856 ========\n"
     ]
    },
    {
     "name": "stderr",
     "output_type": "stream",
     "text": [
      "USCR: No timezone found, symbol may be delisted\n"
     ]
    },
    {
     "name": "stdout",
     "output_type": "stream",
     "text": [
      "======= USCR 1999-08-10 ~ 2021-08-05 7270 / 7856 ========\n",
      "USCT not exist\n",
      "======= USEA 2024-08-06 ~ 2024-11-26 7272 / 7856 ========\n",
      "======= USEG 1997-12-30 ~ 2024-08-07 7273 / 7856 ========\n"
     ]
    },
    {
     "name": "stderr",
     "output_type": "stream",
     "text": [
      "USER: No timezone found, symbol may be delisted\n"
     ]
    },
    {
     "name": "stdout",
     "output_type": "stream",
     "text": [
      "======= USER 2022-02-28 ~ 2022-10-27 7274 / 7856 ========\n",
      "======= USFD 2016-08-09 ~ 2024-11-07 7275 / 7856 ========\n",
      "USGO not exist\n",
      "======= USIO 2000-08-07 ~ 2024-11-06 7277 / 7856 ========\n",
      "======= USLM 1996-01-22 ~ 2010-10-27 7278 / 7856 ========\n",
      "======= USM 1993-04-29 ~ 2024-11-01 7279 / 7856 ========\n",
      "======= USNA 1998-01-29 ~ 2024-10-22 7280 / 7856 ========\n",
      "======= USPH 1996-11-06 ~ 2024-11-05 7281 / 7856 ========\n"
     ]
    },
    {
     "name": "stderr",
     "output_type": "stream",
     "text": [
      "USWS: No timezone found, symbol may be delisted\n"
     ]
    },
    {
     "name": "stdout",
     "output_type": "stream",
     "text": [
      "======= USWS 2019-05-07 ~ 2022-08-10 7282 / 7856 ========\n"
     ]
    },
    {
     "name": "stderr",
     "output_type": "stream",
     "text": [
      "USX: No timezone found, symbol may be delisted\n"
     ]
    },
    {
     "name": "stdout",
     "output_type": "stream",
     "text": [
      "======= USX 1995-02-01 ~ 2023-08-02 7283 / 7856 ========\n",
      "UTAA not exist\n",
      "======= UTHR 2000-03-02 ~ 2024-10-30 7285 / 7856 ========\n",
      "======= UTI 2004-05-12 ~ 2024-11-20 7286 / 7856 ========\n",
      "======= UTL 2009-04-27 ~ 2024-11-04 7287 / 7856 ========\n",
      "======= UTMD 1993-01-20 ~ 2014-04-24 7288 / 7856 ========\n",
      "UTME not exist\n",
      "======= UTRS 2021-12-02 ~ 2023-11-13 7290 / 7856 ========\n",
      "======= UTSI 2000-04-27 ~ 2020-03-27 7291 / 7856 ========\n",
      "======= UTZ 2020-11-05 ~ 2024-10-31 7292 / 7856 ========\n",
      "======= UVE 2014-05-08 ~ 2024-10-24 7293 / 7856 ========\n",
      "======= UVSP 2009-10-28 ~ 2024-10-23 7294 / 7856 ========\n",
      "======= UVV 1993-02-05 ~ 2006-06-06 7295 / 7856 ========\n",
      "======= UWMC 2021-02-03 ~ 2024-11-07 7296 / 7856 ========\n",
      "======= UXIN 2018-08-22 ~ 2023-11-28 7297 / 7856 ========\n",
      "UZA not exist\n",
      "UZC not exist\n",
      "UZD not exist\n",
      "UZE not exist\n",
      "UZF not exist\n",
      "======= V 2008-04-28 ~ 2024-10-29 7303 / 7856 ========\n",
      "VABK not exist\n",
      "======= VAC 2012-05-03 ~ 2024-11-06 7305 / 7856 ========\n"
     ]
    },
    {
     "name": "stderr",
     "output_type": "stream",
     "text": [
      "VACC: No timezone found, symbol may be delisted\n"
     ]
    },
    {
     "name": "stdout",
     "output_type": "stream",
     "text": [
      "======= VACC 2021-06-14 ~ 2023-11-09 7306 / 7856 ========\n",
      "VACHU not exist\n",
      "VACQ not exist\n",
      "======= VAL 1993-05-07 ~ 2024-10-30 7309 / 7856 ========\n",
      "======= VALE 1996-02-21 ~ 2024-10-24 7310 / 7856 ========\n",
      "======= VALN 2021-08-10 ~ 2024-11-07 7311 / 7856 ========\n",
      "======= VALU 2009-07-16 ~ 2010-09-14 7312 / 7856 ========\n",
      "======= VANI 2015-10-29 ~ 2024-08-13 7313 / 7856 ========\n"
     ]
    },
    {
     "name": "stderr",
     "output_type": "stream",
     "text": [
      "VAPO: No timezone found, symbol may be delisted\n"
     ]
    },
    {
     "name": "stdout",
     "output_type": "stream",
     "text": [
      "======= VAPO 2019-03-12 ~ 2024-02-22 7314 / 7856 ========\n",
      "VAQC not exist\n",
      "======= VATE 1997-02-06 ~ 2020-11-09 7316 / 7856 ========\n",
      "======= VAXX 2021-12-23 ~ 2024-03-27 7317 / 7856 ========\n"
     ]
    },
    {
     "name": "stderr",
     "output_type": "stream",
     "text": [
      "VBIV: No timezone found, symbol may be delisted\n"
     ]
    },
    {
     "name": "stdout",
     "output_type": "stream",
     "text": [
      "======= VBIV 2017-03-21 ~ 2024-08-12 7318 / 7856 ========\n"
     ]
    },
    {
     "name": "stderr",
     "output_type": "stream",
     "text": [
      "VBLT: No timezone found, symbol may be delisted\n"
     ]
    },
    {
     "name": "stdout",
     "output_type": "stream",
     "text": [
      "======= VBLT 2014-11-13 ~ 2023-03-14 7319 / 7856 ========\n",
      "======= VBNK 2014-03-05 ~ 2024-09-05 7320 / 7856 ========\n",
      "VBOC not exist\n",
      "======= VBTX 2015-02-03 ~ 2024-10-22 7322 / 7856 ========\n",
      "======= VC 2011-05-05 ~ 2024-10-24 7323 / 7856 ========\n",
      "======= VCEL 2005-05-06 ~ 2024-11-07 7324 / 7856 ========\n",
      "VCIC not exist\n",
      "VCICU not exist\n",
      "VCICW not exist\n",
      "VCIG not exist\n",
      "VCKA not exist\n",
      "VCKAU not exist\n",
      "======= VCNX 2018-11-13 ~ 2021-08-16 7331 / 7856 ========\n"
     ]
    },
    {
     "name": "stderr",
     "output_type": "stream",
     "text": [
      "VCRA: No timezone found, symbol may be delisted\n"
     ]
    },
    {
     "name": "stdout",
     "output_type": "stream",
     "text": [
      "======= VCRA 2012-08-02 ~ 2022-02-10 7332 / 7856 ========\n",
      "======= VCSA 2022-03-16 ~ 2024-11-07 7333 / 7856 ========\n",
      "======= VCTR 2018-05-08 ~ 2024-11-08 7334 / 7856 ========\n",
      "VCXA not exist\n",
      "VCXB not exist\n",
      "======= VCYT 2014-03-18 ~ 2024-11-06 7337 / 7856 ========\n"
     ]
    },
    {
     "name": "stderr",
     "output_type": "stream",
     "text": [
      "VEC: No timezone found, symbol may be delisted\n"
     ]
    },
    {
     "name": "stdout",
     "output_type": "stream",
     "text": [
      "======= VEC 2014-11-10 ~ 2022-05-10 7338 / 7856 ========\n",
      "======= VECO 1995-04-25 ~ 2024-11-06 7339 / 7856 ========\n"
     ]
    },
    {
     "name": "stderr",
     "output_type": "stream",
     "text": [
      "VECT: No timezone found, symbol may be delisted\n"
     ]
    },
    {
     "name": "stdout",
     "output_type": "stream",
     "text": [
      "======= VECT 2021-10-29 ~ 2021-10-29 7340 / 7856 ========\n",
      "VEDL not exist\n",
      "VEDU not exist\n",
      "VEEA not exist\n",
      "VEEAW not exist\n",
      "VEEE not exist\n",
      "======= VEEV 2014-03-04 ~ 2024-12-05 7346 / 7856 ========\n",
      "======= VEL 2020-05-13 ~ 2024-11-07 7347 / 7856 ========\n",
      "VELO not exist\n",
      "VEMCU not exist\n",
      "VENA not exist\n",
      "VENAR not exist\n",
      "======= VEON 2010-05-26 ~ 2024-11-14 7352 / 7856 ========\n"
     ]
    },
    {
     "name": "stderr",
     "output_type": "stream",
     "text": [
      "VER: No timezone found, symbol may be delisted\n"
     ]
    },
    {
     "name": "stdout",
     "output_type": "stream",
     "text": [
      "======= VER 2012-05-08 ~ 2021-10-29 7353 / 7856 ========\n",
      "======= VERA 2021-08-16 ~ 2024-11-07 7354 / 7856 ========\n",
      "======= VERB 2019-11-14 ~ 2024-11-05 7355 / 7856 ========\n",
      "======= VERI 2017-06-20 ~ 2024-11-12 7356 / 7856 ========\n",
      "======= VERO 2018-03-05 ~ 2024-11-13 7357 / 7856 ========\n",
      "======= VERU 1994-08-03 ~ 2024-08-08 7358 / 7856 ========\n",
      "======= VERV 2021-08-12 ~ 2024-11-05 7359 / 7856 ========\n",
      "======= VERX 2020-11-10 ~ 2024-11-06 7360 / 7856 ========\n",
      "VERY not exist\n",
      "======= VET 2007-08-07 ~ 2024-11-06 7362 / 7856 ========\n",
      "======= VEV 2015-12-24 ~ 2024-08-14 7363 / 7856 ========\n",
      "======= VFC 1993-02-09 ~ 2024-10-28 7364 / 7856 ========\n",
      "======= VFF 2010-11-12 ~ 2024-11-07 7365 / 7856 ========\n",
      "======= VFS 2024-02-22 ~ 2024-11-26 7366 / 7856 ========\n"
     ]
    },
    {
     "name": "stderr",
     "output_type": "stream",
     "text": [
      "VG: No timezone found, symbol may be delisted\n"
     ]
    },
    {
     "name": "stdout",
     "output_type": "stream",
     "text": [
      "======= VG 2006-08-01 ~ 2022-05-05 7367 / 7856 ========\n",
      "VGAC not exist\n",
      "VGAS not exist\n",
      "VGFC not exist\n"
     ]
    },
    {
     "name": "stderr",
     "output_type": "stream",
     "text": [
      "VGR: No timezone found, symbol may be delisted\n"
     ]
    },
    {
     "name": "stdout",
     "output_type": "stream",
     "text": [
      "======= VGR 1993-05-24 ~ 2024-11-06 7371 / 7856 ========\n",
      "======= VHC 2010-03-31 ~ 2016-03-15 7372 / 7856 ========\n",
      "======= VHI 1995-04-26 ~ 2024-11-07 7373 / 7856 ========\n",
      "VHNA not exist\n"
     ]
    },
    {
     "name": "stderr",
     "output_type": "stream",
     "text": [
      "VIA: No data found, symbol may be delisted\n"
     ]
    },
    {
     "name": "stdout",
     "output_type": "stream",
     "text": [
      "======= VIA 2014-11-12 ~ 2020-05-05 7375 / 7856 ========\n"
     ]
    },
    {
     "name": "stderr",
     "output_type": "stream",
     "text": [
      "VIAC: No timezone found, symbol may be delisted\n"
     ]
    },
    {
     "name": "stdout",
     "output_type": "stream",
     "text": [
      "======= VIAC 1993-02-10 ~ 2022-02-15 7376 / 7856 ========\n"
     ]
    },
    {
     "name": "stderr",
     "output_type": "stream",
     "text": [
      "VIAO: No timezone found, symbol may be delisted\n"
     ]
    },
    {
     "name": "stdout",
     "output_type": "stream",
     "text": [
      "======= VIAO 2021-03-11 ~ 2023-03-28 7377 / 7856 ========\n",
      "VIASP not exist\n",
      "======= VIAV 1995-01-17 ~ 2024-10-31 7379 / 7856 ========\n",
      "======= VICI 2018-05-03 ~ 2024-10-31 7380 / 7856 ========\n",
      "======= VICR 1993-04-13 ~ 2024-10-22 7381 / 7856 ========\n",
      "======= VIEW 2021-08-11 ~ 2024-05-14 7382 / 7856 ========\n",
      "======= VIGL 2022-01-10 ~ 2024-11-07 7383 / 7856 ========\n",
      "VIH not exist\n",
      "VII not exist\n",
      "======= VIK 2024-05-29 ~ 2024-11-19 7386 / 7856 ========\n",
      "======= VINC 2021-05-17 ~ 2024-11-12 7387 / 7856 ========\n",
      "VINO not exist\n",
      "======= VINP 2021-03-17 ~ 2024-11-07 7389 / 7856 ========\n",
      "======= VIOT 2018-11-26 ~ 2024-08-12 7390 / 7856 ========\n",
      "======= VIPS 2012-08-09 ~ 2024-11-19 7391 / 7856 ========\n",
      "======= VIR 2019-11-19 ~ 2024-10-31 7392 / 7856 ========\n",
      "======= VIRC 1996-11-20 ~ 2024-09-09 7393 / 7856 ========\n",
      "======= VIRI 2021-08-12 ~ 2024-08-08 7394 / 7856 ========\n",
      "======= VIRT 2015-08-05 ~ 2024-10-24 7395 / 7856 ========\n",
      "======= VIRX 2006-03-24 ~ 2024-08-14 7396 / 7856 ========\n",
      "======= VISL 2013-11-14 ~ 2024-08-14 7397 / 7856 ========\n",
      "VISN not exist\n",
      "======= VIST 2019-10-22 ~ 2024-10-23 7399 / 7856 ========\n",
      "======= VITL 2020-09-10 ~ 2024-11-07 7400 / 7856 ========\n",
      "======= VIV 2000-02-09 ~ 2024-11-05 7401 / 7856 ========\n",
      "======= VIVE 1994-08-15 ~ 2022-11-10 7402 / 7856 ========\n",
      "======= VIVK 2023-05-25 ~ 2024-11-19 7403 / 7856 ========\n"
     ]
    },
    {
     "name": "stderr",
     "output_type": "stream",
     "text": [
      "VIVO: No timezone found, symbol may be delisted\n"
     ]
    },
    {
     "name": "stdout",
     "output_type": "stream",
     "text": [
      "======= VIVO 1994-05-10 ~ 2023-02-02 7404 / 7856 ========\n"
     ]
    },
    {
     "name": "stderr",
     "output_type": "stream",
     "text": [
      "VJET: No timezone found, symbol may be delisted\n"
     ]
    },
    {
     "name": "stdout",
     "output_type": "stream",
     "text": [
      "======= VJET 2013-11-14 ~ 2023-08-17 7405 / 7856 ========\n",
      "======= VKTX 2015-06-11 ~ 2024-10-23 7406 / 7856 ========\n",
      "VLAT not exist\n",
      "======= VLCN 2022-03-23 ~ 2023-11-01 7408 / 7856 ========\n"
     ]
    },
    {
     "name": "stderr",
     "output_type": "stream",
     "text": [
      "VLD: No timezone found, symbol may be delisted\n"
     ]
    },
    {
     "name": "stdout",
     "output_type": "stream",
     "text": [
      "======= VLD 2021-11-09 ~ 2023-11-06 7409 / 7856 ========\n"
     ]
    },
    {
     "name": "stderr",
     "output_type": "stream",
     "text": [
      "VLDR: No timezone found, symbol may be delisted\n"
     ]
    },
    {
     "name": "stdout",
     "output_type": "stream",
     "text": [
      "======= VLDR 2020-11-09 ~ 2022-11-08 7410 / 7856 ========\n",
      "======= VLGEA 2009-06-03 ~ 2010-10-08 7411 / 7856 ========\n",
      "======= VLN 2021-11-11 ~ 2024-11-06 7412 / 7856 ========\n"
     ]
    },
    {
     "name": "stderr",
     "output_type": "stream",
     "text": [
      "VLNS: No timezone found, symbol may be delisted\n"
     ]
    },
    {
     "name": "stdout",
     "output_type": "stream",
     "text": [
      "======= VLNS 2019-04-24 ~ 2022-04-13 7413 / 7856 ========\n",
      "======= VLO 1993-01-22 ~ 2024-10-24 7414 / 7856 ========\n"
     ]
    },
    {
     "name": "stderr",
     "output_type": "stream",
     "text": [
      "VLON: No timezone found, symbol may be delisted\n"
     ]
    },
    {
     "name": "stdout",
     "output_type": "stream",
     "text": [
      "======= VLON 2022-02-14 ~ 2023-02-13 7415 / 7856 ========\n",
      "======= VLRS 2014-02-25 ~ 2024-10-22 7416 / 7856 ========\n"
     ]
    },
    {
     "name": "stderr",
     "output_type": "stream",
     "text": [
      "VLTA: No timezone found, symbol may be delisted\n"
     ]
    },
    {
     "name": "stdout",
     "output_type": "stream",
     "text": [
      "======= VLTA 2021-11-10 ~ 2022-11-14 7417 / 7856 ========\n",
      "======= VLTO 2023-10-25 ~ 2024-10-23 7418 / 7856 ========\n",
      "======= VLY 1993-10-20 ~ 2024-10-24 7419 / 7856 ========\n",
      "VMAC not exist\n",
      "======= VMAR 2022-11-23 ~ 2024-11-25 7421 / 7856 ========\n",
      "======= VMC 1993-01-26 ~ 2024-10-30 7422 / 7856 ========\n",
      "VMCA not exist\n",
      "======= VMD 2018-11-05 ~ 2024-11-06 7424 / 7856 ========\n",
      "======= VMEO 2021-08-05 ~ 2024-11-04 7425 / 7856 ========\n",
      "VMGA not exist\n",
      "======= VMI 1993-02-02 ~ 2024-10-22 7427 / 7856 ========\n"
     ]
    },
    {
     "name": "stderr",
     "output_type": "stream",
     "text": [
      "VMW: No timezone found, symbol may be delisted\n"
     ]
    },
    {
     "name": "stdout",
     "output_type": "stream",
     "text": [
      "======= VMW 2007-10-24 ~ 2023-11-28 7428 / 7856 ========\n",
      "======= VNCE 2014-06-05 ~ 2024-09-16 7429 / 7856 ========\n",
      "======= VNDA 2006-08-03 ~ 2024-11-06 7430 / 7856 ========\n"
     ]
    },
    {
     "name": "stderr",
     "output_type": "stream",
     "text": [
      "VNE: No timezone found, symbol may be delisted\n"
     ]
    },
    {
     "name": "stdout",
     "output_type": "stream",
     "text": [
      "======= VNE 2018-07-27 ~ 2022-02-02 7431 / 7856 ========\n",
      "======= VNET 2011-06-01 ~ 2024-11-20 7432 / 7856 ========\n",
      "======= VNO 1999-05-06 ~ 2024-11-04 7433 / 7856 ========\n",
      "======= VNOM 2014-08-07 ~ 2024-11-04 7434 / 7856 ========\n",
      "======= VNT 2020-10-29 ~ 2024-10-31 7435 / 7856 ========\n"
     ]
    },
    {
     "name": "stderr",
     "output_type": "stream",
     "text": [
      "VNTR: No timezone found, symbol may be delisted\n"
     ]
    },
    {
     "name": "stdout",
     "output_type": "stream",
     "text": [
      "======= VNTR 2017-10-27 ~ 2023-05-17 7436 / 7856 ========\n",
      "======= VOD 1993-11-17 ~ 2024-11-12 7437 / 7856 ========\n",
      "======= VOR 2021-03-25 ~ 2024-11-07 7438 / 7856 ========\n"
     ]
    },
    {
     "name": "stderr",
     "output_type": "stream",
     "text": [
      "VORB: Period '1mo' is invalid, must be one of ['1d', '5d']\n"
     ]
    },
    {
     "name": "stdout",
     "output_type": "stream",
     "text": [
      "======= VORB 2022-11-07 ~ 2022-11-07 7439 / 7856 ========\n",
      "VOSO not exist\n",
      "======= VOXR 2022-04-26 ~ 2024-11-06 7441 / 7856 ========\n",
      "======= VOXX 1994-06-03 ~ 2023-10-10 7442 / 7856 ========\n",
      "======= VOYA 2013-05-23 ~ 2024-11-04 7443 / 7856 ========\n",
      "VPCB not exist\n",
      "======= VPG 2010-11-02 ~ 2024-11-05 7445 / 7856 ========\n"
     ]
    },
    {
     "name": "stderr",
     "output_type": "stream",
     "text": [
      "VQS: No timezone found, symbol may be delisted\n"
     ]
    },
    {
     "name": "stdout",
     "output_type": "stream",
     "text": [
      "======= VQS 2011-04-13 ~ 2023-11-08 7446 / 7856 ========\n",
      "======= VRA 2011-03-15 ~ 2024-09-11 7447 / 7856 ========\n",
      "======= VRAR 2021-11-15 ~ 2024-09-30 7448 / 7856 ========\n",
      "VRAX not exist\n"
     ]
    },
    {
     "name": "stderr",
     "output_type": "stream",
     "text": [
      "VRAY: Period '1mo' is invalid, must be one of ['1d', '5d']\n"
     ]
    },
    {
     "name": "stdout",
     "output_type": "stream",
     "text": [
      "======= VRAY 2016-05-13 ~ 2023-08-01 7450 / 7856 ========\n",
      "======= VRCA 2018-08-07 ~ 2024-11-04 7451 / 7856 ========\n",
      "======= VRDN 2014-11-14 ~ 2024-11-12 7452 / 7856 ========\n",
      "======= VRE 2002-08-08 ~ 2024-10-30 7453 / 7856 ========\n",
      "======= VREX 2017-03-03 ~ 2024-08-01 7454 / 7856 ========\n",
      "======= VRM 2020-08-12 ~ 2024-11-12 7455 / 7856 ========\n",
      "======= VRME 2021-05-13 ~ 2024-08-13 7456 / 7856 ========\n",
      "======= VRN 2022-03-30 ~ 2024-10-31 7457 / 7856 ========\n",
      "======= VRNA 2017-08-08 ~ 2024-11-04 7458 / 7856 ========\n",
      "======= VRNS 2014-05-05 ~ 2024-10-29 7459 / 7856 ========\n",
      "======= VRNT 2002-11-26 ~ 2024-12-04 7460 / 7856 ========\n",
      "======= VRPX 2021-05-17 ~ 2024-11-14 7461 / 7856 ========\n",
      "======= VRRM 2019-03-18 ~ 2024-10-31 7462 / 7856 ========\n"
     ]
    },
    {
     "name": "stderr",
     "output_type": "stream",
     "text": [
      "VRS: No timezone found, symbol may be delisted\n"
     ]
    },
    {
     "name": "stdout",
     "output_type": "stream",
     "text": [
      "======= VRS 2016-11-14 ~ 2022-02-28 7463 / 7856 ========\n",
      "======= VRSK 2010-03-09 ~ 2024-10-30 7464 / 7856 ========\n",
      "======= VRSN 1998-04-23 ~ 2024-10-24 7465 / 7856 ========\n",
      "======= VRT 2020-05-05 ~ 2024-10-23 7466 / 7856 ========\n",
      "======= VRTS 2011-08-02 ~ 2024-10-25 7467 / 7856 ========\n"
     ]
    },
    {
     "name": "stderr",
     "output_type": "stream",
     "text": [
      "VRTV: No data found, symbol may be delisted\n"
     ]
    },
    {
     "name": "stdout",
     "output_type": "stream",
     "text": [
      "======= VRTV 2014-08-13 ~ 2023-11-03 7468 / 7856 ========\n",
      "======= VRTX 1993-02-10 ~ 2024-11-04 7469 / 7856 ========\n",
      "======= VS 2021-08-16 ~ 2024-08-14 7470 / 7856 ========\n",
      "VSAC not exist\n",
      "======= VSAT 1997-05-13 ~ 2024-11-06 7472 / 7856 ========\n",
      "======= VSCO 2021-08-18 ~ 2024-12-05 7473 / 7856 ========\n",
      "======= VSEC 2009-04-29 ~ 2024-11-06 7474 / 7856 ========\n",
      "VSEE not exist\n",
      "VSEEW not exist\n",
      "======= VSH 1993-02-12 ~ 2024-11-06 7477 / 7856 ========\n",
      "VSME not exist\n",
      "======= VST 2017-05-18 ~ 2024-11-07 7479 / 7856 ========\n",
      "======= VSTA 2020-11-13 ~ 2024-11-07 7480 / 7856 ========\n",
      "VSTE not exist\n",
      "VSTEW not exist\n",
      "======= VSTM 2012-05-14 ~ 2024-11-06 7483 / 7856 ========\n",
      "======= VSTO 2015-05-14 ~ 2024-11-06 7484 / 7856 ========\n",
      "======= VSTS 2023-11-29 ~ 2024-11-21 7485 / 7856 ========\n",
      "VTAQ not exist\n",
      "======= VTEX 2021-08-17 ~ 2024-11-05 7487 / 7856 ========\n",
      "======= VTGN 2015-06-29 ~ 2024-11-07 7488 / 7856 ========\n",
      "VTIQ not exist\n",
      "======= VTLE 2012-05-09 ~ 2024-11-07 7490 / 7856 ========\n",
      "======= VTMX 2023-10-19 ~ 2024-10-24 7491 / 7856 ========\n",
      "======= VTNR 2012-11-14 ~ 2024-08-08 7492 / 7856 ========\n",
      "======= VTOL 2014-05-06 ~ 2024-11-05 7493 / 7856 ========\n",
      "======= VTR 2003-04-29 ~ 2024-10-30 7494 / 7856 ========\n",
      "======= VTRS 1993-01-26 ~ 2024-11-07 7495 / 7856 ========\n"
     ]
    },
    {
     "name": "stderr",
     "output_type": "stream",
     "text": [
      "VTRU: No timezone found, symbol may be delisted\n"
     ]
    },
    {
     "name": "stdout",
     "output_type": "stream",
     "text": [
      "======= VTRU 2020-11-23 ~ 2023-08-10 7496 / 7856 ========\n",
      "======= VTS 2023-05-08 ~ 2024-11-04 7497 / 7856 ========\n",
      "======= VTSI 2018-08-13 ~ 2024-08-12 7498 / 7856 ========\n",
      "======= VTVT 2015-09-14 ~ 2024-11-12 7499 / 7856 ========\n",
      "======= VTYX 2021-11-17 ~ 2024-11-07 7500 / 7856 ========\n",
      "======= VUZI 2014-08-14 ~ 2024-11-14 7501 / 7856 ========\n",
      "======= VVI 1997-01-29 ~ 2024-11-07 7502 / 7856 ========\n"
     ]
    },
    {
     "name": "stderr",
     "output_type": "stream",
     "text": [
      "VVNT: No timezone found, symbol may be delisted\n"
     ]
    },
    {
     "name": "stdout",
     "output_type": "stream",
     "text": [
      "======= VVNT 2020-05-07 ~ 2023-05-01 7503 / 7856 ========\n",
      "======= VVOS 2021-05-17 ~ 2024-08-14 7504 / 7856 ========\n"
     ]
    },
    {
     "name": "stderr",
     "output_type": "stream",
     "text": [
      "VVPR: No price data found, symbol may be delisted (1d 2023-02-24 -> 2023-02-24)\n"
     ]
    },
    {
     "name": "stdout",
     "output_type": "stream",
     "text": [
      "======= VVPR 2023-02-24 ~ 2023-02-24 7505 / 7856 ========\n",
      "======= VVV 2016-11-08 ~ 2024-11-19 7506 / 7856 ========\n",
      "======= VVX 2014-11-10 ~ 2024-11-04 7507 / 7856 ========\n"
     ]
    },
    {
     "name": "stderr",
     "output_type": "stream",
     "text": [
      "VWE: No timezone found, symbol may be delisted\n"
     ]
    },
    {
     "name": "stdout",
     "output_type": "stream",
     "text": [
      "======= VWE 2021-05-14 ~ 2024-03-12 7508 / 7856 ========\n",
      "======= VWTR 1993-02-16 ~ 2013-11-12 7509 / 7856 ========\n",
      "======= VXRT 1994-04-26 ~ 2024-08-08 7510 / 7856 ========\n",
      "VYGG not exist\n",
      "======= VYGR 2016-03-17 ~ 2024-11-12 7512 / 7856 ========\n",
      "======= VYNE 2018-03-28 ~ 2024-11-07 7513 / 7856 ========\n"
     ]
    },
    {
     "name": "stderr",
     "output_type": "stream",
     "text": [
      "VYNT: No timezone found, symbol may be delisted\n"
     ]
    },
    {
     "name": "stdout",
     "output_type": "stream",
     "text": [
      "======= VYNT 2013-11-13 ~ 2023-03-31 7514 / 7856 ========\n",
      "======= VYX 2023-05-04 ~ 2024-11-07 7515 / 7856 ========\n",
      "======= VZ 1993-01-22 ~ 2024-10-22 7516 / 7856 ========\n",
      "======= VZIO 2021-05-11 ~ 2024-11-06 7517 / 7856 ========\n",
      "======= W 2015-03-04 ~ 2024-11-01 7518 / 7856 ========\n",
      "======= WAB 1995-10-31 ~ 2024-10-23 7519 / 7856 ========\n",
      "======= WABC 1993-04-19 ~ 2024-10-17 7520 / 7856 ========\n",
      "======= WAFD 1993-01-12 ~ 2024-10-17 7521 / 7856 ========\n",
      "WAFU not exist\n",
      "WAI not exist\n",
      "======= WAL 2005-10-26 ~ 2024-10-17 7524 / 7856 ========\n",
      "======= WALD 2022-11-10 ~ 2024-08-27 7525 / 7856 ========\n",
      "WARR not exist\n",
      "======= WAT 1996-01-25 ~ 2024-11-01 7527 / 7856 ========\n",
      "======= WATT 2015-05-11 ~ 2024-11-12 7528 / 7856 ========\n",
      "WAVC not exist\n"
     ]
    },
    {
     "name": "stderr",
     "output_type": "stream",
     "text": [
      "WAVD: No data found, symbol may be delisted\n"
     ]
    },
    {
     "name": "stdout",
     "output_type": "stream",
     "text": [
      "======= WAVD 1998-07-27 ~ 1998-11-02 7530 / 7856 ========\n",
      "WAVE not exist\n",
      "WAVS not exist\n",
      "======= WAY 2024-08-07 ~ 2024-11-06 7533 / 7856 ========\n",
      "======= WB 2014-05-21 ~ 2024-11-19 7534 / 7856 ========\n",
      "======= WBA 1993-03-29 ~ 2024-10-15 7535 / 7856 ========\n",
      "======= WBD 2005-11-09 ~ 2024-11-07 7536 / 7856 ========\n",
      "WBK not exist\n",
      "======= WBS 1993-04-20 ~ 2024-10-17 7538 / 7856 ========\n"
     ]
    },
    {
     "name": "stderr",
     "output_type": "stream",
     "text": [
      "WBT: No timezone found, symbol may be delisted\n"
     ]
    },
    {
     "name": "stdout",
     "output_type": "stream",
     "text": [
      "======= WBT 2016-05-12 ~ 2022-05-10 7539 / 7856 ========\n",
      "======= WBTN 2024-08-08 ~ 2024-11-07 7540 / 7856 ========\n"
     ]
    },
    {
     "name": "stderr",
     "output_type": "stream",
     "text": [
      "WBUY: No price data found, symbol may be delisted (1d 2024-09-17 -> 2024-09-17)\n"
     ]
    },
    {
     "name": "stdout",
     "output_type": "stream",
     "text": [
      "======= WBUY 2024-09-17 ~ 2024-09-17 7541 / 7856 ========\n",
      "======= WBX 2022-05-11 ~ 2024-08-07 7542 / 7856 ========\n",
      "======= WCC 1999-07-29 ~ 2024-10-31 7543 / 7856 ========\n",
      "WCGC not exist\n",
      "======= WCN 1998-08-03 ~ 2024-10-23 7545 / 7856 ========\n",
      "======= WD 2011-05-12 ~ 2024-11-07 7546 / 7856 ========\n",
      "======= WDAY 2013-03-07 ~ 2024-11-26 7547 / 7856 ========\n",
      "======= WDC 1993-01-11 ~ 2024-10-24 7548 / 7856 ========\n",
      "======= WDFC 1993-03-26 ~ 2024-10-17 7549 / 7856 ========\n",
      "======= WDH 2021-06-17 ~ 2024-09-04 7550 / 7856 ========\n",
      "======= WDS 2020-06-30 ~ 2024-08-26 7551 / 7856 ========\n"
     ]
    },
    {
     "name": "stderr",
     "output_type": "stream",
     "text": [
      "WE: No timezone found, symbol may be delisted\n"
     ]
    },
    {
     "name": "stdout",
     "output_type": "stream",
     "text": [
      "======= WE 2022-05-12 ~ 2023-11-08 7552 / 7856 ========\n",
      "======= WEAV 2022-03-02 ~ 2024-10-30 7553 / 7856 ========\n"
     ]
    },
    {
     "name": "stderr",
     "output_type": "stream",
     "text": [
      "WEBR: No timezone found, symbol may be delisted\n"
     ]
    },
    {
     "name": "stdout",
     "output_type": "stream",
     "text": [
      "======= WEBR 2021-09-15 ~ 2023-02-09 7554 / 7856 ========\n",
      "======= WEC 1993-01-27 ~ 2024-10-31 7555 / 7856 ========\n"
     ]
    },
    {
     "name": "stderr",
     "output_type": "stream",
     "text": [
      "WEI: No timezone found, symbol may be delisted\n"
     ]
    },
    {
     "name": "stdout",
     "output_type": "stream",
     "text": [
      "======= WEI 2019-03-26 ~ 2020-05-27 7556 / 7856 ========\n"
     ]
    },
    {
     "name": "stderr",
     "output_type": "stream",
     "text": [
      "WEJO: No timezone found, symbol may be delisted\n"
     ]
    },
    {
     "name": "stdout",
     "output_type": "stream",
     "text": [
      "======= WEJO 2022-03-31 ~ 2023-05-22 7557 / 7856 ========\n",
      "WEL not exist\n",
      "======= WELL 2003-10-22 ~ 2024-10-28 7559 / 7856 ========\n",
      "======= WEN 1994-11-02 ~ 2024-10-31 7560 / 7856 ========\n",
      "WENA not exist\n",
      "WENAW not exist\n",
      "======= WERN 1993-03-31 ~ 2024-10-29 7563 / 7856 ========\n",
      "======= WES 2013-05-01 ~ 2024-11-06 7564 / 7856 ========\n",
      "======= WEST 2022-11-14 ~ 2024-11-07 7565 / 7856 ========\n"
     ]
    },
    {
     "name": "stderr",
     "output_type": "stream",
     "text": [
      "WETF: No timezone found, symbol may be delisted\n"
     ]
    },
    {
     "name": "stdout",
     "output_type": "stream",
     "text": [
      "======= WETF 1998-05-13 ~ 2023-01-26 7566 / 7856 ========\n",
      "WETG not exist\n",
      "======= WEX 2005-07-27 ~ 2024-10-24 7568 / 7856 ========\n",
      "======= WEYS 1993-02-16 ~ 2017-05-02 7569 / 7856 ========\n",
      "======= WF 2022-11-10 ~ 2024-11-14 7570 / 7856 ========\n",
      "======= WFC 1993-01-20 ~ 2024-10-11 7571 / 7856 ========\n",
      "======= WFCF 2014-11-03 ~ 2022-11-14 7572 / 7856 ========\n",
      "======= WFG 1993-07-28 ~ 2024-10-23 7573 / 7856 ========\n",
      "======= WFRD 1993-10-25 ~ 2024-10-22 7574 / 7856 ========\n",
      "======= WGO 1993-06-18 ~ 2024-10-23 7575 / 7856 ========\n",
      "======= WGS 2021-11-15 ~ 2024-10-29 7576 / 7856 ========\n",
      "======= WH 2018-08-01 ~ 2024-10-23 7577 / 7856 ========\n",
      "======= WHD 2018-03-09 ~ 2024-10-30 7578 / 7856 ========\n",
      "======= WHF 2013-05-14 ~ 2024-11-07 7579 / 7856 ========\n",
      "WHFCL not exist\n",
      "======= WHG 2009-07-23 ~ 2010-10-21 7581 / 7856 ========\n",
      "======= WHLM 1996-11-21 ~ 2012-08-14 7582 / 7856 ========\n",
      "======= WHLR 2014-11-13 ~ 2018-03-06 7583 / 7856 ========\n",
      "WHLRD not exist\n",
      "======= WHR 1993-02-09 ~ 2024-10-23 7585 / 7856 ========\n",
      "======= WILC 2007-05-29 ~ 2014-08-12 7586 / 7856 ========\n",
      "WIMI not exist\n",
      "======= WINA 1994-02-25 ~ 2024-10-16 7588 / 7856 ========\n",
      "======= WING 2015-08-06 ~ 2024-10-30 7589 / 7856 ========\n",
      "======= WINT 2002-08-05 ~ 2024-11-26 7590 / 7856 ========\n",
      "WINV not exist\n"
     ]
    },
    {
     "name": "stderr",
     "output_type": "stream",
     "text": [
      "WIRE: No timezone found, symbol may be delisted\n"
     ]
    },
    {
     "name": "stdout",
     "output_type": "stream",
     "text": [
      "======= WIRE 1993-10-29 ~ 2024-07-23 7592 / 7856 ========\n",
      "======= WISA 2018-11-15 ~ 2024-08-14 7593 / 7856 ========\n"
     ]
    },
    {
     "name": "stderr",
     "output_type": "stream",
     "text": [
      "WISH: No timezone found, symbol may be delisted\n"
     ]
    },
    {
     "name": "stdout",
     "output_type": "stream",
     "text": [
      "======= WISH 2021-03-08 ~ 2024-08-01 7594 / 7856 ========\n",
      "======= WIT 2002-07-19 ~ 2024-10-17 7595 / 7856 ========\n",
      "======= WIX 2014-02-12 ~ 2024-11-20 7596 / 7856 ========\n",
      "======= WK 2015-05-05 ~ 2024-11-06 7597 / 7856 ========\n",
      "======= WKC 2023-02-23 ~ 2024-10-24 7598 / 7856 ========\n",
      "WKEY not exist\n",
      "======= WKHS 2016-08-15 ~ 2024-08-20 7600 / 7856 ========\n"
     ]
    },
    {
     "name": "stderr",
     "output_type": "stream",
     "text": [
      "WKME: No timezone found, symbol may be delisted\n"
     ]
    },
    {
     "name": "stdout",
     "output_type": "stream",
     "text": [
      "======= WKME 2021-08-11 ~ 2024-08-01 7601 / 7856 ========\n",
      "======= WKSP 2022-05-23 ~ 2024-11-13 7602 / 7856 ========\n",
      "WLACU not exist\n",
      "======= WLDN 2007-05-10 ~ 2024-10-31 7604 / 7856 ========\n",
      "WLDS not exist\n",
      "======= WLFC 1997-03-07 ~ 2015-07-31 7606 / 7856 ========\n",
      "======= WLFCP 2001-06-29 ~ 2020-03-30 7607 / 7856 ========\n",
      "WLGS not exist\n",
      "======= WLK 2004-11-03 ~ 2024-11-05 7609 / 7856 ========\n",
      "======= WLKP 2014-11-04 ~ 2024-11-05 7610 / 7856 ========\n"
     ]
    },
    {
     "name": "stderr",
     "output_type": "stream",
     "text": [
      "WLL: No timezone found, symbol may be delisted\n"
     ]
    },
    {
     "name": "stdout",
     "output_type": "stream",
     "text": [
      "======= WLL 2004-02-25 ~ 2022-05-04 7611 / 7856 ========\n"
     ]
    },
    {
     "name": "stderr",
     "output_type": "stream",
     "text": [
      "WLTW: No timezone found, symbol may be delisted\n"
     ]
    },
    {
     "name": "stdout",
     "output_type": "stream",
     "text": [
      "======= WLTW 2001-07-31 ~ 2021-10-28 7612 / 7856 ========\n",
      "======= WLY 1996-03-01 ~ 2024-12-05 7613 / 7856 ========\n",
      "======= WLYB 2024-09-05 ~ 2024-12-05 7614 / 7856 ========\n",
      "======= WM 1993-02-09 ~ 2024-10-28 7615 / 7856 ========\n",
      "======= WMB 1993-02-03 ~ 2024-11-06 7616 / 7856 ========\n"
     ]
    },
    {
     "name": "stderr",
     "output_type": "stream",
     "text": [
      "WMC: No timezone found, symbol may be delisted\n"
     ]
    },
    {
     "name": "stdout",
     "output_type": "stream",
     "text": [
      "======= WMC 2012-08-13 ~ 2023-05-04 7617 / 7856 ========\n",
      "======= WMG 2020-08-04 ~ 2024-11-21 7618 / 7856 ========\n",
      "======= WMK 1993-04-13 ~ 2010-02-08 7619 / 7856 ========\n",
      "======= WMPN 2021-10-21 ~ 2024-10-16 7620 / 7856 ========\n",
      "======= WMS 2014-09-03 ~ 2024-11-08 7621 / 7856 ========\n",
      "======= WMT 1997-02-25 ~ 2024-11-19 7622 / 7856 ========\n",
      "======= WNC 1993-01-18 ~ 2024-10-24 7623 / 7856 ========\n",
      "======= WNEB 2002-07-24 ~ 2024-10-23 7624 / 7856 ========\n",
      "WNNR not exist\n",
      "======= WNS 2006-11-14 ~ 2024-10-17 7626 / 7856 ========\n",
      "WNW not exist\n",
      "======= WOLF 1995-11-01 ~ 2024-11-06 7628 / 7856 ========\n",
      "======= WOOF 2021-03-18 ~ 2024-09-10 7629 / 7856 ========\n",
      "======= WOR 1993-03-12 ~ 2024-09-24 7630 / 7856 ========\n"
     ]
    },
    {
     "name": "stderr",
     "output_type": "stream",
     "text": [
      "WORK: No timezone found, symbol may be delisted\n"
     ]
    },
    {
     "name": "stdout",
     "output_type": "stream",
     "text": [
      "======= WORK 2019-12-04 ~ 2021-06-03 7631 / 7856 ========\n",
      "WORX not exist\n",
      "======= WOW 2017-08-14 ~ 2024-11-04 7633 / 7856 ========\n",
      "======= WPC 2001-10-31 ~ 2024-10-29 7634 / 7856 ========\n",
      "WPCA not exist\n",
      "WPCB not exist\n",
      "WPF not exist\n"
     ]
    },
    {
     "name": "stderr",
     "output_type": "stream",
     "text": [
      "WPG: No timezone found, symbol may be delisted\n"
     ]
    },
    {
     "name": "stdout",
     "output_type": "stream",
     "text": [
      "======= WPG 2014-08-08 ~ 2021-08-09 7638 / 7856 ========\n",
      "======= WPM 2005-05-02 ~ 2024-11-08 7639 / 7856 ========\n",
      "======= WPP 1994-06-28 ~ 2024-08-07 7640 / 7856 ========\n",
      "======= WPRT 2008-11-06 ~ 2024-08-13 7641 / 7856 ========\n",
      "WQGA not exist\n",
      "WRAC not exist\n",
      "======= WRAP 2020-03-10 ~ 2023-05-10 7644 / 7856 ========\n",
      "======= WRB 1993-04-30 ~ 2024-10-21 7645 / 7856 ========\n",
      "======= WRBY 2021-11-12 ~ 2024-11-07 7646 / 7856 ========\n"
     ]
    },
    {
     "name": "stderr",
     "output_type": "stream",
     "text": [
      "WRD: Data doesn't exist for startDate = 1451451600, endDate = 1538193600\n"
     ]
    },
    {
     "name": "stdout",
     "output_type": "stream",
     "text": [
      "======= WRD 2015-12-30 ~ 2018-09-29 7647 / 7856 ========\n"
     ]
    },
    {
     "name": "stderr",
     "output_type": "stream",
     "text": [
      "WRE: No timezone found, symbol may be delisted\n"
     ]
    },
    {
     "name": "stdout",
     "output_type": "stream",
     "text": [
      "======= WRE 1993-02-23 ~ 2022-10-28 7648 / 7856 ========\n"
     ]
    },
    {
     "name": "stderr",
     "output_type": "stream",
     "text": [
      "WRI: No timezone found, symbol may be delisted\n"
     ]
    },
    {
     "name": "stdout",
     "output_type": "stream",
     "text": [
      "======= WRI 2002-10-28 ~ 2021-07-29 7649 / 7856 ========\n"
     ]
    },
    {
     "name": "stderr",
     "output_type": "stream",
     "text": [
      "WRK: No timezone found, symbol may be delisted\n"
     ]
    },
    {
     "name": "stdout",
     "output_type": "stream",
     "text": [
      "======= WRK 1994-04-15 ~ 2024-08-01 7650 / 7856 ========\n",
      "======= WRLD 1993-01-16 ~ 2024-10-25 7651 / 7856 ========\n",
      "WRNT not exist\n",
      "======= WS 2023-12-21 ~ 2024-09-25 7653 / 7856 ========\n",
      "======= WSBC 1995-04-25 ~ 2024-10-23 7654 / 7856 ========\n",
      "======= WSBF 2007-11-09 ~ 2024-10-22 7655 / 7856 ========\n",
      "======= WSC 2018-03-15 ~ 2024-10-30 7656 / 7856 ========\n",
      "======= WSFS 1997-10-21 ~ 2024-10-24 7657 / 7856 ========\n",
      "======= WSM 1993-03-30 ~ 2024-11-20 7658 / 7856 ========\n",
      "======= WSO 1993-03-05 ~ 2024-10-23 7659 / 7856 ========\n",
      "======= WSR 2011-02-28 ~ 2024-10-30 7660 / 7856 ========\n",
      "======= WST 1993-02-20 ~ 2024-10-24 7661 / 7856 ========\n"
     ]
    },
    {
     "name": "stderr",
     "output_type": "stream",
     "text": [
      "WSTG: No timezone found, symbol may be delisted\n"
     ]
    },
    {
     "name": "stdout",
     "output_type": "stream",
     "text": [
      "======= WSTG 1995-11-01 ~ 2022-11-02 7662 / 7856 ========\n",
      "======= WT 1998-05-13 ~ 2024-10-25 7663 / 7856 ========\n",
      "======= WTBA 2004-01-19 ~ 2024-10-24 7664 / 7856 ========\n",
      "======= WTER 2019-11-13 ~ 2023-09-22 7665 / 7856 ========\n",
      "======= WTFC 1997-08-04 ~ 2024-10-21 7666 / 7856 ========\n",
      "======= WTI 2005-05-06 ~ 2024-11-07 7667 / 7856 ========\n",
      "======= WTM 2003-02-18 ~ 2024-11-06 7668 / 7856 ========\n",
      "WTMA not exist\n",
      "WTO not exist\n",
      "WTREP not exist\n",
      "======= WTRG 1993-02-02 ~ 2024-11-04 7672 / 7856 ========\n"
     ]
    },
    {
     "name": "stderr",
     "output_type": "stream",
     "text": [
      "WTRH: No timezone found, symbol may be delisted\n"
     ]
    },
    {
     "name": "stdout",
     "output_type": "stream",
     "text": [
      "======= WTRH 2019-03-07 ~ 2023-03-09 7673 / 7856 ========\n",
      "WTRU not exist\n",
      "======= WTS 1993-01-26 ~ 2024-10-30 7675 / 7856 ========\n",
      "======= WTTR 2017-05-17 ~ 2024-11-05 7676 / 7856 ========\n",
      "======= WTW 2001-07-31 ~ 2024-10-31 7677 / 7856 ========\n",
      "======= WU 2006-10-23 ~ 2024-10-23 7678 / 7856 ========\n",
      "======= WULF 2022-05-16 ~ 2024-08-12 7679 / 7856 ========\n",
      "======= WVE 2015-12-17 ~ 2024-08-08 7680 / 7856 ========\n",
      "WVVI not exist\n",
      "======= WW 2002-05-13 ~ 2024-11-06 7682 / 7856 ========\n",
      "WWAC not exist\n",
      "======= WWD 1999-11-16 ~ 2024-11-25 7684 / 7856 ========\n"
     ]
    },
    {
     "name": "stderr",
     "output_type": "stream",
     "text": [
      "WWE: No timezone found, symbol may be delisted\n"
     ]
    },
    {
     "name": "stdout",
     "output_type": "stream",
     "text": [
      "======= WWE 1999-11-30 ~ 2023-11-01 7685 / 7856 ========\n",
      "======= WWW 1993-09-29 ~ 2024-11-07 7686 / 7856 ========\n",
      "======= WY 1993-01-25 ~ 2024-10-24 7687 / 7856 ========\n",
      "WYHG not exist\n",
      "======= WYNN 2002-12-09 ~ 2024-11-04 7689 / 7856 ========\n",
      "======= X 1993-01-26 ~ 2024-10-31 7690 / 7856 ========\n",
      "======= XAIR 2017-11-03 ~ 2024-11-11 7691 / 7856 ========\n",
      "======= XBIO 2017-04-03 ~ 2024-08-13 7692 / 7856 ========\n",
      "======= XBIT 2015-11-13 ~ 2020-05-11 7693 / 7856 ========\n",
      "XBP not exist\n",
      "XCH not exist\n",
      "======= XCUR 2018-08-06 ~ 2022-08-15 7696 / 7856 ========\n"
     ]
    },
    {
     "name": "stderr",
     "output_type": "stream",
     "text": [
      "XEC: No timezone found, symbol may be delisted\n"
     ]
    },
    {
     "name": "stdout",
     "output_type": "stream",
     "text": [
      "======= XEC 2002-11-15 ~ 2021-08-05 7697 / 7856 ========\n",
      "======= XEL 1993-01-27 ~ 2024-10-31 7698 / 7856 ========\n",
      "======= XELA 2018-03-15 ~ 2024-04-03 7699 / 7856 ========\n",
      "======= XELB 2013-05-14 ~ 2024-08-14 7700 / 7856 ========\n",
      "======= XENE 2015-03-12 ~ 2024-08-08 7701 / 7856 ========\n"
     ]
    },
    {
     "name": "stderr",
     "output_type": "stream",
     "text": [
      "XENT: No timezone found, symbol may be delisted\n"
     ]
    },
    {
     "name": "stdout",
     "output_type": "stream",
     "text": [
      "======= XENT 2014-11-05 ~ 2022-05-04 7702 / 7856 ========\n",
      "======= XERS 2018-08-13 ~ 2024-11-08 7703 / 7856 ========\n",
      "XFIN not exist\n",
      "======= XFOR 2018-03-09 ~ 2024-11-13 7705 / 7856 ========\n",
      "======= XGN 2019-11-12 ~ 2024-11-12 7706 / 7856 ========\n",
      "XHG not exist\n",
      "======= XHR 2015-08-13 ~ 2024-11-06 7708 / 7856 ========\n",
      "======= XIN 2008-11-25 ~ 2020-11-27 7709 / 7856 ========\n"
     ]
    },
    {
     "name": "stderr",
     "output_type": "stream",
     "text": [
      "XL: No timezone found, symbol may be delisted\n"
     ]
    },
    {
     "name": "stdout",
     "output_type": "stream",
     "text": [
      "======= XL 2021-03-31 ~ 2022-08-09 7710 / 7856 ========\n"
     ]
    },
    {
     "name": "stderr",
     "output_type": "stream",
     "text": [
      "XLNX: No timezone found, symbol may be delisted\n"
     ]
    },
    {
     "name": "stdout",
     "output_type": "stream",
     "text": [
      "======= XLNX 1993-01-16 ~ 2022-01-26 7711 / 7856 ========\n",
      "======= XLO 2021-12-02 ~ 2024-11-07 7712 / 7856 ========\n"
     ]
    },
    {
     "name": "stderr",
     "output_type": "stream",
     "text": [
      "XLRN: No timezone found, symbol may be delisted\n"
     ]
    },
    {
     "name": "stdout",
     "output_type": "stream",
     "text": [
      "======= XLRN 2013-11-06 ~ 2021-11-04 7713 / 7856 ========\n"
     ]
    },
    {
     "name": "stderr",
     "output_type": "stream",
     "text": [
      "XM: No timezone found, symbol may be delisted\n"
     ]
    },
    {
     "name": "stdout",
     "output_type": "stream",
     "text": [
      "======= XM 2021-03-09 ~ 2023-07-19 7714 / 7856 ========\n",
      "======= XMTR 2021-08-12 ~ 2024-11-05 7715 / 7856 ========\n",
      "======= XNCR 2014-05-14 ~ 2024-11-06 7716 / 7856 ========\n",
      "======= XNET 2014-11-25 ~ 2015-05-20 7717 / 7856 ========\n"
     ]
    },
    {
     "name": "stderr",
     "output_type": "stream",
     "text": [
      "XOG: No timezone found, symbol may be delisted\n"
     ]
    },
    {
     "name": "stdout",
     "output_type": "stream",
     "text": [
      "======= XOG 2016-11-07 ~ 2021-08-09 7718 / 7856 ========\n",
      "======= XOM 1993-01-25 ~ 2024-11-01 7719 / 7856 ========\n",
      "======= XOMA 1993-05-17 ~ 2024-11-07 7720 / 7856 ========\n",
      "XOMAP not exist\n",
      "======= XOS 2021-05-26 ~ 2024-11-13 7722 / 7856 ========\n",
      "======= XP 2020-03-17 ~ 2024-11-19 7723 / 7856 ========\n",
      "XPAX not exist\n",
      "XPDB not exist\n",
      "XPDI not exist\n",
      "======= XPEL 2019-11-11 ~ 2024-11-07 7727 / 7856 ========\n",
      "======= XPER 2004-01-27 ~ 2024-11-06 7728 / 7856 ========\n",
      "======= XPEV 2021-05-13 ~ 2024-11-19 7729 / 7856 ========\n",
      "======= XPO 2005-03-30 ~ 2024-10-30 7730 / 7856 ========\n",
      "XPOA not exist\n",
      "======= XPOF 2021-11-11 ~ 2024-11-07 7732 / 7856 ========\n",
      "======= XPON 2023-05-11 ~ 2024-08-14 7733 / 7856 ========\n",
      "======= XPRO 2014-02-24 ~ 2024-10-24 7734 / 7856 ========\n",
      "======= XRAY 1993-01-18 ~ 2024-11-07 7735 / 7856 ========\n",
      "======= XRTX 2022-04-12 ~ 2024-11-14 7736 / 7856 ========\n",
      "======= XRX 1993-04-27 ~ 2024-10-29 7737 / 7856 ========\n"
     ]
    },
    {
     "name": "stderr",
     "output_type": "stream",
     "text": [
      "XSPA: No timezone found, symbol may be delisted\n"
     ]
    },
    {
     "name": "stdout",
     "output_type": "stream",
     "text": [
      "======= XSPA 2013-05-09 ~ 2022-11-14 7738 / 7856 ========\n",
      "XTIA not exist\n",
      "XTKG not exist\n",
      "======= XTLB 2008-03-20 ~ 2015-12-01 7741 / 7856 ========\n",
      "======= XWEL 2013-03-21 ~ 2024-04-16 7742 / 7856 ========\n",
      "======= XXII 2011-11-15 ~ 2024-11-12 7743 / 7856 ========\n",
      "======= XYF 2018-11-19 ~ 2020-04-27 7744 / 7856 ========\n",
      "======= XYL 2011-11-21 ~ 2024-10-31 7745 / 7856 ========\n",
      "XYLO not exist\n"
     ]
    },
    {
     "name": "stderr",
     "output_type": "stream",
     "text": [
      "Y: No timezone found, symbol may be delisted\n"
     ]
    },
    {
     "name": "stdout",
     "output_type": "stream",
     "text": [
      "======= Y 2004-08-03 ~ 2022-08-04 7747 / 7856 ========\n",
      "YAC not exist\n",
      "======= YALA 2021-03-15 ~ 2024-03-11 7749 / 7856 ========\n"
     ]
    },
    {
     "name": "stderr",
     "output_type": "stream",
     "text": [
      "YELL: No timezone found, symbol may be delisted\n"
     ]
    },
    {
     "name": "stdout",
     "output_type": "stream",
     "text": [
      "======= YELL 1993-01-29 ~ 2023-08-09 7750 / 7856 ========\n",
      "======= YELP 2012-05-02 ~ 2024-11-07 7751 / 7856 ========\n",
      "======= YETI 2018-11-29 ~ 2024-11-07 7752 / 7856 ========\n",
      "======= YEXT 2017-06-01 ~ 2024-09-04 7753 / 7856 ========\n",
      "YGF not exist\n",
      "YGMZ not exist\n",
      "YHGJ not exist\n",
      "YHNA not exist\n",
      "YHNAR not exist\n",
      "YHNAU not exist\n",
      "YI not exist\n",
      "YIBO not exist\n",
      "======= YJ 2019-08-22 ~ 2022-03-17 7762 / 7856 ========\n",
      "======= YMAB 2018-11-13 ~ 2024-11-08 7763 / 7856 ========\n",
      "======= YMM 2021-11-18 ~ 2024-11-20 7764 / 7856 ========\n"
     ]
    },
    {
     "name": "stderr",
     "output_type": "stream",
     "text": [
      "YMTX: No timezone found, symbol may be delisted\n"
     ]
    },
    {
     "name": "stdout",
     "output_type": "stream",
     "text": [
      "======= YMTX 2016-05-13 ~ 2022-05-12 7765 / 7856 ========\n"
     ]
    },
    {
     "name": "stderr",
     "output_type": "stream",
     "text": [
      "YNDX: No timezone found, symbol may be delisted\n"
     ]
    },
    {
     "name": "stdout",
     "output_type": "stream",
     "text": [
      "======= YNDX 2011-07-28 ~ 2022-02-15 7766 / 7856 ========\n",
      "======= YORW 2005-05-05 ~ 2024-11-07 7767 / 7856 ========\n",
      "YOSH not exist\n",
      "YOTA not exist\n",
      "======= YOU 2021-08-16 ~ 2024-11-07 7770 / 7856 ========\n",
      "======= YPF 1993-11-03 ~ 2024-11-14 7771 / 7856 ========\n",
      "======= YQ 2021-03-08 ~ 2022-12-07 7772 / 7856 ========\n",
      "======= YRD 2016-03-09 ~ 2022-11-22 7773 / 7856 ========\n"
     ]
    },
    {
     "name": "stderr",
     "output_type": "stream",
     "text": [
      "YS: No timezone found, symbol may be delisted\n"
     ]
    },
    {
     "name": "stdout",
     "output_type": "stream",
     "text": [
      "======= YS 2024-01-22 ~ 2024-04-19 7774 / 7856 ========\n",
      "YSAC not exist\n",
      "======= YSG 2021-03-11 ~ 2024-08-20 7776 / 7856 ========\n",
      "======= YTEN 2007-03-07 ~ 2024-08-14 7777 / 7856 ========\n",
      "YTPG not exist\n",
      "======= YTRA 2017-08-07 ~ 2024-08-12 7779 / 7856 ========\n",
      "======= YUM 1997-10-21 ~ 2024-11-05 7780 / 7856 ========\n",
      "======= YUMC 2016-11-17 ~ 2024-11-04 7781 / 7856 ========\n"
     ]
    },
    {
     "name": "stderr",
     "output_type": "stream",
     "text": [
      "YVR: Period '1mo' is invalid, must be one of ['1d', '5d']\n"
     ]
    },
    {
     "name": "stdout",
     "output_type": "stream",
     "text": [
      "======= YVR 2002-12-27 ~ 2010-09-30 7782 / 7856 ========\n",
      "======= YY 2013-03-07 ~ 2024-11-26 7783 / 7856 ========\n",
      "YYAI not exist\n",
      "YYGH not exist\n",
      "======= Z 2016-02-11 ~ 2024-11-06 7786 / 7856 ========\n",
      "ZAPP not exist\n",
      "ZBAO not exist\n",
      "======= ZBH 2001-10-30 ~ 2024-10-30 7789 / 7856 ========\n"
     ]
    },
    {
     "name": "stderr",
     "output_type": "stream",
     "text": [
      "ZBIO: No price data found, symbol may be delisted (1d 2024-11-12 -> 2024-11-12)\n"
     ]
    },
    {
     "name": "stdout",
     "output_type": "stream",
     "text": [
      "======= ZBIO 2024-11-12 ~ 2024-11-12 7790 / 7856 ========\n",
      "======= ZBRA 1993-04-14 ~ 2024-10-29 7791 / 7856 ========\n",
      "ZCAR not exist\n",
      "ZCMD not exist\n",
      "======= ZD 1999-10-19 ~ 2024-11-08 7794 / 7856 ========\n"
     ]
    },
    {
     "name": "stderr",
     "output_type": "stream",
     "text": [
      "ZEAL: No timezone found, symbol may be delisted\n"
     ]
    },
    {
     "name": "stdout",
     "output_type": "stream",
     "text": [
      "======= ZEAL 2019-03-07 ~ 2022-08-11 7795 / 7856 ========\n"
     ]
    },
    {
     "name": "stderr",
     "output_type": "stream",
     "text": [
      "ZEN: No timezone found, symbol may be delisted\n"
     ]
    },
    {
     "name": "stdout",
     "output_type": "stream",
     "text": [
      "======= ZEN 2014-08-05 ~ 2022-10-27 7796 / 7856 ========\n",
      "ZENA not exist\n",
      "======= ZENV 2021-11-16 ~ 2024-11-18 7798 / 7856 ========\n",
      "ZEO not exist\n",
      "======= ZEPP 2018-03-27 ~ 2024-11-18 7800 / 7856 ========\n",
      "ZEST not exist\n",
      "======= ZETA 2021-08-10 ~ 2024-11-11 7802 / 7856 ========\n",
      "======= ZEUS 1994-07-22 ~ 2024-10-31 7803 / 7856 ========\n"
     ]
    },
    {
     "name": "stderr",
     "output_type": "stream",
     "text": [
      "ZEV: No timezone found, symbol may be delisted\n"
     ]
    },
    {
     "name": "stdout",
     "output_type": "stream",
     "text": [
      "======= ZEV 2021-05-17 ~ 2023-11-06 7804 / 7856 ========\n"
     ]
    },
    {
     "name": "stderr",
     "output_type": "stream",
     "text": [
      "ZFOX: No timezone found, symbol may be delisted\n"
     ]
    },
    {
     "name": "stdout",
     "output_type": "stream",
     "text": [
      "======= ZFOX 2022-12-14 ~ 2024-06-04 7805 / 7856 ========\n",
      "======= ZG 2011-11-02 ~ 2024-11-06 7806 / 7856 ========\n",
      "======= ZGN 2022-08-26 ~ 2024-07-05 7807 / 7856 ========\n"
     ]
    },
    {
     "name": "stderr",
     "output_type": "stream",
     "text": [
      "ZGNX: No timezone found, symbol may be delisted\n"
     ]
    },
    {
     "name": "stdout",
     "output_type": "stream",
     "text": [
      "======= ZGNX 2011-03-03 ~ 2022-02-28 7808 / 7856 ========\n",
      "ZGYH not exist\n",
      "======= ZH 2021-05-17 ~ 2024-03-26 7810 / 7856 ========\n",
      "======= ZI 2020-08-10 ~ 2024-08-05 7811 / 7856 ========\n",
      "======= ZIM 2021-03-22 ~ 2024-11-20 7812 / 7856 ========\n",
      "======= ZIMV 2022-08-10 ~ 2024-10-30 7813 / 7856 ========\n",
      "ZING not exist\n",
      "======= ZION 1993-01-25 ~ 2024-10-21 7815 / 7856 ========\n"
     ]
    },
    {
     "name": "stderr",
     "output_type": "stream",
     "text": [
      "ZIOP: No timezone found, symbol may be delisted\n"
     ]
    },
    {
     "name": "stdout",
     "output_type": "stream",
     "text": [
      "======= ZIOP 2007-05-02 ~ 2021-11-08 7816 / 7856 ========\n",
      "======= ZIP 2021-08-12 ~ 2024-11-06 7817 / 7856 ========\n",
      "======= ZIVO 2022-05-13 ~ 2024-11-14 7818 / 7856 ========\n"
     ]
    },
    {
     "name": "stderr",
     "output_type": "stream",
     "text": [
      "ZIXI: No timezone found, symbol may be delisted\n"
     ]
    },
    {
     "name": "stdout",
     "output_type": "stream",
     "text": [
      "======= ZIXI 1993-02-01 ~ 2021-11-08 7819 / 7856 ========\n",
      "ZJYL not exist\n",
      "ZJZZT not exist\n",
      "======= ZK 2024-06-11 ~ 2024-11-13 7822 / 7856 ========\n",
      "======= ZKH 2024-05-21 ~ 2024-11-22 7823 / 7856 ========\n",
      "ZKIN not exist\n",
      "======= ZLAB 2017-11-15 ~ 2024-11-12 7825 / 7856 ========\n",
      "ZLS not exist\n",
      "======= ZM 2019-06-06 ~ 2024-11-25 7827 / 7856 ========\n",
      "ZME not exist\n"
     ]
    },
    {
     "name": "stderr",
     "output_type": "stream",
     "text": [
      "ZNGA: No timezone found, symbol may be delisted\n"
     ]
    },
    {
     "name": "stdout",
     "output_type": "stream",
     "text": [
      "======= ZNGA 2012-02-14 ~ 2022-05-09 7829 / 7856 ========\n",
      "ZNH not exist\n",
      "ZNTE not exist\n",
      "======= ZNTL 2020-05-15 ~ 2024-08-09 7832 / 7856 ========\n",
      "ZOOZ not exist\n",
      "ZOOZW not exist\n"
     ]
    },
    {
     "name": "stderr",
     "output_type": "stream",
     "text": [
      "ZPTA: No price data found, symbol may be delisted (1d 2024-08-14 -> 2024-08-14)\n"
     ]
    },
    {
     "name": "stdout",
     "output_type": "stream",
     "text": [
      "======= ZPTA 2024-08-14 ~ 2024-08-14 7835 / 7856 ========\n",
      "======= ZS 2018-06-06 ~ 2024-12-02 7836 / 7856 ========\n"
     ]
    },
    {
     "name": "stderr",
     "output_type": "stream",
     "text": [
      "ZSAN: No timezone found, symbol may be delisted\n"
     ]
    },
    {
     "name": "stdout",
     "output_type": "stream",
     "text": [
      "======= ZSAN 2015-03-25 ~ 2022-05-13 7837 / 7856 ========\n",
      "ZSPC not exist\n",
      "ZT not exist\n",
      "======= ZTEK 2013-08-28 ~ 2023-02-10 7840 / 7856 ========\n",
      "======= ZTO 2016-11-28 ~ 2024-11-19 7841 / 7856 ========\n",
      "======= ZTS 2013-04-30 ~ 2024-11-04 7842 / 7856 ========\n",
      "======= ZUMZ 2005-08-17 ~ 2024-09-05 7843 / 7856 ========\n",
      "======= ZUO 2018-05-31 ~ 2024-08-21 7844 / 7856 ========\n",
      "======= ZURA 2023-08-14 ~ 2024-11-07 7845 / 7856 ========\n",
      "======= ZVIA 2021-11-12 ~ 2024-11-06 7846 / 7856 ========\n"
     ]
    },
    {
     "name": "stderr",
     "output_type": "stream",
     "text": [
      "ZVO: No timezone found, symbol may be delisted\n"
     ]
    },
    {
     "name": "stdout",
     "output_type": "stream",
     "text": [
      "======= ZVO 2009-08-11 ~ 2022-04-15 7847 / 7856 ========\n",
      "ZVOL not exist\n",
      "======= ZVRA 2015-05-27 ~ 2024-08-13 7849 / 7856 ========\n",
      "======= ZVSA 2023-11-14 ~ 2024-11-14 7850 / 7856 ========\n",
      "ZWRK not exist\n",
      "======= ZWS 2012-08-01 ~ 2024-10-29 7852 / 7856 ========\n"
     ]
    },
    {
     "name": "stderr",
     "output_type": "stream",
     "text": [
      "ZY: No timezone found, symbol may be delisted\n"
     ]
    },
    {
     "name": "stdout",
     "output_type": "stream",
     "text": [
      "======= ZY 2021-08-16 ~ 2022-08-15 7853 / 7856 ========\n",
      "======= ZYME 2017-08-08 ~ 2024-10-31 7854 / 7856 ========\n"
     ]
    },
    {
     "name": "stderr",
     "output_type": "stream",
     "text": [
      "ZYNE: No timezone found, symbol may be delisted\n"
     ]
    },
    {
     "name": "stdout",
     "output_type": "stream",
     "text": [
      "======= ZYNE 2015-11-11 ~ 2023-11-13 7855 / 7856 ========\n",
      "======= ZYXI 2011-05-05 ~ 2024-10-24 7856 / 7856 ========\n"
     ]
    }
   ],
   "source": [
    "metrics = []\n",
    "\n",
    "for idx, ticker in enumerate(tickers):\n",
    "    try:\n",
    "        earnings = get_jsonparsed_data(EARNING_URL % ticker)\n",
    "        price_chart = None\n",
    "        if len(earnings) > 0:\n",
    "            start_date = earnings[-1]['date']\n",
    "            end_date = earnings[0]['date']\n",
    "            price_chart = yf.Ticker(ticker).history(start=start_date, end=end_date)\n",
    "            print(f\"======= {ticker} {start_date} ~ {end_date} {idx + 1} / {len(tickers)} ========\")\n",
    "        else:\n",
    "            print(ticker, \"not exist\")\n",
    "        for earning in earnings:\n",
    "            date_str = earning[\"date\"]\n",
    "            date = datetime.strptime(date_str, \"%Y-%m-%d\")\n",
    "            estimatedEarning = earning['estimatedEarning']\n",
    "            price = 0\n",
    "            try:\n",
    "                price = price_chart.loc[f\"{date.year}-{date.month}\"]['Close'][-1]\n",
    "            except:\n",
    "                None\n",
    "            metrics.append({\n",
    "                'symbol' : earning['symbol'],\n",
    "                'date' : date,\n",
    "                'year' : date.year,\n",
    "                'month' : date.month,\n",
    "                'day' : date.day,\n",
    "                'price' : price,\n",
    "                'actual' : earning['actualEarningResult'],\n",
    "                'estimated' : estimatedEarning,\n",
    "                'earning_rate' : 1 + (earning['actualEarningResult'] - estimatedEarning) / estimatedEarning if estimatedEarning != 0 and estimatedEarning is not None else 0\n",
    "            })\n",
    "        \n",
    "        if (idx + 1) % 1000 == 0:\n",
    "            pd.DataFrame(metrics).to_csv('earning_tmp.csv', index = False)\n",
    "    except Exception as e:\n",
    "        print(e)\n",
    "        None"
   ]
  },
  {
   "cell_type": "code",
   "execution_count": 108,
   "id": "d014fca7",
   "metadata": {},
   "outputs": [],
   "source": [
    "stocks_df = pd.DataFrame(metrics)"
   ]
  },
  {
   "cell_type": "code",
   "execution_count": 109,
   "id": "ea90dc81",
   "metadata": {},
   "outputs": [
    {
     "data": {
      "text/html": [
       "<div>\n",
       "<style scoped>\n",
       "    .dataframe tbody tr th:only-of-type {\n",
       "        vertical-align: middle;\n",
       "    }\n",
       "\n",
       "    .dataframe tbody tr th {\n",
       "        vertical-align: top;\n",
       "    }\n",
       "\n",
       "    .dataframe thead th {\n",
       "        text-align: right;\n",
       "    }\n",
       "</style>\n",
       "<table border=\"1\" class=\"dataframe\">\n",
       "  <thead>\n",
       "    <tr style=\"text-align: right;\">\n",
       "      <th></th>\n",
       "      <th>symbol</th>\n",
       "      <th>date</th>\n",
       "      <th>year</th>\n",
       "      <th>month</th>\n",
       "      <th>day</th>\n",
       "      <th>price</th>\n",
       "      <th>actual</th>\n",
       "      <th>estimated</th>\n",
       "      <th>earning_rate</th>\n",
       "    </tr>\n",
       "  </thead>\n",
       "  <tbody>\n",
       "    <tr>\n",
       "      <th>0</th>\n",
       "      <td>A</td>\n",
       "      <td>2024-11-25</td>\n",
       "      <td>2024</td>\n",
       "      <td>11</td>\n",
       "      <td>25</td>\n",
       "      <td>133.839996</td>\n",
       "      <td>1.46000</td>\n",
       "      <td>1.41000</td>\n",
       "      <td>1.035461</td>\n",
       "    </tr>\n",
       "    <tr>\n",
       "      <th>1</th>\n",
       "      <td>A</td>\n",
       "      <td>2024-08-21</td>\n",
       "      <td>2024</td>\n",
       "      <td>8</td>\n",
       "      <td>21</td>\n",
       "      <td>142.692841</td>\n",
       "      <td>1.32000</td>\n",
       "      <td>1.26000</td>\n",
       "      <td>1.047619</td>\n",
       "    </tr>\n",
       "    <tr>\n",
       "      <th>2</th>\n",
       "      <td>A</td>\n",
       "      <td>2024-05-29</td>\n",
       "      <td>2024</td>\n",
       "      <td>5</td>\n",
       "      <td>29</td>\n",
       "      <td>129.961533</td>\n",
       "      <td>1.22000</td>\n",
       "      <td>1.19000</td>\n",
       "      <td>1.025210</td>\n",
       "    </tr>\n",
       "    <tr>\n",
       "      <th>3</th>\n",
       "      <td>A</td>\n",
       "      <td>2024-02-27</td>\n",
       "      <td>2024</td>\n",
       "      <td>2</td>\n",
       "      <td>27</td>\n",
       "      <td>136.665619</td>\n",
       "      <td>1.29000</td>\n",
       "      <td>1.22000</td>\n",
       "      <td>1.057377</td>\n",
       "    </tr>\n",
       "    <tr>\n",
       "      <th>4</th>\n",
       "      <td>A</td>\n",
       "      <td>2023-11-20</td>\n",
       "      <td>2023</td>\n",
       "      <td>11</td>\n",
       "      <td>20</td>\n",
       "      <td>126.939247</td>\n",
       "      <td>1.38000</td>\n",
       "      <td>1.34000</td>\n",
       "      <td>1.029851</td>\n",
       "    </tr>\n",
       "    <tr>\n",
       "      <th>...</th>\n",
       "      <td>...</td>\n",
       "      <td>...</td>\n",
       "      <td>...</td>\n",
       "      <td>...</td>\n",
       "      <td>...</td>\n",
       "      <td>...</td>\n",
       "      <td>...</td>\n",
       "      <td>...</td>\n",
       "      <td>...</td>\n",
       "    </tr>\n",
       "    <tr>\n",
       "      <th>284447</th>\n",
       "      <td>ZYXI</td>\n",
       "      <td>2013-05-08</td>\n",
       "      <td>2013</td>\n",
       "      <td>5</td>\n",
       "      <td>8</td>\n",
       "      <td>0.234805</td>\n",
       "      <td>-0.01000</td>\n",
       "      <td>-0.00333</td>\n",
       "      <td>3.003003</td>\n",
       "    </tr>\n",
       "    <tr>\n",
       "      <th>284448</th>\n",
       "      <td>ZYXI</td>\n",
       "      <td>2013-03-14</td>\n",
       "      <td>2013</td>\n",
       "      <td>3</td>\n",
       "      <td>14</td>\n",
       "      <td>0.293506</td>\n",
       "      <td>0.01000</td>\n",
       "      <td>0.02000</td>\n",
       "      <td>0.500000</td>\n",
       "    </tr>\n",
       "    <tr>\n",
       "      <th>284449</th>\n",
       "      <td>ZYXI</td>\n",
       "      <td>2012-11-07</td>\n",
       "      <td>2012</td>\n",
       "      <td>11</td>\n",
       "      <td>7</td>\n",
       "      <td>0.332640</td>\n",
       "      <td>0.01000</td>\n",
       "      <td>0.02000</td>\n",
       "      <td>0.500000</td>\n",
       "    </tr>\n",
       "    <tr>\n",
       "      <th>284450</th>\n",
       "      <td>ZYXI</td>\n",
       "      <td>2011-08-03</td>\n",
       "      <td>2011</td>\n",
       "      <td>8</td>\n",
       "      <td>3</td>\n",
       "      <td>0.396233</td>\n",
       "      <td>0.02000</td>\n",
       "      <td>0.02000</td>\n",
       "      <td>1.000000</td>\n",
       "    </tr>\n",
       "    <tr>\n",
       "      <th>284451</th>\n",
       "      <td>ZYXI</td>\n",
       "      <td>2011-05-05</td>\n",
       "      <td>2011</td>\n",
       "      <td>5</td>\n",
       "      <td>5</td>\n",
       "      <td>0.440259</td>\n",
       "      <td>-0.00326</td>\n",
       "      <td>-0.00148</td>\n",
       "      <td>2.202703</td>\n",
       "    </tr>\n",
       "  </tbody>\n",
       "</table>\n",
       "<p>284452 rows × 9 columns</p>\n",
       "</div>"
      ],
      "text/plain": [
       "       symbol       date  year  month  day       price   actual  estimated  \\\n",
       "0           A 2024-11-25  2024     11   25  133.839996  1.46000    1.41000   \n",
       "1           A 2024-08-21  2024      8   21  142.692841  1.32000    1.26000   \n",
       "2           A 2024-05-29  2024      5   29  129.961533  1.22000    1.19000   \n",
       "3           A 2024-02-27  2024      2   27  136.665619  1.29000    1.22000   \n",
       "4           A 2023-11-20  2023     11   20  126.939247  1.38000    1.34000   \n",
       "...       ...        ...   ...    ...  ...         ...      ...        ...   \n",
       "284447   ZYXI 2013-05-08  2013      5    8    0.234805 -0.01000   -0.00333   \n",
       "284448   ZYXI 2013-03-14  2013      3   14    0.293506  0.01000    0.02000   \n",
       "284449   ZYXI 2012-11-07  2012     11    7    0.332640  0.01000    0.02000   \n",
       "284450   ZYXI 2011-08-03  2011      8    3    0.396233  0.02000    0.02000   \n",
       "284451   ZYXI 2011-05-05  2011      5    5    0.440259 -0.00326   -0.00148   \n",
       "\n",
       "        earning_rate  \n",
       "0           1.035461  \n",
       "1           1.047619  \n",
       "2           1.025210  \n",
       "3           1.057377  \n",
       "4           1.029851  \n",
       "...              ...  \n",
       "284447      3.003003  \n",
       "284448      0.500000  \n",
       "284449      0.500000  \n",
       "284450      1.000000  \n",
       "284451      2.202703  \n",
       "\n",
       "[284452 rows x 9 columns]"
      ]
     },
     "execution_count": 109,
     "metadata": {},
     "output_type": "execute_result"
    }
   ],
   "source": [
    "stocks_df"
   ]
  },
  {
   "cell_type": "code",
   "execution_count": 110,
   "id": "c14da7f9",
   "metadata": {},
   "outputs": [],
   "source": [
    "for ticker in stocks_df['symbol'].drop_duplicates():\n",
    "    current_df = stocks_df[stocks_df['symbol'] == ticker]\n",
    "    index = current_df[current_df['symbol'] == ticker].index\n",
    "    \n",
    "    prev_df = current_df.shift(-1)\n",
    "    prev_prev_df = current_df.shift(-2)\n",
    "    prev_prev_prev_df = current_df.shift(-3)\n",
    "    \n",
    "    current_price = current_df['price']\n",
    "    current_actual = current_df['actual']\n",
    "    prev_price = prev_df['price']\n",
    "    prev_actual = prev_df['actual']\n",
    "    prev_prev_actual = prev_prev_df['actual']\n",
    "    prev_prev_prev_actual = prev_prev_prev_df['actual']\n",
    "    \n",
    "    stocks_df.loc[index, 'price_rate'] = 1 + (current_price - prev_price) / prev_price\n",
    "    stocks_df.loc[index, 'earning_growth'] = 1 + (current_actual - prev_actual) / prev_actual\n",
    "    stocks_df.loc[index, 'earning_growth_prev'] = 1 + (prev_actual - prev_prev_actual) / prev_prev_actual\n",
    "    stocks_df.loc[index, 'earning_growth_prev_prev'] = 1 + (prev_prev_actual - prev_prev_prev_actual) / prev_prev_prev_actual\n",
    "    \n",
    "    stocks_df.loc[index, 'earning_rate_prev'] = 1 + (prev_actual - prev_df['estimated']) / prev_df['estimated']\n",
    "    stocks_df.loc[index, 'earning_rate_prev_prev'] = 1 + (prev_prev_actual - prev_prev_df['estimated']) / prev_prev_df['estimated']\n",
    "    stocks_df.loc[index, 'earning_rate_prev_prev_prev'] = 1 + (prev_prev_prev_actual - prev_prev_prev_df['estimated']) / prev_prev_prev_df['estimated']"
   ]
  },
  {
   "cell_type": "code",
   "execution_count": 136,
   "id": "9e63d2f9",
   "metadata": {},
   "outputs": [
    {
     "name": "stdout",
     "output_type": "stream",
     "text": [
      "2023 3 - 5 from 18 / 2982\n",
      "H 116.37 106.77 0.9175045114720288\n",
      "HEES 52.31 34.77 0.6646912636207227\n",
      "THR 27.07 22.94 0.8474325821943111\n",
      "LNTH 73.08 86.589996 1.1848658456486043\n",
      "LW 98.2 108.51 1.104989816700611\n",
      "BIVI 65.6 58.4 0.8902439024390244\n",
      "0.9349546536792172\n",
      "2023 6 - 8 from 12 / 4432\n",
      "IDCC 81.59 85.05 1.042407157739919\n",
      "ANIP 46.419998 64.39 1.387117681478573\n",
      "BILL 103.989998 115.3 1.1087604790606882\n",
      "AMTX 5.2 5.01 0.9634615384615384\n",
      "AZUL 10.69 8.69 0.8129092609915809\n",
      "DT 51.639999 48.2 0.933384990964078\n",
      "1.0413401847827295\n",
      "2023 9 - 11 from 42 / 4324\n",
      "WIX 97.46 101.5 1.0414529037553868\n",
      "MOD 48.95 49.2 1.0051072522982636\n",
      "KRT 24.25 20.39 0.8408247422680413\n",
      "ARRY 24.95 15.47 0.6200400801603208\n",
      "POWL 83.84 82.67 0.9860448473282443\n",
      "FROG 29.72 26.98 0.9078061911170929\n",
      "0.9002126694878916\n",
      "2023 12 - 14 from 27 / 4245\n",
      "CXDO 3.3 5.55 1.6818181818181819\n",
      "LOGI 85.74 86.44 1.0081642174014462\n",
      "MNTX 6.9 6.84 0.9913043478260869\n",
      "SURG 6.76 7.76 1.1479289940828403\n",
      "NTNX 44.78 63.16 1.4104510942384993\n",
      "ESTC 110.2 133.81 1.2142468239564428\n",
      "1.242318943220583\n",
      "2024 3 - 5 from 41 / 3107\n",
      "BLBD 34.43 57.01 1.6558234098170201\n",
      "NXT 57.4 55.17 0.9611498257839721\n",
      "TILE 15.59 16.1 1.0327132777421424\n",
      "ITRI 93.18 107.55 1.154217643271088\n",
      "ANET 71.94 74.41 1.0343341673616904\n",
      "DFH 38.54 28.41 0.7371562013492475\n",
      "1.0958990875541934\n",
      "2024 6 - 8 from 14 / 4230\n",
      "CHWY 22.26 28.55 1.2825696316262354\n",
      "THC 133.69 165.84 1.2404817114219464\n",
      "APP 82.7 92.87 1.122974607013301\n",
      "APYX 1.66 1.33 0.8012048192771085\n",
      "ATGE 65.61 75.71 1.1539399481786312\n",
      "CLS 55.57 50.92 0.9163217563433508\n",
      "1.0862487456434289\n",
      "2024 9 - 11 from 30 / 4108\n",
      "BMRN 91.6 66.03 0.7208515283842796\n",
      "POWL 152.48 267.38 1.7535414480587619\n",
      "GHM 29.65 44.82 1.5116357504215854\n",
      "PDLB 11.09 12.93 1.1659152389540126\n",
      "FTI 25.45 31.37 1.232612966601179\n",
      "IAG 4.86 5.5 1.1316872427983538\n",
      "1.252707362536362\n"
     ]
    }
   ],
   "source": [
    "years = range(2023, 2025)\n",
    "months = (3, 6, 9, 12)\n",
    "\n",
    "now = datetime.now()\n",
    "\n",
    "total_earn_rates = []\n",
    "\n",
    "for year in years:\n",
    "    for month in months:\n",
    "        if year == now.year and month >= now.month: break\n",
    "            \n",
    "        stock_start_date = pd.to_datetime(f\"{year}-{month}-1\") - pd.DateOffset(months=3)\n",
    "        stock_end_date = pd.to_datetime(f\"{year}-{month}-1\") - pd.Timedelta(1, unit='d')\n",
    "        \n",
    "        quarter_stocks_df = stocks_df[\n",
    "            stocks_df['date'].between(stock_start_date, stock_end_date)\n",
    "        ].drop_duplicates(subset='symbol')\n",
    "        earning_stocks_df = quarter_stocks_df.query(\n",
    "            'price_rate > 1.1 and ' +\n",
    "            'earning_rate > 1.1 and ' + \n",
    "            'earning_rate_prev > 1.1 and ' +\n",
    "            'earning_rate_prev_prev > 1 and ' +\n",
    "#             'earning_rate_prev_prev_prev > 1 and ' +\n",
    "            'earning_growth > 1.1 and ' +\n",
    "            'earning_growth_prev > 1.1 and '+\n",
    "#             'earning_growth_prev_prev > 1 and '+\n",
    "            'actual > 0'\n",
    "        )\n",
    "        selected_stocks_df = corps_total_rank_by_standard_columns(earning_stocks_df, {\n",
    "            'actual': False,\n",
    "            'estimated': True,\n",
    "#             'earning_rate': False,\n",
    "#             'earning_growth' : False,\n",
    "#             'earning_rate_prev': False,\n",
    "#             'earning_growth_prev': False,\n",
    "#             'earning_rate_prev_prev' : False\n",
    "        }).head(6)\n",
    "        \n",
    "        print(year, f\"{month} - {month + 2}\", f\"from {len(earning_stocks_df)} / {len(quarter_stocks_df)}\")\n",
    "        \n",
    "        earn_rates = []\n",
    "        \n",
    "        price_from_date = f\"{year}-{str(month).zfill(2)}-01\"\n",
    "        price_to_date = pd.to_datetime(price_from_date) + pd.DateOffset(months=3) - pd.Timedelta(1, unit='d')\n",
    "        price_to_date = price_to_date.strftime('%Y-%m-%d')\n",
    "        \n",
    "        for ticker in selected_stocks_df['symbol']:\n",
    "            try:\n",
    "                historical_price = pd.DataFrame(\n",
    "                    get_jsonparsed_data(HISTORICAL_PRICE_URL % (ticker, price_from_date, price_to_date))['historical']\n",
    "                )\n",
    "                from_price = historical_price.iloc[-1]['adjClose']\n",
    "                to_price = historical_price.iloc[0]['adjClose']\n",
    "                \n",
    "#                 print('price', 'origin', from_price, to_price)\n",
    "                \n",
    "#                 new_report_df = stocks_df[\n",
    "#                     stocks_df['symbol'] == ticker\n",
    "#                 ][stocks_df['date'].between(price_from_date, price_to_date)]\n",
    "                \n",
    "#                 if len(new_report_df) > 0:\n",
    "#                     earning_growth = new_report_df.iloc[0]['earning_growth']\n",
    "                    \n",
    "#                     if earning_growth < 1:\n",
    "#                         shock_date = new_report_df.iloc[0]['date'].strftime(\"%Y-%m-%d\")\n",
    "#                         to_price = historical_price[historical_price['date'] == shock_date].iloc[0]['adjClose']\n",
    "#                         print('earning_shock', 'new to price', to_price)\n",
    "                \n",
    "                earn_rate = 1 + (to_price - from_price) / from_price\n",
    "                earn_rates.append(earn_rate)\n",
    "                print(ticker, from_price, to_price, earn_rate)\n",
    "            except Exception as e:\n",
    "                print(ticker, e)\n",
    "                None\n",
    "        \n",
    "        earn_rate = sum(earn_rates, 0.0) / len(earn_rates)\n",
    "        total_earn_rates.append(earn_rate)\n",
    "        print(earn_rate)"
   ]
  },
  {
   "cell_type": "code",
   "execution_count": 137,
   "id": "4b9ad505",
   "metadata": {},
   "outputs": [
    {
     "data": {
      "text/plain": [
       "1.6237190541710762"
      ]
     },
     "execution_count": 137,
     "metadata": {},
     "output_type": "execute_result"
    }
   ],
   "source": [
    "reduce(mul, total_earn_rates)"
   ]
  },
  {
   "cell_type": "code",
   "execution_count": 58,
   "id": "a1c09cb4",
   "metadata": {},
   "outputs": [
    {
     "data": {
      "text/html": [
       "<div>\n",
       "<style scoped>\n",
       "    .dataframe tbody tr th:only-of-type {\n",
       "        vertical-align: middle;\n",
       "    }\n",
       "\n",
       "    .dataframe tbody tr th {\n",
       "        vertical-align: top;\n",
       "    }\n",
       "\n",
       "    .dataframe thead th {\n",
       "        text-align: right;\n",
       "    }\n",
       "</style>\n",
       "<table border=\"1\" class=\"dataframe\">\n",
       "  <thead>\n",
       "    <tr style=\"text-align: right;\">\n",
       "      <th></th>\n",
       "      <th>symbol</th>\n",
       "      <th>date</th>\n",
       "      <th>year</th>\n",
       "      <th>month</th>\n",
       "      <th>day</th>\n",
       "      <th>price</th>\n",
       "      <th>actual</th>\n",
       "      <th>estimated</th>\n",
       "      <th>earning_rate</th>\n",
       "      <th>price_rate</th>\n",
       "      <th>earning_growth</th>\n",
       "      <th>earning_growth_prev</th>\n",
       "      <th>earning_growth_prev_prev</th>\n",
       "      <th>earning_rate_prev</th>\n",
       "      <th>earning_rate_prev_prev</th>\n",
       "      <th>earning_rate_prev_prev_prev</th>\n",
       "      <th>rank</th>\n",
       "    </tr>\n",
       "  </thead>\n",
       "  <tbody>\n",
       "    <tr>\n",
       "      <th>27499</th>\n",
       "      <td>MCY</td>\n",
       "      <td>2024-10-29</td>\n",
       "      <td>2024</td>\n",
       "      <td>10</td>\n",
       "      <td>29</td>\n",
       "      <td>68.41</td>\n",
       "      <td>2.54</td>\n",
       "      <td>1.150</td>\n",
       "      <td>2.208696</td>\n",
       "      <td>1.169002</td>\n",
       "      <td>2.330275</td>\n",
       "      <td>1.397436</td>\n",
       "      <td>0.678261</td>\n",
       "      <td>1.362500</td>\n",
       "      <td>5.200000</td>\n",
       "      <td>23.000000</td>\n",
       "      <td>1.0</td>\n",
       "    </tr>\n",
       "    <tr>\n",
       "      <th>22442</th>\n",
       "      <td>ILMN</td>\n",
       "      <td>2024-11-04</td>\n",
       "      <td>2024</td>\n",
       "      <td>11</td>\n",
       "      <td>4</td>\n",
       "      <td>153.49</td>\n",
       "      <td>1.14</td>\n",
       "      <td>0.870</td>\n",
       "      <td>1.310345</td>\n",
       "      <td>1.319096</td>\n",
       "      <td>3.166667</td>\n",
       "      <td>4.000000</td>\n",
       "      <td>0.642857</td>\n",
       "      <td>3.284672</td>\n",
       "      <td>2.064220</td>\n",
       "      <td>7.860752</td>\n",
       "      <td>2.0</td>\n",
       "    </tr>\n",
       "    <tr>\n",
       "      <th>30326</th>\n",
       "      <td>NL</td>\n",
       "      <td>2024-11-06</td>\n",
       "      <td>2024</td>\n",
       "      <td>11</td>\n",
       "      <td>6</td>\n",
       "      <td>8.50</td>\n",
       "      <td>0.74</td>\n",
       "      <td>0.212</td>\n",
       "      <td>3.490566</td>\n",
       "      <td>1.644101</td>\n",
       "      <td>4.625000</td>\n",
       "      <td>1.142857</td>\n",
       "      <td>0.875000</td>\n",
       "      <td>1.230769</td>\n",
       "      <td>1.166667</td>\n",
       "      <td>2.666667</td>\n",
       "      <td>3.0</td>\n",
       "    </tr>\n",
       "    <tr>\n",
       "      <th>18860</th>\n",
       "      <td>GHC</td>\n",
       "      <td>2024-10-30</td>\n",
       "      <td>2024</td>\n",
       "      <td>10</td>\n",
       "      <td>30</td>\n",
       "      <td>841.43</td>\n",
       "      <td>17.25</td>\n",
       "      <td>15.310</td>\n",
       "      <td>1.126715</td>\n",
       "      <td>1.088216</td>\n",
       "      <td>1.358268</td>\n",
       "      <td>1.129893</td>\n",
       "      <td>1.027422</td>\n",
       "      <td>1.453089</td>\n",
       "      <td>1.254464</td>\n",
       "      <td>0.873105</td>\n",
       "      <td>4.0</td>\n",
       "    </tr>\n",
       "    <tr>\n",
       "      <th>20262</th>\n",
       "      <td>HAS</td>\n",
       "      <td>2024-10-24</td>\n",
       "      <td>2024</td>\n",
       "      <td>10</td>\n",
       "      <td>24</td>\n",
       "      <td>65.35</td>\n",
       "      <td>1.73</td>\n",
       "      <td>1.280</td>\n",
       "      <td>1.351562</td>\n",
       "      <td>1.085909</td>\n",
       "      <td>1.418033</td>\n",
       "      <td>2.000000</td>\n",
       "      <td>1.605263</td>\n",
       "      <td>1.564103</td>\n",
       "      <td>2.272727</td>\n",
       "      <td>0.593750</td>\n",
       "      <td>5.0</td>\n",
       "    </tr>\n",
       "    <tr>\n",
       "      <th>24890</th>\n",
       "      <td>KRO</td>\n",
       "      <td>2024-11-06</td>\n",
       "      <td>2024</td>\n",
       "      <td>11</td>\n",
       "      <td>6</td>\n",
       "      <td>12.90</td>\n",
       "      <td>0.62</td>\n",
       "      <td>0.340</td>\n",
       "      <td>1.823529</td>\n",
       "      <td>1.277228</td>\n",
       "      <td>3.647059</td>\n",
       "      <td>2.428571</td>\n",
       "      <td>-1.400000</td>\n",
       "      <td>1.133333</td>\n",
       "      <td>8.750000</td>\n",
       "      <td>0.714286</td>\n",
       "      <td>6.0</td>\n",
       "    </tr>\n",
       "    <tr>\n",
       "      <th>14318</th>\n",
       "      <td>EBR-B</td>\n",
       "      <td>2024-11-06</td>\n",
       "      <td>2024</td>\n",
       "      <td>11</td>\n",
       "      <td>6</td>\n",
       "      <td>7.22</td>\n",
       "      <td>0.55</td>\n",
       "      <td>0.150</td>\n",
       "      <td>3.666667</td>\n",
       "      <td>0.984993</td>\n",
       "      <td>3.437500</td>\n",
       "      <td>2.000000</td>\n",
       "      <td>0.615385</td>\n",
       "      <td>3.200000</td>\n",
       "      <td>1.142857</td>\n",
       "      <td>2.166667</td>\n",
       "      <td>7.0</td>\n",
       "    </tr>\n",
       "  </tbody>\n",
       "</table>\n",
       "</div>"
      ],
      "text/plain": [
       "      symbol       date  year  month  day   price  actual  estimated  \\\n",
       "27499    MCY 2024-10-29  2024     10   29   68.41    2.54      1.150   \n",
       "22442   ILMN 2024-11-04  2024     11    4  153.49    1.14      0.870   \n",
       "30326     NL 2024-11-06  2024     11    6    8.50    0.74      0.212   \n",
       "18860    GHC 2024-10-30  2024     10   30  841.43   17.25     15.310   \n",
       "20262    HAS 2024-10-24  2024     10   24   65.35    1.73      1.280   \n",
       "24890    KRO 2024-11-06  2024     11    6   12.90    0.62      0.340   \n",
       "14318  EBR-B 2024-11-06  2024     11    6    7.22    0.55      0.150   \n",
       "\n",
       "       earning_rate  price_rate  earning_growth  earning_growth_prev  \\\n",
       "27499      2.208696    1.169002        2.330275             1.397436   \n",
       "22442      1.310345    1.319096        3.166667             4.000000   \n",
       "30326      3.490566    1.644101        4.625000             1.142857   \n",
       "18860      1.126715    1.088216        1.358268             1.129893   \n",
       "20262      1.351562    1.085909        1.418033             2.000000   \n",
       "24890      1.823529    1.277228        3.647059             2.428571   \n",
       "14318      3.666667    0.984993        3.437500             2.000000   \n",
       "\n",
       "       earning_growth_prev_prev  earning_rate_prev  earning_rate_prev_prev  \\\n",
       "27499                  0.678261           1.362500                5.200000   \n",
       "22442                  0.642857           3.284672                2.064220   \n",
       "30326                  0.875000           1.230769                1.166667   \n",
       "18860                  1.027422           1.453089                1.254464   \n",
       "20262                  1.605263           1.564103                2.272727   \n",
       "24890                 -1.400000           1.133333                8.750000   \n",
       "14318                  0.615385           3.200000                1.142857   \n",
       "\n",
       "       earning_rate_prev_prev_prev  rank  \n",
       "27499                    23.000000   1.0  \n",
       "22442                     7.860752   2.0  \n",
       "30326                     2.666667   3.0  \n",
       "18860                     0.873105   4.0  \n",
       "20262                     0.593750   5.0  \n",
       "24890                     0.714286   6.0  \n",
       "14318                     2.166667   7.0  "
      ]
     },
     "execution_count": 58,
     "metadata": {},
     "output_type": "execute_result"
    }
   ],
   "source": [
    "# 현재 요 전략이 수익률 좋음\n",
    "current_stocks_df = stocks_df[\n",
    "    (stocks_df['month'].isin([9, 10, 11])) & (stocks_df['year'] == 2024)\n",
    "].drop_duplicates(\n",
    "    subset='symbol'\n",
    ").query(\n",
    "    'earning_rate > 1.1 and ' + \n",
    "    'earning_rate_prev > 1.1 and ' +\n",
    "    'earning_rate_prev_prev > 1.1 and ' +\n",
    "    'earning_growth > 1.1 and ' +\n",
    "    'earning_growth_prev > 1.1 and '+\n",
    "    'actual > 0'\n",
    ")\n",
    "corps_total_rank_by_standard_columns(current_stocks_df, {\n",
    "    'actual': False,\n",
    "    'earning_growth' : False\n",
    "}).head(7)"
   ]
  },
  {
   "cell_type": "code",
   "execution_count": 107,
   "id": "b7b6b277",
   "metadata": {},
   "outputs": [
    {
     "data": {
      "text/html": [
       "<div>\n",
       "<style scoped>\n",
       "    .dataframe tbody tr th:only-of-type {\n",
       "        vertical-align: middle;\n",
       "    }\n",
       "\n",
       "    .dataframe tbody tr th {\n",
       "        vertical-align: top;\n",
       "    }\n",
       "\n",
       "    .dataframe thead th {\n",
       "        text-align: right;\n",
       "    }\n",
       "</style>\n",
       "<table border=\"1\" class=\"dataframe\">\n",
       "  <thead>\n",
       "    <tr style=\"text-align: right;\">\n",
       "      <th></th>\n",
       "      <th>symbol</th>\n",
       "      <th>date</th>\n",
       "      <th>year</th>\n",
       "      <th>month</th>\n",
       "      <th>day</th>\n",
       "      <th>price</th>\n",
       "      <th>actual</th>\n",
       "      <th>estimated</th>\n",
       "      <th>earning_rate</th>\n",
       "    </tr>\n",
       "  </thead>\n",
       "  <tbody>\n",
       "    <tr>\n",
       "      <th>0</th>\n",
       "      <td>A</td>\n",
       "      <td>2024-11-25</td>\n",
       "      <td>2024</td>\n",
       "      <td>11</td>\n",
       "      <td>25</td>\n",
       "      <td>133.839996</td>\n",
       "      <td>1.46000</td>\n",
       "      <td>1.41000</td>\n",
       "      <td>1.035461</td>\n",
       "    </tr>\n",
       "    <tr>\n",
       "      <th>1</th>\n",
       "      <td>A</td>\n",
       "      <td>2024-08-21</td>\n",
       "      <td>2024</td>\n",
       "      <td>8</td>\n",
       "      <td>21</td>\n",
       "      <td>142.692841</td>\n",
       "      <td>1.32000</td>\n",
       "      <td>1.26000</td>\n",
       "      <td>1.047619</td>\n",
       "    </tr>\n",
       "    <tr>\n",
       "      <th>2</th>\n",
       "      <td>A</td>\n",
       "      <td>2024-05-29</td>\n",
       "      <td>2024</td>\n",
       "      <td>5</td>\n",
       "      <td>29</td>\n",
       "      <td>129.961533</td>\n",
       "      <td>1.22000</td>\n",
       "      <td>1.19000</td>\n",
       "      <td>1.025210</td>\n",
       "    </tr>\n",
       "    <tr>\n",
       "      <th>3</th>\n",
       "      <td>A</td>\n",
       "      <td>2024-02-27</td>\n",
       "      <td>2024</td>\n",
       "      <td>2</td>\n",
       "      <td>27</td>\n",
       "      <td>136.665619</td>\n",
       "      <td>1.29000</td>\n",
       "      <td>1.22000</td>\n",
       "      <td>1.057377</td>\n",
       "    </tr>\n",
       "    <tr>\n",
       "      <th>4</th>\n",
       "      <td>A</td>\n",
       "      <td>2023-11-20</td>\n",
       "      <td>2023</td>\n",
       "      <td>11</td>\n",
       "      <td>20</td>\n",
       "      <td>126.939247</td>\n",
       "      <td>1.38000</td>\n",
       "      <td>1.34000</td>\n",
       "      <td>1.029851</td>\n",
       "    </tr>\n",
       "    <tr>\n",
       "      <th>...</th>\n",
       "      <td>...</td>\n",
       "      <td>...</td>\n",
       "      <td>...</td>\n",
       "      <td>...</td>\n",
       "      <td>...</td>\n",
       "      <td>...</td>\n",
       "      <td>...</td>\n",
       "      <td>...</td>\n",
       "      <td>...</td>\n",
       "    </tr>\n",
       "    <tr>\n",
       "      <th>284447</th>\n",
       "      <td>ZYXI</td>\n",
       "      <td>2013-05-08</td>\n",
       "      <td>2013</td>\n",
       "      <td>5</td>\n",
       "      <td>8</td>\n",
       "      <td>0.234805</td>\n",
       "      <td>-0.01000</td>\n",
       "      <td>-0.00333</td>\n",
       "      <td>3.003003</td>\n",
       "    </tr>\n",
       "    <tr>\n",
       "      <th>284448</th>\n",
       "      <td>ZYXI</td>\n",
       "      <td>2013-03-14</td>\n",
       "      <td>2013</td>\n",
       "      <td>3</td>\n",
       "      <td>14</td>\n",
       "      <td>0.293506</td>\n",
       "      <td>0.01000</td>\n",
       "      <td>0.02000</td>\n",
       "      <td>0.500000</td>\n",
       "    </tr>\n",
       "    <tr>\n",
       "      <th>284449</th>\n",
       "      <td>ZYXI</td>\n",
       "      <td>2012-11-07</td>\n",
       "      <td>2012</td>\n",
       "      <td>11</td>\n",
       "      <td>7</td>\n",
       "      <td>0.332640</td>\n",
       "      <td>0.01000</td>\n",
       "      <td>0.02000</td>\n",
       "      <td>0.500000</td>\n",
       "    </tr>\n",
       "    <tr>\n",
       "      <th>284450</th>\n",
       "      <td>ZYXI</td>\n",
       "      <td>2011-08-03</td>\n",
       "      <td>2011</td>\n",
       "      <td>8</td>\n",
       "      <td>3</td>\n",
       "      <td>0.396233</td>\n",
       "      <td>0.02000</td>\n",
       "      <td>0.02000</td>\n",
       "      <td>1.000000</td>\n",
       "    </tr>\n",
       "    <tr>\n",
       "      <th>284451</th>\n",
       "      <td>ZYXI</td>\n",
       "      <td>2011-05-05</td>\n",
       "      <td>2011</td>\n",
       "      <td>5</td>\n",
       "      <td>5</td>\n",
       "      <td>0.440259</td>\n",
       "      <td>-0.00326</td>\n",
       "      <td>-0.00148</td>\n",
       "      <td>2.202703</td>\n",
       "    </tr>\n",
       "  </tbody>\n",
       "</table>\n",
       "<p>284452 rows × 9 columns</p>\n",
       "</div>"
      ],
      "text/plain": [
       "       symbol       date  year  month  day       price   actual  estimated  \\\n",
       "0           A 2024-11-25  2024     11   25  133.839996  1.46000    1.41000   \n",
       "1           A 2024-08-21  2024      8   21  142.692841  1.32000    1.26000   \n",
       "2           A 2024-05-29  2024      5   29  129.961533  1.22000    1.19000   \n",
       "3           A 2024-02-27  2024      2   27  136.665619  1.29000    1.22000   \n",
       "4           A 2023-11-20  2023     11   20  126.939247  1.38000    1.34000   \n",
       "...       ...        ...   ...    ...  ...         ...      ...        ...   \n",
       "284447   ZYXI 2013-05-08  2013      5    8    0.234805 -0.01000   -0.00333   \n",
       "284448   ZYXI 2013-03-14  2013      3   14    0.293506  0.01000    0.02000   \n",
       "284449   ZYXI 2012-11-07  2012     11    7    0.332640  0.01000    0.02000   \n",
       "284450   ZYXI 2011-08-03  2011      8    3    0.396233  0.02000    0.02000   \n",
       "284451   ZYXI 2011-05-05  2011      5    5    0.440259 -0.00326   -0.00148   \n",
       "\n",
       "        earning_rate  \n",
       "0           1.035461  \n",
       "1           1.047619  \n",
       "2           1.025210  \n",
       "3           1.057377  \n",
       "4           1.029851  \n",
       "...              ...  \n",
       "284447      3.003003  \n",
       "284448      0.500000  \n",
       "284449      0.500000  \n",
       "284450      1.000000  \n",
       "284451      2.202703  \n",
       "\n",
       "[284452 rows x 9 columns]"
      ]
     },
     "execution_count": 107,
     "metadata": {},
     "output_type": "execute_result"
    }
   ],
   "source": [
    "pd.DataFrame(metrics)"
   ]
  },
  {
   "cell_type": "code",
   "execution_count": null,
   "id": "92ff2223",
   "metadata": {},
   "outputs": [],
   "source": []
  }
 ],
 "metadata": {
  "kernelspec": {
   "display_name": "Python 3 (ipykernel)",
   "language": "python",
   "name": "python3"
  },
  "language_info": {
   "codemirror_mode": {
    "name": "ipython",
    "version": 3
   },
   "file_extension": ".py",
   "mimetype": "text/x-python",
   "name": "python",
   "nbconvert_exporter": "python",
   "pygments_lexer": "ipython3",
   "version": "3.11.5"
  }
 },
 "nbformat": 4,
 "nbformat_minor": 5
}
