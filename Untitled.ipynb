{
 "cells": [
  {
   "cell_type": "code",
   "execution_count": 1,
   "id": "42c7279b",
   "metadata": {},
   "outputs": [],
   "source": [
    "from urllib.request import urlopen\n",
    "import certifi\n",
    "import json\n",
    "from datetime import datetime\n",
    "\n",
    "import pandas as pd"
   ]
  },
  {
   "cell_type": "code",
   "execution_count": 6,
   "id": "1e9a06a6",
   "metadata": {},
   "outputs": [],
   "source": [
    "API_KEY = \"e558vSI8LyRrCGv5TqWJtFTAcMDoVD7c\"\n",
    "\n",
    "FETCH_STOCKS_URL = (\n",
    "    f\"https://financialmodelingprep.com/api/v3/stock-screener?apikey={API_KEY}&\"\n",
    "    f\"exchange=nyse,nasdaq&isEtf=false&isFund=false&limit=10000\"\n",
    ")\n",
    "\n",
    "EARNING_URL = f\"https://financialmodelingprep.com/api/v3/earnings-surprises/%s?apikey={API_KEY}\""
   ]
  },
  {
   "cell_type": "code",
   "execution_count": 3,
   "id": "7c945608",
   "metadata": {},
   "outputs": [],
   "source": [
    "def get_jsonparsed_data(url):\n",
    "    response = urlopen(url, cafile=certifi.where())\n",
    "    data = response.read().decode(\"utf-8\")\n",
    "    return json.loads(data)"
   ]
  },
  {
   "cell_type": "code",
   "execution_count": 4,
   "id": "dc5acdde",
   "metadata": {},
   "outputs": [
    {
     "name": "stderr",
     "output_type": "stream",
     "text": [
      "/var/folders/d9/3tp2f4s97kn5_bdphqnnqfjw0000gn/T/ipykernel_67115/654040892.py:2: DeprecationWarning: cafile, capath and cadefault are deprecated, use a custom context instead.\n",
      "  response = urlopen(url, cafile=certifi.where())\n"
     ]
    },
    {
     "data": {
      "text/plain": [
       "7754"
      ]
     },
     "execution_count": 4,
     "metadata": {},
     "output_type": "execute_result"
    }
   ],
   "source": [
    "stocks = get_jsonparsed_data(FETCH_STOCKS_URL)\n",
    "len(stocks)"
   ]
  },
  {
   "cell_type": "code",
   "execution_count": 5,
   "id": "af403b1d",
   "metadata": {},
   "outputs": [],
   "source": [
    "tickers = list(map(lambda stock: stock[\"symbol\"], stocks))\n",
    "tickers = sorted(tickers)"
   ]
  },
  {
   "cell_type": "code",
   "execution_count": 13,
   "id": "160e0965",
   "metadata": {},
   "outputs": [
    {
     "name": "stderr",
     "output_type": "stream",
     "text": [
      "/var/folders/d9/3tp2f4s97kn5_bdphqnnqfjw0000gn/T/ipykernel_67115/654040892.py:2: DeprecationWarning: cafile, capath and cadefault are deprecated, use a custom context instead.\n",
      "  response = urlopen(url, cafile=certifi.where())\n"
     ]
    },
    {
     "name": "stdout",
     "output_type": "stream",
     "text": [
      "======= A ========\n",
      "======= AA ========\n",
      "======= AAC ========\n",
      "======= AACG ========\n",
      "======= AACI ========\n",
      "======= AACT ========\n",
      "======= AADI ========\n",
      "======= AAGR ========\n",
      "======= AAIC ========\n",
      "======= AAIN ========\n"
     ]
    }
   ],
   "source": [
    "metrics = []\n",
    "\n",
    "for ticker in tickers[:10]:\n",
    "    try:\n",
    "        earnings = get_jsonparsed_data(EARNING_URL % ticker)\n",
    "        for earning in earnings:\n",
    "            date = datetime.strptime(earning[\"date\"], \"%Y-%m-%d\")\n",
    "            metrics.append({\n",
    "                'symbol' : earning['symbol'],\n",
    "                'date' : date,\n",
    "                'year' : date.year,\n",
    "                'month' : date.month,\n",
    "                'day' : date.day,\n",
    "                'actual' : earning['actualEarningResult'],\n",
    "                'estimated' : earning['estimatedEarning'],\n",
    "                'earning_rate' : (earning['actualEarningResult'] - earning['estimatedEarning']) / earning['estimatedEarning']\n",
    "            })\n",
    "        print(f\"======= {ticker} ========\")\n",
    "    except Exception as e:\n",
    "        print(e)\n",
    "        None"
   ]
  },
  {
   "cell_type": "code",
   "execution_count": 14,
   "id": "d014fca7",
   "metadata": {},
   "outputs": [
    {
     "data": {
      "text/html": [
       "<div>\n",
       "<style scoped>\n",
       "    .dataframe tbody tr th:only-of-type {\n",
       "        vertical-align: middle;\n",
       "    }\n",
       "\n",
       "    .dataframe tbody tr th {\n",
       "        vertical-align: top;\n",
       "    }\n",
       "\n",
       "    .dataframe thead th {\n",
       "        text-align: right;\n",
       "    }\n",
       "</style>\n",
       "<table border=\"1\" class=\"dataframe\">\n",
       "  <thead>\n",
       "    <tr style=\"text-align: right;\">\n",
       "      <th></th>\n",
       "      <th>symbol</th>\n",
       "      <th>date</th>\n",
       "      <th>year</th>\n",
       "      <th>month</th>\n",
       "      <th>day</th>\n",
       "      <th>actual</th>\n",
       "      <th>estimated</th>\n",
       "      <th>earning_rate</th>\n",
       "    </tr>\n",
       "  </thead>\n",
       "  <tbody>\n",
       "    <tr>\n",
       "      <th>0</th>\n",
       "      <td>A</td>\n",
       "      <td>2024-08-21</td>\n",
       "      <td>2024</td>\n",
       "      <td>8</td>\n",
       "      <td>21</td>\n",
       "      <td>1.32</td>\n",
       "      <td>1.26</td>\n",
       "      <td>0.047619</td>\n",
       "    </tr>\n",
       "    <tr>\n",
       "      <th>1</th>\n",
       "      <td>A</td>\n",
       "      <td>2024-05-29</td>\n",
       "      <td>2024</td>\n",
       "      <td>5</td>\n",
       "      <td>29</td>\n",
       "      <td>1.22</td>\n",
       "      <td>1.19</td>\n",
       "      <td>0.025210</td>\n",
       "    </tr>\n",
       "    <tr>\n",
       "      <th>2</th>\n",
       "      <td>A</td>\n",
       "      <td>2024-02-27</td>\n",
       "      <td>2024</td>\n",
       "      <td>2</td>\n",
       "      <td>27</td>\n",
       "      <td>1.29</td>\n",
       "      <td>1.22</td>\n",
       "      <td>0.057377</td>\n",
       "    </tr>\n",
       "    <tr>\n",
       "      <th>3</th>\n",
       "      <td>A</td>\n",
       "      <td>2023-11-20</td>\n",
       "      <td>2023</td>\n",
       "      <td>11</td>\n",
       "      <td>20</td>\n",
       "      <td>1.38</td>\n",
       "      <td>1.34</td>\n",
       "      <td>0.029851</td>\n",
       "    </tr>\n",
       "    <tr>\n",
       "      <th>4</th>\n",
       "      <td>A</td>\n",
       "      <td>2023-08-15</td>\n",
       "      <td>2023</td>\n",
       "      <td>8</td>\n",
       "      <td>15</td>\n",
       "      <td>1.43</td>\n",
       "      <td>1.37</td>\n",
       "      <td>0.043796</td>\n",
       "    </tr>\n",
       "    <tr>\n",
       "      <th>...</th>\n",
       "      <td>...</td>\n",
       "      <td>...</td>\n",
       "      <td>...</td>\n",
       "      <td>...</td>\n",
       "      <td>...</td>\n",
       "      <td>...</td>\n",
       "      <td>...</td>\n",
       "      <td>...</td>\n",
       "    </tr>\n",
       "    <tr>\n",
       "      <th>254</th>\n",
       "      <td>AAIC</td>\n",
       "      <td>1999-07-21</td>\n",
       "      <td>1999</td>\n",
       "      <td>7</td>\n",
       "      <td>21</td>\n",
       "      <td>2.40</td>\n",
       "      <td>1.33</td>\n",
       "      <td>0.804511</td>\n",
       "    </tr>\n",
       "    <tr>\n",
       "      <th>255</th>\n",
       "      <td>AAIC</td>\n",
       "      <td>1999-01-26</td>\n",
       "      <td>1999</td>\n",
       "      <td>1</td>\n",
       "      <td>26</td>\n",
       "      <td>-1.60</td>\n",
       "      <td>-3.33</td>\n",
       "      <td>-0.519520</td>\n",
       "    </tr>\n",
       "    <tr>\n",
       "      <th>256</th>\n",
       "      <td>AAIC</td>\n",
       "      <td>1998-10-22</td>\n",
       "      <td>1998</td>\n",
       "      <td>10</td>\n",
       "      <td>22</td>\n",
       "      <td>-14.20</td>\n",
       "      <td>-15.60</td>\n",
       "      <td>-0.089744</td>\n",
       "    </tr>\n",
       "    <tr>\n",
       "      <th>257</th>\n",
       "      <td>AAIC</td>\n",
       "      <td>1998-07-22</td>\n",
       "      <td>1998</td>\n",
       "      <td>7</td>\n",
       "      <td>22</td>\n",
       "      <td>3.00</td>\n",
       "      <td>4.47</td>\n",
       "      <td>-0.328859</td>\n",
       "    </tr>\n",
       "    <tr>\n",
       "      <th>258</th>\n",
       "      <td>AAIC</td>\n",
       "      <td>1998-04-23</td>\n",
       "      <td>1998</td>\n",
       "      <td>4</td>\n",
       "      <td>23</td>\n",
       "      <td>6.20</td>\n",
       "      <td>5.30</td>\n",
       "      <td>0.169811</td>\n",
       "    </tr>\n",
       "  </tbody>\n",
       "</table>\n",
       "<p>259 rows × 8 columns</p>\n",
       "</div>"
      ],
      "text/plain": [
       "    symbol       date  year  month  day  actual  estimated  earning_rate\n",
       "0        A 2024-08-21  2024      8   21    1.32       1.26      0.047619\n",
       "1        A 2024-05-29  2024      5   29    1.22       1.19      0.025210\n",
       "2        A 2024-02-27  2024      2   27    1.29       1.22      0.057377\n",
       "3        A 2023-11-20  2023     11   20    1.38       1.34      0.029851\n",
       "4        A 2023-08-15  2023      8   15    1.43       1.37      0.043796\n",
       "..     ...        ...   ...    ...  ...     ...        ...           ...\n",
       "254   AAIC 1999-07-21  1999      7   21    2.40       1.33      0.804511\n",
       "255   AAIC 1999-01-26  1999      1   26   -1.60      -3.33     -0.519520\n",
       "256   AAIC 1998-10-22  1998     10   22  -14.20     -15.60     -0.089744\n",
       "257   AAIC 1998-07-22  1998      7   22    3.00       4.47     -0.328859\n",
       "258   AAIC 1998-04-23  1998      4   23    6.20       5.30      0.169811\n",
       "\n",
       "[259 rows x 8 columns]"
      ]
     },
     "execution_count": 14,
     "metadata": {},
     "output_type": "execute_result"
    }
   ],
   "source": [
    "pd.DataFrame(metrics)"
   ]
  },
  {
   "cell_type": "code",
   "execution_count": null,
   "id": "4aff2fcf",
   "metadata": {},
   "outputs": [],
   "source": []
  }
 ],
 "metadata": {
  "kernelspec": {
   "display_name": "Python 3 (ipykernel)",
   "language": "python",
   "name": "python3"
  },
  "language_info": {
   "codemirror_mode": {
    "name": "ipython",
    "version": 3
   },
   "file_extension": ".py",
   "mimetype": "text/x-python",
   "name": "python",
   "nbconvert_exporter": "python",
   "pygments_lexer": "ipython3",
   "version": "3.11.5"
  }
 },
 "nbformat": 4,
 "nbformat_minor": 5
}
