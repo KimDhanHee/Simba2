{
 "cells": [
  {
   "cell_type": "code",
   "execution_count": 63,
   "id": "a6df0b05",
   "metadata": {},
   "outputs": [],
   "source": [
    "from urllib.request import urlopen\n",
    "import certifi\n",
    "from db.db import *\n",
    "import pandas as pd\n",
    "from datetime import datetime\n",
    "import json\n",
    "import calendar\n",
    "from functools import reduce\n",
    "from operator import mul"
   ]
  },
  {
   "cell_type": "code",
   "execution_count": 56,
   "id": "891b5132",
   "metadata": {},
   "outputs": [],
   "source": [
    "db = Database()"
   ]
  },
  {
   "cell_type": "code",
   "execution_count": 57,
   "id": "b435eff3",
   "metadata": {},
   "outputs": [],
   "source": [
    "API_KEY = \"e558vSI8LyRrCGv5TqWJtFTAcMDoVD7c\"\n",
    "HISTORICAL_PRICE_URL = f\"https://financialmodelingprep.com/api/v3/historical-price-full/%s?apikey={API_KEY}&from=%s&to=%s\""
   ]
  },
  {
   "cell_type": "code",
   "execution_count": 53,
   "id": "75d0aa4e",
   "metadata": {},
   "outputs": [],
   "source": [
    "def get_jsonparsed_data(url):\n",
    "    response = urlopen(url, cafile=certifi.where())\n",
    "    data = response.read().decode(\"utf-8\")\n",
    "    return json.loads(data)"
   ]
  },
  {
   "cell_type": "code",
   "execution_count": 51,
   "id": "a59557cb",
   "metadata": {},
   "outputs": [],
   "source": [
    "def corps_total_rank_by_standard_columns(df, column_map) -> pd.DataFrame:\n",
    "    report_df = df.copy()\n",
    "    rank_df = pd.DataFrame(index=report_df.index)\n",
    "    total_value = pd.Series([0] * len(report_df), index=report_df.index)\n",
    "\n",
    "    for col, ascending in column_map.items():\n",
    "        total_value += report_df[col].rank(ascending=ascending)\n",
    "\n",
    "    rank_df['total_rank'] = total_value.rank()\n",
    "    rank_df = rank_df.sort_values(by='total_rank')\n",
    "    report_df['rank'] = rank_df['total_rank']\n",
    "\n",
    "    return report_df.loc[rank_df.index]"
   ]
  },
  {
   "cell_type": "code",
   "execution_count": 6,
   "id": "152f329c",
   "metadata": {},
   "outputs": [],
   "source": [
    "aapl_financial_report_df = db.fetch_ticker_financial_report(ticker = \"AAPL\", from_date = \"2024-01-01\", to_date = \"2024-12-01\")"
   ]
  },
  {
   "cell_type": "code",
   "execution_count": 4,
   "id": "13782dd9",
   "metadata": {},
   "outputs": [],
   "source": [
    "earning_report_df = pd.read_csv('earning.csv')"
   ]
  },
  {
   "cell_type": "code",
   "execution_count": 7,
   "id": "54c46148",
   "metadata": {},
   "outputs": [
    {
     "name": "stderr",
     "output_type": "stream",
     "text": [
      "/var/folders/d9/3tp2f4s97kn5_bdphqnnqfjw0000gn/T/ipykernel_93489/1841658139.py:1: UserWarning: Boolean Series key will be reindexed to match DataFrame index.\n",
      "  aapl_earning_report_df = earning_report_df[earning_report_df['symbol'] == 'AAPL'][earning_report_df['date'].between(\"2024-01-01\", \"2024-12-01\")]\n"
     ]
    }
   ],
   "source": [
    "aapl_earning_report_df = earning_report_df[earning_report_df['symbol'] == 'AAPL'][earning_report_df['date'].between(\"2024-01-01\", \"2024-12-01\")]"
   ]
  },
  {
   "cell_type": "code",
   "execution_count": 11,
   "id": "5293bac7",
   "metadata": {},
   "outputs": [],
   "source": [
    "aapl_financial_report_df = aapl_financial_report_df.drop_duplicates(subset=['date']).sort_values(by='date', ascending=False)"
   ]
  },
  {
   "cell_type": "code",
   "execution_count": 12,
   "id": "b615280c",
   "metadata": {},
   "outputs": [],
   "source": [
    "aapl_earning_report_df = aapl_earning_report_df.sort_values(by='date', ascending=False)"
   ]
  },
  {
   "cell_type": "code",
   "execution_count": 23,
   "id": "f2385e59",
   "metadata": {},
   "outputs": [],
   "source": [
    "aapl_earning_report_df['pegr'] = aapl_financial_report_df['pegr'].to_list()"
   ]
  },
  {
   "cell_type": "code",
   "execution_count": 24,
   "id": "be78cfff",
   "metadata": {},
   "outputs": [
    {
     "data": {
      "text/html": [
       "<div>\n",
       "<style scoped>\n",
       "    .dataframe tbody tr th:only-of-type {\n",
       "        vertical-align: middle;\n",
       "    }\n",
       "\n",
       "    .dataframe tbody tr th {\n",
       "        vertical-align: top;\n",
       "    }\n",
       "\n",
       "    .dataframe thead th {\n",
       "        text-align: right;\n",
       "    }\n",
       "</style>\n",
       "<table border=\"1\" class=\"dataframe\">\n",
       "  <thead>\n",
       "    <tr style=\"text-align: right;\">\n",
       "      <th></th>\n",
       "      <th>symbol</th>\n",
       "      <th>date</th>\n",
       "      <th>year</th>\n",
       "      <th>month</th>\n",
       "      <th>day</th>\n",
       "      <th>actual</th>\n",
       "      <th>estimated</th>\n",
       "      <th>earning_rate</th>\n",
       "      <th>earning_growth</th>\n",
       "      <th>earning_growth_prev</th>\n",
       "      <th>earning_growth_prev_prev</th>\n",
       "      <th>earning_rate_prev</th>\n",
       "      <th>earning_rate_prev_prev</th>\n",
       "      <th>earning_rate_prev_prev_prev</th>\n",
       "      <th>pegr</th>\n",
       "    </tr>\n",
       "  </thead>\n",
       "  <tbody>\n",
       "    <tr>\n",
       "      <th>766</th>\n",
       "      <td>AAPL</td>\n",
       "      <td>2024-10-31</td>\n",
       "      <td>2024</td>\n",
       "      <td>10</td>\n",
       "      <td>31</td>\n",
       "      <td>1.64</td>\n",
       "      <td>1.60</td>\n",
       "      <td>1.025000</td>\n",
       "      <td>1.171429</td>\n",
       "      <td>0.915033</td>\n",
       "      <td>0.701835</td>\n",
       "      <td>1.037037</td>\n",
       "      <td>1.020000</td>\n",
       "      <td>1.038095</td>\n",
       "      <td>-1.908962</td>\n",
       "    </tr>\n",
       "    <tr>\n",
       "      <th>767</th>\n",
       "      <td>AAPL</td>\n",
       "      <td>2024-08-01</td>\n",
       "      <td>2024</td>\n",
       "      <td>8</td>\n",
       "      <td>1</td>\n",
       "      <td>1.40</td>\n",
       "      <td>1.35</td>\n",
       "      <td>1.037037</td>\n",
       "      <td>0.915033</td>\n",
       "      <td>0.701835</td>\n",
       "      <td>1.493151</td>\n",
       "      <td>1.020000</td>\n",
       "      <td>1.038095</td>\n",
       "      <td>1.050360</td>\n",
       "      <td>-4.417107</td>\n",
       "    </tr>\n",
       "    <tr>\n",
       "      <th>768</th>\n",
       "      <td>AAPL</td>\n",
       "      <td>2024-05-02</td>\n",
       "      <td>2024</td>\n",
       "      <td>5</td>\n",
       "      <td>2</td>\n",
       "      <td>1.53</td>\n",
       "      <td>1.50</td>\n",
       "      <td>1.020000</td>\n",
       "      <td>0.701835</td>\n",
       "      <td>1.493151</td>\n",
       "      <td>1.158730</td>\n",
       "      <td>1.038095</td>\n",
       "      <td>1.050360</td>\n",
       "      <td>1.058824</td>\n",
       "      <td>-0.927183</td>\n",
       "    </tr>\n",
       "    <tr>\n",
       "      <th>769</th>\n",
       "      <td>AAPL</td>\n",
       "      <td>2024-02-01</td>\n",
       "      <td>2024</td>\n",
       "      <td>2</td>\n",
       "      <td>1</td>\n",
       "      <td>2.18</td>\n",
       "      <td>2.10</td>\n",
       "      <td>1.038095</td>\n",
       "      <td>1.493151</td>\n",
       "      <td>1.158730</td>\n",
       "      <td>0.828947</td>\n",
       "      <td>1.050360</td>\n",
       "      <td>1.058824</td>\n",
       "      <td>1.062937</td>\n",
       "      <td>0.449390</td>\n",
       "    </tr>\n",
       "  </tbody>\n",
       "</table>\n",
       "</div>"
      ],
      "text/plain": [
       "    symbol        date  year  month  day  actual  estimated  earning_rate  \\\n",
       "766   AAPL  2024-10-31  2024     10   31    1.64       1.60      1.025000   \n",
       "767   AAPL  2024-08-01  2024      8    1    1.40       1.35      1.037037   \n",
       "768   AAPL  2024-05-02  2024      5    2    1.53       1.50      1.020000   \n",
       "769   AAPL  2024-02-01  2024      2    1    2.18       2.10      1.038095   \n",
       "\n",
       "     earning_growth  earning_growth_prev  earning_growth_prev_prev  \\\n",
       "766        1.171429             0.915033                  0.701835   \n",
       "767        0.915033             0.701835                  1.493151   \n",
       "768        0.701835             1.493151                  1.158730   \n",
       "769        1.493151             1.158730                  0.828947   \n",
       "\n",
       "     earning_rate_prev  earning_rate_prev_prev  earning_rate_prev_prev_prev  \\\n",
       "766           1.037037                1.020000                     1.038095   \n",
       "767           1.020000                1.038095                     1.050360   \n",
       "768           1.038095                1.050360                     1.058824   \n",
       "769           1.050360                1.058824                     1.062937   \n",
       "\n",
       "         pegr  \n",
       "766 -1.908962  \n",
       "767 -4.417107  \n",
       "768 -0.927183  \n",
       "769  0.449390  "
      ]
     },
     "execution_count": 24,
     "metadata": {},
     "output_type": "execute_result"
    }
   ],
   "source": [
    "aapl_earning_report_df"
   ]
  },
  {
   "cell_type": "code",
   "execution_count": 22,
   "id": "2e4db115",
   "metadata": {},
   "outputs": [
    {
     "data": {
      "text/plain": [
       "[-1.9089615381647222,\n",
       " -4.417107422352988,\n",
       " -0.9271831184048985,\n",
       " 0.4493904021734763]"
      ]
     },
     "execution_count": 22,
     "metadata": {},
     "output_type": "execute_result"
    }
   ],
   "source": [
    "aapl_financial_report_df['pegr'].to_list()"
   ]
  },
  {
   "cell_type": "code",
   "execution_count": 35,
   "id": "ef8d72e9",
   "metadata": {},
   "outputs": [],
   "source": [
    "stocks_df = earning_report_df.copy()\n",
    "\n",
    "for ticker in stocks_df['symbol'].drop_duplicates():\n",
    "    current_df = stocks_df[stocks_df['symbol'] == ticker]\n",
    "    report_df = db.fetch_ticker_financial_report(ticker = \"AAPL\", from_date = None, to_date = None).drop_duplicates(subset=['date'])\n",
    "    length = min(len(current_df), len(report_df))\n",
    "    \n",
    "    current_df = current_df.iloc[:length].sort_values(by='date', ascending=False)\n",
    "    report_df = report_df.iloc[:length].sort_values(by='date', ascending=False)\n",
    "    current_df['pegr'] = report_df['pegr'].to_list()\n",
    "    \n",
    "    index = current_df[current_df['symbol'] == ticker].index\n",
    "    \n",
    "    prev_df = current_df.shift(-1)\n",
    "    prev_prev_df = current_df.shift(-2)\n",
    "    prev_prev_prev_df = current_df.shift(-3)\n",
    "    \n",
    "    current_actual = current_df['actual']\n",
    "    prev_actual = prev_df['actual']\n",
    "    prev_prev_actual = prev_prev_df['actual']\n",
    "    prev_prev_prev_actual = prev_prev_prev_df['actual']\n",
    "    \n",
    "    stocks_df.loc[index, 'pegr'] = current_df['pegr']\n",
    "    stocks_df.loc[index, 'earning_growth'] = 1 + (current_actual - prev_actual) / prev_actual\n",
    "    stocks_df.loc[index, 'earning_growth_prev'] = 1 + (prev_actual - prev_prev_actual) / prev_prev_actual\n",
    "    stocks_df.loc[index, 'earning_growth_prev_prev'] = 1 + (prev_prev_actual - prev_prev_prev_actual) / prev_prev_prev_actual\n",
    "    \n",
    "    stocks_df.loc[index, 'earning_rate_prev'] = 1 + (prev_actual - prev_df['estimated']) / prev_df['estimated']\n",
    "    stocks_df.loc[index, 'earning_rate_prev_prev'] = 1 + (prev_prev_actual - prev_prev_df['estimated']) / prev_prev_df['estimated']\n",
    "    stocks_df.loc[index, 'earning_rate_prev_prev_prev'] = 1 + (prev_prev_prev_actual - prev_prev_prev_df['estimated']) / prev_prev_prev_df['estimated']"
   ]
  },
  {
   "cell_type": "code",
   "execution_count": 49,
   "id": "6e92da39",
   "metadata": {},
   "outputs": [
    {
     "data": {
      "text/html": [
       "<div>\n",
       "<style scoped>\n",
       "    .dataframe tbody tr th:only-of-type {\n",
       "        vertical-align: middle;\n",
       "    }\n",
       "\n",
       "    .dataframe tbody tr th {\n",
       "        vertical-align: top;\n",
       "    }\n",
       "\n",
       "    .dataframe thead th {\n",
       "        text-align: right;\n",
       "    }\n",
       "</style>\n",
       "<table border=\"1\" class=\"dataframe\">\n",
       "  <thead>\n",
       "    <tr style=\"text-align: right;\">\n",
       "      <th></th>\n",
       "      <th>symbol</th>\n",
       "      <th>date</th>\n",
       "      <th>year</th>\n",
       "      <th>month</th>\n",
       "      <th>day</th>\n",
       "      <th>actual</th>\n",
       "      <th>estimated</th>\n",
       "      <th>earning_rate</th>\n",
       "      <th>earning_growth</th>\n",
       "      <th>earning_growth_prev</th>\n",
       "      <th>earning_growth_prev_prev</th>\n",
       "      <th>earning_rate_prev</th>\n",
       "      <th>earning_rate_prev_prev</th>\n",
       "      <th>earning_rate_prev_prev_prev</th>\n",
       "      <th>pegr</th>\n",
       "    </tr>\n",
       "  </thead>\n",
       "  <tbody>\n",
       "    <tr>\n",
       "      <th>0</th>\n",
       "      <td>A</td>\n",
       "      <td>2024-11-25</td>\n",
       "      <td>2024</td>\n",
       "      <td>11</td>\n",
       "      <td>25</td>\n",
       "      <td>1.46000</td>\n",
       "      <td>1.41000</td>\n",
       "      <td>1.035461</td>\n",
       "      <td>1.106061</td>\n",
       "      <td>1.081967</td>\n",
       "      <td>0.945736</td>\n",
       "      <td>1.047619</td>\n",
       "      <td>1.025210</td>\n",
       "      <td>1.057377</td>\n",
       "      <td>-1.908962</td>\n",
       "    </tr>\n",
       "    <tr>\n",
       "      <th>1</th>\n",
       "      <td>A</td>\n",
       "      <td>2024-08-21</td>\n",
       "      <td>2024</td>\n",
       "      <td>8</td>\n",
       "      <td>21</td>\n",
       "      <td>1.32000</td>\n",
       "      <td>1.26000</td>\n",
       "      <td>1.047619</td>\n",
       "      <td>1.081967</td>\n",
       "      <td>0.945736</td>\n",
       "      <td>0.934783</td>\n",
       "      <td>1.025210</td>\n",
       "      <td>1.057377</td>\n",
       "      <td>1.029851</td>\n",
       "      <td>-4.417107</td>\n",
       "    </tr>\n",
       "    <tr>\n",
       "      <th>2</th>\n",
       "      <td>A</td>\n",
       "      <td>2024-05-29</td>\n",
       "      <td>2024</td>\n",
       "      <td>5</td>\n",
       "      <td>29</td>\n",
       "      <td>1.22000</td>\n",
       "      <td>1.19000</td>\n",
       "      <td>1.025210</td>\n",
       "      <td>0.945736</td>\n",
       "      <td>0.934783</td>\n",
       "      <td>0.965035</td>\n",
       "      <td>1.057377</td>\n",
       "      <td>1.029851</td>\n",
       "      <td>1.043796</td>\n",
       "      <td>-0.927183</td>\n",
       "    </tr>\n",
       "    <tr>\n",
       "      <th>3</th>\n",
       "      <td>A</td>\n",
       "      <td>2024-02-27</td>\n",
       "      <td>2024</td>\n",
       "      <td>2</td>\n",
       "      <td>27</td>\n",
       "      <td>1.29000</td>\n",
       "      <td>1.22000</td>\n",
       "      <td>1.057377</td>\n",
       "      <td>0.934783</td>\n",
       "      <td>0.965035</td>\n",
       "      <td>1.125984</td>\n",
       "      <td>1.029851</td>\n",
       "      <td>1.043796</td>\n",
       "      <td>1.007937</td>\n",
       "      <td>0.449390</td>\n",
       "    </tr>\n",
       "    <tr>\n",
       "      <th>4</th>\n",
       "      <td>A</td>\n",
       "      <td>2023-11-20</td>\n",
       "      <td>2023</td>\n",
       "      <td>11</td>\n",
       "      <td>20</td>\n",
       "      <td>1.38000</td>\n",
       "      <td>1.34000</td>\n",
       "      <td>1.029851</td>\n",
       "      <td>0.965035</td>\n",
       "      <td>1.125984</td>\n",
       "      <td>0.927007</td>\n",
       "      <td>1.043796</td>\n",
       "      <td>1.007937</td>\n",
       "      <td>1.053846</td>\n",
       "      <td>1.846951</td>\n",
       "    </tr>\n",
       "    <tr>\n",
       "      <th>...</th>\n",
       "      <td>...</td>\n",
       "      <td>...</td>\n",
       "      <td>...</td>\n",
       "      <td>...</td>\n",
       "      <td>...</td>\n",
       "      <td>...</td>\n",
       "      <td>...</td>\n",
       "      <td>...</td>\n",
       "      <td>...</td>\n",
       "      <td>...</td>\n",
       "      <td>...</td>\n",
       "      <td>...</td>\n",
       "      <td>...</td>\n",
       "      <td>...</td>\n",
       "      <td>...</td>\n",
       "    </tr>\n",
       "    <tr>\n",
       "      <th>282419</th>\n",
       "      <td>ZYXI</td>\n",
       "      <td>2013-05-08</td>\n",
       "      <td>2013</td>\n",
       "      <td>5</td>\n",
       "      <td>8</td>\n",
       "      <td>-0.01000</td>\n",
       "      <td>-0.00333</td>\n",
       "      <td>3.003003</td>\n",
       "      <td>-1.000000</td>\n",
       "      <td>1.000000</td>\n",
       "      <td>0.500000</td>\n",
       "      <td>0.500000</td>\n",
       "      <td>0.500000</td>\n",
       "      <td>1.000000</td>\n",
       "      <td>0.117852</td>\n",
       "    </tr>\n",
       "    <tr>\n",
       "      <th>282420</th>\n",
       "      <td>ZYXI</td>\n",
       "      <td>2013-03-14</td>\n",
       "      <td>2013</td>\n",
       "      <td>3</td>\n",
       "      <td>14</td>\n",
       "      <td>0.01000</td>\n",
       "      <td>0.02000</td>\n",
       "      <td>0.500000</td>\n",
       "      <td>1.000000</td>\n",
       "      <td>0.500000</td>\n",
       "      <td>-6.134969</td>\n",
       "      <td>0.500000</td>\n",
       "      <td>1.000000</td>\n",
       "      <td>2.202703</td>\n",
       "      <td>3.421349</td>\n",
       "    </tr>\n",
       "    <tr>\n",
       "      <th>282421</th>\n",
       "      <td>ZYXI</td>\n",
       "      <td>2012-11-07</td>\n",
       "      <td>2012</td>\n",
       "      <td>11</td>\n",
       "      <td>7</td>\n",
       "      <td>0.01000</td>\n",
       "      <td>0.02000</td>\n",
       "      <td>0.500000</td>\n",
       "      <td>0.500000</td>\n",
       "      <td>-6.134969</td>\n",
       "      <td>NaN</td>\n",
       "      <td>1.000000</td>\n",
       "      <td>2.202703</td>\n",
       "      <td>NaN</td>\n",
       "      <td>-0.836161</td>\n",
       "    </tr>\n",
       "    <tr>\n",
       "      <th>282422</th>\n",
       "      <td>ZYXI</td>\n",
       "      <td>2011-08-03</td>\n",
       "      <td>2011</td>\n",
       "      <td>8</td>\n",
       "      <td>3</td>\n",
       "      <td>0.02000</td>\n",
       "      <td>0.02000</td>\n",
       "      <td>1.000000</td>\n",
       "      <td>-6.134969</td>\n",
       "      <td>NaN</td>\n",
       "      <td>NaN</td>\n",
       "      <td>2.202703</td>\n",
       "      <td>NaN</td>\n",
       "      <td>NaN</td>\n",
       "      <td>-0.562763</td>\n",
       "    </tr>\n",
       "    <tr>\n",
       "      <th>282423</th>\n",
       "      <td>ZYXI</td>\n",
       "      <td>2011-05-05</td>\n",
       "      <td>2011</td>\n",
       "      <td>5</td>\n",
       "      <td>5</td>\n",
       "      <td>-0.00326</td>\n",
       "      <td>-0.00148</td>\n",
       "      <td>2.202703</td>\n",
       "      <td>NaN</td>\n",
       "      <td>NaN</td>\n",
       "      <td>NaN</td>\n",
       "      <td>NaN</td>\n",
       "      <td>NaN</td>\n",
       "      <td>NaN</td>\n",
       "      <td>0.081125</td>\n",
       "    </tr>\n",
       "  </tbody>\n",
       "</table>\n",
       "<p>282424 rows × 15 columns</p>\n",
       "</div>"
      ],
      "text/plain": [
       "       symbol       date  year  month  day   actual  estimated  earning_rate  \\\n",
       "0           A 2024-11-25  2024     11   25  1.46000    1.41000      1.035461   \n",
       "1           A 2024-08-21  2024      8   21  1.32000    1.26000      1.047619   \n",
       "2           A 2024-05-29  2024      5   29  1.22000    1.19000      1.025210   \n",
       "3           A 2024-02-27  2024      2   27  1.29000    1.22000      1.057377   \n",
       "4           A 2023-11-20  2023     11   20  1.38000    1.34000      1.029851   \n",
       "...       ...        ...   ...    ...  ...      ...        ...           ...   \n",
       "282419   ZYXI 2013-05-08  2013      5    8 -0.01000   -0.00333      3.003003   \n",
       "282420   ZYXI 2013-03-14  2013      3   14  0.01000    0.02000      0.500000   \n",
       "282421   ZYXI 2012-11-07  2012     11    7  0.01000    0.02000      0.500000   \n",
       "282422   ZYXI 2011-08-03  2011      8    3  0.02000    0.02000      1.000000   \n",
       "282423   ZYXI 2011-05-05  2011      5    5 -0.00326   -0.00148      2.202703   \n",
       "\n",
       "        earning_growth  earning_growth_prev  earning_growth_prev_prev  \\\n",
       "0             1.106061             1.081967                  0.945736   \n",
       "1             1.081967             0.945736                  0.934783   \n",
       "2             0.945736             0.934783                  0.965035   \n",
       "3             0.934783             0.965035                  1.125984   \n",
       "4             0.965035             1.125984                  0.927007   \n",
       "...                ...                  ...                       ...   \n",
       "282419       -1.000000             1.000000                  0.500000   \n",
       "282420        1.000000             0.500000                 -6.134969   \n",
       "282421        0.500000            -6.134969                       NaN   \n",
       "282422       -6.134969                  NaN                       NaN   \n",
       "282423             NaN                  NaN                       NaN   \n",
       "\n",
       "        earning_rate_prev  earning_rate_prev_prev  \\\n",
       "0                1.047619                1.025210   \n",
       "1                1.025210                1.057377   \n",
       "2                1.057377                1.029851   \n",
       "3                1.029851                1.043796   \n",
       "4                1.043796                1.007937   \n",
       "...                   ...                     ...   \n",
       "282419           0.500000                0.500000   \n",
       "282420           0.500000                1.000000   \n",
       "282421           1.000000                2.202703   \n",
       "282422           2.202703                     NaN   \n",
       "282423                NaN                     NaN   \n",
       "\n",
       "        earning_rate_prev_prev_prev      pegr  \n",
       "0                          1.057377 -1.908962  \n",
       "1                          1.029851 -4.417107  \n",
       "2                          1.043796 -0.927183  \n",
       "3                          1.007937  0.449390  \n",
       "4                          1.053846  1.846951  \n",
       "...                             ...       ...  \n",
       "282419                     1.000000  0.117852  \n",
       "282420                     2.202703  3.421349  \n",
       "282421                          NaN -0.836161  \n",
       "282422                          NaN -0.562763  \n",
       "282423                          NaN  0.081125  \n",
       "\n",
       "[282424 rows x 15 columns]"
      ]
     },
     "execution_count": 49,
     "metadata": {},
     "output_type": "execute_result"
    }
   ],
   "source": [
    "stocks_df['date'] = pd.to_datetime(stocks_df['date'])\n",
    "stocks_df"
   ]
  },
  {
   "cell_type": "code",
   "execution_count": 70,
   "id": "7e3b0bb8",
   "metadata": {},
   "outputs": [
    {
     "name": "stdout",
     "output_type": "stream",
     "text": [
      "2020 3 - 5 from 66 / 2832\n"
     ]
    },
    {
     "name": "stderr",
     "output_type": "stream",
     "text": [
      "/var/folders/d9/3tp2f4s97kn5_bdphqnnqfjw0000gn/T/ipykernel_93489/654040892.py:2: DeprecationWarning: cafile, capath and cadefault are deprecated, use a custom context instead.\n",
      "  response = urlopen(url, cafile=certifi.where())\n"
     ]
    },
    {
     "name": "stdout",
     "output_type": "stream",
     "text": [
      "PIPR 64.54 51.61 0.7996591261233343\n",
      "SYNA 69.709999 63.720001 0.9140726138871413\n",
      "MTH 63.84 68.04 1.0657894736842106\n",
      "AMSF 46.97 42.34 0.9014264424100491\n",
      "CRTO 12.34 10.25 0.8306320907617504\n",
      "LEN 58.8 56.93 0.9681972789115647\n",
      "0.9132961709630085\n",
      "2020 6 - 8 from 23 / 3689\n"
     ]
    },
    {
     "name": "stderr",
     "output_type": "stream",
     "text": [
      "/var/folders/d9/3tp2f4s97kn5_bdphqnnqfjw0000gn/T/ipykernel_93489/654040892.py:2: DeprecationWarning: cafile, capath and cadefault are deprecated, use a custom context instead.\n",
      "  response = urlopen(url, cafile=certifi.where())\n"
     ]
    },
    {
     "name": "stdout",
     "output_type": "stream",
     "text": [
      "PFSI 32.36 50.02 1.5457354758961683\n",
      "SFM 25.48 23.35 0.9164050235478807\n",
      "VRTX 286.640015 279.119995 0.9737649329944391\n",
      "GHC 341.62 409.4 1.1984075873777882\n",
      "GLDD 9.32 9.37 1.0053648068669527\n",
      "DG 181.47 191.68 1.0562627431531384\n",
      "1.115990094972728\n",
      "2020 9 - 11 from 57 / 3759\n"
     ]
    },
    {
     "name": "stderr",
     "output_type": "stream",
     "text": [
      "/var/folders/d9/3tp2f4s97kn5_bdphqnnqfjw0000gn/T/ipykernel_93489/654040892.py:2: DeprecationWarning: cafile, capath and cadefault are deprecated, use a custom context instead.\n",
      "  response = urlopen(url, cafile=certifi.where())\n"
     ]
    },
    {
     "name": "stdout",
     "output_type": "stream",
     "text": [
      "POOL 315.75 331.84 1.0509580364212192\n",
      "HUM 401.97 388.69 0.9669627086598501\n",
      "MODV 92.17 135.79 1.4732559401106649\n",
      "MUSA 134.37 125.64 0.9350301406563964\n",
      "LOW 155.38 144.97 0.9330029604839748\n",
      "GTS 18.87 22.41 1.1875993640699523\n",
      "1.091134858400343\n",
      "2020 12 - 14 from 175 / 3822\n"
     ]
    },
    {
     "name": "stderr",
     "output_type": "stream",
     "text": [
      "/var/folders/d9/3tp2f4s97kn5_bdphqnnqfjw0000gn/T/ipykernel_93489/654040892.py:2: DeprecationWarning: cafile, capath and cadefault are deprecated, use a custom context instead.\n",
      "  response = urlopen(url, cafile=certifi.where())\n"
     ]
    },
    {
     "name": "stdout",
     "output_type": "stream",
     "text": [
      "QDEL 188.949997 164.259995 0.8693304980576422\n",
      "DGX 116.08 107.24 0.9238456237077877\n",
      "BCC 32.64 38.16 1.1691176470588234\n",
      "GPI 120.99 148.55 1.227787420447971\n",
      "FBC 36.15 43.39 1.200276625172891\n",
      "HOLX 69.629997 72.089996 1.0353295864711871\n",
      "1.070947900152717\n",
      "2021 3 - 5 from 232 / 2875\n"
     ]
    },
    {
     "name": "stderr",
     "output_type": "stream",
     "text": [
      "/var/folders/d9/3tp2f4s97kn5_bdphqnnqfjw0000gn/T/ipykernel_93489/654040892.py:2: DeprecationWarning: cafile, capath and cadefault are deprecated, use a custom context instead.\n",
      "  response = urlopen(url, cafile=certifi.where())\n"
     ]
    },
    {
     "name": "stdout",
     "output_type": "stream",
     "text": [
      "SCU 19.35 23.97 1.2387596899224804\n",
      "LGIH 112.629997 180.809998 1.6053449597446052\n",
      "ALL 98.93 124.08 1.254220155665622\n",
      "NXST 129.46 137.03 1.0584736598177042\n",
      "PKI 129.163391 144.523682 1.1189213977821317\n",
      "UMBF 82.19 90.85 1.1053656162550187\n",
      "1.230180913197927\n",
      "2021 6 - 8 from 181 / 4106\n"
     ]
    },
    {
     "name": "stderr",
     "output_type": "stream",
     "text": [
      "/var/folders/d9/3tp2f4s97kn5_bdphqnnqfjw0000gn/T/ipykernel_93489/654040892.py:2: DeprecationWarning: cafile, capath and cadefault are deprecated, use a custom context instead.\n",
      "  response = urlopen(url, cafile=certifi.where())\n"
     ]
    },
    {
     "name": "stdout",
     "output_type": "stream",
     "text": [
      "WRLD 163.199997 189.869995 1.1634191083961845\n",
      "GHC 651.65 596.48 0.915337988183841\n",
      "ASR 162.53 160.35 0.9865870916138558\n",
      "NEP 52.29 61.48 1.175750621533754\n",
      "C 69.63 63.25 0.9083728278041074\n",
      "CTRN 82.019997 86.139999 1.0502316770384665\n",
      "1.0332832190950347\n",
      "2021 9 - 11 from 202 / 4222\n"
     ]
    },
    {
     "name": "stderr",
     "output_type": "stream",
     "text": [
      "/var/folders/d9/3tp2f4s97kn5_bdphqnnqfjw0000gn/T/ipykernel_93489/654040892.py:2: DeprecationWarning: cafile, capath and cadefault are deprecated, use a custom context instead.\n",
      "  response = urlopen(url, cafile=certifi.where())\n"
     ]
    },
    {
     "name": "stdout",
     "output_type": "stream",
     "text": [
      "WIRE 84.88 140.27 1.6525683317624884\n",
      "POOL 473.44 534.88 1.1297735721527542\n",
      "BCC 45.51 53.82 1.1825972313777193\n",
      "BXC 57.509998 70.540001 1.2265693523411356\n",
      "WSO 255.28 268.92 1.0534315261673457\n",
      "LYB 80.06 72.22 0.9020734449163127\n",
      "1.1911689097862925\n",
      "2021 12 - 14 from 178 / 4388\n"
     ]
    },
    {
     "name": "stderr",
     "output_type": "stream",
     "text": [
      "/var/folders/d9/3tp2f4s97kn5_bdphqnnqfjw0000gn/T/ipykernel_93489/654040892.py:2: DeprecationWarning: cafile, capath and cadefault are deprecated, use a custom context instead.\n",
      "  response = urlopen(url, cafile=certifi.where())\n"
     ]
    },
    {
     "name": "stdout",
     "output_type": "stream",
     "text": [
      "MATX 75.58 106.63 1.4108229690394283\n",
      "ZIM 21.42 29.5 1.377217553688142\n",
      "PVAC 'historical'\n",
      "X 21.87 26.7 1.2208504801097393\n",
      "EVRG 55.65 55.01 0.9884995507637017\n",
      "GSL 17.55 20.94 1.1931623931623931\n",
      "1.2381105893526807\n",
      "2022 3 - 5 from 110 / 3079\n"
     ]
    },
    {
     "name": "stderr",
     "output_type": "stream",
     "text": [
      "/var/folders/d9/3tp2f4s97kn5_bdphqnnqfjw0000gn/T/ipykernel_93489/654040892.py:2: DeprecationWarning: cafile, capath and cadefault are deprecated, use a custom context instead.\n",
      "  response = urlopen(url, cafile=certifi.where())\n"
     ]
    },
    {
     "name": "stdout",
     "output_type": "stream",
     "text": [
      "EVR 117.05 108.45 0.926527125160188\n",
      "VLO 74.06 120.01 1.620442884147988\n",
      "HLI 94.62 81.52 0.8615514690340308\n",
      "EL 272.93 243.97 0.8938922067929506\n",
      "AFG 106.39 123.88 1.1643951499201053\n",
      "AAWW 80.39 69.71 0.8671476551809926\n",
      "1.0556594150393759\n",
      "2022 6 - 8 from 82 / 4487\n"
     ]
    },
    {
     "name": "stderr",
     "output_type": "stream",
     "text": [
      "/var/folders/d9/3tp2f4s97kn5_bdphqnnqfjw0000gn/T/ipykernel_93489/654040892.py:2: DeprecationWarning: cafile, capath and cadefault are deprecated, use a custom context instead.\n",
      "  response = urlopen(url, cafile=certifi.where())\n"
     ]
    },
    {
     "name": "stdout",
     "output_type": "stream",
     "text": [
      "AKO-B 11.94 11.86 0.9932998324958124\n",
      "LCII 104.76 105.49 1.0069683085147\n",
      "BXC 83.279999 70.099998 0.8417386988681399\n",
      "DAC 76.32 62.67 0.8211477987421385\n",
      "BCC 67.47 53.62 0.7947235808507485\n",
      "PXD 242.91 221.4 0.9114486846980363\n",
      "0.894887817361596\n",
      "2022 9 - 11 from 107 / 4377\n"
     ]
    },
    {
     "name": "stderr",
     "output_type": "stream",
     "text": [
      "/var/folders/d9/3tp2f4s97kn5_bdphqnnqfjw0000gn/T/ipykernel_93489/654040892.py:2: DeprecationWarning: cafile, capath and cadefault are deprecated, use a custom context instead.\n",
      "  response = urlopen(url, cafile=certifi.where())\n"
     ]
    },
    {
     "name": "stdout",
     "output_type": "stream",
     "text": [
      "MPC 92.08 116.64 1.266724587315378\n",
      "TA 55.049999 51.150002 0.9291553665604971\n",
      "CAR 157.3 212.44 1.3505403687221869\n",
      "BLDR 58.759998 63.93 1.0879850608572177\n",
      "OXM 96.51 106.99 1.1085897834421303\n",
      "CEIX 65.39 74.23 1.1351888667992047\n",
      "1.1463640056161024\n",
      "2022 12 - 14 from 98 / 4376\n"
     ]
    },
    {
     "name": "stderr",
     "output_type": "stream",
     "text": [
      "/var/folders/d9/3tp2f4s97kn5_bdphqnnqfjw0000gn/T/ipykernel_93489/654040892.py:2: DeprecationWarning: cafile, capath and cadefault are deprecated, use a custom context instead.\n",
      "  response = urlopen(url, cafile=certifi.where())\n"
     ]
    },
    {
     "name": "stdout",
     "output_type": "stream",
     "text": [
      "PFHC 'historical'\n",
      "PNW 71.09 68.12 0.9582219721479814\n",
      "BZH 14.13 14.91 1.0552016985138004\n",
      "TITN 42.459999 45.790001 1.0784268035427884\n",
      "HRT 12.59 11.02 0.8752978554408261\n",
      "IGT 23.36 24.76 1.0599315068493151\n",
      "1.005415967298942\n",
      "2023 3 - 5 from 67 / 2961\n"
     ]
    },
    {
     "name": "stderr",
     "output_type": "stream",
     "text": [
      "/var/folders/d9/3tp2f4s97kn5_bdphqnnqfjw0000gn/T/ipykernel_93489/654040892.py:2: DeprecationWarning: cafile, capath and cadefault are deprecated, use a custom context instead.\n",
      "  response = urlopen(url, cafile=certifi.where())\n"
     ]
    },
    {
     "name": "stdout",
     "output_type": "stream",
     "text": [
      "SWAV 189.289993 275.089996 1.4532727886994004\n",
      "TNK 42.62 34.13 0.800797747536368\n",
      "H 116.37 106.77 0.9175045114720288\n",
      "DDS 335.03 260.09 0.7763185386383309\n",
      "ATVI 74.911865 79.344048 1.0591653004500687\n",
      "RL 112.6 103.08 0.9154529307282416\n",
      "0.9870853029207396\n",
      "2023 6 - 8 from 43 / 4395\n"
     ]
    },
    {
     "name": "stderr",
     "output_type": "stream",
     "text": [
      "/var/folders/d9/3tp2f4s97kn5_bdphqnnqfjw0000gn/T/ipykernel_93489/654040892.py:2: DeprecationWarning: cafile, capath and cadefault are deprecated, use a custom context instead.\n",
      "  response = urlopen(url, cafile=certifi.where())\n"
     ]
    },
    {
     "name": "stdout",
     "output_type": "stream",
     "text": [
      "IDCC 81.59 85.05 1.042407157739919\n",
      "LW 109.36 95.32 0.8716166788588149\n",
      "PCTY 171.229996 200.5 1.1709396991400969\n",
      "LPG 20.01 22.3 1.1144427786106945\n",
      "ENS 97.99 103.76 1.0588835595468926\n",
      "ANIP 46.419998 64.39 1.387117681478573\n",
      "1.1075679258958318\n",
      "2023 9 - 11 from 79 / 4284\n"
     ]
    },
    {
     "name": "stderr",
     "output_type": "stream",
     "text": [
      "/var/folders/d9/3tp2f4s97kn5_bdphqnnqfjw0000gn/T/ipykernel_93489/654040892.py:2: DeprecationWarning: cafile, capath and cadefault are deprecated, use a custom context instead.\n",
      "  response = urlopen(url, cafile=certifi.where())\n"
     ]
    },
    {
     "name": "stdout",
     "output_type": "stream",
     "text": [
      "CARS 18.74 18.62 0.9935965848452509\n",
      "TX 37.98 36.51 0.9612954186413902\n",
      "POWL 83.84 82.67 0.9860448473282443\n",
      "OC 144.02 133.6 0.9276489376475489\n",
      "BVH 35.43 74.32 2.0976573525261077\n",
      "PLAY 39.7 41.04 1.0337531486146094\n",
      "1.166666048267192\n",
      "2023 12 - 14 from 135 / 4213\n"
     ]
    },
    {
     "name": "stderr",
     "output_type": "stream",
     "text": [
      "/var/folders/d9/3tp2f4s97kn5_bdphqnnqfjw0000gn/T/ipykernel_93489/654040892.py:2: DeprecationWarning: cafile, capath and cadefault are deprecated, use a custom context instead.\n",
      "  response = urlopen(url, cafile=certifi.where())\n"
     ]
    },
    {
     "name": "stdout",
     "output_type": "stream",
     "text": [
      "CAR 185.95 108.04 0.5810164022586717\n",
      "QRVO 97.42 114.55 1.175836583863683\n",
      "DINO 52.21 53.79 1.030262401838728\n",
      "ABNB 135.02 157.47 1.1662716634572654\n",
      "COOP 62.71 71.28 1.1366608196459895\n",
      "CCS 74.08 85.56 1.1549676025917928\n",
      "1.0408359122760216\n",
      "2024 3 - 5 from 76 / 3094\n"
     ]
    },
    {
     "name": "stderr",
     "output_type": "stream",
     "text": [
      "/var/folders/d9/3tp2f4s97kn5_bdphqnnqfjw0000gn/T/ipykernel_93489/654040892.py:2: DeprecationWarning: cafile, capath and cadefault are deprecated, use a custom context instead.\n",
      "  response = urlopen(url, cafile=certifi.where())\n"
     ]
    },
    {
     "name": "stdout",
     "output_type": "stream",
     "text": [
      "DECK 150.55 182.32 1.2110262371305214\n",
      "PIPR 187.29 210.86 1.125847615996583\n",
      "HCI 98.28 95.14 0.968050468050468\n",
      "HII 287.65 250.23 0.8699113505996872\n",
      "BBWI 44.92 51.08 1.13713268032057\n",
      "SPLK 156.16 156.9 1.0047387295081969\n",
      "1.0527845136010043\n",
      "2024 6 - 8 from 38 / 4198\n"
     ]
    },
    {
     "name": "stderr",
     "output_type": "stream",
     "text": [
      "/var/folders/d9/3tp2f4s97kn5_bdphqnnqfjw0000gn/T/ipykernel_93489/654040892.py:2: DeprecationWarning: cafile, capath and cadefault are deprecated, use a custom context instead.\n",
      "  response = urlopen(url, cafile=certifi.where())\n"
     ]
    },
    {
     "name": "stdout",
     "output_type": "stream",
     "text": [
      "ZBRA 307.63 345.38 1.1227123492507234\n",
      "PGR 209.2 252.1 1.2050669216061185\n",
      "MEDP 389.41 355.27 0.9123289078349297\n",
      "THC 133.69 165.84 1.2404817114219464\n",
      "SWAV 'historical'\n",
      "RLI 139.53 150.43 1.0781194008456962\n",
      "1.1117418581918828\n",
      "2024 9 - 11 from 60 / 4077\n"
     ]
    },
    {
     "name": "stderr",
     "output_type": "stream",
     "text": [
      "/var/folders/d9/3tp2f4s97kn5_bdphqnnqfjw0000gn/T/ipykernel_93489/654040892.py:2: DeprecationWarning: cafile, capath and cadefault are deprecated, use a custom context instead.\n",
      "  response = urlopen(url, cafile=certifi.where())\n"
     ]
    },
    {
     "name": "stdout",
     "output_type": "stream",
     "text": [
      "RCL 159.28 244.06 1.5322702159718733\n",
      "OCN 'historical'\n",
      "PPC 45.81 51.61 1.1266099104998908\n",
      "FTDR 47.69 58.6 1.2287691339903544\n",
      "POWL 152.48 267.38 1.7535414480587619\n",
      "IDCC 134.88 195.96 1.452846975088968\n",
      "1.4188075367219697\n"
     ]
    }
   ],
   "source": [
    "years = range(2020, 2025)\n",
    "months = (3, 6, 9, 12)\n",
    "\n",
    "now = datetime.now()\n",
    "\n",
    "total_earn_rates = []\n",
    "\n",
    "for year in years:\n",
    "    for month in months:\n",
    "        if year == now.year and month >= now.month: break\n",
    "            \n",
    "        stock_start_date = pd.to_datetime(f\"{year}-{month}-1\") - pd.DateOffset(months=3)\n",
    "        stock_end_date = pd.to_datetime(f\"{year}-{month}-1\") - pd.Timedelta(1, unit='d')\n",
    "        \n",
    "        quarter_stocks_df = stocks_df[\n",
    "            stocks_df['date'].between(stock_start_date, stock_end_date)\n",
    "        ].drop_duplicates(subset='symbol')\n",
    "        earning_stocks_df = quarter_stocks_df.query(\n",
    "#             'pegr < 0.5 and '\n",
    "            'earning_rate > 1.1 and ' + \n",
    "            'earning_rate_prev > 1 and ' +\n",
    "            'earning_rate_prev_prev > 1 and ' +\n",
    "#             'earning_rate_prev_prev_prev > 1 and ' +\n",
    "            'earning_growth > 1.1 and ' +\n",
    "            'earning_growth_prev > 1.1 and '+\n",
    "#             'earning_growth_prev_prev > 1 and '+\n",
    "            'actual > 0'\n",
    "        )\n",
    "        selected_stocks_df = corps_total_rank_by_standard_columns(earning_stocks_df, {\n",
    "            'actual': False,\n",
    "#             'earning_rate': False,\n",
    "            'earning_growth' : False,\n",
    "#             'earning_rate_prev': False,\n",
    "#             'earning_growth_prev': False,\n",
    "#             'earning_rate_prev_prev' : False\n",
    "        }).head(6)\n",
    "        \n",
    "        print(year, f\"{month} - {month + 2}\", f\"from {len(earning_stocks_df)} / {len(quarter_stocks_df)}\")\n",
    "        \n",
    "        earn_rates = []\n",
    "        \n",
    "        price_from_date = f\"{year}-{str(month).zfill(2)}-01\"\n",
    "        price_to_date = pd.to_datetime(price_from_date) + pd.DateOffset(months=3) - pd.Timedelta(1, unit='d')\n",
    "        price_to_date = price_to_date.strftime('%Y-%m-%d')\n",
    "        \n",
    "        for ticker in selected_stocks_df['symbol']:\n",
    "            try:\n",
    "                historical_price = pd.DataFrame(\n",
    "                    get_jsonparsed_data(HISTORICAL_PRICE_URL % (ticker, price_from_date, price_to_date))['historical']\n",
    "                )\n",
    "                from_price = historical_price.iloc[-1]['adjClose']\n",
    "                to_price = historical_price.iloc[0]['adjClose']\n",
    "                \n",
    "                earn_rate = 1 + (to_price - from_price) / from_price\n",
    "                earn_rates.append(earn_rate)\n",
    "\n",
    "                print(ticker, from_price, to_price, earn_rate)\n",
    "            except Exception as e:\n",
    "                print(ticker, e)\n",
    "                None\n",
    "        \n",
    "        earn_rate = sum(earn_rates, 0.0) / len(earn_rates)\n",
    "        total_earn_rates.append(earn_rate)\n",
    "        print(earn_rate)"
   ]
  },
  {
   "cell_type": "code",
   "execution_count": 71,
   "id": "1c6408d0",
   "metadata": {},
   "outputs": [
    {
     "data": {
      "text/plain": [
       "5.3594652090918125"
      ]
     },
     "execution_count": 71,
     "metadata": {},
     "output_type": "execute_result"
    }
   ],
   "source": [
    "reduce(mul, total_earn_rates)"
   ]
  },
  {
   "cell_type": "code",
   "execution_count": null,
   "id": "d9000d44",
   "metadata": {},
   "outputs": [],
   "source": []
  }
 ],
 "metadata": {
  "kernelspec": {
   "display_name": "Python 3 (ipykernel)",
   "language": "python",
   "name": "python3"
  },
  "language_info": {
   "codemirror_mode": {
    "name": "ipython",
    "version": 3
   },
   "file_extension": ".py",
   "mimetype": "text/x-python",
   "name": "python",
   "nbconvert_exporter": "python",
   "pygments_lexer": "ipython3",
   "version": "3.11.5"
  }
 },
 "nbformat": 4,
 "nbformat_minor": 5
}
